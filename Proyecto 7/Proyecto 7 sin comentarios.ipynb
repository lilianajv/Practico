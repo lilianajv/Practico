{
 "cells": [
  {
   "cell_type": "markdown",
   "metadata": {},
   "source": [
    "# Cuál plan conviene más?\n",
    "\n",
    "Megaline es una empresa de telefonía que quiere desarrollar un modelo que pueda analizar el comportamiento de los clientes y recomendar uno de sus planes."
   ]
  },
  {
   "cell_type": "markdown",
   "metadata": {},
   "source": [
    "# Contents \n",
    "\n",
    "* [Introducción](#introducción)\n",
    "* [1. Inicialización](#inicializacion)\n",
    "    * [1.1 Revisión de datos ausentes y duplicados](#ausentes)\n",
    "    \n",
    "* [2. Selección de Features y Target](#features)\n",
    "* [3. Segmentación de datos](#segmentacion)\n",
    "* [4. Modelos](#modelos)\n",
    "    * [4.1 Modelo Decision Tree Classifier](#dtc)\n",
    "    * [4.2 Modelo Random Forest Classifier](#rfc)\n",
    "    * [4.3 Modelo Logistic Regression](#lr)\n",
    "    * [4.4 Comparativa de modelos](#comparativo)\n",
    "* [5. Evaluación de Modelos](#evaluacion)\n",
    "* [6. Prueba de Cordura](#sanity)\n",
    "* [7. Conclusiones](#Conclusiones)"
   ]
  },
  {
   "cell_type": "markdown",
   "metadata": {},
   "source": [
    "<div id=\"introducción\"/>\n",
    "\n",
    "# Introducción\n",
    "\n",
    "En este proyecto se busca realizar una tarea de clasificación binaria para crear el mejor modelo (mayor exactitud posible) que determine cual es el plan de comunicación correcto (Ultimate o Surf) a publicitar."
   ]
  },
  {
   "cell_type": "markdown",
   "metadata": {},
   "source": [
    "<div id=\"inicializacion\"/>\n",
    "\n",
    "## Inicialización"
   ]
  },
  {
   "cell_type": "code",
   "execution_count": 31,
   "metadata": {},
   "outputs": [],
   "source": [
    "#Importación de las librerias\n",
    "import pandas as pd\n",
    "import matplotlib.pyplot as plt\n",
    "from sklearn.model_selection import train_test_split\n",
    "from sklearn.ensemble import RandomForestClassifier\n",
    "from sklearn.ensemble import RandomForestRegressor\n",
    "from sklearn.linear_model import LogisticRegression\n",
    "from sklearn.tree import DecisionTreeClassifier\n",
    "from joblib import dump\n",
    "from sklearn.metrics import accuracy_score\n",
    "from sklearn.dummy import DummyClassifier\n",
    "import warnings\n",
    "warnings.filterwarnings('ignore')"
   ]
  },
  {
   "cell_type": "code",
   "execution_count": 32,
   "metadata": {},
   "outputs": [],
   "source": [
    "#carga de datos\n",
    "data = pd.read_csv('/datasets/users_behavior.csv')"
   ]
  },
  {
   "cell_type": "code",
   "execution_count": 33,
   "metadata": {},
   "outputs": [
    {
     "name": "stdout",
     "output_type": "stream",
     "text": [
      "<class 'pandas.core.frame.DataFrame'>\n",
      "RangeIndex: 3214 entries, 0 to 3213\n",
      "Data columns (total 5 columns):\n",
      " #   Column    Non-Null Count  Dtype  \n",
      "---  ------    --------------  -----  \n",
      " 0   calls     3214 non-null   float64\n",
      " 1   minutes   3214 non-null   float64\n",
      " 2   messages  3214 non-null   float64\n",
      " 3   mb_used   3214 non-null   float64\n",
      " 4   is_ultra  3214 non-null   int64  \n",
      "dtypes: float64(4), int64(1)\n",
      "memory usage: 125.7 KB\n"
     ]
    }
   ],
   "source": [
    "# información de los datos\n",
    "data.info()"
   ]
  },
  {
   "cell_type": "code",
   "execution_count": 34,
   "metadata": {},
   "outputs": [
    {
     "data": {
      "text/html": [
       "<div>\n",
       "<style scoped>\n",
       "    .dataframe tbody tr th:only-of-type {\n",
       "        vertical-align: middle;\n",
       "    }\n",
       "\n",
       "    .dataframe tbody tr th {\n",
       "        vertical-align: top;\n",
       "    }\n",
       "\n",
       "    .dataframe thead th {\n",
       "        text-align: right;\n",
       "    }\n",
       "</style>\n",
       "<table border=\"1\" class=\"dataframe\">\n",
       "  <thead>\n",
       "    <tr style=\"text-align: right;\">\n",
       "      <th></th>\n",
       "      <th>calls</th>\n",
       "      <th>minutes</th>\n",
       "      <th>messages</th>\n",
       "      <th>mb_used</th>\n",
       "      <th>is_ultra</th>\n",
       "    </tr>\n",
       "  </thead>\n",
       "  <tbody>\n",
       "    <tr>\n",
       "      <th>0</th>\n",
       "      <td>40.0</td>\n",
       "      <td>311.90</td>\n",
       "      <td>83.0</td>\n",
       "      <td>19915.42</td>\n",
       "      <td>0</td>\n",
       "    </tr>\n",
       "    <tr>\n",
       "      <th>1</th>\n",
       "      <td>85.0</td>\n",
       "      <td>516.75</td>\n",
       "      <td>56.0</td>\n",
       "      <td>22696.96</td>\n",
       "      <td>0</td>\n",
       "    </tr>\n",
       "    <tr>\n",
       "      <th>2</th>\n",
       "      <td>77.0</td>\n",
       "      <td>467.66</td>\n",
       "      <td>86.0</td>\n",
       "      <td>21060.45</td>\n",
       "      <td>0</td>\n",
       "    </tr>\n",
       "    <tr>\n",
       "      <th>3</th>\n",
       "      <td>106.0</td>\n",
       "      <td>745.53</td>\n",
       "      <td>81.0</td>\n",
       "      <td>8437.39</td>\n",
       "      <td>1</td>\n",
       "    </tr>\n",
       "    <tr>\n",
       "      <th>4</th>\n",
       "      <td>66.0</td>\n",
       "      <td>418.74</td>\n",
       "      <td>1.0</td>\n",
       "      <td>14502.75</td>\n",
       "      <td>0</td>\n",
       "    </tr>\n",
       "  </tbody>\n",
       "</table>\n",
       "</div>"
      ],
      "text/plain": [
       "   calls  minutes  messages   mb_used  is_ultra\n",
       "0   40.0   311.90      83.0  19915.42         0\n",
       "1   85.0   516.75      56.0  22696.96         0\n",
       "2   77.0   467.66      86.0  21060.45         0\n",
       "3  106.0   745.53      81.0   8437.39         1\n",
       "4   66.0   418.74       1.0  14502.75         0"
      ]
     },
     "execution_count": 34,
     "metadata": {},
     "output_type": "execute_result"
    }
   ],
   "source": [
    "#revisión de los datos\n",
    "data.head()"
   ]
  },
  {
   "cell_type": "code",
   "execution_count": 35,
   "metadata": {},
   "outputs": [
    {
     "data": {
      "text/html": [
       "<div>\n",
       "<style scoped>\n",
       "    .dataframe tbody tr th:only-of-type {\n",
       "        vertical-align: middle;\n",
       "    }\n",
       "\n",
       "    .dataframe tbody tr th {\n",
       "        vertical-align: top;\n",
       "    }\n",
       "\n",
       "    .dataframe thead th {\n",
       "        text-align: right;\n",
       "    }\n",
       "</style>\n",
       "<table border=\"1\" class=\"dataframe\">\n",
       "  <thead>\n",
       "    <tr style=\"text-align: right;\">\n",
       "      <th></th>\n",
       "      <th>calls</th>\n",
       "      <th>minutes</th>\n",
       "      <th>messages</th>\n",
       "      <th>mb_used</th>\n",
       "      <th>is_ultra</th>\n",
       "    </tr>\n",
       "  </thead>\n",
       "  <tbody>\n",
       "    <tr>\n",
       "      <th>count</th>\n",
       "      <td>3214.000000</td>\n",
       "      <td>3214.000000</td>\n",
       "      <td>3214.000000</td>\n",
       "      <td>3214.000000</td>\n",
       "      <td>3214.000000</td>\n",
       "    </tr>\n",
       "    <tr>\n",
       "      <th>mean</th>\n",
       "      <td>63.038892</td>\n",
       "      <td>438.208787</td>\n",
       "      <td>38.281269</td>\n",
       "      <td>17207.673836</td>\n",
       "      <td>0.306472</td>\n",
       "    </tr>\n",
       "    <tr>\n",
       "      <th>std</th>\n",
       "      <td>33.236368</td>\n",
       "      <td>234.569872</td>\n",
       "      <td>36.148326</td>\n",
       "      <td>7570.968246</td>\n",
       "      <td>0.461100</td>\n",
       "    </tr>\n",
       "    <tr>\n",
       "      <th>min</th>\n",
       "      <td>0.000000</td>\n",
       "      <td>0.000000</td>\n",
       "      <td>0.000000</td>\n",
       "      <td>0.000000</td>\n",
       "      <td>0.000000</td>\n",
       "    </tr>\n",
       "    <tr>\n",
       "      <th>25%</th>\n",
       "      <td>40.000000</td>\n",
       "      <td>274.575000</td>\n",
       "      <td>9.000000</td>\n",
       "      <td>12491.902500</td>\n",
       "      <td>0.000000</td>\n",
       "    </tr>\n",
       "    <tr>\n",
       "      <th>50%</th>\n",
       "      <td>62.000000</td>\n",
       "      <td>430.600000</td>\n",
       "      <td>30.000000</td>\n",
       "      <td>16943.235000</td>\n",
       "      <td>0.000000</td>\n",
       "    </tr>\n",
       "    <tr>\n",
       "      <th>75%</th>\n",
       "      <td>82.000000</td>\n",
       "      <td>571.927500</td>\n",
       "      <td>57.000000</td>\n",
       "      <td>21424.700000</td>\n",
       "      <td>1.000000</td>\n",
       "    </tr>\n",
       "    <tr>\n",
       "      <th>max</th>\n",
       "      <td>244.000000</td>\n",
       "      <td>1632.060000</td>\n",
       "      <td>224.000000</td>\n",
       "      <td>49745.730000</td>\n",
       "      <td>1.000000</td>\n",
       "    </tr>\n",
       "  </tbody>\n",
       "</table>\n",
       "</div>"
      ],
      "text/plain": [
       "             calls      minutes     messages       mb_used     is_ultra\n",
       "count  3214.000000  3214.000000  3214.000000   3214.000000  3214.000000\n",
       "mean     63.038892   438.208787    38.281269  17207.673836     0.306472\n",
       "std      33.236368   234.569872    36.148326   7570.968246     0.461100\n",
       "min       0.000000     0.000000     0.000000      0.000000     0.000000\n",
       "25%      40.000000   274.575000     9.000000  12491.902500     0.000000\n",
       "50%      62.000000   430.600000    30.000000  16943.235000     0.000000\n",
       "75%      82.000000   571.927500    57.000000  21424.700000     1.000000\n",
       "max     244.000000  1632.060000   224.000000  49745.730000     1.000000"
      ]
     },
     "execution_count": 35,
     "metadata": {},
     "output_type": "execute_result"
    }
   ],
   "source": [
    "data.describe()"
   ]
  },
  {
   "cell_type": "markdown",
   "metadata": {},
   "source": [
    "De acuerdo a la información estadística se observa que las columnas \"calls\", \"minutes\" y \"mb_used\" tienen la mediana muy cercana a la media, es decir, parecen que estos datos están distribuidos uniformemente, sin embargo, en el caso de \"messages\" la diferencia se hace un poco más marcada, aquí los datos se deben estar distribuyendo con algún sesgo, porbablemente ocasionados por valores atípicos. \n",
    "\n",
    "A continuación daremos un vistazo a la columna \"is_ultra\" que será el target de nuetsro estudio."
   ]
  },
  {
   "cell_type": "code",
   "execution_count": 36,
   "metadata": {},
   "outputs": [
    {
     "data": {
      "text/plain": [
       "<AxesSubplot:title={'center':'distribución de los planes'}>"
      ]
     },
     "execution_count": 36,
     "metadata": {},
     "output_type": "execute_result"
    },
    {
     "data": {
      "image/png": "[encoded data removed]",
      "text/plain": [
       "<Figure size 720x360 with 1 Axes>"
      ]
     },
     "metadata": {
      "needs_background": "light"
     },
     "output_type": "display_data"
    }
   ],
   "source": [
    "data[\"is_ultra\"].value_counts().plot(kind=\"bar\", grid=True, figsize=(10,5), title=\"distribución de los planes\")"
   ]
  },
  {
   "cell_type": "code",
   "execution_count": 37,
   "metadata": {},
   "outputs": [
    {
     "data": {
      "text/plain": [
       "0    0.693528\n",
       "1    0.306472\n",
       "Name: is_ultra, dtype: float64"
      ]
     },
     "execution_count": 37,
     "metadata": {},
     "output_type": "execute_result"
    }
   ],
   "source": [
    "data[\"is_ultra\"].value_counts(normalize=True)"
   ]
  },
  {
   "cell_type": "markdown",
   "metadata": {},
   "source": [
    "La mayor parte de los clientes tienen contratado el plan Surf, aproximadamente el 69%. Este valor nos sirve como punto de partida para al menos exigirle al modelo una exactitud por encima de este valor."
   ]
  },
  {
   "cell_type": "markdown",
   "metadata": {},
   "source": [
    "<div id=\"ausentes\"/>\n",
    "\n",
    "### Revisión de datos ausentes y duplicados"
   ]
  },
  {
   "cell_type": "code",
   "execution_count": 38,
   "metadata": {},
   "outputs": [
    {
     "data": {
      "text/plain": [
       "calls       0\n",
       "minutes     0\n",
       "messages    0\n",
       "mb_used     0\n",
       "is_ultra    0\n",
       "dtype: int64"
      ]
     },
     "execution_count": 38,
     "metadata": {},
     "output_type": "execute_result"
    }
   ],
   "source": [
    "#verificación de valores ausentes\n",
    "data.isna().sum()"
   ]
  },
  {
   "cell_type": "code",
   "execution_count": 39,
   "metadata": {},
   "outputs": [
    {
     "data": {
      "text/plain": [
       "0"
      ]
     },
     "execution_count": 39,
     "metadata": {},
     "output_type": "execute_result"
    }
   ],
   "source": [
    "#verificación de duplicados\n",
    "data.duplicated().sum()"
   ]
  },
  {
   "cell_type": "markdown",
   "metadata": {},
   "source": [
    "Tal como se observa:\n",
    "\n",
    "1. El DataFrame de estudio, consta de 5 columnas: \"calls\", \"minutes\", \"messages\", \"mb_used\" y \"is_ultra\" y 3214 registros.\n",
    "2. El DataFrame no tiene datos ausentes en sus columnas.\n",
    "3. El DataFrame no tiene registros duplicados.\n",
    "4. La columna que será nuestro target es \"is_ultra\" y es del tipo boleana donde 1 será que tienen el plan Ultimate y 0 el plan Surf.\n",
    "5. Las otras 4 columnas son numéricas"
   ]
  },
  {
   "cell_type": "markdown",
   "metadata": {},
   "source": [
    "<div id=\"features\"/>\n",
    "\n",
    "## Selección de Features y Target"
   ]
  },
  {
   "cell_type": "code",
   "execution_count": 40,
   "metadata": {},
   "outputs": [],
   "source": [
    "#selección de las características y del objetivo\n",
    "features = data.drop(\"is_ultra\", axis=1)\n",
    "target = data[\"is_ultra\"]"
   ]
  },
  {
   "cell_type": "markdown",
   "metadata": {},
   "source": [
    "<div id=\"segmentacion\"/>\n",
    "\n",
    "## Segmentación de datos\n",
    "\n",
    "Se realizará la segmentación de la siguiente manera:\n",
    "1. 60% para el modelo de entrenamiento\n",
    "2. Del 40% de los datos totales, se tomará 50% para el modelo de validación y 50% para el modelo de prueba"
   ]
  },
  {
   "cell_type": "code",
   "execution_count": 41,
   "metadata": {},
   "outputs": [],
   "source": [
    "#segmentación de los datos para entrenamiento \n",
    "features_train, features_valid, target_train, target_valid = train_test_split(features, target, test_size=0.40, random_state=12345)"
   ]
  },
  {
   "cell_type": "code",
   "execution_count": 42,
   "metadata": {},
   "outputs": [],
   "source": [
    "#segmentación de datos para validación y prueba\n",
    "features_valid, features_test, target_valid, target_test = train_test_split(features_valid, target_valid, test_size=0.5, random_state=12345)"
   ]
  },
  {
   "cell_type": "code",
   "execution_count": 43,
   "metadata": {},
   "outputs": [
    {
     "name": "stdout",
     "output_type": "stream",
     "text": [
      "(1928, 4)\n",
      "(643, 4)\n",
      "(643, 4)\n",
      "(1928,)\n",
      "(643,)\n",
      "(643,)\n"
     ]
    }
   ],
   "source": [
    "print(features_train.shape)\n",
    "print(features_valid.shape)\n",
    "print(features_test.shape)\n",
    "print(target_train.shape)\n",
    "print(target_valid.shape)\n",
    "print(target_test.shape)"
   ]
  },
  {
   "cell_type": "markdown",
   "metadata": {},
   "source": [
    "<div id=\"modelos\"/>\n",
    "\n",
    "## Modelos\n",
    "\n",
    "En este sección de realizará la evaluación utilizando los siguientes modelos:\n",
    "\n",
    "1. Decision Tree Classifier\n",
    "2. Random Forest Classifier\n",
    "3. Logistic Regression"
   ]
  },
  {
   "cell_type": "markdown",
   "metadata": {},
   "source": [
    "<div id=\"dtc\"/>\n",
    "\n",
    "### Modelo Decision Tree Classifier\n",
    "\n",
    "Se selecciona como hiperparámetro:\n",
    "\n",
    "max_depth = 20, para evaluar 19 ramas de profundidad en el árbol\n"
   ]
  },
  {
   "cell_type": "code",
   "execution_count": 44,
   "metadata": {},
   "outputs": [
    {
     "name": "stdout",
     "output_type": "stream",
     "text": [
      "max_depth =  1 exactitud en modelo de validacion: 0.7542768273716952\n",
      "max_depth =  2 exactitud en modelo de validacion: 0.7822706065318819\n",
      "max_depth =  3 exactitud en modelo de validacion: 0.7853810264385692\n",
      "max_depth =  4 exactitud en modelo de validacion: 0.7791601866251944\n",
      "max_depth =  5 exactitud en modelo de validacion: 0.7791601866251944\n",
      "max_depth =  6 exactitud en modelo de validacion: 0.7838258164852255\n",
      "max_depth =  7 exactitud en modelo de validacion: 0.7822706065318819\n",
      "max_depth =  8 exactitud en modelo de validacion: 0.7791601866251944\n",
      "max_depth =  9 exactitud en modelo de validacion: 0.7822706065318819\n",
      "max_depth =  10 exactitud en modelo de validacion: 0.7744945567651633\n",
      "max_depth =  11 exactitud en modelo de validacion: 0.7620528771384136\n",
      "max_depth =  12 exactitud en modelo de validacion: 0.7620528771384136\n",
      "max_depth =  13 exactitud en modelo de validacion: 0.7558320373250389\n",
      "max_depth =  14 exactitud en modelo de validacion: 0.7589424572317263\n",
      "max_depth =  15 exactitud en modelo de validacion: 0.7465007776049767\n",
      "max_depth =  16 exactitud en modelo de validacion: 0.7340590979782271\n",
      "max_depth =  17 exactitud en modelo de validacion: 0.7356143079315708\n",
      "max_depth =  18 exactitud en modelo de validacion: 0.7309486780715396\n",
      "max_depth =  19 exactitud en modelo de validacion: 0.7278382581648523\n"
     ]
    }
   ],
   "source": [
    "best_model = None\n",
    "best_result_dtc = 0\n",
    "valid_aprox_dtc = []\n",
    "max_depth_range = [i for i in range(1, 20)]\n",
    "for depth in max_depth_range:\n",
    "    model_dtc = DecisionTreeClassifier(random_state=12345, max_depth=depth)\n",
    "    model_dtc.fit(features_train, target_train)\n",
    "    \n",
    "      \n",
    "    #predicción con datos de validación\n",
    "    prediction_dtc_valid = model_dtc.predict(features_valid)\n",
    "    result_dtc_valid = accuracy_score(target_valid, prediction_dtc_valid)\n",
    "    valid_aprox_dtc.append(result_dtc_valid)\n",
    "    \n",
    "    if result_dtc_valid > best_result_dtc:\n",
    "        best_model = model_dtc\n",
    "        best_result_dtc = result_dtc_valid\n",
    "        i = depth\n",
    "    print(\"max_depth = \", depth , \"exactitud en modelo de validacion:\", result_dtc_valid)\n",
    "    "
   ]
  },
  {
   "cell_type": "code",
   "execution_count": 45,
   "metadata": {},
   "outputs": [
    {
     "name": "stdout",
     "output_type": "stream",
     "text": [
      "La mayor exactitud lograda es de: 0.7853810264385692 en la profundidad de: 3\n"
     ]
    }
   ],
   "source": [
    "print(\"La mayor exactitud lograda es de:\", best_result_dtc, \"en la profundidad de:\", i)"
   ]
  },
  {
   "cell_type": "code",
   "execution_count": 46,
   "metadata": {},
   "outputs": [
    {
     "data": {
      "image/png": "[encoded data removed]",
      "text/plain": [
       "<Figure size 720x360 with 1 Axes>"
      ]
     },
     "metadata": {
      "needs_background": "light"
     },
     "output_type": "display_data"
    }
   ],
   "source": [
    "plt.figure(figsize=(10,5))\n",
    "plt.plot(max_depth_range, valid_aprox_dtc, '-o', color = \"red\", label = \"Modelo de validación\", alpha = 0.5)\n",
    "plt.title(\"Exactitud vs profundidad del árbol, modelo Decision Tree Classfifier\")\n",
    "plt.xlabel(\"Max depth\")\n",
    "plt.ylabel(\"Exactitud\")\n",
    "plt.legend()\n",
    "plt.show()"
   ]
  },
  {
   "cell_type": "markdown",
   "metadata": {},
   "source": [
    "Analizando los resultados se observa que a medida que la profundidad crece la exactitud evaluada en el modelo de validación disminuye, ya en la tercera rama se alcanza la mayor exactitud de 78.54%, por lo que se puede ajustar el hiperparámetro a un valor de 4."
   ]
  },
  {
   "cell_type": "markdown",
   "metadata": {},
   "source": [
    "<div id=\"rfc\"/>\n",
    "\n",
    "### Modelo Random Forest Classifier\n",
    "\n",
    "Se considera como hiperparámetro:\n",
    "est = 12"
   ]
  },
  {
   "cell_type": "code",
   "execution_count": 47,
   "metadata": {},
   "outputs": [
    {
     "data": {
      "text/plain": [
       "<matplotlib.legend.Legend at 0x7fa022e8c5e0>"
      ]
     },
     "execution_count": 47,
     "metadata": {},
     "output_type": "execute_result"
    },
    {
     "data": {
      "image/png": "[encoded data removed]",
      "text/plain": [
       "<Figure size 720x360 with 1 Axes>"
      ]
     },
     "metadata": {
      "needs_background": "light"
     },
     "output_type": "display_data"
    }
   ],
   "source": [
    "estimator_range = [i for i in range(1, 51, 9)]\n",
    "#train_aprox_rfc = [] # Log training accuracy scores for the model\n",
    "valid_aprox_rfc = [] \n",
    "depth_list = []\n",
    "best_model = None\n",
    "best_result_rfc = 0\n",
    "i = 0\n",
    "\n",
    "for est in estimator_range:\n",
    "    for depth in range(1,10):\n",
    "        model_rfc = RandomForestClassifier(random_state=12345, n_estimators=est, max_depth=depth)\n",
    "        model_rfc.fit(features_train, target_train)\n",
    "            \n",
    "        # predicción en modelo de validación\n",
    "        prediction_rfc_valid = model_rfc.predict(features_valid)\n",
    "        result_rfc_valid = accuracy_score(target_valid, prediction_rfc_valid)\n",
    "        valid_aprox_rfc.append(result_rfc_valid)\n",
    "        depth_list.append(depth)\n",
    "        \n",
    "        if result_rfc_valid > best_result_rfc:\n",
    "            best_model = model_rfc\n",
    "            best_result_rfc = result_rfc_valid\n",
    "            j = est\n",
    "            k = depth\n",
    "        \n",
    "        \n",
    "plt.figure(figsize=(10,5))\n",
    "\n",
    "plt.plot(depth_list, valid_aprox_rfc, \"o\", label = \"Modelo de validación\", color=\"red\", alpha = 0.5)\n",
    "plt.title(\"Exactitud vs estimadores en el modelo Random Forest Classifier\")\n",
    "plt.xlabel(\"Profundidad\")\n",
    "plt.ylabel(\"Exactitud\")\n",
    "plt.legend()       \n",
    "       "
   ]
  },
  {
   "cell_type": "code",
   "execution_count": 48,
   "metadata": {},
   "outputs": [
    {
     "name": "stdout",
     "output_type": "stream",
     "text": [
      "La mayor exactitud lograda es de: 0.807153965785381 en la estimación: 46 depth: 8\n"
     ]
    }
   ],
   "source": [
    "print(\"La mayor exactitud lograda es de:\", best_result_rfc, \"en la estimación:\", j, \"depth:\", k)"
   ]
  },
  {
   "cell_type": "markdown",
   "metadata": {},
   "source": [
    "De los resultados se desprende que a medida que aumenta el número de estimadores se incrementa la exactitud pero la corrida del modelo se hace más lenta. En la profundidad de 8 se observa el mayor valor de exactitud, independiente del estimador."
   ]
  },
  {
   "cell_type": "markdown",
   "metadata": {},
   "source": [
    "<div id=\"lr\"/>\n",
    "\n",
    "### Modelo Logistic Regression"
   ]
  },
  {
   "cell_type": "code",
   "execution_count": 49,
   "metadata": {},
   "outputs": [
    {
     "name": "stdout",
     "output_type": "stream",
     "text": [
      "La exactitud es de: 0.7091757387247278 con el método: liblinear\n",
      "La exactitud es de: 0.7558320373250389 con el método: newton-cg\n",
      "La exactitud es de: 0.7107309486780715 con el método: lbfgs\n",
      "La exactitud es de: 0.7076205287713841 con el método: sag\n",
      "La exactitud es de: 0.7076205287713841 con el método: saga\n"
     ]
    }
   ],
   "source": [
    "solv = ['liblinear','newton-cg', 'lbfgs','sag', 'saga']\n",
    "for element in solv:\n",
    "    model_lr_s = LogisticRegression(random_state=12345, solver=element, max_iter=100000)\n",
    "    model_lr_s.fit(features_train, target_train)\n",
    "    predictions_lr_s = model_lr_s.predict(features_valid)\n",
    "    result_lr_s = accuracy_score(target_valid, predictions_lr_s)\n",
    "    print(\"La exactitud es de:\", result_lr_s, \"con el método:\", element)\n",
    "    "
   ]
  },
  {
   "cell_type": "code",
   "execution_count": 50,
   "metadata": {},
   "outputs": [
    {
     "name": "stdout",
     "output_type": "stream",
     "text": [
      "La exactitud es de: 0.7558320373250389\n"
     ]
    }
   ],
   "source": [
    "model_lr = LogisticRegression(random_state=12345, solver=\"newton-cg\")\n",
    "model_lr.fit(features_train, target_train)\n",
    "predictions_lr = model_lr.predict(features_valid)\n",
    "result_lr = accuracy_score(target_valid, predictions_lr)\n",
    "print(\"La exactitud es de:\", result_lr)"
   ]
  },
  {
   "cell_type": "markdown",
   "metadata": {},
   "source": [
    "Con este modelo se alcanza una exactitud del 71% (muy por debajo de los valores alcanzados con Decision Tree Classifier y Random Forest Classifier) con los solver de liblinear, lbfgs, sag y saga. Utilizando newton_cg se obtuvo el mayor valor de exactitud, sin embargo, continúa siendo menor al obtenido por otros métodos"
   ]
  },
  {
   "cell_type": "markdown",
   "metadata": {},
   "source": [
    "<div id=\"comparativo\"/>\n",
    "\n",
    "### Comparación de Modelos\n",
    "\n",
    "Se procede a realizar una comparación gráfica entre Decision Tree Classifier, Randon Forest Classifier y Logistic Regression"
   ]
  },
  {
   "cell_type": "code",
   "execution_count": 51,
   "metadata": {},
   "outputs": [
    {
     "name": "stdout",
     "output_type": "stream",
     "text": [
      "Exactitud modelo Decision Tree Classifier: 78.53810264385692\n",
      "Exactitud modelo Random Forest Classifier: 80.7153965785381\n",
      "Exactitud modelo Logistic Regression: 75.58320373250389\n"
     ]
    }
   ],
   "source": [
    "print(\"Exactitud modelo Decision Tree Classifier:\", best_result_dtc*100)\n",
    "print(\"Exactitud modelo Random Forest Classifier:\", best_result_rfc*100)\n",
    "print(\"Exactitud modelo Logistic Regression:\", result_lr*100)"
   ]
  },
  {
   "cell_type": "markdown",
   "metadata": {},
   "source": [
    "De acuerdo a los resultados, el modelo que mejor ajuste muestra es Random Forest Classifier con una exactitud de 81% y el que menos se ajusta es el modelo Logistic Regression."
   ]
  },
  {
   "cell_type": "markdown",
   "metadata": {},
   "source": [
    "<div id=\"evaluacion\"/>\n",
    "\n",
    "## Evaluación del Modelo\n",
    "\n",
    "Se procederá a evaluar el modelo de entrenamiento (Random Forest Classifier) en el dataset de prueba y en el dataset general."
   ]
  },
  {
   "cell_type": "code",
   "execution_count": 52,
   "metadata": {},
   "outputs": [
    {
     "name": "stdout",
     "output_type": "stream",
     "text": [
      "Exactitud del modelo Random Forest Classifier en dataset de prueba: 79.62674961119751\n",
      "Exactitud del modelo Random Forest Classifier en dataset completa: 84.50528935905413\n"
     ]
    }
   ],
   "source": [
    "def eval_modelo(f_train, t_train, f, t, f_test, t_test):\n",
    "    model_test = RandomForestClassifier(random_state=12345, n_estimators = 46, max_depth=8)\n",
    "    model_test.fit(f_train, t_train)\n",
    "    predictions_test = model_test.predict(f_test)\n",
    "    result_test = accuracy_score(t_test, predictions_test)\n",
    "    \n",
    "    model_data = RandomForestClassifier(random_state=12345, n_estimators = 46, max_depth=8)\n",
    "    model_data.fit(f_train, t_train)\n",
    "    predictions_data = model_data.predict(f)\n",
    "    result_data = accuracy_score(t, predictions_data)\n",
    "    print(\"Exactitud del modelo Random Forest Classifier en dataset de prueba:\", result_test*100)\n",
    "    print(\"Exactitud del modelo Random Forest Classifier en dataset completa:\", result_data*100)\n",
    "eval_modelo(features_train, target_train, features, target, features_test, target_test)"
   ]
  },
  {
   "cell_type": "markdown",
   "metadata": {},
   "source": [
    "Se observa que evaluando el modelo en el conjunto de datos de prueba la exactitud obtenida es de 80% y al evaluarlo en el dataset completo es de 85%."
   ]
  },
  {
   "cell_type": "markdown",
   "metadata": {},
   "source": [
    "<div id=\"sanity\"/>\n",
    "\n",
    "## Prueba de Cordura (Sanity Check)"
   ]
  },
  {
   "cell_type": "code",
   "execution_count": 53,
   "metadata": {},
   "outputs": [
    {
     "data": {
      "text/plain": [
       "[0.6842923794712286,\n",
       " 0.6842923794712286,\n",
       " 0.5692068429237948,\n",
       " 0.5303265940902022,\n",
       " 0.3157076205287714]"
      ]
     },
     "execution_count": 53,
     "metadata": {},
     "output_type": "execute_result"
    }
   ],
   "source": [
    "strategies = [\"most_frequent\", \"prior\", \"stratified\", \"uniform\", \"constant\"]\n",
    "scores_list = []\n",
    "for element in strategies:\n",
    "    if element != \"constant\":\n",
    "        sanity_check = DummyClassifier(strategy = element,  random_state = 0)\n",
    "        sanity_check.fit(features_train, target_train)\n",
    "        result = sanity_check.score(features_test, target_test)\n",
    "    else:\n",
    "        sanity_check = DummyClassifier(strategy = element, random_state = 0, constant =1)\n",
    "        sanity_check.fit(features_train, target_train)\n",
    "        result = sanity_check.score(features_test, target_test)\n",
    "\n",
    "    scores_list.append(result)\n",
    "scores_list"
   ]
  },
  {
   "cell_type": "markdown",
   "metadata": {},
   "source": [
    "Los resultados obtenidos con la prueba de cordura son menores a los conseguidos con los modelos de Random Forest Classifier, Decision Tree Classifier y Logistic Regression."
   ]
  },
  {
   "cell_type": "markdown",
   "metadata": {},
   "source": [
    "<div id=\"conclusiones\"/>\n",
    "\n",
    "## Conclusiones\n",
    "\n",
    "1. El Dataframe original contiene 5 columnas y 3214 registros.\n",
    "2. No tiene ni datos ausentes ni datos duplicados.\n",
    "3. El dataset fue seccionado en 60% para el modelo de entrenamiento y del 40% restante se destinaron 50% para datos de validación y 50% datos de prueba.\n",
    "4. La exactitud obtenida con el modelo Decision Tree Classifier fue de 78% a una profundidad de 3.\n",
    "5. La exactitud obtenida con el modelo Random Forest Classifier fue de 81% con un estimador de 46 y profundidad de 8.\n",
    "6. La exactitud obtenida con el modelo Logistic Regression fue de 75% con newton c-g.\n",
    "7. Evaluando el modelo Random Forest Classifier en la data de prueba y en el dataset completo se obtuvieron exactitudes de 80% y 85% respectivamente.\n",
    "7. Con la prueba de cordura la mayor exactitud obtenida fue de 68% (estrategia de \"most_frequent\" y \"prior\") y la menor de 53% con las estrategias \"uniform\" y \"constant\""
   ]
  },
  {
   "cell_type": "code",
   "execution_count": null,
   "metadata": {},
   "outputs": [],
   "source": []
  }
 ],
 "metadata": {
  "kernelspec": {
   "display_name": "Python 3 (ipykernel)",
   "language": "python",
   "name": "python3"
  },
  "language_info": {
   "codemirror_mode": {
    "name": "ipython",
    "version": 3
   },
   "file_extension": ".py",
   "mimetype": "text/x-python",
   "name": "python",
   "nbconvert_exporter": "python",
   "pygments_lexer": "ipython3",
   "version": "3.9.5"
  },
  "toc": {
   "base_numbering": 1,
   "nav_menu": {},
   "number_sections": true,
   "sideBar": true,
   "skip_h1_title": true,
   "title_cell": "Table of Contents",
   "title_sidebar": "Contents",
   "toc_cell": false,
   "toc_position": {
    "height": "calc(100% - 180px)",
    "left": "10px",
    "top": "150px",
    "width": "272px"
   },
   "toc_section_display": true,
   "toc_window_display": true
  }
 },
 "nbformat": 4,
 "nbformat_minor": 2
}
