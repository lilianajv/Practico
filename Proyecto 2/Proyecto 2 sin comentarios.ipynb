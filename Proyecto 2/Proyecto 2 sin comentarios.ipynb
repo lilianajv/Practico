{
 "cells": [
  {
   "cell_type": "markdown",
   "metadata": {},
   "source": [
    "# Análisis del riesgo de incumplimiento de los prestatarios\n",
    "\n",
    "Tu proyecto consiste en preparar un informe para la división de préstamos de un banco. Deberás averiguar si el estado civil y el número de hijos de un cliente tienen un impacto en el incumplimiento de pago de un préstamo. El banco ya tiene algunos datos sobre la solvencia crediticia de los clientes.\n",
    "\n",
    "Tu informe se tendrá en cuenta al crear una **puntuación de crédito** para un cliente potencial. La **puntuación de crédito** se utiliza para evaluar la capacidad de un prestatario potencial para pagar su préstamo.\n",
    "\n",
    "\n",
    "A continuación se procederá a realizar la carga de la data y a examinar los datos para evaluar su inegridad con el fin de llegar a la puntuación del crédito."
   ]
  },
  {
   "cell_type": "markdown",
   "metadata": {},
   "source": [
    "## Abre el archivo de datos y mira la información general. \n",
    "\n"
   ]
  },
  {
   "cell_type": "code",
   "execution_count": 1,
   "metadata": {},
   "outputs": [
    {
     "name": "stdout",
     "output_type": "stream",
     "text": [
      "<class 'pandas.core.frame.DataFrame'>\n",
      "RangeIndex: 21525 entries, 0 to 21524\n",
      "Data columns (total 12 columns):\n",
      " #   Column            Non-Null Count  Dtype  \n",
      "---  ------            --------------  -----  \n",
      " 0   children          21525 non-null  int64  \n",
      " 1   days_employed     19351 non-null  float64\n",
      " 2   dob_years         21525 non-null  int64  \n",
      " 3   education         21525 non-null  object \n",
      " 4   education_id      21525 non-null  int64  \n",
      " 5   family_status     21525 non-null  object \n",
      " 6   family_status_id  21525 non-null  int64  \n",
      " 7   gender            21525 non-null  object \n",
      " 8   income_type       21525 non-null  object \n",
      " 9   debt              21525 non-null  int64  \n",
      " 10  total_income      19351 non-null  float64\n",
      " 11  purpose           21525 non-null  object \n",
      "dtypes: float64(2), int64(5), object(5)\n",
      "memory usage: 2.0+ MB\n"
     ]
    }
   ],
   "source": [
    "import pandas as pd\n",
    "\n",
    "#se almacenará la información en la variable credit_score\n",
    "credit_score = pd.read_csv(\"/datasets/credit_scoring_eng.csv\")\n",
    "#se solicita la información general de los datos\n",
    "credit_score.info()\n"
   ]
  },
  {
   "cell_type": "markdown",
   "metadata": {},
   "source": [
    "## Ejercicio 1. Exploración de datos\n",
    "\n",
    "**Descripción de los datos**\n",
    "- `children` - el número de hijos en la familia\n",
    "- `days_employed` - experiencia laboral en días\n",
    "- `dob_years` - la edad del cliente en años\n",
    "- `education` - la educación del cliente\n",
    "- `education_id` - identificador de educación\n",
    "- `family_status` - estado civil\n",
    "- `family_status_id` - identificador de estado civil\n",
    "- `gender` - género del cliente\n",
    "- `income_type` - tipo de empleo\n",
    "- `debt` - ¿había alguna deuda en el pago de un préstamo?\n",
    "- `total_income` - ingreso mensual\n",
    "- `purpose` - el propósito de obtener un préstamo\n",
    "\n",
    "\n",
    "De la observación de los datos se puede concluir:\n",
    "1. Las columnas: \"days_employed\" y \"total_income\", tienen datos ausentes, dado que el total de los datos es de 21525 y estas dos columnas presentan 19351 cada una, coincidencia entre ellas?, posiblemente no, al parecer son los mismos registros u solicitantes que no dieron la información completa. Esto trataremos de confirmarlo más adelante en nuestro análisis!.\n",
    "2. Los identificadores de las columnas (nombres) son apropiados y cumplen con las reglas de python, es decir, están en minúsculas, con separadores y su nombre hacer referencia o nos da una idea del contenido del dato."
   ]
  },
  {
   "cell_type": "code",
   "execution_count": 2,
   "metadata": {},
   "outputs": [
    {
     "data": {
      "text/plain": [
       "(21525, 12)"
      ]
     },
     "execution_count": 2,
     "metadata": {},
     "output_type": "execute_result"
    }
   ],
   "source": [
    "# Vamos a ver cuántas filas y columnas tiene nuestro conjunto de datos\n",
    "credit_score.shape\n"
   ]
  },
  {
   "cell_type": "markdown",
   "metadata": {},
   "source": [
    "Con la llamada de la función shape, se observó que el conjunto de datos cuenta con 21525 filas y 12 columnas. Ahora daremos un vistazo a los datos y solicitaremos información para detectar anomalias."
   ]
  },
  {
   "cell_type": "code",
   "execution_count": 3,
   "metadata": {
    "scrolled": false
   },
   "outputs": [
    {
     "data": {
      "text/html": [
       "<div>\n",
       "<style scoped>\n",
       "    .dataframe tbody tr th:only-of-type {\n",
       "        vertical-align: middle;\n",
       "    }\n",
       "\n",
       "    .dataframe tbody tr th {\n",
       "        vertical-align: top;\n",
       "    }\n",
       "\n",
       "    .dataframe thead th {\n",
       "        text-align: right;\n",
       "    }\n",
       "</style>\n",
       "<table border=\"1\" class=\"dataframe\">\n",
       "  <thead>\n",
       "    <tr style=\"text-align: right;\">\n",
       "      <th></th>\n",
       "      <th>children</th>\n",
       "      <th>days_employed</th>\n",
       "      <th>dob_years</th>\n",
       "      <th>education</th>\n",
       "      <th>education_id</th>\n",
       "      <th>family_status</th>\n",
       "      <th>family_status_id</th>\n",
       "      <th>gender</th>\n",
       "      <th>income_type</th>\n",
       "      <th>debt</th>\n",
       "      <th>total_income</th>\n",
       "      <th>purpose</th>\n",
       "    </tr>\n",
       "  </thead>\n",
       "  <tbody>\n",
       "    <tr>\n",
       "      <th>0</th>\n",
       "      <td>1</td>\n",
       "      <td>-8437.673028</td>\n",
       "      <td>42</td>\n",
       "      <td>bachelor's degree</td>\n",
       "      <td>0</td>\n",
       "      <td>married</td>\n",
       "      <td>0</td>\n",
       "      <td>F</td>\n",
       "      <td>employee</td>\n",
       "      <td>0</td>\n",
       "      <td>40620.102</td>\n",
       "      <td>purchase of the house</td>\n",
       "    </tr>\n",
       "    <tr>\n",
       "      <th>1</th>\n",
       "      <td>1</td>\n",
       "      <td>-4024.803754</td>\n",
       "      <td>36</td>\n",
       "      <td>secondary education</td>\n",
       "      <td>1</td>\n",
       "      <td>married</td>\n",
       "      <td>0</td>\n",
       "      <td>F</td>\n",
       "      <td>employee</td>\n",
       "      <td>0</td>\n",
       "      <td>17932.802</td>\n",
       "      <td>car purchase</td>\n",
       "    </tr>\n",
       "    <tr>\n",
       "      <th>2</th>\n",
       "      <td>0</td>\n",
       "      <td>-5623.422610</td>\n",
       "      <td>33</td>\n",
       "      <td>Secondary Education</td>\n",
       "      <td>1</td>\n",
       "      <td>married</td>\n",
       "      <td>0</td>\n",
       "      <td>M</td>\n",
       "      <td>employee</td>\n",
       "      <td>0</td>\n",
       "      <td>23341.752</td>\n",
       "      <td>purchase of the house</td>\n",
       "    </tr>\n",
       "    <tr>\n",
       "      <th>3</th>\n",
       "      <td>3</td>\n",
       "      <td>-4124.747207</td>\n",
       "      <td>32</td>\n",
       "      <td>secondary education</td>\n",
       "      <td>1</td>\n",
       "      <td>married</td>\n",
       "      <td>0</td>\n",
       "      <td>M</td>\n",
       "      <td>employee</td>\n",
       "      <td>0</td>\n",
       "      <td>42820.568</td>\n",
       "      <td>supplementary education</td>\n",
       "    </tr>\n",
       "    <tr>\n",
       "      <th>4</th>\n",
       "      <td>0</td>\n",
       "      <td>340266.072047</td>\n",
       "      <td>53</td>\n",
       "      <td>secondary education</td>\n",
       "      <td>1</td>\n",
       "      <td>civil partnership</td>\n",
       "      <td>1</td>\n",
       "      <td>F</td>\n",
       "      <td>retiree</td>\n",
       "      <td>0</td>\n",
       "      <td>25378.572</td>\n",
       "      <td>to have a wedding</td>\n",
       "    </tr>\n",
       "    <tr>\n",
       "      <th>5</th>\n",
       "      <td>0</td>\n",
       "      <td>-926.185831</td>\n",
       "      <td>27</td>\n",
       "      <td>bachelor's degree</td>\n",
       "      <td>0</td>\n",
       "      <td>civil partnership</td>\n",
       "      <td>1</td>\n",
       "      <td>M</td>\n",
       "      <td>business</td>\n",
       "      <td>0</td>\n",
       "      <td>40922.170</td>\n",
       "      <td>purchase of the house</td>\n",
       "    </tr>\n",
       "    <tr>\n",
       "      <th>6</th>\n",
       "      <td>0</td>\n",
       "      <td>-2879.202052</td>\n",
       "      <td>43</td>\n",
       "      <td>bachelor's degree</td>\n",
       "      <td>0</td>\n",
       "      <td>married</td>\n",
       "      <td>0</td>\n",
       "      <td>F</td>\n",
       "      <td>business</td>\n",
       "      <td>0</td>\n",
       "      <td>38484.156</td>\n",
       "      <td>housing transactions</td>\n",
       "    </tr>\n",
       "    <tr>\n",
       "      <th>7</th>\n",
       "      <td>0</td>\n",
       "      <td>-152.779569</td>\n",
       "      <td>50</td>\n",
       "      <td>SECONDARY EDUCATION</td>\n",
       "      <td>1</td>\n",
       "      <td>married</td>\n",
       "      <td>0</td>\n",
       "      <td>M</td>\n",
       "      <td>employee</td>\n",
       "      <td>0</td>\n",
       "      <td>21731.829</td>\n",
       "      <td>education</td>\n",
       "    </tr>\n",
       "    <tr>\n",
       "      <th>8</th>\n",
       "      <td>2</td>\n",
       "      <td>-6929.865299</td>\n",
       "      <td>35</td>\n",
       "      <td>BACHELOR'S DEGREE</td>\n",
       "      <td>0</td>\n",
       "      <td>civil partnership</td>\n",
       "      <td>1</td>\n",
       "      <td>F</td>\n",
       "      <td>employee</td>\n",
       "      <td>0</td>\n",
       "      <td>15337.093</td>\n",
       "      <td>having a wedding</td>\n",
       "    </tr>\n",
       "    <tr>\n",
       "      <th>9</th>\n",
       "      <td>0</td>\n",
       "      <td>-2188.756445</td>\n",
       "      <td>41</td>\n",
       "      <td>secondary education</td>\n",
       "      <td>1</td>\n",
       "      <td>married</td>\n",
       "      <td>0</td>\n",
       "      <td>M</td>\n",
       "      <td>employee</td>\n",
       "      <td>0</td>\n",
       "      <td>23108.150</td>\n",
       "      <td>purchase of the house for my family</td>\n",
       "    </tr>\n",
       "    <tr>\n",
       "      <th>10</th>\n",
       "      <td>2</td>\n",
       "      <td>-4171.483647</td>\n",
       "      <td>36</td>\n",
       "      <td>bachelor's degree</td>\n",
       "      <td>0</td>\n",
       "      <td>married</td>\n",
       "      <td>0</td>\n",
       "      <td>M</td>\n",
       "      <td>business</td>\n",
       "      <td>0</td>\n",
       "      <td>18230.959</td>\n",
       "      <td>buy real estate</td>\n",
       "    </tr>\n",
       "    <tr>\n",
       "      <th>11</th>\n",
       "      <td>0</td>\n",
       "      <td>-792.701887</td>\n",
       "      <td>40</td>\n",
       "      <td>secondary education</td>\n",
       "      <td>1</td>\n",
       "      <td>married</td>\n",
       "      <td>0</td>\n",
       "      <td>F</td>\n",
       "      <td>employee</td>\n",
       "      <td>0</td>\n",
       "      <td>12331.077</td>\n",
       "      <td>buy commercial real estate</td>\n",
       "    </tr>\n",
       "    <tr>\n",
       "      <th>12</th>\n",
       "      <td>0</td>\n",
       "      <td>NaN</td>\n",
       "      <td>65</td>\n",
       "      <td>secondary education</td>\n",
       "      <td>1</td>\n",
       "      <td>civil partnership</td>\n",
       "      <td>1</td>\n",
       "      <td>M</td>\n",
       "      <td>retiree</td>\n",
       "      <td>0</td>\n",
       "      <td>NaN</td>\n",
       "      <td>to have a wedding</td>\n",
       "    </tr>\n",
       "    <tr>\n",
       "      <th>13</th>\n",
       "      <td>0</td>\n",
       "      <td>-1846.641941</td>\n",
       "      <td>54</td>\n",
       "      <td>some college</td>\n",
       "      <td>2</td>\n",
       "      <td>married</td>\n",
       "      <td>0</td>\n",
       "      <td>F</td>\n",
       "      <td>employee</td>\n",
       "      <td>0</td>\n",
       "      <td>20873.317</td>\n",
       "      <td>car purchase</td>\n",
       "    </tr>\n",
       "    <tr>\n",
       "      <th>14</th>\n",
       "      <td>0</td>\n",
       "      <td>-1844.956182</td>\n",
       "      <td>56</td>\n",
       "      <td>bachelor's degree</td>\n",
       "      <td>0</td>\n",
       "      <td>civil partnership</td>\n",
       "      <td>1</td>\n",
       "      <td>F</td>\n",
       "      <td>business</td>\n",
       "      <td>1</td>\n",
       "      <td>26420.466</td>\n",
       "      <td>buy residential real estate</td>\n",
       "    </tr>\n",
       "    <tr>\n",
       "      <th>15</th>\n",
       "      <td>1</td>\n",
       "      <td>-972.364419</td>\n",
       "      <td>26</td>\n",
       "      <td>secondary education</td>\n",
       "      <td>1</td>\n",
       "      <td>married</td>\n",
       "      <td>0</td>\n",
       "      <td>F</td>\n",
       "      <td>employee</td>\n",
       "      <td>0</td>\n",
       "      <td>18691.345</td>\n",
       "      <td>construction of own property</td>\n",
       "    </tr>\n",
       "    <tr>\n",
       "      <th>16</th>\n",
       "      <td>0</td>\n",
       "      <td>-1719.934226</td>\n",
       "      <td>35</td>\n",
       "      <td>secondary education</td>\n",
       "      <td>1</td>\n",
       "      <td>married</td>\n",
       "      <td>0</td>\n",
       "      <td>F</td>\n",
       "      <td>employee</td>\n",
       "      <td>0</td>\n",
       "      <td>46272.433</td>\n",
       "      <td>property</td>\n",
       "    </tr>\n",
       "    <tr>\n",
       "      <th>17</th>\n",
       "      <td>0</td>\n",
       "      <td>-2369.999720</td>\n",
       "      <td>33</td>\n",
       "      <td>bachelor's degree</td>\n",
       "      <td>0</td>\n",
       "      <td>civil partnership</td>\n",
       "      <td>1</td>\n",
       "      <td>M</td>\n",
       "      <td>employee</td>\n",
       "      <td>0</td>\n",
       "      <td>14465.694</td>\n",
       "      <td>building a property</td>\n",
       "    </tr>\n",
       "    <tr>\n",
       "      <th>18</th>\n",
       "      <td>0</td>\n",
       "      <td>400281.136913</td>\n",
       "      <td>53</td>\n",
       "      <td>secondary education</td>\n",
       "      <td>1</td>\n",
       "      <td>widow / widower</td>\n",
       "      <td>2</td>\n",
       "      <td>F</td>\n",
       "      <td>retiree</td>\n",
       "      <td>0</td>\n",
       "      <td>9091.804</td>\n",
       "      <td>buying a second-hand car</td>\n",
       "    </tr>\n",
       "    <tr>\n",
       "      <th>19</th>\n",
       "      <td>0</td>\n",
       "      <td>-10038.818549</td>\n",
       "      <td>48</td>\n",
       "      <td>SECONDARY EDUCATION</td>\n",
       "      <td>1</td>\n",
       "      <td>divorced</td>\n",
       "      <td>3</td>\n",
       "      <td>F</td>\n",
       "      <td>employee</td>\n",
       "      <td>0</td>\n",
       "      <td>38852.977</td>\n",
       "      <td>buying my own car</td>\n",
       "    </tr>\n",
       "  </tbody>\n",
       "</table>\n",
       "</div>"
      ],
      "text/plain": [
       "    children  days_employed  dob_years            education  education_id  \\\n",
       "0          1   -8437.673028         42    bachelor's degree             0   \n",
       "1          1   -4024.803754         36  secondary education             1   \n",
       "2          0   -5623.422610         33  Secondary Education             1   \n",
       "3          3   -4124.747207         32  secondary education             1   \n",
       "4          0  340266.072047         53  secondary education             1   \n",
       "5          0    -926.185831         27    bachelor's degree             0   \n",
       "6          0   -2879.202052         43    bachelor's degree             0   \n",
       "7          0    -152.779569         50  SECONDARY EDUCATION             1   \n",
       "8          2   -6929.865299         35    BACHELOR'S DEGREE             0   \n",
       "9          0   -2188.756445         41  secondary education             1   \n",
       "10         2   -4171.483647         36    bachelor's degree             0   \n",
       "11         0    -792.701887         40  secondary education             1   \n",
       "12         0            NaN         65  secondary education             1   \n",
       "13         0   -1846.641941         54         some college             2   \n",
       "14         0   -1844.956182         56    bachelor's degree             0   \n",
       "15         1    -972.364419         26  secondary education             1   \n",
       "16         0   -1719.934226         35  secondary education             1   \n",
       "17         0   -2369.999720         33    bachelor's degree             0   \n",
       "18         0  400281.136913         53  secondary education             1   \n",
       "19         0  -10038.818549         48  SECONDARY EDUCATION             1   \n",
       "\n",
       "        family_status  family_status_id gender income_type  debt  \\\n",
       "0             married                 0      F    employee     0   \n",
       "1             married                 0      F    employee     0   \n",
       "2             married                 0      M    employee     0   \n",
       "3             married                 0      M    employee     0   \n",
       "4   civil partnership                 1      F     retiree     0   \n",
       "5   civil partnership                 1      M    business     0   \n",
       "6             married                 0      F    business     0   \n",
       "7             married                 0      M    employee     0   \n",
       "8   civil partnership                 1      F    employee     0   \n",
       "9             married                 0      M    employee     0   \n",
       "10            married                 0      M    business     0   \n",
       "11            married                 0      F    employee     0   \n",
       "12  civil partnership                 1      M     retiree     0   \n",
       "13            married                 0      F    employee     0   \n",
       "14  civil partnership                 1      F    business     1   \n",
       "15            married                 0      F    employee     0   \n",
       "16            married                 0      F    employee     0   \n",
       "17  civil partnership                 1      M    employee     0   \n",
       "18    widow / widower                 2      F     retiree     0   \n",
       "19           divorced                 3      F    employee     0   \n",
       "\n",
       "    total_income                              purpose  \n",
       "0      40620.102                purchase of the house  \n",
       "1      17932.802                         car purchase  \n",
       "2      23341.752                purchase of the house  \n",
       "3      42820.568              supplementary education  \n",
       "4      25378.572                    to have a wedding  \n",
       "5      40922.170                purchase of the house  \n",
       "6      38484.156                 housing transactions  \n",
       "7      21731.829                            education  \n",
       "8      15337.093                     having a wedding  \n",
       "9      23108.150  purchase of the house for my family  \n",
       "10     18230.959                      buy real estate  \n",
       "11     12331.077           buy commercial real estate  \n",
       "12           NaN                    to have a wedding  \n",
       "13     20873.317                         car purchase  \n",
       "14     26420.466          buy residential real estate  \n",
       "15     18691.345         construction of own property  \n",
       "16     46272.433                             property  \n",
       "17     14465.694                  building a property  \n",
       "18      9091.804             buying a second-hand car  \n",
       "19     38852.977                    buying my own car  "
      ]
     },
     "execution_count": 3,
     "metadata": {},
     "output_type": "execute_result"
    }
   ],
   "source": [
    "# vamos a mostrar las primeras filas N\n",
    "credit_score.head(20)\n",
    "\n"
   ]
  },
  {
   "cell_type": "markdown",
   "metadata": {},
   "source": [
    "Analizando la información entregada, se observa:\n",
    "1. Las columnas \"days_employed\" y \"total income\" muestran valores ausentes, que pareciera se corresponden entre si por el número de la fila en que se presentan, es decir, ambos están presentes en el mismo registro o fila. Esto ya fue presentado en la tabla de información.\n",
    "2. La columna \"days_employed\" muestra números negativos, lo cual representa un problema, ya que en la realidad no es posible, trataremos más adelante de averiguar que paso con esta información.\n",
    "3. La columna \"education\" muestra datos en mayúsculas y minúsculas, por lo que hay que normalizarla todo a minúscula, es posible que en otras columnas también suceda lo mismo, por lo que hay que analizarla una a una más adelante, ¡por lo pronto nos enfocaremos en los datos ausentes!.\n",
    "4. Las columnas \"education\", \"family_status\", \"gender\", \"income_type\" y \"purpose\", son variables cualitativas tipo objeto.\n",
    "5. Las columnas restantes fueron declaradas como cuantitativas, numéricas."
   ]
  },
  {
   "cell_type": "code",
   "execution_count": 4,
   "metadata": {
    "scrolled": false
   },
   "outputs": [
    {
     "data": {
      "text/plain": [
       "children               0\n",
       "days_employed       2174\n",
       "dob_years              0\n",
       "education              0\n",
       "education_id           0\n",
       "family_status          0\n",
       "family_status_id       0\n",
       "gender                 0\n",
       "income_type            0\n",
       "debt                   0\n",
       "total_income        2174\n",
       "purpose                0\n",
       "dtype: int64"
      ]
     },
     "execution_count": 4,
     "metadata": {},
     "output_type": "execute_result"
    }
   ],
   "source": [
    "# Obtener información sobre los datos\n",
    "credit_score.isna().sum()\n"
   ]
  },
  {
   "cell_type": "markdown",
   "metadata": {},
   "source": [
    "1. Las columnas \"days_employed\"  y \"total_income\" muestran un total de 2174 datos ausentes cada una, parece que existe una relación entre ambas, es decir, ambas informaciones fueron omitidas por el usuario en el registro.Coincidencia?.\n",
    "2.Estas columnas representan variables cuantitativas.\n",
    "3.El resto de los datos están completos."
   ]
  },
  {
   "cell_type": "code",
   "execution_count": 5,
   "metadata": {
    "scrolled": false
   },
   "outputs": [
    {
     "data": {
      "text/html": [
       "<div>\n",
       "<style scoped>\n",
       "    .dataframe tbody tr th:only-of-type {\n",
       "        vertical-align: middle;\n",
       "    }\n",
       "\n",
       "    .dataframe tbody tr th {\n",
       "        vertical-align: top;\n",
       "    }\n",
       "\n",
       "    .dataframe thead th {\n",
       "        text-align: right;\n",
       "    }\n",
       "</style>\n",
       "<table border=\"1\" class=\"dataframe\">\n",
       "  <thead>\n",
       "    <tr style=\"text-align: right;\">\n",
       "      <th></th>\n",
       "      <th>children</th>\n",
       "      <th>days_employed</th>\n",
       "      <th>dob_years</th>\n",
       "      <th>education</th>\n",
       "      <th>education_id</th>\n",
       "      <th>family_status</th>\n",
       "      <th>family_status_id</th>\n",
       "      <th>gender</th>\n",
       "      <th>income_type</th>\n",
       "      <th>debt</th>\n",
       "      <th>total_income</th>\n",
       "      <th>purpose</th>\n",
       "    </tr>\n",
       "  </thead>\n",
       "  <tbody>\n",
       "    <tr>\n",
       "      <th>12</th>\n",
       "      <td>0</td>\n",
       "      <td>NaN</td>\n",
       "      <td>65</td>\n",
       "      <td>secondary education</td>\n",
       "      <td>1</td>\n",
       "      <td>civil partnership</td>\n",
       "      <td>1</td>\n",
       "      <td>M</td>\n",
       "      <td>retiree</td>\n",
       "      <td>0</td>\n",
       "      <td>NaN</td>\n",
       "      <td>to have a wedding</td>\n",
       "    </tr>\n",
       "    <tr>\n",
       "      <th>26</th>\n",
       "      <td>0</td>\n",
       "      <td>NaN</td>\n",
       "      <td>41</td>\n",
       "      <td>secondary education</td>\n",
       "      <td>1</td>\n",
       "      <td>married</td>\n",
       "      <td>0</td>\n",
       "      <td>M</td>\n",
       "      <td>civil servant</td>\n",
       "      <td>0</td>\n",
       "      <td>NaN</td>\n",
       "      <td>education</td>\n",
       "    </tr>\n",
       "    <tr>\n",
       "      <th>29</th>\n",
       "      <td>0</td>\n",
       "      <td>NaN</td>\n",
       "      <td>63</td>\n",
       "      <td>secondary education</td>\n",
       "      <td>1</td>\n",
       "      <td>unmarried</td>\n",
       "      <td>4</td>\n",
       "      <td>F</td>\n",
       "      <td>retiree</td>\n",
       "      <td>0</td>\n",
       "      <td>NaN</td>\n",
       "      <td>building a real estate</td>\n",
       "    </tr>\n",
       "    <tr>\n",
       "      <th>41</th>\n",
       "      <td>0</td>\n",
       "      <td>NaN</td>\n",
       "      <td>50</td>\n",
       "      <td>secondary education</td>\n",
       "      <td>1</td>\n",
       "      <td>married</td>\n",
       "      <td>0</td>\n",
       "      <td>F</td>\n",
       "      <td>civil servant</td>\n",
       "      <td>0</td>\n",
       "      <td>NaN</td>\n",
       "      <td>second-hand car purchase</td>\n",
       "    </tr>\n",
       "    <tr>\n",
       "      <th>55</th>\n",
       "      <td>0</td>\n",
       "      <td>NaN</td>\n",
       "      <td>54</td>\n",
       "      <td>secondary education</td>\n",
       "      <td>1</td>\n",
       "      <td>civil partnership</td>\n",
       "      <td>1</td>\n",
       "      <td>F</td>\n",
       "      <td>retiree</td>\n",
       "      <td>1</td>\n",
       "      <td>NaN</td>\n",
       "      <td>to have a wedding</td>\n",
       "    </tr>\n",
       "    <tr>\n",
       "      <th>65</th>\n",
       "      <td>0</td>\n",
       "      <td>NaN</td>\n",
       "      <td>21</td>\n",
       "      <td>secondary education</td>\n",
       "      <td>1</td>\n",
       "      <td>unmarried</td>\n",
       "      <td>4</td>\n",
       "      <td>M</td>\n",
       "      <td>business</td>\n",
       "      <td>0</td>\n",
       "      <td>NaN</td>\n",
       "      <td>transactions with commercial real estate</td>\n",
       "    </tr>\n",
       "    <tr>\n",
       "      <th>67</th>\n",
       "      <td>0</td>\n",
       "      <td>NaN</td>\n",
       "      <td>52</td>\n",
       "      <td>bachelor's degree</td>\n",
       "      <td>0</td>\n",
       "      <td>married</td>\n",
       "      <td>0</td>\n",
       "      <td>F</td>\n",
       "      <td>retiree</td>\n",
       "      <td>0</td>\n",
       "      <td>NaN</td>\n",
       "      <td>purchase of the house for my family</td>\n",
       "    </tr>\n",
       "    <tr>\n",
       "      <th>72</th>\n",
       "      <td>1</td>\n",
       "      <td>NaN</td>\n",
       "      <td>32</td>\n",
       "      <td>bachelor's degree</td>\n",
       "      <td>0</td>\n",
       "      <td>married</td>\n",
       "      <td>0</td>\n",
       "      <td>M</td>\n",
       "      <td>civil servant</td>\n",
       "      <td>0</td>\n",
       "      <td>NaN</td>\n",
       "      <td>transactions with commercial real estate</td>\n",
       "    </tr>\n",
       "    <tr>\n",
       "      <th>82</th>\n",
       "      <td>2</td>\n",
       "      <td>NaN</td>\n",
       "      <td>50</td>\n",
       "      <td>bachelor's degree</td>\n",
       "      <td>0</td>\n",
       "      <td>married</td>\n",
       "      <td>0</td>\n",
       "      <td>F</td>\n",
       "      <td>employee</td>\n",
       "      <td>0</td>\n",
       "      <td>NaN</td>\n",
       "      <td>housing</td>\n",
       "    </tr>\n",
       "    <tr>\n",
       "      <th>83</th>\n",
       "      <td>0</td>\n",
       "      <td>NaN</td>\n",
       "      <td>52</td>\n",
       "      <td>secondary education</td>\n",
       "      <td>1</td>\n",
       "      <td>married</td>\n",
       "      <td>0</td>\n",
       "      <td>M</td>\n",
       "      <td>employee</td>\n",
       "      <td>0</td>\n",
       "      <td>NaN</td>\n",
       "      <td>housing</td>\n",
       "    </tr>\n",
       "    <tr>\n",
       "      <th>90</th>\n",
       "      <td>2</td>\n",
       "      <td>NaN</td>\n",
       "      <td>35</td>\n",
       "      <td>bachelor's degree</td>\n",
       "      <td>0</td>\n",
       "      <td>married</td>\n",
       "      <td>0</td>\n",
       "      <td>F</td>\n",
       "      <td>employee</td>\n",
       "      <td>0</td>\n",
       "      <td>NaN</td>\n",
       "      <td>housing transactions</td>\n",
       "    </tr>\n",
       "    <tr>\n",
       "      <th>94</th>\n",
       "      <td>1</td>\n",
       "      <td>NaN</td>\n",
       "      <td>34</td>\n",
       "      <td>bachelor's degree</td>\n",
       "      <td>0</td>\n",
       "      <td>civil partnership</td>\n",
       "      <td>1</td>\n",
       "      <td>F</td>\n",
       "      <td>business</td>\n",
       "      <td>0</td>\n",
       "      <td>NaN</td>\n",
       "      <td>having a wedding</td>\n",
       "    </tr>\n",
       "    <tr>\n",
       "      <th>96</th>\n",
       "      <td>0</td>\n",
       "      <td>NaN</td>\n",
       "      <td>44</td>\n",
       "      <td>SECONDARY EDUCATION</td>\n",
       "      <td>1</td>\n",
       "      <td>married</td>\n",
       "      <td>0</td>\n",
       "      <td>F</td>\n",
       "      <td>employee</td>\n",
       "      <td>0</td>\n",
       "      <td>NaN</td>\n",
       "      <td>buy residential real estate</td>\n",
       "    </tr>\n",
       "    <tr>\n",
       "      <th>97</th>\n",
       "      <td>0</td>\n",
       "      <td>NaN</td>\n",
       "      <td>47</td>\n",
       "      <td>bachelor's degree</td>\n",
       "      <td>0</td>\n",
       "      <td>married</td>\n",
       "      <td>0</td>\n",
       "      <td>F</td>\n",
       "      <td>employee</td>\n",
       "      <td>0</td>\n",
       "      <td>NaN</td>\n",
       "      <td>profile education</td>\n",
       "    </tr>\n",
       "    <tr>\n",
       "      <th>120</th>\n",
       "      <td>0</td>\n",
       "      <td>NaN</td>\n",
       "      <td>46</td>\n",
       "      <td>secondary education</td>\n",
       "      <td>1</td>\n",
       "      <td>married</td>\n",
       "      <td>0</td>\n",
       "      <td>F</td>\n",
       "      <td>employee</td>\n",
       "      <td>0</td>\n",
       "      <td>NaN</td>\n",
       "      <td>university education</td>\n",
       "    </tr>\n",
       "    <tr>\n",
       "      <th>121</th>\n",
       "      <td>0</td>\n",
       "      <td>NaN</td>\n",
       "      <td>29</td>\n",
       "      <td>bachelor's degree</td>\n",
       "      <td>0</td>\n",
       "      <td>married</td>\n",
       "      <td>0</td>\n",
       "      <td>F</td>\n",
       "      <td>business</td>\n",
       "      <td>0</td>\n",
       "      <td>NaN</td>\n",
       "      <td>car</td>\n",
       "    </tr>\n",
       "    <tr>\n",
       "      <th>135</th>\n",
       "      <td>0</td>\n",
       "      <td>NaN</td>\n",
       "      <td>27</td>\n",
       "      <td>secondary education</td>\n",
       "      <td>1</td>\n",
       "      <td>married</td>\n",
       "      <td>0</td>\n",
       "      <td>M</td>\n",
       "      <td>business</td>\n",
       "      <td>0</td>\n",
       "      <td>NaN</td>\n",
       "      <td>housing</td>\n",
       "    </tr>\n",
       "    <tr>\n",
       "      <th>141</th>\n",
       "      <td>0</td>\n",
       "      <td>NaN</td>\n",
       "      <td>39</td>\n",
       "      <td>secondary education</td>\n",
       "      <td>1</td>\n",
       "      <td>civil partnership</td>\n",
       "      <td>1</td>\n",
       "      <td>M</td>\n",
       "      <td>employee</td>\n",
       "      <td>0</td>\n",
       "      <td>NaN</td>\n",
       "      <td>wedding ceremony</td>\n",
       "    </tr>\n",
       "    <tr>\n",
       "      <th>145</th>\n",
       "      <td>0</td>\n",
       "      <td>NaN</td>\n",
       "      <td>62</td>\n",
       "      <td>secondary education</td>\n",
       "      <td>1</td>\n",
       "      <td>married</td>\n",
       "      <td>0</td>\n",
       "      <td>M</td>\n",
       "      <td>retiree</td>\n",
       "      <td>0</td>\n",
       "      <td>NaN</td>\n",
       "      <td>building a property</td>\n",
       "    </tr>\n",
       "    <tr>\n",
       "      <th>174</th>\n",
       "      <td>0</td>\n",
       "      <td>NaN</td>\n",
       "      <td>55</td>\n",
       "      <td>bachelor's degree</td>\n",
       "      <td>0</td>\n",
       "      <td>widow / widower</td>\n",
       "      <td>2</td>\n",
       "      <td>F</td>\n",
       "      <td>business</td>\n",
       "      <td>0</td>\n",
       "      <td>NaN</td>\n",
       "      <td>to own a car</td>\n",
       "    </tr>\n",
       "  </tbody>\n",
       "</table>\n",
       "</div>"
      ],
      "text/plain": [
       "     children  days_employed  dob_years            education  education_id  \\\n",
       "12          0            NaN         65  secondary education             1   \n",
       "26          0            NaN         41  secondary education             1   \n",
       "29          0            NaN         63  secondary education             1   \n",
       "41          0            NaN         50  secondary education             1   \n",
       "55          0            NaN         54  secondary education             1   \n",
       "65          0            NaN         21  secondary education             1   \n",
       "67          0            NaN         52    bachelor's degree             0   \n",
       "72          1            NaN         32    bachelor's degree             0   \n",
       "82          2            NaN         50    bachelor's degree             0   \n",
       "83          0            NaN         52  secondary education             1   \n",
       "90          2            NaN         35    bachelor's degree             0   \n",
       "94          1            NaN         34    bachelor's degree             0   \n",
       "96          0            NaN         44  SECONDARY EDUCATION             1   \n",
       "97          0            NaN         47    bachelor's degree             0   \n",
       "120         0            NaN         46  secondary education             1   \n",
       "121         0            NaN         29    bachelor's degree             0   \n",
       "135         0            NaN         27  secondary education             1   \n",
       "141         0            NaN         39  secondary education             1   \n",
       "145         0            NaN         62  secondary education             1   \n",
       "174         0            NaN         55    bachelor's degree             0   \n",
       "\n",
       "         family_status  family_status_id gender    income_type  debt  \\\n",
       "12   civil partnership                 1      M        retiree     0   \n",
       "26             married                 0      M  civil servant     0   \n",
       "29           unmarried                 4      F        retiree     0   \n",
       "41             married                 0      F  civil servant     0   \n",
       "55   civil partnership                 1      F        retiree     1   \n",
       "65           unmarried                 4      M       business     0   \n",
       "67             married                 0      F        retiree     0   \n",
       "72             married                 0      M  civil servant     0   \n",
       "82             married                 0      F       employee     0   \n",
       "83             married                 0      M       employee     0   \n",
       "90             married                 0      F       employee     0   \n",
       "94   civil partnership                 1      F       business     0   \n",
       "96             married                 0      F       employee     0   \n",
       "97             married                 0      F       employee     0   \n",
       "120            married                 0      F       employee     0   \n",
       "121            married                 0      F       business     0   \n",
       "135            married                 0      M       business     0   \n",
       "141  civil partnership                 1      M       employee     0   \n",
       "145            married                 0      M        retiree     0   \n",
       "174    widow / widower                 2      F       business     0   \n",
       "\n",
       "     total_income                                   purpose  \n",
       "12            NaN                         to have a wedding  \n",
       "26            NaN                                 education  \n",
       "29            NaN                    building a real estate  \n",
       "41            NaN                  second-hand car purchase  \n",
       "55            NaN                         to have a wedding  \n",
       "65            NaN  transactions with commercial real estate  \n",
       "67            NaN       purchase of the house for my family  \n",
       "72            NaN  transactions with commercial real estate  \n",
       "82            NaN                                   housing  \n",
       "83            NaN                                   housing  \n",
       "90            NaN                      housing transactions  \n",
       "94            NaN                          having a wedding  \n",
       "96            NaN               buy residential real estate  \n",
       "97            NaN                         profile education  \n",
       "120           NaN                      university education  \n",
       "121           NaN                                       car  \n",
       "135           NaN                                   housing  \n",
       "141           NaN                          wedding ceremony  \n",
       "145           NaN                       building a property  \n",
       "174           NaN                              to own a car  "
      ]
     },
     "execution_count": 5,
     "metadata": {},
     "output_type": "execute_result"
    }
   ],
   "source": [
    "# Veamos la tabla filtrada con valores ausentes de la primera columna donde faltan datos\n",
    "credit_score_employed = credit_score[credit_score[\"days_employed\"].isna()]\n",
    "credit_score_employed.head(20)"
   ]
  },
  {
   "cell_type": "markdown",
   "metadata": {},
   "source": [
    "Ahora para estar segura voy a realizar un doble filtrado por datos ausentes y comprobar si hay simetria en las dos columnas donde faltan datos, es decir, si el solicitante dejo ambos campos sin datos al someter la información."
   ]
  },
  {
   "cell_type": "code",
   "execution_count": 6,
   "metadata": {},
   "outputs": [
    {
     "data": {
      "text/html": [
       "<div>\n",
       "<style scoped>\n",
       "    .dataframe tbody tr th:only-of-type {\n",
       "        vertical-align: middle;\n",
       "    }\n",
       "\n",
       "    .dataframe tbody tr th {\n",
       "        vertical-align: top;\n",
       "    }\n",
       "\n",
       "    .dataframe thead th {\n",
       "        text-align: right;\n",
       "    }\n",
       "</style>\n",
       "<table border=\"1\" class=\"dataframe\">\n",
       "  <thead>\n",
       "    <tr style=\"text-align: right;\">\n",
       "      <th></th>\n",
       "      <th>children</th>\n",
       "      <th>days_employed</th>\n",
       "      <th>dob_years</th>\n",
       "      <th>education</th>\n",
       "      <th>education_id</th>\n",
       "      <th>family_status</th>\n",
       "      <th>family_status_id</th>\n",
       "      <th>gender</th>\n",
       "      <th>income_type</th>\n",
       "      <th>debt</th>\n",
       "      <th>total_income</th>\n",
       "      <th>purpose</th>\n",
       "    </tr>\n",
       "  </thead>\n",
       "  <tbody>\n",
       "    <tr>\n",
       "      <th>12</th>\n",
       "      <td>0</td>\n",
       "      <td>NaN</td>\n",
       "      <td>65</td>\n",
       "      <td>secondary education</td>\n",
       "      <td>1</td>\n",
       "      <td>civil partnership</td>\n",
       "      <td>1</td>\n",
       "      <td>M</td>\n",
       "      <td>retiree</td>\n",
       "      <td>0</td>\n",
       "      <td>NaN</td>\n",
       "      <td>to have a wedding</td>\n",
       "    </tr>\n",
       "    <tr>\n",
       "      <th>26</th>\n",
       "      <td>0</td>\n",
       "      <td>NaN</td>\n",
       "      <td>41</td>\n",
       "      <td>secondary education</td>\n",
       "      <td>1</td>\n",
       "      <td>married</td>\n",
       "      <td>0</td>\n",
       "      <td>M</td>\n",
       "      <td>civil servant</td>\n",
       "      <td>0</td>\n",
       "      <td>NaN</td>\n",
       "      <td>education</td>\n",
       "    </tr>\n",
       "    <tr>\n",
       "      <th>29</th>\n",
       "      <td>0</td>\n",
       "      <td>NaN</td>\n",
       "      <td>63</td>\n",
       "      <td>secondary education</td>\n",
       "      <td>1</td>\n",
       "      <td>unmarried</td>\n",
       "      <td>4</td>\n",
       "      <td>F</td>\n",
       "      <td>retiree</td>\n",
       "      <td>0</td>\n",
       "      <td>NaN</td>\n",
       "      <td>building a real estate</td>\n",
       "    </tr>\n",
       "    <tr>\n",
       "      <th>41</th>\n",
       "      <td>0</td>\n",
       "      <td>NaN</td>\n",
       "      <td>50</td>\n",
       "      <td>secondary education</td>\n",
       "      <td>1</td>\n",
       "      <td>married</td>\n",
       "      <td>0</td>\n",
       "      <td>F</td>\n",
       "      <td>civil servant</td>\n",
       "      <td>0</td>\n",
       "      <td>NaN</td>\n",
       "      <td>second-hand car purchase</td>\n",
       "    </tr>\n",
       "    <tr>\n",
       "      <th>55</th>\n",
       "      <td>0</td>\n",
       "      <td>NaN</td>\n",
       "      <td>54</td>\n",
       "      <td>secondary education</td>\n",
       "      <td>1</td>\n",
       "      <td>civil partnership</td>\n",
       "      <td>1</td>\n",
       "      <td>F</td>\n",
       "      <td>retiree</td>\n",
       "      <td>1</td>\n",
       "      <td>NaN</td>\n",
       "      <td>to have a wedding</td>\n",
       "    </tr>\n",
       "    <tr>\n",
       "      <th>65</th>\n",
       "      <td>0</td>\n",
       "      <td>NaN</td>\n",
       "      <td>21</td>\n",
       "      <td>secondary education</td>\n",
       "      <td>1</td>\n",
       "      <td>unmarried</td>\n",
       "      <td>4</td>\n",
       "      <td>M</td>\n",
       "      <td>business</td>\n",
       "      <td>0</td>\n",
       "      <td>NaN</td>\n",
       "      <td>transactions with commercial real estate</td>\n",
       "    </tr>\n",
       "    <tr>\n",
       "      <th>67</th>\n",
       "      <td>0</td>\n",
       "      <td>NaN</td>\n",
       "      <td>52</td>\n",
       "      <td>bachelor's degree</td>\n",
       "      <td>0</td>\n",
       "      <td>married</td>\n",
       "      <td>0</td>\n",
       "      <td>F</td>\n",
       "      <td>retiree</td>\n",
       "      <td>0</td>\n",
       "      <td>NaN</td>\n",
       "      <td>purchase of the house for my family</td>\n",
       "    </tr>\n",
       "    <tr>\n",
       "      <th>72</th>\n",
       "      <td>1</td>\n",
       "      <td>NaN</td>\n",
       "      <td>32</td>\n",
       "      <td>bachelor's degree</td>\n",
       "      <td>0</td>\n",
       "      <td>married</td>\n",
       "      <td>0</td>\n",
       "      <td>M</td>\n",
       "      <td>civil servant</td>\n",
       "      <td>0</td>\n",
       "      <td>NaN</td>\n",
       "      <td>transactions with commercial real estate</td>\n",
       "    </tr>\n",
       "    <tr>\n",
       "      <th>82</th>\n",
       "      <td>2</td>\n",
       "      <td>NaN</td>\n",
       "      <td>50</td>\n",
       "      <td>bachelor's degree</td>\n",
       "      <td>0</td>\n",
       "      <td>married</td>\n",
       "      <td>0</td>\n",
       "      <td>F</td>\n",
       "      <td>employee</td>\n",
       "      <td>0</td>\n",
       "      <td>NaN</td>\n",
       "      <td>housing</td>\n",
       "    </tr>\n",
       "    <tr>\n",
       "      <th>83</th>\n",
       "      <td>0</td>\n",
       "      <td>NaN</td>\n",
       "      <td>52</td>\n",
       "      <td>secondary education</td>\n",
       "      <td>1</td>\n",
       "      <td>married</td>\n",
       "      <td>0</td>\n",
       "      <td>M</td>\n",
       "      <td>employee</td>\n",
       "      <td>0</td>\n",
       "      <td>NaN</td>\n",
       "      <td>housing</td>\n",
       "    </tr>\n",
       "    <tr>\n",
       "      <th>90</th>\n",
       "      <td>2</td>\n",
       "      <td>NaN</td>\n",
       "      <td>35</td>\n",
       "      <td>bachelor's degree</td>\n",
       "      <td>0</td>\n",
       "      <td>married</td>\n",
       "      <td>0</td>\n",
       "      <td>F</td>\n",
       "      <td>employee</td>\n",
       "      <td>0</td>\n",
       "      <td>NaN</td>\n",
       "      <td>housing transactions</td>\n",
       "    </tr>\n",
       "    <tr>\n",
       "      <th>94</th>\n",
       "      <td>1</td>\n",
       "      <td>NaN</td>\n",
       "      <td>34</td>\n",
       "      <td>bachelor's degree</td>\n",
       "      <td>0</td>\n",
       "      <td>civil partnership</td>\n",
       "      <td>1</td>\n",
       "      <td>F</td>\n",
       "      <td>business</td>\n",
       "      <td>0</td>\n",
       "      <td>NaN</td>\n",
       "      <td>having a wedding</td>\n",
       "    </tr>\n",
       "    <tr>\n",
       "      <th>96</th>\n",
       "      <td>0</td>\n",
       "      <td>NaN</td>\n",
       "      <td>44</td>\n",
       "      <td>SECONDARY EDUCATION</td>\n",
       "      <td>1</td>\n",
       "      <td>married</td>\n",
       "      <td>0</td>\n",
       "      <td>F</td>\n",
       "      <td>employee</td>\n",
       "      <td>0</td>\n",
       "      <td>NaN</td>\n",
       "      <td>buy residential real estate</td>\n",
       "    </tr>\n",
       "    <tr>\n",
       "      <th>97</th>\n",
       "      <td>0</td>\n",
       "      <td>NaN</td>\n",
       "      <td>47</td>\n",
       "      <td>bachelor's degree</td>\n",
       "      <td>0</td>\n",
       "      <td>married</td>\n",
       "      <td>0</td>\n",
       "      <td>F</td>\n",
       "      <td>employee</td>\n",
       "      <td>0</td>\n",
       "      <td>NaN</td>\n",
       "      <td>profile education</td>\n",
       "    </tr>\n",
       "    <tr>\n",
       "      <th>120</th>\n",
       "      <td>0</td>\n",
       "      <td>NaN</td>\n",
       "      <td>46</td>\n",
       "      <td>secondary education</td>\n",
       "      <td>1</td>\n",
       "      <td>married</td>\n",
       "      <td>0</td>\n",
       "      <td>F</td>\n",
       "      <td>employee</td>\n",
       "      <td>0</td>\n",
       "      <td>NaN</td>\n",
       "      <td>university education</td>\n",
       "    </tr>\n",
       "    <tr>\n",
       "      <th>121</th>\n",
       "      <td>0</td>\n",
       "      <td>NaN</td>\n",
       "      <td>29</td>\n",
       "      <td>bachelor's degree</td>\n",
       "      <td>0</td>\n",
       "      <td>married</td>\n",
       "      <td>0</td>\n",
       "      <td>F</td>\n",
       "      <td>business</td>\n",
       "      <td>0</td>\n",
       "      <td>NaN</td>\n",
       "      <td>car</td>\n",
       "    </tr>\n",
       "    <tr>\n",
       "      <th>135</th>\n",
       "      <td>0</td>\n",
       "      <td>NaN</td>\n",
       "      <td>27</td>\n",
       "      <td>secondary education</td>\n",
       "      <td>1</td>\n",
       "      <td>married</td>\n",
       "      <td>0</td>\n",
       "      <td>M</td>\n",
       "      <td>business</td>\n",
       "      <td>0</td>\n",
       "      <td>NaN</td>\n",
       "      <td>housing</td>\n",
       "    </tr>\n",
       "    <tr>\n",
       "      <th>141</th>\n",
       "      <td>0</td>\n",
       "      <td>NaN</td>\n",
       "      <td>39</td>\n",
       "      <td>secondary education</td>\n",
       "      <td>1</td>\n",
       "      <td>civil partnership</td>\n",
       "      <td>1</td>\n",
       "      <td>M</td>\n",
       "      <td>employee</td>\n",
       "      <td>0</td>\n",
       "      <td>NaN</td>\n",
       "      <td>wedding ceremony</td>\n",
       "    </tr>\n",
       "    <tr>\n",
       "      <th>145</th>\n",
       "      <td>0</td>\n",
       "      <td>NaN</td>\n",
       "      <td>62</td>\n",
       "      <td>secondary education</td>\n",
       "      <td>1</td>\n",
       "      <td>married</td>\n",
       "      <td>0</td>\n",
       "      <td>M</td>\n",
       "      <td>retiree</td>\n",
       "      <td>0</td>\n",
       "      <td>NaN</td>\n",
       "      <td>building a property</td>\n",
       "    </tr>\n",
       "    <tr>\n",
       "      <th>174</th>\n",
       "      <td>0</td>\n",
       "      <td>NaN</td>\n",
       "      <td>55</td>\n",
       "      <td>bachelor's degree</td>\n",
       "      <td>0</td>\n",
       "      <td>widow / widower</td>\n",
       "      <td>2</td>\n",
       "      <td>F</td>\n",
       "      <td>business</td>\n",
       "      <td>0</td>\n",
       "      <td>NaN</td>\n",
       "      <td>to own a car</td>\n",
       "    </tr>\n",
       "  </tbody>\n",
       "</table>\n",
       "</div>"
      ],
      "text/plain": [
       "     children  days_employed  dob_years            education  education_id  \\\n",
       "12          0            NaN         65  secondary education             1   \n",
       "26          0            NaN         41  secondary education             1   \n",
       "29          0            NaN         63  secondary education             1   \n",
       "41          0            NaN         50  secondary education             1   \n",
       "55          0            NaN         54  secondary education             1   \n",
       "65          0            NaN         21  secondary education             1   \n",
       "67          0            NaN         52    bachelor's degree             0   \n",
       "72          1            NaN         32    bachelor's degree             0   \n",
       "82          2            NaN         50    bachelor's degree             0   \n",
       "83          0            NaN         52  secondary education             1   \n",
       "90          2            NaN         35    bachelor's degree             0   \n",
       "94          1            NaN         34    bachelor's degree             0   \n",
       "96          0            NaN         44  SECONDARY EDUCATION             1   \n",
       "97          0            NaN         47    bachelor's degree             0   \n",
       "120         0            NaN         46  secondary education             1   \n",
       "121         0            NaN         29    bachelor's degree             0   \n",
       "135         0            NaN         27  secondary education             1   \n",
       "141         0            NaN         39  secondary education             1   \n",
       "145         0            NaN         62  secondary education             1   \n",
       "174         0            NaN         55    bachelor's degree             0   \n",
       "\n",
       "         family_status  family_status_id gender    income_type  debt  \\\n",
       "12   civil partnership                 1      M        retiree     0   \n",
       "26             married                 0      M  civil servant     0   \n",
       "29           unmarried                 4      F        retiree     0   \n",
       "41             married                 0      F  civil servant     0   \n",
       "55   civil partnership                 1      F        retiree     1   \n",
       "65           unmarried                 4      M       business     0   \n",
       "67             married                 0      F        retiree     0   \n",
       "72             married                 0      M  civil servant     0   \n",
       "82             married                 0      F       employee     0   \n",
       "83             married                 0      M       employee     0   \n",
       "90             married                 0      F       employee     0   \n",
       "94   civil partnership                 1      F       business     0   \n",
       "96             married                 0      F       employee     0   \n",
       "97             married                 0      F       employee     0   \n",
       "120            married                 0      F       employee     0   \n",
       "121            married                 0      F       business     0   \n",
       "135            married                 0      M       business     0   \n",
       "141  civil partnership                 1      M       employee     0   \n",
       "145            married                 0      M        retiree     0   \n",
       "174    widow / widower                 2      F       business     0   \n",
       "\n",
       "     total_income                                   purpose  \n",
       "12            NaN                         to have a wedding  \n",
       "26            NaN                                 education  \n",
       "29            NaN                    building a real estate  \n",
       "41            NaN                  second-hand car purchase  \n",
       "55            NaN                         to have a wedding  \n",
       "65            NaN  transactions with commercial real estate  \n",
       "67            NaN       purchase of the house for my family  \n",
       "72            NaN  transactions with commercial real estate  \n",
       "82            NaN                                   housing  \n",
       "83            NaN                                   housing  \n",
       "90            NaN                      housing transactions  \n",
       "94            NaN                          having a wedding  \n",
       "96            NaN               buy residential real estate  \n",
       "97            NaN                         profile education  \n",
       "120           NaN                      university education  \n",
       "121           NaN                                       car  \n",
       "135           NaN                                   housing  \n",
       "141           NaN                          wedding ceremony  \n",
       "145           NaN                       building a property  \n",
       "174           NaN                              to own a car  "
      ]
     },
     "execution_count": 6,
     "metadata": {},
     "output_type": "execute_result"
    }
   ],
   "source": [
    "#credit_score[(credit_score[\"days_employed\"].isna()) & (credit_score[\"total_income\"].isna())]\n",
    "credit_score_filtrado_nulo = credit_score[credit_score[\"days_employed\"].isna()]\n",
    "credit_score_filtrado_nulo = credit_score_filtrado_nulo[credit_score_filtrado_nulo[\"total_income\"].isna()]\n",
    "credit_score_filtrado_nulo.head(20)\n",
    "\n"
   ]
  },
  {
   "cell_type": "code",
   "execution_count": 7,
   "metadata": {},
   "outputs": [
    {
     "data": {
      "text/html": [
       "<div>\n",
       "<style scoped>\n",
       "    .dataframe tbody tr th:only-of-type {\n",
       "        vertical-align: middle;\n",
       "    }\n",
       "\n",
       "    .dataframe tbody tr th {\n",
       "        vertical-align: top;\n",
       "    }\n",
       "\n",
       "    .dataframe thead th {\n",
       "        text-align: right;\n",
       "    }\n",
       "</style>\n",
       "<table border=\"1\" class=\"dataframe\">\n",
       "  <thead>\n",
       "    <tr style=\"text-align: right;\">\n",
       "      <th></th>\n",
       "      <th>children</th>\n",
       "      <th>days_employed</th>\n",
       "      <th>dob_years</th>\n",
       "      <th>education_id</th>\n",
       "      <th>family_status_id</th>\n",
       "      <th>debt</th>\n",
       "      <th>total_income</th>\n",
       "    </tr>\n",
       "  </thead>\n",
       "  <tbody>\n",
       "    <tr>\n",
       "      <th>count</th>\n",
       "      <td>2174.000000</td>\n",
       "      <td>0.0</td>\n",
       "      <td>2174.000000</td>\n",
       "      <td>2174.000000</td>\n",
       "      <td>2174.000000</td>\n",
       "      <td>2174.000000</td>\n",
       "      <td>0.0</td>\n",
       "    </tr>\n",
       "    <tr>\n",
       "      <th>mean</th>\n",
       "      <td>0.552438</td>\n",
       "      <td>NaN</td>\n",
       "      <td>43.632015</td>\n",
       "      <td>0.800828</td>\n",
       "      <td>0.975161</td>\n",
       "      <td>0.078197</td>\n",
       "      <td>NaN</td>\n",
       "    </tr>\n",
       "    <tr>\n",
       "      <th>std</th>\n",
       "      <td>1.469356</td>\n",
       "      <td>NaN</td>\n",
       "      <td>12.531481</td>\n",
       "      <td>0.530157</td>\n",
       "      <td>1.418220</td>\n",
       "      <td>0.268543</td>\n",
       "      <td>NaN</td>\n",
       "    </tr>\n",
       "    <tr>\n",
       "      <th>min</th>\n",
       "      <td>-1.000000</td>\n",
       "      <td>NaN</td>\n",
       "      <td>0.000000</td>\n",
       "      <td>0.000000</td>\n",
       "      <td>0.000000</td>\n",
       "      <td>0.000000</td>\n",
       "      <td>NaN</td>\n",
       "    </tr>\n",
       "    <tr>\n",
       "      <th>25%</th>\n",
       "      <td>0.000000</td>\n",
       "      <td>NaN</td>\n",
       "      <td>34.000000</td>\n",
       "      <td>0.250000</td>\n",
       "      <td>0.000000</td>\n",
       "      <td>0.000000</td>\n",
       "      <td>NaN</td>\n",
       "    </tr>\n",
       "    <tr>\n",
       "      <th>50%</th>\n",
       "      <td>0.000000</td>\n",
       "      <td>NaN</td>\n",
       "      <td>43.000000</td>\n",
       "      <td>1.000000</td>\n",
       "      <td>0.000000</td>\n",
       "      <td>0.000000</td>\n",
       "      <td>NaN</td>\n",
       "    </tr>\n",
       "    <tr>\n",
       "      <th>75%</th>\n",
       "      <td>1.000000</td>\n",
       "      <td>NaN</td>\n",
       "      <td>54.000000</td>\n",
       "      <td>1.000000</td>\n",
       "      <td>1.000000</td>\n",
       "      <td>0.000000</td>\n",
       "      <td>NaN</td>\n",
       "    </tr>\n",
       "    <tr>\n",
       "      <th>max</th>\n",
       "      <td>20.000000</td>\n",
       "      <td>NaN</td>\n",
       "      <td>73.000000</td>\n",
       "      <td>3.000000</td>\n",
       "      <td>4.000000</td>\n",
       "      <td>1.000000</td>\n",
       "      <td>NaN</td>\n",
       "    </tr>\n",
       "  </tbody>\n",
       "</table>\n",
       "</div>"
      ],
      "text/plain": [
       "          children  days_employed    dob_years  education_id  \\\n",
       "count  2174.000000            0.0  2174.000000   2174.000000   \n",
       "mean      0.552438            NaN    43.632015      0.800828   \n",
       "std       1.469356            NaN    12.531481      0.530157   \n",
       "min      -1.000000            NaN     0.000000      0.000000   \n",
       "25%       0.000000            NaN    34.000000      0.250000   \n",
       "50%       0.000000            NaN    43.000000      1.000000   \n",
       "75%       1.000000            NaN    54.000000      1.000000   \n",
       "max      20.000000            NaN    73.000000      3.000000   \n",
       "\n",
       "       family_status_id         debt  total_income  \n",
       "count       2174.000000  2174.000000           0.0  \n",
       "mean           0.975161     0.078197           NaN  \n",
       "std            1.418220     0.268543           NaN  \n",
       "min            0.000000     0.000000           NaN  \n",
       "25%            0.000000     0.000000           NaN  \n",
       "50%            0.000000     0.000000           NaN  \n",
       "75%            1.000000     0.000000           NaN  \n",
       "max            4.000000     1.000000           NaN  "
      ]
     },
     "execution_count": 7,
     "metadata": {},
     "output_type": "execute_result"
    }
   ],
   "source": [
    "#comprobación de la distribución\n",
    "credit_score_filtrado_nulo.describe()"
   ]
  },
  {
   "cell_type": "markdown",
   "metadata": {},
   "source": [
    "Al realizar el filtro por valores ausentes en la columna \"days_employed\" se observa que existe una aparente correlación con los datos ausentes de la columna \"total_income\", ya que ambas tienen esos datos ausentes, es decir ambas presentan las mismas 2174 filas, esto tambien se corrobora en la tabla de datos estadísticos(describe).\n"
   ]
  },
  {
   "cell_type": "code",
   "execution_count": 8,
   "metadata": {},
   "outputs": [
    {
     "name": "stdout",
     "output_type": "stream",
     "text": [
      "Porcentaje de datos ausentes en la data original:10%\n"
     ]
    }
   ],
   "source": [
    "#Se determina el porcentaje de datos ausentes en relación a la data original\n",
    "credit_score_original_ausentes = credit_score[\"days_employed\"].count()\n",
    "credit_score_total_original = credit_score[\"days_employed\"].size\n",
    "\n",
    "porcentaje_credit_score_ausentes = (credit_score_total_original-credit_score_original_ausentes)/credit_score_total_original\n",
    "print(f\"Porcentaje de datos ausentes en la data original:{porcentaje_credit_score_ausentes:.0%}\")"
   ]
  },
  {
   "cell_type": "markdown",
   "metadata": {},
   "source": [
    "Conclusión intermedia:\n",
    "\n",
    "Con el cálculo que se acaba de realizar, se determinó que el 10% de la data original presenta faltante en los campos de \"days_employed\" y \"total_income\". Se puede pensar en las siguientes hipótesis:\n",
    "\n",
    "1. Es posible que estos solicitantes tengan un trabajo que no sea continuo, es decir, trabajan por: contratos o proyectos.\n",
    "2. Es posible que trabajen por su cuenta y generan una cantidad de dinero considerada y por razones de seguridad prefieren no divulgarla.\n",
    "3. no trabajen\n"
   ]
  },
  {
   "cell_type": "code",
   "execution_count": 9,
   "metadata": {},
   "outputs": [
    {
     "data": {
      "text/html": [
       "<div>\n",
       "<style scoped>\n",
       "    .dataframe tbody tr th:only-of-type {\n",
       "        vertical-align: middle;\n",
       "    }\n",
       "\n",
       "    .dataframe tbody tr th {\n",
       "        vertical-align: top;\n",
       "    }\n",
       "\n",
       "    .dataframe thead th {\n",
       "        text-align: right;\n",
       "    }\n",
       "</style>\n",
       "<table border=\"1\" class=\"dataframe\">\n",
       "  <thead>\n",
       "    <tr style=\"text-align: right;\">\n",
       "      <th></th>\n",
       "      <th>original</th>\n",
       "      <th>con datos ausentes</th>\n",
       "    </tr>\n",
       "  </thead>\n",
       "  <tbody>\n",
       "    <tr>\n",
       "      <th>employee</th>\n",
       "      <td>0.516562</td>\n",
       "      <td>0.508280</td>\n",
       "    </tr>\n",
       "    <tr>\n",
       "      <th>business</th>\n",
       "      <td>0.236237</td>\n",
       "      <td>0.233671</td>\n",
       "    </tr>\n",
       "    <tr>\n",
       "      <th>retiree</th>\n",
       "      <td>0.179141</td>\n",
       "      <td>0.189972</td>\n",
       "    </tr>\n",
       "    <tr>\n",
       "      <th>civil servant</th>\n",
       "      <td>0.067782</td>\n",
       "      <td>0.067617</td>\n",
       "    </tr>\n",
       "    <tr>\n",
       "      <th>unemployed</th>\n",
       "      <td>0.000093</td>\n",
       "      <td>NaN</td>\n",
       "    </tr>\n",
       "    <tr>\n",
       "      <th>entrepreneur</th>\n",
       "      <td>0.000093</td>\n",
       "      <td>0.000460</td>\n",
       "    </tr>\n",
       "    <tr>\n",
       "      <th>paternity / maternity leave</th>\n",
       "      <td>0.000046</td>\n",
       "      <td>NaN</td>\n",
       "    </tr>\n",
       "    <tr>\n",
       "      <th>student</th>\n",
       "      <td>0.000046</td>\n",
       "      <td>NaN</td>\n",
       "    </tr>\n",
       "  </tbody>\n",
       "</table>\n",
       "</div>"
      ],
      "text/plain": [
       "                             original  con datos ausentes\n",
       "employee                     0.516562            0.508280\n",
       "business                     0.236237            0.233671\n",
       "retiree                      0.179141            0.189972\n",
       "civil servant                0.067782            0.067617\n",
       "unemployed                   0.000093                 NaN\n",
       "entrepreneur                 0.000093            0.000460\n",
       "paternity / maternity leave  0.000046                 NaN\n",
       "student                      0.000046                 NaN"
      ]
     },
     "execution_count": 9,
     "metadata": {},
     "output_type": "execute_result"
    }
   ],
   "source": [
    "#ahora se hace el cálculo considerando la columna \"days_employed\" y la columna \"income_type\" con y sin datos ausentes:\n",
    "def funcion(df, columna, columna_1):\n",
    "    p1 = df[columna].value_counts(normalize=True) \n",
    "    p2 = df[df[columna_1].isna()][columna].value_counts(normalize=True)\n",
    "    d = pd.concat([p1, p2], axis=1)\n",
    "    d.columns = ['original', 'con datos ausentes']\n",
    "    return d\n",
    "funcion(credit_score, \"income_type\", \"days_employed\")"
   ]
  },
  {
   "cell_type": "code",
   "execution_count": 10,
   "metadata": {},
   "outputs": [
    {
     "data": {
      "text/html": [
       "<div>\n",
       "<style scoped>\n",
       "    .dataframe tbody tr th:only-of-type {\n",
       "        vertical-align: middle;\n",
       "    }\n",
       "\n",
       "    .dataframe tbody tr th {\n",
       "        vertical-align: top;\n",
       "    }\n",
       "\n",
       "    .dataframe thead th {\n",
       "        text-align: right;\n",
       "    }\n",
       "</style>\n",
       "<table border=\"1\" class=\"dataframe\">\n",
       "  <thead>\n",
       "    <tr style=\"text-align: right;\">\n",
       "      <th></th>\n",
       "      <th>original</th>\n",
       "      <th>con datos ausentes</th>\n",
       "    </tr>\n",
       "  </thead>\n",
       "  <tbody>\n",
       "    <tr>\n",
       "      <th>married</th>\n",
       "      <td>0.575145</td>\n",
       "      <td>0.568997</td>\n",
       "    </tr>\n",
       "    <tr>\n",
       "      <th>civil partnership</th>\n",
       "      <td>0.194053</td>\n",
       "      <td>0.203312</td>\n",
       "    </tr>\n",
       "    <tr>\n",
       "      <th>unmarried</th>\n",
       "      <td>0.130685</td>\n",
       "      <td>0.132475</td>\n",
       "    </tr>\n",
       "    <tr>\n",
       "      <th>divorced</th>\n",
       "      <td>0.055517</td>\n",
       "      <td>0.051518</td>\n",
       "    </tr>\n",
       "    <tr>\n",
       "      <th>widow / widower</th>\n",
       "      <td>0.044599</td>\n",
       "      <td>0.043698</td>\n",
       "    </tr>\n",
       "  </tbody>\n",
       "</table>\n",
       "</div>"
      ],
      "text/plain": [
       "                   original  con datos ausentes\n",
       "married            0.575145            0.568997\n",
       "civil partnership  0.194053            0.203312\n",
       "unmarried          0.130685            0.132475\n",
       "divorced           0.055517            0.051518\n",
       "widow / widower    0.044599            0.043698"
      ]
     },
     "execution_count": 10,
     "metadata": {},
     "output_type": "execute_result"
    }
   ],
   "source": [
    "#ahora se hace el cálculo considerando la columna \"days_employed\" y la columna \"family_status\" con y sin datos ausentes\n",
    "\n",
    "funcion(credit_score, \"family_status\", \"days_employed\")"
   ]
  },
  {
   "cell_type": "code",
   "execution_count": 11,
   "metadata": {},
   "outputs": [
    {
     "data": {
      "text/html": [
       "<div>\n",
       "<style scoped>\n",
       "    .dataframe tbody tr th:only-of-type {\n",
       "        vertical-align: middle;\n",
       "    }\n",
       "\n",
       "    .dataframe tbody tr th {\n",
       "        vertical-align: top;\n",
       "    }\n",
       "\n",
       "    .dataframe thead th {\n",
       "        text-align: right;\n",
       "    }\n",
       "</style>\n",
       "<table border=\"1\" class=\"dataframe\">\n",
       "  <thead>\n",
       "    <tr style=\"text-align: right;\">\n",
       "      <th></th>\n",
       "      <th>original</th>\n",
       "      <th>con datos ausentes</th>\n",
       "    </tr>\n",
       "  </thead>\n",
       "  <tbody>\n",
       "    <tr>\n",
       "      <th>F</th>\n",
       "      <td>0.661370</td>\n",
       "      <td>0.682613</td>\n",
       "    </tr>\n",
       "    <tr>\n",
       "      <th>M</th>\n",
       "      <td>0.338583</td>\n",
       "      <td>0.317387</td>\n",
       "    </tr>\n",
       "    <tr>\n",
       "      <th>XNA</th>\n",
       "      <td>0.000046</td>\n",
       "      <td>NaN</td>\n",
       "    </tr>\n",
       "  </tbody>\n",
       "</table>\n",
       "</div>"
      ],
      "text/plain": [
       "     original  con datos ausentes\n",
       "F    0.661370            0.682613\n",
       "M    0.338583            0.317387\n",
       "XNA  0.000046                 NaN"
      ]
     },
     "execution_count": 11,
     "metadata": {},
     "output_type": "execute_result"
    }
   ],
   "source": [
    "#ahora comparemos con las otras dos columnas categoricas:\n",
    "\n",
    "funcion(credit_score, \"gender\", \"days_employed\")\n"
   ]
  },
  {
   "cell_type": "code",
   "execution_count": 12,
   "metadata": {},
   "outputs": [
    {
     "data": {
      "text/html": [
       "<div>\n",
       "<style scoped>\n",
       "    .dataframe tbody tr th:only-of-type {\n",
       "        vertical-align: middle;\n",
       "    }\n",
       "\n",
       "    .dataframe tbody tr th {\n",
       "        vertical-align: top;\n",
       "    }\n",
       "\n",
       "    .dataframe thead th {\n",
       "        text-align: right;\n",
       "    }\n",
       "</style>\n",
       "<table border=\"1\" class=\"dataframe\">\n",
       "  <thead>\n",
       "    <tr style=\"text-align: right;\">\n",
       "      <th></th>\n",
       "      <th>original</th>\n",
       "      <th>con datos ausentes</th>\n",
       "    </tr>\n",
       "  </thead>\n",
       "  <tbody>\n",
       "    <tr>\n",
       "      <th>wedding ceremony</th>\n",
       "      <td>0.037027</td>\n",
       "      <td>0.034959</td>\n",
       "    </tr>\n",
       "    <tr>\n",
       "      <th>having a wedding</th>\n",
       "      <td>0.036098</td>\n",
       "      <td>0.042318</td>\n",
       "    </tr>\n",
       "    <tr>\n",
       "      <th>to have a wedding</th>\n",
       "      <td>0.035958</td>\n",
       "      <td>0.037259</td>\n",
       "    </tr>\n",
       "    <tr>\n",
       "      <th>real estate transactions</th>\n",
       "      <td>0.031405</td>\n",
       "      <td>0.028059</td>\n",
       "    </tr>\n",
       "    <tr>\n",
       "      <th>buy commercial real estate</th>\n",
       "      <td>0.030848</td>\n",
       "      <td>0.030819</td>\n",
       "    </tr>\n",
       "    <tr>\n",
       "      <th>housing transactions</th>\n",
       "      <td>0.030337</td>\n",
       "      <td>0.034039</td>\n",
       "    </tr>\n",
       "    <tr>\n",
       "      <th>buying property for renting out</th>\n",
       "      <td>0.030337</td>\n",
       "      <td>0.029899</td>\n",
       "    </tr>\n",
       "    <tr>\n",
       "      <th>transactions with commercial real estate</th>\n",
       "      <td>0.030244</td>\n",
       "      <td>0.032199</td>\n",
       "    </tr>\n",
       "    <tr>\n",
       "      <th>purchase of the house</th>\n",
       "      <td>0.030058</td>\n",
       "      <td>0.023919</td>\n",
       "    </tr>\n",
       "    <tr>\n",
       "      <th>housing</th>\n",
       "      <td>0.030058</td>\n",
       "      <td>0.027599</td>\n",
       "    </tr>\n",
       "    <tr>\n",
       "      <th>purchase of the house for my family</th>\n",
       "      <td>0.029779</td>\n",
       "      <td>0.032659</td>\n",
       "    </tr>\n",
       "    <tr>\n",
       "      <th>construction of own property</th>\n",
       "      <td>0.029501</td>\n",
       "      <td>0.034499</td>\n",
       "    </tr>\n",
       "    <tr>\n",
       "      <th>property</th>\n",
       "      <td>0.029454</td>\n",
       "      <td>0.028519</td>\n",
       "    </tr>\n",
       "    <tr>\n",
       "      <th>transactions with my real estate</th>\n",
       "      <td>0.029268</td>\n",
       "      <td>0.032659</td>\n",
       "    </tr>\n",
       "    <tr>\n",
       "      <th>building a real estate</th>\n",
       "      <td>0.029082</td>\n",
       "      <td>0.021159</td>\n",
       "    </tr>\n",
       "    <tr>\n",
       "      <th>buy real estate</th>\n",
       "      <td>0.028990</td>\n",
       "      <td>0.033119</td>\n",
       "    </tr>\n",
       "    <tr>\n",
       "      <th>building a property</th>\n",
       "      <td>0.028804</td>\n",
       "      <td>0.027139</td>\n",
       "    </tr>\n",
       "    <tr>\n",
       "      <th>purchase of my own house</th>\n",
       "      <td>0.028804</td>\n",
       "      <td>0.021159</td>\n",
       "    </tr>\n",
       "    <tr>\n",
       "      <th>housing renovation</th>\n",
       "      <td>0.028432</td>\n",
       "      <td>0.032199</td>\n",
       "    </tr>\n",
       "    <tr>\n",
       "      <th>buy residential real estate</th>\n",
       "      <td>0.028200</td>\n",
       "      <td>0.028059</td>\n",
       "    </tr>\n",
       "    <tr>\n",
       "      <th>buying my own car</th>\n",
       "      <td>0.023461</td>\n",
       "      <td>0.024379</td>\n",
       "    </tr>\n",
       "    <tr>\n",
       "      <th>going to university</th>\n",
       "      <td>0.023043</td>\n",
       "      <td>0.025759</td>\n",
       "    </tr>\n",
       "    <tr>\n",
       "      <th>car</th>\n",
       "      <td>0.022997</td>\n",
       "      <td>0.018859</td>\n",
       "    </tr>\n",
       "    <tr>\n",
       "      <th>second-hand car purchase</th>\n",
       "      <td>0.022718</td>\n",
       "      <td>0.024839</td>\n",
       "    </tr>\n",
       "    <tr>\n",
       "      <th>to own a car</th>\n",
       "      <td>0.022300</td>\n",
       "      <td>0.023919</td>\n",
       "    </tr>\n",
       "    <tr>\n",
       "      <th>buying a second-hand car</th>\n",
       "      <td>0.022253</td>\n",
       "      <td>0.019319</td>\n",
       "    </tr>\n",
       "    <tr>\n",
       "      <th>cars</th>\n",
       "      <td>0.022207</td>\n",
       "      <td>0.026219</td>\n",
       "    </tr>\n",
       "    <tr>\n",
       "      <th>to buy a car</th>\n",
       "      <td>0.021928</td>\n",
       "      <td>0.013799</td>\n",
       "    </tr>\n",
       "    <tr>\n",
       "      <th>supplementary education</th>\n",
       "      <td>0.021463</td>\n",
       "      <td>0.022079</td>\n",
       "    </tr>\n",
       "    <tr>\n",
       "      <th>car purchase</th>\n",
       "      <td>0.021463</td>\n",
       "      <td>0.019779</td>\n",
       "    </tr>\n",
       "    <tr>\n",
       "      <th>purchase of a car</th>\n",
       "      <td>0.021138</td>\n",
       "      <td>0.021159</td>\n",
       "    </tr>\n",
       "    <tr>\n",
       "      <th>university education</th>\n",
       "      <td>0.021045</td>\n",
       "      <td>0.018399</td>\n",
       "    </tr>\n",
       "    <tr>\n",
       "      <th>to get a supplementary education</th>\n",
       "      <td>0.020767</td>\n",
       "      <td>0.023459</td>\n",
       "    </tr>\n",
       "    <tr>\n",
       "      <th>education</th>\n",
       "      <td>0.020767</td>\n",
       "      <td>0.019319</td>\n",
       "    </tr>\n",
       "    <tr>\n",
       "      <th>getting an education</th>\n",
       "      <td>0.020581</td>\n",
       "      <td>0.022999</td>\n",
       "    </tr>\n",
       "    <tr>\n",
       "      <th>profile education</th>\n",
       "      <td>0.020256</td>\n",
       "      <td>0.021619</td>\n",
       "    </tr>\n",
       "    <tr>\n",
       "      <th>getting higher education</th>\n",
       "      <td>0.019791</td>\n",
       "      <td>0.016559</td>\n",
       "    </tr>\n",
       "    <tr>\n",
       "      <th>to become educated</th>\n",
       "      <td>0.019141</td>\n",
       "      <td>0.025299</td>\n",
       "    </tr>\n",
       "  </tbody>\n",
       "</table>\n",
       "</div>"
      ],
      "text/plain": [
       "                                          original  con datos ausentes\n",
       "wedding ceremony                          0.037027            0.034959\n",
       "having a wedding                          0.036098            0.042318\n",
       "to have a wedding                         0.035958            0.037259\n",
       "real estate transactions                  0.031405            0.028059\n",
       "buy commercial real estate                0.030848            0.030819\n",
       "housing transactions                      0.030337            0.034039\n",
       "buying property for renting out           0.030337            0.029899\n",
       "transactions with commercial real estate  0.030244            0.032199\n",
       "purchase of the house                     0.030058            0.023919\n",
       "housing                                   0.030058            0.027599\n",
       "purchase of the house for my family       0.029779            0.032659\n",
       "construction of own property              0.029501            0.034499\n",
       "property                                  0.029454            0.028519\n",
       "transactions with my real estate          0.029268            0.032659\n",
       "building a real estate                    0.029082            0.021159\n",
       "buy real estate                           0.028990            0.033119\n",
       "building a property                       0.028804            0.027139\n",
       "purchase of my own house                  0.028804            0.021159\n",
       "housing renovation                        0.028432            0.032199\n",
       "buy residential real estate               0.028200            0.028059\n",
       "buying my own car                         0.023461            0.024379\n",
       "going to university                       0.023043            0.025759\n",
       "car                                       0.022997            0.018859\n",
       "second-hand car purchase                  0.022718            0.024839\n",
       "to own a car                              0.022300            0.023919\n",
       "buying a second-hand car                  0.022253            0.019319\n",
       "cars                                      0.022207            0.026219\n",
       "to buy a car                              0.021928            0.013799\n",
       "supplementary education                   0.021463            0.022079\n",
       "car purchase                              0.021463            0.019779\n",
       "purchase of a car                         0.021138            0.021159\n",
       "university education                      0.021045            0.018399\n",
       "to get a supplementary education          0.020767            0.023459\n",
       "education                                 0.020767            0.019319\n",
       "getting an education                      0.020581            0.022999\n",
       "profile education                         0.020256            0.021619\n",
       "getting higher education                  0.019791            0.016559\n",
       "to become educated                        0.019141            0.025299"
      ]
     },
     "execution_count": 12,
     "metadata": {},
     "output_type": "execute_result"
    }
   ],
   "source": [
    "\n",
    "funcion(credit_score, \"purpose\", \"days_employed\")"
   ]
  },
  {
   "cell_type": "code",
   "execution_count": 13,
   "metadata": {},
   "outputs": [
    {
     "data": {
      "text/html": [
       "<div>\n",
       "<style scoped>\n",
       "    .dataframe tbody tr th:only-of-type {\n",
       "        vertical-align: middle;\n",
       "    }\n",
       "\n",
       "    .dataframe tbody tr th {\n",
       "        vertical-align: top;\n",
       "    }\n",
       "\n",
       "    .dataframe thead th {\n",
       "        text-align: right;\n",
       "    }\n",
       "</style>\n",
       "<table border=\"1\" class=\"dataframe\">\n",
       "  <thead>\n",
       "    <tr style=\"text-align: right;\">\n",
       "      <th></th>\n",
       "      <th>original</th>\n",
       "      <th>con datos ausentes</th>\n",
       "    </tr>\n",
       "  </thead>\n",
       "  <tbody>\n",
       "    <tr>\n",
       "      <th>0</th>\n",
       "      <td>0.919117</td>\n",
       "      <td>0.921803</td>\n",
       "    </tr>\n",
       "    <tr>\n",
       "      <th>1</th>\n",
       "      <td>0.080883</td>\n",
       "      <td>0.078197</td>\n",
       "    </tr>\n",
       "  </tbody>\n",
       "</table>\n",
       "</div>"
      ],
      "text/plain": [
       "   original  con datos ausentes\n",
       "0  0.919117            0.921803\n",
       "1  0.080883            0.078197"
      ]
     },
     "execution_count": 13,
     "metadata": {},
     "output_type": "execute_result"
    }
   ],
   "source": [
    "\n",
    "funcion(credit_score, \"debt\", \"days_employed\")\n"
   ]
  },
  {
   "cell_type": "code",
   "execution_count": 14,
   "metadata": {},
   "outputs": [
    {
     "name": "stdout",
     "output_type": "stream",
     "text": [
      "Deudores totales 8.09%\n",
      "Deudores con datos ausentes 7.82%\n"
     ]
    }
   ],
   "source": [
    "#calculo de personas deudoras en la muestra de datos original\n",
    "credit_score_deudores_totales=credit_score[\"debt\"].sum()\n",
    "credit_score_deudores_en_data_original=credit_score[\"debt\"].shape[0]\n",
    "#calculo de deudores en la data filtrada por ausentes\n",
    "credit_score_deudores_con_datos_ausentes=credit_score_filtrado_nulo[\"debt\"].sum()\n",
    "credit_score_deudores_con_datos_ausentes_original=credit_score_filtrado_nulo[\"debt\"].shape[0]\n",
    "#cálculo de porcentaje de deudores\n",
    "relacion_deudores_totales=credit_score_deudores_totales/credit_score_deudores_en_data_original\n",
    "relacion_de_deudores_ausentes=credit_score_deudores_con_datos_ausentes/credit_score_deudores_con_datos_ausentes_original\n",
    "print(f'Deudores totales {relacion_deudores_totales:.2%}'.format(relacion_deudores_totales))\n",
    "print(f'Deudores con datos ausentes {relacion_de_deudores_ausentes:.2%}'.format(relacion_de_deudores_ausentes))\n"
   ]
  },
  {
   "cell_type": "markdown",
   "metadata": {},
   "source": [
    "Las personas sin deudas (92%) son las que dejaron de proporcionar los datos de salarios y tiempo de servicio, contrario a lo esperado por lo que no se encuentra relación."
   ]
  },
  {
   "cell_type": "code",
   "execution_count": 15,
   "metadata": {},
   "outputs": [
    {
     "data": {
      "text/html": [
       "<div>\n",
       "<style scoped>\n",
       "    .dataframe tbody tr th:only-of-type {\n",
       "        vertical-align: middle;\n",
       "    }\n",
       "\n",
       "    .dataframe tbody tr th {\n",
       "        vertical-align: top;\n",
       "    }\n",
       "\n",
       "    .dataframe thead th {\n",
       "        text-align: right;\n",
       "    }\n",
       "</style>\n",
       "<table border=\"1\" class=\"dataframe\">\n",
       "  <thead>\n",
       "    <tr style=\"text-align: right;\">\n",
       "      <th></th>\n",
       "      <th>children</th>\n",
       "      <th>days_employed</th>\n",
       "      <th>dob_years</th>\n",
       "      <th>education_id</th>\n",
       "      <th>family_status_id</th>\n",
       "      <th>debt</th>\n",
       "      <th>total_income</th>\n",
       "    </tr>\n",
       "  </thead>\n",
       "  <tbody>\n",
       "    <tr>\n",
       "      <th>count</th>\n",
       "      <td>21525.000000</td>\n",
       "      <td>19351.000000</td>\n",
       "      <td>21525.000000</td>\n",
       "      <td>21525.000000</td>\n",
       "      <td>21525.000000</td>\n",
       "      <td>21525.000000</td>\n",
       "      <td>19351.000000</td>\n",
       "    </tr>\n",
       "    <tr>\n",
       "      <th>mean</th>\n",
       "      <td>0.538908</td>\n",
       "      <td>63046.497661</td>\n",
       "      <td>43.293380</td>\n",
       "      <td>0.817236</td>\n",
       "      <td>0.972544</td>\n",
       "      <td>0.080883</td>\n",
       "      <td>26787.568355</td>\n",
       "    </tr>\n",
       "    <tr>\n",
       "      <th>std</th>\n",
       "      <td>1.381587</td>\n",
       "      <td>140827.311974</td>\n",
       "      <td>12.574584</td>\n",
       "      <td>0.548138</td>\n",
       "      <td>1.420324</td>\n",
       "      <td>0.272661</td>\n",
       "      <td>16475.450632</td>\n",
       "    </tr>\n",
       "    <tr>\n",
       "      <th>min</th>\n",
       "      <td>-1.000000</td>\n",
       "      <td>-18388.949901</td>\n",
       "      <td>0.000000</td>\n",
       "      <td>0.000000</td>\n",
       "      <td>0.000000</td>\n",
       "      <td>0.000000</td>\n",
       "      <td>3306.762000</td>\n",
       "    </tr>\n",
       "    <tr>\n",
       "      <th>25%</th>\n",
       "      <td>0.000000</td>\n",
       "      <td>-2747.423625</td>\n",
       "      <td>33.000000</td>\n",
       "      <td>1.000000</td>\n",
       "      <td>0.000000</td>\n",
       "      <td>0.000000</td>\n",
       "      <td>16488.504500</td>\n",
       "    </tr>\n",
       "    <tr>\n",
       "      <th>50%</th>\n",
       "      <td>0.000000</td>\n",
       "      <td>-1203.369529</td>\n",
       "      <td>42.000000</td>\n",
       "      <td>1.000000</td>\n",
       "      <td>0.000000</td>\n",
       "      <td>0.000000</td>\n",
       "      <td>23202.870000</td>\n",
       "    </tr>\n",
       "    <tr>\n",
       "      <th>75%</th>\n",
       "      <td>1.000000</td>\n",
       "      <td>-291.095954</td>\n",
       "      <td>53.000000</td>\n",
       "      <td>1.000000</td>\n",
       "      <td>1.000000</td>\n",
       "      <td>0.000000</td>\n",
       "      <td>32549.611000</td>\n",
       "    </tr>\n",
       "    <tr>\n",
       "      <th>max</th>\n",
       "      <td>20.000000</td>\n",
       "      <td>401755.400475</td>\n",
       "      <td>75.000000</td>\n",
       "      <td>4.000000</td>\n",
       "      <td>4.000000</td>\n",
       "      <td>1.000000</td>\n",
       "      <td>362496.645000</td>\n",
       "    </tr>\n",
       "  </tbody>\n",
       "</table>\n",
       "</div>"
      ],
      "text/plain": [
       "           children  days_employed     dob_years  education_id  \\\n",
       "count  21525.000000   19351.000000  21525.000000  21525.000000   \n",
       "mean       0.538908   63046.497661     43.293380      0.817236   \n",
       "std        1.381587  140827.311974     12.574584      0.548138   \n",
       "min       -1.000000  -18388.949901      0.000000      0.000000   \n",
       "25%        0.000000   -2747.423625     33.000000      1.000000   \n",
       "50%        0.000000   -1203.369529     42.000000      1.000000   \n",
       "75%        1.000000    -291.095954     53.000000      1.000000   \n",
       "max       20.000000  401755.400475     75.000000      4.000000   \n",
       "\n",
       "       family_status_id          debt   total_income  \n",
       "count      21525.000000  21525.000000   19351.000000  \n",
       "mean           0.972544      0.080883   26787.568355  \n",
       "std            1.420324      0.272661   16475.450632  \n",
       "min            0.000000      0.000000    3306.762000  \n",
       "25%            0.000000      0.000000   16488.504500  \n",
       "50%            0.000000      0.000000   23202.870000  \n",
       "75%            1.000000      0.000000   32549.611000  \n",
       "max            4.000000      1.000000  362496.645000  "
      ]
     },
     "execution_count": 15,
     "metadata": {},
     "output_type": "execute_result"
    }
   ],
   "source": [
    "# Comprobando la distribución en el conjunto de datos entero con las variables cuantitativas:\n",
    "# para las variables cuantitativas se procedio a determinar los parámtros estadísticos con el metodo describe() antes de eliminar los valores ausentes\n",
    "credit_score.describe()\n"
   ]
  },
  {
   "cell_type": "code",
   "execution_count": 16,
   "metadata": {
    "scrolled": true
   },
   "outputs": [
    {
     "data": {
      "text/html": [
       "<div>\n",
       "<style scoped>\n",
       "    .dataframe tbody tr th:only-of-type {\n",
       "        vertical-align: middle;\n",
       "    }\n",
       "\n",
       "    .dataframe tbody tr th {\n",
       "        vertical-align: top;\n",
       "    }\n",
       "\n",
       "    .dataframe thead th {\n",
       "        text-align: right;\n",
       "    }\n",
       "</style>\n",
       "<table border=\"1\" class=\"dataframe\">\n",
       "  <thead>\n",
       "    <tr style=\"text-align: right;\">\n",
       "      <th></th>\n",
       "      <th>children</th>\n",
       "      <th>days_employed</th>\n",
       "      <th>dob_years</th>\n",
       "      <th>education_id</th>\n",
       "      <th>family_status_id</th>\n",
       "      <th>debt</th>\n",
       "      <th>total_income</th>\n",
       "    </tr>\n",
       "  </thead>\n",
       "  <tbody>\n",
       "    <tr>\n",
       "      <th>children</th>\n",
       "      <td>1.000000</td>\n",
       "      <td>-0.138354</td>\n",
       "      <td>-0.174358</td>\n",
       "      <td>-0.012695</td>\n",
       "      <td>-0.091284</td>\n",
       "      <td>0.018470</td>\n",
       "      <td>0.018220</td>\n",
       "    </tr>\n",
       "    <tr>\n",
       "      <th>days_employed</th>\n",
       "      <td>-0.138354</td>\n",
       "      <td>1.000000</td>\n",
       "      <td>0.582643</td>\n",
       "      <td>0.080565</td>\n",
       "      <td>0.005726</td>\n",
       "      <td>-0.047110</td>\n",
       "      <td>-0.136648</td>\n",
       "    </tr>\n",
       "    <tr>\n",
       "      <th>dob_years</th>\n",
       "      <td>-0.174358</td>\n",
       "      <td>0.582643</td>\n",
       "      <td>1.000000</td>\n",
       "      <td>0.067467</td>\n",
       "      <td>-0.069988</td>\n",
       "      <td>-0.069620</td>\n",
       "      <td>-0.052911</td>\n",
       "    </tr>\n",
       "    <tr>\n",
       "      <th>education_id</th>\n",
       "      <td>-0.012695</td>\n",
       "      <td>0.080565</td>\n",
       "      <td>0.067467</td>\n",
       "      <td>1.000000</td>\n",
       "      <td>0.007876</td>\n",
       "      <td>0.052906</td>\n",
       "      <td>-0.178885</td>\n",
       "    </tr>\n",
       "    <tr>\n",
       "      <th>family_status_id</th>\n",
       "      <td>-0.091284</td>\n",
       "      <td>0.005726</td>\n",
       "      <td>-0.069988</td>\n",
       "      <td>0.007876</td>\n",
       "      <td>1.000000</td>\n",
       "      <td>0.020611</td>\n",
       "      <td>-0.009147</td>\n",
       "    </tr>\n",
       "    <tr>\n",
       "      <th>debt</th>\n",
       "      <td>0.018470</td>\n",
       "      <td>-0.047110</td>\n",
       "      <td>-0.069620</td>\n",
       "      <td>0.052906</td>\n",
       "      <td>0.020611</td>\n",
       "      <td>1.000000</td>\n",
       "      <td>-0.012475</td>\n",
       "    </tr>\n",
       "    <tr>\n",
       "      <th>total_income</th>\n",
       "      <td>0.018220</td>\n",
       "      <td>-0.136648</td>\n",
       "      <td>-0.052911</td>\n",
       "      <td>-0.178885</td>\n",
       "      <td>-0.009147</td>\n",
       "      <td>-0.012475</td>\n",
       "      <td>1.000000</td>\n",
       "    </tr>\n",
       "  </tbody>\n",
       "</table>\n",
       "</div>"
      ],
      "text/plain": [
       "                  children  days_employed  dob_years  education_id  \\\n",
       "children          1.000000      -0.138354  -0.174358     -0.012695   \n",
       "days_employed    -0.138354       1.000000   0.582643      0.080565   \n",
       "dob_years        -0.174358       0.582643   1.000000      0.067467   \n",
       "education_id     -0.012695       0.080565   0.067467      1.000000   \n",
       "family_status_id -0.091284       0.005726  -0.069988      0.007876   \n",
       "debt              0.018470      -0.047110  -0.069620      0.052906   \n",
       "total_income      0.018220      -0.136648  -0.052911     -0.178885   \n",
       "\n",
       "                  family_status_id      debt  total_income  \n",
       "children                 -0.091284  0.018470      0.018220  \n",
       "days_employed             0.005726 -0.047110     -0.136648  \n",
       "dob_years                -0.069988 -0.069620     -0.052911  \n",
       "education_id              0.007876  0.052906     -0.178885  \n",
       "family_status_id          1.000000  0.020611     -0.009147  \n",
       "debt                      0.020611  1.000000     -0.012475  \n",
       "total_income             -0.009147 -0.012475      1.000000  "
      ]
     },
     "execution_count": 16,
     "metadata": {},
     "output_type": "execute_result"
    }
   ],
   "source": [
    "#igualmente se determino el calculo de coeficiente de correlación según el método pherson, esto para ver la contribución de cada variable\n",
    "credit_score.corr(method=\"pearson\")\n",
    "\n",
    "\n"
   ]
  },
  {
   "cell_type": "code",
   "execution_count": 17,
   "metadata": {
    "scrolled": true
   },
   "outputs": [
    {
     "data": {
      "text/html": [
       "<div>\n",
       "<style scoped>\n",
       "    .dataframe tbody tr th:only-of-type {\n",
       "        vertical-align: middle;\n",
       "    }\n",
       "\n",
       "    .dataframe tbody tr th {\n",
       "        vertical-align: top;\n",
       "    }\n",
       "\n",
       "    .dataframe thead th {\n",
       "        text-align: right;\n",
       "    }\n",
       "</style>\n",
       "<table border=\"1\" class=\"dataframe\">\n",
       "  <thead>\n",
       "    <tr style=\"text-align: right;\">\n",
       "      <th></th>\n",
       "      <th>original</th>\n",
       "      <th>con datos ausentes</th>\n",
       "    </tr>\n",
       "  </thead>\n",
       "  <tbody>\n",
       "    <tr>\n",
       "      <th>0</th>\n",
       "      <td>0.004692</td>\n",
       "      <td>0.004600</td>\n",
       "    </tr>\n",
       "    <tr>\n",
       "      <th>19</th>\n",
       "      <td>0.000650</td>\n",
       "      <td>0.000460</td>\n",
       "    </tr>\n",
       "    <tr>\n",
       "      <th>20</th>\n",
       "      <td>0.002369</td>\n",
       "      <td>0.002300</td>\n",
       "    </tr>\n",
       "    <tr>\n",
       "      <th>21</th>\n",
       "      <td>0.005157</td>\n",
       "      <td>0.008280</td>\n",
       "    </tr>\n",
       "    <tr>\n",
       "      <th>22</th>\n",
       "      <td>0.008502</td>\n",
       "      <td>0.007820</td>\n",
       "    </tr>\n",
       "    <tr>\n",
       "      <th>23</th>\n",
       "      <td>0.011800</td>\n",
       "      <td>0.016559</td>\n",
       "    </tr>\n",
       "    <tr>\n",
       "      <th>24</th>\n",
       "      <td>0.012265</td>\n",
       "      <td>0.009660</td>\n",
       "    </tr>\n",
       "    <tr>\n",
       "      <th>25</th>\n",
       "      <td>0.016585</td>\n",
       "      <td>0.010580</td>\n",
       "    </tr>\n",
       "    <tr>\n",
       "      <th>26</th>\n",
       "      <td>0.018955</td>\n",
       "      <td>0.016099</td>\n",
       "    </tr>\n",
       "    <tr>\n",
       "      <th>27</th>\n",
       "      <td>0.022904</td>\n",
       "      <td>0.016559</td>\n",
       "    </tr>\n",
       "    <tr>\n",
       "      <th>28</th>\n",
       "      <td>0.023368</td>\n",
       "      <td>0.026219</td>\n",
       "    </tr>\n",
       "    <tr>\n",
       "      <th>29</th>\n",
       "      <td>0.025319</td>\n",
       "      <td>0.022999</td>\n",
       "    </tr>\n",
       "    <tr>\n",
       "      <th>30</th>\n",
       "      <td>0.025087</td>\n",
       "      <td>0.026679</td>\n",
       "    </tr>\n",
       "    <tr>\n",
       "      <th>31</th>\n",
       "      <td>0.026016</td>\n",
       "      <td>0.029899</td>\n",
       "    </tr>\n",
       "    <tr>\n",
       "      <th>32</th>\n",
       "      <td>0.023693</td>\n",
       "      <td>0.017019</td>\n",
       "    </tr>\n",
       "    <tr>\n",
       "      <th>33</th>\n",
       "      <td>0.026992</td>\n",
       "      <td>0.023459</td>\n",
       "    </tr>\n",
       "    <tr>\n",
       "      <th>34</th>\n",
       "      <td>0.028014</td>\n",
       "      <td>0.031739</td>\n",
       "    </tr>\n",
       "    <tr>\n",
       "      <th>35</th>\n",
       "      <td>0.028664</td>\n",
       "      <td>0.029439</td>\n",
       "    </tr>\n",
       "    <tr>\n",
       "      <th>36</th>\n",
       "      <td>0.025784</td>\n",
       "      <td>0.028979</td>\n",
       "    </tr>\n",
       "    <tr>\n",
       "      <th>37</th>\n",
       "      <td>0.024948</td>\n",
       "      <td>0.024379</td>\n",
       "    </tr>\n",
       "    <tr>\n",
       "      <th>38</th>\n",
       "      <td>0.027782</td>\n",
       "      <td>0.024839</td>\n",
       "    </tr>\n",
       "    <tr>\n",
       "      <th>39</th>\n",
       "      <td>0.026620</td>\n",
       "      <td>0.023459</td>\n",
       "    </tr>\n",
       "    <tr>\n",
       "      <th>40</th>\n",
       "      <td>0.028293</td>\n",
       "      <td>0.030359</td>\n",
       "    </tr>\n",
       "    <tr>\n",
       "      <th>41</th>\n",
       "      <td>0.028200</td>\n",
       "      <td>0.027139</td>\n",
       "    </tr>\n",
       "    <tr>\n",
       "      <th>42</th>\n",
       "      <td>0.027735</td>\n",
       "      <td>0.029899</td>\n",
       "    </tr>\n",
       "    <tr>\n",
       "      <th>43</th>\n",
       "      <td>0.023833</td>\n",
       "      <td>0.022999</td>\n",
       "    </tr>\n",
       "    <tr>\n",
       "      <th>44</th>\n",
       "      <td>0.025412</td>\n",
       "      <td>0.020239</td>\n",
       "    </tr>\n",
       "    <tr>\n",
       "      <th>45</th>\n",
       "      <td>0.023089</td>\n",
       "      <td>0.022999</td>\n",
       "    </tr>\n",
       "    <tr>\n",
       "      <th>46</th>\n",
       "      <td>0.022067</td>\n",
       "      <td>0.022079</td>\n",
       "    </tr>\n",
       "    <tr>\n",
       "      <th>47</th>\n",
       "      <td>0.022300</td>\n",
       "      <td>0.027139</td>\n",
       "    </tr>\n",
       "    <tr>\n",
       "      <th>48</th>\n",
       "      <td>0.024994</td>\n",
       "      <td>0.021159</td>\n",
       "    </tr>\n",
       "    <tr>\n",
       "      <th>49</th>\n",
       "      <td>0.023600</td>\n",
       "      <td>0.022999</td>\n",
       "    </tr>\n",
       "    <tr>\n",
       "      <th>50</th>\n",
       "      <td>0.023879</td>\n",
       "      <td>0.023459</td>\n",
       "    </tr>\n",
       "    <tr>\n",
       "      <th>51</th>\n",
       "      <td>0.020813</td>\n",
       "      <td>0.022999</td>\n",
       "    </tr>\n",
       "    <tr>\n",
       "      <th>52</th>\n",
       "      <td>0.022485</td>\n",
       "      <td>0.024379</td>\n",
       "    </tr>\n",
       "    <tr>\n",
       "      <th>53</th>\n",
       "      <td>0.021324</td>\n",
       "      <td>0.020239</td>\n",
       "    </tr>\n",
       "    <tr>\n",
       "      <th>54</th>\n",
       "      <td>0.022253</td>\n",
       "      <td>0.025299</td>\n",
       "    </tr>\n",
       "    <tr>\n",
       "      <th>55</th>\n",
       "      <td>0.020581</td>\n",
       "      <td>0.022079</td>\n",
       "    </tr>\n",
       "    <tr>\n",
       "      <th>56</th>\n",
       "      <td>0.022625</td>\n",
       "      <td>0.024839</td>\n",
       "    </tr>\n",
       "    <tr>\n",
       "      <th>57</th>\n",
       "      <td>0.021370</td>\n",
       "      <td>0.025759</td>\n",
       "    </tr>\n",
       "    <tr>\n",
       "      <th>58</th>\n",
       "      <td>0.021417</td>\n",
       "      <td>0.025759</td>\n",
       "    </tr>\n",
       "    <tr>\n",
       "      <th>59</th>\n",
       "      <td>0.020627</td>\n",
       "      <td>0.015639</td>\n",
       "    </tr>\n",
       "    <tr>\n",
       "      <th>60</th>\n",
       "      <td>0.017515</td>\n",
       "      <td>0.017939</td>\n",
       "    </tr>\n",
       "    <tr>\n",
       "      <th>61</th>\n",
       "      <td>0.016492</td>\n",
       "      <td>0.017479</td>\n",
       "    </tr>\n",
       "    <tr>\n",
       "      <th>62</th>\n",
       "      <td>0.016353</td>\n",
       "      <td>0.017479</td>\n",
       "    </tr>\n",
       "    <tr>\n",
       "      <th>63</th>\n",
       "      <td>0.012497</td>\n",
       "      <td>0.013339</td>\n",
       "    </tr>\n",
       "    <tr>\n",
       "      <th>64</th>\n",
       "      <td>0.012311</td>\n",
       "      <td>0.017019</td>\n",
       "    </tr>\n",
       "    <tr>\n",
       "      <th>65</th>\n",
       "      <td>0.009013</td>\n",
       "      <td>0.009200</td>\n",
       "    </tr>\n",
       "    <tr>\n",
       "      <th>66</th>\n",
       "      <td>0.008502</td>\n",
       "      <td>0.009200</td>\n",
       "    </tr>\n",
       "    <tr>\n",
       "      <th>67</th>\n",
       "      <td>0.007758</td>\n",
       "      <td>0.007360</td>\n",
       "    </tr>\n",
       "    <tr>\n",
       "      <th>68</th>\n",
       "      <td>0.004599</td>\n",
       "      <td>0.004140</td>\n",
       "    </tr>\n",
       "    <tr>\n",
       "      <th>69</th>\n",
       "      <td>0.003949</td>\n",
       "      <td>0.002300</td>\n",
       "    </tr>\n",
       "    <tr>\n",
       "      <th>70</th>\n",
       "      <td>0.003020</td>\n",
       "      <td>0.001380</td>\n",
       "    </tr>\n",
       "    <tr>\n",
       "      <th>71</th>\n",
       "      <td>0.002695</td>\n",
       "      <td>0.002300</td>\n",
       "    </tr>\n",
       "    <tr>\n",
       "      <th>72</th>\n",
       "      <td>0.001533</td>\n",
       "      <td>0.000920</td>\n",
       "    </tr>\n",
       "    <tr>\n",
       "      <th>73</th>\n",
       "      <td>0.000372</td>\n",
       "      <td>0.000460</td>\n",
       "    </tr>\n",
       "    <tr>\n",
       "      <th>74</th>\n",
       "      <td>0.000279</td>\n",
       "      <td>NaN</td>\n",
       "    </tr>\n",
       "    <tr>\n",
       "      <th>75</th>\n",
       "      <td>0.000046</td>\n",
       "      <td>NaN</td>\n",
       "    </tr>\n",
       "  </tbody>\n",
       "</table>\n",
       "</div>"
      ],
      "text/plain": [
       "    original  con datos ausentes\n",
       "0   0.004692            0.004600\n",
       "19  0.000650            0.000460\n",
       "20  0.002369            0.002300\n",
       "21  0.005157            0.008280\n",
       "22  0.008502            0.007820\n",
       "23  0.011800            0.016559\n",
       "24  0.012265            0.009660\n",
       "25  0.016585            0.010580\n",
       "26  0.018955            0.016099\n",
       "27  0.022904            0.016559\n",
       "28  0.023368            0.026219\n",
       "29  0.025319            0.022999\n",
       "30  0.025087            0.026679\n",
       "31  0.026016            0.029899\n",
       "32  0.023693            0.017019\n",
       "33  0.026992            0.023459\n",
       "34  0.028014            0.031739\n",
       "35  0.028664            0.029439\n",
       "36  0.025784            0.028979\n",
       "37  0.024948            0.024379\n",
       "38  0.027782            0.024839\n",
       "39  0.026620            0.023459\n",
       "40  0.028293            0.030359\n",
       "41  0.028200            0.027139\n",
       "42  0.027735            0.029899\n",
       "43  0.023833            0.022999\n",
       "44  0.025412            0.020239\n",
       "45  0.023089            0.022999\n",
       "46  0.022067            0.022079\n",
       "47  0.022300            0.027139\n",
       "48  0.024994            0.021159\n",
       "49  0.023600            0.022999\n",
       "50  0.023879            0.023459\n",
       "51  0.020813            0.022999\n",
       "52  0.022485            0.024379\n",
       "53  0.021324            0.020239\n",
       "54  0.022253            0.025299\n",
       "55  0.020581            0.022079\n",
       "56  0.022625            0.024839\n",
       "57  0.021370            0.025759\n",
       "58  0.021417            0.025759\n",
       "59  0.020627            0.015639\n",
       "60  0.017515            0.017939\n",
       "61  0.016492            0.017479\n",
       "62  0.016353            0.017479\n",
       "63  0.012497            0.013339\n",
       "64  0.012311            0.017019\n",
       "65  0.009013            0.009200\n",
       "66  0.008502            0.009200\n",
       "67  0.007758            0.007360\n",
       "68  0.004599            0.004140\n",
       "69  0.003949            0.002300\n",
       "70  0.003020            0.001380\n",
       "71  0.002695            0.002300\n",
       "72  0.001533            0.000920\n",
       "73  0.000372            0.000460\n",
       "74  0.000279                 NaN\n",
       "75  0.000046                 NaN"
      ]
     },
     "execution_count": 17,
     "metadata": {},
     "output_type": "execute_result"
    }
   ],
   "source": [
    "\n",
    "funcion(credit_score, \"dob_years\", \"days_employed\")"
   ]
  },
  {
   "cell_type": "code",
   "execution_count": 18,
   "metadata": {},
   "outputs": [
    {
     "data": {
      "text/html": [
       "<div>\n",
       "<style scoped>\n",
       "    .dataframe tbody tr th:only-of-type {\n",
       "        vertical-align: middle;\n",
       "    }\n",
       "\n",
       "    .dataframe tbody tr th {\n",
       "        vertical-align: top;\n",
       "    }\n",
       "\n",
       "    .dataframe thead th {\n",
       "        text-align: right;\n",
       "    }\n",
       "</style>\n",
       "<table border=\"1\" class=\"dataframe\">\n",
       "  <thead>\n",
       "    <tr style=\"text-align: right;\">\n",
       "      <th></th>\n",
       "      <th>original</th>\n",
       "      <th>con datos ausentes</th>\n",
       "    </tr>\n",
       "  </thead>\n",
       "  <tbody>\n",
       "    <tr>\n",
       "      <th>-1</th>\n",
       "      <td>0.002184</td>\n",
       "      <td>0.001380</td>\n",
       "    </tr>\n",
       "    <tr>\n",
       "      <th>0</th>\n",
       "      <td>0.657329</td>\n",
       "      <td>0.661914</td>\n",
       "    </tr>\n",
       "    <tr>\n",
       "      <th>1</th>\n",
       "      <td>0.223833</td>\n",
       "      <td>0.218491</td>\n",
       "    </tr>\n",
       "    <tr>\n",
       "      <th>2</th>\n",
       "      <td>0.095470</td>\n",
       "      <td>0.093836</td>\n",
       "    </tr>\n",
       "    <tr>\n",
       "      <th>3</th>\n",
       "      <td>0.015331</td>\n",
       "      <td>0.016559</td>\n",
       "    </tr>\n",
       "    <tr>\n",
       "      <th>4</th>\n",
       "      <td>0.001905</td>\n",
       "      <td>0.003220</td>\n",
       "    </tr>\n",
       "    <tr>\n",
       "      <th>5</th>\n",
       "      <td>0.000418</td>\n",
       "      <td>0.000460</td>\n",
       "    </tr>\n",
       "    <tr>\n",
       "      <th>20</th>\n",
       "      <td>0.003531</td>\n",
       "      <td>0.004140</td>\n",
       "    </tr>\n",
       "  </tbody>\n",
       "</table>\n",
       "</div>"
      ],
      "text/plain": [
       "     original  con datos ausentes\n",
       "-1   0.002184            0.001380\n",
       " 0   0.657329            0.661914\n",
       " 1   0.223833            0.218491\n",
       " 2   0.095470            0.093836\n",
       " 3   0.015331            0.016559\n",
       " 4   0.001905            0.003220\n",
       " 5   0.000418            0.000460\n",
       " 20  0.003531            0.004140"
      ]
     },
     "execution_count": 18,
     "metadata": {},
     "output_type": "execute_result"
    }
   ],
   "source": [
    "\n",
    "funcion(credit_score, \"children\", \"total_income\")"
   ]
  },
  {
   "cell_type": "markdown",
   "metadata": {},
   "source": [
    "Con las variables cuantitativas:\n",
    "\n",
    "\n",
    "2. De acuerdo al índice de correlación, se observó que aparentemente para la columna \"days_employed\" la mayor relación es con \"dob_years\" y sin embargo, es tan variado el rango de edades que no hay un patrón definido. \n",
    "3. Para la columna \"total_income\" hay una debil relacion con \"children\" y son aquellos solicitantes sin hijos los que mayormente dejaron de reportar sus ingresos.\n",
    " \n",
    "\n"
   ]
  },
  {
   "cell_type": "markdown",
   "metadata": {},
   "source": [
    "**Conclusiones**\n",
    "\n",
    "Con la información suministrada y el análisis realizado no se encontró ningún patrón que sugiera la ausencia de datos en los campos de salario y tiempo de servicio. Si se analizó la relación con las variables categóricas y cuantitativas, sin embargo, no siguen un patrón.\n",
    "\n",
    "A continuación, seguiremos con el análisis de la información y para ello abordaremos algunos problemas detectados y mencionados al principio del proyecto:\n",
    "\n",
    "1. En la columna \"days_employed\" hay valores negativos. \n",
    "\n",
    "2. La columna \"children\" reporta valores negativos.\n",
    "\n",
    "3. valores repetidos en minúsculas y mayúsculas en la columna \"education\"\n",
    "\n"
   ]
  },
  {
   "cell_type": "markdown",
   "metadata": {},
   "source": [
    "## Transformación de datos\n",
    "\n",
    "El primer problema detectado fue en la columna de \"education\" en donde se observan campos repetidos pero por el uso de mayúsculas, por lo que se procederá a convertir todo el campo en minúscula.\n",
    "\n"
   ]
  },
  {
   "cell_type": "code",
   "execution_count": 19,
   "metadata": {},
   "outputs": [
    {
     "name": "stdout",
     "output_type": "stream",
     "text": [
      "[\"bachelor's degree\" 'secondary education' 'Secondary Education'\n",
      " 'SECONDARY EDUCATION' \"BACHELOR'S DEGREE\" 'some college'\n",
      " 'primary education' \"Bachelor's Degree\" 'SOME COLLEGE' 'Some College'\n",
      " 'PRIMARY EDUCATION' 'Primary Education' 'Graduate Degree'\n",
      " 'GRADUATE DEGREE' 'graduate degree']\n"
     ]
    }
   ],
   "source": [
    "# Veamos todos los valores en la columna de educación para verificar si será necesario corregir la ortografía y qué habrá que corregir exactamente\n",
    "print(credit_score[\"education\"].unique())"
   ]
  },
  {
   "cell_type": "code",
   "execution_count": 20,
   "metadata": {},
   "outputs": [],
   "source": [
    "# Comprobar todos los valores en la columna para asegurarnos de que los hayamos corregido\n",
    "credit_score[\"education\"]=credit_score[\"education\"].str.lower()\n"
   ]
  },
  {
   "cell_type": "code",
   "execution_count": 21,
   "metadata": {},
   "outputs": [
    {
     "name": "stdout",
     "output_type": "stream",
     "text": [
      "[\"bachelor's degree\" 'secondary education' 'some college'\n",
      " 'primary education' 'graduate degree']\n"
     ]
    }
   ],
   "source": [
    "# Comprobar todos los valores en la columna para asegurarnos de que los hayamos corregido\n",
    "print(credit_score[\"education\"].unique())"
   ]
  },
  {
   "cell_type": "markdown",
   "metadata": {},
   "source": [
    "Ahora se realizara un llamado de la función value_counts para detectar los valores en la columna \"children\" ya que al menos se observó en los llamados anteriores de la tabla la presencia de número negativo."
   ]
  },
  {
   "cell_type": "code",
   "execution_count": 22,
   "metadata": {
    "scrolled": true
   },
   "outputs": [
    {
     "data": {
      "text/plain": [
       " 0     14149\n",
       " 1      4818\n",
       " 2      2055\n",
       " 3       330\n",
       " 20       76\n",
       "-1        47\n",
       " 4        41\n",
       " 5         9\n",
       "Name: children, dtype: int64"
      ]
     },
     "execution_count": 22,
     "metadata": {},
     "output_type": "execute_result"
    }
   ],
   "source": [
    "# Veamos la distribución de los valores en la columna `children`\n",
    "credit_score[\"children\"].value_counts() \n"
   ]
  },
  {
   "cell_type": "code",
   "execution_count": 23,
   "metadata": {},
   "outputs": [
    {
     "data": {
      "text/plain": [
       "count    21525.000000\n",
       "mean         0.538908\n",
       "std          1.381587\n",
       "min         -1.000000\n",
       "25%          0.000000\n",
       "50%          0.000000\n",
       "75%          1.000000\n",
       "max         20.000000\n",
       "Name: children, dtype: float64"
      ]
     },
     "execution_count": 23,
     "metadata": {},
     "output_type": "execute_result"
    }
   ],
   "source": [
    "credit_score[\"children\"].describe()"
   ]
  },
  {
   "cell_type": "markdown",
   "metadata": {},
   "source": [
    "En la columna children se observa que existen datos inconsistentes:\n",
    "1. cantidad de hijos negativos \n",
    "2. Cantidad de hijos 20, lo que se sale del tercer cuartil"
   ]
  },
  {
   "cell_type": "code",
   "execution_count": 24,
   "metadata": {},
   "outputs": [
    {
     "data": {
      "text/plain": [
       " 0     0.657329\n",
       " 1     0.223833\n",
       " 2     0.095470\n",
       " 3     0.015331\n",
       " 20    0.003531\n",
       "-1     0.002184\n",
       " 4     0.001905\n",
       " 5     0.000418\n",
       "Name: children, dtype: float64"
      ]
     },
     "execution_count": 24,
     "metadata": {},
     "output_type": "execute_result"
    }
   ],
   "source": [
    "credit_score[\"children\"].value_counts(normalize=True)"
   ]
  },
  {
   "cell_type": "markdown",
   "metadata": {},
   "source": [
    " \n",
    "Revisando los datos proporcionados en la columna \"children\" se observa que existe una porción con el valor de -1, lo cual es ilógico con la realidad, pues nadie tiene hijos \"negativos\" o si?, la verdad es que los solicitantes tienen hijos (hijos > 0) o no tienen (hijos = 0).\n",
    "1. Sin embargo, el porcentaje de datos con valores negativos es menor a 1% por lo que se podrían eliminar ó sustituir por \"1\", asumiendo un error de dedo o bien hasta podría deberse a que su hijo fallecio o aún no nace.........ya estamos especulando.\n",
    "\n",
    "2. El valor de 20 tambien es menor al 1% por lo que igualmente se puede asumir un error de dedo y fuere de 2 el valor real.\n",
    "\n",
    "Para proseguir con nuestro análisis cambiaremos estos valores por 1 y 2."
   ]
  },
  {
   "cell_type": "code",
   "execution_count": 25,
   "metadata": {},
   "outputs": [],
   "source": [
    "# [arregla los datos según tu decisión]\n",
    "credit_score.loc[credit_score[\"children\"]==-1, \"children\"] = 1\n",
    "credit_score.loc[credit_score[\"children\"]==20, \"children\"] = 2"
   ]
  },
  {
   "cell_type": "markdown",
   "metadata": {},
   "source": [
    "<div class=\"alert alert-block alert-success\">\n",
    "<b>Éxito</b> <a class=\"tocSkip\"></a>\n",
    "\n",
    "Excelente y lógica decisión!!    \n",
    "</div>"
   ]
  },
  {
   "cell_type": "code",
   "execution_count": 26,
   "metadata": {},
   "outputs": [
    {
     "name": "stdout",
     "output_type": "stream",
     "text": [
      "[1 0 3 2 4 5]\n"
     ]
    }
   ],
   "source": [
    "# Comprobar la columna `children` de nuevo para asegurarnos de que todo está arreglado\n",
    "print(credit_score[\"children\"].unique())\n"
   ]
  },
  {
   "cell_type": "markdown",
   "metadata": {},
   "source": [
    "Ahora se procederá con la columna \"days_employed\" la cual ya se sabe de antemano que tiene números negativos, pero profundizaremos un poco más a ver si hay alguna incosistencia."
   ]
  },
  {
   "cell_type": "code",
   "execution_count": 27,
   "metadata": {},
   "outputs": [
    {
     "data": {
      "text/plain": [
       "-327.685916     1\n",
       "-1580.622577    1\n",
       "-4122.460569    1\n",
       "-2828.237691    1\n",
       "-2636.090517    1\n",
       "               ..\n",
       "-7120.517564    1\n",
       "-2146.884040    1\n",
       "-881.454684     1\n",
       "-794.666350     1\n",
       "-3382.113891    1\n",
       "Name: days_employed, Length: 19351, dtype: int64"
      ]
     },
     "execution_count": 27,
     "metadata": {},
     "output_type": "execute_result"
    }
   ],
   "source": [
    "# Encuentra datos problemáticos en `days_employed`, si existen, y calcula el porcentaje\n",
    "credit_score[\"days_employed\"].value_counts()\n"
   ]
  },
  {
   "cell_type": "code",
   "execution_count": 28,
   "metadata": {},
   "outputs": [
    {
     "name": "stdout",
     "output_type": "stream",
     "text": [
      "porcentaje de tiempo de servicio con valor menor a cero:82%\n"
     ]
    }
   ],
   "source": [
    "#determinaremos el porcentaje de la data que corresponde a números negativos para ver si fue un error de dedo que pueda ser descartado\n",
    "porcentaje_days_employed =credit_score.loc[credit_score[\"days_employed\"]<0].count()[\"days_employed\"] /credit_score[\"days_employed\"].count()\n",
    "print(f\"porcentaje de tiempo de servicio con valor menor a cero:{porcentaje_days_employed:.0%}\")"
   ]
  },
  {
   "cell_type": "markdown",
   "metadata": {},
   "source": [
    "<div class=\"alert alert-block alert-success\">\n",
    "<b>Éxito</b> <a class=\"tocSkip\"></a>\n",
    "\n",
    "Muchos datos negativos!</div>"
   ]
  },
  {
   "cell_type": "code",
   "execution_count": 29,
   "metadata": {
    "scrolled": true
   },
   "outputs": [
    {
     "data": {
      "text/html": [
       "<div>\n",
       "<style scoped>\n",
       "    .dataframe tbody tr th:only-of-type {\n",
       "        vertical-align: middle;\n",
       "    }\n",
       "\n",
       "    .dataframe tbody tr th {\n",
       "        vertical-align: top;\n",
       "    }\n",
       "\n",
       "    .dataframe thead th {\n",
       "        text-align: right;\n",
       "    }\n",
       "</style>\n",
       "<table border=\"1\" class=\"dataframe\">\n",
       "  <thead>\n",
       "    <tr style=\"text-align: right;\">\n",
       "      <th></th>\n",
       "      <th>children</th>\n",
       "      <th>days_employed</th>\n",
       "      <th>dob_years</th>\n",
       "      <th>education</th>\n",
       "      <th>education_id</th>\n",
       "      <th>family_status</th>\n",
       "      <th>family_status_id</th>\n",
       "      <th>gender</th>\n",
       "      <th>income_type</th>\n",
       "      <th>debt</th>\n",
       "      <th>total_income</th>\n",
       "      <th>purpose</th>\n",
       "      <th>days_employed_year</th>\n",
       "    </tr>\n",
       "  </thead>\n",
       "  <tbody>\n",
       "    <tr>\n",
       "      <th>0</th>\n",
       "      <td>1</td>\n",
       "      <td>-8437.673028</td>\n",
       "      <td>42</td>\n",
       "      <td>bachelor's degree</td>\n",
       "      <td>0</td>\n",
       "      <td>married</td>\n",
       "      <td>0</td>\n",
       "      <td>F</td>\n",
       "      <td>employee</td>\n",
       "      <td>0</td>\n",
       "      <td>40620.102</td>\n",
       "      <td>purchase of the house</td>\n",
       "      <td>-23.116912</td>\n",
       "    </tr>\n",
       "    <tr>\n",
       "      <th>1</th>\n",
       "      <td>1</td>\n",
       "      <td>-4024.803754</td>\n",
       "      <td>36</td>\n",
       "      <td>secondary education</td>\n",
       "      <td>1</td>\n",
       "      <td>married</td>\n",
       "      <td>0</td>\n",
       "      <td>F</td>\n",
       "      <td>employee</td>\n",
       "      <td>0</td>\n",
       "      <td>17932.802</td>\n",
       "      <td>car purchase</td>\n",
       "      <td>-11.026860</td>\n",
       "    </tr>\n",
       "    <tr>\n",
       "      <th>2</th>\n",
       "      <td>0</td>\n",
       "      <td>-5623.422610</td>\n",
       "      <td>33</td>\n",
       "      <td>secondary education</td>\n",
       "      <td>1</td>\n",
       "      <td>married</td>\n",
       "      <td>0</td>\n",
       "      <td>M</td>\n",
       "      <td>employee</td>\n",
       "      <td>0</td>\n",
       "      <td>23341.752</td>\n",
       "      <td>purchase of the house</td>\n",
       "      <td>-15.406637</td>\n",
       "    </tr>\n",
       "    <tr>\n",
       "      <th>3</th>\n",
       "      <td>3</td>\n",
       "      <td>-4124.747207</td>\n",
       "      <td>32</td>\n",
       "      <td>secondary education</td>\n",
       "      <td>1</td>\n",
       "      <td>married</td>\n",
       "      <td>0</td>\n",
       "      <td>M</td>\n",
       "      <td>employee</td>\n",
       "      <td>0</td>\n",
       "      <td>42820.568</td>\n",
       "      <td>supplementary education</td>\n",
       "      <td>-11.300677</td>\n",
       "    </tr>\n",
       "    <tr>\n",
       "      <th>4</th>\n",
       "      <td>0</td>\n",
       "      <td>340266.072047</td>\n",
       "      <td>53</td>\n",
       "      <td>secondary education</td>\n",
       "      <td>1</td>\n",
       "      <td>civil partnership</td>\n",
       "      <td>1</td>\n",
       "      <td>F</td>\n",
       "      <td>retiree</td>\n",
       "      <td>0</td>\n",
       "      <td>25378.572</td>\n",
       "      <td>to have a wedding</td>\n",
       "      <td>932.235814</td>\n",
       "    </tr>\n",
       "    <tr>\n",
       "      <th>5</th>\n",
       "      <td>0</td>\n",
       "      <td>-926.185831</td>\n",
       "      <td>27</td>\n",
       "      <td>bachelor's degree</td>\n",
       "      <td>0</td>\n",
       "      <td>civil partnership</td>\n",
       "      <td>1</td>\n",
       "      <td>M</td>\n",
       "      <td>business</td>\n",
       "      <td>0</td>\n",
       "      <td>40922.170</td>\n",
       "      <td>purchase of the house</td>\n",
       "      <td>-2.537495</td>\n",
       "    </tr>\n",
       "    <tr>\n",
       "      <th>6</th>\n",
       "      <td>0</td>\n",
       "      <td>-2879.202052</td>\n",
       "      <td>43</td>\n",
       "      <td>bachelor's degree</td>\n",
       "      <td>0</td>\n",
       "      <td>married</td>\n",
       "      <td>0</td>\n",
       "      <td>F</td>\n",
       "      <td>business</td>\n",
       "      <td>0</td>\n",
       "      <td>38484.156</td>\n",
       "      <td>housing transactions</td>\n",
       "      <td>-7.888225</td>\n",
       "    </tr>\n",
       "    <tr>\n",
       "      <th>7</th>\n",
       "      <td>0</td>\n",
       "      <td>-152.779569</td>\n",
       "      <td>50</td>\n",
       "      <td>secondary education</td>\n",
       "      <td>1</td>\n",
       "      <td>married</td>\n",
       "      <td>0</td>\n",
       "      <td>M</td>\n",
       "      <td>employee</td>\n",
       "      <td>0</td>\n",
       "      <td>21731.829</td>\n",
       "      <td>education</td>\n",
       "      <td>-0.418574</td>\n",
       "    </tr>\n",
       "    <tr>\n",
       "      <th>8</th>\n",
       "      <td>2</td>\n",
       "      <td>-6929.865299</td>\n",
       "      <td>35</td>\n",
       "      <td>bachelor's degree</td>\n",
       "      <td>0</td>\n",
       "      <td>civil partnership</td>\n",
       "      <td>1</td>\n",
       "      <td>F</td>\n",
       "      <td>employee</td>\n",
       "      <td>0</td>\n",
       "      <td>15337.093</td>\n",
       "      <td>having a wedding</td>\n",
       "      <td>-18.985932</td>\n",
       "    </tr>\n",
       "    <tr>\n",
       "      <th>9</th>\n",
       "      <td>0</td>\n",
       "      <td>-2188.756445</td>\n",
       "      <td>41</td>\n",
       "      <td>secondary education</td>\n",
       "      <td>1</td>\n",
       "      <td>married</td>\n",
       "      <td>0</td>\n",
       "      <td>M</td>\n",
       "      <td>employee</td>\n",
       "      <td>0</td>\n",
       "      <td>23108.150</td>\n",
       "      <td>purchase of the house for my family</td>\n",
       "      <td>-5.996593</td>\n",
       "    </tr>\n",
       "    <tr>\n",
       "      <th>10</th>\n",
       "      <td>2</td>\n",
       "      <td>-4171.483647</td>\n",
       "      <td>36</td>\n",
       "      <td>bachelor's degree</td>\n",
       "      <td>0</td>\n",
       "      <td>married</td>\n",
       "      <td>0</td>\n",
       "      <td>M</td>\n",
       "      <td>business</td>\n",
       "      <td>0</td>\n",
       "      <td>18230.959</td>\n",
       "      <td>buy real estate</td>\n",
       "      <td>-11.428722</td>\n",
       "    </tr>\n",
       "    <tr>\n",
       "      <th>11</th>\n",
       "      <td>0</td>\n",
       "      <td>-792.701887</td>\n",
       "      <td>40</td>\n",
       "      <td>secondary education</td>\n",
       "      <td>1</td>\n",
       "      <td>married</td>\n",
       "      <td>0</td>\n",
       "      <td>F</td>\n",
       "      <td>employee</td>\n",
       "      <td>0</td>\n",
       "      <td>12331.077</td>\n",
       "      <td>buy commercial real estate</td>\n",
       "      <td>-2.171786</td>\n",
       "    </tr>\n",
       "    <tr>\n",
       "      <th>12</th>\n",
       "      <td>0</td>\n",
       "      <td>NaN</td>\n",
       "      <td>65</td>\n",
       "      <td>secondary education</td>\n",
       "      <td>1</td>\n",
       "      <td>civil partnership</td>\n",
       "      <td>1</td>\n",
       "      <td>M</td>\n",
       "      <td>retiree</td>\n",
       "      <td>0</td>\n",
       "      <td>NaN</td>\n",
       "      <td>to have a wedding</td>\n",
       "      <td>NaN</td>\n",
       "    </tr>\n",
       "    <tr>\n",
       "      <th>13</th>\n",
       "      <td>0</td>\n",
       "      <td>-1846.641941</td>\n",
       "      <td>54</td>\n",
       "      <td>some college</td>\n",
       "      <td>2</td>\n",
       "      <td>married</td>\n",
       "      <td>0</td>\n",
       "      <td>F</td>\n",
       "      <td>employee</td>\n",
       "      <td>0</td>\n",
       "      <td>20873.317</td>\n",
       "      <td>car purchase</td>\n",
       "      <td>-5.059293</td>\n",
       "    </tr>\n",
       "    <tr>\n",
       "      <th>14</th>\n",
       "      <td>0</td>\n",
       "      <td>-1844.956182</td>\n",
       "      <td>56</td>\n",
       "      <td>bachelor's degree</td>\n",
       "      <td>0</td>\n",
       "      <td>civil partnership</td>\n",
       "      <td>1</td>\n",
       "      <td>F</td>\n",
       "      <td>business</td>\n",
       "      <td>1</td>\n",
       "      <td>26420.466</td>\n",
       "      <td>buy residential real estate</td>\n",
       "      <td>-5.054674</td>\n",
       "    </tr>\n",
       "    <tr>\n",
       "      <th>15</th>\n",
       "      <td>1</td>\n",
       "      <td>-972.364419</td>\n",
       "      <td>26</td>\n",
       "      <td>secondary education</td>\n",
       "      <td>1</td>\n",
       "      <td>married</td>\n",
       "      <td>0</td>\n",
       "      <td>F</td>\n",
       "      <td>employee</td>\n",
       "      <td>0</td>\n",
       "      <td>18691.345</td>\n",
       "      <td>construction of own property</td>\n",
       "      <td>-2.664012</td>\n",
       "    </tr>\n",
       "    <tr>\n",
       "      <th>16</th>\n",
       "      <td>0</td>\n",
       "      <td>-1719.934226</td>\n",
       "      <td>35</td>\n",
       "      <td>secondary education</td>\n",
       "      <td>1</td>\n",
       "      <td>married</td>\n",
       "      <td>0</td>\n",
       "      <td>F</td>\n",
       "      <td>employee</td>\n",
       "      <td>0</td>\n",
       "      <td>46272.433</td>\n",
       "      <td>property</td>\n",
       "      <td>-4.712149</td>\n",
       "    </tr>\n",
       "    <tr>\n",
       "      <th>17</th>\n",
       "      <td>0</td>\n",
       "      <td>-2369.999720</td>\n",
       "      <td>33</td>\n",
       "      <td>bachelor's degree</td>\n",
       "      <td>0</td>\n",
       "      <td>civil partnership</td>\n",
       "      <td>1</td>\n",
       "      <td>M</td>\n",
       "      <td>employee</td>\n",
       "      <td>0</td>\n",
       "      <td>14465.694</td>\n",
       "      <td>building a property</td>\n",
       "      <td>-6.493150</td>\n",
       "    </tr>\n",
       "    <tr>\n",
       "      <th>18</th>\n",
       "      <td>0</td>\n",
       "      <td>400281.136913</td>\n",
       "      <td>53</td>\n",
       "      <td>secondary education</td>\n",
       "      <td>1</td>\n",
       "      <td>widow / widower</td>\n",
       "      <td>2</td>\n",
       "      <td>F</td>\n",
       "      <td>retiree</td>\n",
       "      <td>0</td>\n",
       "      <td>9091.804</td>\n",
       "      <td>buying a second-hand car</td>\n",
       "      <td>1096.660649</td>\n",
       "    </tr>\n",
       "    <tr>\n",
       "      <th>19</th>\n",
       "      <td>0</td>\n",
       "      <td>-10038.818549</td>\n",
       "      <td>48</td>\n",
       "      <td>secondary education</td>\n",
       "      <td>1</td>\n",
       "      <td>divorced</td>\n",
       "      <td>3</td>\n",
       "      <td>F</td>\n",
       "      <td>employee</td>\n",
       "      <td>0</td>\n",
       "      <td>38852.977</td>\n",
       "      <td>buying my own car</td>\n",
       "      <td>-27.503612</td>\n",
       "    </tr>\n",
       "  </tbody>\n",
       "</table>\n",
       "</div>"
      ],
      "text/plain": [
       "    children  days_employed  dob_years            education  education_id  \\\n",
       "0          1   -8437.673028         42    bachelor's degree             0   \n",
       "1          1   -4024.803754         36  secondary education             1   \n",
       "2          0   -5623.422610         33  secondary education             1   \n",
       "3          3   -4124.747207         32  secondary education             1   \n",
       "4          0  340266.072047         53  secondary education             1   \n",
       "5          0    -926.185831         27    bachelor's degree             0   \n",
       "6          0   -2879.202052         43    bachelor's degree             0   \n",
       "7          0    -152.779569         50  secondary education             1   \n",
       "8          2   -6929.865299         35    bachelor's degree             0   \n",
       "9          0   -2188.756445         41  secondary education             1   \n",
       "10         2   -4171.483647         36    bachelor's degree             0   \n",
       "11         0    -792.701887         40  secondary education             1   \n",
       "12         0            NaN         65  secondary education             1   \n",
       "13         0   -1846.641941         54         some college             2   \n",
       "14         0   -1844.956182         56    bachelor's degree             0   \n",
       "15         1    -972.364419         26  secondary education             1   \n",
       "16         0   -1719.934226         35  secondary education             1   \n",
       "17         0   -2369.999720         33    bachelor's degree             0   \n",
       "18         0  400281.136913         53  secondary education             1   \n",
       "19         0  -10038.818549         48  secondary education             1   \n",
       "\n",
       "        family_status  family_status_id gender income_type  debt  \\\n",
       "0             married                 0      F    employee     0   \n",
       "1             married                 0      F    employee     0   \n",
       "2             married                 0      M    employee     0   \n",
       "3             married                 0      M    employee     0   \n",
       "4   civil partnership                 1      F     retiree     0   \n",
       "5   civil partnership                 1      M    business     0   \n",
       "6             married                 0      F    business     0   \n",
       "7             married                 0      M    employee     0   \n",
       "8   civil partnership                 1      F    employee     0   \n",
       "9             married                 0      M    employee     0   \n",
       "10            married                 0      M    business     0   \n",
       "11            married                 0      F    employee     0   \n",
       "12  civil partnership                 1      M     retiree     0   \n",
       "13            married                 0      F    employee     0   \n",
       "14  civil partnership                 1      F    business     1   \n",
       "15            married                 0      F    employee     0   \n",
       "16            married                 0      F    employee     0   \n",
       "17  civil partnership                 1      M    employee     0   \n",
       "18    widow / widower                 2      F     retiree     0   \n",
       "19           divorced                 3      F    employee     0   \n",
       "\n",
       "    total_income                              purpose  days_employed_year  \n",
       "0      40620.102                purchase of the house          -23.116912  \n",
       "1      17932.802                         car purchase          -11.026860  \n",
       "2      23341.752                purchase of the house          -15.406637  \n",
       "3      42820.568              supplementary education          -11.300677  \n",
       "4      25378.572                    to have a wedding          932.235814  \n",
       "5      40922.170                purchase of the house           -2.537495  \n",
       "6      38484.156                 housing transactions           -7.888225  \n",
       "7      21731.829                            education           -0.418574  \n",
       "8      15337.093                     having a wedding          -18.985932  \n",
       "9      23108.150  purchase of the house for my family           -5.996593  \n",
       "10     18230.959                      buy real estate          -11.428722  \n",
       "11     12331.077           buy commercial real estate           -2.171786  \n",
       "12           NaN                    to have a wedding                 NaN  \n",
       "13     20873.317                         car purchase           -5.059293  \n",
       "14     26420.466          buy residential real estate           -5.054674  \n",
       "15     18691.345         construction of own property           -2.664012  \n",
       "16     46272.433                             property           -4.712149  \n",
       "17     14465.694                  building a property           -6.493150  \n",
       "18      9091.804             buying a second-hand car         1096.660649  \n",
       "19     38852.977                    buying my own car          -27.503612  "
      ]
     },
     "execution_count": 29,
     "metadata": {},
     "output_type": "execute_result"
    }
   ],
   "source": [
    "# Aborda los valores problemáticos, si existen.\n",
    "credit_score[\"days_employed_year\"]=credit_score[\"days_employed\"]/365\n",
    "credit_score.head(20)\n",
    "\n"
   ]
  },
  {
   "cell_type": "markdown",
   "metadata": {},
   "source": [
    "Del análisis de la columna de days_employed se desprende lo siguiente:\n",
    "1. Existe un 82% de valores negativos, lo cual nos indica que no pueden ser eliminados estos registros. Muy posiblemente estos valores se deba a que al momento de realizar la resta de las fechas de inicio y término del trabajo se hizo considerando el año inicial menos el final y de alli el valor negativo.\n",
    "2. Al convertir esta columna en años se observan valores inconsistentes como 900 o 1000 años, lo cual tambien resulta ilógico para la antiguedad en un trabajo de alguna persona !Ni que fuera Matusalen¡\n",
    "\n",
    "Para eliminar los negativos procederemos con la función valor absoluto.\n",
    "y para la inconsistencia de años de servicio realizaremos un filtro con income_type y dob_years colocando 40 como años de servicio máximo."
   ]
  },
  {
   "cell_type": "markdown",
   "metadata": {},
   "source": [
    "<div class=\"alert alert-block alert-success\">\n",
    "<b>Éxito</b> <a class=\"tocSkip\"></a>\n",
    "\n",
    "Matusalén no es de esta época, exacto! Buena y lógica decisión cambiar a positivos los años negativos! Y bien hecho el proceso </div>"
   ]
  },
  {
   "cell_type": "code",
   "execution_count": 30,
   "metadata": {
    "scrolled": true
   },
   "outputs": [
    {
     "data": {
      "text/html": [
       "<div>\n",
       "<style scoped>\n",
       "    .dataframe tbody tr th:only-of-type {\n",
       "        vertical-align: middle;\n",
       "    }\n",
       "\n",
       "    .dataframe tbody tr th {\n",
       "        vertical-align: top;\n",
       "    }\n",
       "\n",
       "    .dataframe thead th {\n",
       "        text-align: right;\n",
       "    }\n",
       "</style>\n",
       "<table border=\"1\" class=\"dataframe\">\n",
       "  <thead>\n",
       "    <tr style=\"text-align: right;\">\n",
       "      <th></th>\n",
       "      <th>children</th>\n",
       "      <th>days_employed</th>\n",
       "      <th>dob_years</th>\n",
       "      <th>education</th>\n",
       "      <th>education_id</th>\n",
       "      <th>family_status</th>\n",
       "      <th>family_status_id</th>\n",
       "      <th>gender</th>\n",
       "      <th>income_type</th>\n",
       "      <th>debt</th>\n",
       "      <th>total_income</th>\n",
       "      <th>purpose</th>\n",
       "      <th>days_employed_year</th>\n",
       "    </tr>\n",
       "  </thead>\n",
       "  <tbody>\n",
       "    <tr>\n",
       "      <th>0</th>\n",
       "      <td>1</td>\n",
       "      <td>8437.673028</td>\n",
       "      <td>42</td>\n",
       "      <td>bachelor's degree</td>\n",
       "      <td>0</td>\n",
       "      <td>married</td>\n",
       "      <td>0</td>\n",
       "      <td>F</td>\n",
       "      <td>employee</td>\n",
       "      <td>0</td>\n",
       "      <td>40620.102</td>\n",
       "      <td>purchase of the house</td>\n",
       "      <td>23.116912</td>\n",
       "    </tr>\n",
       "    <tr>\n",
       "      <th>1</th>\n",
       "      <td>1</td>\n",
       "      <td>4024.803754</td>\n",
       "      <td>36</td>\n",
       "      <td>secondary education</td>\n",
       "      <td>1</td>\n",
       "      <td>married</td>\n",
       "      <td>0</td>\n",
       "      <td>F</td>\n",
       "      <td>employee</td>\n",
       "      <td>0</td>\n",
       "      <td>17932.802</td>\n",
       "      <td>car purchase</td>\n",
       "      <td>11.026860</td>\n",
       "    </tr>\n",
       "    <tr>\n",
       "      <th>2</th>\n",
       "      <td>0</td>\n",
       "      <td>5623.422610</td>\n",
       "      <td>33</td>\n",
       "      <td>secondary education</td>\n",
       "      <td>1</td>\n",
       "      <td>married</td>\n",
       "      <td>0</td>\n",
       "      <td>M</td>\n",
       "      <td>employee</td>\n",
       "      <td>0</td>\n",
       "      <td>23341.752</td>\n",
       "      <td>purchase of the house</td>\n",
       "      <td>15.406637</td>\n",
       "    </tr>\n",
       "    <tr>\n",
       "      <th>3</th>\n",
       "      <td>3</td>\n",
       "      <td>4124.747207</td>\n",
       "      <td>32</td>\n",
       "      <td>secondary education</td>\n",
       "      <td>1</td>\n",
       "      <td>married</td>\n",
       "      <td>0</td>\n",
       "      <td>M</td>\n",
       "      <td>employee</td>\n",
       "      <td>0</td>\n",
       "      <td>42820.568</td>\n",
       "      <td>supplementary education</td>\n",
       "      <td>11.300677</td>\n",
       "    </tr>\n",
       "    <tr>\n",
       "      <th>4</th>\n",
       "      <td>0</td>\n",
       "      <td>340266.072047</td>\n",
       "      <td>53</td>\n",
       "      <td>secondary education</td>\n",
       "      <td>1</td>\n",
       "      <td>civil partnership</td>\n",
       "      <td>1</td>\n",
       "      <td>F</td>\n",
       "      <td>retiree</td>\n",
       "      <td>0</td>\n",
       "      <td>25378.572</td>\n",
       "      <td>to have a wedding</td>\n",
       "      <td>932.235814</td>\n",
       "    </tr>\n",
       "    <tr>\n",
       "      <th>5</th>\n",
       "      <td>0</td>\n",
       "      <td>926.185831</td>\n",
       "      <td>27</td>\n",
       "      <td>bachelor's degree</td>\n",
       "      <td>0</td>\n",
       "      <td>civil partnership</td>\n",
       "      <td>1</td>\n",
       "      <td>M</td>\n",
       "      <td>business</td>\n",
       "      <td>0</td>\n",
       "      <td>40922.170</td>\n",
       "      <td>purchase of the house</td>\n",
       "      <td>2.537495</td>\n",
       "    </tr>\n",
       "    <tr>\n",
       "      <th>6</th>\n",
       "      <td>0</td>\n",
       "      <td>2879.202052</td>\n",
       "      <td>43</td>\n",
       "      <td>bachelor's degree</td>\n",
       "      <td>0</td>\n",
       "      <td>married</td>\n",
       "      <td>0</td>\n",
       "      <td>F</td>\n",
       "      <td>business</td>\n",
       "      <td>0</td>\n",
       "      <td>38484.156</td>\n",
       "      <td>housing transactions</td>\n",
       "      <td>7.888225</td>\n",
       "    </tr>\n",
       "    <tr>\n",
       "      <th>7</th>\n",
       "      <td>0</td>\n",
       "      <td>152.779569</td>\n",
       "      <td>50</td>\n",
       "      <td>secondary education</td>\n",
       "      <td>1</td>\n",
       "      <td>married</td>\n",
       "      <td>0</td>\n",
       "      <td>M</td>\n",
       "      <td>employee</td>\n",
       "      <td>0</td>\n",
       "      <td>21731.829</td>\n",
       "      <td>education</td>\n",
       "      <td>0.418574</td>\n",
       "    </tr>\n",
       "    <tr>\n",
       "      <th>8</th>\n",
       "      <td>2</td>\n",
       "      <td>6929.865299</td>\n",
       "      <td>35</td>\n",
       "      <td>bachelor's degree</td>\n",
       "      <td>0</td>\n",
       "      <td>civil partnership</td>\n",
       "      <td>1</td>\n",
       "      <td>F</td>\n",
       "      <td>employee</td>\n",
       "      <td>0</td>\n",
       "      <td>15337.093</td>\n",
       "      <td>having a wedding</td>\n",
       "      <td>18.985932</td>\n",
       "    </tr>\n",
       "    <tr>\n",
       "      <th>9</th>\n",
       "      <td>0</td>\n",
       "      <td>2188.756445</td>\n",
       "      <td>41</td>\n",
       "      <td>secondary education</td>\n",
       "      <td>1</td>\n",
       "      <td>married</td>\n",
       "      <td>0</td>\n",
       "      <td>M</td>\n",
       "      <td>employee</td>\n",
       "      <td>0</td>\n",
       "      <td>23108.150</td>\n",
       "      <td>purchase of the house for my family</td>\n",
       "      <td>5.996593</td>\n",
       "    </tr>\n",
       "    <tr>\n",
       "      <th>10</th>\n",
       "      <td>2</td>\n",
       "      <td>4171.483647</td>\n",
       "      <td>36</td>\n",
       "      <td>bachelor's degree</td>\n",
       "      <td>0</td>\n",
       "      <td>married</td>\n",
       "      <td>0</td>\n",
       "      <td>M</td>\n",
       "      <td>business</td>\n",
       "      <td>0</td>\n",
       "      <td>18230.959</td>\n",
       "      <td>buy real estate</td>\n",
       "      <td>11.428722</td>\n",
       "    </tr>\n",
       "    <tr>\n",
       "      <th>11</th>\n",
       "      <td>0</td>\n",
       "      <td>792.701887</td>\n",
       "      <td>40</td>\n",
       "      <td>secondary education</td>\n",
       "      <td>1</td>\n",
       "      <td>married</td>\n",
       "      <td>0</td>\n",
       "      <td>F</td>\n",
       "      <td>employee</td>\n",
       "      <td>0</td>\n",
       "      <td>12331.077</td>\n",
       "      <td>buy commercial real estate</td>\n",
       "      <td>2.171786</td>\n",
       "    </tr>\n",
       "    <tr>\n",
       "      <th>12</th>\n",
       "      <td>0</td>\n",
       "      <td>NaN</td>\n",
       "      <td>65</td>\n",
       "      <td>secondary education</td>\n",
       "      <td>1</td>\n",
       "      <td>civil partnership</td>\n",
       "      <td>1</td>\n",
       "      <td>M</td>\n",
       "      <td>retiree</td>\n",
       "      <td>0</td>\n",
       "      <td>NaN</td>\n",
       "      <td>to have a wedding</td>\n",
       "      <td>NaN</td>\n",
       "    </tr>\n",
       "    <tr>\n",
       "      <th>13</th>\n",
       "      <td>0</td>\n",
       "      <td>1846.641941</td>\n",
       "      <td>54</td>\n",
       "      <td>some college</td>\n",
       "      <td>2</td>\n",
       "      <td>married</td>\n",
       "      <td>0</td>\n",
       "      <td>F</td>\n",
       "      <td>employee</td>\n",
       "      <td>0</td>\n",
       "      <td>20873.317</td>\n",
       "      <td>car purchase</td>\n",
       "      <td>5.059293</td>\n",
       "    </tr>\n",
       "    <tr>\n",
       "      <th>14</th>\n",
       "      <td>0</td>\n",
       "      <td>1844.956182</td>\n",
       "      <td>56</td>\n",
       "      <td>bachelor's degree</td>\n",
       "      <td>0</td>\n",
       "      <td>civil partnership</td>\n",
       "      <td>1</td>\n",
       "      <td>F</td>\n",
       "      <td>business</td>\n",
       "      <td>1</td>\n",
       "      <td>26420.466</td>\n",
       "      <td>buy residential real estate</td>\n",
       "      <td>5.054674</td>\n",
       "    </tr>\n",
       "    <tr>\n",
       "      <th>15</th>\n",
       "      <td>1</td>\n",
       "      <td>972.364419</td>\n",
       "      <td>26</td>\n",
       "      <td>secondary education</td>\n",
       "      <td>1</td>\n",
       "      <td>married</td>\n",
       "      <td>0</td>\n",
       "      <td>F</td>\n",
       "      <td>employee</td>\n",
       "      <td>0</td>\n",
       "      <td>18691.345</td>\n",
       "      <td>construction of own property</td>\n",
       "      <td>2.664012</td>\n",
       "    </tr>\n",
       "    <tr>\n",
       "      <th>16</th>\n",
       "      <td>0</td>\n",
       "      <td>1719.934226</td>\n",
       "      <td>35</td>\n",
       "      <td>secondary education</td>\n",
       "      <td>1</td>\n",
       "      <td>married</td>\n",
       "      <td>0</td>\n",
       "      <td>F</td>\n",
       "      <td>employee</td>\n",
       "      <td>0</td>\n",
       "      <td>46272.433</td>\n",
       "      <td>property</td>\n",
       "      <td>4.712149</td>\n",
       "    </tr>\n",
       "    <tr>\n",
       "      <th>17</th>\n",
       "      <td>0</td>\n",
       "      <td>2369.999720</td>\n",
       "      <td>33</td>\n",
       "      <td>bachelor's degree</td>\n",
       "      <td>0</td>\n",
       "      <td>civil partnership</td>\n",
       "      <td>1</td>\n",
       "      <td>M</td>\n",
       "      <td>employee</td>\n",
       "      <td>0</td>\n",
       "      <td>14465.694</td>\n",
       "      <td>building a property</td>\n",
       "      <td>6.493150</td>\n",
       "    </tr>\n",
       "    <tr>\n",
       "      <th>18</th>\n",
       "      <td>0</td>\n",
       "      <td>400281.136913</td>\n",
       "      <td>53</td>\n",
       "      <td>secondary education</td>\n",
       "      <td>1</td>\n",
       "      <td>widow / widower</td>\n",
       "      <td>2</td>\n",
       "      <td>F</td>\n",
       "      <td>retiree</td>\n",
       "      <td>0</td>\n",
       "      <td>9091.804</td>\n",
       "      <td>buying a second-hand car</td>\n",
       "      <td>1096.660649</td>\n",
       "    </tr>\n",
       "    <tr>\n",
       "      <th>19</th>\n",
       "      <td>0</td>\n",
       "      <td>10038.818549</td>\n",
       "      <td>48</td>\n",
       "      <td>secondary education</td>\n",
       "      <td>1</td>\n",
       "      <td>divorced</td>\n",
       "      <td>3</td>\n",
       "      <td>F</td>\n",
       "      <td>employee</td>\n",
       "      <td>0</td>\n",
       "      <td>38852.977</td>\n",
       "      <td>buying my own car</td>\n",
       "      <td>27.503612</td>\n",
       "    </tr>\n",
       "  </tbody>\n",
       "</table>\n",
       "</div>"
      ],
      "text/plain": [
       "    children  days_employed  dob_years            education  education_id  \\\n",
       "0          1    8437.673028         42    bachelor's degree             0   \n",
       "1          1    4024.803754         36  secondary education             1   \n",
       "2          0    5623.422610         33  secondary education             1   \n",
       "3          3    4124.747207         32  secondary education             1   \n",
       "4          0  340266.072047         53  secondary education             1   \n",
       "5          0     926.185831         27    bachelor's degree             0   \n",
       "6          0    2879.202052         43    bachelor's degree             0   \n",
       "7          0     152.779569         50  secondary education             1   \n",
       "8          2    6929.865299         35    bachelor's degree             0   \n",
       "9          0    2188.756445         41  secondary education             1   \n",
       "10         2    4171.483647         36    bachelor's degree             0   \n",
       "11         0     792.701887         40  secondary education             1   \n",
       "12         0            NaN         65  secondary education             1   \n",
       "13         0    1846.641941         54         some college             2   \n",
       "14         0    1844.956182         56    bachelor's degree             0   \n",
       "15         1     972.364419         26  secondary education             1   \n",
       "16         0    1719.934226         35  secondary education             1   \n",
       "17         0    2369.999720         33    bachelor's degree             0   \n",
       "18         0  400281.136913         53  secondary education             1   \n",
       "19         0   10038.818549         48  secondary education             1   \n",
       "\n",
       "        family_status  family_status_id gender income_type  debt  \\\n",
       "0             married                 0      F    employee     0   \n",
       "1             married                 0      F    employee     0   \n",
       "2             married                 0      M    employee     0   \n",
       "3             married                 0      M    employee     0   \n",
       "4   civil partnership                 1      F     retiree     0   \n",
       "5   civil partnership                 1      M    business     0   \n",
       "6             married                 0      F    business     0   \n",
       "7             married                 0      M    employee     0   \n",
       "8   civil partnership                 1      F    employee     0   \n",
       "9             married                 0      M    employee     0   \n",
       "10            married                 0      M    business     0   \n",
       "11            married                 0      F    employee     0   \n",
       "12  civil partnership                 1      M     retiree     0   \n",
       "13            married                 0      F    employee     0   \n",
       "14  civil partnership                 1      F    business     1   \n",
       "15            married                 0      F    employee     0   \n",
       "16            married                 0      F    employee     0   \n",
       "17  civil partnership                 1      M    employee     0   \n",
       "18    widow / widower                 2      F     retiree     0   \n",
       "19           divorced                 3      F    employee     0   \n",
       "\n",
       "    total_income                              purpose  days_employed_year  \n",
       "0      40620.102                purchase of the house           23.116912  \n",
       "1      17932.802                         car purchase           11.026860  \n",
       "2      23341.752                purchase of the house           15.406637  \n",
       "3      42820.568              supplementary education           11.300677  \n",
       "4      25378.572                    to have a wedding          932.235814  \n",
       "5      40922.170                purchase of the house            2.537495  \n",
       "6      38484.156                 housing transactions            7.888225  \n",
       "7      21731.829                            education            0.418574  \n",
       "8      15337.093                     having a wedding           18.985932  \n",
       "9      23108.150  purchase of the house for my family            5.996593  \n",
       "10     18230.959                      buy real estate           11.428722  \n",
       "11     12331.077           buy commercial real estate            2.171786  \n",
       "12           NaN                    to have a wedding                 NaN  \n",
       "13     20873.317                         car purchase            5.059293  \n",
       "14     26420.466          buy residential real estate            5.054674  \n",
       "15     18691.345         construction of own property            2.664012  \n",
       "16     46272.433                             property            4.712149  \n",
       "17     14465.694                  building a property            6.493150  \n",
       "18      9091.804             buying a second-hand car         1096.660649  \n",
       "19     38852.977                    buying my own car           27.503612  "
      ]
     },
     "execution_count": 30,
     "metadata": {},
     "output_type": "execute_result"
    }
   ],
   "source": [
    "#Transformaremos los valores negativos en positivos con la funcion valor absoluto\n",
    "credit_score[\"days_employed\"]=credit_score[\"days_employed\"].abs()\n",
    "credit_score[\"days_employed_year\"]=credit_score[\"days_employed_year\"].abs()\n",
    "credit_score.head(20)"
   ]
  },
  {
   "cell_type": "code",
   "execution_count": 31,
   "metadata": {
    "scrolled": false
   },
   "outputs": [
    {
     "data": {
      "text/plain": [
       "2.514130       0.000052\n",
       "5.101491       0.000052\n",
       "3.107746       0.000052\n",
       "12.225346      0.000052\n",
       "1076.536946    0.000052\n",
       "                 ...   \n",
       "1073.888785    0.000052\n",
       "3.551089       0.000052\n",
       "0.925910       0.000052\n",
       "3.871231       0.000052\n",
       "5.886062       0.000052\n",
       "Name: days_employed_year, Length: 19351, dtype: float64"
      ]
     },
     "execution_count": 31,
     "metadata": {},
     "output_type": "execute_result"
    }
   ],
   "source": [
    "credit_score[\"days_employed_year\"].value_counts(normalize=True)"
   ]
  },
  {
   "cell_type": "code",
   "execution_count": 32,
   "metadata": {},
   "outputs": [
    {
     "data": {
      "text/plain": [
       "count    19351.000000\n",
       "mean       183.328024\n",
       "std        380.906522\n",
       "min          0.066141\n",
       "25%          2.539751\n",
       "50%          6.011563\n",
       "75%         15.172281\n",
       "max       1100.699727\n",
       "Name: days_employed_year, dtype: float64"
      ]
     },
     "execution_count": 32,
     "metadata": {},
     "output_type": "execute_result"
    }
   ],
   "source": [
    "credit_score[\"days_employed_year\"].describe()"
   ]
  },
  {
   "cell_type": "markdown",
   "metadata": {},
   "source": [
    "En el cálculo de los parámetros estadísticos se observa que el 3er cuartil tiene un valor de 15, ya el máximo 110 esta fuera de rango"
   ]
  },
  {
   "cell_type": "code",
   "execution_count": 33,
   "metadata": {},
   "outputs": [
    {
     "name": "stdout",
     "output_type": "stream",
     "text": [
      "Porcentaje de tiempo de servicio mayor a 40 años: 16.083623693379792\n"
     ]
    }
   ],
   "source": [
    "print(f'Porcentaje de tiempo de servicio mayor a 40 años:', credit_score[credit_score[\"days_employed_year\"]>40].shape[0]/credit_score.shape[0]*100)"
   ]
  },
  {
   "cell_type": "code",
   "execution_count": 34,
   "metadata": {
    "scrolled": true
   },
   "outputs": [
    {
     "data": {
      "text/plain": [
       "retiree          0.994512\n",
       "employee         0.003177\n",
       "business         0.000867\n",
       "civil servant    0.000867\n",
       "unemployed       0.000578\n",
       "Name: income_type, dtype: float64"
      ]
     },
     "execution_count": 34,
     "metadata": {},
     "output_type": "execute_result"
    }
   ],
   "source": [
    "credit_score_antiguedad_filtered = credit_score[credit_score[\"days_employed_year\"]>40]\n",
    "\n",
    "credit_score_antiguedad_filtered[\"income_type\"].value_counts(normalize=True)\n",
    "\n"
   ]
  },
  {
   "cell_type": "markdown",
   "metadata": {},
   "source": [
    "Con este filtro se puede observar que el 99% de los solicitantes cuyo campo de tiempo de servicio aparece mayor a 40 años son retirados, por lo que este dato puede ser reemplazado por 40 años para eliminar esa incosistencia."
   ]
  },
  {
   "cell_type": "code",
   "execution_count": 35,
   "metadata": {},
   "outputs": [],
   "source": [
    "credit_score.loc[credit_score[\"days_employed_year\"]>40, \"days_employed_year\"] = 40\n",
    "#credit_score.loc[credit_score[\"days_employed\"]>(40*365), \"days_employed_year\"] = (40*365)"
   ]
  },
  {
   "cell_type": "code",
   "execution_count": 36,
   "metadata": {},
   "outputs": [
    {
     "data": {
      "text/plain": [
       "count    19351.000000\n",
       "mean        12.417231\n",
       "std         14.047912\n",
       "min          0.066141\n",
       "25%          2.539751\n",
       "50%          6.011563\n",
       "75%         15.172281\n",
       "max         40.000000\n",
       "Name: days_employed_year, dtype: float64"
      ]
     },
     "execution_count": 36,
     "metadata": {},
     "output_type": "execute_result"
    }
   ],
   "source": [
    "# Comprueba el resultado - asegúrate de que esté arreglado\n",
    "credit_score[\"days_employed_year\"].describe()"
   ]
  },
  {
   "cell_type": "code",
   "execution_count": 37,
   "metadata": {
    "scrolled": true
   },
   "outputs": [
    {
     "data": {
      "text/plain": [
       "35    0.028664\n",
       "40    0.028293\n",
       "41    0.028200\n",
       "34    0.028014\n",
       "38    0.027782\n",
       "42    0.027735\n",
       "33    0.026992\n",
       "39    0.026620\n",
       "31    0.026016\n",
       "36    0.025784\n",
       "44    0.025412\n",
       "29    0.025319\n",
       "30    0.025087\n",
       "48    0.024994\n",
       "37    0.024948\n",
       "50    0.023879\n",
       "43    0.023833\n",
       "32    0.023693\n",
       "49    0.023600\n",
       "28    0.023368\n",
       "45    0.023089\n",
       "27    0.022904\n",
       "56    0.022625\n",
       "52    0.022485\n",
       "47    0.022300\n",
       "54    0.022253\n",
       "46    0.022067\n",
       "58    0.021417\n",
       "57    0.021370\n",
       "53    0.021324\n",
       "51    0.020813\n",
       "59    0.020627\n",
       "55    0.020581\n",
       "26    0.018955\n",
       "60    0.017515\n",
       "25    0.016585\n",
       "61    0.016492\n",
       "62    0.016353\n",
       "63    0.012497\n",
       "64    0.012311\n",
       "24    0.012265\n",
       "23    0.011800\n",
       "65    0.009013\n",
       "66    0.008502\n",
       "22    0.008502\n",
       "67    0.007758\n",
       "21    0.005157\n",
       "0     0.004692\n",
       "68    0.004599\n",
       "69    0.003949\n",
       "70    0.003020\n",
       "71    0.002695\n",
       "20    0.002369\n",
       "72    0.001533\n",
       "19    0.000650\n",
       "73    0.000372\n",
       "74    0.000279\n",
       "75    0.000046\n",
       "Name: dob_years, dtype: float64"
      ]
     },
     "execution_count": 37,
     "metadata": {},
     "output_type": "execute_result"
    }
   ],
   "source": [
    "# Revisa `dob_years` en busca de valores sospechosos y cuenta el porcentaje\n",
    "credit_score[\"dob_years\"].value_counts(normalize=True)\n"
   ]
  },
  {
   "cell_type": "markdown",
   "metadata": {},
   "source": [
    "El problema detectado fue la edad de solicitante igual a cero, lo cual es imposible. Vamos a calcular el porcentaje que representan estos datos en relación a la muestra original."
   ]
  },
  {
   "cell_type": "code",
   "execution_count": 38,
   "metadata": {},
   "outputs": [
    {
     "name": "stdout",
     "output_type": "stream",
     "text": [
      "porcentaje de edad igual a cero:0.47%\n"
     ]
    }
   ],
   "source": [
    "# Resuelve los problemas en la columna `dob_years`, si existen\n",
    "porcentaje_edad_cero =credit_score.loc[credit_score[\"dob_years\"]==0].count()[\"dob_years\"] /credit_score[\"dob_years\"].count()\n",
    "print(f\"porcentaje de edad igual a cero:{porcentaje_edad_cero:.2%}\")"
   ]
  },
  {
   "cell_type": "markdown",
   "metadata": {},
   "source": [
    "Con este porcentaje tan bajo, se procedera a descartar estos datos en nuestro estudio."
   ]
  },
  {
   "cell_type": "code",
   "execution_count": 39,
   "metadata": {},
   "outputs": [
    {
     "data": {
      "text/plain": [
       "count    21424.000000\n",
       "mean        43.497479\n",
       "std         12.246934\n",
       "min         19.000000\n",
       "25%         33.000000\n",
       "50%         43.000000\n",
       "75%         53.000000\n",
       "max         75.000000\n",
       "Name: dob_years, dtype: float64"
      ]
     },
     "execution_count": 39,
     "metadata": {},
     "output_type": "execute_result"
    }
   ],
   "source": [
    "# Comprueba el resultado - asegúrate de que esté arreglado\n",
    "credit_score.drop(credit_score[credit_score['dob_years'] == 0].index, inplace=True)\n",
    "credit_score[\"dob_years\"].describe()\n"
   ]
  },
  {
   "cell_type": "markdown",
   "metadata": {},
   "source": [
    "Ahora revisemos la columna `family_status`"
   ]
  },
  {
   "cell_type": "code",
   "execution_count": 40,
   "metadata": {},
   "outputs": [
    {
     "data": {
      "text/plain": [
       "married              0.575569\n",
       "civil partnership    0.193988\n",
       "unmarried            0.130555\n",
       "divorced             0.055312\n",
       "widow / widower      0.044576\n",
       "Name: family_status, dtype: float64"
      ]
     },
     "execution_count": 40,
     "metadata": {},
     "output_type": "execute_result"
    }
   ],
   "source": [
    "# Veamos los valores de la columna\n",
    "\n",
    "credit_score[\"family_status\"].value_counts(normalize=True)"
   ]
  },
  {
   "cell_type": "code",
   "execution_count": 41,
   "metadata": {},
   "outputs": [
    {
     "data": {
      "text/plain": [
       "F      0.661128\n",
       "M      0.338826\n",
       "XNA    0.000047\n",
       "Name: gender, dtype: float64"
      ]
     },
     "execution_count": 41,
     "metadata": {},
     "output_type": "execute_result"
    }
   ],
   "source": [
    "# Veamos los valores en la columna\n",
    "credit_score[\"gender\"].value_counts(normalize=True)"
   ]
  },
  {
   "cell_type": "code",
   "execution_count": 42,
   "metadata": {},
   "outputs": [],
   "source": [
    "# Aborda los valores problemáticos, si existen\n",
    "credit_score.drop(credit_score[credit_score['gender'] == \"XNA\"].index, inplace=True)\n"
   ]
  },
  {
   "cell_type": "code",
   "execution_count": 43,
   "metadata": {},
   "outputs": [
    {
     "data": {
      "text/plain": [
       "F    0.661159\n",
       "M    0.338841\n",
       "Name: gender, dtype: float64"
      ]
     },
     "execution_count": 43,
     "metadata": {},
     "output_type": "execute_result"
    }
   ],
   "source": [
    "# Comprueba el resultado - asegúrate de que esté arreglado\n",
    "credit_score[\"gender\"].value_counts(normalize=True)\n"
   ]
  },
  {
   "cell_type": "code",
   "execution_count": 44,
   "metadata": {
    "scrolled": true
   },
   "outputs": [
    {
     "data": {
      "text/plain": [
       "employee                       0.516454\n",
       "business                       0.236381\n",
       "retiree                        0.179060\n",
       "civil servant                  0.067824\n",
       "unemployed                     0.000093\n",
       "entrepreneur                   0.000093\n",
       "paternity / maternity leave    0.000047\n",
       "student                        0.000047\n",
       "Name: income_type, dtype: float64"
      ]
     },
     "execution_count": 44,
     "metadata": {},
     "output_type": "execute_result"
    }
   ],
   "source": [
    "# Veamos los valores en la columna\n",
    "credit_score[\"income_type\"].value_counts(normalize=True)"
   ]
  },
  {
   "cell_type": "code",
   "execution_count": 45,
   "metadata": {},
   "outputs": [
    {
     "data": {
      "text/plain": [
       "36"
      ]
     },
     "execution_count": 45,
     "metadata": {},
     "output_type": "execute_result"
    }
   ],
   "source": [
    "# Aborda los valores problemáticos, si existen\n",
    "credit_score[(credit_score[\"income_type\"]==\"retiree\")&(credit_score[\"dob_years\"]<40)].value_counts().sum()"
   ]
  },
  {
   "cell_type": "code",
   "execution_count": 46,
   "metadata": {},
   "outputs": [
    {
     "name": "stdout",
     "output_type": "stream",
     "text": [
      "porcentaje de retirados menor a 40 años:1.09%\n"
     ]
    }
   ],
   "source": [
    "credit_filtered_retirados= credit_score[(credit_score[\"income_type\"]==\"retiree\")&(credit_score[\"dob_years\"]<40)].shape[0]/credit_score[credit_score[\"income_type\"]==\"retiree\"].shape[0]\n",
    "print(f\"porcentaje de retirados menor a 40 años:{credit_filtered_retirados:.2%}\")"
   ]
  },
  {
   "cell_type": "markdown",
   "metadata": {},
   "source": [
    "Ahora checaremos si hay duplicados en nuestros datos"
   ]
  },
  {
   "cell_type": "code",
   "execution_count": 47,
   "metadata": {},
   "outputs": [
    {
     "data": {
      "text/plain": [
       "71"
      ]
     },
     "execution_count": 47,
     "metadata": {},
     "output_type": "execute_result"
    }
   ],
   "source": [
    "# Comprobar los duplicados\n",
    "credit_score.duplicated().sum()\n"
   ]
  },
  {
   "cell_type": "code",
   "execution_count": 48,
   "metadata": {
    "scrolled": true
   },
   "outputs": [
    {
     "data": {
      "text/html": [
       "<div>\n",
       "<style scoped>\n",
       "    .dataframe tbody tr th:only-of-type {\n",
       "        vertical-align: middle;\n",
       "    }\n",
       "\n",
       "    .dataframe tbody tr th {\n",
       "        vertical-align: top;\n",
       "    }\n",
       "\n",
       "    .dataframe thead th {\n",
       "        text-align: right;\n",
       "    }\n",
       "</style>\n",
       "<table border=\"1\" class=\"dataframe\">\n",
       "  <thead>\n",
       "    <tr style=\"text-align: right;\">\n",
       "      <th></th>\n",
       "      <th>children</th>\n",
       "      <th>days_employed</th>\n",
       "      <th>dob_years</th>\n",
       "      <th>education</th>\n",
       "      <th>education_id</th>\n",
       "      <th>family_status</th>\n",
       "      <th>family_status_id</th>\n",
       "      <th>gender</th>\n",
       "      <th>income_type</th>\n",
       "      <th>debt</th>\n",
       "      <th>total_income</th>\n",
       "      <th>purpose</th>\n",
       "      <th>days_employed_year</th>\n",
       "    </tr>\n",
       "  </thead>\n",
       "  <tbody>\n",
       "    <tr>\n",
       "      <th>2849</th>\n",
       "      <td>0</td>\n",
       "      <td>NaN</td>\n",
       "      <td>41</td>\n",
       "      <td>secondary education</td>\n",
       "      <td>1</td>\n",
       "      <td>married</td>\n",
       "      <td>0</td>\n",
       "      <td>F</td>\n",
       "      <td>employee</td>\n",
       "      <td>0</td>\n",
       "      <td>NaN</td>\n",
       "      <td>purchase of the house for my family</td>\n",
       "      <td>NaN</td>\n",
       "    </tr>\n",
       "    <tr>\n",
       "      <th>3290</th>\n",
       "      <td>0</td>\n",
       "      <td>NaN</td>\n",
       "      <td>58</td>\n",
       "      <td>secondary education</td>\n",
       "      <td>1</td>\n",
       "      <td>civil partnership</td>\n",
       "      <td>1</td>\n",
       "      <td>F</td>\n",
       "      <td>retiree</td>\n",
       "      <td>0</td>\n",
       "      <td>NaN</td>\n",
       "      <td>to have a wedding</td>\n",
       "      <td>NaN</td>\n",
       "    </tr>\n",
       "    <tr>\n",
       "      <th>4182</th>\n",
       "      <td>1</td>\n",
       "      <td>NaN</td>\n",
       "      <td>34</td>\n",
       "      <td>bachelor's degree</td>\n",
       "      <td>0</td>\n",
       "      <td>civil partnership</td>\n",
       "      <td>1</td>\n",
       "      <td>F</td>\n",
       "      <td>employee</td>\n",
       "      <td>0</td>\n",
       "      <td>NaN</td>\n",
       "      <td>wedding ceremony</td>\n",
       "      <td>NaN</td>\n",
       "    </tr>\n",
       "    <tr>\n",
       "      <th>4851</th>\n",
       "      <td>0</td>\n",
       "      <td>NaN</td>\n",
       "      <td>60</td>\n",
       "      <td>secondary education</td>\n",
       "      <td>1</td>\n",
       "      <td>civil partnership</td>\n",
       "      <td>1</td>\n",
       "      <td>F</td>\n",
       "      <td>retiree</td>\n",
       "      <td>0</td>\n",
       "      <td>NaN</td>\n",
       "      <td>wedding ceremony</td>\n",
       "      <td>NaN</td>\n",
       "    </tr>\n",
       "    <tr>\n",
       "      <th>5557</th>\n",
       "      <td>0</td>\n",
       "      <td>NaN</td>\n",
       "      <td>58</td>\n",
       "      <td>secondary education</td>\n",
       "      <td>1</td>\n",
       "      <td>civil partnership</td>\n",
       "      <td>1</td>\n",
       "      <td>F</td>\n",
       "      <td>retiree</td>\n",
       "      <td>0</td>\n",
       "      <td>NaN</td>\n",
       "      <td>to have a wedding</td>\n",
       "      <td>NaN</td>\n",
       "    </tr>\n",
       "    <tr>\n",
       "      <th>...</th>\n",
       "      <td>...</td>\n",
       "      <td>...</td>\n",
       "      <td>...</td>\n",
       "      <td>...</td>\n",
       "      <td>...</td>\n",
       "      <td>...</td>\n",
       "      <td>...</td>\n",
       "      <td>...</td>\n",
       "      <td>...</td>\n",
       "      <td>...</td>\n",
       "      <td>...</td>\n",
       "      <td>...</td>\n",
       "      <td>...</td>\n",
       "    </tr>\n",
       "    <tr>\n",
       "      <th>20702</th>\n",
       "      <td>0</td>\n",
       "      <td>NaN</td>\n",
       "      <td>64</td>\n",
       "      <td>secondary education</td>\n",
       "      <td>1</td>\n",
       "      <td>married</td>\n",
       "      <td>0</td>\n",
       "      <td>F</td>\n",
       "      <td>retiree</td>\n",
       "      <td>0</td>\n",
       "      <td>NaN</td>\n",
       "      <td>supplementary education</td>\n",
       "      <td>NaN</td>\n",
       "    </tr>\n",
       "    <tr>\n",
       "      <th>21032</th>\n",
       "      <td>0</td>\n",
       "      <td>NaN</td>\n",
       "      <td>60</td>\n",
       "      <td>secondary education</td>\n",
       "      <td>1</td>\n",
       "      <td>married</td>\n",
       "      <td>0</td>\n",
       "      <td>F</td>\n",
       "      <td>retiree</td>\n",
       "      <td>0</td>\n",
       "      <td>NaN</td>\n",
       "      <td>to become educated</td>\n",
       "      <td>NaN</td>\n",
       "    </tr>\n",
       "    <tr>\n",
       "      <th>21132</th>\n",
       "      <td>0</td>\n",
       "      <td>NaN</td>\n",
       "      <td>47</td>\n",
       "      <td>secondary education</td>\n",
       "      <td>1</td>\n",
       "      <td>married</td>\n",
       "      <td>0</td>\n",
       "      <td>F</td>\n",
       "      <td>employee</td>\n",
       "      <td>0</td>\n",
       "      <td>NaN</td>\n",
       "      <td>housing renovation</td>\n",
       "      <td>NaN</td>\n",
       "    </tr>\n",
       "    <tr>\n",
       "      <th>21281</th>\n",
       "      <td>1</td>\n",
       "      <td>NaN</td>\n",
       "      <td>30</td>\n",
       "      <td>bachelor's degree</td>\n",
       "      <td>0</td>\n",
       "      <td>married</td>\n",
       "      <td>0</td>\n",
       "      <td>F</td>\n",
       "      <td>employee</td>\n",
       "      <td>0</td>\n",
       "      <td>NaN</td>\n",
       "      <td>buy commercial real estate</td>\n",
       "      <td>NaN</td>\n",
       "    </tr>\n",
       "    <tr>\n",
       "      <th>21415</th>\n",
       "      <td>0</td>\n",
       "      <td>NaN</td>\n",
       "      <td>54</td>\n",
       "      <td>secondary education</td>\n",
       "      <td>1</td>\n",
       "      <td>married</td>\n",
       "      <td>0</td>\n",
       "      <td>F</td>\n",
       "      <td>retiree</td>\n",
       "      <td>0</td>\n",
       "      <td>NaN</td>\n",
       "      <td>housing transactions</td>\n",
       "      <td>NaN</td>\n",
       "    </tr>\n",
       "  </tbody>\n",
       "</table>\n",
       "<p>71 rows × 13 columns</p>\n",
       "</div>"
      ],
      "text/plain": [
       "       children  days_employed  dob_years            education  education_id  \\\n",
       "2849          0            NaN         41  secondary education             1   \n",
       "3290          0            NaN         58  secondary education             1   \n",
       "4182          1            NaN         34    bachelor's degree             0   \n",
       "4851          0            NaN         60  secondary education             1   \n",
       "5557          0            NaN         58  secondary education             1   \n",
       "...         ...            ...        ...                  ...           ...   \n",
       "20702         0            NaN         64  secondary education             1   \n",
       "21032         0            NaN         60  secondary education             1   \n",
       "21132         0            NaN         47  secondary education             1   \n",
       "21281         1            NaN         30    bachelor's degree             0   \n",
       "21415         0            NaN         54  secondary education             1   \n",
       "\n",
       "           family_status  family_status_id gender income_type  debt  \\\n",
       "2849             married                 0      F    employee     0   \n",
       "3290   civil partnership                 1      F     retiree     0   \n",
       "4182   civil partnership                 1      F    employee     0   \n",
       "4851   civil partnership                 1      F     retiree     0   \n",
       "5557   civil partnership                 1      F     retiree     0   \n",
       "...                  ...               ...    ...         ...   ...   \n",
       "20702            married                 0      F     retiree     0   \n",
       "21032            married                 0      F     retiree     0   \n",
       "21132            married                 0      F    employee     0   \n",
       "21281            married                 0      F    employee     0   \n",
       "21415            married                 0      F     retiree     0   \n",
       "\n",
       "       total_income                              purpose  days_employed_year  \n",
       "2849            NaN  purchase of the house for my family                 NaN  \n",
       "3290            NaN                    to have a wedding                 NaN  \n",
       "4182            NaN                     wedding ceremony                 NaN  \n",
       "4851            NaN                     wedding ceremony                 NaN  \n",
       "5557            NaN                    to have a wedding                 NaN  \n",
       "...             ...                                  ...                 ...  \n",
       "20702           NaN              supplementary education                 NaN  \n",
       "21032           NaN                   to become educated                 NaN  \n",
       "21132           NaN                   housing renovation                 NaN  \n",
       "21281           NaN           buy commercial real estate                 NaN  \n",
       "21415           NaN                 housing transactions                 NaN  \n",
       "\n",
       "[71 rows x 13 columns]"
      ]
     },
     "execution_count": 48,
     "metadata": {},
     "output_type": "execute_result"
    }
   ],
   "source": [
    "# Aborda los duplicados\n",
    "credit_score[credit_score.duplicated()]"
   ]
  },
  {
   "cell_type": "markdown",
   "metadata": {},
   "source": [
    "Se observa que casi toda la tabla de duplicados tienen los valores faltantes en las columnas ya investigadas de \"days_employed\" y \"total_income\" y el rango de edad es alto, para comprobar realizaremos un filtro."
   ]
  },
  {
   "cell_type": "code",
   "execution_count": 49,
   "metadata": {},
   "outputs": [
    {
     "name": "stdout",
     "output_type": "stream",
     "text": [
      "<class 'pandas.core.frame.DataFrame'>\n",
      "Int64Index: 71 entries, 2849 to 21415\n",
      "Data columns (total 13 columns):\n",
      " #   Column              Non-Null Count  Dtype  \n",
      "---  ------              --------------  -----  \n",
      " 0   children            71 non-null     int64  \n",
      " 1   days_employed       0 non-null      float64\n",
      " 2   dob_years           71 non-null     int64  \n",
      " 3   education           71 non-null     object \n",
      " 4   education_id        71 non-null     int64  \n",
      " 5   family_status       71 non-null     object \n",
      " 6   family_status_id    71 non-null     int64  \n",
      " 7   gender              71 non-null     object \n",
      " 8   income_type         71 non-null     object \n",
      " 9   debt                71 non-null     int64  \n",
      " 10  total_income        0 non-null      float64\n",
      " 11  purpose             71 non-null     object \n",
      " 12  days_employed_year  0 non-null      float64\n",
      "dtypes: float64(3), int64(5), object(5)\n",
      "memory usage: 7.8+ KB\n"
     ]
    }
   ],
   "source": [
    "credit_score[credit_score.duplicated()].info()"
   ]
  },
  {
   "cell_type": "code",
   "execution_count": 50,
   "metadata": {},
   "outputs": [
    {
     "data": {
      "text/plain": [
       "employee         0.492958\n",
       "retiree          0.380282\n",
       "business         0.098592\n",
       "civil servant    0.028169\n",
       "Name: income_type, dtype: float64"
      ]
     },
     "execution_count": 50,
     "metadata": {},
     "output_type": "execute_result"
    }
   ],
   "source": [
    "credit_score[credit_score.duplicated()][\"income_type\"].value_counts(normalize=True)"
   ]
  },
  {
   "cell_type": "code",
   "execution_count": 51,
   "metadata": {},
   "outputs": [
    {
     "data": {
      "text/plain": [
       "54"
      ]
     },
     "execution_count": 51,
     "metadata": {},
     "output_type": "execute_result"
    }
   ],
   "source": [
    "sum(credit_score[credit_score.duplicated()][\"dob_years\"]>40)"
   ]
  },
  {
   "cell_type": "code",
   "execution_count": 52,
   "metadata": {},
   "outputs": [
    {
     "data": {
      "text/plain": [
       "F    0.873239\n",
       "M    0.126761\n",
       "Name: gender, dtype: float64"
      ]
     },
     "execution_count": 52,
     "metadata": {},
     "output_type": "execute_result"
    }
   ],
   "source": [
    "credit_score[credit_score.duplicated()][\"gender\"].value_counts(normalize = True)"
   ]
  },
  {
   "cell_type": "markdown",
   "metadata": {},
   "source": [
    "Con esos 2 filtros aplicados se concluye:\n",
    "1. Existen 71 registros duplicados de solicitud\n",
    "2. el 49% de los casos duplicados corresponden a empleados y un 38% al grupo de retirados\n",
    "3. 54 de los 71 registros son de personas mayores de 40 años y la mayoria (87%) son de mujeres\n",
    "4. No se cuenta con el nombre de los solicitantes, pero se puede decir que muy posiblemente estén sometiendo las solicitudes de manera repetida porque tienen factores adversos como la edad y su situación de retirados que limitan la posibilidad de obteer un crédito, quien quita y en una de esas tantas y repetidas veces quede aprobado.\n",
    "En virtud de lo antes expuesto se procederá a continuación a eliminar esos duplicados de la data original."
   ]
  },
  {
   "cell_type": "code",
   "execution_count": 53,
   "metadata": {},
   "outputs": [
    {
     "data": {
      "text/plain": [
       "0"
      ]
     },
     "execution_count": 53,
     "metadata": {},
     "output_type": "execute_result"
    }
   ],
   "source": [
    "# comprobación para ver si tenemos duplicados\n",
    "credit_score_depurada=credit_score.drop_duplicates().reset_index(drop=True)\n",
    "credit_score_depurada.duplicated().sum()"
   ]
  },
  {
   "cell_type": "code",
   "execution_count": 54,
   "metadata": {},
   "outputs": [
    {
     "name": "stdout",
     "output_type": "stream",
     "text": [
      "<class 'pandas.core.frame.DataFrame'>\n",
      "RangeIndex: 21352 entries, 0 to 21351\n",
      "Data columns (total 13 columns):\n",
      " #   Column              Non-Null Count  Dtype  \n",
      "---  ------              --------------  -----  \n",
      " 0   children            21352 non-null  int64  \n",
      " 1   days_employed       19259 non-null  float64\n",
      " 2   dob_years           21352 non-null  int64  \n",
      " 3   education           21352 non-null  object \n",
      " 4   education_id        21352 non-null  int64  \n",
      " 5   family_status       21352 non-null  object \n",
      " 6   family_status_id    21352 non-null  int64  \n",
      " 7   gender              21352 non-null  object \n",
      " 8   income_type         21352 non-null  object \n",
      " 9   debt                21352 non-null  int64  \n",
      " 10  total_income        19259 non-null  float64\n",
      " 11  purpose             21352 non-null  object \n",
      " 12  days_employed_year  19259 non-null  float64\n",
      "dtypes: float64(3), int64(5), object(5)\n",
      "memory usage: 2.1+ MB\n"
     ]
    }
   ],
   "source": [
    "# Comprueba el tamaño del conjunto de datos que tienes ahora, después de haber ejecutado estas primeras manipulaciones\n",
    "credit_score_depurada.info()"
   ]
  },
  {
   "cell_type": "markdown",
   "metadata": {},
   "source": [
    "# Trabajar con valores ausentes"
   ]
  },
  {
   "cell_type": "code",
   "execution_count": 55,
   "metadata": {},
   "outputs": [
    {
     "data": {
      "text/plain": [
       "array([0, 1, 2, 3, 4])"
      ]
     },
     "execution_count": 55,
     "metadata": {},
     "output_type": "execute_result"
    }
   ],
   "source": [
    "#  diccionarios\n",
    "credit_score_depurada[\"family_status_id\"].unique()\n",
    "credit_score_depurada[\"education_id\"].unique()"
   ]
  },
  {
   "cell_type": "code",
   "execution_count": 56,
   "metadata": {},
   "outputs": [
    {
     "data": {
      "text/html": [
       "<div>\n",
       "<style scoped>\n",
       "    .dataframe tbody tr th:only-of-type {\n",
       "        vertical-align: middle;\n",
       "    }\n",
       "\n",
       "    .dataframe tbody tr th {\n",
       "        vertical-align: top;\n",
       "    }\n",
       "\n",
       "    .dataframe thead th {\n",
       "        text-align: right;\n",
       "    }\n",
       "</style>\n",
       "<table border=\"1\" class=\"dataframe\">\n",
       "  <thead>\n",
       "    <tr style=\"text-align: right;\">\n",
       "      <th></th>\n",
       "      <th>family_status_id</th>\n",
       "      <th>family_status</th>\n",
       "    </tr>\n",
       "  </thead>\n",
       "  <tbody>\n",
       "    <tr>\n",
       "      <th>0</th>\n",
       "      <td>0</td>\n",
       "      <td>married</td>\n",
       "    </tr>\n",
       "    <tr>\n",
       "      <th>1</th>\n",
       "      <td>0</td>\n",
       "      <td>married</td>\n",
       "    </tr>\n",
       "    <tr>\n",
       "      <th>2</th>\n",
       "      <td>0</td>\n",
       "      <td>married</td>\n",
       "    </tr>\n",
       "    <tr>\n",
       "      <th>3</th>\n",
       "      <td>0</td>\n",
       "      <td>married</td>\n",
       "    </tr>\n",
       "    <tr>\n",
       "      <th>4</th>\n",
       "      <td>1</td>\n",
       "      <td>civil partnership</td>\n",
       "    </tr>\n",
       "    <tr>\n",
       "      <th>5</th>\n",
       "      <td>1</td>\n",
       "      <td>civil partnership</td>\n",
       "    </tr>\n",
       "    <tr>\n",
       "      <th>6</th>\n",
       "      <td>0</td>\n",
       "      <td>married</td>\n",
       "    </tr>\n",
       "    <tr>\n",
       "      <th>7</th>\n",
       "      <td>0</td>\n",
       "      <td>married</td>\n",
       "    </tr>\n",
       "    <tr>\n",
       "      <th>8</th>\n",
       "      <td>1</td>\n",
       "      <td>civil partnership</td>\n",
       "    </tr>\n",
       "    <tr>\n",
       "      <th>9</th>\n",
       "      <td>0</td>\n",
       "      <td>married</td>\n",
       "    </tr>\n",
       "  </tbody>\n",
       "</table>\n",
       "</div>"
      ],
      "text/plain": [
       "   family_status_id      family_status\n",
       "0                 0            married\n",
       "1                 0            married\n",
       "2                 0            married\n",
       "3                 0            married\n",
       "4                 1  civil partnership\n",
       "5                 1  civil partnership\n",
       "6                 0            married\n",
       "7                 0            married\n",
       "8                 1  civil partnership\n",
       "9                 0            married"
      ]
     },
     "execution_count": 56,
     "metadata": {},
     "output_type": "execute_result"
    }
   ],
   "source": [
    "credit_score_depurada_family_status_id=credit_score_depurada[['family_status_id','family_status']]\n",
    "credit_score_depurada_family_status_id.head(10)"
   ]
  },
  {
   "cell_type": "code",
   "execution_count": 57,
   "metadata": {
    "scrolled": true
   },
   "outputs": [
    {
     "data": {
      "text/html": [
       "<div>\n",
       "<style scoped>\n",
       "    .dataframe tbody tr th:only-of-type {\n",
       "        vertical-align: middle;\n",
       "    }\n",
       "\n",
       "    .dataframe tbody tr th {\n",
       "        vertical-align: top;\n",
       "    }\n",
       "\n",
       "    .dataframe thead th {\n",
       "        text-align: right;\n",
       "    }\n",
       "</style>\n",
       "<table border=\"1\" class=\"dataframe\">\n",
       "  <thead>\n",
       "    <tr style=\"text-align: right;\">\n",
       "      <th></th>\n",
       "      <th>education_id</th>\n",
       "      <th>education</th>\n",
       "    </tr>\n",
       "  </thead>\n",
       "  <tbody>\n",
       "    <tr>\n",
       "      <th>0</th>\n",
       "      <td>0</td>\n",
       "      <td>bachelor's degree</td>\n",
       "    </tr>\n",
       "    <tr>\n",
       "      <th>1</th>\n",
       "      <td>1</td>\n",
       "      <td>secondary education</td>\n",
       "    </tr>\n",
       "    <tr>\n",
       "      <th>2</th>\n",
       "      <td>1</td>\n",
       "      <td>secondary education</td>\n",
       "    </tr>\n",
       "    <tr>\n",
       "      <th>3</th>\n",
       "      <td>1</td>\n",
       "      <td>secondary education</td>\n",
       "    </tr>\n",
       "    <tr>\n",
       "      <th>4</th>\n",
       "      <td>1</td>\n",
       "      <td>secondary education</td>\n",
       "    </tr>\n",
       "    <tr>\n",
       "      <th>5</th>\n",
       "      <td>0</td>\n",
       "      <td>bachelor's degree</td>\n",
       "    </tr>\n",
       "    <tr>\n",
       "      <th>6</th>\n",
       "      <td>0</td>\n",
       "      <td>bachelor's degree</td>\n",
       "    </tr>\n",
       "    <tr>\n",
       "      <th>7</th>\n",
       "      <td>1</td>\n",
       "      <td>secondary education</td>\n",
       "    </tr>\n",
       "    <tr>\n",
       "      <th>8</th>\n",
       "      <td>0</td>\n",
       "      <td>bachelor's degree</td>\n",
       "    </tr>\n",
       "    <tr>\n",
       "      <th>9</th>\n",
       "      <td>1</td>\n",
       "      <td>secondary education</td>\n",
       "    </tr>\n",
       "  </tbody>\n",
       "</table>\n",
       "</div>"
      ],
      "text/plain": [
       "   education_id            education\n",
       "0             0    bachelor's degree\n",
       "1             1  secondary education\n",
       "2             1  secondary education\n",
       "3             1  secondary education\n",
       "4             1  secondary education\n",
       "5             0    bachelor's degree\n",
       "6             0    bachelor's degree\n",
       "7             1  secondary education\n",
       "8             0    bachelor's degree\n",
       "9             1  secondary education"
      ]
     },
     "execution_count": 57,
     "metadata": {},
     "output_type": "execute_result"
    }
   ],
   "source": [
    "credit_score_depurada_education_id=credit_score_depurada[['education_id','education']]\n",
    "credit_score_depurada_education_id.head(10)"
   ]
  },
  {
   "cell_type": "code",
   "execution_count": 58,
   "metadata": {},
   "outputs": [
    {
     "data": {
      "text/html": [
       "<div>\n",
       "<style scoped>\n",
       "    .dataframe tbody tr th:only-of-type {\n",
       "        vertical-align: middle;\n",
       "    }\n",
       "\n",
       "    .dataframe tbody tr th {\n",
       "        vertical-align: top;\n",
       "    }\n",
       "\n",
       "    .dataframe thead th {\n",
       "        text-align: right;\n",
       "    }\n",
       "</style>\n",
       "<table border=\"1\" class=\"dataframe\">\n",
       "  <thead>\n",
       "    <tr style=\"text-align: right;\">\n",
       "      <th></th>\n",
       "      <th>family_status_id</th>\n",
       "      <th>family_status</th>\n",
       "    </tr>\n",
       "  </thead>\n",
       "  <tbody>\n",
       "    <tr>\n",
       "      <th>0</th>\n",
       "      <td>0</td>\n",
       "      <td>married</td>\n",
       "    </tr>\n",
       "    <tr>\n",
       "      <th>1</th>\n",
       "      <td>1</td>\n",
       "      <td>civil partnership</td>\n",
       "    </tr>\n",
       "    <tr>\n",
       "      <th>2</th>\n",
       "      <td>2</td>\n",
       "      <td>widow / widower</td>\n",
       "    </tr>\n",
       "    <tr>\n",
       "      <th>3</th>\n",
       "      <td>3</td>\n",
       "      <td>divorced</td>\n",
       "    </tr>\n",
       "    <tr>\n",
       "      <th>4</th>\n",
       "      <td>4</td>\n",
       "      <td>unmarried</td>\n",
       "    </tr>\n",
       "  </tbody>\n",
       "</table>\n",
       "</div>"
      ],
      "text/plain": [
       "   family_status_id      family_status\n",
       "0                 0            married\n",
       "1                 1  civil partnership\n",
       "2                 2    widow / widower\n",
       "3                 3           divorced\n",
       "4                 4          unmarried"
      ]
     },
     "execution_count": 58,
     "metadata": {},
     "output_type": "execute_result"
    }
   ],
   "source": [
    "credit_score_depurada_family_status_id=credit_score_depurada_family_status_id.drop_duplicates().reset_index(drop=True)\n",
    "credit_score_depurada_family_status_id"
   ]
  },
  {
   "cell_type": "code",
   "execution_count": 59,
   "metadata": {},
   "outputs": [
    {
     "data": {
      "text/html": [
       "<div>\n",
       "<style scoped>\n",
       "    .dataframe tbody tr th:only-of-type {\n",
       "        vertical-align: middle;\n",
       "    }\n",
       "\n",
       "    .dataframe tbody tr th {\n",
       "        vertical-align: top;\n",
       "    }\n",
       "\n",
       "    .dataframe thead th {\n",
       "        text-align: right;\n",
       "    }\n",
       "</style>\n",
       "<table border=\"1\" class=\"dataframe\">\n",
       "  <thead>\n",
       "    <tr style=\"text-align: right;\">\n",
       "      <th></th>\n",
       "      <th>education_id</th>\n",
       "      <th>education</th>\n",
       "    </tr>\n",
       "  </thead>\n",
       "  <tbody>\n",
       "    <tr>\n",
       "      <th>0</th>\n",
       "      <td>0</td>\n",
       "      <td>bachelor's degree</td>\n",
       "    </tr>\n",
       "    <tr>\n",
       "      <th>1</th>\n",
       "      <td>1</td>\n",
       "      <td>secondary education</td>\n",
       "    </tr>\n",
       "    <tr>\n",
       "      <th>2</th>\n",
       "      <td>2</td>\n",
       "      <td>some college</td>\n",
       "    </tr>\n",
       "    <tr>\n",
       "      <th>3</th>\n",
       "      <td>3</td>\n",
       "      <td>primary education</td>\n",
       "    </tr>\n",
       "    <tr>\n",
       "      <th>4</th>\n",
       "      <td>4</td>\n",
       "      <td>graduate degree</td>\n",
       "    </tr>\n",
       "  </tbody>\n",
       "</table>\n",
       "</div>"
      ],
      "text/plain": [
       "   education_id            education\n",
       "0             0    bachelor's degree\n",
       "1             1  secondary education\n",
       "2             2         some college\n",
       "3             3    primary education\n",
       "4             4      graduate degree"
      ]
     },
     "execution_count": 59,
     "metadata": {},
     "output_type": "execute_result"
    }
   ],
   "source": [
    "credit_score_depurada_education_id=credit_score_depurada_education_id[['education_id','education']]\n",
    "credit_score_depurada_education_id=credit_score_depurada_education_id.drop_duplicates().reset_index(drop=True)\n",
    "credit_score_depurada_education_id"
   ]
  },
  {
   "cell_type": "markdown",
   "metadata": {},
   "source": [
    "### Restaurar valores ausentes en `total_income`"
   ]
  },
  {
   "cell_type": "code",
   "execution_count": 60,
   "metadata": {},
   "outputs": [],
   "source": [
    "# Vamos a escribir una función que calcule la categoría de edad\n",
    "def age_group(age):\n",
    "    if age < 20:\n",
    "        return \"0-19\" \n",
    "    elif age < 30:\n",
    "        return \"20-29\" \n",
    "    elif age < 40:\n",
    "        return \"30-39\" \n",
    "    elif age < 50:\n",
    "        return \"40-49\" \n",
    "    elif age < 60:\n",
    "        return \"50-59\" \n",
    "    elif age < 70:\n",
    "        return \"60-69\" \n",
    "    return \"70+\"\n",
    "\n",
    "    "
   ]
  },
  {
   "cell_type": "code",
   "execution_count": 61,
   "metadata": {},
   "outputs": [
    {
     "name": "stdout",
     "output_type": "stream",
     "text": [
      "20-29\n",
      "40-49\n"
     ]
    }
   ],
   "source": [
    "# Prueba si la función funciona bien\n",
    "print(age_group(25))\n",
    "print(age_group(46))\n"
   ]
  },
  {
   "cell_type": "code",
   "execution_count": 62,
   "metadata": {},
   "outputs": [],
   "source": [
    "# Crear una nueva columna basada en la función\n",
    "\n",
    "credit_score_depurada[\"age_group\"] = credit_score_depurada[\"dob_years\"].apply(age_group)"
   ]
  },
  {
   "cell_type": "code",
   "execution_count": 63,
   "metadata": {},
   "outputs": [
    {
     "data": {
      "text/html": [
       "<div>\n",
       "<style scoped>\n",
       "    .dataframe tbody tr th:only-of-type {\n",
       "        vertical-align: middle;\n",
       "    }\n",
       "\n",
       "    .dataframe tbody tr th {\n",
       "        vertical-align: top;\n",
       "    }\n",
       "\n",
       "    .dataframe thead th {\n",
       "        text-align: right;\n",
       "    }\n",
       "</style>\n",
       "<table border=\"1\" class=\"dataframe\">\n",
       "  <thead>\n",
       "    <tr style=\"text-align: right;\">\n",
       "      <th></th>\n",
       "      <th>children</th>\n",
       "      <th>days_employed</th>\n",
       "      <th>dob_years</th>\n",
       "      <th>education</th>\n",
       "      <th>education_id</th>\n",
       "      <th>family_status</th>\n",
       "      <th>family_status_id</th>\n",
       "      <th>gender</th>\n",
       "      <th>income_type</th>\n",
       "      <th>debt</th>\n",
       "      <th>total_income</th>\n",
       "      <th>purpose</th>\n",
       "      <th>days_employed_year</th>\n",
       "      <th>age_group</th>\n",
       "    </tr>\n",
       "  </thead>\n",
       "  <tbody>\n",
       "    <tr>\n",
       "      <th>0</th>\n",
       "      <td>1</td>\n",
       "      <td>8437.673028</td>\n",
       "      <td>42</td>\n",
       "      <td>bachelor's degree</td>\n",
       "      <td>0</td>\n",
       "      <td>married</td>\n",
       "      <td>0</td>\n",
       "      <td>F</td>\n",
       "      <td>employee</td>\n",
       "      <td>0</td>\n",
       "      <td>40620.102</td>\n",
       "      <td>purchase of the house</td>\n",
       "      <td>23.116912</td>\n",
       "      <td>40-49</td>\n",
       "    </tr>\n",
       "    <tr>\n",
       "      <th>1</th>\n",
       "      <td>1</td>\n",
       "      <td>4024.803754</td>\n",
       "      <td>36</td>\n",
       "      <td>secondary education</td>\n",
       "      <td>1</td>\n",
       "      <td>married</td>\n",
       "      <td>0</td>\n",
       "      <td>F</td>\n",
       "      <td>employee</td>\n",
       "      <td>0</td>\n",
       "      <td>17932.802</td>\n",
       "      <td>car purchase</td>\n",
       "      <td>11.026860</td>\n",
       "      <td>30-39</td>\n",
       "    </tr>\n",
       "    <tr>\n",
       "      <th>2</th>\n",
       "      <td>0</td>\n",
       "      <td>5623.422610</td>\n",
       "      <td>33</td>\n",
       "      <td>secondary education</td>\n",
       "      <td>1</td>\n",
       "      <td>married</td>\n",
       "      <td>0</td>\n",
       "      <td>M</td>\n",
       "      <td>employee</td>\n",
       "      <td>0</td>\n",
       "      <td>23341.752</td>\n",
       "      <td>purchase of the house</td>\n",
       "      <td>15.406637</td>\n",
       "      <td>30-39</td>\n",
       "    </tr>\n",
       "    <tr>\n",
       "      <th>3</th>\n",
       "      <td>3</td>\n",
       "      <td>4124.747207</td>\n",
       "      <td>32</td>\n",
       "      <td>secondary education</td>\n",
       "      <td>1</td>\n",
       "      <td>married</td>\n",
       "      <td>0</td>\n",
       "      <td>M</td>\n",
       "      <td>employee</td>\n",
       "      <td>0</td>\n",
       "      <td>42820.568</td>\n",
       "      <td>supplementary education</td>\n",
       "      <td>11.300677</td>\n",
       "      <td>30-39</td>\n",
       "    </tr>\n",
       "    <tr>\n",
       "      <th>4</th>\n",
       "      <td>0</td>\n",
       "      <td>340266.072047</td>\n",
       "      <td>53</td>\n",
       "      <td>secondary education</td>\n",
       "      <td>1</td>\n",
       "      <td>civil partnership</td>\n",
       "      <td>1</td>\n",
       "      <td>F</td>\n",
       "      <td>retiree</td>\n",
       "      <td>0</td>\n",
       "      <td>25378.572</td>\n",
       "      <td>to have a wedding</td>\n",
       "      <td>40.000000</td>\n",
       "      <td>50-59</td>\n",
       "    </tr>\n",
       "    <tr>\n",
       "      <th>5</th>\n",
       "      <td>0</td>\n",
       "      <td>926.185831</td>\n",
       "      <td>27</td>\n",
       "      <td>bachelor's degree</td>\n",
       "      <td>0</td>\n",
       "      <td>civil partnership</td>\n",
       "      <td>1</td>\n",
       "      <td>M</td>\n",
       "      <td>business</td>\n",
       "      <td>0</td>\n",
       "      <td>40922.170</td>\n",
       "      <td>purchase of the house</td>\n",
       "      <td>2.537495</td>\n",
       "      <td>20-29</td>\n",
       "    </tr>\n",
       "    <tr>\n",
       "      <th>6</th>\n",
       "      <td>0</td>\n",
       "      <td>2879.202052</td>\n",
       "      <td>43</td>\n",
       "      <td>bachelor's degree</td>\n",
       "      <td>0</td>\n",
       "      <td>married</td>\n",
       "      <td>0</td>\n",
       "      <td>F</td>\n",
       "      <td>business</td>\n",
       "      <td>0</td>\n",
       "      <td>38484.156</td>\n",
       "      <td>housing transactions</td>\n",
       "      <td>7.888225</td>\n",
       "      <td>40-49</td>\n",
       "    </tr>\n",
       "    <tr>\n",
       "      <th>7</th>\n",
       "      <td>0</td>\n",
       "      <td>152.779569</td>\n",
       "      <td>50</td>\n",
       "      <td>secondary education</td>\n",
       "      <td>1</td>\n",
       "      <td>married</td>\n",
       "      <td>0</td>\n",
       "      <td>M</td>\n",
       "      <td>employee</td>\n",
       "      <td>0</td>\n",
       "      <td>21731.829</td>\n",
       "      <td>education</td>\n",
       "      <td>0.418574</td>\n",
       "      <td>50-59</td>\n",
       "    </tr>\n",
       "    <tr>\n",
       "      <th>8</th>\n",
       "      <td>2</td>\n",
       "      <td>6929.865299</td>\n",
       "      <td>35</td>\n",
       "      <td>bachelor's degree</td>\n",
       "      <td>0</td>\n",
       "      <td>civil partnership</td>\n",
       "      <td>1</td>\n",
       "      <td>F</td>\n",
       "      <td>employee</td>\n",
       "      <td>0</td>\n",
       "      <td>15337.093</td>\n",
       "      <td>having a wedding</td>\n",
       "      <td>18.985932</td>\n",
       "      <td>30-39</td>\n",
       "    </tr>\n",
       "    <tr>\n",
       "      <th>9</th>\n",
       "      <td>0</td>\n",
       "      <td>2188.756445</td>\n",
       "      <td>41</td>\n",
       "      <td>secondary education</td>\n",
       "      <td>1</td>\n",
       "      <td>married</td>\n",
       "      <td>0</td>\n",
       "      <td>M</td>\n",
       "      <td>employee</td>\n",
       "      <td>0</td>\n",
       "      <td>23108.150</td>\n",
       "      <td>purchase of the house for my family</td>\n",
       "      <td>5.996593</td>\n",
       "      <td>40-49</td>\n",
       "    </tr>\n",
       "    <tr>\n",
       "      <th>10</th>\n",
       "      <td>2</td>\n",
       "      <td>4171.483647</td>\n",
       "      <td>36</td>\n",
       "      <td>bachelor's degree</td>\n",
       "      <td>0</td>\n",
       "      <td>married</td>\n",
       "      <td>0</td>\n",
       "      <td>M</td>\n",
       "      <td>business</td>\n",
       "      <td>0</td>\n",
       "      <td>18230.959</td>\n",
       "      <td>buy real estate</td>\n",
       "      <td>11.428722</td>\n",
       "      <td>30-39</td>\n",
       "    </tr>\n",
       "    <tr>\n",
       "      <th>11</th>\n",
       "      <td>0</td>\n",
       "      <td>792.701887</td>\n",
       "      <td>40</td>\n",
       "      <td>secondary education</td>\n",
       "      <td>1</td>\n",
       "      <td>married</td>\n",
       "      <td>0</td>\n",
       "      <td>F</td>\n",
       "      <td>employee</td>\n",
       "      <td>0</td>\n",
       "      <td>12331.077</td>\n",
       "      <td>buy commercial real estate</td>\n",
       "      <td>2.171786</td>\n",
       "      <td>40-49</td>\n",
       "    </tr>\n",
       "    <tr>\n",
       "      <th>12</th>\n",
       "      <td>0</td>\n",
       "      <td>NaN</td>\n",
       "      <td>65</td>\n",
       "      <td>secondary education</td>\n",
       "      <td>1</td>\n",
       "      <td>civil partnership</td>\n",
       "      <td>1</td>\n",
       "      <td>M</td>\n",
       "      <td>retiree</td>\n",
       "      <td>0</td>\n",
       "      <td>NaN</td>\n",
       "      <td>to have a wedding</td>\n",
       "      <td>NaN</td>\n",
       "      <td>60-69</td>\n",
       "    </tr>\n",
       "    <tr>\n",
       "      <th>13</th>\n",
       "      <td>0</td>\n",
       "      <td>1846.641941</td>\n",
       "      <td>54</td>\n",
       "      <td>some college</td>\n",
       "      <td>2</td>\n",
       "      <td>married</td>\n",
       "      <td>0</td>\n",
       "      <td>F</td>\n",
       "      <td>employee</td>\n",
       "      <td>0</td>\n",
       "      <td>20873.317</td>\n",
       "      <td>car purchase</td>\n",
       "      <td>5.059293</td>\n",
       "      <td>50-59</td>\n",
       "    </tr>\n",
       "    <tr>\n",
       "      <th>14</th>\n",
       "      <td>0</td>\n",
       "      <td>1844.956182</td>\n",
       "      <td>56</td>\n",
       "      <td>bachelor's degree</td>\n",
       "      <td>0</td>\n",
       "      <td>civil partnership</td>\n",
       "      <td>1</td>\n",
       "      <td>F</td>\n",
       "      <td>business</td>\n",
       "      <td>1</td>\n",
       "      <td>26420.466</td>\n",
       "      <td>buy residential real estate</td>\n",
       "      <td>5.054674</td>\n",
       "      <td>50-59</td>\n",
       "    </tr>\n",
       "    <tr>\n",
       "      <th>15</th>\n",
       "      <td>1</td>\n",
       "      <td>972.364419</td>\n",
       "      <td>26</td>\n",
       "      <td>secondary education</td>\n",
       "      <td>1</td>\n",
       "      <td>married</td>\n",
       "      <td>0</td>\n",
       "      <td>F</td>\n",
       "      <td>employee</td>\n",
       "      <td>0</td>\n",
       "      <td>18691.345</td>\n",
       "      <td>construction of own property</td>\n",
       "      <td>2.664012</td>\n",
       "      <td>20-29</td>\n",
       "    </tr>\n",
       "    <tr>\n",
       "      <th>16</th>\n",
       "      <td>0</td>\n",
       "      <td>1719.934226</td>\n",
       "      <td>35</td>\n",
       "      <td>secondary education</td>\n",
       "      <td>1</td>\n",
       "      <td>married</td>\n",
       "      <td>0</td>\n",
       "      <td>F</td>\n",
       "      <td>employee</td>\n",
       "      <td>0</td>\n",
       "      <td>46272.433</td>\n",
       "      <td>property</td>\n",
       "      <td>4.712149</td>\n",
       "      <td>30-39</td>\n",
       "    </tr>\n",
       "    <tr>\n",
       "      <th>17</th>\n",
       "      <td>0</td>\n",
       "      <td>2369.999720</td>\n",
       "      <td>33</td>\n",
       "      <td>bachelor's degree</td>\n",
       "      <td>0</td>\n",
       "      <td>civil partnership</td>\n",
       "      <td>1</td>\n",
       "      <td>M</td>\n",
       "      <td>employee</td>\n",
       "      <td>0</td>\n",
       "      <td>14465.694</td>\n",
       "      <td>building a property</td>\n",
       "      <td>6.493150</td>\n",
       "      <td>30-39</td>\n",
       "    </tr>\n",
       "    <tr>\n",
       "      <th>18</th>\n",
       "      <td>0</td>\n",
       "      <td>400281.136913</td>\n",
       "      <td>53</td>\n",
       "      <td>secondary education</td>\n",
       "      <td>1</td>\n",
       "      <td>widow / widower</td>\n",
       "      <td>2</td>\n",
       "      <td>F</td>\n",
       "      <td>retiree</td>\n",
       "      <td>0</td>\n",
       "      <td>9091.804</td>\n",
       "      <td>buying a second-hand car</td>\n",
       "      <td>40.000000</td>\n",
       "      <td>50-59</td>\n",
       "    </tr>\n",
       "    <tr>\n",
       "      <th>19</th>\n",
       "      <td>0</td>\n",
       "      <td>10038.818549</td>\n",
       "      <td>48</td>\n",
       "      <td>secondary education</td>\n",
       "      <td>1</td>\n",
       "      <td>divorced</td>\n",
       "      <td>3</td>\n",
       "      <td>F</td>\n",
       "      <td>employee</td>\n",
       "      <td>0</td>\n",
       "      <td>38852.977</td>\n",
       "      <td>buying my own car</td>\n",
       "      <td>27.503612</td>\n",
       "      <td>40-49</td>\n",
       "    </tr>\n",
       "  </tbody>\n",
       "</table>\n",
       "</div>"
      ],
      "text/plain": [
       "    children  days_employed  dob_years            education  education_id  \\\n",
       "0          1    8437.673028         42    bachelor's degree             0   \n",
       "1          1    4024.803754         36  secondary education             1   \n",
       "2          0    5623.422610         33  secondary education             1   \n",
       "3          3    4124.747207         32  secondary education             1   \n",
       "4          0  340266.072047         53  secondary education             1   \n",
       "5          0     926.185831         27    bachelor's degree             0   \n",
       "6          0    2879.202052         43    bachelor's degree             0   \n",
       "7          0     152.779569         50  secondary education             1   \n",
       "8          2    6929.865299         35    bachelor's degree             0   \n",
       "9          0    2188.756445         41  secondary education             1   \n",
       "10         2    4171.483647         36    bachelor's degree             0   \n",
       "11         0     792.701887         40  secondary education             1   \n",
       "12         0            NaN         65  secondary education             1   \n",
       "13         0    1846.641941         54         some college             2   \n",
       "14         0    1844.956182         56    bachelor's degree             0   \n",
       "15         1     972.364419         26  secondary education             1   \n",
       "16         0    1719.934226         35  secondary education             1   \n",
       "17         0    2369.999720         33    bachelor's degree             0   \n",
       "18         0  400281.136913         53  secondary education             1   \n",
       "19         0   10038.818549         48  secondary education             1   \n",
       "\n",
       "        family_status  family_status_id gender income_type  debt  \\\n",
       "0             married                 0      F    employee     0   \n",
       "1             married                 0      F    employee     0   \n",
       "2             married                 0      M    employee     0   \n",
       "3             married                 0      M    employee     0   \n",
       "4   civil partnership                 1      F     retiree     0   \n",
       "5   civil partnership                 1      M    business     0   \n",
       "6             married                 0      F    business     0   \n",
       "7             married                 0      M    employee     0   \n",
       "8   civil partnership                 1      F    employee     0   \n",
       "9             married                 0      M    employee     0   \n",
       "10            married                 0      M    business     0   \n",
       "11            married                 0      F    employee     0   \n",
       "12  civil partnership                 1      M     retiree     0   \n",
       "13            married                 0      F    employee     0   \n",
       "14  civil partnership                 1      F    business     1   \n",
       "15            married                 0      F    employee     0   \n",
       "16            married                 0      F    employee     0   \n",
       "17  civil partnership                 1      M    employee     0   \n",
       "18    widow / widower                 2      F     retiree     0   \n",
       "19           divorced                 3      F    employee     0   \n",
       "\n",
       "    total_income                              purpose  days_employed_year  \\\n",
       "0      40620.102                purchase of the house           23.116912   \n",
       "1      17932.802                         car purchase           11.026860   \n",
       "2      23341.752                purchase of the house           15.406637   \n",
       "3      42820.568              supplementary education           11.300677   \n",
       "4      25378.572                    to have a wedding           40.000000   \n",
       "5      40922.170                purchase of the house            2.537495   \n",
       "6      38484.156                 housing transactions            7.888225   \n",
       "7      21731.829                            education            0.418574   \n",
       "8      15337.093                     having a wedding           18.985932   \n",
       "9      23108.150  purchase of the house for my family            5.996593   \n",
       "10     18230.959                      buy real estate           11.428722   \n",
       "11     12331.077           buy commercial real estate            2.171786   \n",
       "12           NaN                    to have a wedding                 NaN   \n",
       "13     20873.317                         car purchase            5.059293   \n",
       "14     26420.466          buy residential real estate            5.054674   \n",
       "15     18691.345         construction of own property            2.664012   \n",
       "16     46272.433                             property            4.712149   \n",
       "17     14465.694                  building a property            6.493150   \n",
       "18      9091.804             buying a second-hand car           40.000000   \n",
       "19     38852.977                    buying my own car           27.503612   \n",
       "\n",
       "   age_group  \n",
       "0      40-49  \n",
       "1      30-39  \n",
       "2      30-39  \n",
       "3      30-39  \n",
       "4      50-59  \n",
       "5      20-29  \n",
       "6      40-49  \n",
       "7      50-59  \n",
       "8      30-39  \n",
       "9      40-49  \n",
       "10     30-39  \n",
       "11     40-49  \n",
       "12     60-69  \n",
       "13     50-59  \n",
       "14     50-59  \n",
       "15     20-29  \n",
       "16     30-39  \n",
       "17     30-39  \n",
       "18     50-59  \n",
       "19     40-49  "
      ]
     },
     "execution_count": 63,
     "metadata": {},
     "output_type": "execute_result"
    }
   ],
   "source": [
    "# Comprobar cómo los valores en la nueva columna\n",
    "\n",
    "credit_score_depurada.head(20)"
   ]
  },
  {
   "cell_type": "markdown",
   "metadata": {},
   "source": [
    "Normalmente los ingresos van a depender del grado de escolaridad, del grupo de edad y de la fuente de ingresos.\n",
    "A continuación procederemos a crear una tabla sin valores ausentes para poder realizar estimaciones estadísticas"
   ]
  },
  {
   "cell_type": "code",
   "execution_count": 64,
   "metadata": {},
   "outputs": [
    {
     "name": "stdout",
     "output_type": "stream",
     "text": [
      "<class 'pandas.core.frame.DataFrame'>\n",
      "Int64Index: 19259 entries, 0 to 21351\n",
      "Data columns (total 14 columns):\n",
      " #   Column              Non-Null Count  Dtype  \n",
      "---  ------              --------------  -----  \n",
      " 0   children            19259 non-null  int64  \n",
      " 1   days_employed       19259 non-null  float64\n",
      " 2   dob_years           19259 non-null  int64  \n",
      " 3   education           19259 non-null  object \n",
      " 4   education_id        19259 non-null  int64  \n",
      " 5   family_status       19259 non-null  object \n",
      " 6   family_status_id    19259 non-null  int64  \n",
      " 7   gender              19259 non-null  object \n",
      " 8   income_type         19259 non-null  object \n",
      " 9   debt                19259 non-null  int64  \n",
      " 10  total_income        19259 non-null  float64\n",
      " 11  purpose             19259 non-null  object \n",
      " 12  days_employed_year  19259 non-null  float64\n",
      " 13  age_group           19259 non-null  object \n",
      "dtypes: float64(3), int64(5), object(6)\n",
      "memory usage: 2.2+ MB\n"
     ]
    }
   ],
   "source": [
    "# Crea una tabla sin valores ausentes y muestra algunas de sus filas para asegurarte de que se ve bien\n",
    "credit_score_depurada_sin_ausentes = credit_score_depurada[credit_score_depurada[\"days_employed\"].isnull() != True]\n",
    "credit_score_depurada_sin_ausentes.info()"
   ]
  },
  {
   "cell_type": "code",
   "execution_count": 65,
   "metadata": {
    "scrolled": true
   },
   "outputs": [
    {
     "data": {
      "text/html": [
       "<div>\n",
       "<style scoped>\n",
       "    .dataframe tbody tr th:only-of-type {\n",
       "        vertical-align: middle;\n",
       "    }\n",
       "\n",
       "    .dataframe tbody tr th {\n",
       "        vertical-align: top;\n",
       "    }\n",
       "\n",
       "    .dataframe thead th {\n",
       "        text-align: right;\n",
       "    }\n",
       "</style>\n",
       "<table border=\"1\" class=\"dataframe\">\n",
       "  <thead>\n",
       "    <tr style=\"text-align: right;\">\n",
       "      <th></th>\n",
       "      <th>children</th>\n",
       "      <th>days_employed</th>\n",
       "      <th>dob_years</th>\n",
       "      <th>education</th>\n",
       "      <th>education_id</th>\n",
       "      <th>family_status</th>\n",
       "      <th>family_status_id</th>\n",
       "      <th>gender</th>\n",
       "      <th>income_type</th>\n",
       "      <th>debt</th>\n",
       "      <th>total_income</th>\n",
       "      <th>purpose</th>\n",
       "      <th>days_employed_year</th>\n",
       "      <th>age_group</th>\n",
       "    </tr>\n",
       "  </thead>\n",
       "  <tbody>\n",
       "    <tr>\n",
       "      <th>0</th>\n",
       "      <td>1</td>\n",
       "      <td>8437.673028</td>\n",
       "      <td>42</td>\n",
       "      <td>bachelor's degree</td>\n",
       "      <td>0</td>\n",
       "      <td>married</td>\n",
       "      <td>0</td>\n",
       "      <td>F</td>\n",
       "      <td>employee</td>\n",
       "      <td>0</td>\n",
       "      <td>40620.102</td>\n",
       "      <td>purchase of the house</td>\n",
       "      <td>23.116912</td>\n",
       "      <td>40-49</td>\n",
       "    </tr>\n",
       "    <tr>\n",
       "      <th>1</th>\n",
       "      <td>1</td>\n",
       "      <td>4024.803754</td>\n",
       "      <td>36</td>\n",
       "      <td>secondary education</td>\n",
       "      <td>1</td>\n",
       "      <td>married</td>\n",
       "      <td>0</td>\n",
       "      <td>F</td>\n",
       "      <td>employee</td>\n",
       "      <td>0</td>\n",
       "      <td>17932.802</td>\n",
       "      <td>car purchase</td>\n",
       "      <td>11.026860</td>\n",
       "      <td>30-39</td>\n",
       "    </tr>\n",
       "    <tr>\n",
       "      <th>2</th>\n",
       "      <td>0</td>\n",
       "      <td>5623.422610</td>\n",
       "      <td>33</td>\n",
       "      <td>secondary education</td>\n",
       "      <td>1</td>\n",
       "      <td>married</td>\n",
       "      <td>0</td>\n",
       "      <td>M</td>\n",
       "      <td>employee</td>\n",
       "      <td>0</td>\n",
       "      <td>23341.752</td>\n",
       "      <td>purchase of the house</td>\n",
       "      <td>15.406637</td>\n",
       "      <td>30-39</td>\n",
       "    </tr>\n",
       "    <tr>\n",
       "      <th>3</th>\n",
       "      <td>3</td>\n",
       "      <td>4124.747207</td>\n",
       "      <td>32</td>\n",
       "      <td>secondary education</td>\n",
       "      <td>1</td>\n",
       "      <td>married</td>\n",
       "      <td>0</td>\n",
       "      <td>M</td>\n",
       "      <td>employee</td>\n",
       "      <td>0</td>\n",
       "      <td>42820.568</td>\n",
       "      <td>supplementary education</td>\n",
       "      <td>11.300677</td>\n",
       "      <td>30-39</td>\n",
       "    </tr>\n",
       "    <tr>\n",
       "      <th>4</th>\n",
       "      <td>0</td>\n",
       "      <td>340266.072047</td>\n",
       "      <td>53</td>\n",
       "      <td>secondary education</td>\n",
       "      <td>1</td>\n",
       "      <td>civil partnership</td>\n",
       "      <td>1</td>\n",
       "      <td>F</td>\n",
       "      <td>retiree</td>\n",
       "      <td>0</td>\n",
       "      <td>25378.572</td>\n",
       "      <td>to have a wedding</td>\n",
       "      <td>40.000000</td>\n",
       "      <td>50-59</td>\n",
       "    </tr>\n",
       "    <tr>\n",
       "      <th>5</th>\n",
       "      <td>0</td>\n",
       "      <td>926.185831</td>\n",
       "      <td>27</td>\n",
       "      <td>bachelor's degree</td>\n",
       "      <td>0</td>\n",
       "      <td>civil partnership</td>\n",
       "      <td>1</td>\n",
       "      <td>M</td>\n",
       "      <td>business</td>\n",
       "      <td>0</td>\n",
       "      <td>40922.170</td>\n",
       "      <td>purchase of the house</td>\n",
       "      <td>2.537495</td>\n",
       "      <td>20-29</td>\n",
       "    </tr>\n",
       "    <tr>\n",
       "      <th>6</th>\n",
       "      <td>0</td>\n",
       "      <td>2879.202052</td>\n",
       "      <td>43</td>\n",
       "      <td>bachelor's degree</td>\n",
       "      <td>0</td>\n",
       "      <td>married</td>\n",
       "      <td>0</td>\n",
       "      <td>F</td>\n",
       "      <td>business</td>\n",
       "      <td>0</td>\n",
       "      <td>38484.156</td>\n",
       "      <td>housing transactions</td>\n",
       "      <td>7.888225</td>\n",
       "      <td>40-49</td>\n",
       "    </tr>\n",
       "    <tr>\n",
       "      <th>7</th>\n",
       "      <td>0</td>\n",
       "      <td>152.779569</td>\n",
       "      <td>50</td>\n",
       "      <td>secondary education</td>\n",
       "      <td>1</td>\n",
       "      <td>married</td>\n",
       "      <td>0</td>\n",
       "      <td>M</td>\n",
       "      <td>employee</td>\n",
       "      <td>0</td>\n",
       "      <td>21731.829</td>\n",
       "      <td>education</td>\n",
       "      <td>0.418574</td>\n",
       "      <td>50-59</td>\n",
       "    </tr>\n",
       "    <tr>\n",
       "      <th>8</th>\n",
       "      <td>2</td>\n",
       "      <td>6929.865299</td>\n",
       "      <td>35</td>\n",
       "      <td>bachelor's degree</td>\n",
       "      <td>0</td>\n",
       "      <td>civil partnership</td>\n",
       "      <td>1</td>\n",
       "      <td>F</td>\n",
       "      <td>employee</td>\n",
       "      <td>0</td>\n",
       "      <td>15337.093</td>\n",
       "      <td>having a wedding</td>\n",
       "      <td>18.985932</td>\n",
       "      <td>30-39</td>\n",
       "    </tr>\n",
       "    <tr>\n",
       "      <th>9</th>\n",
       "      <td>0</td>\n",
       "      <td>2188.756445</td>\n",
       "      <td>41</td>\n",
       "      <td>secondary education</td>\n",
       "      <td>1</td>\n",
       "      <td>married</td>\n",
       "      <td>0</td>\n",
       "      <td>M</td>\n",
       "      <td>employee</td>\n",
       "      <td>0</td>\n",
       "      <td>23108.150</td>\n",
       "      <td>purchase of the house for my family</td>\n",
       "      <td>5.996593</td>\n",
       "      <td>40-49</td>\n",
       "    </tr>\n",
       "    <tr>\n",
       "      <th>10</th>\n",
       "      <td>2</td>\n",
       "      <td>4171.483647</td>\n",
       "      <td>36</td>\n",
       "      <td>bachelor's degree</td>\n",
       "      <td>0</td>\n",
       "      <td>married</td>\n",
       "      <td>0</td>\n",
       "      <td>M</td>\n",
       "      <td>business</td>\n",
       "      <td>0</td>\n",
       "      <td>18230.959</td>\n",
       "      <td>buy real estate</td>\n",
       "      <td>11.428722</td>\n",
       "      <td>30-39</td>\n",
       "    </tr>\n",
       "    <tr>\n",
       "      <th>11</th>\n",
       "      <td>0</td>\n",
       "      <td>792.701887</td>\n",
       "      <td>40</td>\n",
       "      <td>secondary education</td>\n",
       "      <td>1</td>\n",
       "      <td>married</td>\n",
       "      <td>0</td>\n",
       "      <td>F</td>\n",
       "      <td>employee</td>\n",
       "      <td>0</td>\n",
       "      <td>12331.077</td>\n",
       "      <td>buy commercial real estate</td>\n",
       "      <td>2.171786</td>\n",
       "      <td>40-49</td>\n",
       "    </tr>\n",
       "    <tr>\n",
       "      <th>13</th>\n",
       "      <td>0</td>\n",
       "      <td>1846.641941</td>\n",
       "      <td>54</td>\n",
       "      <td>some college</td>\n",
       "      <td>2</td>\n",
       "      <td>married</td>\n",
       "      <td>0</td>\n",
       "      <td>F</td>\n",
       "      <td>employee</td>\n",
       "      <td>0</td>\n",
       "      <td>20873.317</td>\n",
       "      <td>car purchase</td>\n",
       "      <td>5.059293</td>\n",
       "      <td>50-59</td>\n",
       "    </tr>\n",
       "    <tr>\n",
       "      <th>14</th>\n",
       "      <td>0</td>\n",
       "      <td>1844.956182</td>\n",
       "      <td>56</td>\n",
       "      <td>bachelor's degree</td>\n",
       "      <td>0</td>\n",
       "      <td>civil partnership</td>\n",
       "      <td>1</td>\n",
       "      <td>F</td>\n",
       "      <td>business</td>\n",
       "      <td>1</td>\n",
       "      <td>26420.466</td>\n",
       "      <td>buy residential real estate</td>\n",
       "      <td>5.054674</td>\n",
       "      <td>50-59</td>\n",
       "    </tr>\n",
       "    <tr>\n",
       "      <th>15</th>\n",
       "      <td>1</td>\n",
       "      <td>972.364419</td>\n",
       "      <td>26</td>\n",
       "      <td>secondary education</td>\n",
       "      <td>1</td>\n",
       "      <td>married</td>\n",
       "      <td>0</td>\n",
       "      <td>F</td>\n",
       "      <td>employee</td>\n",
       "      <td>0</td>\n",
       "      <td>18691.345</td>\n",
       "      <td>construction of own property</td>\n",
       "      <td>2.664012</td>\n",
       "      <td>20-29</td>\n",
       "    </tr>\n",
       "    <tr>\n",
       "      <th>16</th>\n",
       "      <td>0</td>\n",
       "      <td>1719.934226</td>\n",
       "      <td>35</td>\n",
       "      <td>secondary education</td>\n",
       "      <td>1</td>\n",
       "      <td>married</td>\n",
       "      <td>0</td>\n",
       "      <td>F</td>\n",
       "      <td>employee</td>\n",
       "      <td>0</td>\n",
       "      <td>46272.433</td>\n",
       "      <td>property</td>\n",
       "      <td>4.712149</td>\n",
       "      <td>30-39</td>\n",
       "    </tr>\n",
       "    <tr>\n",
       "      <th>17</th>\n",
       "      <td>0</td>\n",
       "      <td>2369.999720</td>\n",
       "      <td>33</td>\n",
       "      <td>bachelor's degree</td>\n",
       "      <td>0</td>\n",
       "      <td>civil partnership</td>\n",
       "      <td>1</td>\n",
       "      <td>M</td>\n",
       "      <td>employee</td>\n",
       "      <td>0</td>\n",
       "      <td>14465.694</td>\n",
       "      <td>building a property</td>\n",
       "      <td>6.493150</td>\n",
       "      <td>30-39</td>\n",
       "    </tr>\n",
       "    <tr>\n",
       "      <th>18</th>\n",
       "      <td>0</td>\n",
       "      <td>400281.136913</td>\n",
       "      <td>53</td>\n",
       "      <td>secondary education</td>\n",
       "      <td>1</td>\n",
       "      <td>widow / widower</td>\n",
       "      <td>2</td>\n",
       "      <td>F</td>\n",
       "      <td>retiree</td>\n",
       "      <td>0</td>\n",
       "      <td>9091.804</td>\n",
       "      <td>buying a second-hand car</td>\n",
       "      <td>40.000000</td>\n",
       "      <td>50-59</td>\n",
       "    </tr>\n",
       "    <tr>\n",
       "      <th>19</th>\n",
       "      <td>0</td>\n",
       "      <td>10038.818549</td>\n",
       "      <td>48</td>\n",
       "      <td>secondary education</td>\n",
       "      <td>1</td>\n",
       "      <td>divorced</td>\n",
       "      <td>3</td>\n",
       "      <td>F</td>\n",
       "      <td>employee</td>\n",
       "      <td>0</td>\n",
       "      <td>38852.977</td>\n",
       "      <td>buying my own car</td>\n",
       "      <td>27.503612</td>\n",
       "      <td>40-49</td>\n",
       "    </tr>\n",
       "    <tr>\n",
       "      <th>20</th>\n",
       "      <td>1</td>\n",
       "      <td>1311.604166</td>\n",
       "      <td>36</td>\n",
       "      <td>secondary education</td>\n",
       "      <td>1</td>\n",
       "      <td>married</td>\n",
       "      <td>0</td>\n",
       "      <td>M</td>\n",
       "      <td>employee</td>\n",
       "      <td>0</td>\n",
       "      <td>33528.423</td>\n",
       "      <td>property</td>\n",
       "      <td>3.593436</td>\n",
       "      <td>30-39</td>\n",
       "    </tr>\n",
       "  </tbody>\n",
       "</table>\n",
       "</div>"
      ],
      "text/plain": [
       "    children  days_employed  dob_years            education  education_id  \\\n",
       "0          1    8437.673028         42    bachelor's degree             0   \n",
       "1          1    4024.803754         36  secondary education             1   \n",
       "2          0    5623.422610         33  secondary education             1   \n",
       "3          3    4124.747207         32  secondary education             1   \n",
       "4          0  340266.072047         53  secondary education             1   \n",
       "5          0     926.185831         27    bachelor's degree             0   \n",
       "6          0    2879.202052         43    bachelor's degree             0   \n",
       "7          0     152.779569         50  secondary education             1   \n",
       "8          2    6929.865299         35    bachelor's degree             0   \n",
       "9          0    2188.756445         41  secondary education             1   \n",
       "10         2    4171.483647         36    bachelor's degree             0   \n",
       "11         0     792.701887         40  secondary education             1   \n",
       "13         0    1846.641941         54         some college             2   \n",
       "14         0    1844.956182         56    bachelor's degree             0   \n",
       "15         1     972.364419         26  secondary education             1   \n",
       "16         0    1719.934226         35  secondary education             1   \n",
       "17         0    2369.999720         33    bachelor's degree             0   \n",
       "18         0  400281.136913         53  secondary education             1   \n",
       "19         0   10038.818549         48  secondary education             1   \n",
       "20         1    1311.604166         36  secondary education             1   \n",
       "\n",
       "        family_status  family_status_id gender income_type  debt  \\\n",
       "0             married                 0      F    employee     0   \n",
       "1             married                 0      F    employee     0   \n",
       "2             married                 0      M    employee     0   \n",
       "3             married                 0      M    employee     0   \n",
       "4   civil partnership                 1      F     retiree     0   \n",
       "5   civil partnership                 1      M    business     0   \n",
       "6             married                 0      F    business     0   \n",
       "7             married                 0      M    employee     0   \n",
       "8   civil partnership                 1      F    employee     0   \n",
       "9             married                 0      M    employee     0   \n",
       "10            married                 0      M    business     0   \n",
       "11            married                 0      F    employee     0   \n",
       "13            married                 0      F    employee     0   \n",
       "14  civil partnership                 1      F    business     1   \n",
       "15            married                 0      F    employee     0   \n",
       "16            married                 0      F    employee     0   \n",
       "17  civil partnership                 1      M    employee     0   \n",
       "18    widow / widower                 2      F     retiree     0   \n",
       "19           divorced                 3      F    employee     0   \n",
       "20            married                 0      M    employee     0   \n",
       "\n",
       "    total_income                              purpose  days_employed_year  \\\n",
       "0      40620.102                purchase of the house           23.116912   \n",
       "1      17932.802                         car purchase           11.026860   \n",
       "2      23341.752                purchase of the house           15.406637   \n",
       "3      42820.568              supplementary education           11.300677   \n",
       "4      25378.572                    to have a wedding           40.000000   \n",
       "5      40922.170                purchase of the house            2.537495   \n",
       "6      38484.156                 housing transactions            7.888225   \n",
       "7      21731.829                            education            0.418574   \n",
       "8      15337.093                     having a wedding           18.985932   \n",
       "9      23108.150  purchase of the house for my family            5.996593   \n",
       "10     18230.959                      buy real estate           11.428722   \n",
       "11     12331.077           buy commercial real estate            2.171786   \n",
       "13     20873.317                         car purchase            5.059293   \n",
       "14     26420.466          buy residential real estate            5.054674   \n",
       "15     18691.345         construction of own property            2.664012   \n",
       "16     46272.433                             property            4.712149   \n",
       "17     14465.694                  building a property            6.493150   \n",
       "18      9091.804             buying a second-hand car           40.000000   \n",
       "19     38852.977                    buying my own car           27.503612   \n",
       "20     33528.423                             property            3.593436   \n",
       "\n",
       "   age_group  \n",
       "0      40-49  \n",
       "1      30-39  \n",
       "2      30-39  \n",
       "3      30-39  \n",
       "4      50-59  \n",
       "5      20-29  \n",
       "6      40-49  \n",
       "7      50-59  \n",
       "8      30-39  \n",
       "9      40-49  \n",
       "10     30-39  \n",
       "11     40-49  \n",
       "13     50-59  \n",
       "14     50-59  \n",
       "15     20-29  \n",
       "16     30-39  \n",
       "17     30-39  \n",
       "18     50-59  \n",
       "19     40-49  \n",
       "20     30-39  "
      ]
     },
     "execution_count": 65,
     "metadata": {},
     "output_type": "execute_result"
    }
   ],
   "source": [
    "credit_score_depurada_sin_ausentes.head(20)"
   ]
  },
  {
   "cell_type": "code",
   "execution_count": 66,
   "metadata": {},
   "outputs": [
    {
     "data": {
      "text/html": [
       "<div>\n",
       "<style scoped>\n",
       "    .dataframe tbody tr th:only-of-type {\n",
       "        vertical-align: middle;\n",
       "    }\n",
       "\n",
       "    .dataframe tbody tr th {\n",
       "        vertical-align: top;\n",
       "    }\n",
       "\n",
       "    .dataframe thead th {\n",
       "        text-align: right;\n",
       "    }\n",
       "</style>\n",
       "<table border=\"1\" class=\"dataframe\">\n",
       "  <thead>\n",
       "    <tr style=\"text-align: right;\">\n",
       "      <th>age_group</th>\n",
       "      <th>0-19</th>\n",
       "      <th>20-29</th>\n",
       "      <th>30-39</th>\n",
       "      <th>40-49</th>\n",
       "      <th>50-59</th>\n",
       "      <th>60-69</th>\n",
       "      <th>70+</th>\n",
       "    </tr>\n",
       "    <tr>\n",
       "      <th>income_type</th>\n",
       "      <th></th>\n",
       "      <th></th>\n",
       "      <th></th>\n",
       "      <th></th>\n",
       "      <th></th>\n",
       "      <th></th>\n",
       "      <th></th>\n",
       "    </tr>\n",
       "  </thead>\n",
       "  <tbody>\n",
       "    <tr>\n",
       "      <th>business</th>\n",
       "      <td>19197.3490</td>\n",
       "      <td>28763.775496</td>\n",
       "      <td>33145.949183</td>\n",
       "      <td>33989.836505</td>\n",
       "      <td>32385.032725</td>\n",
       "      <td>32494.918350</td>\n",
       "      <td>27766.307200</td>\n",
       "    </tr>\n",
       "    <tr>\n",
       "      <th>civil servant</th>\n",
       "      <td>12125.9860</td>\n",
       "      <td>25206.966324</td>\n",
       "      <td>27921.836553</td>\n",
       "      <td>28568.272491</td>\n",
       "      <td>25838.105730</td>\n",
       "      <td>29305.166039</td>\n",
       "      <td>32189.795667</td>\n",
       "    </tr>\n",
       "    <tr>\n",
       "      <th>employee</th>\n",
       "      <td>14882.7646</td>\n",
       "      <td>24125.462244</td>\n",
       "      <td>26191.716908</td>\n",
       "      <td>26193.926281</td>\n",
       "      <td>26073.759931</td>\n",
       "      <td>27307.606610</td>\n",
       "      <td>26672.382429</td>\n",
       "    </tr>\n",
       "    <tr>\n",
       "      <th>entrepreneur</th>\n",
       "      <td>NaN</td>\n",
       "      <td>79866.103000</td>\n",
       "      <td>NaN</td>\n",
       "      <td>NaN</td>\n",
       "      <td>NaN</td>\n",
       "      <td>NaN</td>\n",
       "      <td>NaN</td>\n",
       "    </tr>\n",
       "    <tr>\n",
       "      <th>paternity / maternity leave</th>\n",
       "      <td>NaN</td>\n",
       "      <td>NaN</td>\n",
       "      <td>8612.661000</td>\n",
       "      <td>NaN</td>\n",
       "      <td>NaN</td>\n",
       "      <td>NaN</td>\n",
       "      <td>NaN</td>\n",
       "    </tr>\n",
       "    <tr>\n",
       "      <th>retiree</th>\n",
       "      <td>NaN</td>\n",
       "      <td>14888.651857</td>\n",
       "      <td>23122.709862</td>\n",
       "      <td>27020.126339</td>\n",
       "      <td>22221.765833</td>\n",
       "      <td>21544.426743</td>\n",
       "      <td>18994.044264</td>\n",
       "    </tr>\n",
       "    <tr>\n",
       "      <th>student</th>\n",
       "      <td>NaN</td>\n",
       "      <td>15712.260000</td>\n",
       "      <td>NaN</td>\n",
       "      <td>NaN</td>\n",
       "      <td>NaN</td>\n",
       "      <td>NaN</td>\n",
       "      <td>NaN</td>\n",
       "    </tr>\n",
       "    <tr>\n",
       "      <th>unemployed</th>\n",
       "      <td>NaN</td>\n",
       "      <td>NaN</td>\n",
       "      <td>9593.119000</td>\n",
       "      <td>32435.602000</td>\n",
       "      <td>NaN</td>\n",
       "      <td>NaN</td>\n",
       "      <td>NaN</td>\n",
       "    </tr>\n",
       "  </tbody>\n",
       "</table>\n",
       "</div>"
      ],
      "text/plain": [
       "age_group                          0-19         20-29         30-39  \\\n",
       "income_type                                                           \n",
       "business                     19197.3490  28763.775496  33145.949183   \n",
       "civil servant                12125.9860  25206.966324  27921.836553   \n",
       "employee                     14882.7646  24125.462244  26191.716908   \n",
       "entrepreneur                        NaN  79866.103000           NaN   \n",
       "paternity / maternity leave         NaN           NaN   8612.661000   \n",
       "retiree                             NaN  14888.651857  23122.709862   \n",
       "student                             NaN  15712.260000           NaN   \n",
       "unemployed                          NaN           NaN   9593.119000   \n",
       "\n",
       "age_group                           40-49         50-59         60-69  \\\n",
       "income_type                                                             \n",
       "business                     33989.836505  32385.032725  32494.918350   \n",
       "civil servant                28568.272491  25838.105730  29305.166039   \n",
       "employee                     26193.926281  26073.759931  27307.606610   \n",
       "entrepreneur                          NaN           NaN           NaN   \n",
       "paternity / maternity leave           NaN           NaN           NaN   \n",
       "retiree                      27020.126339  22221.765833  21544.426743   \n",
       "student                               NaN           NaN           NaN   \n",
       "unemployed                   32435.602000           NaN           NaN   \n",
       "\n",
       "age_group                             70+  \n",
       "income_type                                \n",
       "business                     27766.307200  \n",
       "civil servant                32189.795667  \n",
       "employee                     26672.382429  \n",
       "entrepreneur                          NaN  \n",
       "paternity / maternity leave           NaN  \n",
       "retiree                      18994.044264  \n",
       "student                               NaN  \n",
       "unemployed                            NaN  "
      ]
     },
     "execution_count": 66,
     "metadata": {},
     "output_type": "execute_result"
    }
   ],
   "source": [
    "credit_score_depurada_sin_ausentes.pivot_table(index=\"income_type\", columns=\"age_group\", values=\"total_income\", aggfunc=\"mean\")"
   ]
  },
  {
   "cell_type": "code",
   "execution_count": 67,
   "metadata": {},
   "outputs": [
    {
     "data": {
      "text/html": [
       "<div>\n",
       "<style scoped>\n",
       "    .dataframe tbody tr th:only-of-type {\n",
       "        vertical-align: middle;\n",
       "    }\n",
       "\n",
       "    .dataframe tbody tr th {\n",
       "        vertical-align: top;\n",
       "    }\n",
       "\n",
       "    .dataframe thead th {\n",
       "        text-align: right;\n",
       "    }\n",
       "</style>\n",
       "<table border=\"1\" class=\"dataframe\">\n",
       "  <thead>\n",
       "    <tr style=\"text-align: right;\">\n",
       "      <th>age_group</th>\n",
       "      <th>0-19</th>\n",
       "      <th>20-29</th>\n",
       "      <th>30-39</th>\n",
       "      <th>40-49</th>\n",
       "      <th>50-59</th>\n",
       "      <th>60-69</th>\n",
       "      <th>70+</th>\n",
       "    </tr>\n",
       "    <tr>\n",
       "      <th>income_type</th>\n",
       "      <th></th>\n",
       "      <th></th>\n",
       "      <th></th>\n",
       "      <th></th>\n",
       "      <th></th>\n",
       "      <th></th>\n",
       "      <th></th>\n",
       "    </tr>\n",
       "  </thead>\n",
       "  <tbody>\n",
       "    <tr>\n",
       "      <th>business</th>\n",
       "      <td>19321.445</td>\n",
       "      <td>25615.5090</td>\n",
       "      <td>28765.5935</td>\n",
       "      <td>28698.4665</td>\n",
       "      <td>27299.6345</td>\n",
       "      <td>29171.9890</td>\n",
       "      <td>28138.895</td>\n",
       "    </tr>\n",
       "    <tr>\n",
       "      <th>civil servant</th>\n",
       "      <td>12125.986</td>\n",
       "      <td>23611.6970</td>\n",
       "      <td>24662.7440</td>\n",
       "      <td>24890.7590</td>\n",
       "      <td>23136.3020</td>\n",
       "      <td>23390.0570</td>\n",
       "      <td>24525.224</td>\n",
       "    </tr>\n",
       "    <tr>\n",
       "      <th>employee</th>\n",
       "      <td>14575.717</td>\n",
       "      <td>21588.7985</td>\n",
       "      <td>23218.8030</td>\n",
       "      <td>23108.1500</td>\n",
       "      <td>22547.8310</td>\n",
       "      <td>23316.9650</td>\n",
       "      <td>24660.901</td>\n",
       "    </tr>\n",
       "    <tr>\n",
       "      <th>entrepreneur</th>\n",
       "      <td>NaN</td>\n",
       "      <td>79866.1030</td>\n",
       "      <td>NaN</td>\n",
       "      <td>NaN</td>\n",
       "      <td>NaN</td>\n",
       "      <td>NaN</td>\n",
       "      <td>NaN</td>\n",
       "    </tr>\n",
       "    <tr>\n",
       "      <th>paternity / maternity leave</th>\n",
       "      <td>NaN</td>\n",
       "      <td>NaN</td>\n",
       "      <td>8612.6610</td>\n",
       "      <td>NaN</td>\n",
       "      <td>NaN</td>\n",
       "      <td>NaN</td>\n",
       "      <td>NaN</td>\n",
       "    </tr>\n",
       "    <tr>\n",
       "      <th>retiree</th>\n",
       "      <td>NaN</td>\n",
       "      <td>12807.0710</td>\n",
       "      <td>18735.7160</td>\n",
       "      <td>22498.7080</td>\n",
       "      <td>19526.8120</td>\n",
       "      <td>18446.1435</td>\n",
       "      <td>17650.466</td>\n",
       "    </tr>\n",
       "    <tr>\n",
       "      <th>student</th>\n",
       "      <td>NaN</td>\n",
       "      <td>15712.2600</td>\n",
       "      <td>NaN</td>\n",
       "      <td>NaN</td>\n",
       "      <td>NaN</td>\n",
       "      <td>NaN</td>\n",
       "      <td>NaN</td>\n",
       "    </tr>\n",
       "    <tr>\n",
       "      <th>unemployed</th>\n",
       "      <td>NaN</td>\n",
       "      <td>NaN</td>\n",
       "      <td>9593.1190</td>\n",
       "      <td>32435.6020</td>\n",
       "      <td>NaN</td>\n",
       "      <td>NaN</td>\n",
       "      <td>NaN</td>\n",
       "    </tr>\n",
       "  </tbody>\n",
       "</table>\n",
       "</div>"
      ],
      "text/plain": [
       "age_group                         0-19       20-29       30-39       40-49  \\\n",
       "income_type                                                                  \n",
       "business                     19321.445  25615.5090  28765.5935  28698.4665   \n",
       "civil servant                12125.986  23611.6970  24662.7440  24890.7590   \n",
       "employee                     14575.717  21588.7985  23218.8030  23108.1500   \n",
       "entrepreneur                       NaN  79866.1030         NaN         NaN   \n",
       "paternity / maternity leave        NaN         NaN   8612.6610         NaN   \n",
       "retiree                            NaN  12807.0710  18735.7160  22498.7080   \n",
       "student                            NaN  15712.2600         NaN         NaN   \n",
       "unemployed                         NaN         NaN   9593.1190  32435.6020   \n",
       "\n",
       "age_group                         50-59       60-69        70+  \n",
       "income_type                                                     \n",
       "business                     27299.6345  29171.9890  28138.895  \n",
       "civil servant                23136.3020  23390.0570  24525.224  \n",
       "employee                     22547.8310  23316.9650  24660.901  \n",
       "entrepreneur                        NaN         NaN        NaN  \n",
       "paternity / maternity leave         NaN         NaN        NaN  \n",
       "retiree                      19526.8120  18446.1435  17650.466  \n",
       "student                             NaN         NaN        NaN  \n",
       "unemployed                          NaN         NaN        NaN  "
      ]
     },
     "execution_count": 67,
     "metadata": {},
     "output_type": "execute_result"
    }
   ],
   "source": [
    "credit_score_depurada_sin_ausentes.pivot_table(index=\"income_type\", columns=\"age_group\", values=\"total_income\", aggfunc=\"median\")"
   ]
  },
  {
   "cell_type": "code",
   "execution_count": 68,
   "metadata": {},
   "outputs": [
    {
     "data": {
      "text/html": [
       "<div>\n",
       "<style scoped>\n",
       "    .dataframe tbody tr th:only-of-type {\n",
       "        vertical-align: middle;\n",
       "    }\n",
       "\n",
       "    .dataframe tbody tr th {\n",
       "        vertical-align: top;\n",
       "    }\n",
       "\n",
       "    .dataframe thead th {\n",
       "        text-align: right;\n",
       "    }\n",
       "</style>\n",
       "<table border=\"1\" class=\"dataframe\">\n",
       "  <thead>\n",
       "    <tr style=\"text-align: right;\">\n",
       "      <th></th>\n",
       "      <th>education</th>\n",
       "      <th>bachelor's degree</th>\n",
       "      <th>graduate degree</th>\n",
       "      <th>primary education</th>\n",
       "      <th>secondary education</th>\n",
       "      <th>some college</th>\n",
       "    </tr>\n",
       "    <tr>\n",
       "      <th>income_type</th>\n",
       "      <th>age_group</th>\n",
       "      <th></th>\n",
       "      <th></th>\n",
       "      <th></th>\n",
       "      <th></th>\n",
       "      <th></th>\n",
       "    </tr>\n",
       "  </thead>\n",
       "  <tbody>\n",
       "    <tr>\n",
       "      <th rowspan=\"7\" valign=\"top\">business</th>\n",
       "      <th>0-19</th>\n",
       "      <td>NaN</td>\n",
       "      <td>NaN</td>\n",
       "      <td>NaN</td>\n",
       "      <td>16236.915200</td>\n",
       "      <td>26598.433500</td>\n",
       "    </tr>\n",
       "    <tr>\n",
       "      <th>20-29</th>\n",
       "      <td>32256.239769</td>\n",
       "      <td>NaN</td>\n",
       "      <td>30460.981833</td>\n",
       "      <td>26116.903475</td>\n",
       "      <td>27814.692906</td>\n",
       "    </tr>\n",
       "    <tr>\n",
       "      <th>30-39</th>\n",
       "      <td>39169.886242</td>\n",
       "      <td>NaN</td>\n",
       "      <td>25068.715417</td>\n",
       "      <td>29227.042915</td>\n",
       "      <td>32208.165662</td>\n",
       "    </tr>\n",
       "    <tr>\n",
       "      <th>40-49</th>\n",
       "      <td>41258.836133</td>\n",
       "      <td>NaN</td>\n",
       "      <td>25941.415857</td>\n",
       "      <td>30081.753153</td>\n",
       "      <td>40047.354364</td>\n",
       "    </tr>\n",
       "    <tr>\n",
       "      <th>50-59</th>\n",
       "      <td>42774.930702</td>\n",
       "      <td>NaN</td>\n",
       "      <td>25171.059000</td>\n",
       "      <td>27988.362846</td>\n",
       "      <td>34081.208000</td>\n",
       "    </tr>\n",
       "    <tr>\n",
       "      <th>60-69</th>\n",
       "      <td>40074.643420</td>\n",
       "      <td>NaN</td>\n",
       "      <td>NaN</td>\n",
       "      <td>28280.215722</td>\n",
       "      <td>32607.246000</td>\n",
       "    </tr>\n",
       "    <tr>\n",
       "      <th>70+</th>\n",
       "      <td>35343.050000</td>\n",
       "      <td>NaN</td>\n",
       "      <td>NaN</td>\n",
       "      <td>24519.131714</td>\n",
       "      <td>NaN</td>\n",
       "    </tr>\n",
       "    <tr>\n",
       "      <th rowspan=\"7\" valign=\"top\">civil servant</th>\n",
       "      <th>0-19</th>\n",
       "      <td>NaN</td>\n",
       "      <td>NaN</td>\n",
       "      <td>NaN</td>\n",
       "      <td>NaN</td>\n",
       "      <td>12125.986000</td>\n",
       "    </tr>\n",
       "    <tr>\n",
       "      <th>20-29</th>\n",
       "      <td>27907.014075</td>\n",
       "      <td>NaN</td>\n",
       "      <td>30563.383000</td>\n",
       "      <td>22601.223783</td>\n",
       "      <td>21662.198364</td>\n",
       "    </tr>\n",
       "    <tr>\n",
       "      <th>30-39</th>\n",
       "      <td>32040.193301</td>\n",
       "      <td>17822.757</td>\n",
       "      <td>21150.696000</td>\n",
       "      <td>24654.951415</td>\n",
       "      <td>32407.862250</td>\n",
       "    </tr>\n",
       "    <tr>\n",
       "      <th>40-49</th>\n",
       "      <td>33570.712562</td>\n",
       "      <td>NaN</td>\n",
       "      <td>78410.774000</td>\n",
       "      <td>25707.484825</td>\n",
       "      <td>37458.604714</td>\n",
       "    </tr>\n",
       "    <tr>\n",
       "      <th>50-59</th>\n",
       "      <td>31480.677952</td>\n",
       "      <td>NaN</td>\n",
       "      <td>12709.275500</td>\n",
       "      <td>23842.806400</td>\n",
       "      <td>NaN</td>\n",
       "    </tr>\n",
       "    <tr>\n",
       "      <th>60-69</th>\n",
       "      <td>34764.346000</td>\n",
       "      <td>NaN</td>\n",
       "      <td>NaN</td>\n",
       "      <td>26063.777937</td>\n",
       "      <td>NaN</td>\n",
       "    </tr>\n",
       "    <tr>\n",
       "      <th>70+</th>\n",
       "      <td>57508.032000</td>\n",
       "      <td>NaN</td>\n",
       "      <td>NaN</td>\n",
       "      <td>19530.677500</td>\n",
       "      <td>NaN</td>\n",
       "    </tr>\n",
       "    <tr>\n",
       "      <th rowspan=\"7\" valign=\"top\">employee</th>\n",
       "      <th>0-19</th>\n",
       "      <td>NaN</td>\n",
       "      <td>NaN</td>\n",
       "      <td>NaN</td>\n",
       "      <td>15636.054000</td>\n",
       "      <td>13752.830500</td>\n",
       "    </tr>\n",
       "    <tr>\n",
       "      <th>20-29</th>\n",
       "      <td>27706.839102</td>\n",
       "      <td>NaN</td>\n",
       "      <td>26614.028556</td>\n",
       "      <td>22612.924227</td>\n",
       "      <td>23860.788568</td>\n",
       "    </tr>\n",
       "    <tr>\n",
       "      <th>30-39</th>\n",
       "      <td>30861.492968</td>\n",
       "      <td>18551.846</td>\n",
       "      <td>21459.375547</td>\n",
       "      <td>24560.505804</td>\n",
       "      <td>31785.952667</td>\n",
       "    </tr>\n",
       "    <tr>\n",
       "      <th>40-49</th>\n",
       "      <td>31636.845519</td>\n",
       "      <td>31771.321</td>\n",
       "      <td>22164.718342</td>\n",
       "      <td>24923.981937</td>\n",
       "      <td>28996.527846</td>\n",
       "    </tr>\n",
       "    <tr>\n",
       "      <th>50-59</th>\n",
       "      <td>33510.767240</td>\n",
       "      <td>42945.794</td>\n",
       "      <td>17335.627412</td>\n",
       "      <td>24669.231983</td>\n",
       "      <td>29061.579500</td>\n",
       "    </tr>\n",
       "    <tr>\n",
       "      <th>60-69</th>\n",
       "      <td>30894.509576</td>\n",
       "      <td>NaN</td>\n",
       "      <td>23789.296714</td>\n",
       "      <td>26038.057904</td>\n",
       "      <td>33851.476167</td>\n",
       "    </tr>\n",
       "    <tr>\n",
       "      <th>70+</th>\n",
       "      <td>NaN</td>\n",
       "      <td>NaN</td>\n",
       "      <td>NaN</td>\n",
       "      <td>26672.382429</td>\n",
       "      <td>NaN</td>\n",
       "    </tr>\n",
       "    <tr>\n",
       "      <th>entrepreneur</th>\n",
       "      <th>20-29</th>\n",
       "      <td>79866.103000</td>\n",
       "      <td>NaN</td>\n",
       "      <td>NaN</td>\n",
       "      <td>NaN</td>\n",
       "      <td>NaN</td>\n",
       "    </tr>\n",
       "    <tr>\n",
       "      <th>paternity / maternity leave</th>\n",
       "      <th>30-39</th>\n",
       "      <td>NaN</td>\n",
       "      <td>NaN</td>\n",
       "      <td>NaN</td>\n",
       "      <td>8612.661000</td>\n",
       "      <td>NaN</td>\n",
       "    </tr>\n",
       "    <tr>\n",
       "      <th rowspan=\"6\" valign=\"top\">retiree</th>\n",
       "      <th>20-29</th>\n",
       "      <td>34394.128000</td>\n",
       "      <td>NaN</td>\n",
       "      <td>NaN</td>\n",
       "      <td>11637.739167</td>\n",
       "      <td>NaN</td>\n",
       "    </tr>\n",
       "    <tr>\n",
       "      <th>30-39</th>\n",
       "      <td>35371.215800</td>\n",
       "      <td>NaN</td>\n",
       "      <td>14138.866000</td>\n",
       "      <td>20850.593087</td>\n",
       "      <td>NaN</td>\n",
       "    </tr>\n",
       "    <tr>\n",
       "      <th>40-49</th>\n",
       "      <td>39936.767038</td>\n",
       "      <td>NaN</td>\n",
       "      <td>15708.433000</td>\n",
       "      <td>24180.488927</td>\n",
       "      <td>13485.433000</td>\n",
       "    </tr>\n",
       "    <tr>\n",
       "      <th>50-59</th>\n",
       "      <td>25596.714311</td>\n",
       "      <td>NaN</td>\n",
       "      <td>17414.988200</td>\n",
       "      <td>21745.203936</td>\n",
       "      <td>19487.096600</td>\n",
       "    </tr>\n",
       "    <tr>\n",
       "      <th>60-69</th>\n",
       "      <td>27761.318160</td>\n",
       "      <td>28334.215</td>\n",
       "      <td>18039.820679</td>\n",
       "      <td>20482.478461</td>\n",
       "      <td>28573.649214</td>\n",
       "    </tr>\n",
       "    <tr>\n",
       "      <th>70+</th>\n",
       "      <td>23075.968316</td>\n",
       "      <td>NaN</td>\n",
       "      <td>18892.886000</td>\n",
       "      <td>18438.906559</td>\n",
       "      <td>13917.989667</td>\n",
       "    </tr>\n",
       "    <tr>\n",
       "      <th>student</th>\n",
       "      <th>20-29</th>\n",
       "      <td>15712.260000</td>\n",
       "      <td>NaN</td>\n",
       "      <td>NaN</td>\n",
       "      <td>NaN</td>\n",
       "      <td>NaN</td>\n",
       "    </tr>\n",
       "    <tr>\n",
       "      <th rowspan=\"2\" valign=\"top\">unemployed</th>\n",
       "      <th>30-39</th>\n",
       "      <td>NaN</td>\n",
       "      <td>NaN</td>\n",
       "      <td>NaN</td>\n",
       "      <td>9593.119000</td>\n",
       "      <td>NaN</td>\n",
       "    </tr>\n",
       "    <tr>\n",
       "      <th>40-49</th>\n",
       "      <td>32435.602000</td>\n",
       "      <td>NaN</td>\n",
       "      <td>NaN</td>\n",
       "      <td>NaN</td>\n",
       "      <td>NaN</td>\n",
       "    </tr>\n",
       "  </tbody>\n",
       "</table>\n",
       "</div>"
      ],
      "text/plain": [
       "education                              bachelor's degree  graduate degree  \\\n",
       "income_type                 age_group                                       \n",
       "business                    0-19                     NaN              NaN   \n",
       "                            20-29           32256.239769              NaN   \n",
       "                            30-39           39169.886242              NaN   \n",
       "                            40-49           41258.836133              NaN   \n",
       "                            50-59           42774.930702              NaN   \n",
       "                            60-69           40074.643420              NaN   \n",
       "                            70+             35343.050000              NaN   \n",
       "civil servant               0-19                     NaN              NaN   \n",
       "                            20-29           27907.014075              NaN   \n",
       "                            30-39           32040.193301        17822.757   \n",
       "                            40-49           33570.712562              NaN   \n",
       "                            50-59           31480.677952              NaN   \n",
       "                            60-69           34764.346000              NaN   \n",
       "                            70+             57508.032000              NaN   \n",
       "employee                    0-19                     NaN              NaN   \n",
       "                            20-29           27706.839102              NaN   \n",
       "                            30-39           30861.492968        18551.846   \n",
       "                            40-49           31636.845519        31771.321   \n",
       "                            50-59           33510.767240        42945.794   \n",
       "                            60-69           30894.509576              NaN   \n",
       "                            70+                      NaN              NaN   \n",
       "entrepreneur                20-29           79866.103000              NaN   \n",
       "paternity / maternity leave 30-39                    NaN              NaN   \n",
       "retiree                     20-29           34394.128000              NaN   \n",
       "                            30-39           35371.215800              NaN   \n",
       "                            40-49           39936.767038              NaN   \n",
       "                            50-59           25596.714311              NaN   \n",
       "                            60-69           27761.318160        28334.215   \n",
       "                            70+             23075.968316              NaN   \n",
       "student                     20-29           15712.260000              NaN   \n",
       "unemployed                  30-39                    NaN              NaN   \n",
       "                            40-49           32435.602000              NaN   \n",
       "\n",
       "education                              primary education  secondary education  \\\n",
       "income_type                 age_group                                           \n",
       "business                    0-19                     NaN         16236.915200   \n",
       "                            20-29           30460.981833         26116.903475   \n",
       "                            30-39           25068.715417         29227.042915   \n",
       "                            40-49           25941.415857         30081.753153   \n",
       "                            50-59           25171.059000         27988.362846   \n",
       "                            60-69                    NaN         28280.215722   \n",
       "                            70+                      NaN         24519.131714   \n",
       "civil servant               0-19                     NaN                  NaN   \n",
       "                            20-29           30563.383000         22601.223783   \n",
       "                            30-39           21150.696000         24654.951415   \n",
       "                            40-49           78410.774000         25707.484825   \n",
       "                            50-59           12709.275500         23842.806400   \n",
       "                            60-69                    NaN         26063.777937   \n",
       "                            70+                      NaN         19530.677500   \n",
       "employee                    0-19                     NaN         15636.054000   \n",
       "                            20-29           26614.028556         22612.924227   \n",
       "                            30-39           21459.375547         24560.505804   \n",
       "                            40-49           22164.718342         24923.981937   \n",
       "                            50-59           17335.627412         24669.231983   \n",
       "                            60-69           23789.296714         26038.057904   \n",
       "                            70+                      NaN         26672.382429   \n",
       "entrepreneur                20-29                    NaN                  NaN   \n",
       "paternity / maternity leave 30-39                    NaN          8612.661000   \n",
       "retiree                     20-29                    NaN         11637.739167   \n",
       "                            30-39           14138.866000         20850.593087   \n",
       "                            40-49           15708.433000         24180.488927   \n",
       "                            50-59           17414.988200         21745.203936   \n",
       "                            60-69           18039.820679         20482.478461   \n",
       "                            70+             18892.886000         18438.906559   \n",
       "student                     20-29                    NaN                  NaN   \n",
       "unemployed                  30-39                    NaN          9593.119000   \n",
       "                            40-49                    NaN                  NaN   \n",
       "\n",
       "education                              some college  \n",
       "income_type                 age_group                \n",
       "business                    0-19       26598.433500  \n",
       "                            20-29      27814.692906  \n",
       "                            30-39      32208.165662  \n",
       "                            40-49      40047.354364  \n",
       "                            50-59      34081.208000  \n",
       "                            60-69      32607.246000  \n",
       "                            70+                 NaN  \n",
       "civil servant               0-19       12125.986000  \n",
       "                            20-29      21662.198364  \n",
       "                            30-39      32407.862250  \n",
       "                            40-49      37458.604714  \n",
       "                            50-59               NaN  \n",
       "                            60-69               NaN  \n",
       "                            70+                 NaN  \n",
       "employee                    0-19       13752.830500  \n",
       "                            20-29      23860.788568  \n",
       "                            30-39      31785.952667  \n",
       "                            40-49      28996.527846  \n",
       "                            50-59      29061.579500  \n",
       "                            60-69      33851.476167  \n",
       "                            70+                 NaN  \n",
       "entrepreneur                20-29               NaN  \n",
       "paternity / maternity leave 30-39               NaN  \n",
       "retiree                     20-29               NaN  \n",
       "                            30-39               NaN  \n",
       "                            40-49      13485.433000  \n",
       "                            50-59      19487.096600  \n",
       "                            60-69      28573.649214  \n",
       "                            70+        13917.989667  \n",
       "student                     20-29               NaN  \n",
       "unemployed                  30-39               NaN  \n",
       "                            40-49               NaN  "
      ]
     },
     "execution_count": 68,
     "metadata": {},
     "output_type": "execute_result"
    }
   ],
   "source": [
    "# Examina los valores medios de los ingresos en función de \"income_type\"\n",
    "credit_score_depurada_mean = credit_score_depurada_sin_ausentes.pivot_table(index=[\"income_type\", \"age_group\"], columns=\"education\", values=\"total_income\", aggfunc=\"mean\")\n",
    "credit_score_depurada_mean"
   ]
  },
  {
   "cell_type": "code",
   "execution_count": 69,
   "metadata": {
    "scrolled": true
   },
   "outputs": [
    {
     "data": {
      "text/html": [
       "<div>\n",
       "<style scoped>\n",
       "    .dataframe tbody tr th:only-of-type {\n",
       "        vertical-align: middle;\n",
       "    }\n",
       "\n",
       "    .dataframe tbody tr th {\n",
       "        vertical-align: top;\n",
       "    }\n",
       "\n",
       "    .dataframe thead th {\n",
       "        text-align: right;\n",
       "    }\n",
       "</style>\n",
       "<table border=\"1\" class=\"dataframe\">\n",
       "  <thead>\n",
       "    <tr style=\"text-align: right;\">\n",
       "      <th></th>\n",
       "      <th>education</th>\n",
       "      <th>bachelor's degree</th>\n",
       "      <th>graduate degree</th>\n",
       "      <th>primary education</th>\n",
       "      <th>secondary education</th>\n",
       "      <th>some college</th>\n",
       "    </tr>\n",
       "    <tr>\n",
       "      <th>income_type</th>\n",
       "      <th>age_group</th>\n",
       "      <th></th>\n",
       "      <th></th>\n",
       "      <th></th>\n",
       "      <th></th>\n",
       "      <th></th>\n",
       "    </tr>\n",
       "  </thead>\n",
       "  <tbody>\n",
       "    <tr>\n",
       "      <th rowspan=\"7\" valign=\"top\">business</th>\n",
       "      <th>0-19</th>\n",
       "      <td>NaN</td>\n",
       "      <td>NaN</td>\n",
       "      <td>NaN</td>\n",
       "      <td>16588.2370</td>\n",
       "      <td>26598.4335</td>\n",
       "    </tr>\n",
       "    <tr>\n",
       "      <th>20-29</th>\n",
       "      <td>28250.2840</td>\n",
       "      <td>NaN</td>\n",
       "      <td>24210.1960</td>\n",
       "      <td>23884.9040</td>\n",
       "      <td>25315.8330</td>\n",
       "    </tr>\n",
       "    <tr>\n",
       "      <th>30-39</th>\n",
       "      <td>32574.9760</td>\n",
       "      <td>NaN</td>\n",
       "      <td>20030.2260</td>\n",
       "      <td>26268.0480</td>\n",
       "      <td>29814.5275</td>\n",
       "    </tr>\n",
       "    <tr>\n",
       "      <th>40-49</th>\n",
       "      <td>34592.0450</td>\n",
       "      <td>NaN</td>\n",
       "      <td>27929.0980</td>\n",
       "      <td>26115.6660</td>\n",
       "      <td>35282.0940</td>\n",
       "    </tr>\n",
       "    <tr>\n",
       "      <th>50-59</th>\n",
       "      <td>35379.3990</td>\n",
       "      <td>NaN</td>\n",
       "      <td>23066.1310</td>\n",
       "      <td>24461.0155</td>\n",
       "      <td>33073.7630</td>\n",
       "    </tr>\n",
       "    <tr>\n",
       "      <th>60-69</th>\n",
       "      <td>30849.5425</td>\n",
       "      <td>NaN</td>\n",
       "      <td>NaN</td>\n",
       "      <td>27142.1265</td>\n",
       "      <td>37146.5350</td>\n",
       "    </tr>\n",
       "    <tr>\n",
       "      <th>70+</th>\n",
       "      <td>36808.9680</td>\n",
       "      <td>NaN</td>\n",
       "      <td>NaN</td>\n",
       "      <td>24259.6870</td>\n",
       "      <td>NaN</td>\n",
       "    </tr>\n",
       "    <tr>\n",
       "      <th rowspan=\"7\" valign=\"top\">civil servant</th>\n",
       "      <th>0-19</th>\n",
       "      <td>NaN</td>\n",
       "      <td>NaN</td>\n",
       "      <td>NaN</td>\n",
       "      <td>NaN</td>\n",
       "      <td>12125.9860</td>\n",
       "    </tr>\n",
       "    <tr>\n",
       "      <th>20-29</th>\n",
       "      <td>24617.5440</td>\n",
       "      <td>NaN</td>\n",
       "      <td>30563.3830</td>\n",
       "      <td>21361.7300</td>\n",
       "      <td>21640.4795</td>\n",
       "    </tr>\n",
       "    <tr>\n",
       "      <th>30-39</th>\n",
       "      <td>27956.2445</td>\n",
       "      <td>17822.757</td>\n",
       "      <td>21150.6960</td>\n",
       "      <td>20870.9730</td>\n",
       "      <td>30672.7180</td>\n",
       "    </tr>\n",
       "    <tr>\n",
       "      <th>40-49</th>\n",
       "      <td>28425.4810</td>\n",
       "      <td>NaN</td>\n",
       "      <td>78410.7740</td>\n",
       "      <td>22552.4920</td>\n",
       "      <td>26587.6740</td>\n",
       "    </tr>\n",
       "    <tr>\n",
       "      <th>50-59</th>\n",
       "      <td>28366.5680</td>\n",
       "      <td>NaN</td>\n",
       "      <td>12709.2755</td>\n",
       "      <td>21417.6660</td>\n",
       "      <td>NaN</td>\n",
       "    </tr>\n",
       "    <tr>\n",
       "      <th>60-69</th>\n",
       "      <td>27117.8410</td>\n",
       "      <td>NaN</td>\n",
       "      <td>NaN</td>\n",
       "      <td>22756.9360</td>\n",
       "      <td>NaN</td>\n",
       "    </tr>\n",
       "    <tr>\n",
       "      <th>70+</th>\n",
       "      <td>57508.0320</td>\n",
       "      <td>NaN</td>\n",
       "      <td>NaN</td>\n",
       "      <td>19530.6775</td>\n",
       "      <td>NaN</td>\n",
       "    </tr>\n",
       "    <tr>\n",
       "      <th rowspan=\"7\" valign=\"top\">employee</th>\n",
       "      <th>0-19</th>\n",
       "      <td>NaN</td>\n",
       "      <td>NaN</td>\n",
       "      <td>NaN</td>\n",
       "      <td>14934.9010</td>\n",
       "      <td>13752.8305</td>\n",
       "    </tr>\n",
       "    <tr>\n",
       "      <th>20-29</th>\n",
       "      <td>24030.5850</td>\n",
       "      <td>NaN</td>\n",
       "      <td>24583.5965</td>\n",
       "      <td>20192.6190</td>\n",
       "      <td>21907.8130</td>\n",
       "    </tr>\n",
       "    <tr>\n",
       "      <th>30-39</th>\n",
       "      <td>26722.5325</td>\n",
       "      <td>18551.846</td>\n",
       "      <td>19546.3410</td>\n",
       "      <td>22088.2215</td>\n",
       "      <td>26913.8230</td>\n",
       "    </tr>\n",
       "    <tr>\n",
       "      <th>40-49</th>\n",
       "      <td>27427.6640</td>\n",
       "      <td>31771.321</td>\n",
       "      <td>21132.3895</td>\n",
       "      <td>22217.0090</td>\n",
       "      <td>26846.2815</td>\n",
       "    </tr>\n",
       "    <tr>\n",
       "      <th>50-59</th>\n",
       "      <td>27503.5590</td>\n",
       "      <td>42945.794</td>\n",
       "      <td>14599.2580</td>\n",
       "      <td>21831.2455</td>\n",
       "      <td>22644.3135</td>\n",
       "    </tr>\n",
       "    <tr>\n",
       "      <th>60-69</th>\n",
       "      <td>27969.0405</td>\n",
       "      <td>NaN</td>\n",
       "      <td>26188.2420</td>\n",
       "      <td>21311.4815</td>\n",
       "      <td>32844.1030</td>\n",
       "    </tr>\n",
       "    <tr>\n",
       "      <th>70+</th>\n",
       "      <td>NaN</td>\n",
       "      <td>NaN</td>\n",
       "      <td>NaN</td>\n",
       "      <td>24660.9010</td>\n",
       "      <td>NaN</td>\n",
       "    </tr>\n",
       "    <tr>\n",
       "      <th>entrepreneur</th>\n",
       "      <th>20-29</th>\n",
       "      <td>79866.1030</td>\n",
       "      <td>NaN</td>\n",
       "      <td>NaN</td>\n",
       "      <td>NaN</td>\n",
       "      <td>NaN</td>\n",
       "    </tr>\n",
       "    <tr>\n",
       "      <th>paternity / maternity leave</th>\n",
       "      <th>30-39</th>\n",
       "      <td>NaN</td>\n",
       "      <td>NaN</td>\n",
       "      <td>NaN</td>\n",
       "      <td>8612.6610</td>\n",
       "      <td>NaN</td>\n",
       "    </tr>\n",
       "    <tr>\n",
       "      <th rowspan=\"6\" valign=\"top\">retiree</th>\n",
       "      <th>20-29</th>\n",
       "      <td>34394.1280</td>\n",
       "      <td>NaN</td>\n",
       "      <td>NaN</td>\n",
       "      <td>11619.3835</td>\n",
       "      <td>NaN</td>\n",
       "    </tr>\n",
       "    <tr>\n",
       "      <th>30-39</th>\n",
       "      <td>30117.8830</td>\n",
       "      <td>NaN</td>\n",
       "      <td>14138.8660</td>\n",
       "      <td>18495.7740</td>\n",
       "      <td>NaN</td>\n",
       "    </tr>\n",
       "    <tr>\n",
       "      <th>40-49</th>\n",
       "      <td>31828.7485</td>\n",
       "      <td>NaN</td>\n",
       "      <td>15708.4330</td>\n",
       "      <td>22263.9860</td>\n",
       "      <td>8199.5900</td>\n",
       "    </tr>\n",
       "    <tr>\n",
       "      <th>50-59</th>\n",
       "      <td>22805.7985</td>\n",
       "      <td>NaN</td>\n",
       "      <td>17104.9250</td>\n",
       "      <td>18834.8165</td>\n",
       "      <td>17973.6230</td>\n",
       "    </tr>\n",
       "    <tr>\n",
       "      <th>60-69</th>\n",
       "      <td>23918.5100</td>\n",
       "      <td>28334.215</td>\n",
       "      <td>16415.7850</td>\n",
       "      <td>17943.5555</td>\n",
       "      <td>25908.0145</td>\n",
       "    </tr>\n",
       "    <tr>\n",
       "      <th>70+</th>\n",
       "      <td>22009.3150</td>\n",
       "      <td>NaN</td>\n",
       "      <td>15013.5050</td>\n",
       "      <td>17543.2480</td>\n",
       "      <td>14479.1930</td>\n",
       "    </tr>\n",
       "    <tr>\n",
       "      <th>student</th>\n",
       "      <th>20-29</th>\n",
       "      <td>15712.2600</td>\n",
       "      <td>NaN</td>\n",
       "      <td>NaN</td>\n",
       "      <td>NaN</td>\n",
       "      <td>NaN</td>\n",
       "    </tr>\n",
       "    <tr>\n",
       "      <th rowspan=\"2\" valign=\"top\">unemployed</th>\n",
       "      <th>30-39</th>\n",
       "      <td>NaN</td>\n",
       "      <td>NaN</td>\n",
       "      <td>NaN</td>\n",
       "      <td>9593.1190</td>\n",
       "      <td>NaN</td>\n",
       "    </tr>\n",
       "    <tr>\n",
       "      <th>40-49</th>\n",
       "      <td>32435.6020</td>\n",
       "      <td>NaN</td>\n",
       "      <td>NaN</td>\n",
       "      <td>NaN</td>\n",
       "      <td>NaN</td>\n",
       "    </tr>\n",
       "  </tbody>\n",
       "</table>\n",
       "</div>"
      ],
      "text/plain": [
       "education                              bachelor's degree  graduate degree  \\\n",
       "income_type                 age_group                                       \n",
       "business                    0-19                     NaN              NaN   \n",
       "                            20-29             28250.2840              NaN   \n",
       "                            30-39             32574.9760              NaN   \n",
       "                            40-49             34592.0450              NaN   \n",
       "                            50-59             35379.3990              NaN   \n",
       "                            60-69             30849.5425              NaN   \n",
       "                            70+               36808.9680              NaN   \n",
       "civil servant               0-19                     NaN              NaN   \n",
       "                            20-29             24617.5440              NaN   \n",
       "                            30-39             27956.2445        17822.757   \n",
       "                            40-49             28425.4810              NaN   \n",
       "                            50-59             28366.5680              NaN   \n",
       "                            60-69             27117.8410              NaN   \n",
       "                            70+               57508.0320              NaN   \n",
       "employee                    0-19                     NaN              NaN   \n",
       "                            20-29             24030.5850              NaN   \n",
       "                            30-39             26722.5325        18551.846   \n",
       "                            40-49             27427.6640        31771.321   \n",
       "                            50-59             27503.5590        42945.794   \n",
       "                            60-69             27969.0405              NaN   \n",
       "                            70+                      NaN              NaN   \n",
       "entrepreneur                20-29             79866.1030              NaN   \n",
       "paternity / maternity leave 30-39                    NaN              NaN   \n",
       "retiree                     20-29             34394.1280              NaN   \n",
       "                            30-39             30117.8830              NaN   \n",
       "                            40-49             31828.7485              NaN   \n",
       "                            50-59             22805.7985              NaN   \n",
       "                            60-69             23918.5100        28334.215   \n",
       "                            70+               22009.3150              NaN   \n",
       "student                     20-29             15712.2600              NaN   \n",
       "unemployed                  30-39                    NaN              NaN   \n",
       "                            40-49             32435.6020              NaN   \n",
       "\n",
       "education                              primary education  secondary education  \\\n",
       "income_type                 age_group                                           \n",
       "business                    0-19                     NaN           16588.2370   \n",
       "                            20-29             24210.1960           23884.9040   \n",
       "                            30-39             20030.2260           26268.0480   \n",
       "                            40-49             27929.0980           26115.6660   \n",
       "                            50-59             23066.1310           24461.0155   \n",
       "                            60-69                    NaN           27142.1265   \n",
       "                            70+                      NaN           24259.6870   \n",
       "civil servant               0-19                     NaN                  NaN   \n",
       "                            20-29             30563.3830           21361.7300   \n",
       "                            30-39             21150.6960           20870.9730   \n",
       "                            40-49             78410.7740           22552.4920   \n",
       "                            50-59             12709.2755           21417.6660   \n",
       "                            60-69                    NaN           22756.9360   \n",
       "                            70+                      NaN           19530.6775   \n",
       "employee                    0-19                     NaN           14934.9010   \n",
       "                            20-29             24583.5965           20192.6190   \n",
       "                            30-39             19546.3410           22088.2215   \n",
       "                            40-49             21132.3895           22217.0090   \n",
       "                            50-59             14599.2580           21831.2455   \n",
       "                            60-69             26188.2420           21311.4815   \n",
       "                            70+                      NaN           24660.9010   \n",
       "entrepreneur                20-29                    NaN                  NaN   \n",
       "paternity / maternity leave 30-39                    NaN            8612.6610   \n",
       "retiree                     20-29                    NaN           11619.3835   \n",
       "                            30-39             14138.8660           18495.7740   \n",
       "                            40-49             15708.4330           22263.9860   \n",
       "                            50-59             17104.9250           18834.8165   \n",
       "                            60-69             16415.7850           17943.5555   \n",
       "                            70+               15013.5050           17543.2480   \n",
       "student                     20-29                    NaN                  NaN   \n",
       "unemployed                  30-39                    NaN            9593.1190   \n",
       "                            40-49                    NaN                  NaN   \n",
       "\n",
       "education                              some college  \n",
       "income_type                 age_group                \n",
       "business                    0-19         26598.4335  \n",
       "                            20-29        25315.8330  \n",
       "                            30-39        29814.5275  \n",
       "                            40-49        35282.0940  \n",
       "                            50-59        33073.7630  \n",
       "                            60-69        37146.5350  \n",
       "                            70+                 NaN  \n",
       "civil servant               0-19         12125.9860  \n",
       "                            20-29        21640.4795  \n",
       "                            30-39        30672.7180  \n",
       "                            40-49        26587.6740  \n",
       "                            50-59               NaN  \n",
       "                            60-69               NaN  \n",
       "                            70+                 NaN  \n",
       "employee                    0-19         13752.8305  \n",
       "                            20-29        21907.8130  \n",
       "                            30-39        26913.8230  \n",
       "                            40-49        26846.2815  \n",
       "                            50-59        22644.3135  \n",
       "                            60-69        32844.1030  \n",
       "                            70+                 NaN  \n",
       "entrepreneur                20-29               NaN  \n",
       "paternity / maternity leave 30-39               NaN  \n",
       "retiree                     20-29               NaN  \n",
       "                            30-39               NaN  \n",
       "                            40-49         8199.5900  \n",
       "                            50-59        17973.6230  \n",
       "                            60-69        25908.0145  \n",
       "                            70+          14479.1930  \n",
       "student                     20-29               NaN  \n",
       "unemployed                  30-39               NaN  \n",
       "                            40-49               NaN  "
      ]
     },
     "execution_count": 69,
     "metadata": {},
     "output_type": "execute_result"
    }
   ],
   "source": [
    "# Examina los valores medianos de los ingresos en función de los factores que identificaste\n",
    "credit_score_depurada_median = credit_score_depurada_sin_ausentes.pivot_table(index=[\"income_type\", \"age_group\"], columns=\"education\", values=\"total_income\", aggfunc=\"median\")\n",
    "credit_score_depurada_median"
   ]
  },
  {
   "cell_type": "code",
   "execution_count": 70,
   "metadata": {},
   "outputs": [
    {
     "data": {
      "text/html": [
       "<div>\n",
       "<style scoped>\n",
       "    .dataframe tbody tr th:only-of-type {\n",
       "        vertical-align: middle;\n",
       "    }\n",
       "\n",
       "    .dataframe tbody tr th {\n",
       "        vertical-align: top;\n",
       "    }\n",
       "\n",
       "    .dataframe thead th {\n",
       "        text-align: right;\n",
       "    }\n",
       "</style>\n",
       "<table border=\"1\" class=\"dataframe\">\n",
       "  <thead>\n",
       "    <tr style=\"text-align: right;\">\n",
       "      <th></th>\n",
       "      <th>education</th>\n",
       "      <th>bachelor's degree</th>\n",
       "      <th>graduate degree</th>\n",
       "      <th>primary education</th>\n",
       "      <th>secondary education</th>\n",
       "      <th>some college</th>\n",
       "    </tr>\n",
       "    <tr>\n",
       "      <th>income_type</th>\n",
       "      <th>age_group</th>\n",
       "      <th></th>\n",
       "      <th></th>\n",
       "      <th></th>\n",
       "      <th></th>\n",
       "      <th></th>\n",
       "    </tr>\n",
       "  </thead>\n",
       "  <tbody>\n",
       "    <tr>\n",
       "      <th rowspan=\"7\" valign=\"top\">business</th>\n",
       "      <th>0-19</th>\n",
       "      <td>NaN</td>\n",
       "      <td>NaN</td>\n",
       "      <td>NaN</td>\n",
       "      <td>0.978821</td>\n",
       "      <td>1.000000</td>\n",
       "    </tr>\n",
       "    <tr>\n",
       "      <th>20-29</th>\n",
       "      <td>1.141802</td>\n",
       "      <td>NaN</td>\n",
       "      <td>1.258188</td>\n",
       "      <td>1.093448</td>\n",
       "      <td>1.098707</td>\n",
       "    </tr>\n",
       "    <tr>\n",
       "      <th>30-39</th>\n",
       "      <td>1.202453</td>\n",
       "      <td>NaN</td>\n",
       "      <td>1.251544</td>\n",
       "      <td>1.112646</td>\n",
       "      <td>1.080284</td>\n",
       "    </tr>\n",
       "    <tr>\n",
       "      <th>40-49</th>\n",
       "      <td>1.192726</td>\n",
       "      <td>NaN</td>\n",
       "      <td>0.928831</td>\n",
       "      <td>1.151866</td>\n",
       "      <td>1.135062</td>\n",
       "    </tr>\n",
       "    <tr>\n",
       "      <th>50-59</th>\n",
       "      <td>1.209035</td>\n",
       "      <td>NaN</td>\n",
       "      <td>1.091256</td>\n",
       "      <td>1.144203</td>\n",
       "      <td>1.030461</td>\n",
       "    </tr>\n",
       "    <tr>\n",
       "      <th>60-69</th>\n",
       "      <td>1.299035</td>\n",
       "      <td>NaN</td>\n",
       "      <td>NaN</td>\n",
       "      <td>1.041931</td>\n",
       "      <td>0.877800</td>\n",
       "    </tr>\n",
       "    <tr>\n",
       "      <th>70+</th>\n",
       "      <td>0.960175</td>\n",
       "      <td>NaN</td>\n",
       "      <td>NaN</td>\n",
       "      <td>1.010694</td>\n",
       "      <td>NaN</td>\n",
       "    </tr>\n",
       "    <tr>\n",
       "      <th rowspan=\"7\" valign=\"top\">civil servant</th>\n",
       "      <th>0-19</th>\n",
       "      <td>NaN</td>\n",
       "      <td>NaN</td>\n",
       "      <td>NaN</td>\n",
       "      <td>NaN</td>\n",
       "      <td>1.000000</td>\n",
       "    </tr>\n",
       "    <tr>\n",
       "      <th>20-29</th>\n",
       "      <td>1.133623</td>\n",
       "      <td>NaN</td>\n",
       "      <td>1.000000</td>\n",
       "      <td>1.058024</td>\n",
       "      <td>1.001004</td>\n",
       "    </tr>\n",
       "    <tr>\n",
       "      <th>30-39</th>\n",
       "      <td>1.146084</td>\n",
       "      <td>1.0</td>\n",
       "      <td>1.000000</td>\n",
       "      <td>1.181303</td>\n",
       "      <td>1.056570</td>\n",
       "    </tr>\n",
       "    <tr>\n",
       "      <th>40-49</th>\n",
       "      <td>1.181008</td>\n",
       "      <td>NaN</td>\n",
       "      <td>1.000000</td>\n",
       "      <td>1.139896</td>\n",
       "      <td>1.408871</td>\n",
       "    </tr>\n",
       "    <tr>\n",
       "      <th>50-59</th>\n",
       "      <td>1.109781</td>\n",
       "      <td>NaN</td>\n",
       "      <td>1.000000</td>\n",
       "      <td>1.113231</td>\n",
       "      <td>NaN</td>\n",
       "    </tr>\n",
       "    <tr>\n",
       "      <th>60-69</th>\n",
       "      <td>1.281973</td>\n",
       "      <td>NaN</td>\n",
       "      <td>NaN</td>\n",
       "      <td>1.145311</td>\n",
       "      <td>NaN</td>\n",
       "    </tr>\n",
       "    <tr>\n",
       "      <th>70+</th>\n",
       "      <td>1.000000</td>\n",
       "      <td>NaN</td>\n",
       "      <td>NaN</td>\n",
       "      <td>1.000000</td>\n",
       "      <td>NaN</td>\n",
       "    </tr>\n",
       "    <tr>\n",
       "      <th rowspan=\"7\" valign=\"top\">employee</th>\n",
       "      <th>0-19</th>\n",
       "      <td>NaN</td>\n",
       "      <td>NaN</td>\n",
       "      <td>NaN</td>\n",
       "      <td>1.046947</td>\n",
       "      <td>1.000000</td>\n",
       "    </tr>\n",
       "    <tr>\n",
       "      <th>20-29</th>\n",
       "      <td>1.152982</td>\n",
       "      <td>NaN</td>\n",
       "      <td>1.082593</td>\n",
       "      <td>1.119861</td>\n",
       "      <td>1.089145</td>\n",
       "    </tr>\n",
       "    <tr>\n",
       "      <th>30-39</th>\n",
       "      <td>1.154887</td>\n",
       "      <td>1.0</td>\n",
       "      <td>1.097872</td>\n",
       "      <td>1.111928</td>\n",
       "      <td>1.181027</td>\n",
       "    </tr>\n",
       "    <tr>\n",
       "      <th>40-49</th>\n",
       "      <td>1.153465</td>\n",
       "      <td>1.0</td>\n",
       "      <td>1.048851</td>\n",
       "      <td>1.121842</td>\n",
       "      <td>1.080095</td>\n",
       "    </tr>\n",
       "    <tr>\n",
       "      <th>50-59</th>\n",
       "      <td>1.218416</td>\n",
       "      <td>1.0</td>\n",
       "      <td>1.187432</td>\n",
       "      <td>1.129997</td>\n",
       "      <td>1.283394</td>\n",
       "    </tr>\n",
       "    <tr>\n",
       "      <th>60-69</th>\n",
       "      <td>1.104597</td>\n",
       "      <td>NaN</td>\n",
       "      <td>0.908396</td>\n",
       "      <td>1.221785</td>\n",
       "      <td>1.030671</td>\n",
       "    </tr>\n",
       "    <tr>\n",
       "      <th>70+</th>\n",
       "      <td>NaN</td>\n",
       "      <td>NaN</td>\n",
       "      <td>NaN</td>\n",
       "      <td>1.081566</td>\n",
       "      <td>NaN</td>\n",
       "    </tr>\n",
       "    <tr>\n",
       "      <th>entrepreneur</th>\n",
       "      <th>20-29</th>\n",
       "      <td>1.000000</td>\n",
       "      <td>NaN</td>\n",
       "      <td>NaN</td>\n",
       "      <td>NaN</td>\n",
       "      <td>NaN</td>\n",
       "    </tr>\n",
       "    <tr>\n",
       "      <th>paternity / maternity leave</th>\n",
       "      <th>30-39</th>\n",
       "      <td>NaN</td>\n",
       "      <td>NaN</td>\n",
       "      <td>NaN</td>\n",
       "      <td>1.000000</td>\n",
       "      <td>NaN</td>\n",
       "    </tr>\n",
       "    <tr>\n",
       "      <th rowspan=\"6\" valign=\"top\">retiree</th>\n",
       "      <th>20-29</th>\n",
       "      <td>1.000000</td>\n",
       "      <td>NaN</td>\n",
       "      <td>NaN</td>\n",
       "      <td>1.001580</td>\n",
       "      <td>NaN</td>\n",
       "    </tr>\n",
       "    <tr>\n",
       "      <th>30-39</th>\n",
       "      <td>1.174426</td>\n",
       "      <td>NaN</td>\n",
       "      <td>1.000000</td>\n",
       "      <td>1.127317</td>\n",
       "      <td>NaN</td>\n",
       "    </tr>\n",
       "    <tr>\n",
       "      <th>40-49</th>\n",
       "      <td>1.254739</td>\n",
       "      <td>NaN</td>\n",
       "      <td>1.000000</td>\n",
       "      <td>1.086081</td>\n",
       "      <td>1.644647</td>\n",
       "    </tr>\n",
       "    <tr>\n",
       "      <th>50-59</th>\n",
       "      <td>1.122377</td>\n",
       "      <td>NaN</td>\n",
       "      <td>1.018127</td>\n",
       "      <td>1.154522</td>\n",
       "      <td>1.084205</td>\n",
       "    </tr>\n",
       "    <tr>\n",
       "      <th>60-69</th>\n",
       "      <td>1.160663</td>\n",
       "      <td>1.0</td>\n",
       "      <td>1.098931</td>\n",
       "      <td>1.141495</td>\n",
       "      <td>1.102888</td>\n",
       "    </tr>\n",
       "    <tr>\n",
       "      <th>70+</th>\n",
       "      <td>1.048464</td>\n",
       "      <td>NaN</td>\n",
       "      <td>1.258393</td>\n",
       "      <td>1.051054</td>\n",
       "      <td>0.961241</td>\n",
       "    </tr>\n",
       "    <tr>\n",
       "      <th>student</th>\n",
       "      <th>20-29</th>\n",
       "      <td>1.000000</td>\n",
       "      <td>NaN</td>\n",
       "      <td>NaN</td>\n",
       "      <td>NaN</td>\n",
       "      <td>NaN</td>\n",
       "    </tr>\n",
       "    <tr>\n",
       "      <th rowspan=\"2\" valign=\"top\">unemployed</th>\n",
       "      <th>30-39</th>\n",
       "      <td>NaN</td>\n",
       "      <td>NaN</td>\n",
       "      <td>NaN</td>\n",
       "      <td>1.000000</td>\n",
       "      <td>NaN</td>\n",
       "    </tr>\n",
       "    <tr>\n",
       "      <th>40-49</th>\n",
       "      <td>1.000000</td>\n",
       "      <td>NaN</td>\n",
       "      <td>NaN</td>\n",
       "      <td>NaN</td>\n",
       "      <td>NaN</td>\n",
       "    </tr>\n",
       "  </tbody>\n",
       "</table>\n",
       "</div>"
      ],
      "text/plain": [
       "education                              bachelor's degree  graduate degree  \\\n",
       "income_type                 age_group                                       \n",
       "business                    0-19                     NaN              NaN   \n",
       "                            20-29               1.141802              NaN   \n",
       "                            30-39               1.202453              NaN   \n",
       "                            40-49               1.192726              NaN   \n",
       "                            50-59               1.209035              NaN   \n",
       "                            60-69               1.299035              NaN   \n",
       "                            70+                 0.960175              NaN   \n",
       "civil servant               0-19                     NaN              NaN   \n",
       "                            20-29               1.133623              NaN   \n",
       "                            30-39               1.146084              1.0   \n",
       "                            40-49               1.181008              NaN   \n",
       "                            50-59               1.109781              NaN   \n",
       "                            60-69               1.281973              NaN   \n",
       "                            70+                 1.000000              NaN   \n",
       "employee                    0-19                     NaN              NaN   \n",
       "                            20-29               1.152982              NaN   \n",
       "                            30-39               1.154887              1.0   \n",
       "                            40-49               1.153465              1.0   \n",
       "                            50-59               1.218416              1.0   \n",
       "                            60-69               1.104597              NaN   \n",
       "                            70+                      NaN              NaN   \n",
       "entrepreneur                20-29               1.000000              NaN   \n",
       "paternity / maternity leave 30-39                    NaN              NaN   \n",
       "retiree                     20-29               1.000000              NaN   \n",
       "                            30-39               1.174426              NaN   \n",
       "                            40-49               1.254739              NaN   \n",
       "                            50-59               1.122377              NaN   \n",
       "                            60-69               1.160663              1.0   \n",
       "                            70+                 1.048464              NaN   \n",
       "student                     20-29               1.000000              NaN   \n",
       "unemployed                  30-39                    NaN              NaN   \n",
       "                            40-49               1.000000              NaN   \n",
       "\n",
       "education                              primary education  secondary education  \\\n",
       "income_type                 age_group                                           \n",
       "business                    0-19                     NaN             0.978821   \n",
       "                            20-29               1.258188             1.093448   \n",
       "                            30-39               1.251544             1.112646   \n",
       "                            40-49               0.928831             1.151866   \n",
       "                            50-59               1.091256             1.144203   \n",
       "                            60-69                    NaN             1.041931   \n",
       "                            70+                      NaN             1.010694   \n",
       "civil servant               0-19                     NaN                  NaN   \n",
       "                            20-29               1.000000             1.058024   \n",
       "                            30-39               1.000000             1.181303   \n",
       "                            40-49               1.000000             1.139896   \n",
       "                            50-59               1.000000             1.113231   \n",
       "                            60-69                    NaN             1.145311   \n",
       "                            70+                      NaN             1.000000   \n",
       "employee                    0-19                     NaN             1.046947   \n",
       "                            20-29               1.082593             1.119861   \n",
       "                            30-39               1.097872             1.111928   \n",
       "                            40-49               1.048851             1.121842   \n",
       "                            50-59               1.187432             1.129997   \n",
       "                            60-69               0.908396             1.221785   \n",
       "                            70+                      NaN             1.081566   \n",
       "entrepreneur                20-29                    NaN                  NaN   \n",
       "paternity / maternity leave 30-39                    NaN             1.000000   \n",
       "retiree                     20-29                    NaN             1.001580   \n",
       "                            30-39               1.000000             1.127317   \n",
       "                            40-49               1.000000             1.086081   \n",
       "                            50-59               1.018127             1.154522   \n",
       "                            60-69               1.098931             1.141495   \n",
       "                            70+                 1.258393             1.051054   \n",
       "student                     20-29                    NaN                  NaN   \n",
       "unemployed                  30-39                    NaN             1.000000   \n",
       "                            40-49                    NaN                  NaN   \n",
       "\n",
       "education                              some college  \n",
       "income_type                 age_group                \n",
       "business                    0-19           1.000000  \n",
       "                            20-29          1.098707  \n",
       "                            30-39          1.080284  \n",
       "                            40-49          1.135062  \n",
       "                            50-59          1.030461  \n",
       "                            60-69          0.877800  \n",
       "                            70+                 NaN  \n",
       "civil servant               0-19           1.000000  \n",
       "                            20-29          1.001004  \n",
       "                            30-39          1.056570  \n",
       "                            40-49          1.408871  \n",
       "                            50-59               NaN  \n",
       "                            60-69               NaN  \n",
       "                            70+                 NaN  \n",
       "employee                    0-19           1.000000  \n",
       "                            20-29          1.089145  \n",
       "                            30-39          1.181027  \n",
       "                            40-49          1.080095  \n",
       "                            50-59          1.283394  \n",
       "                            60-69          1.030671  \n",
       "                            70+                 NaN  \n",
       "entrepreneur                20-29               NaN  \n",
       "paternity / maternity leave 30-39               NaN  \n",
       "retiree                     20-29               NaN  \n",
       "                            30-39               NaN  \n",
       "                            40-49          1.644647  \n",
       "                            50-59          1.084205  \n",
       "                            60-69          1.102888  \n",
       "                            70+            0.961241  \n",
       "student                     20-29               NaN  \n",
       "unemployed                  30-39               NaN  \n",
       "                            40-49               NaN  "
      ]
     },
     "execution_count": 70,
     "metadata": {},
     "output_type": "execute_result"
    }
   ],
   "source": [
    "# Examina los valores medios de los ingresos en función de \"education\"\n",
    "#credit_score_depurada_mean = credit_score_depurada_sin_ausentes.pivot_table(index=\"income_type\", columns=\"age_group\", values=\"total_income\", aggfunc='mean')\n",
    "credit_score_depurada_mean/credit_score_depurada_median"
   ]
  },
  {
   "cell_type": "code",
   "execution_count": 71,
   "metadata": {},
   "outputs": [
    {
     "data": {
      "text/html": [
       "<div>\n",
       "<style scoped>\n",
       "    .dataframe tbody tr th:only-of-type {\n",
       "        vertical-align: middle;\n",
       "    }\n",
       "\n",
       "    .dataframe tbody tr th {\n",
       "        vertical-align: top;\n",
       "    }\n",
       "\n",
       "    .dataframe thead th {\n",
       "        text-align: right;\n",
       "    }\n",
       "</style>\n",
       "<table border=\"1\" class=\"dataframe\">\n",
       "  <thead>\n",
       "    <tr style=\"text-align: right;\">\n",
       "      <th></th>\n",
       "      <th>education</th>\n",
       "      <th>bachelor's degree</th>\n",
       "      <th>graduate degree</th>\n",
       "      <th>primary education</th>\n",
       "      <th>secondary education</th>\n",
       "      <th>some college</th>\n",
       "    </tr>\n",
       "    <tr>\n",
       "      <th>income_type</th>\n",
       "      <th>age_group</th>\n",
       "      <th></th>\n",
       "      <th></th>\n",
       "      <th></th>\n",
       "      <th></th>\n",
       "      <th></th>\n",
       "    </tr>\n",
       "  </thead>\n",
       "  <tbody>\n",
       "    <tr>\n",
       "      <th rowspan=\"7\" valign=\"top\">business</th>\n",
       "      <th>0-19</th>\n",
       "      <td>NaN</td>\n",
       "      <td>NaN</td>\n",
       "      <td>NaN</td>\n",
       "      <td>16588.2370</td>\n",
       "      <td>26598.4335</td>\n",
       "    </tr>\n",
       "    <tr>\n",
       "      <th>20-29</th>\n",
       "      <td>28250.2840</td>\n",
       "      <td>NaN</td>\n",
       "      <td>24210.1960</td>\n",
       "      <td>23884.9040</td>\n",
       "      <td>25315.8330</td>\n",
       "    </tr>\n",
       "    <tr>\n",
       "      <th>30-39</th>\n",
       "      <td>32574.9760</td>\n",
       "      <td>NaN</td>\n",
       "      <td>20030.2260</td>\n",
       "      <td>26268.0480</td>\n",
       "      <td>29814.5275</td>\n",
       "    </tr>\n",
       "    <tr>\n",
       "      <th>40-49</th>\n",
       "      <td>34592.0450</td>\n",
       "      <td>NaN</td>\n",
       "      <td>27929.0980</td>\n",
       "      <td>26115.6660</td>\n",
       "      <td>35282.0940</td>\n",
       "    </tr>\n",
       "    <tr>\n",
       "      <th>50-59</th>\n",
       "      <td>35379.3990</td>\n",
       "      <td>NaN</td>\n",
       "      <td>23066.1310</td>\n",
       "      <td>24461.0155</td>\n",
       "      <td>33073.7630</td>\n",
       "    </tr>\n",
       "    <tr>\n",
       "      <th>60-69</th>\n",
       "      <td>30849.5425</td>\n",
       "      <td>NaN</td>\n",
       "      <td>NaN</td>\n",
       "      <td>27142.1265</td>\n",
       "      <td>37146.5350</td>\n",
       "    </tr>\n",
       "    <tr>\n",
       "      <th>70+</th>\n",
       "      <td>36808.9680</td>\n",
       "      <td>NaN</td>\n",
       "      <td>NaN</td>\n",
       "      <td>24259.6870</td>\n",
       "      <td>NaN</td>\n",
       "    </tr>\n",
       "    <tr>\n",
       "      <th rowspan=\"7\" valign=\"top\">civil servant</th>\n",
       "      <th>0-19</th>\n",
       "      <td>NaN</td>\n",
       "      <td>NaN</td>\n",
       "      <td>NaN</td>\n",
       "      <td>NaN</td>\n",
       "      <td>12125.9860</td>\n",
       "    </tr>\n",
       "    <tr>\n",
       "      <th>20-29</th>\n",
       "      <td>24617.5440</td>\n",
       "      <td>NaN</td>\n",
       "      <td>30563.3830</td>\n",
       "      <td>21361.7300</td>\n",
       "      <td>21640.4795</td>\n",
       "    </tr>\n",
       "    <tr>\n",
       "      <th>30-39</th>\n",
       "      <td>27956.2445</td>\n",
       "      <td>17822.757</td>\n",
       "      <td>21150.6960</td>\n",
       "      <td>20870.9730</td>\n",
       "      <td>30672.7180</td>\n",
       "    </tr>\n",
       "    <tr>\n",
       "      <th>40-49</th>\n",
       "      <td>28425.4810</td>\n",
       "      <td>NaN</td>\n",
       "      <td>78410.7740</td>\n",
       "      <td>22552.4920</td>\n",
       "      <td>26587.6740</td>\n",
       "    </tr>\n",
       "    <tr>\n",
       "      <th>50-59</th>\n",
       "      <td>28366.5680</td>\n",
       "      <td>NaN</td>\n",
       "      <td>12709.2755</td>\n",
       "      <td>21417.6660</td>\n",
       "      <td>NaN</td>\n",
       "    </tr>\n",
       "    <tr>\n",
       "      <th>60-69</th>\n",
       "      <td>27117.8410</td>\n",
       "      <td>NaN</td>\n",
       "      <td>NaN</td>\n",
       "      <td>22756.9360</td>\n",
       "      <td>NaN</td>\n",
       "    </tr>\n",
       "    <tr>\n",
       "      <th>70+</th>\n",
       "      <td>57508.0320</td>\n",
       "      <td>NaN</td>\n",
       "      <td>NaN</td>\n",
       "      <td>19530.6775</td>\n",
       "      <td>NaN</td>\n",
       "    </tr>\n",
       "    <tr>\n",
       "      <th rowspan=\"7\" valign=\"top\">employee</th>\n",
       "      <th>0-19</th>\n",
       "      <td>NaN</td>\n",
       "      <td>NaN</td>\n",
       "      <td>NaN</td>\n",
       "      <td>14934.9010</td>\n",
       "      <td>13752.8305</td>\n",
       "    </tr>\n",
       "    <tr>\n",
       "      <th>20-29</th>\n",
       "      <td>24030.5850</td>\n",
       "      <td>NaN</td>\n",
       "      <td>24583.5965</td>\n",
       "      <td>20192.6190</td>\n",
       "      <td>21907.8130</td>\n",
       "    </tr>\n",
       "    <tr>\n",
       "      <th>30-39</th>\n",
       "      <td>26722.5325</td>\n",
       "      <td>18551.846</td>\n",
       "      <td>19546.3410</td>\n",
       "      <td>22088.2215</td>\n",
       "      <td>26913.8230</td>\n",
       "    </tr>\n",
       "    <tr>\n",
       "      <th>40-49</th>\n",
       "      <td>27427.6640</td>\n",
       "      <td>31771.321</td>\n",
       "      <td>21132.3895</td>\n",
       "      <td>22217.0090</td>\n",
       "      <td>26846.2815</td>\n",
       "    </tr>\n",
       "    <tr>\n",
       "      <th>50-59</th>\n",
       "      <td>27503.5590</td>\n",
       "      <td>42945.794</td>\n",
       "      <td>14599.2580</td>\n",
       "      <td>21831.2455</td>\n",
       "      <td>22644.3135</td>\n",
       "    </tr>\n",
       "    <tr>\n",
       "      <th>60-69</th>\n",
       "      <td>27969.0405</td>\n",
       "      <td>NaN</td>\n",
       "      <td>26188.2420</td>\n",
       "      <td>21311.4815</td>\n",
       "      <td>32844.1030</td>\n",
       "    </tr>\n",
       "    <tr>\n",
       "      <th>70+</th>\n",
       "      <td>NaN</td>\n",
       "      <td>NaN</td>\n",
       "      <td>NaN</td>\n",
       "      <td>24660.9010</td>\n",
       "      <td>NaN</td>\n",
       "    </tr>\n",
       "    <tr>\n",
       "      <th>entrepreneur</th>\n",
       "      <th>20-29</th>\n",
       "      <td>79866.1030</td>\n",
       "      <td>NaN</td>\n",
       "      <td>NaN</td>\n",
       "      <td>NaN</td>\n",
       "      <td>NaN</td>\n",
       "    </tr>\n",
       "    <tr>\n",
       "      <th>paternity / maternity leave</th>\n",
       "      <th>30-39</th>\n",
       "      <td>NaN</td>\n",
       "      <td>NaN</td>\n",
       "      <td>NaN</td>\n",
       "      <td>8612.6610</td>\n",
       "      <td>NaN</td>\n",
       "    </tr>\n",
       "    <tr>\n",
       "      <th rowspan=\"6\" valign=\"top\">retiree</th>\n",
       "      <th>20-29</th>\n",
       "      <td>34394.1280</td>\n",
       "      <td>NaN</td>\n",
       "      <td>NaN</td>\n",
       "      <td>11619.3835</td>\n",
       "      <td>NaN</td>\n",
       "    </tr>\n",
       "    <tr>\n",
       "      <th>30-39</th>\n",
       "      <td>30117.8830</td>\n",
       "      <td>NaN</td>\n",
       "      <td>14138.8660</td>\n",
       "      <td>18495.7740</td>\n",
       "      <td>NaN</td>\n",
       "    </tr>\n",
       "    <tr>\n",
       "      <th>40-49</th>\n",
       "      <td>31828.7485</td>\n",
       "      <td>NaN</td>\n",
       "      <td>15708.4330</td>\n",
       "      <td>22263.9860</td>\n",
       "      <td>8199.5900</td>\n",
       "    </tr>\n",
       "    <tr>\n",
       "      <th>50-59</th>\n",
       "      <td>22805.7985</td>\n",
       "      <td>NaN</td>\n",
       "      <td>17104.9250</td>\n",
       "      <td>18834.8165</td>\n",
       "      <td>17973.6230</td>\n",
       "    </tr>\n",
       "    <tr>\n",
       "      <th>60-69</th>\n",
       "      <td>23918.5100</td>\n",
       "      <td>28334.215</td>\n",
       "      <td>16415.7850</td>\n",
       "      <td>17943.5555</td>\n",
       "      <td>25908.0145</td>\n",
       "    </tr>\n",
       "    <tr>\n",
       "      <th>70+</th>\n",
       "      <td>22009.3150</td>\n",
       "      <td>NaN</td>\n",
       "      <td>15013.5050</td>\n",
       "      <td>17543.2480</td>\n",
       "      <td>14479.1930</td>\n",
       "    </tr>\n",
       "    <tr>\n",
       "      <th>student</th>\n",
       "      <th>20-29</th>\n",
       "      <td>15712.2600</td>\n",
       "      <td>NaN</td>\n",
       "      <td>NaN</td>\n",
       "      <td>NaN</td>\n",
       "      <td>NaN</td>\n",
       "    </tr>\n",
       "    <tr>\n",
       "      <th rowspan=\"2\" valign=\"top\">unemployed</th>\n",
       "      <th>30-39</th>\n",
       "      <td>NaN</td>\n",
       "      <td>NaN</td>\n",
       "      <td>NaN</td>\n",
       "      <td>9593.1190</td>\n",
       "      <td>NaN</td>\n",
       "    </tr>\n",
       "    <tr>\n",
       "      <th>40-49</th>\n",
       "      <td>32435.6020</td>\n",
       "      <td>NaN</td>\n",
       "      <td>NaN</td>\n",
       "      <td>NaN</td>\n",
       "      <td>NaN</td>\n",
       "    </tr>\n",
       "  </tbody>\n",
       "</table>\n",
       "</div>"
      ],
      "text/plain": [
       "education                              bachelor's degree  graduate degree  \\\n",
       "income_type                 age_group                                       \n",
       "business                    0-19                     NaN              NaN   \n",
       "                            20-29             28250.2840              NaN   \n",
       "                            30-39             32574.9760              NaN   \n",
       "                            40-49             34592.0450              NaN   \n",
       "                            50-59             35379.3990              NaN   \n",
       "                            60-69             30849.5425              NaN   \n",
       "                            70+               36808.9680              NaN   \n",
       "civil servant               0-19                     NaN              NaN   \n",
       "                            20-29             24617.5440              NaN   \n",
       "                            30-39             27956.2445        17822.757   \n",
       "                            40-49             28425.4810              NaN   \n",
       "                            50-59             28366.5680              NaN   \n",
       "                            60-69             27117.8410              NaN   \n",
       "                            70+               57508.0320              NaN   \n",
       "employee                    0-19                     NaN              NaN   \n",
       "                            20-29             24030.5850              NaN   \n",
       "                            30-39             26722.5325        18551.846   \n",
       "                            40-49             27427.6640        31771.321   \n",
       "                            50-59             27503.5590        42945.794   \n",
       "                            60-69             27969.0405              NaN   \n",
       "                            70+                      NaN              NaN   \n",
       "entrepreneur                20-29             79866.1030              NaN   \n",
       "paternity / maternity leave 30-39                    NaN              NaN   \n",
       "retiree                     20-29             34394.1280              NaN   \n",
       "                            30-39             30117.8830              NaN   \n",
       "                            40-49             31828.7485              NaN   \n",
       "                            50-59             22805.7985              NaN   \n",
       "                            60-69             23918.5100        28334.215   \n",
       "                            70+               22009.3150              NaN   \n",
       "student                     20-29             15712.2600              NaN   \n",
       "unemployed                  30-39                    NaN              NaN   \n",
       "                            40-49             32435.6020              NaN   \n",
       "\n",
       "education                              primary education  secondary education  \\\n",
       "income_type                 age_group                                           \n",
       "business                    0-19                     NaN           16588.2370   \n",
       "                            20-29             24210.1960           23884.9040   \n",
       "                            30-39             20030.2260           26268.0480   \n",
       "                            40-49             27929.0980           26115.6660   \n",
       "                            50-59             23066.1310           24461.0155   \n",
       "                            60-69                    NaN           27142.1265   \n",
       "                            70+                      NaN           24259.6870   \n",
       "civil servant               0-19                     NaN                  NaN   \n",
       "                            20-29             30563.3830           21361.7300   \n",
       "                            30-39             21150.6960           20870.9730   \n",
       "                            40-49             78410.7740           22552.4920   \n",
       "                            50-59             12709.2755           21417.6660   \n",
       "                            60-69                    NaN           22756.9360   \n",
       "                            70+                      NaN           19530.6775   \n",
       "employee                    0-19                     NaN           14934.9010   \n",
       "                            20-29             24583.5965           20192.6190   \n",
       "                            30-39             19546.3410           22088.2215   \n",
       "                            40-49             21132.3895           22217.0090   \n",
       "                            50-59             14599.2580           21831.2455   \n",
       "                            60-69             26188.2420           21311.4815   \n",
       "                            70+                      NaN           24660.9010   \n",
       "entrepreneur                20-29                    NaN                  NaN   \n",
       "paternity / maternity leave 30-39                    NaN            8612.6610   \n",
       "retiree                     20-29                    NaN           11619.3835   \n",
       "                            30-39             14138.8660           18495.7740   \n",
       "                            40-49             15708.4330           22263.9860   \n",
       "                            50-59             17104.9250           18834.8165   \n",
       "                            60-69             16415.7850           17943.5555   \n",
       "                            70+               15013.5050           17543.2480   \n",
       "student                     20-29                    NaN                  NaN   \n",
       "unemployed                  30-39                    NaN            9593.1190   \n",
       "                            40-49                    NaN                  NaN   \n",
       "\n",
       "education                              some college  \n",
       "income_type                 age_group                \n",
       "business                    0-19         26598.4335  \n",
       "                            20-29        25315.8330  \n",
       "                            30-39        29814.5275  \n",
       "                            40-49        35282.0940  \n",
       "                            50-59        33073.7630  \n",
       "                            60-69        37146.5350  \n",
       "                            70+                 NaN  \n",
       "civil servant               0-19         12125.9860  \n",
       "                            20-29        21640.4795  \n",
       "                            30-39        30672.7180  \n",
       "                            40-49        26587.6740  \n",
       "                            50-59               NaN  \n",
       "                            60-69               NaN  \n",
       "                            70+                 NaN  \n",
       "employee                    0-19         13752.8305  \n",
       "                            20-29        21907.8130  \n",
       "                            30-39        26913.8230  \n",
       "                            40-49        26846.2815  \n",
       "                            50-59        22644.3135  \n",
       "                            60-69        32844.1030  \n",
       "                            70+                 NaN  \n",
       "entrepreneur                20-29               NaN  \n",
       "paternity / maternity leave 30-39               NaN  \n",
       "retiree                     20-29               NaN  \n",
       "                            30-39               NaN  \n",
       "                            40-49         8199.5900  \n",
       "                            50-59        17973.6230  \n",
       "                            60-69        25908.0145  \n",
       "                            70+          14479.1930  \n",
       "student                     20-29               NaN  \n",
       "unemployed                  30-39               NaN  \n",
       "                            40-49               NaN  "
      ]
     },
     "execution_count": 71,
     "metadata": {},
     "output_type": "execute_result"
    }
   ],
   "source": [
    "credit_score_depurada_median"
   ]
  },
  {
   "cell_type": "code",
   "execution_count": 72,
   "metadata": {},
   "outputs": [
    {
     "data": {
      "text/plain": [
       "18495.774"
      ]
     },
     "execution_count": 72,
     "metadata": {},
     "output_type": "execute_result"
    }
   ],
   "source": [
    "credit_score_depurada_median[\"secondary education\"][\"retiree\"][\"30-39\"]"
   ]
  },
  {
   "cell_type": "code",
   "execution_count": 73,
   "metadata": {},
   "outputs": [],
   "source": [
    "#  Escribe una función que usaremos para completar los valores ausentes\n",
    "def reemplazo_salario_median(salario):\n",
    "    age_group = salario[\"age_group\"]\n",
    "    education = salario[\"education\"]\n",
    "    income_type = salario[\"income_type\"]\n",
    "    total_income = salario[\"total_income\"]\n",
    "    if pd.isna(total_income):\n",
    "        try:\n",
    "            return credit_score_depurada_median[education][income_type][age_group]\n",
    "        except:\n",
    "            return \"error\"\n",
    "    return total_income\n",
    "    "
   ]
  },
  {
   "cell_type": "code",
   "execution_count": 74,
   "metadata": {},
   "outputs": [
    {
     "data": {
      "text/plain": [
       "17943.555500000002"
      ]
     },
     "execution_count": 74,
     "metadata": {},
     "output_type": "execute_result"
    }
   ],
   "source": [
    "salario_values=[\"secondary education\", \"retiree\", \"60-69\", float(\"NaN\")]\n",
    "salario_columns=[\"education\", \"income_type\", \"age_group\",\"total_income\"]\n",
    "salario=pd.Series(data=salario_values, index=salario_columns)\n",
    "reemplazo_salario_median(salario)"
   ]
  },
  {
   "cell_type": "code",
   "execution_count": 75,
   "metadata": {},
   "outputs": [
    {
     "data": {
      "text/plain": [
       "2"
      ]
     },
     "execution_count": 75,
     "metadata": {},
     "output_type": "execute_result"
    }
   ],
   "source": [
    "# Aplícalo a cada fila\n",
    "credit_score_depurada.apply(reemplazo_salario_median, axis=1).isna().sum()"
   ]
  },
  {
   "cell_type": "code",
   "execution_count": 76,
   "metadata": {},
   "outputs": [
    {
     "data": {
      "text/html": [
       "<div>\n",
       "<style scoped>\n",
       "    .dataframe tbody tr th:only-of-type {\n",
       "        vertical-align: middle;\n",
       "    }\n",
       "\n",
       "    .dataframe tbody tr th {\n",
       "        vertical-align: top;\n",
       "    }\n",
       "\n",
       "    .dataframe thead th {\n",
       "        text-align: right;\n",
       "    }\n",
       "</style>\n",
       "<table border=\"1\" class=\"dataframe\">\n",
       "  <thead>\n",
       "    <tr style=\"text-align: right;\">\n",
       "      <th></th>\n",
       "      <th>children</th>\n",
       "      <th>days_employed</th>\n",
       "      <th>dob_years</th>\n",
       "      <th>education</th>\n",
       "      <th>education_id</th>\n",
       "      <th>family_status</th>\n",
       "      <th>family_status_id</th>\n",
       "      <th>gender</th>\n",
       "      <th>income_type</th>\n",
       "      <th>debt</th>\n",
       "      <th>total_income</th>\n",
       "      <th>purpose</th>\n",
       "      <th>days_employed_year</th>\n",
       "      <th>age_group</th>\n",
       "    </tr>\n",
       "  </thead>\n",
       "  <tbody>\n",
       "    <tr>\n",
       "      <th>0</th>\n",
       "      <td>1</td>\n",
       "      <td>8437.673028</td>\n",
       "      <td>42</td>\n",
       "      <td>bachelor's degree</td>\n",
       "      <td>0</td>\n",
       "      <td>married</td>\n",
       "      <td>0</td>\n",
       "      <td>F</td>\n",
       "      <td>employee</td>\n",
       "      <td>0</td>\n",
       "      <td>40620.102</td>\n",
       "      <td>purchase of the house</td>\n",
       "      <td>23.116912</td>\n",
       "      <td>40-49</td>\n",
       "    </tr>\n",
       "    <tr>\n",
       "      <th>1</th>\n",
       "      <td>1</td>\n",
       "      <td>4024.803754</td>\n",
       "      <td>36</td>\n",
       "      <td>secondary education</td>\n",
       "      <td>1</td>\n",
       "      <td>married</td>\n",
       "      <td>0</td>\n",
       "      <td>F</td>\n",
       "      <td>employee</td>\n",
       "      <td>0</td>\n",
       "      <td>17932.802</td>\n",
       "      <td>car purchase</td>\n",
       "      <td>11.026860</td>\n",
       "      <td>30-39</td>\n",
       "    </tr>\n",
       "    <tr>\n",
       "      <th>2</th>\n",
       "      <td>0</td>\n",
       "      <td>5623.422610</td>\n",
       "      <td>33</td>\n",
       "      <td>secondary education</td>\n",
       "      <td>1</td>\n",
       "      <td>married</td>\n",
       "      <td>0</td>\n",
       "      <td>M</td>\n",
       "      <td>employee</td>\n",
       "      <td>0</td>\n",
       "      <td>23341.752</td>\n",
       "      <td>purchase of the house</td>\n",
       "      <td>15.406637</td>\n",
       "      <td>30-39</td>\n",
       "    </tr>\n",
       "    <tr>\n",
       "      <th>3</th>\n",
       "      <td>3</td>\n",
       "      <td>4124.747207</td>\n",
       "      <td>32</td>\n",
       "      <td>secondary education</td>\n",
       "      <td>1</td>\n",
       "      <td>married</td>\n",
       "      <td>0</td>\n",
       "      <td>M</td>\n",
       "      <td>employee</td>\n",
       "      <td>0</td>\n",
       "      <td>42820.568</td>\n",
       "      <td>supplementary education</td>\n",
       "      <td>11.300677</td>\n",
       "      <td>30-39</td>\n",
       "    </tr>\n",
       "    <tr>\n",
       "      <th>4</th>\n",
       "      <td>0</td>\n",
       "      <td>340266.072047</td>\n",
       "      <td>53</td>\n",
       "      <td>secondary education</td>\n",
       "      <td>1</td>\n",
       "      <td>civil partnership</td>\n",
       "      <td>1</td>\n",
       "      <td>F</td>\n",
       "      <td>retiree</td>\n",
       "      <td>0</td>\n",
       "      <td>25378.572</td>\n",
       "      <td>to have a wedding</td>\n",
       "      <td>40.000000</td>\n",
       "      <td>50-59</td>\n",
       "    </tr>\n",
       "    <tr>\n",
       "      <th>5</th>\n",
       "      <td>0</td>\n",
       "      <td>926.185831</td>\n",
       "      <td>27</td>\n",
       "      <td>bachelor's degree</td>\n",
       "      <td>0</td>\n",
       "      <td>civil partnership</td>\n",
       "      <td>1</td>\n",
       "      <td>M</td>\n",
       "      <td>business</td>\n",
       "      <td>0</td>\n",
       "      <td>40922.170</td>\n",
       "      <td>purchase of the house</td>\n",
       "      <td>2.537495</td>\n",
       "      <td>20-29</td>\n",
       "    </tr>\n",
       "    <tr>\n",
       "      <th>6</th>\n",
       "      <td>0</td>\n",
       "      <td>2879.202052</td>\n",
       "      <td>43</td>\n",
       "      <td>bachelor's degree</td>\n",
       "      <td>0</td>\n",
       "      <td>married</td>\n",
       "      <td>0</td>\n",
       "      <td>F</td>\n",
       "      <td>business</td>\n",
       "      <td>0</td>\n",
       "      <td>38484.156</td>\n",
       "      <td>housing transactions</td>\n",
       "      <td>7.888225</td>\n",
       "      <td>40-49</td>\n",
       "    </tr>\n",
       "    <tr>\n",
       "      <th>7</th>\n",
       "      <td>0</td>\n",
       "      <td>152.779569</td>\n",
       "      <td>50</td>\n",
       "      <td>secondary education</td>\n",
       "      <td>1</td>\n",
       "      <td>married</td>\n",
       "      <td>0</td>\n",
       "      <td>M</td>\n",
       "      <td>employee</td>\n",
       "      <td>0</td>\n",
       "      <td>21731.829</td>\n",
       "      <td>education</td>\n",
       "      <td>0.418574</td>\n",
       "      <td>50-59</td>\n",
       "    </tr>\n",
       "    <tr>\n",
       "      <th>8</th>\n",
       "      <td>2</td>\n",
       "      <td>6929.865299</td>\n",
       "      <td>35</td>\n",
       "      <td>bachelor's degree</td>\n",
       "      <td>0</td>\n",
       "      <td>civil partnership</td>\n",
       "      <td>1</td>\n",
       "      <td>F</td>\n",
       "      <td>employee</td>\n",
       "      <td>0</td>\n",
       "      <td>15337.093</td>\n",
       "      <td>having a wedding</td>\n",
       "      <td>18.985932</td>\n",
       "      <td>30-39</td>\n",
       "    </tr>\n",
       "    <tr>\n",
       "      <th>9</th>\n",
       "      <td>0</td>\n",
       "      <td>2188.756445</td>\n",
       "      <td>41</td>\n",
       "      <td>secondary education</td>\n",
       "      <td>1</td>\n",
       "      <td>married</td>\n",
       "      <td>0</td>\n",
       "      <td>M</td>\n",
       "      <td>employee</td>\n",
       "      <td>0</td>\n",
       "      <td>23108.150</td>\n",
       "      <td>purchase of the house for my family</td>\n",
       "      <td>5.996593</td>\n",
       "      <td>40-49</td>\n",
       "    </tr>\n",
       "    <tr>\n",
       "      <th>10</th>\n",
       "      <td>2</td>\n",
       "      <td>4171.483647</td>\n",
       "      <td>36</td>\n",
       "      <td>bachelor's degree</td>\n",
       "      <td>0</td>\n",
       "      <td>married</td>\n",
       "      <td>0</td>\n",
       "      <td>M</td>\n",
       "      <td>business</td>\n",
       "      <td>0</td>\n",
       "      <td>18230.959</td>\n",
       "      <td>buy real estate</td>\n",
       "      <td>11.428722</td>\n",
       "      <td>30-39</td>\n",
       "    </tr>\n",
       "    <tr>\n",
       "      <th>11</th>\n",
       "      <td>0</td>\n",
       "      <td>792.701887</td>\n",
       "      <td>40</td>\n",
       "      <td>secondary education</td>\n",
       "      <td>1</td>\n",
       "      <td>married</td>\n",
       "      <td>0</td>\n",
       "      <td>F</td>\n",
       "      <td>employee</td>\n",
       "      <td>0</td>\n",
       "      <td>12331.077</td>\n",
       "      <td>buy commercial real estate</td>\n",
       "      <td>2.171786</td>\n",
       "      <td>40-49</td>\n",
       "    </tr>\n",
       "    <tr>\n",
       "      <th>12</th>\n",
       "      <td>0</td>\n",
       "      <td>NaN</td>\n",
       "      <td>65</td>\n",
       "      <td>secondary education</td>\n",
       "      <td>1</td>\n",
       "      <td>civil partnership</td>\n",
       "      <td>1</td>\n",
       "      <td>M</td>\n",
       "      <td>retiree</td>\n",
       "      <td>0</td>\n",
       "      <td>NaN</td>\n",
       "      <td>to have a wedding</td>\n",
       "      <td>NaN</td>\n",
       "      <td>60-69</td>\n",
       "    </tr>\n",
       "    <tr>\n",
       "      <th>13</th>\n",
       "      <td>0</td>\n",
       "      <td>1846.641941</td>\n",
       "      <td>54</td>\n",
       "      <td>some college</td>\n",
       "      <td>2</td>\n",
       "      <td>married</td>\n",
       "      <td>0</td>\n",
       "      <td>F</td>\n",
       "      <td>employee</td>\n",
       "      <td>0</td>\n",
       "      <td>20873.317</td>\n",
       "      <td>car purchase</td>\n",
       "      <td>5.059293</td>\n",
       "      <td>50-59</td>\n",
       "    </tr>\n",
       "    <tr>\n",
       "      <th>14</th>\n",
       "      <td>0</td>\n",
       "      <td>1844.956182</td>\n",
       "      <td>56</td>\n",
       "      <td>bachelor's degree</td>\n",
       "      <td>0</td>\n",
       "      <td>civil partnership</td>\n",
       "      <td>1</td>\n",
       "      <td>F</td>\n",
       "      <td>business</td>\n",
       "      <td>1</td>\n",
       "      <td>26420.466</td>\n",
       "      <td>buy residential real estate</td>\n",
       "      <td>5.054674</td>\n",
       "      <td>50-59</td>\n",
       "    </tr>\n",
       "    <tr>\n",
       "      <th>15</th>\n",
       "      <td>1</td>\n",
       "      <td>972.364419</td>\n",
       "      <td>26</td>\n",
       "      <td>secondary education</td>\n",
       "      <td>1</td>\n",
       "      <td>married</td>\n",
       "      <td>0</td>\n",
       "      <td>F</td>\n",
       "      <td>employee</td>\n",
       "      <td>0</td>\n",
       "      <td>18691.345</td>\n",
       "      <td>construction of own property</td>\n",
       "      <td>2.664012</td>\n",
       "      <td>20-29</td>\n",
       "    </tr>\n",
       "    <tr>\n",
       "      <th>16</th>\n",
       "      <td>0</td>\n",
       "      <td>1719.934226</td>\n",
       "      <td>35</td>\n",
       "      <td>secondary education</td>\n",
       "      <td>1</td>\n",
       "      <td>married</td>\n",
       "      <td>0</td>\n",
       "      <td>F</td>\n",
       "      <td>employee</td>\n",
       "      <td>0</td>\n",
       "      <td>46272.433</td>\n",
       "      <td>property</td>\n",
       "      <td>4.712149</td>\n",
       "      <td>30-39</td>\n",
       "    </tr>\n",
       "    <tr>\n",
       "      <th>17</th>\n",
       "      <td>0</td>\n",
       "      <td>2369.999720</td>\n",
       "      <td>33</td>\n",
       "      <td>bachelor's degree</td>\n",
       "      <td>0</td>\n",
       "      <td>civil partnership</td>\n",
       "      <td>1</td>\n",
       "      <td>M</td>\n",
       "      <td>employee</td>\n",
       "      <td>0</td>\n",
       "      <td>14465.694</td>\n",
       "      <td>building a property</td>\n",
       "      <td>6.493150</td>\n",
       "      <td>30-39</td>\n",
       "    </tr>\n",
       "    <tr>\n",
       "      <th>18</th>\n",
       "      <td>0</td>\n",
       "      <td>400281.136913</td>\n",
       "      <td>53</td>\n",
       "      <td>secondary education</td>\n",
       "      <td>1</td>\n",
       "      <td>widow / widower</td>\n",
       "      <td>2</td>\n",
       "      <td>F</td>\n",
       "      <td>retiree</td>\n",
       "      <td>0</td>\n",
       "      <td>9091.804</td>\n",
       "      <td>buying a second-hand car</td>\n",
       "      <td>40.000000</td>\n",
       "      <td>50-59</td>\n",
       "    </tr>\n",
       "    <tr>\n",
       "      <th>19</th>\n",
       "      <td>0</td>\n",
       "      <td>10038.818549</td>\n",
       "      <td>48</td>\n",
       "      <td>secondary education</td>\n",
       "      <td>1</td>\n",
       "      <td>divorced</td>\n",
       "      <td>3</td>\n",
       "      <td>F</td>\n",
       "      <td>employee</td>\n",
       "      <td>0</td>\n",
       "      <td>38852.977</td>\n",
       "      <td>buying my own car</td>\n",
       "      <td>27.503612</td>\n",
       "      <td>40-49</td>\n",
       "    </tr>\n",
       "  </tbody>\n",
       "</table>\n",
       "</div>"
      ],
      "text/plain": [
       "    children  days_employed  dob_years            education  education_id  \\\n",
       "0          1    8437.673028         42    bachelor's degree             0   \n",
       "1          1    4024.803754         36  secondary education             1   \n",
       "2          0    5623.422610         33  secondary education             1   \n",
       "3          3    4124.747207         32  secondary education             1   \n",
       "4          0  340266.072047         53  secondary education             1   \n",
       "5          0     926.185831         27    bachelor's degree             0   \n",
       "6          0    2879.202052         43    bachelor's degree             0   \n",
       "7          0     152.779569         50  secondary education             1   \n",
       "8          2    6929.865299         35    bachelor's degree             0   \n",
       "9          0    2188.756445         41  secondary education             1   \n",
       "10         2    4171.483647         36    bachelor's degree             0   \n",
       "11         0     792.701887         40  secondary education             1   \n",
       "12         0            NaN         65  secondary education             1   \n",
       "13         0    1846.641941         54         some college             2   \n",
       "14         0    1844.956182         56    bachelor's degree             0   \n",
       "15         1     972.364419         26  secondary education             1   \n",
       "16         0    1719.934226         35  secondary education             1   \n",
       "17         0    2369.999720         33    bachelor's degree             0   \n",
       "18         0  400281.136913         53  secondary education             1   \n",
       "19         0   10038.818549         48  secondary education             1   \n",
       "\n",
       "        family_status  family_status_id gender income_type  debt  \\\n",
       "0             married                 0      F    employee     0   \n",
       "1             married                 0      F    employee     0   \n",
       "2             married                 0      M    employee     0   \n",
       "3             married                 0      M    employee     0   \n",
       "4   civil partnership                 1      F     retiree     0   \n",
       "5   civil partnership                 1      M    business     0   \n",
       "6             married                 0      F    business     0   \n",
       "7             married                 0      M    employee     0   \n",
       "8   civil partnership                 1      F    employee     0   \n",
       "9             married                 0      M    employee     0   \n",
       "10            married                 0      M    business     0   \n",
       "11            married                 0      F    employee     0   \n",
       "12  civil partnership                 1      M     retiree     0   \n",
       "13            married                 0      F    employee     0   \n",
       "14  civil partnership                 1      F    business     1   \n",
       "15            married                 0      F    employee     0   \n",
       "16            married                 0      F    employee     0   \n",
       "17  civil partnership                 1      M    employee     0   \n",
       "18    widow / widower                 2      F     retiree     0   \n",
       "19           divorced                 3      F    employee     0   \n",
       "\n",
       "    total_income                              purpose  days_employed_year  \\\n",
       "0      40620.102                purchase of the house           23.116912   \n",
       "1      17932.802                         car purchase           11.026860   \n",
       "2      23341.752                purchase of the house           15.406637   \n",
       "3      42820.568              supplementary education           11.300677   \n",
       "4      25378.572                    to have a wedding           40.000000   \n",
       "5      40922.170                purchase of the house            2.537495   \n",
       "6      38484.156                 housing transactions            7.888225   \n",
       "7      21731.829                            education            0.418574   \n",
       "8      15337.093                     having a wedding           18.985932   \n",
       "9      23108.150  purchase of the house for my family            5.996593   \n",
       "10     18230.959                      buy real estate           11.428722   \n",
       "11     12331.077           buy commercial real estate            2.171786   \n",
       "12           NaN                    to have a wedding                 NaN   \n",
       "13     20873.317                         car purchase            5.059293   \n",
       "14     26420.466          buy residential real estate            5.054674   \n",
       "15     18691.345         construction of own property            2.664012   \n",
       "16     46272.433                             property            4.712149   \n",
       "17     14465.694                  building a property            6.493150   \n",
       "18      9091.804             buying a second-hand car           40.000000   \n",
       "19     38852.977                    buying my own car           27.503612   \n",
       "\n",
       "   age_group  \n",
       "0      40-49  \n",
       "1      30-39  \n",
       "2      30-39  \n",
       "3      30-39  \n",
       "4      50-59  \n",
       "5      20-29  \n",
       "6      40-49  \n",
       "7      50-59  \n",
       "8      30-39  \n",
       "9      40-49  \n",
       "10     30-39  \n",
       "11     40-49  \n",
       "12     60-69  \n",
       "13     50-59  \n",
       "14     50-59  \n",
       "15     20-29  \n",
       "16     30-39  \n",
       "17     30-39  \n",
       "18     50-59  \n",
       "19     40-49  "
      ]
     },
     "execution_count": 76,
     "metadata": {},
     "output_type": "execute_result"
    }
   ],
   "source": [
    "credit_score_depurada.head(20)"
   ]
  },
  {
   "cell_type": "code",
   "execution_count": 77,
   "metadata": {},
   "outputs": [],
   "source": [
    "# Comprueba si tenemos algún error\n",
    "credit_score_depurada[\"total_income\"] = credit_score_depurada.apply(reemplazo_salario_median, axis=1)"
   ]
  },
  {
   "cell_type": "code",
   "execution_count": 78,
   "metadata": {},
   "outputs": [
    {
     "data": {
      "text/html": [
       "<div>\n",
       "<style scoped>\n",
       "    .dataframe tbody tr th:only-of-type {\n",
       "        vertical-align: middle;\n",
       "    }\n",
       "\n",
       "    .dataframe tbody tr th {\n",
       "        vertical-align: top;\n",
       "    }\n",
       "\n",
       "    .dataframe thead th {\n",
       "        text-align: right;\n",
       "    }\n",
       "</style>\n",
       "<table border=\"1\" class=\"dataframe\">\n",
       "  <thead>\n",
       "    <tr style=\"text-align: right;\">\n",
       "      <th></th>\n",
       "      <th>children</th>\n",
       "      <th>days_employed</th>\n",
       "      <th>dob_years</th>\n",
       "      <th>education</th>\n",
       "      <th>education_id</th>\n",
       "      <th>family_status</th>\n",
       "      <th>family_status_id</th>\n",
       "      <th>gender</th>\n",
       "      <th>income_type</th>\n",
       "      <th>debt</th>\n",
       "      <th>total_income</th>\n",
       "      <th>purpose</th>\n",
       "      <th>days_employed_year</th>\n",
       "      <th>age_group</th>\n",
       "    </tr>\n",
       "  </thead>\n",
       "  <tbody>\n",
       "    <tr>\n",
       "      <th>5907</th>\n",
       "      <td>0</td>\n",
       "      <td>NaN</td>\n",
       "      <td>58</td>\n",
       "      <td>bachelor's degree</td>\n",
       "      <td>0</td>\n",
       "      <td>married</td>\n",
       "      <td>0</td>\n",
       "      <td>M</td>\n",
       "      <td>entrepreneur</td>\n",
       "      <td>0</td>\n",
       "      <td>error</td>\n",
       "      <td>buy residential real estate</td>\n",
       "      <td>NaN</td>\n",
       "      <td>50-59</td>\n",
       "    </tr>\n",
       "  </tbody>\n",
       "</table>\n",
       "</div>"
      ],
      "text/plain": [
       "      children  days_employed  dob_years          education  education_id  \\\n",
       "5907         0            NaN         58  bachelor's degree             0   \n",
       "\n",
       "     family_status  family_status_id gender   income_type  debt total_income  \\\n",
       "5907       married                 0      M  entrepreneur     0        error   \n",
       "\n",
       "                          purpose  days_employed_year age_group  \n",
       "5907  buy residential real estate                 NaN     50-59  "
      ]
     },
     "execution_count": 78,
     "metadata": {},
     "output_type": "execute_result"
    }
   ],
   "source": [
    "credit_score_depurada[credit_score_depurada[\"total_income\"]==\"error\"]"
   ]
  },
  {
   "cell_type": "code",
   "execution_count": 79,
   "metadata": {},
   "outputs": [
    {
     "data": {
      "text/html": [
       "<div>\n",
       "<style scoped>\n",
       "    .dataframe tbody tr th:only-of-type {\n",
       "        vertical-align: middle;\n",
       "    }\n",
       "\n",
       "    .dataframe tbody tr th {\n",
       "        vertical-align: top;\n",
       "    }\n",
       "\n",
       "    .dataframe thead th {\n",
       "        text-align: right;\n",
       "    }\n",
       "</style>\n",
       "<table border=\"1\" class=\"dataframe\">\n",
       "  <thead>\n",
       "    <tr style=\"text-align: right;\">\n",
       "      <th></th>\n",
       "      <th>children</th>\n",
       "      <th>days_employed</th>\n",
       "      <th>dob_years</th>\n",
       "      <th>education</th>\n",
       "      <th>education_id</th>\n",
       "      <th>family_status</th>\n",
       "      <th>family_status_id</th>\n",
       "      <th>gender</th>\n",
       "      <th>income_type</th>\n",
       "      <th>debt</th>\n",
       "      <th>total_income</th>\n",
       "      <th>purpose</th>\n",
       "      <th>days_employed_year</th>\n",
       "      <th>age_group</th>\n",
       "    </tr>\n",
       "  </thead>\n",
       "  <tbody>\n",
       "    <tr>\n",
       "      <th>5907</th>\n",
       "      <td>0</td>\n",
       "      <td>NaN</td>\n",
       "      <td>58</td>\n",
       "      <td>bachelor's degree</td>\n",
       "      <td>0</td>\n",
       "      <td>married</td>\n",
       "      <td>0</td>\n",
       "      <td>M</td>\n",
       "      <td>entrepreneur</td>\n",
       "      <td>0</td>\n",
       "      <td>error</td>\n",
       "      <td>buy residential real estate</td>\n",
       "      <td>NaN</td>\n",
       "      <td>50-59</td>\n",
       "    </tr>\n",
       "    <tr>\n",
       "      <th>18554</th>\n",
       "      <td>0</td>\n",
       "      <td>520.848083</td>\n",
       "      <td>27</td>\n",
       "      <td>bachelor's degree</td>\n",
       "      <td>0</td>\n",
       "      <td>civil partnership</td>\n",
       "      <td>1</td>\n",
       "      <td>F</td>\n",
       "      <td>entrepreneur</td>\n",
       "      <td>0</td>\n",
       "      <td>79866.103</td>\n",
       "      <td>having a wedding</td>\n",
       "      <td>1.426981</td>\n",
       "      <td>20-29</td>\n",
       "    </tr>\n",
       "  </tbody>\n",
       "</table>\n",
       "</div>"
      ],
      "text/plain": [
       "       children  days_employed  dob_years          education  education_id  \\\n",
       "5907          0            NaN         58  bachelor's degree             0   \n",
       "18554         0     520.848083         27  bachelor's degree             0   \n",
       "\n",
       "           family_status  family_status_id gender   income_type  debt  \\\n",
       "5907             married                 0      M  entrepreneur     0   \n",
       "18554  civil partnership                 1      F  entrepreneur     0   \n",
       "\n",
       "      total_income                      purpose  days_employed_year age_group  \n",
       "5907         error  buy residential real estate                 NaN     50-59  \n",
       "18554    79866.103             having a wedding            1.426981     20-29  "
      ]
     },
     "execution_count": 79,
     "metadata": {},
     "output_type": "execute_result"
    }
   ],
   "source": [
    "# Reemplazar los valores ausentes si hay algún error\n",
    "credit_score_depurada[(credit_score_depurada[\"income_type\"]==\"entrepreneur\") & (credit_score_depurada[\"education\"]==\"bachelor's degree\")]\n"
   ]
  },
  {
   "cell_type": "code",
   "execution_count": 80,
   "metadata": {},
   "outputs": [],
   "source": [
    "credit_score_depurada.loc[credit_score_depurada[\"total_income\"]==\"error\",\"total_income\"]=79866.103"
   ]
  },
  {
   "cell_type": "code",
   "execution_count": 81,
   "metadata": {},
   "outputs": [
    {
     "data": {
      "text/html": [
       "<div>\n",
       "<style scoped>\n",
       "    .dataframe tbody tr th:only-of-type {\n",
       "        vertical-align: middle;\n",
       "    }\n",
       "\n",
       "    .dataframe tbody tr th {\n",
       "        vertical-align: top;\n",
       "    }\n",
       "\n",
       "    .dataframe thead th {\n",
       "        text-align: right;\n",
       "    }\n",
       "</style>\n",
       "<table border=\"1\" class=\"dataframe\">\n",
       "  <thead>\n",
       "    <tr style=\"text-align: right;\">\n",
       "      <th></th>\n",
       "      <th>children</th>\n",
       "      <th>days_employed</th>\n",
       "      <th>dob_years</th>\n",
       "      <th>education</th>\n",
       "      <th>education_id</th>\n",
       "      <th>family_status</th>\n",
       "      <th>family_status_id</th>\n",
       "      <th>gender</th>\n",
       "      <th>income_type</th>\n",
       "      <th>debt</th>\n",
       "      <th>total_income</th>\n",
       "      <th>purpose</th>\n",
       "      <th>days_employed_year</th>\n",
       "      <th>age_group</th>\n",
       "    </tr>\n",
       "  </thead>\n",
       "  <tbody>\n",
       "    <tr>\n",
       "      <th>1296</th>\n",
       "      <td>1</td>\n",
       "      <td>NaN</td>\n",
       "      <td>70</td>\n",
       "      <td>primary education</td>\n",
       "      <td>3</td>\n",
       "      <td>civil partnership</td>\n",
       "      <td>1</td>\n",
       "      <td>F</td>\n",
       "      <td>employee</td>\n",
       "      <td>0</td>\n",
       "      <td>NaN</td>\n",
       "      <td>transactions with commercial real estate</td>\n",
       "      <td>NaN</td>\n",
       "      <td>70+</td>\n",
       "    </tr>\n",
       "    <tr>\n",
       "      <th>8095</th>\n",
       "      <td>0</td>\n",
       "      <td>NaN</td>\n",
       "      <td>64</td>\n",
       "      <td>primary education</td>\n",
       "      <td>3</td>\n",
       "      <td>civil partnership</td>\n",
       "      <td>1</td>\n",
       "      <td>F</td>\n",
       "      <td>civil servant</td>\n",
       "      <td>0</td>\n",
       "      <td>NaN</td>\n",
       "      <td>to have a wedding</td>\n",
       "      <td>NaN</td>\n",
       "      <td>60-69</td>\n",
       "    </tr>\n",
       "  </tbody>\n",
       "</table>\n",
       "</div>"
      ],
      "text/plain": [
       "      children  days_employed  dob_years          education  education_id  \\\n",
       "1296         1            NaN         70  primary education             3   \n",
       "8095         0            NaN         64  primary education             3   \n",
       "\n",
       "          family_status  family_status_id gender    income_type  debt  \\\n",
       "1296  civil partnership                 1      F       employee     0   \n",
       "8095  civil partnership                 1      F  civil servant     0   \n",
       "\n",
       "     total_income                                   purpose  \\\n",
       "1296          NaN  transactions with commercial real estate   \n",
       "8095          NaN                         to have a wedding   \n",
       "\n",
       "      days_employed_year age_group  \n",
       "1296                 NaN       70+  \n",
       "8095                 NaN     60-69  "
      ]
     },
     "execution_count": 81,
     "metadata": {},
     "output_type": "execute_result"
    }
   ],
   "source": [
    "credit_score_depurada[credit_score_depurada[\"total_income\"].isna()]"
   ]
  },
  {
   "cell_type": "markdown",
   "metadata": {},
   "source": [
    "Aún aparecen 2 filas con valores ausentes que tienen en común el grado de educación y el status civil, realizaremos un nuevo filtro y buscaremos la mediana"
   ]
  },
  {
   "cell_type": "code",
   "execution_count": 82,
   "metadata": {
    "scrolled": false
   },
   "outputs": [
    {
     "data": {
      "text/html": [
       "<div>\n",
       "<style scoped>\n",
       "    .dataframe tbody tr th:only-of-type {\n",
       "        vertical-align: middle;\n",
       "    }\n",
       "\n",
       "    .dataframe tbody tr th {\n",
       "        vertical-align: top;\n",
       "    }\n",
       "\n",
       "    .dataframe thead th {\n",
       "        text-align: right;\n",
       "    }\n",
       "</style>\n",
       "<table border=\"1\" class=\"dataframe\">\n",
       "  <thead>\n",
       "    <tr style=\"text-align: right;\">\n",
       "      <th></th>\n",
       "      <th>children</th>\n",
       "      <th>days_employed</th>\n",
       "      <th>dob_years</th>\n",
       "      <th>education</th>\n",
       "      <th>education_id</th>\n",
       "      <th>family_status</th>\n",
       "      <th>family_status_id</th>\n",
       "      <th>gender</th>\n",
       "      <th>income_type</th>\n",
       "      <th>debt</th>\n",
       "      <th>total_income</th>\n",
       "      <th>purpose</th>\n",
       "      <th>days_employed_year</th>\n",
       "      <th>age_group</th>\n",
       "    </tr>\n",
       "  </thead>\n",
       "  <tbody>\n",
       "    <tr>\n",
       "      <th>209</th>\n",
       "      <td>0</td>\n",
       "      <td>577.273434</td>\n",
       "      <td>41</td>\n",
       "      <td>primary education</td>\n",
       "      <td>3</td>\n",
       "      <td>civil partnership</td>\n",
       "      <td>1</td>\n",
       "      <td>F</td>\n",
       "      <td>employee</td>\n",
       "      <td>0</td>\n",
       "      <td>5863.853</td>\n",
       "      <td>second-hand car purchase</td>\n",
       "      <td>1.581571</td>\n",
       "      <td>40-49</td>\n",
       "    </tr>\n",
       "    <tr>\n",
       "      <th>269</th>\n",
       "      <td>0</td>\n",
       "      <td>5538.963731</td>\n",
       "      <td>35</td>\n",
       "      <td>primary education</td>\n",
       "      <td>3</td>\n",
       "      <td>civil partnership</td>\n",
       "      <td>1</td>\n",
       "      <td>M</td>\n",
       "      <td>employee</td>\n",
       "      <td>1</td>\n",
       "      <td>19810.253</td>\n",
       "      <td>to become educated</td>\n",
       "      <td>15.175243</td>\n",
       "      <td>30-39</td>\n",
       "    </tr>\n",
       "    <tr>\n",
       "      <th>299</th>\n",
       "      <td>2</td>\n",
       "      <td>259.737155</td>\n",
       "      <td>49</td>\n",
       "      <td>primary education</td>\n",
       "      <td>3</td>\n",
       "      <td>civil partnership</td>\n",
       "      <td>1</td>\n",
       "      <td>F</td>\n",
       "      <td>employee</td>\n",
       "      <td>0</td>\n",
       "      <td>31052.373</td>\n",
       "      <td>buy commercial real estate</td>\n",
       "      <td>0.711609</td>\n",
       "      <td>40-49</td>\n",
       "    </tr>\n",
       "    <tr>\n",
       "      <th>678</th>\n",
       "      <td>1</td>\n",
       "      <td>441.719273</td>\n",
       "      <td>35</td>\n",
       "      <td>primary education</td>\n",
       "      <td>3</td>\n",
       "      <td>civil partnership</td>\n",
       "      <td>1</td>\n",
       "      <td>M</td>\n",
       "      <td>employee</td>\n",
       "      <td>0</td>\n",
       "      <td>34952.081</td>\n",
       "      <td>to have a wedding</td>\n",
       "      <td>1.210190</td>\n",
       "      <td>30-39</td>\n",
       "    </tr>\n",
       "    <tr>\n",
       "      <th>1034</th>\n",
       "      <td>0</td>\n",
       "      <td>4586.047987</td>\n",
       "      <td>44</td>\n",
       "      <td>primary education</td>\n",
       "      <td>3</td>\n",
       "      <td>civil partnership</td>\n",
       "      <td>1</td>\n",
       "      <td>F</td>\n",
       "      <td>employee</td>\n",
       "      <td>0</td>\n",
       "      <td>14397.944</td>\n",
       "      <td>to have a wedding</td>\n",
       "      <td>12.564515</td>\n",
       "      <td>40-49</td>\n",
       "    </tr>\n",
       "    <tr>\n",
       "      <th>1296</th>\n",
       "      <td>1</td>\n",
       "      <td>NaN</td>\n",
       "      <td>70</td>\n",
       "      <td>primary education</td>\n",
       "      <td>3</td>\n",
       "      <td>civil partnership</td>\n",
       "      <td>1</td>\n",
       "      <td>F</td>\n",
       "      <td>employee</td>\n",
       "      <td>0</td>\n",
       "      <td>NaN</td>\n",
       "      <td>transactions with commercial real estate</td>\n",
       "      <td>NaN</td>\n",
       "      <td>70+</td>\n",
       "    </tr>\n",
       "    <tr>\n",
       "      <th>1502</th>\n",
       "      <td>0</td>\n",
       "      <td>NaN</td>\n",
       "      <td>52</td>\n",
       "      <td>primary education</td>\n",
       "      <td>3</td>\n",
       "      <td>civil partnership</td>\n",
       "      <td>1</td>\n",
       "      <td>M</td>\n",
       "      <td>employee</td>\n",
       "      <td>1</td>\n",
       "      <td>14599.258</td>\n",
       "      <td>construction of own property</td>\n",
       "      <td>NaN</td>\n",
       "      <td>50-59</td>\n",
       "    </tr>\n",
       "    <tr>\n",
       "      <th>1763</th>\n",
       "      <td>0</td>\n",
       "      <td>3698.498260</td>\n",
       "      <td>26</td>\n",
       "      <td>primary education</td>\n",
       "      <td>3</td>\n",
       "      <td>civil partnership</td>\n",
       "      <td>1</td>\n",
       "      <td>M</td>\n",
       "      <td>employee</td>\n",
       "      <td>0</td>\n",
       "      <td>27742.701</td>\n",
       "      <td>university education</td>\n",
       "      <td>10.132872</td>\n",
       "      <td>20-29</td>\n",
       "    </tr>\n",
       "    <tr>\n",
       "      <th>2123</th>\n",
       "      <td>1</td>\n",
       "      <td>1846.381580</td>\n",
       "      <td>41</td>\n",
       "      <td>primary education</td>\n",
       "      <td>3</td>\n",
       "      <td>civil partnership</td>\n",
       "      <td>1</td>\n",
       "      <td>M</td>\n",
       "      <td>employee</td>\n",
       "      <td>0</td>\n",
       "      <td>25240.59</td>\n",
       "      <td>to have a wedding</td>\n",
       "      <td>5.058580</td>\n",
       "      <td>40-49</td>\n",
       "    </tr>\n",
       "    <tr>\n",
       "      <th>2490</th>\n",
       "      <td>3</td>\n",
       "      <td>1431.329690</td>\n",
       "      <td>35</td>\n",
       "      <td>primary education</td>\n",
       "      <td>3</td>\n",
       "      <td>civil partnership</td>\n",
       "      <td>1</td>\n",
       "      <td>F</td>\n",
       "      <td>employee</td>\n",
       "      <td>0</td>\n",
       "      <td>19920.069</td>\n",
       "      <td>wedding ceremony</td>\n",
       "      <td>3.921451</td>\n",
       "      <td>30-39</td>\n",
       "    </tr>\n",
       "    <tr>\n",
       "      <th>2495</th>\n",
       "      <td>0</td>\n",
       "      <td>1395.620785</td>\n",
       "      <td>49</td>\n",
       "      <td>primary education</td>\n",
       "      <td>3</td>\n",
       "      <td>civil partnership</td>\n",
       "      <td>1</td>\n",
       "      <td>M</td>\n",
       "      <td>employee</td>\n",
       "      <td>1</td>\n",
       "      <td>13868.073</td>\n",
       "      <td>purchase of the house for my family</td>\n",
       "      <td>3.823619</td>\n",
       "      <td>40-49</td>\n",
       "    </tr>\n",
       "    <tr>\n",
       "      <th>2990</th>\n",
       "      <td>0</td>\n",
       "      <td>467.845074</td>\n",
       "      <td>46</td>\n",
       "      <td>primary education</td>\n",
       "      <td>3</td>\n",
       "      <td>civil partnership</td>\n",
       "      <td>1</td>\n",
       "      <td>M</td>\n",
       "      <td>employee</td>\n",
       "      <td>0</td>\n",
       "      <td>10383.129</td>\n",
       "      <td>transactions with my real estate</td>\n",
       "      <td>1.281767</td>\n",
       "      <td>40-49</td>\n",
       "    </tr>\n",
       "    <tr>\n",
       "      <th>3323</th>\n",
       "      <td>1</td>\n",
       "      <td>643.819348</td>\n",
       "      <td>29</td>\n",
       "      <td>primary education</td>\n",
       "      <td>3</td>\n",
       "      <td>civil partnership</td>\n",
       "      <td>1</td>\n",
       "      <td>M</td>\n",
       "      <td>employee</td>\n",
       "      <td>0</td>\n",
       "      <td>36202.37</td>\n",
       "      <td>to buy a car</td>\n",
       "      <td>1.763889</td>\n",
       "      <td>20-29</td>\n",
       "    </tr>\n",
       "    <tr>\n",
       "      <th>3915</th>\n",
       "      <td>0</td>\n",
       "      <td>1197.176853</td>\n",
       "      <td>29</td>\n",
       "      <td>primary education</td>\n",
       "      <td>3</td>\n",
       "      <td>civil partnership</td>\n",
       "      <td>1</td>\n",
       "      <td>F</td>\n",
       "      <td>employee</td>\n",
       "      <td>1</td>\n",
       "      <td>19507.164</td>\n",
       "      <td>buy commercial real estate</td>\n",
       "      <td>3.279937</td>\n",
       "      <td>20-29</td>\n",
       "    </tr>\n",
       "    <tr>\n",
       "      <th>4189</th>\n",
       "      <td>2</td>\n",
       "      <td>1259.458065</td>\n",
       "      <td>33</td>\n",
       "      <td>primary education</td>\n",
       "      <td>3</td>\n",
       "      <td>civil partnership</td>\n",
       "      <td>1</td>\n",
       "      <td>F</td>\n",
       "      <td>employee</td>\n",
       "      <td>1</td>\n",
       "      <td>18212.584</td>\n",
       "      <td>having a wedding</td>\n",
       "      <td>3.450570</td>\n",
       "      <td>30-39</td>\n",
       "    </tr>\n",
       "    <tr>\n",
       "      <th>4561</th>\n",
       "      <td>1</td>\n",
       "      <td>NaN</td>\n",
       "      <td>58</td>\n",
       "      <td>primary education</td>\n",
       "      <td>3</td>\n",
       "      <td>civil partnership</td>\n",
       "      <td>1</td>\n",
       "      <td>F</td>\n",
       "      <td>employee</td>\n",
       "      <td>0</td>\n",
       "      <td>14599.258</td>\n",
       "      <td>housing transactions</td>\n",
       "      <td>NaN</td>\n",
       "      <td>50-59</td>\n",
       "    </tr>\n",
       "    <tr>\n",
       "      <th>6405</th>\n",
       "      <td>1</td>\n",
       "      <td>1600.234154</td>\n",
       "      <td>34</td>\n",
       "      <td>primary education</td>\n",
       "      <td>3</td>\n",
       "      <td>civil partnership</td>\n",
       "      <td>1</td>\n",
       "      <td>F</td>\n",
       "      <td>employee</td>\n",
       "      <td>0</td>\n",
       "      <td>23262.344</td>\n",
       "      <td>wedding ceremony</td>\n",
       "      <td>4.384203</td>\n",
       "      <td>30-39</td>\n",
       "    </tr>\n",
       "    <tr>\n",
       "      <th>6660</th>\n",
       "      <td>1</td>\n",
       "      <td>607.074137</td>\n",
       "      <td>32</td>\n",
       "      <td>primary education</td>\n",
       "      <td>3</td>\n",
       "      <td>civil partnership</td>\n",
       "      <td>1</td>\n",
       "      <td>M</td>\n",
       "      <td>employee</td>\n",
       "      <td>0</td>\n",
       "      <td>10533.332</td>\n",
       "      <td>purchase of the house for my family</td>\n",
       "      <td>1.663217</td>\n",
       "      <td>30-39</td>\n",
       "    </tr>\n",
       "    <tr>\n",
       "      <th>6861</th>\n",
       "      <td>1</td>\n",
       "      <td>250.846502</td>\n",
       "      <td>41</td>\n",
       "      <td>primary education</td>\n",
       "      <td>3</td>\n",
       "      <td>civil partnership</td>\n",
       "      <td>1</td>\n",
       "      <td>F</td>\n",
       "      <td>employee</td>\n",
       "      <td>1</td>\n",
       "      <td>36563.806</td>\n",
       "      <td>purchase of a car</td>\n",
       "      <td>0.687251</td>\n",
       "      <td>40-49</td>\n",
       "    </tr>\n",
       "    <tr>\n",
       "      <th>6929</th>\n",
       "      <td>1</td>\n",
       "      <td>815.944022</td>\n",
       "      <td>31</td>\n",
       "      <td>primary education</td>\n",
       "      <td>3</td>\n",
       "      <td>civil partnership</td>\n",
       "      <td>1</td>\n",
       "      <td>M</td>\n",
       "      <td>employee</td>\n",
       "      <td>1</td>\n",
       "      <td>14933.75</td>\n",
       "      <td>wedding ceremony</td>\n",
       "      <td>2.235463</td>\n",
       "      <td>30-39</td>\n",
       "    </tr>\n",
       "    <tr>\n",
       "      <th>7994</th>\n",
       "      <td>0</td>\n",
       "      <td>767.892618</td>\n",
       "      <td>38</td>\n",
       "      <td>primary education</td>\n",
       "      <td>3</td>\n",
       "      <td>civil partnership</td>\n",
       "      <td>1</td>\n",
       "      <td>F</td>\n",
       "      <td>employee</td>\n",
       "      <td>0</td>\n",
       "      <td>39176.153</td>\n",
       "      <td>having a wedding</td>\n",
       "      <td>2.103815</td>\n",
       "      <td>30-39</td>\n",
       "    </tr>\n",
       "    <tr>\n",
       "      <th>8843</th>\n",
       "      <td>0</td>\n",
       "      <td>3218.434996</td>\n",
       "      <td>31</td>\n",
       "      <td>primary education</td>\n",
       "      <td>3</td>\n",
       "      <td>civil partnership</td>\n",
       "      <td>1</td>\n",
       "      <td>M</td>\n",
       "      <td>employee</td>\n",
       "      <td>0</td>\n",
       "      <td>35829.406</td>\n",
       "      <td>wedding ceremony</td>\n",
       "      <td>8.817630</td>\n",
       "      <td>30-39</td>\n",
       "    </tr>\n",
       "    <tr>\n",
       "      <th>12309</th>\n",
       "      <td>0</td>\n",
       "      <td>313.762280</td>\n",
       "      <td>21</td>\n",
       "      <td>primary education</td>\n",
       "      <td>3</td>\n",
       "      <td>civil partnership</td>\n",
       "      <td>1</td>\n",
       "      <td>F</td>\n",
       "      <td>employee</td>\n",
       "      <td>0</td>\n",
       "      <td>17781.366</td>\n",
       "      <td>having a wedding</td>\n",
       "      <td>0.859623</td>\n",
       "      <td>20-29</td>\n",
       "    </tr>\n",
       "    <tr>\n",
       "      <th>13932</th>\n",
       "      <td>1</td>\n",
       "      <td>1938.133640</td>\n",
       "      <td>52</td>\n",
       "      <td>primary education</td>\n",
       "      <td>3</td>\n",
       "      <td>civil partnership</td>\n",
       "      <td>1</td>\n",
       "      <td>M</td>\n",
       "      <td>employee</td>\n",
       "      <td>0</td>\n",
       "      <td>6961.638</td>\n",
       "      <td>having a wedding</td>\n",
       "      <td>5.309955</td>\n",
       "      <td>50-59</td>\n",
       "    </tr>\n",
       "    <tr>\n",
       "      <th>14964</th>\n",
       "      <td>0</td>\n",
       "      <td>NaN</td>\n",
       "      <td>62</td>\n",
       "      <td>primary education</td>\n",
       "      <td>3</td>\n",
       "      <td>civil partnership</td>\n",
       "      <td>1</td>\n",
       "      <td>F</td>\n",
       "      <td>employee</td>\n",
       "      <td>0</td>\n",
       "      <td>26188.242</td>\n",
       "      <td>real estate transactions</td>\n",
       "      <td>NaN</td>\n",
       "      <td>60-69</td>\n",
       "    </tr>\n",
       "    <tr>\n",
       "      <th>18121</th>\n",
       "      <td>0</td>\n",
       "      <td>102.842797</td>\n",
       "      <td>39</td>\n",
       "      <td>primary education</td>\n",
       "      <td>3</td>\n",
       "      <td>civil partnership</td>\n",
       "      <td>1</td>\n",
       "      <td>M</td>\n",
       "      <td>employee</td>\n",
       "      <td>0</td>\n",
       "      <td>19538.312</td>\n",
       "      <td>purchase of a car</td>\n",
       "      <td>0.281761</td>\n",
       "      <td>30-39</td>\n",
       "    </tr>\n",
       "    <tr>\n",
       "      <th>18701</th>\n",
       "      <td>0</td>\n",
       "      <td>1835.480848</td>\n",
       "      <td>64</td>\n",
       "      <td>primary education</td>\n",
       "      <td>3</td>\n",
       "      <td>civil partnership</td>\n",
       "      <td>1</td>\n",
       "      <td>M</td>\n",
       "      <td>employee</td>\n",
       "      <td>0</td>\n",
       "      <td>12793.635</td>\n",
       "      <td>to have a wedding</td>\n",
       "      <td>5.028715</td>\n",
       "      <td>60-69</td>\n",
       "    </tr>\n",
       "    <tr>\n",
       "      <th>20162</th>\n",
       "      <td>0</td>\n",
       "      <td>777.665808</td>\n",
       "      <td>25</td>\n",
       "      <td>primary education</td>\n",
       "      <td>3</td>\n",
       "      <td>civil partnership</td>\n",
       "      <td>1</td>\n",
       "      <td>F</td>\n",
       "      <td>employee</td>\n",
       "      <td>0</td>\n",
       "      <td>65263.983</td>\n",
       "      <td>to have a wedding</td>\n",
       "      <td>2.130591</td>\n",
       "      <td>20-29</td>\n",
       "    </tr>\n",
       "    <tr>\n",
       "      <th>20354</th>\n",
       "      <td>1</td>\n",
       "      <td>1452.698328</td>\n",
       "      <td>40</td>\n",
       "      <td>primary education</td>\n",
       "      <td>3</td>\n",
       "      <td>civil partnership</td>\n",
       "      <td>1</td>\n",
       "      <td>F</td>\n",
       "      <td>employee</td>\n",
       "      <td>0</td>\n",
       "      <td>12478.261</td>\n",
       "      <td>getting an education</td>\n",
       "      <td>3.979995</td>\n",
       "      <td>40-49</td>\n",
       "    </tr>\n",
       "    <tr>\n",
       "      <th>21279</th>\n",
       "      <td>1</td>\n",
       "      <td>485.620542</td>\n",
       "      <td>46</td>\n",
       "      <td>primary education</td>\n",
       "      <td>3</td>\n",
       "      <td>civil partnership</td>\n",
       "      <td>1</td>\n",
       "      <td>F</td>\n",
       "      <td>employee</td>\n",
       "      <td>0</td>\n",
       "      <td>30678.137</td>\n",
       "      <td>getting higher education</td>\n",
       "      <td>1.330467</td>\n",
       "      <td>40-49</td>\n",
       "    </tr>\n",
       "    <tr>\n",
       "      <th>21310</th>\n",
       "      <td>2</td>\n",
       "      <td>2917.035232</td>\n",
       "      <td>38</td>\n",
       "      <td>primary education</td>\n",
       "      <td>3</td>\n",
       "      <td>civil partnership</td>\n",
       "      <td>1</td>\n",
       "      <td>F</td>\n",
       "      <td>employee</td>\n",
       "      <td>1</td>\n",
       "      <td>12386.81</td>\n",
       "      <td>real estate transactions</td>\n",
       "      <td>7.991877</td>\n",
       "      <td>30-39</td>\n",
       "    </tr>\n",
       "  </tbody>\n",
       "</table>\n",
       "</div>"
      ],
      "text/plain": [
       "       children  days_employed  dob_years          education  education_id  \\\n",
       "209           0     577.273434         41  primary education             3   \n",
       "269           0    5538.963731         35  primary education             3   \n",
       "299           2     259.737155         49  primary education             3   \n",
       "678           1     441.719273         35  primary education             3   \n",
       "1034          0    4586.047987         44  primary education             3   \n",
       "1296          1            NaN         70  primary education             3   \n",
       "1502          0            NaN         52  primary education             3   \n",
       "1763          0    3698.498260         26  primary education             3   \n",
       "2123          1    1846.381580         41  primary education             3   \n",
       "2490          3    1431.329690         35  primary education             3   \n",
       "2495          0    1395.620785         49  primary education             3   \n",
       "2990          0     467.845074         46  primary education             3   \n",
       "3323          1     643.819348         29  primary education             3   \n",
       "3915          0    1197.176853         29  primary education             3   \n",
       "4189          2    1259.458065         33  primary education             3   \n",
       "4561          1            NaN         58  primary education             3   \n",
       "6405          1    1600.234154         34  primary education             3   \n",
       "6660          1     607.074137         32  primary education             3   \n",
       "6861          1     250.846502         41  primary education             3   \n",
       "6929          1     815.944022         31  primary education             3   \n",
       "7994          0     767.892618         38  primary education             3   \n",
       "8843          0    3218.434996         31  primary education             3   \n",
       "12309         0     313.762280         21  primary education             3   \n",
       "13932         1    1938.133640         52  primary education             3   \n",
       "14964         0            NaN         62  primary education             3   \n",
       "18121         0     102.842797         39  primary education             3   \n",
       "18701         0    1835.480848         64  primary education             3   \n",
       "20162         0     777.665808         25  primary education             3   \n",
       "20354         1    1452.698328         40  primary education             3   \n",
       "21279         1     485.620542         46  primary education             3   \n",
       "21310         2    2917.035232         38  primary education             3   \n",
       "\n",
       "           family_status  family_status_id gender income_type  debt  \\\n",
       "209    civil partnership                 1      F    employee     0   \n",
       "269    civil partnership                 1      M    employee     1   \n",
       "299    civil partnership                 1      F    employee     0   \n",
       "678    civil partnership                 1      M    employee     0   \n",
       "1034   civil partnership                 1      F    employee     0   \n",
       "1296   civil partnership                 1      F    employee     0   \n",
       "1502   civil partnership                 1      M    employee     1   \n",
       "1763   civil partnership                 1      M    employee     0   \n",
       "2123   civil partnership                 1      M    employee     0   \n",
       "2490   civil partnership                 1      F    employee     0   \n",
       "2495   civil partnership                 1      M    employee     1   \n",
       "2990   civil partnership                 1      M    employee     0   \n",
       "3323   civil partnership                 1      M    employee     0   \n",
       "3915   civil partnership                 1      F    employee     1   \n",
       "4189   civil partnership                 1      F    employee     1   \n",
       "4561   civil partnership                 1      F    employee     0   \n",
       "6405   civil partnership                 1      F    employee     0   \n",
       "6660   civil partnership                 1      M    employee     0   \n",
       "6861   civil partnership                 1      F    employee     1   \n",
       "6929   civil partnership                 1      M    employee     1   \n",
       "7994   civil partnership                 1      F    employee     0   \n",
       "8843   civil partnership                 1      M    employee     0   \n",
       "12309  civil partnership                 1      F    employee     0   \n",
       "13932  civil partnership                 1      M    employee     0   \n",
       "14964  civil partnership                 1      F    employee     0   \n",
       "18121  civil partnership                 1      M    employee     0   \n",
       "18701  civil partnership                 1      M    employee     0   \n",
       "20162  civil partnership                 1      F    employee     0   \n",
       "20354  civil partnership                 1      F    employee     0   \n",
       "21279  civil partnership                 1      F    employee     0   \n",
       "21310  civil partnership                 1      F    employee     1   \n",
       "\n",
       "      total_income                                   purpose  \\\n",
       "209       5863.853                  second-hand car purchase   \n",
       "269      19810.253                        to become educated   \n",
       "299      31052.373                buy commercial real estate   \n",
       "678      34952.081                         to have a wedding   \n",
       "1034     14397.944                         to have a wedding   \n",
       "1296           NaN  transactions with commercial real estate   \n",
       "1502     14599.258              construction of own property   \n",
       "1763     27742.701                      university education   \n",
       "2123      25240.59                         to have a wedding   \n",
       "2490     19920.069                          wedding ceremony   \n",
       "2495     13868.073       purchase of the house for my family   \n",
       "2990     10383.129          transactions with my real estate   \n",
       "3323      36202.37                              to buy a car   \n",
       "3915     19507.164                buy commercial real estate   \n",
       "4189     18212.584                          having a wedding   \n",
       "4561     14599.258                      housing transactions   \n",
       "6405     23262.344                          wedding ceremony   \n",
       "6660     10533.332       purchase of the house for my family   \n",
       "6861     36563.806                         purchase of a car   \n",
       "6929      14933.75                          wedding ceremony   \n",
       "7994     39176.153                          having a wedding   \n",
       "8843     35829.406                          wedding ceremony   \n",
       "12309    17781.366                          having a wedding   \n",
       "13932     6961.638                          having a wedding   \n",
       "14964    26188.242                  real estate transactions   \n",
       "18121    19538.312                         purchase of a car   \n",
       "18701    12793.635                         to have a wedding   \n",
       "20162    65263.983                         to have a wedding   \n",
       "20354    12478.261                      getting an education   \n",
       "21279    30678.137                  getting higher education   \n",
       "21310     12386.81                  real estate transactions   \n",
       "\n",
       "       days_employed_year age_group  \n",
       "209              1.581571     40-49  \n",
       "269             15.175243     30-39  \n",
       "299              0.711609     40-49  \n",
       "678              1.210190     30-39  \n",
       "1034            12.564515     40-49  \n",
       "1296                  NaN       70+  \n",
       "1502                  NaN     50-59  \n",
       "1763            10.132872     20-29  \n",
       "2123             5.058580     40-49  \n",
       "2490             3.921451     30-39  \n",
       "2495             3.823619     40-49  \n",
       "2990             1.281767     40-49  \n",
       "3323             1.763889     20-29  \n",
       "3915             3.279937     20-29  \n",
       "4189             3.450570     30-39  \n",
       "4561                  NaN     50-59  \n",
       "6405             4.384203     30-39  \n",
       "6660             1.663217     30-39  \n",
       "6861             0.687251     40-49  \n",
       "6929             2.235463     30-39  \n",
       "7994             2.103815     30-39  \n",
       "8843             8.817630     30-39  \n",
       "12309            0.859623     20-29  \n",
       "13932            5.309955     50-59  \n",
       "14964                 NaN     60-69  \n",
       "18121            0.281761     30-39  \n",
       "18701            5.028715     60-69  \n",
       "20162            2.130591     20-29  \n",
       "20354            3.979995     40-49  \n",
       "21279            1.330467     40-49  \n",
       "21310            7.991877     30-39  "
      ]
     },
     "execution_count": 82,
     "metadata": {},
     "output_type": "execute_result"
    }
   ],
   "source": [
    "credit_score_depurada[(credit_score_depurada[\"education\"]==\"primary education\") & (credit_score_depurada[\"family_status\"]==\"civil partnership\")& (credit_score_depurada[\"income_type\"]==\"employee\")]"
   ]
  },
  {
   "cell_type": "code",
   "execution_count": 83,
   "metadata": {},
   "outputs": [
    {
     "data": {
      "text/html": [
       "<div>\n",
       "<style scoped>\n",
       "    .dataframe tbody tr th:only-of-type {\n",
       "        vertical-align: middle;\n",
       "    }\n",
       "\n",
       "    .dataframe tbody tr th {\n",
       "        vertical-align: top;\n",
       "    }\n",
       "\n",
       "    .dataframe thead th {\n",
       "        text-align: right;\n",
       "    }\n",
       "</style>\n",
       "<table border=\"1\" class=\"dataframe\">\n",
       "  <thead>\n",
       "    <tr style=\"text-align: right;\">\n",
       "      <th></th>\n",
       "      <th></th>\n",
       "      <th></th>\n",
       "      <th>count</th>\n",
       "      <th>unique</th>\n",
       "      <th>top</th>\n",
       "      <th>freq</th>\n",
       "    </tr>\n",
       "    <tr>\n",
       "      <th>education</th>\n",
       "      <th>family_status</th>\n",
       "      <th>gender</th>\n",
       "      <th></th>\n",
       "      <th></th>\n",
       "      <th></th>\n",
       "      <th></th>\n",
       "    </tr>\n",
       "  </thead>\n",
       "  <tbody>\n",
       "    <tr>\n",
       "      <th rowspan=\"10\" valign=\"top\">bachelor's degree</th>\n",
       "      <th rowspan=\"2\" valign=\"top\">civil partnership</th>\n",
       "      <th>F</th>\n",
       "      <td>680.0</td>\n",
       "      <td>623.0</td>\n",
       "      <td>32574.9760</td>\n",
       "      <td>9.0</td>\n",
       "    </tr>\n",
       "    <tr>\n",
       "      <th>M</th>\n",
       "      <td>267.0</td>\n",
       "      <td>249.0</td>\n",
       "      <td>26722.5325</td>\n",
       "      <td>9.0</td>\n",
       "    </tr>\n",
       "    <tr>\n",
       "      <th rowspan=\"2\" valign=\"top\">divorced</th>\n",
       "      <th>F</th>\n",
       "      <td>248.0</td>\n",
       "      <td>236.0</td>\n",
       "      <td>27427.6640</td>\n",
       "      <td>6.0</td>\n",
       "    </tr>\n",
       "    <tr>\n",
       "      <th>M</th>\n",
       "      <td>63.0</td>\n",
       "      <td>63.0</td>\n",
       "      <td>30849.5425</td>\n",
       "      <td>1.0</td>\n",
       "    </tr>\n",
       "    <tr>\n",
       "      <th rowspan=\"2\" valign=\"top\">married</th>\n",
       "      <th>F</th>\n",
       "      <td>1948.0</td>\n",
       "      <td>1767.0</td>\n",
       "      <td>26722.5325</td>\n",
       "      <td>32.0</td>\n",
       "    </tr>\n",
       "    <tr>\n",
       "      <th>M</th>\n",
       "      <td>1079.0</td>\n",
       "      <td>993.0</td>\n",
       "      <td>27427.6640</td>\n",
       "      <td>22.0</td>\n",
       "    </tr>\n",
       "    <tr>\n",
       "      <th rowspan=\"2\" valign=\"top\">unmarried</th>\n",
       "      <th>F</th>\n",
       "      <td>517.0</td>\n",
       "      <td>464.0</td>\n",
       "      <td>24030.5850</td>\n",
       "      <td>10.0</td>\n",
       "    </tr>\n",
       "    <tr>\n",
       "      <th>M</th>\n",
       "      <td>278.0</td>\n",
       "      <td>258.0</td>\n",
       "      <td>28250.2840</td>\n",
       "      <td>8.0</td>\n",
       "    </tr>\n",
       "    <tr>\n",
       "      <th rowspan=\"2\" valign=\"top\">widow / widower</th>\n",
       "      <th>F</th>\n",
       "      <td>123.0</td>\n",
       "      <td>117.0</td>\n",
       "      <td>22805.7985</td>\n",
       "      <td>3.0</td>\n",
       "    </tr>\n",
       "    <tr>\n",
       "      <th>M</th>\n",
       "      <td>12.0</td>\n",
       "      <td>12.0</td>\n",
       "      <td>55230.3080</td>\n",
       "      <td>1.0</td>\n",
       "    </tr>\n",
       "    <tr>\n",
       "      <th rowspan=\"4\" valign=\"top\">graduate degree</th>\n",
       "      <th>divorced</th>\n",
       "      <th>M</th>\n",
       "      <td>1.0</td>\n",
       "      <td>1.0</td>\n",
       "      <td>18551.8460</td>\n",
       "      <td>1.0</td>\n",
       "    </tr>\n",
       "    <tr>\n",
       "      <th rowspan=\"2\" valign=\"top\">married</th>\n",
       "      <th>F</th>\n",
       "      <td>2.0</td>\n",
       "      <td>2.0</td>\n",
       "      <td>40868.0310</td>\n",
       "      <td>1.0</td>\n",
       "    </tr>\n",
       "    <tr>\n",
       "      <th>M</th>\n",
       "      <td>2.0</td>\n",
       "      <td>2.0</td>\n",
       "      <td>15800.3990</td>\n",
       "      <td>1.0</td>\n",
       "    </tr>\n",
       "    <tr>\n",
       "      <th>unmarried</th>\n",
       "      <th>M</th>\n",
       "      <td>1.0</td>\n",
       "      <td>1.0</td>\n",
       "      <td>31771.3210</td>\n",
       "      <td>1.0</td>\n",
       "    </tr>\n",
       "    <tr>\n",
       "      <th rowspan=\"10\" valign=\"top\">primary education</th>\n",
       "      <th rowspan=\"2\" valign=\"top\">civil partnership</th>\n",
       "      <th>F</th>\n",
       "      <td>38.0</td>\n",
       "      <td>38.0</td>\n",
       "      <td>7745.5740</td>\n",
       "      <td>1.0</td>\n",
       "    </tr>\n",
       "    <tr>\n",
       "      <th>M</th>\n",
       "      <td>16.0</td>\n",
       "      <td>16.0</td>\n",
       "      <td>27119.0240</td>\n",
       "      <td>1.0</td>\n",
       "    </tr>\n",
       "    <tr>\n",
       "      <th rowspan=\"2\" valign=\"top\">divorced</th>\n",
       "      <th>F</th>\n",
       "      <td>15.0</td>\n",
       "      <td>15.0</td>\n",
       "      <td>17026.0580</td>\n",
       "      <td>1.0</td>\n",
       "    </tr>\n",
       "    <tr>\n",
       "      <th>M</th>\n",
       "      <td>5.0</td>\n",
       "      <td>5.0</td>\n",
       "      <td>40072.0120</td>\n",
       "      <td>1.0</td>\n",
       "    </tr>\n",
       "    <tr>\n",
       "      <th rowspan=\"2\" valign=\"top\">married</th>\n",
       "      <th>F</th>\n",
       "      <td>68.0</td>\n",
       "      <td>64.0</td>\n",
       "      <td>19546.3410</td>\n",
       "      <td>3.0</td>\n",
       "    </tr>\n",
       "    <tr>\n",
       "      <th>M</th>\n",
       "      <td>73.0</td>\n",
       "      <td>73.0</td>\n",
       "      <td>25553.2460</td>\n",
       "      <td>1.0</td>\n",
       "    </tr>\n",
       "    <tr>\n",
       "      <th rowspan=\"2\" valign=\"top\">unmarried</th>\n",
       "      <th>F</th>\n",
       "      <td>13.0</td>\n",
       "      <td>13.0</td>\n",
       "      <td>12320.6310</td>\n",
       "      <td>1.0</td>\n",
       "    </tr>\n",
       "    <tr>\n",
       "      <th>M</th>\n",
       "      <td>21.0</td>\n",
       "      <td>21.0</td>\n",
       "      <td>60576.9880</td>\n",
       "      <td>1.0</td>\n",
       "    </tr>\n",
       "    <tr>\n",
       "      <th rowspan=\"2\" valign=\"top\">widow / widower</th>\n",
       "      <th>F</th>\n",
       "      <td>27.0</td>\n",
       "      <td>26.0</td>\n",
       "      <td>16415.7850</td>\n",
       "      <td>2.0</td>\n",
       "    </tr>\n",
       "    <tr>\n",
       "      <th>M</th>\n",
       "      <td>4.0</td>\n",
       "      <td>4.0</td>\n",
       "      <td>18065.6980</td>\n",
       "      <td>1.0</td>\n",
       "    </tr>\n",
       "    <tr>\n",
       "      <th rowspan=\"10\" valign=\"top\">secondary education</th>\n",
       "      <th rowspan=\"2\" valign=\"top\">civil partnership</th>\n",
       "      <th>F</th>\n",
       "      <td>2002.0</td>\n",
       "      <td>1815.0</td>\n",
       "      <td>22217.0090</td>\n",
       "      <td>36.0</td>\n",
       "    </tr>\n",
       "    <tr>\n",
       "      <th>M</th>\n",
       "      <td>961.0</td>\n",
       "      <td>883.0</td>\n",
       "      <td>20192.6190</td>\n",
       "      <td>19.0</td>\n",
       "    </tr>\n",
       "    <tr>\n",
       "      <th rowspan=\"2\" valign=\"top\">divorced</th>\n",
       "      <th>F</th>\n",
       "      <td>642.0</td>\n",
       "      <td>584.0</td>\n",
       "      <td>22217.0090</td>\n",
       "      <td>16.0</td>\n",
       "    </tr>\n",
       "    <tr>\n",
       "      <th>M</th>\n",
       "      <td>180.0</td>\n",
       "      <td>177.0</td>\n",
       "      <td>22088.2215</td>\n",
       "      <td>2.0</td>\n",
       "    </tr>\n",
       "    <tr>\n",
       "      <th rowspan=\"2\" valign=\"top\">married</th>\n",
       "      <th>F</th>\n",
       "      <td>5493.0</td>\n",
       "      <td>4973.0</td>\n",
       "      <td>22217.0090</td>\n",
       "      <td>100.0</td>\n",
       "    </tr>\n",
       "    <tr>\n",
       "      <th>M</th>\n",
       "      <td>3284.0</td>\n",
       "      <td>2991.0</td>\n",
       "      <td>22088.2215</td>\n",
       "      <td>67.0</td>\n",
       "    </tr>\n",
       "    <tr>\n",
       "      <th rowspan=\"2\" valign=\"top\">unmarried</th>\n",
       "      <th>F</th>\n",
       "      <td>1089.0</td>\n",
       "      <td>997.0</td>\n",
       "      <td>22217.0090</td>\n",
       "      <td>16.0</td>\n",
       "    </tr>\n",
       "    <tr>\n",
       "      <th>M</th>\n",
       "      <td>682.0</td>\n",
       "      <td>634.0</td>\n",
       "      <td>20192.6190</td>\n",
       "      <td>17.0</td>\n",
       "    </tr>\n",
       "    <tr>\n",
       "      <th rowspan=\"2\" valign=\"top\">widow / widower</th>\n",
       "      <th>F</th>\n",
       "      <td>736.0</td>\n",
       "      <td>672.0</td>\n",
       "      <td>17943.5555</td>\n",
       "      <td>27.0</td>\n",
       "    </tr>\n",
       "    <tr>\n",
       "      <th>M</th>\n",
       "      <td>39.0</td>\n",
       "      <td>39.0</td>\n",
       "      <td>10176.0890</td>\n",
       "      <td>1.0</td>\n",
       "    </tr>\n",
       "    <tr>\n",
       "      <th rowspan=\"9\" valign=\"top\">some college</th>\n",
       "      <th rowspan=\"2\" valign=\"top\">civil partnership</th>\n",
       "      <th>F</th>\n",
       "      <td>107.0</td>\n",
       "      <td>106.0</td>\n",
       "      <td>26846.2815</td>\n",
       "      <td>2.0</td>\n",
       "    </tr>\n",
       "    <tr>\n",
       "      <th>M</th>\n",
       "      <td>56.0</td>\n",
       "      <td>54.0</td>\n",
       "      <td>21907.8130</td>\n",
       "      <td>2.0</td>\n",
       "    </tr>\n",
       "    <tr>\n",
       "      <th rowspan=\"2\" valign=\"top\">divorced</th>\n",
       "      <th>F</th>\n",
       "      <td>22.0</td>\n",
       "      <td>22.0</td>\n",
       "      <td>26913.8230</td>\n",
       "      <td>1.0</td>\n",
       "    </tr>\n",
       "    <tr>\n",
       "      <th>M</th>\n",
       "      <td>9.0</td>\n",
       "      <td>9.0</td>\n",
       "      <td>24208.1320</td>\n",
       "      <td>1.0</td>\n",
       "    </tr>\n",
       "    <tr>\n",
       "      <th rowspan=\"2\" valign=\"top\">married</th>\n",
       "      <th>F</th>\n",
       "      <td>215.0</td>\n",
       "      <td>208.0</td>\n",
       "      <td>17973.6230</td>\n",
       "      <td>3.0</td>\n",
       "    </tr>\n",
       "    <tr>\n",
       "      <th>M</th>\n",
       "      <td>126.0</td>\n",
       "      <td>121.0</td>\n",
       "      <td>21907.8130</td>\n",
       "      <td>3.0</td>\n",
       "    </tr>\n",
       "    <tr>\n",
       "      <th rowspan=\"2\" valign=\"top\">unmarried</th>\n",
       "      <th>F</th>\n",
       "      <td>102.0</td>\n",
       "      <td>97.0</td>\n",
       "      <td>25315.8330</td>\n",
       "      <td>3.0</td>\n",
       "    </tr>\n",
       "    <tr>\n",
       "      <th>M</th>\n",
       "      <td>91.0</td>\n",
       "      <td>88.0</td>\n",
       "      <td>21907.8130</td>\n",
       "      <td>3.0</td>\n",
       "    </tr>\n",
       "    <tr>\n",
       "      <th>widow / widower</th>\n",
       "      <th>F</th>\n",
       "      <td>13.0</td>\n",
       "      <td>13.0</td>\n",
       "      <td>23136.0940</td>\n",
       "      <td>1.0</td>\n",
       "    </tr>\n",
       "  </tbody>\n",
       "</table>\n",
       "</div>"
      ],
      "text/plain": [
       "                                               count  unique         top  \\\n",
       "education           family_status     gender                               \n",
       "bachelor's degree   civil partnership F        680.0   623.0  32574.9760   \n",
       "                                      M        267.0   249.0  26722.5325   \n",
       "                    divorced          F        248.0   236.0  27427.6640   \n",
       "                                      M         63.0    63.0  30849.5425   \n",
       "                    married           F       1948.0  1767.0  26722.5325   \n",
       "                                      M       1079.0   993.0  27427.6640   \n",
       "                    unmarried         F        517.0   464.0  24030.5850   \n",
       "                                      M        278.0   258.0  28250.2840   \n",
       "                    widow / widower   F        123.0   117.0  22805.7985   \n",
       "                                      M         12.0    12.0  55230.3080   \n",
       "graduate degree     divorced          M          1.0     1.0  18551.8460   \n",
       "                    married           F          2.0     2.0  40868.0310   \n",
       "                                      M          2.0     2.0  15800.3990   \n",
       "                    unmarried         M          1.0     1.0  31771.3210   \n",
       "primary education   civil partnership F         38.0    38.0   7745.5740   \n",
       "                                      M         16.0    16.0  27119.0240   \n",
       "                    divorced          F         15.0    15.0  17026.0580   \n",
       "                                      M          5.0     5.0  40072.0120   \n",
       "                    married           F         68.0    64.0  19546.3410   \n",
       "                                      M         73.0    73.0  25553.2460   \n",
       "                    unmarried         F         13.0    13.0  12320.6310   \n",
       "                                      M         21.0    21.0  60576.9880   \n",
       "                    widow / widower   F         27.0    26.0  16415.7850   \n",
       "                                      M          4.0     4.0  18065.6980   \n",
       "secondary education civil partnership F       2002.0  1815.0  22217.0090   \n",
       "                                      M        961.0   883.0  20192.6190   \n",
       "                    divorced          F        642.0   584.0  22217.0090   \n",
       "                                      M        180.0   177.0  22088.2215   \n",
       "                    married           F       5493.0  4973.0  22217.0090   \n",
       "                                      M       3284.0  2991.0  22088.2215   \n",
       "                    unmarried         F       1089.0   997.0  22217.0090   \n",
       "                                      M        682.0   634.0  20192.6190   \n",
       "                    widow / widower   F        736.0   672.0  17943.5555   \n",
       "                                      M         39.0    39.0  10176.0890   \n",
       "some college        civil partnership F        107.0   106.0  26846.2815   \n",
       "                                      M         56.0    54.0  21907.8130   \n",
       "                    divorced          F         22.0    22.0  26913.8230   \n",
       "                                      M          9.0     9.0  24208.1320   \n",
       "                    married           F        215.0   208.0  17973.6230   \n",
       "                                      M        126.0   121.0  21907.8130   \n",
       "                    unmarried         F        102.0    97.0  25315.8330   \n",
       "                                      M         91.0    88.0  21907.8130   \n",
       "                    widow / widower   F         13.0    13.0  23136.0940   \n",
       "\n",
       "                                               freq  \n",
       "education           family_status     gender         \n",
       "bachelor's degree   civil partnership F         9.0  \n",
       "                                      M         9.0  \n",
       "                    divorced          F         6.0  \n",
       "                                      M         1.0  \n",
       "                    married           F        32.0  \n",
       "                                      M        22.0  \n",
       "                    unmarried         F        10.0  \n",
       "                                      M         8.0  \n",
       "                    widow / widower   F         3.0  \n",
       "                                      M         1.0  \n",
       "graduate degree     divorced          M         1.0  \n",
       "                    married           F         1.0  \n",
       "                                      M         1.0  \n",
       "                    unmarried         M         1.0  \n",
       "primary education   civil partnership F         1.0  \n",
       "                                      M         1.0  \n",
       "                    divorced          F         1.0  \n",
       "                                      M         1.0  \n",
       "                    married           F         3.0  \n",
       "                                      M         1.0  \n",
       "                    unmarried         F         1.0  \n",
       "                                      M         1.0  \n",
       "                    widow / widower   F         2.0  \n",
       "                                      M         1.0  \n",
       "secondary education civil partnership F        36.0  \n",
       "                                      M        19.0  \n",
       "                    divorced          F        16.0  \n",
       "                                      M         2.0  \n",
       "                    married           F       100.0  \n",
       "                                      M        67.0  \n",
       "                    unmarried         F        16.0  \n",
       "                                      M        17.0  \n",
       "                    widow / widower   F        27.0  \n",
       "                                      M         1.0  \n",
       "some college        civil partnership F         2.0  \n",
       "                                      M         2.0  \n",
       "                    divorced          F         1.0  \n",
       "                                      M         1.0  \n",
       "                    married           F         3.0  \n",
       "                                      M         3.0  \n",
       "                    unmarried         F         3.0  \n",
       "                                      M         3.0  \n",
       "                    widow / widower   F         1.0  "
      ]
     },
     "execution_count": 83,
     "metadata": {},
     "output_type": "execute_result"
    }
   ],
   "source": [
    "x=credit_score_depurada.groupby([\"education\",\"family_status\",\"gender\"])[\"total_income\"]\n",
    "\n",
    "x.describe()"
   ]
  },
  {
   "cell_type": "code",
   "execution_count": 84,
   "metadata": {},
   "outputs": [],
   "source": [
    "credit_score_depurada[\"total_income\"] = credit_score_depurada[\"total_income\"].fillna(19546) "
   ]
  },
  {
   "cell_type": "code",
   "execution_count": 85,
   "metadata": {
    "scrolled": true
   },
   "outputs": [
    {
     "data": {
      "text/html": [
       "<div>\n",
       "<style scoped>\n",
       "    .dataframe tbody tr th:only-of-type {\n",
       "        vertical-align: middle;\n",
       "    }\n",
       "\n",
       "    .dataframe tbody tr th {\n",
       "        vertical-align: top;\n",
       "    }\n",
       "\n",
       "    .dataframe thead th {\n",
       "        text-align: right;\n",
       "    }\n",
       "</style>\n",
       "<table border=\"1\" class=\"dataframe\">\n",
       "  <thead>\n",
       "    <tr style=\"text-align: right;\">\n",
       "      <th></th>\n",
       "      <th>children</th>\n",
       "      <th>days_employed</th>\n",
       "      <th>dob_years</th>\n",
       "      <th>education</th>\n",
       "      <th>education_id</th>\n",
       "      <th>family_status</th>\n",
       "      <th>family_status_id</th>\n",
       "      <th>gender</th>\n",
       "      <th>income_type</th>\n",
       "      <th>debt</th>\n",
       "      <th>total_income</th>\n",
       "      <th>purpose</th>\n",
       "      <th>days_employed_year</th>\n",
       "      <th>age_group</th>\n",
       "    </tr>\n",
       "  </thead>\n",
       "  <tbody>\n",
       "  </tbody>\n",
       "</table>\n",
       "</div>"
      ],
      "text/plain": [
       "Empty DataFrame\n",
       "Columns: [children, days_employed, dob_years, education, education_id, family_status, family_status_id, gender, income_type, debt, total_income, purpose, days_employed_year, age_group]\n",
       "Index: []"
      ]
     },
     "execution_count": 85,
     "metadata": {},
     "output_type": "execute_result"
    }
   ],
   "source": [
    "credit_score_depurada[credit_score_depurada[\"total_income\"].isna()]"
   ]
  },
  {
   "cell_type": "code",
   "execution_count": 86,
   "metadata": {},
   "outputs": [
    {
     "name": "stdout",
     "output_type": "stream",
     "text": [
      "<class 'pandas.core.frame.DataFrame'>\n",
      "RangeIndex: 21352 entries, 0 to 21351\n",
      "Data columns (total 14 columns):\n",
      " #   Column              Non-Null Count  Dtype  \n",
      "---  ------              --------------  -----  \n",
      " 0   children            21352 non-null  int64  \n",
      " 1   days_employed       19259 non-null  float64\n",
      " 2   dob_years           21352 non-null  int64  \n",
      " 3   education           21352 non-null  object \n",
      " 4   education_id        21352 non-null  int64  \n",
      " 5   family_status       21352 non-null  object \n",
      " 6   family_status_id    21352 non-null  int64  \n",
      " 7   gender              21352 non-null  object \n",
      " 8   income_type         21352 non-null  object \n",
      " 9   debt                21352 non-null  int64  \n",
      " 10  total_income        21352 non-null  float64\n",
      " 11  purpose             21352 non-null  object \n",
      " 12  days_employed_year  19259 non-null  float64\n",
      " 13  age_group           21352 non-null  object \n",
      "dtypes: float64(3), int64(5), object(6)\n",
      "memory usage: 2.3+ MB\n"
     ]
    }
   ],
   "source": [
    "credit_score_depurada.info()"
   ]
  },
  {
   "cell_type": "markdown",
   "metadata": {},
   "source": [
    "###  Restaurar valores en `days_employed`"
   ]
  },
  {
   "cell_type": "code",
   "execution_count": 87,
   "metadata": {
    "pycharm": {
     "name": "#%%\n"
    }
   },
   "outputs": [
    {
     "data": {
      "text/html": [
       "<div>\n",
       "<style scoped>\n",
       "    .dataframe tbody tr th:only-of-type {\n",
       "        vertical-align: middle;\n",
       "    }\n",
       "\n",
       "    .dataframe tbody tr th {\n",
       "        vertical-align: top;\n",
       "    }\n",
       "\n",
       "    .dataframe thead th {\n",
       "        text-align: right;\n",
       "    }\n",
       "</style>\n",
       "<table border=\"1\" class=\"dataframe\">\n",
       "  <thead>\n",
       "    <tr style=\"text-align: right;\">\n",
       "      <th></th>\n",
       "      <th>education</th>\n",
       "      <th>bachelor's degree</th>\n",
       "      <th>graduate degree</th>\n",
       "      <th>primary education</th>\n",
       "      <th>secondary education</th>\n",
       "      <th>some college</th>\n",
       "    </tr>\n",
       "    <tr>\n",
       "      <th>income_type</th>\n",
       "      <th>age_group</th>\n",
       "      <th></th>\n",
       "      <th></th>\n",
       "      <th></th>\n",
       "      <th></th>\n",
       "      <th></th>\n",
       "    </tr>\n",
       "  </thead>\n",
       "  <tbody>\n",
       "    <tr>\n",
       "      <th rowspan=\"7\" valign=\"top\">business</th>\n",
       "      <th>0-19</th>\n",
       "      <td>NaN</td>\n",
       "      <td>NaN</td>\n",
       "      <td>NaN</td>\n",
       "      <td>0.882258</td>\n",
       "      <td>2.252321</td>\n",
       "    </tr>\n",
       "    <tr>\n",
       "      <th>20-29</th>\n",
       "      <td>2.452261</td>\n",
       "      <td>NaN</td>\n",
       "      <td>3.206764</td>\n",
       "      <td>2.560091</td>\n",
       "      <td>2.328803</td>\n",
       "    </tr>\n",
       "    <tr>\n",
       "      <th>30-39</th>\n",
       "      <td>3.903004</td>\n",
       "      <td>NaN</td>\n",
       "      <td>2.759914</td>\n",
       "      <td>4.503832</td>\n",
       "      <td>2.758134</td>\n",
       "    </tr>\n",
       "    <tr>\n",
       "      <th>40-49</th>\n",
       "      <td>5.215549</td>\n",
       "      <td>NaN</td>\n",
       "      <td>3.155163</td>\n",
       "      <td>5.142464</td>\n",
       "      <td>5.914160</td>\n",
       "    </tr>\n",
       "    <tr>\n",
       "      <th>50-59</th>\n",
       "      <td>5.339175</td>\n",
       "      <td>NaN</td>\n",
       "      <td>7.991539</td>\n",
       "      <td>5.655282</td>\n",
       "      <td>3.308985</td>\n",
       "    </tr>\n",
       "    <tr>\n",
       "      <th>60-69</th>\n",
       "      <td>7.057864</td>\n",
       "      <td>NaN</td>\n",
       "      <td>NaN</td>\n",
       "      <td>6.353784</td>\n",
       "      <td>0.975176</td>\n",
       "    </tr>\n",
       "    <tr>\n",
       "      <th>70+</th>\n",
       "      <td>27.654407</td>\n",
       "      <td>NaN</td>\n",
       "      <td>NaN</td>\n",
       "      <td>7.120496</td>\n",
       "      <td>NaN</td>\n",
       "    </tr>\n",
       "    <tr>\n",
       "      <th rowspan=\"7\" valign=\"top\">civil servant</th>\n",
       "      <th>0-19</th>\n",
       "      <td>NaN</td>\n",
       "      <td>NaN</td>\n",
       "      <td>NaN</td>\n",
       "      <td>NaN</td>\n",
       "      <td>1.397178</td>\n",
       "    </tr>\n",
       "    <tr>\n",
       "      <th>20-29</th>\n",
       "      <td>3.695247</td>\n",
       "      <td>NaN</td>\n",
       "      <td>2.084662</td>\n",
       "      <td>4.434381</td>\n",
       "      <td>3.519080</td>\n",
       "    </tr>\n",
       "    <tr>\n",
       "      <th>30-39</th>\n",
       "      <td>7.443608</td>\n",
       "      <td>16.350893</td>\n",
       "      <td>4.582558</td>\n",
       "      <td>6.901865</td>\n",
       "      <td>6.254232</td>\n",
       "    </tr>\n",
       "    <tr>\n",
       "      <th>40-49</th>\n",
       "      <td>10.594114</td>\n",
       "      <td>NaN</td>\n",
       "      <td>11.489640</td>\n",
       "      <td>8.911408</td>\n",
       "      <td>9.730437</td>\n",
       "    </tr>\n",
       "    <tr>\n",
       "      <th>50-59</th>\n",
       "      <td>11.376874</td>\n",
       "      <td>NaN</td>\n",
       "      <td>17.264522</td>\n",
       "      <td>9.751392</td>\n",
       "      <td>NaN</td>\n",
       "    </tr>\n",
       "    <tr>\n",
       "      <th>60-69</th>\n",
       "      <td>13.038365</td>\n",
       "      <td>NaN</td>\n",
       "      <td>NaN</td>\n",
       "      <td>8.238128</td>\n",
       "      <td>NaN</td>\n",
       "    </tr>\n",
       "    <tr>\n",
       "      <th>70+</th>\n",
       "      <td>16.508237</td>\n",
       "      <td>NaN</td>\n",
       "      <td>NaN</td>\n",
       "      <td>3.301156</td>\n",
       "      <td>NaN</td>\n",
       "    </tr>\n",
       "    <tr>\n",
       "      <th rowspan=\"7\" valign=\"top\">employee</th>\n",
       "      <th>0-19</th>\n",
       "      <td>NaN</td>\n",
       "      <td>NaN</td>\n",
       "      <td>NaN</td>\n",
       "      <td>2.173585</td>\n",
       "      <td>2.304455</td>\n",
       "    </tr>\n",
       "    <tr>\n",
       "      <th>20-29</th>\n",
       "      <td>2.789806</td>\n",
       "      <td>NaN</td>\n",
       "      <td>2.903577</td>\n",
       "      <td>2.785849</td>\n",
       "      <td>2.438845</td>\n",
       "    </tr>\n",
       "    <tr>\n",
       "      <th>30-39</th>\n",
       "      <td>4.091494</td>\n",
       "      <td>6.442279</td>\n",
       "      <td>2.985110</td>\n",
       "      <td>4.309552</td>\n",
       "      <td>3.392374</td>\n",
       "    </tr>\n",
       "    <tr>\n",
       "      <th>40-49</th>\n",
       "      <td>5.192394</td>\n",
       "      <td>1.121096</td>\n",
       "      <td>2.660976</td>\n",
       "      <td>5.324890</td>\n",
       "      <td>5.108864</td>\n",
       "    </tr>\n",
       "    <tr>\n",
       "      <th>50-59</th>\n",
       "      <td>7.120778</td>\n",
       "      <td>14.663118</td>\n",
       "      <td>5.309955</td>\n",
       "      <td>5.859997</td>\n",
       "      <td>6.857035</td>\n",
       "    </tr>\n",
       "    <tr>\n",
       "      <th>60-69</th>\n",
       "      <td>8.382006</td>\n",
       "      <td>NaN</td>\n",
       "      <td>11.001588</td>\n",
       "      <td>6.747296</td>\n",
       "      <td>9.299370</td>\n",
       "    </tr>\n",
       "    <tr>\n",
       "      <th>70+</th>\n",
       "      <td>NaN</td>\n",
       "      <td>NaN</td>\n",
       "      <td>NaN</td>\n",
       "      <td>4.123080</td>\n",
       "      <td>NaN</td>\n",
       "    </tr>\n",
       "    <tr>\n",
       "      <th>entrepreneur</th>\n",
       "      <th>20-29</th>\n",
       "      <td>1.426981</td>\n",
       "      <td>NaN</td>\n",
       "      <td>NaN</td>\n",
       "      <td>NaN</td>\n",
       "      <td>NaN</td>\n",
       "    </tr>\n",
       "    <tr>\n",
       "      <th>paternity / maternity leave</th>\n",
       "      <th>30-39</th>\n",
       "      <td>NaN</td>\n",
       "      <td>NaN</td>\n",
       "      <td>NaN</td>\n",
       "      <td>9.032219</td>\n",
       "      <td>NaN</td>\n",
       "    </tr>\n",
       "    <tr>\n",
       "      <th rowspan=\"6\" valign=\"top\">retiree</th>\n",
       "      <th>20-29</th>\n",
       "      <td>40.000000</td>\n",
       "      <td>NaN</td>\n",
       "      <td>NaN</td>\n",
       "      <td>40.000000</td>\n",
       "      <td>NaN</td>\n",
       "    </tr>\n",
       "    <tr>\n",
       "      <th>30-39</th>\n",
       "      <td>40.000000</td>\n",
       "      <td>NaN</td>\n",
       "      <td>40.000000</td>\n",
       "      <td>40.000000</td>\n",
       "      <td>NaN</td>\n",
       "    </tr>\n",
       "    <tr>\n",
       "      <th>40-49</th>\n",
       "      <td>40.000000</td>\n",
       "      <td>NaN</td>\n",
       "      <td>40.000000</td>\n",
       "      <td>40.000000</td>\n",
       "      <td>40.000000</td>\n",
       "    </tr>\n",
       "    <tr>\n",
       "      <th>50-59</th>\n",
       "      <td>40.000000</td>\n",
       "      <td>NaN</td>\n",
       "      <td>40.000000</td>\n",
       "      <td>40.000000</td>\n",
       "      <td>40.000000</td>\n",
       "    </tr>\n",
       "    <tr>\n",
       "      <th>60-69</th>\n",
       "      <td>40.000000</td>\n",
       "      <td>40.000000</td>\n",
       "      <td>40.000000</td>\n",
       "      <td>40.000000</td>\n",
       "      <td>40.000000</td>\n",
       "    </tr>\n",
       "    <tr>\n",
       "      <th>70+</th>\n",
       "      <td>40.000000</td>\n",
       "      <td>NaN</td>\n",
       "      <td>40.000000</td>\n",
       "      <td>40.000000</td>\n",
       "      <td>40.000000</td>\n",
       "    </tr>\n",
       "    <tr>\n",
       "      <th>student</th>\n",
       "      <th>20-29</th>\n",
       "      <td>1.585621</td>\n",
       "      <td>NaN</td>\n",
       "      <td>NaN</td>\n",
       "      <td>NaN</td>\n",
       "      <td>NaN</td>\n",
       "    </tr>\n",
       "    <tr>\n",
       "      <th rowspan=\"2\" valign=\"top\">unemployed</th>\n",
       "      <th>30-39</th>\n",
       "      <td>NaN</td>\n",
       "      <td>NaN</td>\n",
       "      <td>NaN</td>\n",
       "      <td>40.000000</td>\n",
       "      <td>NaN</td>\n",
       "    </tr>\n",
       "    <tr>\n",
       "      <th>40-49</th>\n",
       "      <td>40.000000</td>\n",
       "      <td>NaN</td>\n",
       "      <td>NaN</td>\n",
       "      <td>NaN</td>\n",
       "      <td>NaN</td>\n",
       "    </tr>\n",
       "  </tbody>\n",
       "</table>\n",
       "</div>"
      ],
      "text/plain": [
       "education                              bachelor's degree  graduate degree  \\\n",
       "income_type                 age_group                                       \n",
       "business                    0-19                     NaN              NaN   \n",
       "                            20-29               2.452261              NaN   \n",
       "                            30-39               3.903004              NaN   \n",
       "                            40-49               5.215549              NaN   \n",
       "                            50-59               5.339175              NaN   \n",
       "                            60-69               7.057864              NaN   \n",
       "                            70+                27.654407              NaN   \n",
       "civil servant               0-19                     NaN              NaN   \n",
       "                            20-29               3.695247              NaN   \n",
       "                            30-39               7.443608        16.350893   \n",
       "                            40-49              10.594114              NaN   \n",
       "                            50-59              11.376874              NaN   \n",
       "                            60-69              13.038365              NaN   \n",
       "                            70+                16.508237              NaN   \n",
       "employee                    0-19                     NaN              NaN   \n",
       "                            20-29               2.789806              NaN   \n",
       "                            30-39               4.091494         6.442279   \n",
       "                            40-49               5.192394         1.121096   \n",
       "                            50-59               7.120778        14.663118   \n",
       "                            60-69               8.382006              NaN   \n",
       "                            70+                      NaN              NaN   \n",
       "entrepreneur                20-29               1.426981              NaN   \n",
       "paternity / maternity leave 30-39                    NaN              NaN   \n",
       "retiree                     20-29              40.000000              NaN   \n",
       "                            30-39              40.000000              NaN   \n",
       "                            40-49              40.000000              NaN   \n",
       "                            50-59              40.000000              NaN   \n",
       "                            60-69              40.000000        40.000000   \n",
       "                            70+                40.000000              NaN   \n",
       "student                     20-29               1.585621              NaN   \n",
       "unemployed                  30-39                    NaN              NaN   \n",
       "                            40-49              40.000000              NaN   \n",
       "\n",
       "education                              primary education  secondary education  \\\n",
       "income_type                 age_group                                           \n",
       "business                    0-19                     NaN             0.882258   \n",
       "                            20-29               3.206764             2.560091   \n",
       "                            30-39               2.759914             4.503832   \n",
       "                            40-49               3.155163             5.142464   \n",
       "                            50-59               7.991539             5.655282   \n",
       "                            60-69                    NaN             6.353784   \n",
       "                            70+                      NaN             7.120496   \n",
       "civil servant               0-19                     NaN                  NaN   \n",
       "                            20-29               2.084662             4.434381   \n",
       "                            30-39               4.582558             6.901865   \n",
       "                            40-49              11.489640             8.911408   \n",
       "                            50-59              17.264522             9.751392   \n",
       "                            60-69                    NaN             8.238128   \n",
       "                            70+                      NaN             3.301156   \n",
       "employee                    0-19                     NaN             2.173585   \n",
       "                            20-29               2.903577             2.785849   \n",
       "                            30-39               2.985110             4.309552   \n",
       "                            40-49               2.660976             5.324890   \n",
       "                            50-59               5.309955             5.859997   \n",
       "                            60-69              11.001588             6.747296   \n",
       "                            70+                      NaN             4.123080   \n",
       "entrepreneur                20-29                    NaN                  NaN   \n",
       "paternity / maternity leave 30-39                    NaN             9.032219   \n",
       "retiree                     20-29                    NaN            40.000000   \n",
       "                            30-39              40.000000            40.000000   \n",
       "                            40-49              40.000000            40.000000   \n",
       "                            50-59              40.000000            40.000000   \n",
       "                            60-69              40.000000            40.000000   \n",
       "                            70+                40.000000            40.000000   \n",
       "student                     20-29                    NaN                  NaN   \n",
       "unemployed                  30-39                    NaN            40.000000   \n",
       "                            40-49                    NaN                  NaN   \n",
       "\n",
       "education                              some college  \n",
       "income_type                 age_group                \n",
       "business                    0-19           2.252321  \n",
       "                            20-29          2.328803  \n",
       "                            30-39          2.758134  \n",
       "                            40-49          5.914160  \n",
       "                            50-59          3.308985  \n",
       "                            60-69          0.975176  \n",
       "                            70+                 NaN  \n",
       "civil servant               0-19           1.397178  \n",
       "                            20-29          3.519080  \n",
       "                            30-39          6.254232  \n",
       "                            40-49          9.730437  \n",
       "                            50-59               NaN  \n",
       "                            60-69               NaN  \n",
       "                            70+                 NaN  \n",
       "employee                    0-19           2.304455  \n",
       "                            20-29          2.438845  \n",
       "                            30-39          3.392374  \n",
       "                            40-49          5.108864  \n",
       "                            50-59          6.857035  \n",
       "                            60-69          9.299370  \n",
       "                            70+                 NaN  \n",
       "entrepreneur                20-29               NaN  \n",
       "paternity / maternity leave 30-39               NaN  \n",
       "retiree                     20-29               NaN  \n",
       "                            30-39               NaN  \n",
       "                            40-49         40.000000  \n",
       "                            50-59         40.000000  \n",
       "                            60-69         40.000000  \n",
       "                            70+           40.000000  \n",
       "student                     20-29               NaN  \n",
       "unemployed                  30-39               NaN  \n",
       "                            40-49               NaN  "
      ]
     },
     "execution_count": 87,
     "metadata": {},
     "output_type": "execute_result"
    }
   ],
   "source": [
    "# Distribución de las medianas de `days_employed` en función de los parámetros identificados\n",
    "credit_score_depurada_median_days = credit_score_depurada_sin_ausentes.pivot_table(index=[\"income_type\", \"age_group\"], columns=\"education\", values=\"days_employed_year\", aggfunc=\"median\")\n",
    "credit_score_depurada_median_days\n",
    "\n"
   ]
  },
  {
   "cell_type": "code",
   "execution_count": 88,
   "metadata": {
    "scrolled": false
   },
   "outputs": [
    {
     "data": {
      "text/html": [
       "<div>\n",
       "<style scoped>\n",
       "    .dataframe tbody tr th:only-of-type {\n",
       "        vertical-align: middle;\n",
       "    }\n",
       "\n",
       "    .dataframe tbody tr th {\n",
       "        vertical-align: top;\n",
       "    }\n",
       "\n",
       "    .dataframe thead th {\n",
       "        text-align: right;\n",
       "    }\n",
       "</style>\n",
       "<table border=\"1\" class=\"dataframe\">\n",
       "  <thead>\n",
       "    <tr style=\"text-align: right;\">\n",
       "      <th></th>\n",
       "      <th>education</th>\n",
       "      <th>bachelor's degree</th>\n",
       "      <th>graduate degree</th>\n",
       "      <th>primary education</th>\n",
       "      <th>secondary education</th>\n",
       "      <th>some college</th>\n",
       "    </tr>\n",
       "    <tr>\n",
       "      <th>income_type</th>\n",
       "      <th>age_group</th>\n",
       "      <th></th>\n",
       "      <th></th>\n",
       "      <th></th>\n",
       "      <th></th>\n",
       "      <th></th>\n",
       "    </tr>\n",
       "  </thead>\n",
       "  <tbody>\n",
       "    <tr>\n",
       "      <th rowspan=\"7\" valign=\"top\">business</th>\n",
       "      <th>0-19</th>\n",
       "      <td>NaN</td>\n",
       "      <td>NaN</td>\n",
       "      <td>NaN</td>\n",
       "      <td>1.113298</td>\n",
       "      <td>2.252321</td>\n",
       "    </tr>\n",
       "    <tr>\n",
       "      <th>20-29</th>\n",
       "      <td>3.114009</td>\n",
       "      <td>NaN</td>\n",
       "      <td>2.946226</td>\n",
       "      <td>3.224145</td>\n",
       "      <td>2.687675</td>\n",
       "    </tr>\n",
       "    <tr>\n",
       "      <th>30-39</th>\n",
       "      <td>4.891928</td>\n",
       "      <td>NaN</td>\n",
       "      <td>4.452488</td>\n",
       "      <td>5.329870</td>\n",
       "      <td>3.954069</td>\n",
       "    </tr>\n",
       "    <tr>\n",
       "      <th>40-49</th>\n",
       "      <td>6.556057</td>\n",
       "      <td>NaN</td>\n",
       "      <td>5.684579</td>\n",
       "      <td>6.902526</td>\n",
       "      <td>6.957376</td>\n",
       "    </tr>\n",
       "    <tr>\n",
       "      <th>50-59</th>\n",
       "      <td>7.387624</td>\n",
       "      <td>NaN</td>\n",
       "      <td>12.384772</td>\n",
       "      <td>7.835268</td>\n",
       "      <td>4.067700</td>\n",
       "    </tr>\n",
       "    <tr>\n",
       "      <th>60-69</th>\n",
       "      <td>10.427148</td>\n",
       "      <td>NaN</td>\n",
       "      <td>NaN</td>\n",
       "      <td>9.121582</td>\n",
       "      <td>1.839101</td>\n",
       "    </tr>\n",
       "    <tr>\n",
       "      <th>70+</th>\n",
       "      <td>29.801598</td>\n",
       "      <td>NaN</td>\n",
       "      <td>NaN</td>\n",
       "      <td>7.942559</td>\n",
       "      <td>NaN</td>\n",
       "    </tr>\n",
       "    <tr>\n",
       "      <th rowspan=\"7\" valign=\"top\">civil servant</th>\n",
       "      <th>0-19</th>\n",
       "      <td>NaN</td>\n",
       "      <td>NaN</td>\n",
       "      <td>NaN</td>\n",
       "      <td>NaN</td>\n",
       "      <td>1.397178</td>\n",
       "    </tr>\n",
       "    <tr>\n",
       "      <th>20-29</th>\n",
       "      <td>4.147227</td>\n",
       "      <td>NaN</td>\n",
       "      <td>2.084662</td>\n",
       "      <td>4.790106</td>\n",
       "      <td>4.124460</td>\n",
       "    </tr>\n",
       "    <tr>\n",
       "      <th>30-39</th>\n",
       "      <td>7.844383</td>\n",
       "      <td>16.350893</td>\n",
       "      <td>4.582558</td>\n",
       "      <td>7.424216</td>\n",
       "      <td>6.686034</td>\n",
       "    </tr>\n",
       "    <tr>\n",
       "      <th>40-49</th>\n",
       "      <td>11.061510</td>\n",
       "      <td>NaN</td>\n",
       "      <td>11.489640</td>\n",
       "      <td>11.028131</td>\n",
       "      <td>11.468573</td>\n",
       "    </tr>\n",
       "    <tr>\n",
       "      <th>50-59</th>\n",
       "      <td>11.946563</td>\n",
       "      <td>NaN</td>\n",
       "      <td>17.264522</td>\n",
       "      <td>13.638200</td>\n",
       "      <td>NaN</td>\n",
       "    </tr>\n",
       "    <tr>\n",
       "      <th>60-69</th>\n",
       "      <td>14.187378</td>\n",
       "      <td>NaN</td>\n",
       "      <td>NaN</td>\n",
       "      <td>10.933363</td>\n",
       "      <td>NaN</td>\n",
       "    </tr>\n",
       "    <tr>\n",
       "      <th>70+</th>\n",
       "      <td>16.508237</td>\n",
       "      <td>NaN</td>\n",
       "      <td>NaN</td>\n",
       "      <td>3.301156</td>\n",
       "      <td>NaN</td>\n",
       "    </tr>\n",
       "    <tr>\n",
       "      <th rowspan=\"7\" valign=\"top\">employee</th>\n",
       "      <th>0-19</th>\n",
       "      <td>NaN</td>\n",
       "      <td>NaN</td>\n",
       "      <td>NaN</td>\n",
       "      <td>2.164046</td>\n",
       "      <td>2.304455</td>\n",
       "    </tr>\n",
       "    <tr>\n",
       "      <th>20-29</th>\n",
       "      <td>3.357814</td>\n",
       "      <td>NaN</td>\n",
       "      <td>3.607446</td>\n",
       "      <td>3.324169</td>\n",
       "      <td>2.810990</td>\n",
       "    </tr>\n",
       "    <tr>\n",
       "      <th>30-39</th>\n",
       "      <td>5.518552</td>\n",
       "      <td>6.442279</td>\n",
       "      <td>4.746215</td>\n",
       "      <td>5.587898</td>\n",
       "      <td>4.235560</td>\n",
       "    </tr>\n",
       "    <tr>\n",
       "      <th>40-49</th>\n",
       "      <td>7.227097</td>\n",
       "      <td>1.121096</td>\n",
       "      <td>4.599079</td>\n",
       "      <td>7.425870</td>\n",
       "      <td>5.870247</td>\n",
       "    </tr>\n",
       "    <tr>\n",
       "      <th>50-59</th>\n",
       "      <td>9.717309</td>\n",
       "      <td>14.663118</td>\n",
       "      <td>6.667674</td>\n",
       "      <td>8.768488</td>\n",
       "      <td>9.363087</td>\n",
       "    </tr>\n",
       "    <tr>\n",
       "      <th>60-69</th>\n",
       "      <td>12.034690</td>\n",
       "      <td>NaN</td>\n",
       "      <td>10.133650</td>\n",
       "      <td>10.172155</td>\n",
       "      <td>11.213150</td>\n",
       "    </tr>\n",
       "    <tr>\n",
       "      <th>70+</th>\n",
       "      <td>NaN</td>\n",
       "      <td>NaN</td>\n",
       "      <td>NaN</td>\n",
       "      <td>9.070387</td>\n",
       "      <td>NaN</td>\n",
       "    </tr>\n",
       "    <tr>\n",
       "      <th>entrepreneur</th>\n",
       "      <th>20-29</th>\n",
       "      <td>1.426981</td>\n",
       "      <td>NaN</td>\n",
       "      <td>NaN</td>\n",
       "      <td>NaN</td>\n",
       "      <td>NaN</td>\n",
       "    </tr>\n",
       "    <tr>\n",
       "      <th>paternity / maternity leave</th>\n",
       "      <th>30-39</th>\n",
       "      <td>NaN</td>\n",
       "      <td>NaN</td>\n",
       "      <td>NaN</td>\n",
       "      <td>9.032219</td>\n",
       "      <td>NaN</td>\n",
       "    </tr>\n",
       "    <tr>\n",
       "      <th rowspan=\"6\" valign=\"top\">retiree</th>\n",
       "      <th>20-29</th>\n",
       "      <td>40.000000</td>\n",
       "      <td>NaN</td>\n",
       "      <td>NaN</td>\n",
       "      <td>40.000000</td>\n",
       "      <td>NaN</td>\n",
       "    </tr>\n",
       "    <tr>\n",
       "      <th>30-39</th>\n",
       "      <td>40.000000</td>\n",
       "      <td>NaN</td>\n",
       "      <td>40.000000</td>\n",
       "      <td>40.000000</td>\n",
       "      <td>NaN</td>\n",
       "    </tr>\n",
       "    <tr>\n",
       "      <th>40-49</th>\n",
       "      <td>40.000000</td>\n",
       "      <td>NaN</td>\n",
       "      <td>40.000000</td>\n",
       "      <td>40.000000</td>\n",
       "      <td>40.000000</td>\n",
       "    </tr>\n",
       "    <tr>\n",
       "      <th>50-59</th>\n",
       "      <td>40.000000</td>\n",
       "      <td>NaN</td>\n",
       "      <td>40.000000</td>\n",
       "      <td>40.000000</td>\n",
       "      <td>40.000000</td>\n",
       "    </tr>\n",
       "    <tr>\n",
       "      <th>60-69</th>\n",
       "      <td>40.000000</td>\n",
       "      <td>40.000000</td>\n",
       "      <td>40.000000</td>\n",
       "      <td>40.000000</td>\n",
       "      <td>40.000000</td>\n",
       "    </tr>\n",
       "    <tr>\n",
       "      <th>70+</th>\n",
       "      <td>40.000000</td>\n",
       "      <td>NaN</td>\n",
       "      <td>40.000000</td>\n",
       "      <td>40.000000</td>\n",
       "      <td>40.000000</td>\n",
       "    </tr>\n",
       "    <tr>\n",
       "      <th>student</th>\n",
       "      <th>20-29</th>\n",
       "      <td>1.585621</td>\n",
       "      <td>NaN</td>\n",
       "      <td>NaN</td>\n",
       "      <td>NaN</td>\n",
       "      <td>NaN</td>\n",
       "    </tr>\n",
       "    <tr>\n",
       "      <th rowspan=\"2\" valign=\"top\">unemployed</th>\n",
       "      <th>30-39</th>\n",
       "      <td>NaN</td>\n",
       "      <td>NaN</td>\n",
       "      <td>NaN</td>\n",
       "      <td>40.000000</td>\n",
       "      <td>NaN</td>\n",
       "    </tr>\n",
       "    <tr>\n",
       "      <th>40-49</th>\n",
       "      <td>40.000000</td>\n",
       "      <td>NaN</td>\n",
       "      <td>NaN</td>\n",
       "      <td>NaN</td>\n",
       "      <td>NaN</td>\n",
       "    </tr>\n",
       "  </tbody>\n",
       "</table>\n",
       "</div>"
      ],
      "text/plain": [
       "education                              bachelor's degree  graduate degree  \\\n",
       "income_type                 age_group                                       \n",
       "business                    0-19                     NaN              NaN   \n",
       "                            20-29               3.114009              NaN   \n",
       "                            30-39               4.891928              NaN   \n",
       "                            40-49               6.556057              NaN   \n",
       "                            50-59               7.387624              NaN   \n",
       "                            60-69              10.427148              NaN   \n",
       "                            70+                29.801598              NaN   \n",
       "civil servant               0-19                     NaN              NaN   \n",
       "                            20-29               4.147227              NaN   \n",
       "                            30-39               7.844383        16.350893   \n",
       "                            40-49              11.061510              NaN   \n",
       "                            50-59              11.946563              NaN   \n",
       "                            60-69              14.187378              NaN   \n",
       "                            70+                16.508237              NaN   \n",
       "employee                    0-19                     NaN              NaN   \n",
       "                            20-29               3.357814              NaN   \n",
       "                            30-39               5.518552         6.442279   \n",
       "                            40-49               7.227097         1.121096   \n",
       "                            50-59               9.717309        14.663118   \n",
       "                            60-69              12.034690              NaN   \n",
       "                            70+                      NaN              NaN   \n",
       "entrepreneur                20-29               1.426981              NaN   \n",
       "paternity / maternity leave 30-39                    NaN              NaN   \n",
       "retiree                     20-29              40.000000              NaN   \n",
       "                            30-39              40.000000              NaN   \n",
       "                            40-49              40.000000              NaN   \n",
       "                            50-59              40.000000              NaN   \n",
       "                            60-69              40.000000        40.000000   \n",
       "                            70+                40.000000              NaN   \n",
       "student                     20-29               1.585621              NaN   \n",
       "unemployed                  30-39                    NaN              NaN   \n",
       "                            40-49              40.000000              NaN   \n",
       "\n",
       "education                              primary education  secondary education  \\\n",
       "income_type                 age_group                                           \n",
       "business                    0-19                     NaN             1.113298   \n",
       "                            20-29               2.946226             3.224145   \n",
       "                            30-39               4.452488             5.329870   \n",
       "                            40-49               5.684579             6.902526   \n",
       "                            50-59              12.384772             7.835268   \n",
       "                            60-69                    NaN             9.121582   \n",
       "                            70+                      NaN             7.942559   \n",
       "civil servant               0-19                     NaN                  NaN   \n",
       "                            20-29               2.084662             4.790106   \n",
       "                            30-39               4.582558             7.424216   \n",
       "                            40-49              11.489640            11.028131   \n",
       "                            50-59              17.264522            13.638200   \n",
       "                            60-69                    NaN            10.933363   \n",
       "                            70+                      NaN             3.301156   \n",
       "employee                    0-19                     NaN             2.164046   \n",
       "                            20-29               3.607446             3.324169   \n",
       "                            30-39               4.746215             5.587898   \n",
       "                            40-49               4.599079             7.425870   \n",
       "                            50-59               6.667674             8.768488   \n",
       "                            60-69              10.133650            10.172155   \n",
       "                            70+                      NaN             9.070387   \n",
       "entrepreneur                20-29                    NaN                  NaN   \n",
       "paternity / maternity leave 30-39                    NaN             9.032219   \n",
       "retiree                     20-29                    NaN            40.000000   \n",
       "                            30-39              40.000000            40.000000   \n",
       "                            40-49              40.000000            40.000000   \n",
       "                            50-59              40.000000            40.000000   \n",
       "                            60-69              40.000000            40.000000   \n",
       "                            70+                40.000000            40.000000   \n",
       "student                     20-29                    NaN                  NaN   \n",
       "unemployed                  30-39                    NaN            40.000000   \n",
       "                            40-49                    NaN                  NaN   \n",
       "\n",
       "education                              some college  \n",
       "income_type                 age_group                \n",
       "business                    0-19           2.252321  \n",
       "                            20-29          2.687675  \n",
       "                            30-39          3.954069  \n",
       "                            40-49          6.957376  \n",
       "                            50-59          4.067700  \n",
       "                            60-69          1.839101  \n",
       "                            70+                 NaN  \n",
       "civil servant               0-19           1.397178  \n",
       "                            20-29          4.124460  \n",
       "                            30-39          6.686034  \n",
       "                            40-49         11.468573  \n",
       "                            50-59               NaN  \n",
       "                            60-69               NaN  \n",
       "                            70+                 NaN  \n",
       "employee                    0-19           2.304455  \n",
       "                            20-29          2.810990  \n",
       "                            30-39          4.235560  \n",
       "                            40-49          5.870247  \n",
       "                            50-59          9.363087  \n",
       "                            60-69         11.213150  \n",
       "                            70+                 NaN  \n",
       "entrepreneur                20-29               NaN  \n",
       "paternity / maternity leave 30-39               NaN  \n",
       "retiree                     20-29               NaN  \n",
       "                            30-39               NaN  \n",
       "                            40-49         40.000000  \n",
       "                            50-59         40.000000  \n",
       "                            60-69         40.000000  \n",
       "                            70+           40.000000  \n",
       "student                     20-29               NaN  \n",
       "unemployed                  30-39               NaN  \n",
       "                            40-49               NaN  "
      ]
     },
     "execution_count": 88,
     "metadata": {},
     "output_type": "execute_result"
    }
   ],
   "source": [
    "# Distribución de las medias de `days_employed` en función de los parámetros identificados\n",
    "credit_score_depurada_mean_days = credit_score_depurada_sin_ausentes.pivot_table(index=[\"income_type\", \"age_group\"], columns=\"education\", values=\"days_employed_year\", aggfunc=\"mean\")\n",
    "credit_score_depurada_mean_days"
   ]
  },
  {
   "cell_type": "code",
   "execution_count": 89,
   "metadata": {},
   "outputs": [
    {
     "data": {
      "text/html": [
       "<div>\n",
       "<style scoped>\n",
       "    .dataframe tbody tr th:only-of-type {\n",
       "        vertical-align: middle;\n",
       "    }\n",
       "\n",
       "    .dataframe tbody tr th {\n",
       "        vertical-align: top;\n",
       "    }\n",
       "\n",
       "    .dataframe thead th {\n",
       "        text-align: right;\n",
       "    }\n",
       "</style>\n",
       "<table border=\"1\" class=\"dataframe\">\n",
       "  <thead>\n",
       "    <tr style=\"text-align: right;\">\n",
       "      <th></th>\n",
       "      <th>education</th>\n",
       "      <th>bachelor's degree</th>\n",
       "      <th>graduate degree</th>\n",
       "      <th>primary education</th>\n",
       "      <th>secondary education</th>\n",
       "      <th>some college</th>\n",
       "    </tr>\n",
       "    <tr>\n",
       "      <th>income_type</th>\n",
       "      <th>age_group</th>\n",
       "      <th></th>\n",
       "      <th></th>\n",
       "      <th></th>\n",
       "      <th></th>\n",
       "      <th></th>\n",
       "    </tr>\n",
       "  </thead>\n",
       "  <tbody>\n",
       "    <tr>\n",
       "      <th rowspan=\"7\" valign=\"top\">business</th>\n",
       "      <th>0-19</th>\n",
       "      <td>NaN</td>\n",
       "      <td>NaN</td>\n",
       "      <td>NaN</td>\n",
       "      <td>1.261874</td>\n",
       "      <td>1.000000</td>\n",
       "    </tr>\n",
       "    <tr>\n",
       "      <th>20-29</th>\n",
       "      <td>1.269852</td>\n",
       "      <td>NaN</td>\n",
       "      <td>0.918754</td>\n",
       "      <td>1.259387</td>\n",
       "      <td>1.154102</td>\n",
       "    </tr>\n",
       "    <tr>\n",
       "      <th>30-39</th>\n",
       "      <td>1.253375</td>\n",
       "      <td>NaN</td>\n",
       "      <td>1.613271</td>\n",
       "      <td>1.183408</td>\n",
       "      <td>1.433603</td>\n",
       "    </tr>\n",
       "    <tr>\n",
       "      <th>40-49</th>\n",
       "      <td>1.257021</td>\n",
       "      <td>NaN</td>\n",
       "      <td>1.801675</td>\n",
       "      <td>1.342261</td>\n",
       "      <td>1.176393</td>\n",
       "    </tr>\n",
       "    <tr>\n",
       "      <th>50-59</th>\n",
       "      <td>1.383664</td>\n",
       "      <td>NaN</td>\n",
       "      <td>1.549736</td>\n",
       "      <td>1.385478</td>\n",
       "      <td>1.229289</td>\n",
       "    </tr>\n",
       "    <tr>\n",
       "      <th>60-69</th>\n",
       "      <td>1.477380</td>\n",
       "      <td>NaN</td>\n",
       "      <td>NaN</td>\n",
       "      <td>1.435614</td>\n",
       "      <td>1.885918</td>\n",
       "    </tr>\n",
       "    <tr>\n",
       "      <th>70+</th>\n",
       "      <td>1.077644</td>\n",
       "      <td>NaN</td>\n",
       "      <td>NaN</td>\n",
       "      <td>1.115450</td>\n",
       "      <td>NaN</td>\n",
       "    </tr>\n",
       "    <tr>\n",
       "      <th rowspan=\"7\" valign=\"top\">civil servant</th>\n",
       "      <th>0-19</th>\n",
       "      <td>NaN</td>\n",
       "      <td>NaN</td>\n",
       "      <td>NaN</td>\n",
       "      <td>NaN</td>\n",
       "      <td>1.000000</td>\n",
       "    </tr>\n",
       "    <tr>\n",
       "      <th>20-29</th>\n",
       "      <td>1.122314</td>\n",
       "      <td>NaN</td>\n",
       "      <td>1.000000</td>\n",
       "      <td>1.080220</td>\n",
       "      <td>1.172028</td>\n",
       "    </tr>\n",
       "    <tr>\n",
       "      <th>30-39</th>\n",
       "      <td>1.053842</td>\n",
       "      <td>1.0</td>\n",
       "      <td>1.000000</td>\n",
       "      <td>1.075683</td>\n",
       "      <td>1.069042</td>\n",
       "    </tr>\n",
       "    <tr>\n",
       "      <th>40-49</th>\n",
       "      <td>1.044118</td>\n",
       "      <td>NaN</td>\n",
       "      <td>1.000000</td>\n",
       "      <td>1.237530</td>\n",
       "      <td>1.178629</td>\n",
       "    </tr>\n",
       "    <tr>\n",
       "      <th>50-59</th>\n",
       "      <td>1.050074</td>\n",
       "      <td>NaN</td>\n",
       "      <td>1.000000</td>\n",
       "      <td>1.398590</td>\n",
       "      <td>NaN</td>\n",
       "    </tr>\n",
       "    <tr>\n",
       "      <th>60-69</th>\n",
       "      <td>1.088126</td>\n",
       "      <td>NaN</td>\n",
       "      <td>NaN</td>\n",
       "      <td>1.327166</td>\n",
       "      <td>NaN</td>\n",
       "    </tr>\n",
       "    <tr>\n",
       "      <th>70+</th>\n",
       "      <td>1.000000</td>\n",
       "      <td>NaN</td>\n",
       "      <td>NaN</td>\n",
       "      <td>1.000000</td>\n",
       "      <td>NaN</td>\n",
       "    </tr>\n",
       "    <tr>\n",
       "      <th rowspan=\"7\" valign=\"top\">employee</th>\n",
       "      <th>0-19</th>\n",
       "      <td>NaN</td>\n",
       "      <td>NaN</td>\n",
       "      <td>NaN</td>\n",
       "      <td>0.995611</td>\n",
       "      <td>1.000000</td>\n",
       "    </tr>\n",
       "    <tr>\n",
       "      <th>20-29</th>\n",
       "      <td>1.203601</td>\n",
       "      <td>NaN</td>\n",
       "      <td>1.242414</td>\n",
       "      <td>1.193234</td>\n",
       "      <td>1.152591</td>\n",
       "    </tr>\n",
       "    <tr>\n",
       "      <th>30-39</th>\n",
       "      <td>1.348786</td>\n",
       "      <td>1.0</td>\n",
       "      <td>1.589963</td>\n",
       "      <td>1.296631</td>\n",
       "      <td>1.248553</td>\n",
       "    </tr>\n",
       "    <tr>\n",
       "      <th>40-49</th>\n",
       "      <td>1.391862</td>\n",
       "      <td>1.0</td>\n",
       "      <td>1.728343</td>\n",
       "      <td>1.394558</td>\n",
       "      <td>1.149032</td>\n",
       "    </tr>\n",
       "    <tr>\n",
       "      <th>50-59</th>\n",
       "      <td>1.364641</td>\n",
       "      <td>1.0</td>\n",
       "      <td>1.255693</td>\n",
       "      <td>1.496330</td>\n",
       "      <td>1.365472</td>\n",
       "    </tr>\n",
       "    <tr>\n",
       "      <th>60-69</th>\n",
       "      <td>1.435777</td>\n",
       "      <td>NaN</td>\n",
       "      <td>0.921108</td>\n",
       "      <td>1.507590</td>\n",
       "      <td>1.205797</td>\n",
       "    </tr>\n",
       "    <tr>\n",
       "      <th>70+</th>\n",
       "      <td>NaN</td>\n",
       "      <td>NaN</td>\n",
       "      <td>NaN</td>\n",
       "      <td>2.199906</td>\n",
       "      <td>NaN</td>\n",
       "    </tr>\n",
       "    <tr>\n",
       "      <th>entrepreneur</th>\n",
       "      <th>20-29</th>\n",
       "      <td>1.000000</td>\n",
       "      <td>NaN</td>\n",
       "      <td>NaN</td>\n",
       "      <td>NaN</td>\n",
       "      <td>NaN</td>\n",
       "    </tr>\n",
       "    <tr>\n",
       "      <th>paternity / maternity leave</th>\n",
       "      <th>30-39</th>\n",
       "      <td>NaN</td>\n",
       "      <td>NaN</td>\n",
       "      <td>NaN</td>\n",
       "      <td>1.000000</td>\n",
       "      <td>NaN</td>\n",
       "    </tr>\n",
       "    <tr>\n",
       "      <th rowspan=\"6\" valign=\"top\">retiree</th>\n",
       "      <th>20-29</th>\n",
       "      <td>1.000000</td>\n",
       "      <td>NaN</td>\n",
       "      <td>NaN</td>\n",
       "      <td>1.000000</td>\n",
       "      <td>NaN</td>\n",
       "    </tr>\n",
       "    <tr>\n",
       "      <th>30-39</th>\n",
       "      <td>1.000000</td>\n",
       "      <td>NaN</td>\n",
       "      <td>1.000000</td>\n",
       "      <td>1.000000</td>\n",
       "      <td>NaN</td>\n",
       "    </tr>\n",
       "    <tr>\n",
       "      <th>40-49</th>\n",
       "      <td>1.000000</td>\n",
       "      <td>NaN</td>\n",
       "      <td>1.000000</td>\n",
       "      <td>1.000000</td>\n",
       "      <td>1.000000</td>\n",
       "    </tr>\n",
       "    <tr>\n",
       "      <th>50-59</th>\n",
       "      <td>1.000000</td>\n",
       "      <td>NaN</td>\n",
       "      <td>1.000000</td>\n",
       "      <td>1.000000</td>\n",
       "      <td>1.000000</td>\n",
       "    </tr>\n",
       "    <tr>\n",
       "      <th>60-69</th>\n",
       "      <td>1.000000</td>\n",
       "      <td>1.0</td>\n",
       "      <td>1.000000</td>\n",
       "      <td>1.000000</td>\n",
       "      <td>1.000000</td>\n",
       "    </tr>\n",
       "    <tr>\n",
       "      <th>70+</th>\n",
       "      <td>1.000000</td>\n",
       "      <td>NaN</td>\n",
       "      <td>1.000000</td>\n",
       "      <td>1.000000</td>\n",
       "      <td>1.000000</td>\n",
       "    </tr>\n",
       "    <tr>\n",
       "      <th>student</th>\n",
       "      <th>20-29</th>\n",
       "      <td>1.000000</td>\n",
       "      <td>NaN</td>\n",
       "      <td>NaN</td>\n",
       "      <td>NaN</td>\n",
       "      <td>NaN</td>\n",
       "    </tr>\n",
       "    <tr>\n",
       "      <th rowspan=\"2\" valign=\"top\">unemployed</th>\n",
       "      <th>30-39</th>\n",
       "      <td>NaN</td>\n",
       "      <td>NaN</td>\n",
       "      <td>NaN</td>\n",
       "      <td>1.000000</td>\n",
       "      <td>NaN</td>\n",
       "    </tr>\n",
       "    <tr>\n",
       "      <th>40-49</th>\n",
       "      <td>1.000000</td>\n",
       "      <td>NaN</td>\n",
       "      <td>NaN</td>\n",
       "      <td>NaN</td>\n",
       "      <td>NaN</td>\n",
       "    </tr>\n",
       "  </tbody>\n",
       "</table>\n",
       "</div>"
      ],
      "text/plain": [
       "education                              bachelor's degree  graduate degree  \\\n",
       "income_type                 age_group                                       \n",
       "business                    0-19                     NaN              NaN   \n",
       "                            20-29               1.269852              NaN   \n",
       "                            30-39               1.253375              NaN   \n",
       "                            40-49               1.257021              NaN   \n",
       "                            50-59               1.383664              NaN   \n",
       "                            60-69               1.477380              NaN   \n",
       "                            70+                 1.077644              NaN   \n",
       "civil servant               0-19                     NaN              NaN   \n",
       "                            20-29               1.122314              NaN   \n",
       "                            30-39               1.053842              1.0   \n",
       "                            40-49               1.044118              NaN   \n",
       "                            50-59               1.050074              NaN   \n",
       "                            60-69               1.088126              NaN   \n",
       "                            70+                 1.000000              NaN   \n",
       "employee                    0-19                     NaN              NaN   \n",
       "                            20-29               1.203601              NaN   \n",
       "                            30-39               1.348786              1.0   \n",
       "                            40-49               1.391862              1.0   \n",
       "                            50-59               1.364641              1.0   \n",
       "                            60-69               1.435777              NaN   \n",
       "                            70+                      NaN              NaN   \n",
       "entrepreneur                20-29               1.000000              NaN   \n",
       "paternity / maternity leave 30-39                    NaN              NaN   \n",
       "retiree                     20-29               1.000000              NaN   \n",
       "                            30-39               1.000000              NaN   \n",
       "                            40-49               1.000000              NaN   \n",
       "                            50-59               1.000000              NaN   \n",
       "                            60-69               1.000000              1.0   \n",
       "                            70+                 1.000000              NaN   \n",
       "student                     20-29               1.000000              NaN   \n",
       "unemployed                  30-39                    NaN              NaN   \n",
       "                            40-49               1.000000              NaN   \n",
       "\n",
       "education                              primary education  secondary education  \\\n",
       "income_type                 age_group                                           \n",
       "business                    0-19                     NaN             1.261874   \n",
       "                            20-29               0.918754             1.259387   \n",
       "                            30-39               1.613271             1.183408   \n",
       "                            40-49               1.801675             1.342261   \n",
       "                            50-59               1.549736             1.385478   \n",
       "                            60-69                    NaN             1.435614   \n",
       "                            70+                      NaN             1.115450   \n",
       "civil servant               0-19                     NaN                  NaN   \n",
       "                            20-29               1.000000             1.080220   \n",
       "                            30-39               1.000000             1.075683   \n",
       "                            40-49               1.000000             1.237530   \n",
       "                            50-59               1.000000             1.398590   \n",
       "                            60-69                    NaN             1.327166   \n",
       "                            70+                      NaN             1.000000   \n",
       "employee                    0-19                     NaN             0.995611   \n",
       "                            20-29               1.242414             1.193234   \n",
       "                            30-39               1.589963             1.296631   \n",
       "                            40-49               1.728343             1.394558   \n",
       "                            50-59               1.255693             1.496330   \n",
       "                            60-69               0.921108             1.507590   \n",
       "                            70+                      NaN             2.199906   \n",
       "entrepreneur                20-29                    NaN                  NaN   \n",
       "paternity / maternity leave 30-39                    NaN             1.000000   \n",
       "retiree                     20-29                    NaN             1.000000   \n",
       "                            30-39               1.000000             1.000000   \n",
       "                            40-49               1.000000             1.000000   \n",
       "                            50-59               1.000000             1.000000   \n",
       "                            60-69               1.000000             1.000000   \n",
       "                            70+                 1.000000             1.000000   \n",
       "student                     20-29                    NaN                  NaN   \n",
       "unemployed                  30-39                    NaN             1.000000   \n",
       "                            40-49                    NaN                  NaN   \n",
       "\n",
       "education                              some college  \n",
       "income_type                 age_group                \n",
       "business                    0-19           1.000000  \n",
       "                            20-29          1.154102  \n",
       "                            30-39          1.433603  \n",
       "                            40-49          1.176393  \n",
       "                            50-59          1.229289  \n",
       "                            60-69          1.885918  \n",
       "                            70+                 NaN  \n",
       "civil servant               0-19           1.000000  \n",
       "                            20-29          1.172028  \n",
       "                            30-39          1.069042  \n",
       "                            40-49          1.178629  \n",
       "                            50-59               NaN  \n",
       "                            60-69               NaN  \n",
       "                            70+                 NaN  \n",
       "employee                    0-19           1.000000  \n",
       "                            20-29          1.152591  \n",
       "                            30-39          1.248553  \n",
       "                            40-49          1.149032  \n",
       "                            50-59          1.365472  \n",
       "                            60-69          1.205797  \n",
       "                            70+                 NaN  \n",
       "entrepreneur                20-29               NaN  \n",
       "paternity / maternity leave 30-39               NaN  \n",
       "retiree                     20-29               NaN  \n",
       "                            30-39               NaN  \n",
       "                            40-49          1.000000  \n",
       "                            50-59          1.000000  \n",
       "                            60-69          1.000000  \n",
       "                            70+            1.000000  \n",
       "student                     20-29               NaN  \n",
       "unemployed                  30-39               NaN  \n",
       "                            40-49               NaN  "
      ]
     },
     "execution_count": 89,
     "metadata": {},
     "output_type": "execute_result"
    }
   ],
   "source": [
    "credit_score_depurada_mean_days/credit_score_depurada_median_days"
   ]
  },
  {
   "cell_type": "markdown",
   "metadata": {},
   "source": [
    "Al igual que en la columna \"total_income\" existen muchos valores donde la media supera a la mediana, lo cual nos indica que hay valores extremos que se salen del rango y hacen susceptible a la media, por lo que se recomienda utilizar la mediana para reemplazar los valores ausentes."
   ]
  },
  {
   "cell_type": "code",
   "execution_count": 90,
   "metadata": {},
   "outputs": [],
   "source": [
    "# Escribamos una función que calcule medias o medianas (dependiendo de tu decisión) según el parámetro identificado\n",
    "def reemplazo_antiguedad_median(antiguedad):\n",
    "    age_group = antiguedad[\"age_group\"]\n",
    "    education = antiguedad[\"education\"]\n",
    "    income_type = antiguedad[\"income_type\"]\n",
    "    days_employed_year = antiguedad[\"days_employed_year\"]\n",
    "    if pd.isna(days_employed_year):\n",
    "        try:\n",
    "            return credit_score_depurada_median_days[education][income_type][age_group]\n",
    "        except:\n",
    "            return \"error\"\n",
    "    return days_employed_year"
   ]
  },
  {
   "cell_type": "code",
   "execution_count": 91,
   "metadata": {},
   "outputs": [
    {
     "data": {
      "text/plain": [
       "2.985110176282317"
      ]
     },
     "execution_count": 91,
     "metadata": {},
     "output_type": "execute_result"
    }
   ],
   "source": [
    "# Comprueba que la función funciona\n",
    "antiguedad_values = [\"primary education\",\"employee\",\"30-39\", float(\"NaN\")]\n",
    "antiguedad_columns = [\"education\",\"income_type\",\"age_group\", \"days_employed_year\"]\n",
    "antiguedad = pd.Series(data=antiguedad_values, index=antiguedad_columns)\n",
    "reemplazo_antiguedad_median(antiguedad)\n"
   ]
  },
  {
   "cell_type": "code",
   "execution_count": 92,
   "metadata": {},
   "outputs": [],
   "source": [
    "# Aplicar la función al income_type\n",
    "credit_score_depurada[\"days_employed_year\"] = credit_score_depurada.apply(reemplazo_antiguedad_median, axis=1)\n",
    "\n"
   ]
  },
  {
   "cell_type": "code",
   "execution_count": 93,
   "metadata": {},
   "outputs": [
    {
     "data": {
      "text/html": [
       "<div>\n",
       "<style scoped>\n",
       "    .dataframe tbody tr th:only-of-type {\n",
       "        vertical-align: middle;\n",
       "    }\n",
       "\n",
       "    .dataframe tbody tr th {\n",
       "        vertical-align: top;\n",
       "    }\n",
       "\n",
       "    .dataframe thead th {\n",
       "        text-align: right;\n",
       "    }\n",
       "</style>\n",
       "<table border=\"1\" class=\"dataframe\">\n",
       "  <thead>\n",
       "    <tr style=\"text-align: right;\">\n",
       "      <th></th>\n",
       "      <th>children</th>\n",
       "      <th>days_employed</th>\n",
       "      <th>dob_years</th>\n",
       "      <th>education</th>\n",
       "      <th>education_id</th>\n",
       "      <th>family_status</th>\n",
       "      <th>family_status_id</th>\n",
       "      <th>gender</th>\n",
       "      <th>income_type</th>\n",
       "      <th>debt</th>\n",
       "      <th>total_income</th>\n",
       "      <th>purpose</th>\n",
       "      <th>days_employed_year</th>\n",
       "      <th>age_group</th>\n",
       "    </tr>\n",
       "  </thead>\n",
       "  <tbody>\n",
       "    <tr>\n",
       "      <th>5907</th>\n",
       "      <td>0</td>\n",
       "      <td>NaN</td>\n",
       "      <td>58</td>\n",
       "      <td>bachelor's degree</td>\n",
       "      <td>0</td>\n",
       "      <td>married</td>\n",
       "      <td>0</td>\n",
       "      <td>M</td>\n",
       "      <td>entrepreneur</td>\n",
       "      <td>0</td>\n",
       "      <td>79866.103</td>\n",
       "      <td>buy residential real estate</td>\n",
       "      <td>error</td>\n",
       "      <td>50-59</td>\n",
       "    </tr>\n",
       "  </tbody>\n",
       "</table>\n",
       "</div>"
      ],
      "text/plain": [
       "      children  days_employed  dob_years          education  education_id  \\\n",
       "5907         0            NaN         58  bachelor's degree             0   \n",
       "\n",
       "     family_status  family_status_id gender   income_type  debt  total_income  \\\n",
       "5907       married                 0      M  entrepreneur     0     79866.103   \n",
       "\n",
       "                          purpose days_employed_year age_group  \n",
       "5907  buy residential real estate              error     50-59  "
      ]
     },
     "execution_count": 93,
     "metadata": {},
     "output_type": "execute_result"
    }
   ],
   "source": [
    "# Comprueba si la función funcionó\n",
    "credit_score_depurada[credit_score_depurada[\"days_employed_year\"]==\"error\"]\n"
   ]
  },
  {
   "cell_type": "code",
   "execution_count": 94,
   "metadata": {
    "scrolled": true
   },
   "outputs": [
    {
     "data": {
      "text/html": [
       "<div>\n",
       "<style scoped>\n",
       "    .dataframe tbody tr th:only-of-type {\n",
       "        vertical-align: middle;\n",
       "    }\n",
       "\n",
       "    .dataframe tbody tr th {\n",
       "        vertical-align: top;\n",
       "    }\n",
       "\n",
       "    .dataframe thead th {\n",
       "        text-align: right;\n",
       "    }\n",
       "</style>\n",
       "<table border=\"1\" class=\"dataframe\">\n",
       "  <thead>\n",
       "    <tr style=\"text-align: right;\">\n",
       "      <th></th>\n",
       "      <th>children</th>\n",
       "      <th>days_employed</th>\n",
       "      <th>dob_years</th>\n",
       "      <th>education</th>\n",
       "      <th>education_id</th>\n",
       "      <th>family_status</th>\n",
       "      <th>family_status_id</th>\n",
       "      <th>gender</th>\n",
       "      <th>income_type</th>\n",
       "      <th>debt</th>\n",
       "      <th>total_income</th>\n",
       "      <th>purpose</th>\n",
       "      <th>days_employed_year</th>\n",
       "      <th>age_group</th>\n",
       "    </tr>\n",
       "  </thead>\n",
       "  <tbody>\n",
       "    <tr>\n",
       "      <th>5907</th>\n",
       "      <td>0</td>\n",
       "      <td>NaN</td>\n",
       "      <td>58</td>\n",
       "      <td>bachelor's degree</td>\n",
       "      <td>0</td>\n",
       "      <td>married</td>\n",
       "      <td>0</td>\n",
       "      <td>M</td>\n",
       "      <td>entrepreneur</td>\n",
       "      <td>0</td>\n",
       "      <td>79866.103</td>\n",
       "      <td>buy residential real estate</td>\n",
       "      <td>error</td>\n",
       "      <td>50-59</td>\n",
       "    </tr>\n",
       "    <tr>\n",
       "      <th>18554</th>\n",
       "      <td>0</td>\n",
       "      <td>520.848083</td>\n",
       "      <td>27</td>\n",
       "      <td>bachelor's degree</td>\n",
       "      <td>0</td>\n",
       "      <td>civil partnership</td>\n",
       "      <td>1</td>\n",
       "      <td>F</td>\n",
       "      <td>entrepreneur</td>\n",
       "      <td>0</td>\n",
       "      <td>79866.103</td>\n",
       "      <td>having a wedding</td>\n",
       "      <td>1.426981</td>\n",
       "      <td>20-29</td>\n",
       "    </tr>\n",
       "  </tbody>\n",
       "</table>\n",
       "</div>"
      ],
      "text/plain": [
       "       children  days_employed  dob_years          education  education_id  \\\n",
       "5907          0            NaN         58  bachelor's degree             0   \n",
       "18554         0     520.848083         27  bachelor's degree             0   \n",
       "\n",
       "           family_status  family_status_id gender   income_type  debt  \\\n",
       "5907             married                 0      M  entrepreneur     0   \n",
       "18554  civil partnership                 1      F  entrepreneur     0   \n",
       "\n",
       "       total_income                      purpose days_employed_year age_group  \n",
       "5907      79866.103  buy residential real estate              error     50-59  \n",
       "18554     79866.103             having a wedding           1.426981     20-29  "
      ]
     },
     "execution_count": 94,
     "metadata": {},
     "output_type": "execute_result"
    }
   ],
   "source": [
    "# Reemplazar valores ausentes\n",
    "credit_score_depurada[(credit_score_depurada[\"income_type\"]==\"entrepreneur\") & (credit_score_depurada[\"education\"]==\"bachelor's degree\")]\n"
   ]
  },
  {
   "cell_type": "code",
   "execution_count": 95,
   "metadata": {},
   "outputs": [],
   "source": [
    "credit_score_depurada.loc[credit_score_depurada[\"days_employed_year\"]==\"error\",\"days_employed_year\"]=1.426981"
   ]
  },
  {
   "cell_type": "code",
   "execution_count": 96,
   "metadata": {},
   "outputs": [
    {
     "data": {
      "text/html": [
       "<div>\n",
       "<style scoped>\n",
       "    .dataframe tbody tr th:only-of-type {\n",
       "        vertical-align: middle;\n",
       "    }\n",
       "\n",
       "    .dataframe tbody tr th {\n",
       "        vertical-align: top;\n",
       "    }\n",
       "\n",
       "    .dataframe thead th {\n",
       "        text-align: right;\n",
       "    }\n",
       "</style>\n",
       "<table border=\"1\" class=\"dataframe\">\n",
       "  <thead>\n",
       "    <tr style=\"text-align: right;\">\n",
       "      <th></th>\n",
       "      <th>children</th>\n",
       "      <th>days_employed</th>\n",
       "      <th>dob_years</th>\n",
       "      <th>education</th>\n",
       "      <th>education_id</th>\n",
       "      <th>family_status</th>\n",
       "      <th>family_status_id</th>\n",
       "      <th>gender</th>\n",
       "      <th>income_type</th>\n",
       "      <th>debt</th>\n",
       "      <th>total_income</th>\n",
       "      <th>purpose</th>\n",
       "      <th>days_employed_year</th>\n",
       "      <th>age_group</th>\n",
       "    </tr>\n",
       "  </thead>\n",
       "  <tbody>\n",
       "    <tr>\n",
       "      <th>1296</th>\n",
       "      <td>1</td>\n",
       "      <td>NaN</td>\n",
       "      <td>70</td>\n",
       "      <td>primary education</td>\n",
       "      <td>3</td>\n",
       "      <td>civil partnership</td>\n",
       "      <td>1</td>\n",
       "      <td>F</td>\n",
       "      <td>employee</td>\n",
       "      <td>0</td>\n",
       "      <td>19546.0</td>\n",
       "      <td>transactions with commercial real estate</td>\n",
       "      <td>NaN</td>\n",
       "      <td>70+</td>\n",
       "    </tr>\n",
       "    <tr>\n",
       "      <th>8095</th>\n",
       "      <td>0</td>\n",
       "      <td>NaN</td>\n",
       "      <td>64</td>\n",
       "      <td>primary education</td>\n",
       "      <td>3</td>\n",
       "      <td>civil partnership</td>\n",
       "      <td>1</td>\n",
       "      <td>F</td>\n",
       "      <td>civil servant</td>\n",
       "      <td>0</td>\n",
       "      <td>19546.0</td>\n",
       "      <td>to have a wedding</td>\n",
       "      <td>NaN</td>\n",
       "      <td>60-69</td>\n",
       "    </tr>\n",
       "  </tbody>\n",
       "</table>\n",
       "</div>"
      ],
      "text/plain": [
       "      children  days_employed  dob_years          education  education_id  \\\n",
       "1296         1            NaN         70  primary education             3   \n",
       "8095         0            NaN         64  primary education             3   \n",
       "\n",
       "          family_status  family_status_id gender    income_type  debt  \\\n",
       "1296  civil partnership                 1      F       employee     0   \n",
       "8095  civil partnership                 1      F  civil servant     0   \n",
       "\n",
       "      total_income                                   purpose  \\\n",
       "1296       19546.0  transactions with commercial real estate   \n",
       "8095       19546.0                         to have a wedding   \n",
       "\n",
       "     days_employed_year age_group  \n",
       "1296                NaN       70+  \n",
       "8095                NaN     60-69  "
      ]
     },
     "execution_count": 96,
     "metadata": {},
     "output_type": "execute_result"
    }
   ],
   "source": [
    "credit_score_depurada[credit_score_depurada[\"days_employed_year\"].isna()]"
   ]
  },
  {
   "cell_type": "code",
   "execution_count": 97,
   "metadata": {},
   "outputs": [
    {
     "data": {
      "text/html": [
       "<div>\n",
       "<style scoped>\n",
       "    .dataframe tbody tr th:only-of-type {\n",
       "        vertical-align: middle;\n",
       "    }\n",
       "\n",
       "    .dataframe tbody tr th {\n",
       "        vertical-align: top;\n",
       "    }\n",
       "\n",
       "    .dataframe thead th {\n",
       "        text-align: right;\n",
       "    }\n",
       "</style>\n",
       "<table border=\"1\" class=\"dataframe\">\n",
       "  <thead>\n",
       "    <tr style=\"text-align: right;\">\n",
       "      <th></th>\n",
       "      <th></th>\n",
       "      <th></th>\n",
       "      <th>count</th>\n",
       "      <th>unique</th>\n",
       "      <th>top</th>\n",
       "      <th>freq</th>\n",
       "    </tr>\n",
       "    <tr>\n",
       "      <th>education</th>\n",
       "      <th>income_type</th>\n",
       "      <th>gender</th>\n",
       "      <th></th>\n",
       "      <th></th>\n",
       "      <th></th>\n",
       "      <th></th>\n",
       "    </tr>\n",
       "  </thead>\n",
       "  <tbody>\n",
       "    <tr>\n",
       "      <th rowspan=\"12\" valign=\"top\">bachelor's degree</th>\n",
       "      <th rowspan=\"2\" valign=\"top\">business</th>\n",
       "      <th>F</th>\n",
       "      <td>1153.0</td>\n",
       "      <td>1031.0</td>\n",
       "      <td>3.903004</td>\n",
       "      <td>49.0</td>\n",
       "    </tr>\n",
       "    <tr>\n",
       "      <th>M</th>\n",
       "      <td>622.0</td>\n",
       "      <td>566.0</td>\n",
       "      <td>3.903004</td>\n",
       "      <td>22.0</td>\n",
       "    </tr>\n",
       "    <tr>\n",
       "      <th rowspan=\"2\" valign=\"top\">civil servant</th>\n",
       "      <th>F</th>\n",
       "      <td>400.0</td>\n",
       "      <td>359.0</td>\n",
       "      <td>7.443608</td>\n",
       "      <td>18.0</td>\n",
       "    </tr>\n",
       "    <tr>\n",
       "      <th>M</th>\n",
       "      <td>144.0</td>\n",
       "      <td>132.0</td>\n",
       "      <td>7.443608</td>\n",
       "      <td>7.0</td>\n",
       "    </tr>\n",
       "    <tr>\n",
       "      <th rowspan=\"2\" valign=\"top\">employee</th>\n",
       "      <th>F</th>\n",
       "      <td>1532.0</td>\n",
       "      <td>1381.0</td>\n",
       "      <td>4.091494</td>\n",
       "      <td>51.0</td>\n",
       "    </tr>\n",
       "    <tr>\n",
       "      <th>M</th>\n",
       "      <td>791.0</td>\n",
       "      <td>716.0</td>\n",
       "      <td>5.192394</td>\n",
       "      <td>28.0</td>\n",
       "    </tr>\n",
       "    <tr>\n",
       "      <th rowspan=\"2\" valign=\"top\">entrepreneur</th>\n",
       "      <th>F</th>\n",
       "      <td>1.0</td>\n",
       "      <td>1.0</td>\n",
       "      <td>1.426981</td>\n",
       "      <td>1.0</td>\n",
       "    </tr>\n",
       "    <tr>\n",
       "      <th>M</th>\n",
       "      <td>1.0</td>\n",
       "      <td>1.0</td>\n",
       "      <td>1.426981</td>\n",
       "      <td>1.0</td>\n",
       "    </tr>\n",
       "    <tr>\n",
       "      <th rowspan=\"2\" valign=\"top\">retiree</th>\n",
       "      <th>F</th>\n",
       "      <td>429.0</td>\n",
       "      <td>1.0</td>\n",
       "      <td>40.000000</td>\n",
       "      <td>429.0</td>\n",
       "    </tr>\n",
       "    <tr>\n",
       "      <th>M</th>\n",
       "      <td>140.0</td>\n",
       "      <td>1.0</td>\n",
       "      <td>40.000000</td>\n",
       "      <td>140.0</td>\n",
       "    </tr>\n",
       "    <tr>\n",
       "      <th>student</th>\n",
       "      <th>M</th>\n",
       "      <td>1.0</td>\n",
       "      <td>1.0</td>\n",
       "      <td>1.585621</td>\n",
       "      <td>1.0</td>\n",
       "    </tr>\n",
       "    <tr>\n",
       "      <th>unemployed</th>\n",
       "      <th>F</th>\n",
       "      <td>1.0</td>\n",
       "      <td>1.0</td>\n",
       "      <td>40.000000</td>\n",
       "      <td>1.0</td>\n",
       "    </tr>\n",
       "    <tr>\n",
       "      <th rowspan=\"4\" valign=\"top\">graduate degree</th>\n",
       "      <th>civil servant</th>\n",
       "      <th>F</th>\n",
       "      <td>1.0</td>\n",
       "      <td>1.0</td>\n",
       "      <td>16.350893</td>\n",
       "      <td>1.0</td>\n",
       "    </tr>\n",
       "    <tr>\n",
       "      <th>employee</th>\n",
       "      <th>M</th>\n",
       "      <td>3.0</td>\n",
       "      <td>3.0</td>\n",
       "      <td>1.121096</td>\n",
       "      <td>1.0</td>\n",
       "    </tr>\n",
       "    <tr>\n",
       "      <th rowspan=\"2\" valign=\"top\">retiree</th>\n",
       "      <th>F</th>\n",
       "      <td>1.0</td>\n",
       "      <td>1.0</td>\n",
       "      <td>40.000000</td>\n",
       "      <td>1.0</td>\n",
       "    </tr>\n",
       "    <tr>\n",
       "      <th>M</th>\n",
       "      <td>1.0</td>\n",
       "      <td>1.0</td>\n",
       "      <td>40.000000</td>\n",
       "      <td>1.0</td>\n",
       "    </tr>\n",
       "    <tr>\n",
       "      <th rowspan=\"8\" valign=\"top\">primary education</th>\n",
       "      <th rowspan=\"2\" valign=\"top\">business</th>\n",
       "      <th>F</th>\n",
       "      <td>14.0</td>\n",
       "      <td>14.0</td>\n",
       "      <td>0.427902</td>\n",
       "      <td>1.0</td>\n",
       "    </tr>\n",
       "    <tr>\n",
       "      <th>M</th>\n",
       "      <td>16.0</td>\n",
       "      <td>16.0</td>\n",
       "      <td>0.296650</td>\n",
       "      <td>1.0</td>\n",
       "    </tr>\n",
       "    <tr>\n",
       "      <th rowspan=\"2\" valign=\"top\">civil servant</th>\n",
       "      <th>F</th>\n",
       "      <td>3.0</td>\n",
       "      <td>3.0</td>\n",
       "      <td>8.339544</td>\n",
       "      <td>1.0</td>\n",
       "    </tr>\n",
       "    <tr>\n",
       "      <th>M</th>\n",
       "      <td>4.0</td>\n",
       "      <td>4.0</td>\n",
       "      <td>0.825572</td>\n",
       "      <td>1.0</td>\n",
       "    </tr>\n",
       "    <tr>\n",
       "      <th rowspan=\"2\" valign=\"top\">employee</th>\n",
       "      <th>F</th>\n",
       "      <td>65.0</td>\n",
       "      <td>60.0</td>\n",
       "      <td>2.985110</td>\n",
       "      <td>4.0</td>\n",
       "    </tr>\n",
       "    <tr>\n",
       "      <th>M</th>\n",
       "      <td>79.0</td>\n",
       "      <td>77.0</td>\n",
       "      <td>5.309955</td>\n",
       "      <td>3.0</td>\n",
       "    </tr>\n",
       "    <tr>\n",
       "      <th rowspan=\"2\" valign=\"top\">retiree</th>\n",
       "      <th>F</th>\n",
       "      <td>79.0</td>\n",
       "      <td>1.0</td>\n",
       "      <td>40.000000</td>\n",
       "      <td>79.0</td>\n",
       "    </tr>\n",
       "    <tr>\n",
       "      <th>M</th>\n",
       "      <td>20.0</td>\n",
       "      <td>1.0</td>\n",
       "      <td>40.000000</td>\n",
       "      <td>20.0</td>\n",
       "    </tr>\n",
       "    <tr>\n",
       "      <th rowspan=\"10\" valign=\"top\">secondary education</th>\n",
       "      <th rowspan=\"2\" valign=\"top\">business</th>\n",
       "      <th>F</th>\n",
       "      <td>1836.0</td>\n",
       "      <td>1657.0</td>\n",
       "      <td>5.142464</td>\n",
       "      <td>62.0</td>\n",
       "    </tr>\n",
       "    <tr>\n",
       "      <th>M</th>\n",
       "      <td>1136.0</td>\n",
       "      <td>1031.0</td>\n",
       "      <td>4.503832</td>\n",
       "      <td>40.0</td>\n",
       "    </tr>\n",
       "    <tr>\n",
       "      <th rowspan=\"2\" valign=\"top\">civil servant</th>\n",
       "      <th>F</th>\n",
       "      <td>632.0</td>\n",
       "      <td>573.0</td>\n",
       "      <td>8.911408</td>\n",
       "      <td>19.0</td>\n",
       "    </tr>\n",
       "    <tr>\n",
       "      <th>M</th>\n",
       "      <td>214.0</td>\n",
       "      <td>200.0</td>\n",
       "      <td>8.911408</td>\n",
       "      <td>7.0</td>\n",
       "    </tr>\n",
       "    <tr>\n",
       "      <th rowspan=\"2\" valign=\"top\">employee</th>\n",
       "      <th>F</th>\n",
       "      <td>4925.0</td>\n",
       "      <td>4443.0</td>\n",
       "      <td>5.324890</td>\n",
       "      <td>170.0</td>\n",
       "    </tr>\n",
       "    <tr>\n",
       "      <th>M</th>\n",
       "      <td>3265.0</td>\n",
       "      <td>2967.0</td>\n",
       "      <td>4.309552</td>\n",
       "      <td>94.0</td>\n",
       "    </tr>\n",
       "    <tr>\n",
       "      <th>paternity / maternity leave</th>\n",
       "      <th>F</th>\n",
       "      <td>1.0</td>\n",
       "      <td>1.0</td>\n",
       "      <td>9.032219</td>\n",
       "      <td>1.0</td>\n",
       "    </tr>\n",
       "    <tr>\n",
       "      <th rowspan=\"2\" valign=\"top\">retiree</th>\n",
       "      <th>F</th>\n",
       "      <td>2568.0</td>\n",
       "      <td>1.0</td>\n",
       "      <td>40.000000</td>\n",
       "      <td>2568.0</td>\n",
       "    </tr>\n",
       "    <tr>\n",
       "      <th>M</th>\n",
       "      <td>530.0</td>\n",
       "      <td>1.0</td>\n",
       "      <td>40.000000</td>\n",
       "      <td>530.0</td>\n",
       "    </tr>\n",
       "    <tr>\n",
       "      <th>unemployed</th>\n",
       "      <th>M</th>\n",
       "      <td>1.0</td>\n",
       "      <td>1.0</td>\n",
       "      <td>40.000000</td>\n",
       "      <td>1.0</td>\n",
       "    </tr>\n",
       "    <tr>\n",
       "      <th rowspan=\"8\" valign=\"top\">some college</th>\n",
       "      <th rowspan=\"2\" valign=\"top\">business</th>\n",
       "      <th>F</th>\n",
       "      <td>174.0</td>\n",
       "      <td>165.0</td>\n",
       "      <td>2.328803</td>\n",
       "      <td>6.0</td>\n",
       "    </tr>\n",
       "    <tr>\n",
       "      <th>M</th>\n",
       "      <td>106.0</td>\n",
       "      <td>102.0</td>\n",
       "      <td>5.914160</td>\n",
       "      <td>3.0</td>\n",
       "    </tr>\n",
       "    <tr>\n",
       "      <th rowspan=\"2\" valign=\"top\">civil servant</th>\n",
       "      <th>F</th>\n",
       "      <td>30.0</td>\n",
       "      <td>28.0</td>\n",
       "      <td>3.519080</td>\n",
       "      <td>2.0</td>\n",
       "    </tr>\n",
       "    <tr>\n",
       "      <th>M</th>\n",
       "      <td>22.0</td>\n",
       "      <td>21.0</td>\n",
       "      <td>9.730437</td>\n",
       "      <td>2.0</td>\n",
       "    </tr>\n",
       "    <tr>\n",
       "      <th rowspan=\"2\" valign=\"top\">employee</th>\n",
       "      <th>F</th>\n",
       "      <td>219.0</td>\n",
       "      <td>203.0</td>\n",
       "      <td>2.438845</td>\n",
       "      <td>7.0</td>\n",
       "    </tr>\n",
       "    <tr>\n",
       "      <th>M</th>\n",
       "      <td>149.0</td>\n",
       "      <td>135.0</td>\n",
       "      <td>2.438845</td>\n",
       "      <td>8.0</td>\n",
       "    </tr>\n",
       "    <tr>\n",
       "      <th rowspan=\"2\" valign=\"top\">retiree</th>\n",
       "      <th>F</th>\n",
       "      <td>36.0</td>\n",
       "      <td>1.0</td>\n",
       "      <td>40.000000</td>\n",
       "      <td>36.0</td>\n",
       "    </tr>\n",
       "    <tr>\n",
       "      <th>M</th>\n",
       "      <td>5.0</td>\n",
       "      <td>1.0</td>\n",
       "      <td>40.000000</td>\n",
       "      <td>5.0</td>\n",
       "    </tr>\n",
       "  </tbody>\n",
       "</table>\n",
       "</div>"
      ],
      "text/plain": [
       "                                                         count  unique  \\\n",
       "education           income_type                 gender                   \n",
       "bachelor's degree   business                    F       1153.0  1031.0   \n",
       "                                                M        622.0   566.0   \n",
       "                    civil servant               F        400.0   359.0   \n",
       "                                                M        144.0   132.0   \n",
       "                    employee                    F       1532.0  1381.0   \n",
       "                                                M        791.0   716.0   \n",
       "                    entrepreneur                F          1.0     1.0   \n",
       "                                                M          1.0     1.0   \n",
       "                    retiree                     F        429.0     1.0   \n",
       "                                                M        140.0     1.0   \n",
       "                    student                     M          1.0     1.0   \n",
       "                    unemployed                  F          1.0     1.0   \n",
       "graduate degree     civil servant               F          1.0     1.0   \n",
       "                    employee                    M          3.0     3.0   \n",
       "                    retiree                     F          1.0     1.0   \n",
       "                                                M          1.0     1.0   \n",
       "primary education   business                    F         14.0    14.0   \n",
       "                                                M         16.0    16.0   \n",
       "                    civil servant               F          3.0     3.0   \n",
       "                                                M          4.0     4.0   \n",
       "                    employee                    F         65.0    60.0   \n",
       "                                                M         79.0    77.0   \n",
       "                    retiree                     F         79.0     1.0   \n",
       "                                                M         20.0     1.0   \n",
       "secondary education business                    F       1836.0  1657.0   \n",
       "                                                M       1136.0  1031.0   \n",
       "                    civil servant               F        632.0   573.0   \n",
       "                                                M        214.0   200.0   \n",
       "                    employee                    F       4925.0  4443.0   \n",
       "                                                M       3265.0  2967.0   \n",
       "                    paternity / maternity leave F          1.0     1.0   \n",
       "                    retiree                     F       2568.0     1.0   \n",
       "                                                M        530.0     1.0   \n",
       "                    unemployed                  M          1.0     1.0   \n",
       "some college        business                    F        174.0   165.0   \n",
       "                                                M        106.0   102.0   \n",
       "                    civil servant               F         30.0    28.0   \n",
       "                                                M         22.0    21.0   \n",
       "                    employee                    F        219.0   203.0   \n",
       "                                                M        149.0   135.0   \n",
       "                    retiree                     F         36.0     1.0   \n",
       "                                                M          5.0     1.0   \n",
       "\n",
       "                                                              top    freq  \n",
       "education           income_type                 gender                     \n",
       "bachelor's degree   business                    F        3.903004    49.0  \n",
       "                                                M        3.903004    22.0  \n",
       "                    civil servant               F        7.443608    18.0  \n",
       "                                                M        7.443608     7.0  \n",
       "                    employee                    F        4.091494    51.0  \n",
       "                                                M        5.192394    28.0  \n",
       "                    entrepreneur                F        1.426981     1.0  \n",
       "                                                M        1.426981     1.0  \n",
       "                    retiree                     F       40.000000   429.0  \n",
       "                                                M       40.000000   140.0  \n",
       "                    student                     M        1.585621     1.0  \n",
       "                    unemployed                  F       40.000000     1.0  \n",
       "graduate degree     civil servant               F       16.350893     1.0  \n",
       "                    employee                    M        1.121096     1.0  \n",
       "                    retiree                     F       40.000000     1.0  \n",
       "                                                M       40.000000     1.0  \n",
       "primary education   business                    F        0.427902     1.0  \n",
       "                                                M        0.296650     1.0  \n",
       "                    civil servant               F        8.339544     1.0  \n",
       "                                                M        0.825572     1.0  \n",
       "                    employee                    F        2.985110     4.0  \n",
       "                                                M        5.309955     3.0  \n",
       "                    retiree                     F       40.000000    79.0  \n",
       "                                                M       40.000000    20.0  \n",
       "secondary education business                    F        5.142464    62.0  \n",
       "                                                M        4.503832    40.0  \n",
       "                    civil servant               F        8.911408    19.0  \n",
       "                                                M        8.911408     7.0  \n",
       "                    employee                    F        5.324890   170.0  \n",
       "                                                M        4.309552    94.0  \n",
       "                    paternity / maternity leave F        9.032219     1.0  \n",
       "                    retiree                     F       40.000000  2568.0  \n",
       "                                                M       40.000000   530.0  \n",
       "                    unemployed                  M       40.000000     1.0  \n",
       "some college        business                    F        2.328803     6.0  \n",
       "                                                M        5.914160     3.0  \n",
       "                    civil servant               F        3.519080     2.0  \n",
       "                                                M        9.730437     2.0  \n",
       "                    employee                    F        2.438845     7.0  \n",
       "                                                M        2.438845     8.0  \n",
       "                    retiree                     F       40.000000    36.0  \n",
       "                                                M       40.000000     5.0  "
      ]
     },
     "execution_count": 97,
     "metadata": {},
     "output_type": "execute_result"
    }
   ],
   "source": [
    "y=credit_score_depurada.groupby([\"education\",\"income_type\",\"gender\"])[\"days_employed_year\"]\n",
    "\n",
    "y.describe()"
   ]
  },
  {
   "cell_type": "code",
   "execution_count": 98,
   "metadata": {},
   "outputs": [],
   "source": [
    "credit_score_depurada[\"days_employed_year\"] = credit_score_depurada[\"days_employed_year\"].fillna(2.9851) "
   ]
  },
  {
   "cell_type": "code",
   "execution_count": 99,
   "metadata": {},
   "outputs": [],
   "source": [
    "credit_score_depurada[\"days_employed\"] = credit_score_depurada[\"days_employed_year\"]*365"
   ]
  },
  {
   "cell_type": "code",
   "execution_count": 100,
   "metadata": {},
   "outputs": [
    {
     "name": "stdout",
     "output_type": "stream",
     "text": [
      "<class 'pandas.core.frame.DataFrame'>\n",
      "RangeIndex: 21352 entries, 0 to 21351\n",
      "Data columns (total 14 columns):\n",
      " #   Column              Non-Null Count  Dtype  \n",
      "---  ------              --------------  -----  \n",
      " 0   children            21352 non-null  int64  \n",
      " 1   days_employed       21352 non-null  float64\n",
      " 2   dob_years           21352 non-null  int64  \n",
      " 3   education           21352 non-null  object \n",
      " 4   education_id        21352 non-null  int64  \n",
      " 5   family_status       21352 non-null  object \n",
      " 6   family_status_id    21352 non-null  int64  \n",
      " 7   gender              21352 non-null  object \n",
      " 8   income_type         21352 non-null  object \n",
      " 9   debt                21352 non-null  int64  \n",
      " 10  total_income        21352 non-null  float64\n",
      " 11  purpose             21352 non-null  object \n",
      " 12  days_employed_year  21352 non-null  float64\n",
      " 13  age_group           21352 non-null  object \n",
      "dtypes: float64(3), int64(5), object(6)\n",
      "memory usage: 2.3+ MB\n"
     ]
    }
   ],
   "source": [
    "credit_score_depurada.info()"
   ]
  },
  {
   "cell_type": "code",
   "execution_count": 101,
   "metadata": {},
   "outputs": [
    {
     "data": {
      "text/plain": [
       "children              0\n",
       "days_employed         0\n",
       "dob_years             0\n",
       "education             0\n",
       "education_id          0\n",
       "family_status         0\n",
       "family_status_id      0\n",
       "gender                0\n",
       "income_type           0\n",
       "debt                  0\n",
       "total_income          0\n",
       "purpose               0\n",
       "days_employed_year    0\n",
       "age_group             0\n",
       "dtype: int64"
      ]
     },
     "execution_count": 101,
     "metadata": {},
     "output_type": "execute_result"
    }
   ],
   "source": [
    "# Comprueba las entradas en todas las columnas: asegúrate de que hayamos corregido todos los valores ausentes\n",
    "credit_score_depurada.isna().sum()"
   ]
  },
  {
   "cell_type": "markdown",
   "metadata": {},
   "source": [
    "## Clasificación de datos\n",
    "\n",
    "El objetivo del análisis es averiguar si el estado civil y el número de hijos impactan en el incumplimiento de pago del préstamo solicitado, por lo tanto estas dos variables \"children\" y \"family_status\" deben estar en la clasificación de datos. Aunado a esto debe aparecer el ingreso familiar y la variable purpose que aún no ha sido analizada con detenimiento."
   ]
  },
  {
   "cell_type": "code",
   "execution_count": 102,
   "metadata": {
    "scrolled": true
   },
   "outputs": [
    {
     "name": "stdout",
     "output_type": "stream",
     "text": [
      "       children      family_status  total_income                  purpose\n",
      "0             1            married     40620.102    purchase of the house\n",
      "1             1            married     17932.802             car purchase\n",
      "2             0            married     23341.752    purchase of the house\n",
      "3             3            married     42820.568  supplementary education\n",
      "4             0  civil partnership     25378.572        to have a wedding\n",
      "...         ...                ...           ...                      ...\n",
      "21347         1  civil partnership     35966.698     housing transactions\n",
      "21348         0            married     24959.969        purchase of a car\n",
      "21349         1  civil partnership     14347.610                 property\n",
      "21350         3            married     39054.888        buying my own car\n",
      "21351         2            married     13127.587             to buy a car\n",
      "\n",
      "[21352 rows x 4 columns]\n"
     ]
    }
   ],
   "source": [
    "# Muestra los valores de los datos seleccionados para la clasificación\n",
    "print(credit_score_depurada[[\"children\",\"family_status\",\"total_income\",\"purpose\"]])\n"
   ]
  },
  {
   "cell_type": "code",
   "execution_count": 103,
   "metadata": {
    "scrolled": true
   },
   "outputs": [
    {
     "name": "stdout",
     "output_type": "stream",
     "text": [
      "[1 0 3 2 4 5]\n",
      "['married' 'civil partnership' 'widow / widower' 'divorced' 'unmarried']\n",
      "['purchase of the house' 'car purchase' 'supplementary education'\n",
      " 'to have a wedding' 'housing transactions' 'education' 'having a wedding'\n",
      " 'purchase of the house for my family' 'buy real estate'\n",
      " 'buy commercial real estate' 'buy residential real estate'\n",
      " 'construction of own property' 'property' 'building a property'\n",
      " 'buying a second-hand car' 'buying my own car'\n",
      " 'transactions with commercial real estate' 'building a real estate'\n",
      " 'housing' 'transactions with my real estate' 'cars' 'to become educated'\n",
      " 'second-hand car purchase' 'getting an education' 'car'\n",
      " 'wedding ceremony' 'to get a supplementary education'\n",
      " 'purchase of my own house' 'real estate transactions'\n",
      " 'getting higher education' 'to own a car' 'purchase of a car'\n",
      " 'profile education' 'university education'\n",
      " 'buying property for renting out' 'to buy a car' 'housing renovation'\n",
      " 'going to university']\n"
     ]
    }
   ],
   "source": [
    "# Comprobar los valores únicos\n",
    "print(credit_score_depurada[\"children\"].unique())\n",
    "\n",
    "print(credit_score_depurada[\"family_status\"].unique())\n",
    "\n",
    "print(credit_score_depurada[\"purpose\"].unique())\n"
   ]
  },
  {
   "cell_type": "markdown",
   "metadata": {},
   "source": [
    "La variable \"purpose\" muestra muchos valores que son repetidos, por los cuales serán reagrupados para reducir los filtros por categoria en esta variable"
   ]
  },
  {
   "cell_type": "code",
   "execution_count": 104,
   "metadata": {},
   "outputs": [],
   "source": [
    "def purpose_group(purpose):\n",
    "    if \"house\" in purpose or \"housing\" in purpose or \"real estate\" in purpose or \"building\" in purpose or \"property\" in purpose:\n",
    "        return \"house purchase\"\n",
    "    elif \"car\" in purpose:\n",
    "        return \"car purchase\"\n",
    "    elif \"education\" in purpose or \"university\" in purpose or \"educated\"in purpose :\n",
    "        return \"education\"\n",
    "    elif \"wedding\"in purpose:\n",
    "        return \"wedding\"\n",
    "    return \"other\""
   ]
  },
  {
   "cell_type": "code",
   "execution_count": 105,
   "metadata": {},
   "outputs": [
    {
     "data": {
      "text/plain": [
       "array(['house purchase', 'car purchase', 'education', 'wedding'],\n",
       "      dtype=object)"
      ]
     },
     "execution_count": 105,
     "metadata": {},
     "output_type": "execute_result"
    }
   ],
   "source": [
    "credit_score_depurada[\"purpose_group\"] = credit_score_depurada[\"purpose\"].apply(purpose_group)\n",
    "credit_score_depurada[\"purpose_group\"].unique()"
   ]
  },
  {
   "cell_type": "markdown",
   "metadata": {},
   "source": [
    "La variable \"children\" también debe ser clasificada en grupos para hacer más fácil el análisis, al igual que el salario.\n"
   ]
  },
  {
   "cell_type": "code",
   "execution_count": 106,
   "metadata": {},
   "outputs": [],
   "source": [
    "# Escribamos una función para clasificar los datos en función de temas comunes\n",
    "def children_group(value):\n",
    "    if value==0:\n",
    "        return \"without child\"\n",
    "    elif value==1 or value==2:\n",
    "        return '1-2'\n",
    "    elif value==3 or value==4:\n",
    "        return '3-4'\n",
    "    return '5+'"
   ]
  },
  {
   "cell_type": "code",
   "execution_count": 107,
   "metadata": {},
   "outputs": [
    {
     "data": {
      "text/plain": [
       "without child    14021\n",
       "1-2               6953\n",
       "3-4                369\n",
       "5+                   9\n",
       "Name: children_group, dtype: int64"
      ]
     },
     "execution_count": 107,
     "metadata": {},
     "output_type": "execute_result"
    }
   ],
   "source": [
    "# Crea una columna con las categorías y cuenta los valores en ellas\n",
    "credit_score_depurada[\"children_group\"]=credit_score_depurada[\"children\"].apply(children_group)\n",
    "credit_score_depurada[\"children_group\"].value_counts()\n"
   ]
  },
  {
   "cell_type": "markdown",
   "metadata": {},
   "source": [
    "CLASIFICACION DE VARIABLES CUALITATIVAS"
   ]
  },
  {
   "cell_type": "code",
   "execution_count": 108,
   "metadata": {},
   "outputs": [
    {
     "name": "stdout",
     "output_type": "stream",
     "text": [
      "count     21352\n",
      "mean      26484\n",
      "std       15751\n",
      "min        3306\n",
      "25%       17199\n",
      "50%       22931\n",
      "75%       31656\n",
      "max      362496\n",
      "Name: total_income, dtype: int64\n",
      "mediana: 22931\n"
     ]
    }
   ],
   "source": [
    "# Revisar todos los datos numéricos en la columna seleccionada para la clasificación\n",
    "#se usara la conversión de decimales a números enteros\n",
    "print(credit_score_depurada[\"total_income\"].describe().astype(\"int\"))\n",
    "print(\"mediana:\", credit_score_depurada[\"total_income\"].median().astype(\"int\"))"
   ]
  },
  {
   "cell_type": "code",
   "execution_count": 109,
   "metadata": {},
   "outputs": [],
   "source": [
    "# Crear una función para clasificar en diferentes grupos numéricos basándose en rangos\n",
    "\n",
    "def income_group(value):\n",
    "    if value<=23000:\n",
    "        return \"bajo ingreso\"\n",
    "    elif value <=32000:\n",
    "         return \"ingreso medio\"\n",
    "    return \"alto ingreso\""
   ]
  },
  {
   "cell_type": "code",
   "execution_count": 110,
   "metadata": {},
   "outputs": [],
   "source": [
    "# Crear una columna con categorías\n",
    "credit_score_depurada[\"income_group\"]=credit_score_depurada[\"total_income\"].apply(income_group)"
   ]
  },
  {
   "cell_type": "code",
   "execution_count": 111,
   "metadata": {
    "scrolled": true
   },
   "outputs": [
    {
     "data": {
      "text/plain": [
       "bajo ingreso     0.502154\n",
       "ingreso medio    0.254449\n",
       "alto ingreso     0.243396\n",
       "Name: income_group, dtype: float64"
      ]
     },
     "execution_count": 111,
     "metadata": {},
     "output_type": "execute_result"
    }
   ],
   "source": [
    "# Contar los valores de cada categoría para ver la distribución\n",
    "credit_score_depurada[\"income_group\"].value_counts(normalize=True)"
   ]
  },
  {
   "cell_type": "code",
   "execution_count": 112,
   "metadata": {
    "scrolled": true
   },
   "outputs": [
    {
     "data": {
      "text/plain": [
       "count    21352.000000\n",
       "mean        12.312723\n",
       "std         14.011590\n",
       "min          0.066141\n",
       "25%          2.758856\n",
       "50%          5.663455\n",
       "75%         14.578088\n",
       "max         40.000000\n",
       "Name: days_employed_year, dtype: float64"
      ]
     },
     "execution_count": 112,
     "metadata": {},
     "output_type": "execute_result"
    }
   ],
   "source": [
    "credit_score_depurada[\"days_employed_year\"].describe()"
   ]
  },
  {
   "cell_type": "code",
   "execution_count": 113,
   "metadata": {},
   "outputs": [],
   "source": [
    "# Crear una función para clasificar en diferentes grupos numéricos basándose en rangos\n",
    "\n",
    "def days_employed_year_group(value):\n",
    "    if value<=5:\n",
    "        return \"poca antiguedad\"\n",
    "    elif value <=14:\n",
    "         return \"media antiguedad\"\n",
    "    return \"antiguedad considerada\"\n",
    "\n",
    "credit_score_depurada[\"antiguedad_group\"]=credit_score_depurada[\"days_employed_year\"].apply(days_employed_year_group)"
   ]
  },
  {
   "cell_type": "code",
   "execution_count": 114,
   "metadata": {},
   "outputs": [
    {
     "data": {
      "text/plain": [
       "poca antiguedad           0.440193\n",
       "media antiguedad          0.302595\n",
       "antiguedad considerada    0.257212\n",
       "Name: antiguedad_group, dtype: float64"
      ]
     },
     "execution_count": 114,
     "metadata": {},
     "output_type": "execute_result"
    }
   ],
   "source": [
    "credit_score_depurada[\"antiguedad_group\"].value_counts(normalize=True)"
   ]
  },
  {
   "cell_type": "markdown",
   "metadata": {},
   "source": [
    "## Comprobación de las hipótesis\n"
   ]
  },
  {
   "cell_type": "markdown",
   "metadata": {},
   "source": [
    "**¿Existe una correlación entre tener hijos y pagar a tiempo?**"
   ]
  },
  {
   "cell_type": "code",
   "execution_count": 115,
   "metadata": {},
   "outputs": [
    {
     "name": "stdout",
     "output_type": "stream",
     "text": [
      "                tasa de incumpl  % incumpl  tasa cumpl     % cumpl\n",
      "children_group                                                    \n",
      "1-2                    0.092622   9.262189    0.907378   90.737811\n",
      "3-4                    0.084011   8.401084    0.915989   91.598916\n",
      "5+                     0.000000   0.000000    1.000000  100.000000\n",
      "without child          0.075458   7.545824    0.924542   92.454176\n"
     ]
    }
   ],
   "source": [
    "# Comprueba los datos sobre los hijos y los pagos puntuales\n",
    "hipotesis_1_1 = pd.pivot_table(credit_score_depurada, index=\"children_group\", values = \"debt\", aggfunc=\"mean\")\n",
    "\n",
    "# Calcular la tasa de incumplimiento en función del número de hijos\n",
    "hipotesis_1_1[\"debt\"] = hipotesis_1_1[\"debt\"]\n",
    "hipotesis_1_1[\"% incumpl\"] = hipotesis_1_1[\"debt\"] * 100\n",
    "hipotesis_1_1[\"tasa cumpl\"] = 1 - hipotesis_1_1[\"debt\"]\n",
    "hipotesis_1_1[\"% cumpl\"] = hipotesis_1_1[\"tasa cumpl\"] * 100\n",
    "hipotesis_1_1 = hipotesis_1_1.rename(columns={\"debt\":\"tasa de incumpl\"})\n",
    "print(hipotesis_1_1)"
   ]
  },
  {
   "cell_type": "code",
   "execution_count": 116,
   "metadata": {},
   "outputs": [
    {
     "data": {
      "text/plain": [
       "without child    0.656660\n",
       "1-2              0.325637\n",
       "3-4              0.017282\n",
       "5+               0.000422\n",
       "Name: children_group, dtype: float64"
      ]
     },
     "execution_count": 116,
     "metadata": {},
     "output_type": "execute_result"
    }
   ],
   "source": [
    "credit_score_depurada[\"children_group\"].value_counts(normalize=True)"
   ]
  },
  {
   "cell_type": "markdown",
   "metadata": {},
   "source": [
    "**Conclusión**\n",
    "\n",
    "Los resultados obtenidos se muestran muy cercanos entre sí (no hay diferencias apreciables) apenas los separa como máximo un 2% en lo que a incumplimiento se refiere, por lo que: \n",
    "1. La mayor tasa de incumplimiento se obtuvo con aquellos solicitantes que tienen entre 1 y 2 hijos, seguido de aquellos con 3 a 4 hijos, esto está de acuerdo con la hipótesis de que a mayor número de hijos menos posibilidades de pago y la razón es porque hay que atender las necesidades de los hijos. Es importante mencionar que se esperaba que el grupo 3-4 hijos tuviera mayor tasa de incumplimiento, sin embargo, no resultó así, pero su explicación se puede basar en que la muestra de datos de este grupo es de apenas 1.7%, muy pequeña en comparación al 32% del grupo 1-2.\n",
    "2. Los solicitantes con 5 o más hijos son cumplidos (no tienen deudas), esto si resulta contradictorio con lo anterior, sin embargo, este grupo representa el 0.04% de la muestra de datos, es decir, no es muy representativa para hacer una conclusión al respecto.\n",
    "3. Las solicitudes que no reportaron hijos son del 65% del universo de datos por lo que este grupo es muy representativo y aún así se ubica en el 3er lugar de incumplimiento, dejando por sentado que a mayor número de hijos menos posibilidades de pago, es decir, más riesgo de incumplimiento del crédito.\n",
    "\n",
    "En fin, estos resultados fueron muy similares y no permiten establecer una conclusión bien marcada en cuanto al número de hijos.\n"
   ]
  },
  {
   "cell_type": "markdown",
   "metadata": {},
   "source": [
    "**¿Existe una correlación entre la situación familiar y el pago a tiempo?**"
   ]
  },
  {
   "cell_type": "code",
   "execution_count": 117,
   "metadata": {
    "scrolled": true
   },
   "outputs": [
    {
     "name": "stdout",
     "output_type": "stream",
     "text": [
      "                   tasa de incumpl  % incumpl  tasa cumpl    % cumpl\n",
      "family_status                                                       \n",
      "civil partnership         0.093485   9.348511    0.906515  90.651489\n",
      "divorced                  0.071730   7.172996    0.928270  92.827004\n",
      "married                   0.075427   7.542718    0.924573  92.457282\n",
      "unmarried                 0.097709   9.770938    0.902291  90.229062\n",
      "widow / widower           0.064990   6.498952    0.935010  93.501048\n"
     ]
    }
   ],
   "source": [
    "# Comprueba los datos del estado familiar y los pagos a tiempo\n",
    "\n",
    "hipotesis_1_2 = pd.pivot_table(credit_score_depurada, index=\"family_status\", values = \"debt\", aggfunc=\"mean\")\n",
    "                       \n",
    "\n",
    "\n",
    "# Calcular la tasa de incumplimiento basada en el estado familiar\n",
    "                         \n",
    "hipotesis_1_2[\"debt\"] = hipotesis_1_2[\"debt\"]\n",
    "hipotesis_1_2[\"% incumpl\"] = hipotesis_1_2[\"debt\"] * 100\n",
    "hipotesis_1_2[\"tasa cumpl\"] = 1 - hipotesis_1_2[\"debt\"]\n",
    "hipotesis_1_2[\"% cumpl\"] = hipotesis_1_2[\"tasa cumpl\"] * 100\n",
    "hipotesis_1_2 = hipotesis_1_2.rename(columns={\"debt\":\"tasa de incumpl\"})\n",
    "print(hipotesis_1_2)"
   ]
  },
  {
   "cell_type": "code",
   "execution_count": 118,
   "metadata": {},
   "outputs": [
    {
     "data": {
      "text/plain": [
       "married              0.575590\n",
       "civil partnership    0.193378\n",
       "unmarried            0.130854\n",
       "divorced             0.055498\n",
       "widow / widower      0.044680\n",
       "Name: family_status, dtype: float64"
      ]
     },
     "execution_count": 118,
     "metadata": {},
     "output_type": "execute_result"
    }
   ],
   "source": [
    "credit_score_depurada[\"family_status\"].value_counts(normalize=True)"
   ]
  },
  {
   "cell_type": "markdown",
   "metadata": {},
   "source": [
    "**Conclusión**\n",
    "\n",
    "De acuerdo a los resultados obtenidos:\n",
    "1. La mayor tasa de incumplimiento se obtuvo con aquellos solicitantes unmarried, seguido muy de cerca por los que viven en unión, sin embargo, los no casados legalmente representan el 13% de la muestra de datos y resultan aparentemente ser los potencialmente más riesgosos para el otorgamiento de crédito por el índice de incumplimiento de pago.\n",
    "2. Los casados que representan el 57% de las solicitudes de créditos, reportaron una tasa de incumplimiento de 0.075, la tercera en orden descendiente, lo cual es bastante alto si se considera que es el grupo más numeroso.\n",
    "3. Las solicitudes realizadas por divorciados o viudos son pocas (no llegan al 10% entre ambas) y representan ambas la menor tasa de incumplimiento.\n",
    "\n",
    "En conclusión, los resultados no muestran una diferencia considerable entre sí, por lo que emitir un juicio en cuanto a riesgo de pago sería aventurado."
   ]
  },
  {
   "cell_type": "markdown",
   "metadata": {},
   "source": [
    "**¿Existe una correlación entre el nivel de ingresos y el pago a tiempo?**"
   ]
  },
  {
   "cell_type": "code",
   "execution_count": 119,
   "metadata": {},
   "outputs": [
    {
     "name": "stdout",
     "output_type": "stream",
     "text": [
      "               tasa de incumpl  % incumpl  tasa cumpl    % cumpl\n",
      "income_group                                                    \n",
      "alto ingreso          0.070040   7.004041    0.929960  92.995959\n",
      "bajo ingreso          0.085152   8.515202    0.914848  91.484798\n",
      "ingreso medio         0.083932   8.393153    0.916068  91.606847\n"
     ]
    }
   ],
   "source": [
    "# Comprueba los datos del nivel de ingresos y los pagos a tiempo\n",
    "hipotesis_1_3 = pd.pivot_table(credit_score_depurada, index=\"income_group\", values = \"debt\", aggfunc=\"mean\")\n",
    "\n",
    "\n",
    "# Calcular la tasa de incumplimiento basada en el nivel de ingresos\n",
    "hipotesis_1_3[\"debt\"] = hipotesis_1_3[\"debt\"]\n",
    "hipotesis_1_3[\"% incumpl\"] = hipotesis_1_3[\"debt\"] * 100\n",
    "hipotesis_1_3[\"tasa cumpl\"] = 1 - hipotesis_1_3[\"debt\"]\n",
    "hipotesis_1_3[\"% cumpl\"] = hipotesis_1_3[\"tasa cumpl\"] * 100\n",
    "hipotesis_1_3 = hipotesis_1_3.rename(columns={\"debt\":\"tasa de incumpl\"})\n",
    "print(hipotesis_1_3)\n"
   ]
  },
  {
   "cell_type": "code",
   "execution_count": 120,
   "metadata": {},
   "outputs": [
    {
     "data": {
      "text/plain": [
       "bajo ingreso     0.502154\n",
       "ingreso medio    0.254449\n",
       "alto ingreso     0.243396\n",
       "Name: income_group, dtype: float64"
      ]
     },
     "execution_count": 120,
     "metadata": {},
     "output_type": "execute_result"
    }
   ],
   "source": [
    "credit_score_depurada[\"income_group\"].value_counts(normalize=True)"
   ]
  },
  {
   "cell_type": "markdown",
   "metadata": {},
   "source": [
    "**Conclusión**\n",
    "\n",
    "Los resultados aquí son los esperados, en el sentido de que:\n",
    "1. A mayor ingreso familiar hay más posibilidad de pagar las deudas adquiridas, por eso el grupo de alto ingreso, aunque solo representa el 24% de los datos, es el que menos tasa incumplimiento tiene.\n",
    "2. El grupo de ingreso medio es el de segundo mayor incumplimiento (8.39%).\n",
    "3. El grupo de menos ingreso ocupa el primer lugar en incumplimiento y en solicitudes (50%), sin embargo, los resultados son muy similares con los de medio y alto ingreso, hay menos de 1 valor porcentual de diferencias en relación a la tasa de incumplimiento, por lo que no se puede establecer una conclusión contundente al respecto. "
   ]
  },
  {
   "cell_type": "markdown",
   "metadata": {},
   "source": [
    "**¿Cómo afecta el propósito del crédito a la tasa de incumplimiento?**"
   ]
  },
  {
   "cell_type": "code",
   "execution_count": 121,
   "metadata": {},
   "outputs": [
    {
     "name": "stdout",
     "output_type": "stream",
     "text": [
      "                tasa de incumpl  % incumpl  tasa cumpl    % cumpl\n",
      "purpose_group                                                    \n",
      "car purchase           0.093371   9.337068    0.906629  90.662932\n",
      "education              0.092616   9.261577    0.907384  90.738423\n",
      "house purchase         0.072378   7.237759    0.927622  92.762241\n",
      "wedding                0.079654   7.965368    0.920346  92.034632\n"
     ]
    }
   ],
   "source": [
    "# Consulta los porcentajes de tasa de incumplimiento para cada propósito del crédito y analízalos\n",
    "\n",
    "hipotesis_1_4 = pd.pivot_table(credit_score_depurada, index=\"purpose_group\", values = \"debt\", aggfunc=\"mean\")\n",
    "\n",
    "hipotesis_1_4[\"debt\"] = hipotesis_1_4[\"debt\"]\n",
    "hipotesis_1_4[\"% incumpl\"] = hipotesis_1_4[\"debt\"] * 100\n",
    "hipotesis_1_4[\"tasa cumpl\"] = 1 - hipotesis_1_4[\"debt\"]\n",
    "hipotesis_1_4[\"% cumpl\"] = hipotesis_1_4[\"tasa cumpl\"] * 100\n",
    "hipotesis_1_4 = hipotesis_1_4.rename(columns={\"debt\":\"tasa de incumpl\"})\n",
    "print(hipotesis_1_4)"
   ]
  },
  {
   "cell_type": "code",
   "execution_count": 122,
   "metadata": {},
   "outputs": [
    {
     "data": {
      "text/plain": [
       "house purchase    0.504075\n",
       "car purchase      0.200637\n",
       "education         0.187102\n",
       "wedding           0.108187\n",
       "Name: purpose_group, dtype: float64"
      ]
     },
     "execution_count": 122,
     "metadata": {},
     "output_type": "execute_result"
    }
   ],
   "source": [
    "credit_score_depurada[\"purpose_group\"].value_counts(normalize=True)"
   ]
  },
  {
   "cell_type": "markdown",
   "metadata": {},
   "source": [
    "**Conclusión**\n",
    "\n",
    "En cuanto al propósito del crédito solicitado se encontró que:\n",
    "1. Las mayores solicitudes de crédito se realizaron para compra de casas, terrenos, locales (50%) y estos solicitantes presentaron un 7.2% de incumplimiento en sus deudas que resultó la menor tasa de incumplimiento de los grupos.\n",
    "2. Los mayores incumplimientos se reportaron para aquellos solicitantes que quieren comprar carro e invertir en educación respectivamente, representando el 20 y 19% de la data suministrada, representando así, aparentemento, el grupo más potencialmente riesgoso para otorgamiento de crédito, puesto que son más propensos a incurrir en el incumplimiento de pago, y decimos aparentemente, porque con la información suministrada y analizada no se puede concluir de manera categórica ya que los resultados difieren tan solo en 2 puntos porcentuales por lo que el margen de error en aseverar esto es muy alto.\n",
    "3. Solo para efectos de boda se recibieron 11% de las solicitudes y su tasa de incumplimiento asociada es de 7.9%\n"
   ]
  },
  {
   "cell_type": "code",
   "execution_count": 123,
   "metadata": {},
   "outputs": [],
   "source": [
    "hipotesis_todo = pd.pivot_table(credit_score_depurada, index=[\"children_group\", \"family_status\"], columns=\"income_group\", values = \"debt\", aggfunc=\"mean\")"
   ]
  },
  {
   "cell_type": "code",
   "execution_count": 124,
   "metadata": {},
   "outputs": [
    {
     "name": "stdout",
     "output_type": "stream",
     "text": [
      "income_group                      alto ingreso  bajo ingreso  ingreso medio\n",
      "children_group family_status                                               \n",
      "1-2            civil partnership      0.074184      0.116864       0.140719\n",
      "               divorced               0.061856      0.077720       0.075472\n",
      "               married                0.076596      0.096358       0.076672\n",
      "               unmarried              0.096000      0.095941       0.165468\n",
      "               widow / widower        0.086957      0.075472       0.137931\n",
      "3-4            civil partnership      0.055556      0.206897       0.058824\n",
      "               divorced               0.000000      0.166667       0.000000\n",
      "               married                0.053333      0.070312       0.095890\n",
      "               unmarried              0.000000      0.142857       0.500000\n",
      "               widow / widower        0.000000      0.000000       0.000000\n",
      "5+             civil partnership           NaN      0.000000            NaN\n",
      "               married                0.000000      0.000000       0.000000\n",
      "without child  civil partnership      0.062787      0.092972       0.084648\n",
      "               divorced               0.062827      0.076115       0.068293\n",
      "               married                0.063510      0.071994       0.068649\n",
      "               unmarried              0.088339      0.092141       0.100694\n",
      "               widow / widower        0.053030      0.059590       0.075145\n"
     ]
    }
   ],
   "source": [
    "print(hipotesis_todo)"
   ]
  },
  {
   "cell_type": "markdown",
   "metadata": {},
   "source": [
    "# Conclusión general \n",
    "\n",
    "La data proporcionada por la división de préstamos de un banco se hizo mediante un dataFrame de 21525 registros distribuidos en 12 columnas(\"children\", \"days_employed\", \"dob_years\", \"education\", \"education_id\", \"family_status\", \"family_id\", \"gender\", \"income_type\", \"debt\", \"total_income\", \"purpose\"), de las cuales \"days_employed\" y \"total_income\" presentaron 2174 datos ausentes.\n",
    "\n",
    "Para el procesamiento de los datos, se procedió a realizar un filtro con los datos ausentes en ambas columnas, encontrándose que los solicitantes dejaron ambos campos sin llenar en sus solicitudes, son entonces simétricos. Posterior a esto se procedió a buscar una relación entre estas columnas y las restantes del DataFrame a fin de determinar si estos datos tenían carácter aleatorio. No se logró determinar ninguna relación aparente por lo que se concluyó que estos valores ausentes eran aleatorios.\n",
    "\n",
    "Del análisis de cada columna se obtuvo:\n",
    "\n",
    "1. En la columna de children se detectaron valores inconsistentes de -1(0.1%) y 20(0.3%), por lo que se procedieron a cambiar por 1 y 2, considerando que eran consecuencia de un posible error de dedo.\n",
    "2. En la columna de \"dob_year\" se detectó una edad de cero, lo cual en la realidad no podría ser, por lo que se eliminó del DataFrame ya que su porcentaje era apenas del 0.47%.\n",
    "3. En la columna \"education\" se detectó que los valores estaban escritos algunos en mayúsculas, otros en minúsculas y otros con iniciales en mayúsculas, por lo que la solución fue llevarlos todos a minúsculas.\n",
    "4. Se eliminó el registro de XNA en la columna de género.\n",
    "5. Se detectaron y eliminaron 71 solicitudes duplicadas que representaban el 0.02% del total de la muestra, posiblemente se deban a que el mismo solicitante, al tener posibilidades en contra del otorgamiento de crédito, llenó la solicitud varias veces, esto podría solucionarse si se coloca un filtro con el ID del solicitante de manera que cuando quiera volver a solicitar el sistema lo rechaze.\n",
    "6. Se obtuvo un DataFrame con 21352 datos y 19259 datos ausentes.\n",
    "7. Se creó una nueva columna de days_employed_year para visualizar los valores de antiguedad en años, detectándose la presencia de a) ausentes, b) valores negativos (82%) y c) años de servicio superior a 100. \n",
    "\n",
    "       -Se transformaron estos valores negativos en positivos con la función valor absoluto, considerando que fue un error de dedo al realizar la resta de los años actuales de trabajo - años de inicio.\n",
    "       -Se encontró que las personas retiradas presentaban ese valor de más de 100 años de trabajo, por lo que se modificó topando un valor de 40, considernado los años útiles de antiguedad.\n",
    "       -Los valores ausentes en esta columna finalmente se sustituyeron por la mediana resultante de un filtro con \"education\" e \"income_type\".\n",
    "\n",
    "8. Los valores ausentes en la columna \"total_income\" fueron sustituidos igualmente por la mediana resultante del filtro con las columnas \"education\" y \"total_income\", ya que la media resultó susceptible a los valores puntuales extremos en estas variables.\n",
    "9. Se obtuvo un DataFrame de 21352 registros sin valores ausentes.\n",
    "9. Se realizó clasificación por grupo en las columnas de \"children\", \"total_income\", \"purpose\" para analizar mejor el impacto de estas variables en la solicitud de un préstamo.\n",
    "\n",
    "  \n",
    "Comprobación de hipótesis:\n",
    "\n",
    "¿El estado civily el número de hijos tienen impacto en el incumplimiento de pago de un préstamo?\n",
    "\n",
    "Se encontró que a medida que se tienen más hijos, es más difícil pagar las deudas y aunque el porcentaje de solicitantes con hijos entre 1 y 2 era del 32% este renglón obtuvo el primer lugar en la clasificación de incumplimiento. No obstante, las tasas de incumplimiento para cada grupo resultaron similares entre sí, por lo que no se puede categorizar al respecto. Las solicitudes con números de hijos mayor a 5, no representan una buena población en la muestra para obtener una conclusión. La mayor cantidad de solicitantes no tenian hijos 65% y aún así se ubican en 3er lugar. En fin los solicitantes sin hijos tienen menores tasas de incumplimiento.\n",
    "\n",
    "Similarmente, se encontró que los unmarried (no casados oficialmente) representan el 13% de la muestra de datos y la mayor tasa de incumplimiento, seguido muy de cerca por los que viven en unión, esto si como que no lo esperábamos, sin embargo, los unmarried representan el 13% de la muestra de datos. Los casados que representan el 57% de las solicitudes de créditos, reportaron una tasa de incumplimiento de 0.075, la tercera en orden descendiente, lo cual es bastante alto si se considera que es el grupo más numeroso, aunque al analizar todo el grupo se observaron resultados muy similares. Las solicitudes realizadas por divorciados o viudos son pocas (no llegan al 10% entre ambas) y representan ambas la menor tasa de incumplimiento. \n",
    "\n",
    "\n",
    "2. Evaluar la capacidad de pago.\n",
    "\n",
    "A mayor ingreso familiar hay más posibilidad de pagar las deudas adquiridas, por eso el grupo de alto ingreso, aunque solo representa el 24% de los datos, es el que menos tasa incumplimiento tiene.\n",
    "Los otros 2 grupos de salarios muestran resultados similares entre sí.\n",
    "\n",
    "Finalmente, se encontró que los solicitantes que aspiran usar el crédito para la compra de un auto o para educación parecen ser los más riesgos, es decir, los que más pueden incumplir en el pago, sin embargo, con la similitud de los resultados obtenidos entre sí es difícil aseverar.\n",
    "\n"
   ]
  }
 ],
 "metadata": {
  "ExecuteTimeLog": [
   {
    "duration": 2741,
    "start_time": "2021-10-21T01:08:49.480Z"
   },
   {
    "duration": 52,
    "start_time": "2021-10-21T01:08:53.315Z"
   },
   {
    "duration": 49,
    "start_time": "2021-10-21T01:08:57.432Z"
   },
   {
    "duration": 70,
    "start_time": "2021-10-21T01:09:07.706Z"
   },
   {
    "duration": 694,
    "start_time": "2022-07-01T16:41:01.412Z"
   },
   {
    "duration": 14,
    "start_time": "2022-07-01T16:46:46.528Z"
   },
   {
    "duration": 17,
    "start_time": "2022-07-01T16:52:15.885Z"
   },
   {
    "duration": 139,
    "start_time": "2022-07-01T16:53:45.299Z"
   },
   {
    "duration": 7,
    "start_time": "2022-07-01T16:59:10.443Z"
   },
   {
    "duration": 145,
    "start_time": "2022-07-01T17:00:00.678Z"
   },
   {
    "duration": 22,
    "start_time": "2022-07-01T17:00:08.180Z"
   },
   {
    "duration": 20,
    "start_time": "2022-07-01T17:08:04.880Z"
   },
   {
    "duration": 21,
    "start_time": "2022-07-01T17:16:47.335Z"
   },
   {
    "duration": 10,
    "start_time": "2022-07-01T17:32:27.689Z"
   },
   {
    "duration": 20,
    "start_time": "2022-07-01T17:34:45.887Z"
   },
   {
    "duration": 10,
    "start_time": "2022-07-01T17:38:14.227Z"
   },
   {
    "duration": 25,
    "start_time": "2022-07-01T17:38:39.065Z"
   },
   {
    "duration": 10,
    "start_time": "2022-07-01T17:40:35.586Z"
   },
   {
    "duration": 6,
    "start_time": "2022-07-01T17:40:58.900Z"
   },
   {
    "duration": 83,
    "start_time": "2022-07-01T17:43:45.847Z"
   },
   {
    "duration": 8,
    "start_time": "2022-07-01T17:43:55.887Z"
   },
   {
    "duration": 9,
    "start_time": "2022-07-01T17:46:14.108Z"
   },
   {
    "duration": 11,
    "start_time": "2022-07-01T18:17:09.086Z"
   },
   {
    "duration": 7,
    "start_time": "2022-07-01T19:06:58.443Z"
   },
   {
    "duration": 10,
    "start_time": "2022-07-01T19:08:15.484Z"
   },
   {
    "duration": 13,
    "start_time": "2022-07-01T19:08:44.692Z"
   },
   {
    "duration": 8,
    "start_time": "2022-07-01T19:09:06.624Z"
   },
   {
    "duration": 127,
    "start_time": "2022-07-01T19:09:14.603Z"
   },
   {
    "duration": 114,
    "start_time": "2022-07-01T19:09:30.615Z"
   },
   {
    "duration": 10,
    "start_time": "2022-07-01T19:09:40.176Z"
   },
   {
    "duration": 7,
    "start_time": "2022-07-01T19:10:29.625Z"
   },
   {
    "duration": 6,
    "start_time": "2022-07-01T19:12:47.197Z"
   },
   {
    "duration": 6,
    "start_time": "2022-07-01T19:13:50.619Z"
   },
   {
    "duration": 16,
    "start_time": "2022-07-01T19:14:10.990Z"
   },
   {
    "duration": 117,
    "start_time": "2022-07-01T19:18:32.684Z"
   },
   {
    "duration": 5,
    "start_time": "2022-07-01T19:21:31.043Z"
   },
   {
    "duration": 5,
    "start_time": "2022-07-01T19:22:36.318Z"
   },
   {
    "duration": 11,
    "start_time": "2022-07-01T19:25:05.386Z"
   },
   {
    "duration": 8,
    "start_time": "2022-07-01T19:25:30.106Z"
   },
   {
    "duration": 12,
    "start_time": "2022-07-01T19:29:47.204Z"
   },
   {
    "duration": 13,
    "start_time": "2022-07-01T19:30:02.399Z"
   },
   {
    "duration": 7,
    "start_time": "2022-07-01T19:31:45.518Z"
   },
   {
    "duration": 14,
    "start_time": "2022-07-01T19:34:17.307Z"
   },
   {
    "duration": 41,
    "start_time": "2022-07-02T01:25:59.335Z"
   },
   {
    "duration": 456,
    "start_time": "2022-07-02T01:26:09.209Z"
   },
   {
    "duration": 7,
    "start_time": "2022-07-02T01:26:16.036Z"
   },
   {
    "duration": 10,
    "start_time": "2022-07-02T01:26:26.738Z"
   },
   {
    "duration": 7,
    "start_time": "2022-07-02T01:31:26.901Z"
   },
   {
    "duration": 6,
    "start_time": "2022-07-02T01:42:48.801Z"
   },
   {
    "duration": 20,
    "start_time": "2022-07-02T01:43:29.073Z"
   },
   {
    "duration": 19,
    "start_time": "2022-07-02T01:44:12.502Z"
   },
   {
    "duration": 18,
    "start_time": "2022-07-02T01:44:27.010Z"
   },
   {
    "duration": 11,
    "start_time": "2022-07-02T01:45:11.370Z"
   },
   {
    "duration": 11,
    "start_time": "2022-07-02T01:54:13.045Z"
   },
   {
    "duration": 14,
    "start_time": "2022-07-02T02:02:33.798Z"
   },
   {
    "duration": 14,
    "start_time": "2022-07-02T02:03:41.626Z"
   },
   {
    "duration": 12,
    "start_time": "2022-07-02T02:05:55.647Z"
   },
   {
    "duration": 9,
    "start_time": "2022-07-02T02:06:36.419Z"
   },
   {
    "duration": 9,
    "start_time": "2022-07-02T02:06:46.981Z"
   },
   {
    "duration": 15,
    "start_time": "2022-07-02T02:07:07.157Z"
   },
   {
    "duration": 11,
    "start_time": "2022-07-02T02:07:39.578Z"
   },
   {
    "duration": 14,
    "start_time": "2022-07-02T02:08:38.364Z"
   },
   {
    "duration": 4,
    "start_time": "2022-07-02T02:10:44.684Z"
   },
   {
    "duration": 4,
    "start_time": "2022-07-02T02:11:09.311Z"
   },
   {
    "duration": 3,
    "start_time": "2022-07-02T02:12:05.710Z"
   },
   {
    "duration": 3,
    "start_time": "2022-07-02T02:12:19.588Z"
   },
   {
    "duration": 4,
    "start_time": "2022-07-02T02:12:39.377Z"
   },
   {
    "duration": 3,
    "start_time": "2022-07-02T02:13:22.507Z"
   },
   {
    "duration": 4,
    "start_time": "2022-07-02T02:13:49.926Z"
   },
   {
    "duration": 4,
    "start_time": "2022-07-02T02:15:10.455Z"
   },
   {
    "duration": 4,
    "start_time": "2022-07-02T02:15:37.887Z"
   },
   {
    "duration": 4,
    "start_time": "2022-07-02T02:16:25.286Z"
   },
   {
    "duration": 1410,
    "start_time": "2022-07-02T02:16:54.948Z"
   },
   {
    "duration": 9,
    "start_time": "2022-07-02T02:17:46.682Z"
   },
   {
    "duration": 8,
    "start_time": "2022-07-02T02:18:08.998Z"
   },
   {
    "duration": 927,
    "start_time": "2022-07-02T02:20:11.839Z"
   },
   {
    "duration": 16,
    "start_time": "2022-07-02T02:21:19.265Z"
   },
   {
    "duration": 69,
    "start_time": "2022-07-02T02:26:48.097Z"
   },
   {
    "duration": 240,
    "start_time": "2022-07-02T02:27:28.256Z"
   },
   {
    "duration": 77,
    "start_time": "2022-07-02T02:27:37.961Z"
   },
   {
    "duration": 46,
    "start_time": "2022-07-02T02:28:06.001Z"
   },
   {
    "duration": 51,
    "start_time": "2022-07-02T02:29:05.483Z"
   },
   {
    "duration": 3,
    "start_time": "2022-07-02T02:29:11.634Z"
   },
   {
    "duration": 7,
    "start_time": "2022-07-02T02:29:14.663Z"
   },
   {
    "duration": 9,
    "start_time": "2022-07-02T02:29:21.405Z"
   },
   {
    "duration": 57,
    "start_time": "2022-07-02T02:29:28.338Z"
   },
   {
    "duration": 3,
    "start_time": "2022-07-02T02:31:31.582Z"
   },
   {
    "duration": 4,
    "start_time": "2022-07-02T02:31:42.096Z"
   },
   {
    "duration": 5,
    "start_time": "2022-07-02T02:31:48.252Z"
   },
   {
    "duration": 11,
    "start_time": "2022-07-02T02:33:05.523Z"
   },
   {
    "duration": 11,
    "start_time": "2022-07-02T02:44:22.793Z"
   },
   {
    "duration": 14,
    "start_time": "2022-07-02T02:48:16.684Z"
   },
   {
    "duration": 11,
    "start_time": "2022-07-02T02:50:10.602Z"
   },
   {
    "duration": 15,
    "start_time": "2022-07-02T02:51:49.001Z"
   },
   {
    "duration": 9,
    "start_time": "2022-07-02T02:54:05.316Z"
   },
   {
    "duration": 15,
    "start_time": "2022-07-02T02:54:25.740Z"
   },
   {
    "duration": 15,
    "start_time": "2022-07-02T02:55:34.575Z"
   },
   {
    "duration": 16,
    "start_time": "2022-07-02T02:56:21.486Z"
   },
   {
    "duration": 709,
    "start_time": "2022-07-02T02:57:37.020Z"
   },
   {
    "duration": 18,
    "start_time": "2022-07-02T02:58:02.664Z"
   },
   {
    "duration": 12,
    "start_time": "2022-07-02T02:59:11.513Z"
   },
   {
    "duration": 16,
    "start_time": "2022-07-02T03:02:01.948Z"
   },
   {
    "duration": 21,
    "start_time": "2022-07-02T03:02:30.916Z"
   },
   {
    "duration": 20,
    "start_time": "2022-07-02T03:07:54.460Z"
   },
   {
    "duration": 21,
    "start_time": "2022-07-02T03:09:44.513Z"
   },
   {
    "duration": 23,
    "start_time": "2022-07-02T03:10:55.501Z"
   },
   {
    "duration": 18,
    "start_time": "2022-07-02T03:11:26.221Z"
   },
   {
    "duration": 19,
    "start_time": "2022-07-02T03:12:14.003Z"
   },
   {
    "duration": 17,
    "start_time": "2022-07-02T03:12:28.252Z"
   },
   {
    "duration": 18,
    "start_time": "2022-07-02T03:15:31.809Z"
   },
   {
    "duration": 18,
    "start_time": "2022-07-02T03:16:14.965Z"
   },
   {
    "duration": 18,
    "start_time": "2022-07-02T03:17:34.523Z"
   },
   {
    "duration": 19,
    "start_time": "2022-07-02T03:24:25.049Z"
   },
   {
    "duration": 19,
    "start_time": "2022-07-02T03:28:28.020Z"
   },
   {
    "duration": 20,
    "start_time": "2022-07-02T03:39:46.807Z"
   },
   {
    "duration": 430,
    "start_time": "2022-07-02T03:42:35.661Z"
   },
   {
    "duration": 19,
    "start_time": "2022-07-02T03:43:07.824Z"
   },
   {
    "duration": 20,
    "start_time": "2022-07-02T03:43:29.149Z"
   },
   {
    "duration": 19,
    "start_time": "2022-07-02T03:43:57.272Z"
   },
   {
    "duration": 20,
    "start_time": "2022-07-02T03:45:52.727Z"
   },
   {
    "duration": 18,
    "start_time": "2022-07-02T03:47:11.497Z"
   },
   {
    "duration": 9,
    "start_time": "2022-07-02T03:56:19.971Z"
   },
   {
    "duration": 6,
    "start_time": "2022-07-02T03:56:42.511Z"
   },
   {
    "duration": 15,
    "start_time": "2022-07-02T03:59:47.173Z"
   },
   {
    "duration": 20,
    "start_time": "2022-07-02T04:01:53.823Z"
   },
   {
    "duration": 9,
    "start_time": "2022-07-02T04:02:31.993Z"
   },
   {
    "duration": 5,
    "start_time": "2022-07-02T04:02:40.315Z"
   },
   {
    "duration": 7,
    "start_time": "2022-07-02T04:05:04.919Z"
   },
   {
    "duration": 5,
    "start_time": "2022-07-02T04:05:07.791Z"
   },
   {
    "duration": 581,
    "start_time": "2022-07-04T14:23:15.626Z"
   },
   {
    "duration": 8,
    "start_time": "2022-07-04T14:23:38.493Z"
   },
   {
    "duration": 14,
    "start_time": "2022-07-04T14:23:52.356Z"
   },
   {
    "duration": 25,
    "start_time": "2022-07-04T14:39:39.594Z"
   },
   {
    "duration": 23,
    "start_time": "2022-07-04T14:53:53.408Z"
   },
   {
    "duration": 12,
    "start_time": "2022-07-04T14:54:13.823Z"
   },
   {
    "duration": 40,
    "start_time": "2022-07-04T14:55:00.910Z"
   },
   {
    "duration": 40,
    "start_time": "2022-07-04T14:56:51.119Z"
   },
   {
    "duration": 9,
    "start_time": "2022-07-04T14:57:33.020Z"
   },
   {
    "duration": 45,
    "start_time": "2022-07-04T14:58:25.710Z"
   },
   {
    "duration": 39,
    "start_time": "2022-07-04T15:00:04.305Z"
   },
   {
    "duration": 16,
    "start_time": "2022-07-04T15:01:32.308Z"
   },
   {
    "duration": 40,
    "start_time": "2022-07-04T15:03:53.496Z"
   },
   {
    "duration": 6561,
    "start_time": "2022-07-04T15:05:14.318Z"
   },
   {
    "duration": 6732,
    "start_time": "2022-07-04T15:05:24.985Z"
   },
   {
    "duration": 19,
    "start_time": "2022-07-04T15:06:20.693Z"
   },
   {
    "duration": 21,
    "start_time": "2022-07-04T15:08:16.816Z"
   },
   {
    "duration": 11,
    "start_time": "2022-07-04T15:09:53.999Z"
   },
   {
    "duration": 12,
    "start_time": "2022-07-04T15:11:36.349Z"
   },
   {
    "duration": 12,
    "start_time": "2022-07-04T15:15:22.680Z"
   },
   {
    "duration": 14,
    "start_time": "2022-07-04T15:16:51.941Z"
   },
   {
    "duration": 430,
    "start_time": "2022-07-04T15:17:56.417Z"
   },
   {
    "duration": 17,
    "start_time": "2022-07-04T15:19:27.016Z"
   },
   {
    "duration": 77,
    "start_time": "2022-07-04T15:27:37.199Z"
   },
   {
    "duration": 23,
    "start_time": "2022-07-04T15:50:43.750Z"
   },
   {
    "duration": 32,
    "start_time": "2022-07-04T15:51:04.686Z"
   },
   {
    "duration": 6,
    "start_time": "2022-07-04T16:58:22.677Z"
   },
   {
    "duration": 463,
    "start_time": "2022-07-04T16:59:31.553Z"
   },
   {
    "duration": 925,
    "start_time": "2022-07-04T17:00:09.610Z"
   },
   {
    "duration": 9,
    "start_time": "2022-07-04T17:00:23.977Z"
   },
   {
    "duration": 10,
    "start_time": "2022-07-04T17:01:16.776Z"
   },
   {
    "duration": 10,
    "start_time": "2022-07-04T17:01:50.254Z"
   },
   {
    "duration": 9,
    "start_time": "2022-07-04T17:02:09.724Z"
   },
   {
    "duration": 9,
    "start_time": "2022-07-04T17:02:25.896Z"
   },
   {
    "duration": 9,
    "start_time": "2022-07-04T17:02:51.456Z"
   },
   {
    "duration": 9,
    "start_time": "2022-07-04T17:03:13.056Z"
   },
   {
    "duration": 10,
    "start_time": "2022-07-04T17:03:34.975Z"
   },
   {
    "duration": 9,
    "start_time": "2022-07-04T17:24:44.342Z"
   },
   {
    "duration": 12,
    "start_time": "2022-07-04T17:25:06.724Z"
   },
   {
    "duration": 11,
    "start_time": "2022-07-04T17:30:05.101Z"
   },
   {
    "duration": 22,
    "start_time": "2022-07-04T17:32:09.262Z"
   },
   {
    "duration": 20,
    "start_time": "2022-07-04T17:32:47.322Z"
   },
   {
    "duration": 19,
    "start_time": "2022-07-04T17:33:32.286Z"
   },
   {
    "duration": 13,
    "start_time": "2022-07-04T17:37:32.744Z"
   },
   {
    "duration": 5,
    "start_time": "2022-07-04T17:47:34.490Z"
   },
   {
    "duration": 779,
    "start_time": "2022-07-04T17:47:52.789Z"
   },
   {
    "duration": 792,
    "start_time": "2022-07-04T17:48:52.849Z"
   },
   {
    "duration": 15,
    "start_time": "2022-07-04T18:55:22.760Z"
   },
   {
    "duration": 11,
    "start_time": "2022-07-04T18:55:42.410Z"
   },
   {
    "duration": 5,
    "start_time": "2022-07-04T18:55:54.975Z"
   },
   {
    "duration": 8,
    "start_time": "2022-07-04T18:56:15.264Z"
   },
   {
    "duration": 8,
    "start_time": "2022-07-04T18:56:47.146Z"
   },
   {
    "duration": 7,
    "start_time": "2022-07-04T18:57:08.476Z"
   },
   {
    "duration": 8,
    "start_time": "2022-07-04T18:58:19.107Z"
   },
   {
    "duration": 8,
    "start_time": "2022-07-04T18:59:12.053Z"
   },
   {
    "duration": 22,
    "start_time": "2022-07-04T19:01:33.609Z"
   },
   {
    "duration": 18,
    "start_time": "2022-07-04T19:01:53.694Z"
   },
   {
    "duration": 8,
    "start_time": "2022-07-04T19:05:13.090Z"
   },
   {
    "duration": 7,
    "start_time": "2022-07-04T19:05:52.245Z"
   },
   {
    "duration": 23,
    "start_time": "2022-07-04T19:12:30.916Z"
   },
   {
    "duration": 20,
    "start_time": "2022-07-04T19:12:56.577Z"
   },
   {
    "duration": 24,
    "start_time": "2022-07-04T19:14:08.000Z"
   },
   {
    "duration": 22,
    "start_time": "2022-07-04T19:14:34.582Z"
   },
   {
    "duration": 23,
    "start_time": "2022-07-04T19:14:59.784Z"
   },
   {
    "duration": 22,
    "start_time": "2022-07-04T19:15:40.800Z"
   },
   {
    "duration": 23,
    "start_time": "2022-07-04T19:32:20.635Z"
   },
   {
    "duration": 856,
    "start_time": "2022-07-04T19:32:32.435Z"
   },
   {
    "duration": 712,
    "start_time": "2022-07-04T19:32:51.362Z"
   },
   {
    "duration": 824,
    "start_time": "2022-07-04T19:34:25.320Z"
   },
   {
    "duration": 17,
    "start_time": "2022-07-04T19:34:41.358Z"
   },
   {
    "duration": 2,
    "start_time": "2022-07-04T19:34:59.420Z"
   },
   {
    "duration": 15,
    "start_time": "2022-07-04T19:35:20.477Z"
   },
   {
    "duration": 40,
    "start_time": "2022-07-04T20:21:41.758Z"
   },
   {
    "duration": 49,
    "start_time": "2022-07-04T20:23:07.274Z"
   },
   {
    "duration": 23,
    "start_time": "2022-07-04T20:42:31.092Z"
   },
   {
    "duration": 3,
    "start_time": "2022-07-04T20:42:59.479Z"
   },
   {
    "duration": 32,
    "start_time": "2022-07-04T20:43:55.680Z"
   },
   {
    "duration": 22,
    "start_time": "2022-07-04T21:02:03.542Z"
   },
   {
    "duration": 25,
    "start_time": "2022-07-04T21:07:04.801Z"
   },
   {
    "duration": 63,
    "start_time": "2022-07-04T21:17:16.643Z"
   },
   {
    "duration": 26,
    "start_time": "2022-07-04T21:17:43.941Z"
   },
   {
    "duration": 30,
    "start_time": "2022-07-04T21:18:37.868Z"
   },
   {
    "duration": 91,
    "start_time": "2022-07-04T21:27:58.126Z"
   },
   {
    "duration": 47,
    "start_time": "2022-07-04T21:28:25.155Z"
   },
   {
    "duration": 44,
    "start_time": "2022-07-04T21:30:03.368Z"
   },
   {
    "duration": 30,
    "start_time": "2022-07-04T21:30:46.310Z"
   },
   {
    "duration": 28,
    "start_time": "2022-07-04T21:34:29.718Z"
   },
   {
    "duration": 28,
    "start_time": "2022-07-04T21:34:41.420Z"
   },
   {
    "duration": 42,
    "start_time": "2022-07-04T21:35:00.563Z"
   },
   {
    "duration": 34,
    "start_time": "2022-07-04T21:38:29.474Z"
   },
   {
    "duration": 33,
    "start_time": "2022-07-04T21:40:12.179Z"
   },
   {
    "duration": 76,
    "start_time": "2022-07-04T21:46:29.144Z"
   },
   {
    "duration": 101,
    "start_time": "2022-07-04T21:46:52.356Z"
   },
   {
    "duration": 73,
    "start_time": "2022-07-04T22:05:54.323Z"
   },
   {
    "duration": 57,
    "start_time": "2022-07-04T22:08:49.537Z"
   },
   {
    "duration": 37,
    "start_time": "2022-07-04T22:12:15.225Z"
   },
   {
    "duration": 31,
    "start_time": "2022-07-04T22:39:46.832Z"
   },
   {
    "duration": 59,
    "start_time": "2022-07-04T22:47:11.142Z"
   },
   {
    "duration": 4,
    "start_time": "2022-07-04T22:47:25.093Z"
   },
   {
    "duration": 13,
    "start_time": "2022-07-04T23:09:20.250Z"
   },
   {
    "duration": 6,
    "start_time": "2022-07-04T23:11:11.284Z"
   },
   {
    "duration": 7,
    "start_time": "2022-07-04T23:11:49.828Z"
   },
   {
    "duration": 9,
    "start_time": "2022-07-04T23:12:42.024Z"
   },
   {
    "duration": 15,
    "start_time": "2022-07-04T23:13:16.511Z"
   },
   {
    "duration": 14,
    "start_time": "2022-07-04T23:13:41.614Z"
   },
   {
    "duration": 17,
    "start_time": "2022-07-04T23:16:14.108Z"
   },
   {
    "duration": 14,
    "start_time": "2022-07-04T23:16:36.552Z"
   },
   {
    "duration": 4,
    "start_time": "2022-07-04T23:16:39.745Z"
   },
   {
    "duration": 4,
    "start_time": "2022-07-04T23:17:17.538Z"
   },
   {
    "duration": 4,
    "start_time": "2022-07-04T23:17:50.342Z"
   },
   {
    "duration": 5,
    "start_time": "2022-07-04T23:18:12.565Z"
   },
   {
    "duration": 8,
    "start_time": "2022-07-04T23:18:32.502Z"
   },
   {
    "duration": 3,
    "start_time": "2022-07-04T23:20:47.259Z"
   },
   {
    "duration": 7,
    "start_time": "2022-07-04T23:20:59.820Z"
   },
   {
    "duration": 5,
    "start_time": "2022-07-04T23:22:22.595Z"
   },
   {
    "duration": 5,
    "start_time": "2022-07-04T23:24:05.240Z"
   },
   {
    "duration": 11,
    "start_time": "2022-07-04T23:30:44.293Z"
   },
   {
    "duration": 7,
    "start_time": "2022-07-04T23:37:07.144Z"
   },
   {
    "duration": 10,
    "start_time": "2022-07-04T23:37:28.100Z"
   },
   {
    "duration": 7,
    "start_time": "2022-07-04T23:42:42.653Z"
   },
   {
    "duration": 6,
    "start_time": "2022-07-04T23:44:44.018Z"
   },
   {
    "duration": 12,
    "start_time": "2022-07-04T23:49:50.149Z"
   },
   {
    "duration": 7,
    "start_time": "2022-07-04T23:51:20.793Z"
   },
   {
    "duration": 7,
    "start_time": "2022-07-04T23:52:16.164Z"
   },
   {
    "duration": 6,
    "start_time": "2022-07-04T23:52:27.974Z"
   },
   {
    "duration": 10,
    "start_time": "2022-07-05T00:11:17.573Z"
   },
   {
    "duration": 7,
    "start_time": "2022-07-05T00:13:41.979Z"
   },
   {
    "duration": 7,
    "start_time": "2022-07-05T00:14:08.979Z"
   },
   {
    "duration": 4,
    "start_time": "2022-07-05T00:18:19.260Z"
   },
   {
    "duration": 11,
    "start_time": "2022-07-05T00:18:49.816Z"
   },
   {
    "duration": 761,
    "start_time": "2022-07-05T00:19:11.209Z"
   },
   {
    "duration": 4,
    "start_time": "2022-07-05T00:19:17.901Z"
   },
   {
    "duration": 11,
    "start_time": "2022-07-05T00:22:27.279Z"
   },
   {
    "duration": 9,
    "start_time": "2022-07-05T00:22:34.685Z"
   },
   {
    "duration": 5,
    "start_time": "2022-07-05T00:22:43.987Z"
   },
   {
    "duration": 5,
    "start_time": "2022-07-05T00:22:49.704Z"
   },
   {
    "duration": 5,
    "start_time": "2022-07-05T00:24:40.630Z"
   },
   {
    "duration": 6,
    "start_time": "2022-07-05T00:25:05.137Z"
   },
   {
    "duration": 5,
    "start_time": "2022-07-05T00:25:33.292Z"
   },
   {
    "duration": 6,
    "start_time": "2022-07-05T00:26:34.084Z"
   },
   {
    "duration": 14,
    "start_time": "2022-07-05T00:31:05.893Z"
   },
   {
    "duration": 10,
    "start_time": "2022-07-05T00:32:32.868Z"
   },
   {
    "duration": 4,
    "start_time": "2022-07-05T00:32:41.523Z"
   },
   {
    "duration": 15,
    "start_time": "2022-07-05T00:32:56.421Z"
   },
   {
    "duration": 4,
    "start_time": "2022-07-05T00:33:51.492Z"
   },
   {
    "duration": 5,
    "start_time": "2022-07-05T00:34:06.531Z"
   },
   {
    "duration": 4,
    "start_time": "2022-07-05T00:34:21.186Z"
   },
   {
    "duration": 15,
    "start_time": "2022-07-05T00:34:30.672Z"
   },
   {
    "duration": 16,
    "start_time": "2022-07-05T00:58:28.623Z"
   },
   {
    "duration": 53,
    "start_time": "2022-07-05T21:54:30.986Z"
   },
   {
    "duration": 682,
    "start_time": "2022-07-05T21:54:40.162Z"
   },
   {
    "duration": 9,
    "start_time": "2022-07-05T21:54:50.160Z"
   },
   {
    "duration": 27,
    "start_time": "2022-07-05T21:54:56.608Z"
   },
   {
    "duration": 9,
    "start_time": "2022-07-05T21:57:32.658Z"
   },
   {
    "duration": 10,
    "start_time": "2022-07-05T21:57:45.574Z"
   },
   {
    "duration": 17,
    "start_time": "2022-07-05T21:59:34.329Z"
   },
   {
    "duration": 22,
    "start_time": "2022-07-05T22:09:59.135Z"
   },
   {
    "duration": 38,
    "start_time": "2022-07-05T22:16:40.336Z"
   },
   {
    "duration": 34,
    "start_time": "2022-07-05T22:17:12.096Z"
   },
   {
    "duration": 32,
    "start_time": "2022-07-05T22:17:44.624Z"
   },
   {
    "duration": 28,
    "start_time": "2022-07-05T22:18:45.403Z"
   },
   {
    "duration": 20,
    "start_time": "2022-07-05T22:18:52.748Z"
   },
   {
    "duration": 5,
    "start_time": "2022-07-05T22:24:42.063Z"
   },
   {
    "duration": 5,
    "start_time": "2022-07-05T22:25:34.108Z"
   },
   {
    "duration": 4,
    "start_time": "2022-07-05T22:26:23.097Z"
   },
   {
    "duration": 5,
    "start_time": "2022-07-05T22:27:12.591Z"
   },
   {
    "duration": 5,
    "start_time": "2022-07-05T22:29:46.033Z"
   },
   {
    "duration": 4,
    "start_time": "2022-07-05T22:30:48.816Z"
   },
   {
    "duration": 9,
    "start_time": "2022-07-05T22:32:40.094Z"
   },
   {
    "duration": 4,
    "start_time": "2022-07-05T22:33:03.026Z"
   },
   {
    "duration": 5,
    "start_time": "2022-07-05T22:34:39.930Z"
   },
   {
    "duration": 9,
    "start_time": "2022-07-05T22:57:10.840Z"
   },
   {
    "duration": 8,
    "start_time": "2022-07-05T22:58:22.098Z"
   },
   {
    "duration": 8,
    "start_time": "2022-07-05T22:58:59.182Z"
   },
   {
    "duration": 9,
    "start_time": "2022-07-05T22:59:27.199Z"
   },
   {
    "duration": 9,
    "start_time": "2022-07-05T23:05:14.795Z"
   },
   {
    "duration": 77,
    "start_time": "2022-07-05T23:14:46.545Z"
   },
   {
    "duration": 24,
    "start_time": "2022-07-05T23:16:23.455Z"
   },
   {
    "duration": 21,
    "start_time": "2022-07-05T23:17:47.607Z"
   },
   {
    "duration": 9,
    "start_time": "2022-07-05T23:21:24.037Z"
   },
   {
    "duration": 12,
    "start_time": "2022-07-05T23:21:28.804Z"
   },
   {
    "duration": 9,
    "start_time": "2022-07-05T23:22:19.517Z"
   },
   {
    "duration": 8,
    "start_time": "2022-07-05T23:30:14.848Z"
   },
   {
    "duration": 20,
    "start_time": "2022-07-05T23:30:30.638Z"
   },
   {
    "duration": 20,
    "start_time": "2022-07-05T23:31:33.239Z"
   },
   {
    "duration": 19,
    "start_time": "2022-07-05T23:32:30.024Z"
   },
   {
    "duration": 14,
    "start_time": "2022-07-05T23:33:41.369Z"
   },
   {
    "duration": 14,
    "start_time": "2022-07-05T23:33:55.222Z"
   },
   {
    "duration": 1181,
    "start_time": "2022-07-05T23:34:37.305Z"
   },
   {
    "duration": 23,
    "start_time": "2022-07-05T23:34:56.007Z"
   },
   {
    "duration": 19,
    "start_time": "2022-07-05T23:36:06.328Z"
   },
   {
    "duration": 54,
    "start_time": "2022-07-05T23:37:27.570Z"
   },
   {
    "duration": 43,
    "start_time": "2022-07-05T23:37:37.947Z"
   },
   {
    "duration": 18,
    "start_time": "2022-07-05T23:37:45.456Z"
   },
   {
    "duration": 604,
    "start_time": "2022-07-05T23:38:41.941Z"
   },
   {
    "duration": 21,
    "start_time": "2022-07-05T23:39:06.223Z"
   },
   {
    "duration": 15,
    "start_time": "2022-07-05T23:41:22.535Z"
   },
   {
    "duration": 17,
    "start_time": "2022-07-05T23:43:06.395Z"
   },
   {
    "duration": 17,
    "start_time": "2022-07-05T23:44:26.392Z"
   },
   {
    "duration": 19,
    "start_time": "2022-07-05T23:45:30.236Z"
   },
   {
    "duration": 17,
    "start_time": "2022-07-05T23:45:48.260Z"
   },
   {
    "duration": 10,
    "start_time": "2022-07-05T23:47:14.880Z"
   },
   {
    "duration": 8,
    "start_time": "2022-07-05T23:47:56.414Z"
   },
   {
    "duration": 14,
    "start_time": "2022-07-05T23:49:14.150Z"
   },
   {
    "duration": 17,
    "start_time": "2022-07-05T23:50:23.823Z"
   },
   {
    "duration": 17,
    "start_time": "2022-07-05T23:52:50.191Z"
   },
   {
    "duration": 76,
    "start_time": "2022-07-05T23:58:41.537Z"
   },
   {
    "duration": 129,
    "start_time": "2022-07-05T23:58:49.983Z"
   },
   {
    "duration": 88,
    "start_time": "2022-07-05T23:59:01.184Z"
   },
   {
    "duration": 24,
    "start_time": "2022-07-05T23:59:12.399Z"
   },
   {
    "duration": 17,
    "start_time": "2022-07-05T23:59:42.626Z"
   },
   {
    "duration": 16,
    "start_time": "2022-07-06T00:02:24.966Z"
   },
   {
    "duration": 17,
    "start_time": "2022-07-06T00:12:32.639Z"
   },
   {
    "duration": 21,
    "start_time": "2022-07-06T00:13:52.547Z"
   },
   {
    "duration": 15,
    "start_time": "2022-07-06T00:57:45.587Z"
   },
   {
    "duration": 6,
    "start_time": "2022-07-06T01:11:38.788Z"
   },
   {
    "duration": 5,
    "start_time": "2022-07-06T01:12:27.099Z"
   },
   {
    "duration": 33,
    "start_time": "2022-07-06T01:15:52.678Z"
   },
   {
    "duration": 11,
    "start_time": "2022-07-06T01:16:54.880Z"
   },
   {
    "duration": 17,
    "start_time": "2022-07-06T01:17:11.650Z"
   },
   {
    "duration": 12,
    "start_time": "2022-07-06T01:20:58.434Z"
   },
   {
    "duration": 6,
    "start_time": "2022-07-06T01:33:21.856Z"
   },
   {
    "duration": 17,
    "start_time": "2022-07-06T01:33:53.862Z"
   },
   {
    "duration": 4,
    "start_time": "2022-07-06T01:33:58.154Z"
   },
   {
    "duration": 7,
    "start_time": "2022-07-06T01:34:12.690Z"
   },
   {
    "duration": 6,
    "start_time": "2022-07-06T01:34:41.463Z"
   },
   {
    "duration": 11,
    "start_time": "2022-07-06T01:38:10.480Z"
   },
   {
    "duration": 7,
    "start_time": "2022-07-06T01:40:04.149Z"
   },
   {
    "duration": 11,
    "start_time": "2022-07-06T01:40:23.397Z"
   },
   {
    "duration": 5,
    "start_time": "2022-07-06T01:40:27.921Z"
   },
   {
    "duration": 8,
    "start_time": "2022-07-06T01:43:05.675Z"
   },
   {
    "duration": 9,
    "start_time": "2022-07-06T01:44:13.798Z"
   },
   {
    "duration": 8,
    "start_time": "2022-07-06T01:44:28.476Z"
   },
   {
    "duration": 8,
    "start_time": "2022-07-06T01:44:47.725Z"
   },
   {
    "duration": 6,
    "start_time": "2022-07-06T01:45:23.634Z"
   },
   {
    "duration": 6,
    "start_time": "2022-07-06T01:49:28.454Z"
   },
   {
    "duration": 6,
    "start_time": "2022-07-06T01:52:44.518Z"
   },
   {
    "duration": 4,
    "start_time": "2022-07-06T01:53:06.137Z"
   },
   {
    "duration": 15,
    "start_time": "2022-07-06T01:54:18.870Z"
   },
   {
    "duration": 8,
    "start_time": "2022-07-06T01:57:01.060Z"
   },
   {
    "duration": 16,
    "start_time": "2022-07-06T01:57:44.103Z"
   },
   {
    "duration": 19,
    "start_time": "2022-07-06T01:59:09.813Z"
   },
   {
    "duration": 4,
    "start_time": "2022-07-06T02:08:21.256Z"
   },
   {
    "duration": 7,
    "start_time": "2022-07-06T02:09:14.117Z"
   },
   {
    "duration": 19,
    "start_time": "2022-07-06T02:10:28.274Z"
   },
   {
    "duration": 19,
    "start_time": "2022-07-06T02:11:21.184Z"
   },
   {
    "duration": 21,
    "start_time": "2022-07-06T02:11:40.105Z"
   },
   {
    "duration": 7,
    "start_time": "2022-07-06T02:13:44.640Z"
   },
   {
    "duration": 7,
    "start_time": "2022-07-06T02:13:54.581Z"
   },
   {
    "duration": 5,
    "start_time": "2022-07-06T02:14:20.350Z"
   },
   {
    "duration": 9,
    "start_time": "2022-07-06T02:14:46.876Z"
   },
   {
    "duration": 7,
    "start_time": "2022-07-06T02:17:49.020Z"
   },
   {
    "duration": 1240,
    "start_time": "2022-07-06T02:19:29.968Z"
   },
   {
    "duration": 3292,
    "start_time": "2022-07-06T02:20:03.352Z"
   },
   {
    "duration": 15,
    "start_time": "2022-07-06T02:20:23.710Z"
   },
   {
    "duration": 28,
    "start_time": "2022-07-06T02:20:37.272Z"
   },
   {
    "duration": 6,
    "start_time": "2022-07-06T02:24:53.289Z"
   },
   {
    "duration": 503,
    "start_time": "2022-07-06T14:18:26.901Z"
   },
   {
    "duration": 8,
    "start_time": "2022-07-06T14:19:31.992Z"
   },
   {
    "duration": 18,
    "start_time": "2022-07-06T14:19:35.882Z"
   },
   {
    "duration": 11,
    "start_time": "2022-07-06T14:19:52.734Z"
   },
   {
    "duration": 17,
    "start_time": "2022-07-06T14:20:13.346Z"
   },
   {
    "duration": 19,
    "start_time": "2022-07-06T14:20:45.261Z"
   },
   {
    "duration": 31,
    "start_time": "2022-07-06T14:20:59.542Z"
   },
   {
    "duration": 4,
    "start_time": "2022-07-06T14:21:12.830Z"
   },
   {
    "duration": 17,
    "start_time": "2022-07-06T14:21:58.258Z"
   },
   {
    "duration": 16,
    "start_time": "2022-07-06T14:22:07.823Z"
   },
   {
    "duration": 14,
    "start_time": "2022-07-06T14:23:10.558Z"
   },
   {
    "duration": 16,
    "start_time": "2022-07-06T14:25:14.072Z"
   },
   {
    "duration": 16,
    "start_time": "2022-07-06T14:25:48.626Z"
   },
   {
    "duration": 16,
    "start_time": "2022-07-06T14:32:38.053Z"
   },
   {
    "duration": 6,
    "start_time": "2022-07-06T14:37:20.564Z"
   },
   {
    "duration": 14,
    "start_time": "2022-07-06T14:38:33.532Z"
   },
   {
    "duration": 5,
    "start_time": "2022-07-06T14:39:18.635Z"
   },
   {
    "duration": 16,
    "start_time": "2022-07-06T14:40:52.923Z"
   },
   {
    "duration": 17,
    "start_time": "2022-07-06T14:41:13.494Z"
   },
   {
    "duration": 18,
    "start_time": "2022-07-06T14:41:31.759Z"
   },
   {
    "duration": 287,
    "start_time": "2022-07-06T14:42:10.464Z"
   },
   {
    "duration": 12,
    "start_time": "2022-07-06T14:42:27.381Z"
   },
   {
    "duration": 32,
    "start_time": "2022-07-06T14:42:54.019Z"
   },
   {
    "duration": 18,
    "start_time": "2022-07-06T14:49:04.133Z"
   },
   {
    "duration": 14,
    "start_time": "2022-07-06T14:50:41.056Z"
   },
   {
    "duration": 5,
    "start_time": "2022-07-06T14:52:24.974Z"
   },
   {
    "duration": 10,
    "start_time": "2022-07-06T14:54:05.754Z"
   },
   {
    "duration": 7,
    "start_time": "2022-07-06T14:54:08.521Z"
   },
   {
    "duration": 6,
    "start_time": "2022-07-06T14:55:42.581Z"
   },
   {
    "duration": 8,
    "start_time": "2022-07-06T14:56:28.717Z"
   },
   {
    "duration": 5,
    "start_time": "2022-07-06T14:57:57.781Z"
   },
   {
    "duration": 4,
    "start_time": "2022-07-06T14:58:00.609Z"
   },
   {
    "duration": 7,
    "start_time": "2022-07-06T14:59:16.312Z"
   },
   {
    "duration": 13,
    "start_time": "2022-07-06T15:00:15.359Z"
   },
   {
    "duration": 22,
    "start_time": "2022-07-06T15:00:34.163Z"
   },
   {
    "duration": 13,
    "start_time": "2022-07-06T15:06:17.684Z"
   },
   {
    "duration": 13,
    "start_time": "2022-07-06T15:06:48.714Z"
   },
   {
    "duration": 10,
    "start_time": "2022-07-06T15:07:38.275Z"
   },
   {
    "duration": 12,
    "start_time": "2022-07-06T15:08:21.249Z"
   },
   {
    "duration": 24,
    "start_time": "2022-07-06T15:08:28.167Z"
   },
   {
    "duration": 945,
    "start_time": "2022-07-06T15:11:31.428Z"
   },
   {
    "duration": 27,
    "start_time": "2022-07-06T15:11:39.361Z"
   },
   {
    "duration": 14,
    "start_time": "2022-07-06T15:12:12.329Z"
   },
   {
    "duration": 14,
    "start_time": "2022-07-06T15:13:40.501Z"
   },
   {
    "duration": 14,
    "start_time": "2022-07-06T15:14:11.274Z"
   },
   {
    "duration": 13,
    "start_time": "2022-07-06T15:14:17.208Z"
   },
   {
    "duration": 11,
    "start_time": "2022-07-06T15:16:08.385Z"
   },
   {
    "duration": 10,
    "start_time": "2022-07-06T15:17:17.692Z"
   },
   {
    "duration": 9,
    "start_time": "2022-07-06T15:17:31.735Z"
   },
   {
    "duration": 18,
    "start_time": "2022-07-06T15:24:08.378Z"
   },
   {
    "duration": 10,
    "start_time": "2022-07-06T15:24:17.217Z"
   },
   {
    "duration": 10,
    "start_time": "2022-07-06T15:24:23.840Z"
   },
   {
    "duration": 63,
    "start_time": "2022-07-06T15:26:04.574Z"
   },
   {
    "duration": 21,
    "start_time": "2022-07-06T15:26:23.930Z"
   },
   {
    "duration": 16,
    "start_time": "2022-07-06T15:26:36.965Z"
   },
   {
    "duration": 15,
    "start_time": "2022-07-06T15:26:42.269Z"
   },
   {
    "duration": 45,
    "start_time": "2022-07-06T15:27:15.861Z"
   },
   {
    "duration": 26,
    "start_time": "2022-07-06T15:27:43.132Z"
   },
   {
    "duration": 25,
    "start_time": "2022-07-06T15:36:15.180Z"
   },
   {
    "duration": 18,
    "start_time": "2022-07-06T15:36:37.715Z"
   },
   {
    "duration": 24,
    "start_time": "2022-07-06T15:36:55.733Z"
   },
   {
    "duration": 23,
    "start_time": "2022-07-06T15:38:02.097Z"
   },
   {
    "duration": 13,
    "start_time": "2022-07-06T15:38:28.516Z"
   },
   {
    "duration": 12,
    "start_time": "2022-07-06T15:38:38.396Z"
   },
   {
    "duration": 7,
    "start_time": "2022-07-06T15:39:01.711Z"
   },
   {
    "duration": 8,
    "start_time": "2022-07-06T15:39:14.335Z"
   },
   {
    "duration": 9,
    "start_time": "2022-07-06T15:39:44.123Z"
   },
   {
    "duration": 8,
    "start_time": "2022-07-06T15:39:49.707Z"
   },
   {
    "duration": 7,
    "start_time": "2022-07-06T15:40:23.590Z"
   },
   {
    "duration": 8,
    "start_time": "2022-07-06T15:40:36.777Z"
   },
   {
    "duration": 9,
    "start_time": "2022-07-06T15:40:50.110Z"
   },
   {
    "duration": 31,
    "start_time": "2022-07-06T15:42:50.885Z"
   },
   {
    "duration": 10,
    "start_time": "2022-07-06T15:42:58.485Z"
   },
   {
    "duration": 7,
    "start_time": "2022-07-06T15:43:13.009Z"
   },
   {
    "duration": 6,
    "start_time": "2022-07-06T15:43:22.805Z"
   },
   {
    "duration": 9,
    "start_time": "2022-07-06T15:43:29.274Z"
   },
   {
    "duration": 10,
    "start_time": "2022-07-06T15:44:34.331Z"
   },
   {
    "duration": 11,
    "start_time": "2022-07-06T15:44:46.967Z"
   },
   {
    "duration": 11,
    "start_time": "2022-07-06T15:44:57.385Z"
   },
   {
    "duration": 10,
    "start_time": "2022-07-06T15:45:48.025Z"
   },
   {
    "duration": 8,
    "start_time": "2022-07-06T15:46:19.901Z"
   },
   {
    "duration": 11,
    "start_time": "2022-07-06T15:46:49.866Z"
   },
   {
    "duration": 12,
    "start_time": "2022-07-06T15:47:41.016Z"
   },
   {
    "duration": 9,
    "start_time": "2022-07-06T15:50:01.437Z"
   },
   {
    "duration": 34,
    "start_time": "2022-07-06T15:51:10.422Z"
   },
   {
    "duration": 8,
    "start_time": "2022-07-06T15:51:46.378Z"
   },
   {
    "duration": 8,
    "start_time": "2022-07-06T15:57:24.061Z"
   },
   {
    "duration": 8,
    "start_time": "2022-07-06T15:57:46.745Z"
   },
   {
    "duration": 9,
    "start_time": "2022-07-06T15:58:16.388Z"
   },
   {
    "duration": 15,
    "start_time": "2022-07-06T15:58:32.971Z"
   },
   {
    "duration": 15,
    "start_time": "2022-07-06T15:59:11.831Z"
   },
   {
    "duration": 10,
    "start_time": "2022-07-06T15:59:20.426Z"
   },
   {
    "duration": 9,
    "start_time": "2022-07-06T15:59:30.278Z"
   },
   {
    "duration": 12,
    "start_time": "2022-07-06T15:59:38.767Z"
   },
   {
    "duration": 11,
    "start_time": "2022-07-06T15:59:50.909Z"
   },
   {
    "duration": 8,
    "start_time": "2022-07-06T15:59:59.049Z"
   },
   {
    "duration": 6,
    "start_time": "2022-07-06T16:01:32.224Z"
   },
   {
    "duration": 15,
    "start_time": "2022-07-06T16:07:02.343Z"
   },
   {
    "duration": 8,
    "start_time": "2022-07-06T16:16:57.713Z"
   },
   {
    "duration": 9,
    "start_time": "2022-07-06T16:17:46.155Z"
   },
   {
    "duration": 7,
    "start_time": "2022-07-06T16:39:36.730Z"
   },
   {
    "duration": 5,
    "start_time": "2022-07-06T16:40:16.115Z"
   },
   {
    "duration": 6,
    "start_time": "2022-07-06T16:40:36.876Z"
   },
   {
    "duration": 7,
    "start_time": "2022-07-06T16:40:50.751Z"
   },
   {
    "duration": 7,
    "start_time": "2022-07-06T16:41:22.881Z"
   },
   {
    "duration": 5,
    "start_time": "2022-07-06T16:47:51.589Z"
   },
   {
    "duration": 8,
    "start_time": "2022-07-06T16:48:51.964Z"
   },
   {
    "duration": 9,
    "start_time": "2022-07-06T16:49:10.544Z"
   },
   {
    "duration": 10,
    "start_time": "2022-07-06T16:49:50.803Z"
   },
   {
    "duration": 12,
    "start_time": "2022-07-06T16:50:35.138Z"
   },
   {
    "duration": 43,
    "start_time": "2022-07-06T16:52:22.140Z"
   },
   {
    "duration": 66,
    "start_time": "2022-07-06T16:54:24.978Z"
   },
   {
    "duration": 18,
    "start_time": "2022-07-06T16:54:32.960Z"
   },
   {
    "duration": 10,
    "start_time": "2022-07-06T16:54:42.390Z"
   },
   {
    "duration": 17,
    "start_time": "2022-07-06T16:54:50.928Z"
   },
   {
    "duration": 20,
    "start_time": "2022-07-06T16:55:00.670Z"
   },
   {
    "duration": 34,
    "start_time": "2022-07-06T16:55:09.062Z"
   },
   {
    "duration": 4,
    "start_time": "2022-07-06T16:55:18.096Z"
   },
   {
    "duration": 20,
    "start_time": "2022-07-06T16:55:30.262Z"
   },
   {
    "duration": 15,
    "start_time": "2022-07-06T16:55:35.366Z"
   },
   {
    "duration": 17,
    "start_time": "2022-07-06T16:55:41.550Z"
   },
   {
    "duration": 19,
    "start_time": "2022-07-06T16:55:47.657Z"
   },
   {
    "duration": 17,
    "start_time": "2022-07-06T16:55:57.877Z"
   },
   {
    "duration": 31,
    "start_time": "2022-07-06T16:56:10.358Z"
   },
   {
    "duration": 25,
    "start_time": "2022-07-06T16:56:19.343Z"
   },
   {
    "duration": 25,
    "start_time": "2022-07-06T16:56:26.635Z"
   },
   {
    "duration": 6,
    "start_time": "2022-07-06T16:56:36.041Z"
   },
   {
    "duration": 17,
    "start_time": "2022-07-06T16:56:39.491Z"
   },
   {
    "duration": 6,
    "start_time": "2022-07-06T16:56:42.697Z"
   },
   {
    "duration": 5,
    "start_time": "2022-07-06T16:56:46.618Z"
   },
   {
    "duration": 8,
    "start_time": "2022-07-06T16:56:51.386Z"
   },
   {
    "duration": 8,
    "start_time": "2022-07-06T16:57:01.277Z"
   },
   {
    "duration": 7,
    "start_time": "2022-07-06T16:57:08.664Z"
   },
   {
    "duration": 5,
    "start_time": "2022-07-06T16:57:12.232Z"
   },
   {
    "duration": 9,
    "start_time": "2022-07-06T16:57:21.120Z"
   },
   {
    "duration": 17,
    "start_time": "2022-07-06T16:57:28.261Z"
   },
   {
    "duration": 20,
    "start_time": "2022-07-06T16:57:31.665Z"
   },
   {
    "duration": 20,
    "start_time": "2022-07-06T16:57:39.668Z"
   },
   {
    "duration": 8,
    "start_time": "2022-07-06T16:57:50.261Z"
   },
   {
    "duration": 10,
    "start_time": "2022-07-06T16:57:57.797Z"
   },
   {
    "duration": 7,
    "start_time": "2022-07-06T16:58:02.606Z"
   },
   {
    "duration": 9,
    "start_time": "2022-07-06T16:58:10.164Z"
   },
   {
    "duration": 6,
    "start_time": "2022-07-06T16:58:21.822Z"
   },
   {
    "duration": 11,
    "start_time": "2022-07-06T16:58:24.361Z"
   },
   {
    "duration": 9,
    "start_time": "2022-07-06T16:58:38.967Z"
   },
   {
    "duration": 6,
    "start_time": "2022-07-06T16:58:55.896Z"
   },
   {
    "duration": 23,
    "start_time": "2022-07-06T16:59:03.437Z"
   },
   {
    "duration": 9,
    "start_time": "2022-07-06T16:59:23.220Z"
   },
   {
    "duration": 19,
    "start_time": "2022-07-06T17:00:15.614Z"
   },
   {
    "duration": 10,
    "start_time": "2022-07-06T17:00:27.417Z"
   },
   {
    "duration": 11,
    "start_time": "2022-07-06T17:00:32.753Z"
   },
   {
    "duration": 18,
    "start_time": "2022-07-06T17:01:38.661Z"
   },
   {
    "duration": 29,
    "start_time": "2022-07-06T17:02:16.725Z"
   },
   {
    "duration": 9,
    "start_time": "2022-07-06T17:02:31.841Z"
   },
   {
    "duration": 11,
    "start_time": "2022-07-06T17:02:36.566Z"
   },
   {
    "duration": 7,
    "start_time": "2022-07-06T17:02:47.076Z"
   },
   {
    "duration": 12,
    "start_time": "2022-07-06T17:02:50.295Z"
   },
   {
    "duration": 6,
    "start_time": "2022-07-06T17:02:58.014Z"
   },
   {
    "duration": 12,
    "start_time": "2022-07-06T17:03:01.638Z"
   },
   {
    "duration": 10,
    "start_time": "2022-07-06T17:03:41.386Z"
   },
   {
    "duration": 11,
    "start_time": "2022-07-06T17:03:47.045Z"
   },
   {
    "duration": 12,
    "start_time": "2022-07-06T17:03:56.813Z"
   },
   {
    "duration": 7,
    "start_time": "2022-07-06T17:04:24.713Z"
   },
   {
    "duration": 5,
    "start_time": "2022-07-06T17:04:35.004Z"
   },
   {
    "duration": 12,
    "start_time": "2022-07-06T17:04:46.778Z"
   },
   {
    "duration": 10,
    "start_time": "2022-07-06T17:05:10.967Z"
   },
   {
    "duration": 8,
    "start_time": "2022-07-06T17:05:22.514Z"
   },
   {
    "duration": 11,
    "start_time": "2022-07-06T17:08:29.123Z"
   },
   {
    "duration": 38,
    "start_time": "2022-07-06T17:12:37.934Z"
   },
   {
    "duration": 14,
    "start_time": "2022-07-06T17:12:59.750Z"
   },
   {
    "duration": 7,
    "start_time": "2022-07-06T17:18:09.229Z"
   },
   {
    "duration": 13,
    "start_time": "2022-07-06T17:20:11.929Z"
   },
   {
    "duration": 12,
    "start_time": "2022-07-06T17:20:40.489Z"
   },
   {
    "duration": 11,
    "start_time": "2022-07-06T17:20:43.689Z"
   },
   {
    "duration": 12,
    "start_time": "2022-07-06T17:21:23.264Z"
   },
   {
    "duration": 23,
    "start_time": "2022-07-06T17:37:59.964Z"
   },
   {
    "duration": 18,
    "start_time": "2022-07-06T17:38:45.205Z"
   },
   {
    "duration": 23,
    "start_time": "2022-07-06T17:41:59.820Z"
   },
   {
    "duration": 23,
    "start_time": "2022-07-06T17:42:47.339Z"
   },
   {
    "duration": 11,
    "start_time": "2022-07-06T17:46:02.800Z"
   },
   {
    "duration": 11,
    "start_time": "2022-07-06T17:48:14.773Z"
   },
   {
    "duration": 13,
    "start_time": "2022-07-06T17:48:21.467Z"
   },
   {
    "duration": 44,
    "start_time": "2022-07-06T23:09:12.632Z"
   },
   {
    "duration": 555,
    "start_time": "2022-07-06T23:10:06.708Z"
   },
   {
    "duration": 8,
    "start_time": "2022-07-06T23:10:07.265Z"
   },
   {
    "duration": 39,
    "start_time": "2022-07-06T23:10:07.276Z"
   },
   {
    "duration": 20,
    "start_time": "2022-07-06T23:10:07.317Z"
   },
   {
    "duration": 37,
    "start_time": "2022-07-06T23:10:07.339Z"
   },
   {
    "duration": 25,
    "start_time": "2022-07-06T23:10:07.378Z"
   },
   {
    "duration": 34,
    "start_time": "2022-07-06T23:10:07.405Z"
   },
   {
    "duration": 4,
    "start_time": "2022-07-06T23:10:07.440Z"
   },
   {
    "duration": 23,
    "start_time": "2022-07-06T23:10:07.445Z"
   },
   {
    "duration": 25,
    "start_time": "2022-07-06T23:10:07.470Z"
   },
   {
    "duration": 17,
    "start_time": "2022-07-06T23:10:07.501Z"
   },
   {
    "duration": 34,
    "start_time": "2022-07-06T23:10:07.520Z"
   },
   {
    "duration": 25,
    "start_time": "2022-07-06T23:10:07.556Z"
   },
   {
    "duration": 5,
    "start_time": "2022-07-06T23:10:08.944Z"
   },
   {
    "duration": 55,
    "start_time": "2022-07-06T23:10:08.951Z"
   },
   {
    "duration": 14,
    "start_time": "2022-07-06T23:10:09.232Z"
   },
   {
    "duration": 16,
    "start_time": "2022-07-06T23:10:09.248Z"
   },
   {
    "duration": 11,
    "start_time": "2022-07-06T23:10:09.266Z"
   },
   {
    "duration": 8,
    "start_time": "2022-07-06T23:10:09.279Z"
   },
   {
    "duration": 15,
    "start_time": "2022-07-06T23:10:09.289Z"
   },
   {
    "duration": 15,
    "start_time": "2022-07-06T23:10:09.306Z"
   },
   {
    "duration": 7,
    "start_time": "2022-07-06T23:10:09.322Z"
   },
   {
    "duration": 17,
    "start_time": "2022-07-06T23:10:09.330Z"
   },
   {
    "duration": 5,
    "start_time": "2022-07-06T23:10:09.349Z"
   },
   {
    "duration": 9,
    "start_time": "2022-07-06T23:10:09.356Z"
   },
   {
    "duration": 4,
    "start_time": "2022-07-06T23:10:10.969Z"
   },
   {
    "duration": 11,
    "start_time": "2022-07-06T23:10:10.974Z"
   },
   {
    "duration": 9,
    "start_time": "2022-07-06T23:10:10.987Z"
   },
   {
    "duration": 16,
    "start_time": "2022-07-06T23:10:10.998Z"
   },
   {
    "duration": 16,
    "start_time": "2022-07-06T23:10:11.015Z"
   },
   {
    "duration": 6,
    "start_time": "2022-07-06T23:10:11.032Z"
   },
   {
    "duration": 12,
    "start_time": "2022-07-06T23:10:11.039Z"
   },
   {
    "duration": 12,
    "start_time": "2022-07-06T23:10:11.053Z"
   },
   {
    "duration": 15,
    "start_time": "2022-07-06T23:10:11.066Z"
   },
   {
    "duration": 18,
    "start_time": "2022-07-06T23:10:11.083Z"
   },
   {
    "duration": 12,
    "start_time": "2022-07-06T23:10:11.102Z"
   },
   {
    "duration": 13,
    "start_time": "2022-07-06T23:10:11.116Z"
   },
   {
    "duration": 7,
    "start_time": "2022-07-06T23:10:11.245Z"
   },
   {
    "duration": 62,
    "start_time": "2022-07-06T23:10:11.254Z"
   },
   {
    "duration": 0,
    "start_time": "2022-07-06T23:10:11.318Z"
   },
   {
    "duration": 0,
    "start_time": "2022-07-06T23:10:11.320Z"
   },
   {
    "duration": 0,
    "start_time": "2022-07-06T23:10:11.321Z"
   },
   {
    "duration": 0,
    "start_time": "2022-07-06T23:10:11.322Z"
   },
   {
    "duration": 0,
    "start_time": "2022-07-06T23:10:11.323Z"
   },
   {
    "duration": 0,
    "start_time": "2022-07-06T23:10:11.325Z"
   },
   {
    "duration": 0,
    "start_time": "2022-07-06T23:10:11.326Z"
   },
   {
    "duration": 0,
    "start_time": "2022-07-06T23:10:11.327Z"
   },
   {
    "duration": 0,
    "start_time": "2022-07-06T23:10:11.329Z"
   },
   {
    "duration": 0,
    "start_time": "2022-07-06T23:10:11.330Z"
   },
   {
    "duration": 0,
    "start_time": "2022-07-06T23:10:11.331Z"
   },
   {
    "duration": 2,
    "start_time": "2022-07-06T23:10:11.513Z"
   },
   {
    "duration": 5,
    "start_time": "2022-07-06T23:10:11.516Z"
   },
   {
    "duration": 5,
    "start_time": "2022-07-06T23:10:11.523Z"
   },
   {
    "duration": 6,
    "start_time": "2022-07-06T23:10:11.529Z"
   },
   {
    "duration": 4,
    "start_time": "2022-07-06T23:10:11.537Z"
   },
   {
    "duration": 5,
    "start_time": "2022-07-06T23:10:11.543Z"
   },
   {
    "duration": 6,
    "start_time": "2022-07-06T23:10:11.549Z"
   },
   {
    "duration": 8,
    "start_time": "2022-07-06T23:10:11.556Z"
   },
   {
    "duration": 5,
    "start_time": "2022-07-06T23:10:11.566Z"
   },
   {
    "duration": 7,
    "start_time": "2022-07-06T23:10:11.572Z"
   },
   {
    "duration": 8,
    "start_time": "2022-07-06T23:10:11.580Z"
   },
   {
    "duration": 6,
    "start_time": "2022-07-06T23:10:11.589Z"
   },
   {
    "duration": 6,
    "start_time": "2022-07-06T23:10:11.596Z"
   },
   {
    "duration": 10,
    "start_time": "2022-07-06T23:10:11.604Z"
   },
   {
    "duration": 2,
    "start_time": "2022-07-06T23:10:12.048Z"
   },
   {
    "duration": 4,
    "start_time": "2022-07-06T23:10:12.053Z"
   },
   {
    "duration": 7,
    "start_time": "2022-07-06T23:10:12.059Z"
   },
   {
    "duration": 4,
    "start_time": "2022-07-06T23:10:12.067Z"
   },
   {
    "duration": 5,
    "start_time": "2022-07-06T23:10:12.074Z"
   },
   {
    "duration": 5,
    "start_time": "2022-07-06T23:10:12.080Z"
   },
   {
    "duration": 5,
    "start_time": "2022-07-06T23:10:12.086Z"
   },
   {
    "duration": 4,
    "start_time": "2022-07-06T23:10:12.093Z"
   },
   {
    "duration": 5,
    "start_time": "2022-07-06T23:10:12.099Z"
   },
   {
    "duration": 6,
    "start_time": "2022-07-06T23:10:12.105Z"
   },
   {
    "duration": 7,
    "start_time": "2022-07-06T23:10:12.112Z"
   },
   {
    "duration": 5,
    "start_time": "2022-07-06T23:10:12.120Z"
   },
   {
    "duration": 8,
    "start_time": "2022-07-06T23:10:12.126Z"
   },
   {
    "duration": 3,
    "start_time": "2022-07-06T23:10:12.137Z"
   },
   {
    "duration": 9,
    "start_time": "2022-07-06T23:10:12.142Z"
   },
   {
    "duration": 10,
    "start_time": "2022-07-06T23:10:12.153Z"
   },
   {
    "duration": 3,
    "start_time": "2022-07-06T23:10:12.299Z"
   },
   {
    "duration": 8,
    "start_time": "2022-07-06T23:10:12.304Z"
   },
   {
    "duration": 10,
    "start_time": "2022-07-06T23:10:12.313Z"
   },
   {
    "duration": 11,
    "start_time": "2022-07-06T23:10:12.324Z"
   },
   {
    "duration": 7,
    "start_time": "2022-07-06T23:10:12.336Z"
   },
   {
    "duration": 2,
    "start_time": "2022-07-06T23:10:12.366Z"
   },
   {
    "duration": 5,
    "start_time": "2022-07-06T23:10:12.370Z"
   },
   {
    "duration": 8,
    "start_time": "2022-07-06T23:10:12.376Z"
   },
   {
    "duration": 6,
    "start_time": "2022-07-06T23:10:12.385Z"
   },
   {
    "duration": 9,
    "start_time": "2022-07-06T23:10:29.627Z"
   },
   {
    "duration": 7,
    "start_time": "2022-07-06T23:10:52.645Z"
   },
   {
    "duration": 9,
    "start_time": "2022-07-06T23:11:05.860Z"
   },
   {
    "duration": 20,
    "start_time": "2022-07-06T23:14:22.904Z"
   },
   {
    "duration": 40,
    "start_time": "2022-07-06T23:15:08.510Z"
   },
   {
    "duration": 17,
    "start_time": "2022-07-06T23:15:14.522Z"
   },
   {
    "duration": 8,
    "start_time": "2022-07-06T23:17:53.359Z"
   },
   {
    "duration": 34,
    "start_time": "2022-07-06T23:18:09.786Z"
   },
   {
    "duration": 21,
    "start_time": "2022-07-06T23:22:37.756Z"
   },
   {
    "duration": 21,
    "start_time": "2022-07-06T23:22:44.303Z"
   },
   {
    "duration": 25,
    "start_time": "2022-07-06T23:23:14.398Z"
   },
   {
    "duration": 20,
    "start_time": "2022-07-06T23:24:29.601Z"
   },
   {
    "duration": 20,
    "start_time": "2022-07-06T23:25:13.949Z"
   },
   {
    "duration": 22,
    "start_time": "2022-07-06T23:26:58.194Z"
   },
   {
    "duration": 48,
    "start_time": "2022-07-06T23:27:13.302Z"
   },
   {
    "duration": 20,
    "start_time": "2022-07-06T23:27:27.894Z"
   },
   {
    "duration": 18,
    "start_time": "2022-07-06T23:29:15.086Z"
   },
   {
    "duration": 19,
    "start_time": "2022-07-06T23:30:17.228Z"
   },
   {
    "duration": 20,
    "start_time": "2022-07-06T23:31:00.002Z"
   },
   {
    "duration": 20,
    "start_time": "2022-07-06T23:33:44.336Z"
   },
   {
    "duration": 24,
    "start_time": "2022-07-06T23:38:49.466Z"
   },
   {
    "duration": 32,
    "start_time": "2022-07-06T23:39:12.188Z"
   },
   {
    "duration": 22,
    "start_time": "2022-07-06T23:40:21.240Z"
   },
   {
    "duration": 33,
    "start_time": "2022-07-06T23:40:39.022Z"
   },
   {
    "duration": 12,
    "start_time": "2022-07-06T23:41:03.414Z"
   },
   {
    "duration": 14,
    "start_time": "2022-07-07T00:07:46.837Z"
   },
   {
    "duration": 32,
    "start_time": "2022-07-07T00:09:25.090Z"
   },
   {
    "duration": 5,
    "start_time": "2022-07-07T00:18:46.770Z"
   },
   {
    "duration": 8,
    "start_time": "2022-07-07T00:21:54.420Z"
   },
   {
    "duration": 14,
    "start_time": "2022-07-07T00:24:24.446Z"
   },
   {
    "duration": 9,
    "start_time": "2022-07-07T00:31:11.496Z"
   },
   {
    "duration": 12,
    "start_time": "2022-07-07T00:35:32.377Z"
   },
   {
    "duration": 7,
    "start_time": "2022-07-07T00:43:11.235Z"
   },
   {
    "duration": 3,
    "start_time": "2022-07-07T00:43:27.850Z"
   },
   {
    "duration": 3,
    "start_time": "2022-07-07T00:43:31.778Z"
   },
   {
    "duration": 8,
    "start_time": "2022-07-07T00:45:54.072Z"
   },
   {
    "duration": 17,
    "start_time": "2022-07-07T00:46:18.237Z"
   },
   {
    "duration": 7,
    "start_time": "2022-07-07T00:50:00.335Z"
   },
   {
    "duration": 17,
    "start_time": "2022-07-07T00:50:28.515Z"
   },
   {
    "duration": 26,
    "start_time": "2022-07-07T00:50:36.976Z"
   },
   {
    "duration": 16,
    "start_time": "2022-07-07T00:51:19.258Z"
   },
   {
    "duration": 18,
    "start_time": "2022-07-07T00:54:26.855Z"
   },
   {
    "duration": 31,
    "start_time": "2022-07-07T00:57:38.650Z"
   },
   {
    "duration": 21,
    "start_time": "2022-07-07T01:03:00.074Z"
   },
   {
    "duration": 23,
    "start_time": "2022-07-07T01:03:10.917Z"
   },
   {
    "duration": 24,
    "start_time": "2022-07-07T01:05:36.541Z"
   },
   {
    "duration": 53,
    "start_time": "2022-07-07T01:11:35.312Z"
   },
   {
    "duration": 22,
    "start_time": "2022-07-07T01:12:02.059Z"
   },
   {
    "duration": 16,
    "start_time": "2022-07-07T01:12:47.753Z"
   },
   {
    "duration": 30,
    "start_time": "2022-07-07T01:12:57.395Z"
   },
   {
    "duration": 26,
    "start_time": "2022-07-07T01:14:49.841Z"
   },
   {
    "duration": 29,
    "start_time": "2022-07-07T01:16:04.883Z"
   },
   {
    "duration": 15,
    "start_time": "2022-07-07T01:17:28.608Z"
   },
   {
    "duration": 8,
    "start_time": "2022-07-07T01:28:35.837Z"
   },
   {
    "duration": 8,
    "start_time": "2022-07-07T01:28:56.320Z"
   },
   {
    "duration": 37,
    "start_time": "2022-07-07T01:29:25.620Z"
   },
   {
    "duration": 526,
    "start_time": "2022-07-07T14:16:50.075Z"
   },
   {
    "duration": 8,
    "start_time": "2022-07-07T14:16:50.603Z"
   },
   {
    "duration": 19,
    "start_time": "2022-07-07T14:16:50.613Z"
   },
   {
    "duration": 12,
    "start_time": "2022-07-07T14:16:50.634Z"
   },
   {
    "duration": 16,
    "start_time": "2022-07-07T14:16:50.647Z"
   },
   {
    "duration": 22,
    "start_time": "2022-07-07T14:16:50.665Z"
   },
   {
    "duration": 28,
    "start_time": "2022-07-07T14:16:50.689Z"
   },
   {
    "duration": 28,
    "start_time": "2022-07-07T14:16:50.719Z"
   },
   {
    "duration": 23,
    "start_time": "2022-07-07T14:16:50.749Z"
   },
   {
    "duration": 13,
    "start_time": "2022-07-07T14:16:50.775Z"
   },
   {
    "duration": 19,
    "start_time": "2022-07-07T14:16:50.789Z"
   },
   {
    "duration": 37,
    "start_time": "2022-07-07T14:16:50.810Z"
   },
   {
    "duration": 20,
    "start_time": "2022-07-07T14:16:50.848Z"
   },
   {
    "duration": 5,
    "start_time": "2022-07-07T14:16:50.870Z"
   },
   {
    "duration": 45,
    "start_time": "2022-07-07T14:16:50.877Z"
   },
   {
    "duration": 36,
    "start_time": "2022-07-07T14:16:50.924Z"
   },
   {
    "duration": 15,
    "start_time": "2022-07-07T14:16:50.962Z"
   },
   {
    "duration": 12,
    "start_time": "2022-07-07T14:16:50.978Z"
   },
   {
    "duration": 4,
    "start_time": "2022-07-07T14:16:50.991Z"
   },
   {
    "duration": 16,
    "start_time": "2022-07-07T14:16:50.997Z"
   },
   {
    "duration": 10,
    "start_time": "2022-07-07T14:16:51.014Z"
   },
   {
    "duration": 27,
    "start_time": "2022-07-07T14:16:51.026Z"
   },
   {
    "duration": 18,
    "start_time": "2022-07-07T14:16:51.055Z"
   },
   {
    "duration": 7,
    "start_time": "2022-07-07T14:16:51.075Z"
   },
   {
    "duration": 13,
    "start_time": "2022-07-07T14:16:51.084Z"
   },
   {
    "duration": 10,
    "start_time": "2022-07-07T14:16:51.099Z"
   },
   {
    "duration": 10,
    "start_time": "2022-07-07T14:16:51.111Z"
   },
   {
    "duration": 22,
    "start_time": "2022-07-07T14:16:51.126Z"
   },
   {
    "duration": 20,
    "start_time": "2022-07-07T14:16:51.150Z"
   },
   {
    "duration": 19,
    "start_time": "2022-07-07T14:16:51.172Z"
   },
   {
    "duration": 9,
    "start_time": "2022-07-07T14:16:51.193Z"
   },
   {
    "duration": 21,
    "start_time": "2022-07-07T14:16:51.204Z"
   },
   {
    "duration": 7,
    "start_time": "2022-07-07T14:16:51.246Z"
   },
   {
    "duration": 15,
    "start_time": "2022-07-07T14:16:51.255Z"
   },
   {
    "duration": 8,
    "start_time": "2022-07-07T14:16:51.272Z"
   },
   {
    "duration": 12,
    "start_time": "2022-07-07T14:16:51.282Z"
   },
   {
    "duration": 6,
    "start_time": "2022-07-07T14:16:51.295Z"
   },
   {
    "duration": 8,
    "start_time": "2022-07-07T14:16:51.303Z"
   },
   {
    "duration": 45,
    "start_time": "2022-07-07T14:16:51.313Z"
   },
   {
    "duration": 0,
    "start_time": "2022-07-07T14:16:51.361Z"
   },
   {
    "duration": 0,
    "start_time": "2022-07-07T14:16:51.362Z"
   },
   {
    "duration": 0,
    "start_time": "2022-07-07T14:16:51.364Z"
   },
   {
    "duration": 1,
    "start_time": "2022-07-07T14:16:51.365Z"
   },
   {
    "duration": 0,
    "start_time": "2022-07-07T14:16:51.367Z"
   },
   {
    "duration": 0,
    "start_time": "2022-07-07T14:16:51.368Z"
   },
   {
    "duration": 0,
    "start_time": "2022-07-07T14:16:51.369Z"
   },
   {
    "duration": 0,
    "start_time": "2022-07-07T14:16:51.370Z"
   },
   {
    "duration": 0,
    "start_time": "2022-07-07T14:16:51.372Z"
   },
   {
    "duration": 0,
    "start_time": "2022-07-07T14:16:51.373Z"
   },
   {
    "duration": 0,
    "start_time": "2022-07-07T14:16:51.374Z"
   },
   {
    "duration": 0,
    "start_time": "2022-07-07T14:16:51.375Z"
   },
   {
    "duration": 0,
    "start_time": "2022-07-07T14:16:51.376Z"
   },
   {
    "duration": 0,
    "start_time": "2022-07-07T14:16:51.378Z"
   },
   {
    "duration": 0,
    "start_time": "2022-07-07T14:16:51.379Z"
   },
   {
    "duration": 0,
    "start_time": "2022-07-07T14:16:51.380Z"
   },
   {
    "duration": 0,
    "start_time": "2022-07-07T14:16:51.382Z"
   },
   {
    "duration": 0,
    "start_time": "2022-07-07T14:16:51.383Z"
   },
   {
    "duration": 0,
    "start_time": "2022-07-07T14:16:51.384Z"
   },
   {
    "duration": 0,
    "start_time": "2022-07-07T14:16:51.385Z"
   },
   {
    "duration": 0,
    "start_time": "2022-07-07T14:16:51.386Z"
   },
   {
    "duration": 0,
    "start_time": "2022-07-07T14:16:51.388Z"
   },
   {
    "duration": 0,
    "start_time": "2022-07-07T14:16:51.388Z"
   },
   {
    "duration": 0,
    "start_time": "2022-07-07T14:16:51.390Z"
   },
   {
    "duration": 0,
    "start_time": "2022-07-07T14:16:51.391Z"
   },
   {
    "duration": 0,
    "start_time": "2022-07-07T14:16:51.392Z"
   },
   {
    "duration": 0,
    "start_time": "2022-07-07T14:16:51.393Z"
   },
   {
    "duration": 0,
    "start_time": "2022-07-07T14:16:51.394Z"
   },
   {
    "duration": 0,
    "start_time": "2022-07-07T14:16:51.445Z"
   },
   {
    "duration": 0,
    "start_time": "2022-07-07T14:16:51.447Z"
   },
   {
    "duration": 0,
    "start_time": "2022-07-07T14:16:51.448Z"
   },
   {
    "duration": 0,
    "start_time": "2022-07-07T14:16:51.449Z"
   },
   {
    "duration": 0,
    "start_time": "2022-07-07T14:16:51.450Z"
   },
   {
    "duration": 0,
    "start_time": "2022-07-07T14:16:51.451Z"
   },
   {
    "duration": 0,
    "start_time": "2022-07-07T14:16:51.452Z"
   },
   {
    "duration": 0,
    "start_time": "2022-07-07T14:16:51.453Z"
   },
   {
    "duration": 0,
    "start_time": "2022-07-07T14:16:51.454Z"
   },
   {
    "duration": 0,
    "start_time": "2022-07-07T14:16:51.455Z"
   },
   {
    "duration": 0,
    "start_time": "2022-07-07T14:16:51.456Z"
   },
   {
    "duration": 0,
    "start_time": "2022-07-07T14:16:51.457Z"
   },
   {
    "duration": 0,
    "start_time": "2022-07-07T14:16:51.458Z"
   },
   {
    "duration": 0,
    "start_time": "2022-07-07T14:16:51.459Z"
   },
   {
    "duration": 0,
    "start_time": "2022-07-07T14:16:51.460Z"
   },
   {
    "duration": 0,
    "start_time": "2022-07-07T14:16:51.461Z"
   },
   {
    "duration": 0,
    "start_time": "2022-07-07T14:16:51.462Z"
   },
   {
    "duration": 0,
    "start_time": "2022-07-07T14:16:51.463Z"
   },
   {
    "duration": 0,
    "start_time": "2022-07-07T14:16:51.465Z"
   },
   {
    "duration": 0,
    "start_time": "2022-07-07T14:16:51.466Z"
   },
   {
    "duration": 0,
    "start_time": "2022-07-07T14:16:51.467Z"
   },
   {
    "duration": 0,
    "start_time": "2022-07-07T14:16:51.467Z"
   },
   {
    "duration": 0,
    "start_time": "2022-07-07T14:16:51.468Z"
   },
   {
    "duration": 0,
    "start_time": "2022-07-07T14:16:51.470Z"
   },
   {
    "duration": 0,
    "start_time": "2022-07-07T14:16:51.471Z"
   },
   {
    "duration": 0,
    "start_time": "2022-07-07T14:16:51.472Z"
   },
   {
    "duration": 0,
    "start_time": "2022-07-07T14:16:51.473Z"
   },
   {
    "duration": 0,
    "start_time": "2022-07-07T14:16:51.474Z"
   },
   {
    "duration": 0,
    "start_time": "2022-07-07T14:16:51.475Z"
   },
   {
    "duration": 0,
    "start_time": "2022-07-07T14:16:51.476Z"
   },
   {
    "duration": 0,
    "start_time": "2022-07-07T14:16:51.478Z"
   },
   {
    "duration": 0,
    "start_time": "2022-07-07T14:16:51.479Z"
   },
   {
    "duration": 0,
    "start_time": "2022-07-07T14:16:51.481Z"
   },
   {
    "duration": 0,
    "start_time": "2022-07-07T14:16:51.482Z"
   },
   {
    "duration": 61,
    "start_time": "2022-07-07T14:17:16.279Z"
   },
   {
    "duration": 59,
    "start_time": "2022-07-07T14:17:27.059Z"
   },
   {
    "duration": 4,
    "start_time": "2022-07-07T14:17:27.120Z"
   },
   {
    "duration": 27,
    "start_time": "2022-07-07T14:17:27.126Z"
   },
   {
    "duration": 18,
    "start_time": "2022-07-07T14:17:27.155Z"
   },
   {
    "duration": 17,
    "start_time": "2022-07-07T14:17:27.175Z"
   },
   {
    "duration": 18,
    "start_time": "2022-07-07T14:17:27.193Z"
   },
   {
    "duration": 48,
    "start_time": "2022-07-07T14:17:27.212Z"
   },
   {
    "duration": 4,
    "start_time": "2022-07-07T14:17:27.262Z"
   },
   {
    "duration": 16,
    "start_time": "2022-07-07T14:17:27.268Z"
   },
   {
    "duration": 14,
    "start_time": "2022-07-07T14:17:27.285Z"
   },
   {
    "duration": 46,
    "start_time": "2022-07-07T14:17:27.300Z"
   },
   {
    "duration": 17,
    "start_time": "2022-07-07T14:17:27.348Z"
   },
   {
    "duration": 14,
    "start_time": "2022-07-07T14:17:27.366Z"
   },
   {
    "duration": 4,
    "start_time": "2022-07-07T14:17:27.383Z"
   },
   {
    "duration": 66,
    "start_time": "2022-07-07T14:17:27.389Z"
   },
   {
    "duration": 17,
    "start_time": "2022-07-07T14:17:27.457Z"
   },
   {
    "duration": 19,
    "start_time": "2022-07-07T14:17:27.476Z"
   },
   {
    "duration": 50,
    "start_time": "2022-07-07T14:17:27.496Z"
   },
   {
    "duration": 4,
    "start_time": "2022-07-07T14:17:27.548Z"
   },
   {
    "duration": 13,
    "start_time": "2022-07-07T14:17:27.553Z"
   },
   {
    "duration": 10,
    "start_time": "2022-07-07T14:17:27.567Z"
   },
   {
    "duration": 7,
    "start_time": "2022-07-07T14:17:27.578Z"
   },
   {
    "duration": 10,
    "start_time": "2022-07-07T14:17:27.586Z"
   },
   {
    "duration": 4,
    "start_time": "2022-07-07T14:17:27.598Z"
   },
   {
    "duration": 6,
    "start_time": "2022-07-07T14:17:27.604Z"
   },
   {
    "duration": 35,
    "start_time": "2022-07-07T14:17:27.612Z"
   },
   {
    "duration": 11,
    "start_time": "2022-07-07T14:17:27.649Z"
   },
   {
    "duration": 10,
    "start_time": "2022-07-07T14:17:27.662Z"
   },
   {
    "duration": 16,
    "start_time": "2022-07-07T14:17:27.673Z"
   },
   {
    "duration": 21,
    "start_time": "2022-07-07T14:17:27.691Z"
   },
   {
    "duration": 33,
    "start_time": "2022-07-07T14:17:27.714Z"
   },
   {
    "duration": 8,
    "start_time": "2022-07-07T14:17:27.749Z"
   },
   {
    "duration": 5,
    "start_time": "2022-07-07T14:17:27.759Z"
   },
   {
    "duration": 10,
    "start_time": "2022-07-07T14:17:27.765Z"
   },
   {
    "duration": 3,
    "start_time": "2022-07-07T14:17:27.776Z"
   },
   {
    "duration": 10,
    "start_time": "2022-07-07T14:17:27.781Z"
   },
   {
    "duration": 5,
    "start_time": "2022-07-07T14:17:27.792Z"
   },
   {
    "duration": 9,
    "start_time": "2022-07-07T14:17:27.799Z"
   },
   {
    "duration": 49,
    "start_time": "2022-07-07T14:17:27.809Z"
   },
   {
    "duration": 0,
    "start_time": "2022-07-07T14:17:27.861Z"
   },
   {
    "duration": 0,
    "start_time": "2022-07-07T14:17:27.862Z"
   },
   {
    "duration": 0,
    "start_time": "2022-07-07T14:17:27.864Z"
   },
   {
    "duration": 0,
    "start_time": "2022-07-07T14:17:27.865Z"
   },
   {
    "duration": 0,
    "start_time": "2022-07-07T14:17:27.866Z"
   },
   {
    "duration": 0,
    "start_time": "2022-07-07T14:17:27.867Z"
   },
   {
    "duration": 0,
    "start_time": "2022-07-07T14:17:27.868Z"
   },
   {
    "duration": 0,
    "start_time": "2022-07-07T14:17:27.870Z"
   },
   {
    "duration": 0,
    "start_time": "2022-07-07T14:17:27.871Z"
   },
   {
    "duration": 0,
    "start_time": "2022-07-07T14:17:27.872Z"
   },
   {
    "duration": 0,
    "start_time": "2022-07-07T14:17:27.873Z"
   },
   {
    "duration": 0,
    "start_time": "2022-07-07T14:17:27.874Z"
   },
   {
    "duration": 0,
    "start_time": "2022-07-07T14:17:27.875Z"
   },
   {
    "duration": 0,
    "start_time": "2022-07-07T14:17:27.875Z"
   },
   {
    "duration": 0,
    "start_time": "2022-07-07T14:17:27.876Z"
   },
   {
    "duration": 0,
    "start_time": "2022-07-07T14:17:27.877Z"
   },
   {
    "duration": 0,
    "start_time": "2022-07-07T14:17:27.878Z"
   },
   {
    "duration": 0,
    "start_time": "2022-07-07T14:17:27.879Z"
   },
   {
    "duration": 0,
    "start_time": "2022-07-07T14:17:27.880Z"
   },
   {
    "duration": 0,
    "start_time": "2022-07-07T14:17:27.881Z"
   },
   {
    "duration": 0,
    "start_time": "2022-07-07T14:17:27.882Z"
   },
   {
    "duration": 0,
    "start_time": "2022-07-07T14:17:27.883Z"
   },
   {
    "duration": 0,
    "start_time": "2022-07-07T14:17:27.884Z"
   },
   {
    "duration": 0,
    "start_time": "2022-07-07T14:17:27.885Z"
   },
   {
    "duration": 0,
    "start_time": "2022-07-07T14:17:27.886Z"
   },
   {
    "duration": 0,
    "start_time": "2022-07-07T14:17:27.887Z"
   },
   {
    "duration": 0,
    "start_time": "2022-07-07T14:17:27.888Z"
   },
   {
    "duration": 0,
    "start_time": "2022-07-07T14:17:27.889Z"
   },
   {
    "duration": 0,
    "start_time": "2022-07-07T14:17:27.890Z"
   },
   {
    "duration": 0,
    "start_time": "2022-07-07T14:17:27.891Z"
   },
   {
    "duration": 0,
    "start_time": "2022-07-07T14:17:27.892Z"
   },
   {
    "duration": 0,
    "start_time": "2022-07-07T14:17:27.893Z"
   },
   {
    "duration": 0,
    "start_time": "2022-07-07T14:17:27.972Z"
   },
   {
    "duration": 0,
    "start_time": "2022-07-07T14:17:27.973Z"
   },
   {
    "duration": 0,
    "start_time": "2022-07-07T14:17:27.975Z"
   },
   {
    "duration": 0,
    "start_time": "2022-07-07T14:17:27.976Z"
   },
   {
    "duration": 0,
    "start_time": "2022-07-07T14:17:27.977Z"
   },
   {
    "duration": 0,
    "start_time": "2022-07-07T14:17:27.978Z"
   },
   {
    "duration": 0,
    "start_time": "2022-07-07T14:17:27.979Z"
   },
   {
    "duration": 0,
    "start_time": "2022-07-07T14:17:27.980Z"
   },
   {
    "duration": 0,
    "start_time": "2022-07-07T14:17:27.982Z"
   },
   {
    "duration": 0,
    "start_time": "2022-07-07T14:17:27.983Z"
   },
   {
    "duration": 0,
    "start_time": "2022-07-07T14:17:27.984Z"
   },
   {
    "duration": 0,
    "start_time": "2022-07-07T14:17:27.984Z"
   },
   {
    "duration": 0,
    "start_time": "2022-07-07T14:17:27.985Z"
   },
   {
    "duration": 0,
    "start_time": "2022-07-07T14:17:27.987Z"
   },
   {
    "duration": 0,
    "start_time": "2022-07-07T14:17:27.988Z"
   },
   {
    "duration": 0,
    "start_time": "2022-07-07T14:17:27.989Z"
   },
   {
    "duration": 0,
    "start_time": "2022-07-07T14:17:27.990Z"
   },
   {
    "duration": 1,
    "start_time": "2022-07-07T14:17:27.991Z"
   },
   {
    "duration": 0,
    "start_time": "2022-07-07T14:17:27.993Z"
   },
   {
    "duration": 0,
    "start_time": "2022-07-07T14:17:27.994Z"
   },
   {
    "duration": 0,
    "start_time": "2022-07-07T14:17:27.995Z"
   },
   {
    "duration": 0,
    "start_time": "2022-07-07T14:17:28.046Z"
   },
   {
    "duration": 0,
    "start_time": "2022-07-07T14:17:28.047Z"
   },
   {
    "duration": 0,
    "start_time": "2022-07-07T14:17:28.048Z"
   },
   {
    "duration": 0,
    "start_time": "2022-07-07T14:17:28.050Z"
   },
   {
    "duration": 0,
    "start_time": "2022-07-07T14:17:28.051Z"
   },
   {
    "duration": 0,
    "start_time": "2022-07-07T14:17:28.051Z"
   },
   {
    "duration": 0,
    "start_time": "2022-07-07T14:17:28.053Z"
   },
   {
    "duration": 0,
    "start_time": "2022-07-07T14:17:28.053Z"
   },
   {
    "duration": 0,
    "start_time": "2022-07-07T14:17:28.054Z"
   },
   {
    "duration": 9,
    "start_time": "2022-07-07T14:17:51.687Z"
   },
   {
    "duration": 3,
    "start_time": "2022-07-07T14:18:07.687Z"
   },
   {
    "duration": 3,
    "start_time": "2022-07-07T14:18:10.594Z"
   },
   {
    "duration": 7,
    "start_time": "2022-07-07T14:18:21.584Z"
   },
   {
    "duration": 9,
    "start_time": "2022-07-07T14:19:12.515Z"
   },
   {
    "duration": 8,
    "start_time": "2022-07-07T14:19:36.745Z"
   },
   {
    "duration": 13,
    "start_time": "2022-07-07T14:19:49.106Z"
   },
   {
    "duration": 8,
    "start_time": "2022-07-07T14:20:06.653Z"
   },
   {
    "duration": 7,
    "start_time": "2022-07-07T14:20:20.613Z"
   },
   {
    "duration": 8,
    "start_time": "2022-07-07T14:20:29.753Z"
   },
   {
    "duration": 7,
    "start_time": "2022-07-07T14:20:31.885Z"
   },
   {
    "duration": 7,
    "start_time": "2022-07-07T14:20:39.252Z"
   },
   {
    "duration": 12,
    "start_time": "2022-07-07T14:20:47.853Z"
   },
   {
    "duration": 9,
    "start_time": "2022-07-07T14:20:56.211Z"
   },
   {
    "duration": 20,
    "start_time": "2022-07-07T14:21:08.151Z"
   },
   {
    "duration": 40,
    "start_time": "2022-07-07T14:21:11.063Z"
   },
   {
    "duration": 25,
    "start_time": "2022-07-07T14:21:19.361Z"
   },
   {
    "duration": 21,
    "start_time": "2022-07-07T14:21:21.756Z"
   },
   {
    "duration": 24,
    "start_time": "2022-07-07T14:21:29.008Z"
   },
   {
    "duration": 22,
    "start_time": "2022-07-07T14:21:30.178Z"
   },
   {
    "duration": 34,
    "start_time": "2022-07-07T14:21:37.986Z"
   },
   {
    "duration": 17,
    "start_time": "2022-07-07T14:21:40.040Z"
   },
   {
    "duration": 22,
    "start_time": "2022-07-07T14:22:03.818Z"
   },
   {
    "duration": 59,
    "start_time": "2022-07-07T14:25:48.217Z"
   },
   {
    "duration": 4,
    "start_time": "2022-07-07T14:25:58.852Z"
   },
   {
    "duration": 21,
    "start_time": "2022-07-07T14:26:58.883Z"
   },
   {
    "duration": 13,
    "start_time": "2022-07-07T14:27:27.005Z"
   },
   {
    "duration": 18,
    "start_time": "2022-07-07T14:27:38.465Z"
   },
   {
    "duration": 19,
    "start_time": "2022-07-07T14:27:50.279Z"
   },
   {
    "duration": 31,
    "start_time": "2022-07-07T14:28:33.954Z"
   },
   {
    "duration": 4,
    "start_time": "2022-07-07T14:28:43.706Z"
   },
   {
    "duration": 16,
    "start_time": "2022-07-07T14:28:54.348Z"
   },
   {
    "duration": 14,
    "start_time": "2022-07-07T14:29:02.522Z"
   },
   {
    "duration": 18,
    "start_time": "2022-07-07T14:29:08.673Z"
   },
   {
    "duration": 16,
    "start_time": "2022-07-07T14:29:17.493Z"
   },
   {
    "duration": 17,
    "start_time": "2022-07-07T14:29:19.974Z"
   },
   {
    "duration": 12,
    "start_time": "2022-07-07T14:29:31.551Z"
   },
   {
    "duration": 5,
    "start_time": "2022-07-07T14:29:38.553Z"
   },
   {
    "duration": 33,
    "start_time": "2022-07-07T14:29:43.051Z"
   },
   {
    "duration": 14,
    "start_time": "2022-07-07T14:29:52.671Z"
   },
   {
    "duration": 18,
    "start_time": "2022-07-07T14:30:08.449Z"
   },
   {
    "duration": 15,
    "start_time": "2022-07-07T14:30:12.492Z"
   },
   {
    "duration": 5,
    "start_time": "2022-07-07T14:30:20.172Z"
   },
   {
    "duration": 11,
    "start_time": "2022-07-07T14:30:27.065Z"
   },
   {
    "duration": 5,
    "start_time": "2022-07-07T14:30:28.364Z"
   },
   {
    "duration": 7,
    "start_time": "2022-07-07T14:30:35.611Z"
   },
   {
    "duration": 8,
    "start_time": "2022-07-07T14:30:45.358Z"
   },
   {
    "duration": 6,
    "start_time": "2022-07-07T14:30:57.518Z"
   },
   {
    "duration": 6,
    "start_time": "2022-07-07T14:31:11.878Z"
   },
   {
    "duration": 5,
    "start_time": "2022-07-07T14:31:13.171Z"
   },
   {
    "duration": 8,
    "start_time": "2022-07-07T14:31:16.051Z"
   },
   {
    "duration": 12,
    "start_time": "2022-07-07T14:31:23.193Z"
   },
   {
    "duration": 19,
    "start_time": "2022-07-07T14:31:31.074Z"
   },
   {
    "duration": 19,
    "start_time": "2022-07-07T14:31:39.419Z"
   },
   {
    "duration": 8,
    "start_time": "2022-07-07T14:31:47.795Z"
   },
   {
    "duration": 19,
    "start_time": "2022-07-07T14:32:06.368Z"
   },
   {
    "duration": 8,
    "start_time": "2022-07-07T14:32:17.180Z"
   },
   {
    "duration": 9,
    "start_time": "2022-07-07T14:32:25.007Z"
   },
   {
    "duration": 6,
    "start_time": "2022-07-07T14:32:36.057Z"
   },
   {
    "duration": 10,
    "start_time": "2022-07-07T14:32:40.879Z"
   },
   {
    "duration": 5,
    "start_time": "2022-07-07T14:32:53.294Z"
   },
   {
    "duration": 9,
    "start_time": "2022-07-07T14:32:54.963Z"
   },
   {
    "duration": 7,
    "start_time": "2022-07-07T14:33:12.611Z"
   },
   {
    "duration": 8,
    "start_time": "2022-07-07T14:33:29.592Z"
   },
   {
    "duration": 12,
    "start_time": "2022-07-07T14:33:38.144Z"
   },
   {
    "duration": 8,
    "start_time": "2022-07-07T14:33:49.015Z"
   },
   {
    "duration": 8,
    "start_time": "2022-07-07T14:34:00.395Z"
   },
   {
    "duration": 9,
    "start_time": "2022-07-07T14:34:03.906Z"
   },
   {
    "duration": 8,
    "start_time": "2022-07-07T14:34:08.544Z"
   },
   {
    "duration": 7,
    "start_time": "2022-07-07T14:34:20.771Z"
   },
   {
    "duration": 13,
    "start_time": "2022-07-07T14:34:27.652Z"
   },
   {
    "duration": 9,
    "start_time": "2022-07-07T14:34:38.814Z"
   },
   {
    "duration": 19,
    "start_time": "2022-07-07T14:34:49.773Z"
   },
   {
    "duration": 34,
    "start_time": "2022-07-07T14:34:51.303Z"
   },
   {
    "duration": 26,
    "start_time": "2022-07-07T14:35:01.170Z"
   },
   {
    "duration": 21,
    "start_time": "2022-07-07T14:35:11.053Z"
   },
   {
    "duration": 18,
    "start_time": "2022-07-07T14:35:14.056Z"
   },
   {
    "duration": 20,
    "start_time": "2022-07-07T14:35:16.441Z"
   },
   {
    "duration": 40,
    "start_time": "2022-07-07T14:35:23.858Z"
   },
   {
    "duration": 15,
    "start_time": "2022-07-07T14:35:28.052Z"
   },
   {
    "duration": 5,
    "start_time": "2022-07-07T14:35:53.524Z"
   },
   {
    "duration": 9,
    "start_time": "2022-07-07T14:35:55.724Z"
   },
   {
    "duration": 10,
    "start_time": "2022-07-07T14:36:02.168Z"
   },
   {
    "duration": 10,
    "start_time": "2022-07-07T14:36:17.053Z"
   },
   {
    "duration": 11,
    "start_time": "2022-07-07T14:36:24.464Z"
   },
   {
    "duration": 4,
    "start_time": "2022-07-07T14:36:47.387Z"
   },
   {
    "duration": 4,
    "start_time": "2022-07-07T14:36:49.473Z"
   },
   {
    "duration": 8,
    "start_time": "2022-07-07T14:36:53.416Z"
   },
   {
    "duration": 16,
    "start_time": "2022-07-07T14:36:56.597Z"
   },
   {
    "duration": 20,
    "start_time": "2022-07-07T14:37:09.154Z"
   },
   {
    "duration": 18,
    "start_time": "2022-07-07T14:37:23.356Z"
   },
   {
    "duration": 24,
    "start_time": "2022-07-07T14:37:24.269Z"
   },
   {
    "duration": 26,
    "start_time": "2022-07-07T14:37:32.810Z"
   },
   {
    "duration": 31,
    "start_time": "2022-07-07T14:37:33.568Z"
   },
   {
    "duration": 32,
    "start_time": "2022-07-07T14:37:41.445Z"
   },
   {
    "duration": 18,
    "start_time": "2022-07-07T14:37:43.545Z"
   },
   {
    "duration": 748,
    "start_time": "2022-07-07T14:42:15.318Z"
   },
   {
    "duration": 956,
    "start_time": "2022-07-07T14:43:09.404Z"
   },
   {
    "duration": 46,
    "start_time": "2022-07-07T14:44:13.346Z"
   },
   {
    "duration": 15,
    "start_time": "2022-07-07T14:44:40.382Z"
   },
   {
    "duration": 838,
    "start_time": "2022-07-07T14:45:09.901Z"
   },
   {
    "duration": 890,
    "start_time": "2022-07-07T14:46:08.045Z"
   },
   {
    "duration": 962,
    "start_time": "2022-07-07T14:47:23.335Z"
   },
   {
    "duration": 9,
    "start_time": "2022-07-07T14:50:39.520Z"
   },
   {
    "duration": 5,
    "start_time": "2022-07-07T14:50:57.234Z"
   },
   {
    "duration": 919,
    "start_time": "2022-07-07T14:51:56.298Z"
   },
   {
    "duration": 5,
    "start_time": "2022-07-07T14:52:25.617Z"
   },
   {
    "duration": 3,
    "start_time": "2022-07-07T14:57:39.979Z"
   },
   {
    "duration": 6,
    "start_time": "2022-07-07T15:00:04.477Z"
   },
   {
    "duration": 6,
    "start_time": "2022-07-07T15:01:36.584Z"
   },
   {
    "duration": 4340,
    "start_time": "2022-07-07T15:09:26.556Z"
   },
   {
    "duration": 4001,
    "start_time": "2022-07-07T15:09:31.472Z"
   },
   {
    "duration": 4160,
    "start_time": "2022-07-07T15:11:25.612Z"
   },
   {
    "duration": 37,
    "start_time": "2022-07-07T15:12:24.113Z"
   },
   {
    "duration": 22,
    "start_time": "2022-07-07T15:20:50.594Z"
   },
   {
    "duration": 13,
    "start_time": "2022-07-07T15:22:03.541Z"
   },
   {
    "duration": 15,
    "start_time": "2022-07-07T15:22:24.561Z"
   },
   {
    "duration": 15,
    "start_time": "2022-07-07T15:23:09.640Z"
   },
   {
    "duration": 32,
    "start_time": "2022-07-07T15:29:03.490Z"
   },
   {
    "duration": 14,
    "start_time": "2022-07-07T15:30:35.841Z"
   },
   {
    "duration": 28,
    "start_time": "2022-07-07T15:35:28.429Z"
   },
   {
    "duration": 23,
    "start_time": "2022-07-07T15:37:12.594Z"
   },
   {
    "duration": 11,
    "start_time": "2022-07-07T15:47:03.508Z"
   },
   {
    "duration": 10,
    "start_time": "2022-07-07T15:47:57.024Z"
   },
   {
    "duration": 14,
    "start_time": "2022-07-07T15:48:17.903Z"
   },
   {
    "duration": 4,
    "start_time": "2022-07-07T15:51:34.726Z"
   },
   {
    "duration": 4,
    "start_time": "2022-07-07T15:51:48.671Z"
   },
   {
    "duration": 4,
    "start_time": "2022-07-07T15:52:16.112Z"
   },
   {
    "duration": 4,
    "start_time": "2022-07-07T15:52:23.090Z"
   },
   {
    "duration": 4,
    "start_time": "2022-07-07T15:53:01.305Z"
   },
   {
    "duration": 4,
    "start_time": "2022-07-07T15:53:31.099Z"
   },
   {
    "duration": 4,
    "start_time": "2022-07-07T15:55:08.304Z"
   },
   {
    "duration": 4,
    "start_time": "2022-07-07T16:03:15.776Z"
   },
   {
    "duration": 11,
    "start_time": "2022-07-07T16:03:55.681Z"
   },
   {
    "duration": 10,
    "start_time": "2022-07-07T16:04:36.186Z"
   },
   {
    "duration": 26,
    "start_time": "2022-07-07T16:05:08.372Z"
   },
   {
    "duration": 27,
    "start_time": "2022-07-07T16:06:36.783Z"
   },
   {
    "duration": 59,
    "start_time": "2022-07-07T16:08:11.395Z"
   },
   {
    "duration": 87,
    "start_time": "2022-07-07T16:10:04.067Z"
   },
   {
    "duration": 213,
    "start_time": "2022-07-07T16:11:33.729Z"
   },
   {
    "duration": 10,
    "start_time": "2022-07-07T16:13:05.780Z"
   },
   {
    "duration": 219,
    "start_time": "2022-07-07T16:13:25.846Z"
   },
   {
    "duration": 11,
    "start_time": "2022-07-07T16:13:37.031Z"
   },
   {
    "duration": 202,
    "start_time": "2022-07-07T16:13:48.110Z"
   },
   {
    "duration": 249,
    "start_time": "2022-07-07T16:14:01.942Z"
   },
   {
    "duration": 140,
    "start_time": "2022-07-07T16:14:54.629Z"
   },
   {
    "duration": 75,
    "start_time": "2022-07-07T16:15:11.446Z"
   },
   {
    "duration": 119,
    "start_time": "2022-07-07T16:15:48.846Z"
   },
   {
    "duration": 123,
    "start_time": "2022-07-07T16:16:18.001Z"
   },
   {
    "duration": 56,
    "start_time": "2022-07-07T16:16:31.992Z"
   },
   {
    "duration": 84,
    "start_time": "2022-07-07T16:18:47.873Z"
   },
   {
    "duration": 7,
    "start_time": "2022-07-07T16:23:21.586Z"
   },
   {
    "duration": 11,
    "start_time": "2022-07-07T16:24:46.026Z"
   },
   {
    "duration": 11,
    "start_time": "2022-07-07T16:24:55.044Z"
   },
   {
    "duration": 16,
    "start_time": "2022-07-07T16:25:35.252Z"
   },
   {
    "duration": 29,
    "start_time": "2022-07-07T16:30:30.583Z"
   },
   {
    "duration": 27,
    "start_time": "2022-07-07T16:32:13.298Z"
   },
   {
    "duration": 8,
    "start_time": "2022-07-07T16:33:28.558Z"
   },
   {
    "duration": 16,
    "start_time": "2022-07-07T16:34:04.696Z"
   },
   {
    "duration": 9,
    "start_time": "2022-07-07T16:39:47.794Z"
   },
   {
    "duration": 4,
    "start_time": "2022-07-07T16:39:50.206Z"
   },
   {
    "duration": 5,
    "start_time": "2022-07-07T16:39:52.400Z"
   },
   {
    "duration": 5,
    "start_time": "2022-07-07T16:40:19.946Z"
   },
   {
    "duration": 3,
    "start_time": "2022-07-07T16:47:59.958Z"
   },
   {
    "duration": 5,
    "start_time": "2022-07-07T16:48:03.989Z"
   },
   {
    "duration": 7,
    "start_time": "2022-07-07T16:49:16.481Z"
   },
   {
    "duration": 4154,
    "start_time": "2022-07-07T16:55:59.089Z"
   },
   {
    "duration": 41,
    "start_time": "2022-07-07T16:57:13.402Z"
   },
   {
    "duration": 17,
    "start_time": "2022-07-07T16:59:46.184Z"
   },
   {
    "duration": 28,
    "start_time": "2022-07-07T17:01:42.689Z"
   },
   {
    "duration": 10,
    "start_time": "2022-07-07T17:03:33.928Z"
   },
   {
    "duration": 8,
    "start_time": "2022-07-07T17:03:42.183Z"
   },
   {
    "duration": 16,
    "start_time": "2022-07-07T17:04:59.582Z"
   },
   {
    "duration": 150,
    "start_time": "2022-07-07T17:05:34.355Z"
   },
   {
    "duration": 86,
    "start_time": "2022-07-07T17:06:07.535Z"
   },
   {
    "duration": 92,
    "start_time": "2022-07-07T17:07:37.283Z"
   },
   {
    "duration": 12,
    "start_time": "2022-07-07T17:09:27.519Z"
   },
   {
    "duration": 16,
    "start_time": "2022-07-07T17:09:44.475Z"
   },
   {
    "duration": 15,
    "start_time": "2022-07-07T17:11:21.611Z"
   },
   {
    "duration": 13,
    "start_time": "2022-07-07T17:36:22.986Z"
   },
   {
    "duration": 10,
    "start_time": "2022-07-07T17:47:56.732Z"
   },
   {
    "duration": 5,
    "start_time": "2022-07-07T17:48:34.918Z"
   },
   {
    "duration": 5,
    "start_time": "2022-07-07T17:49:16.604Z"
   },
   {
    "duration": 5,
    "start_time": "2022-07-07T17:49:47.122Z"
   },
   {
    "duration": 7,
    "start_time": "2022-07-07T17:50:20.787Z"
   },
   {
    "duration": 4,
    "start_time": "2022-07-07T18:05:33.684Z"
   },
   {
    "duration": 14,
    "start_time": "2022-07-07T18:09:41.225Z"
   },
   {
    "duration": 4,
    "start_time": "2022-07-07T18:13:12.519Z"
   },
   {
    "duration": 13,
    "start_time": "2022-07-07T18:15:08.757Z"
   },
   {
    "duration": 4,
    "start_time": "2022-07-07T18:15:23.507Z"
   },
   {
    "duration": 16,
    "start_time": "2022-07-07T18:15:26.646Z"
   },
   {
    "duration": 13,
    "start_time": "2022-07-07T18:50:13.043Z"
   },
   {
    "duration": 9,
    "start_time": "2022-07-07T18:50:29.212Z"
   },
   {
    "duration": 9,
    "start_time": "2022-07-07T18:50:58.195Z"
   },
   {
    "duration": 10,
    "start_time": "2022-07-07T19:00:23.100Z"
   },
   {
    "duration": 8,
    "start_time": "2022-07-07T19:00:44.478Z"
   },
   {
    "duration": 12,
    "start_time": "2022-07-07T19:00:59.060Z"
   },
   {
    "duration": 76,
    "start_time": "2022-07-07T19:01:25.431Z"
   },
   {
    "duration": 10,
    "start_time": "2022-07-07T19:01:33.313Z"
   },
   {
    "duration": 9,
    "start_time": "2022-07-07T19:02:41.553Z"
   },
   {
    "duration": 3,
    "start_time": "2022-07-07T19:06:06.639Z"
   },
   {
    "duration": 9,
    "start_time": "2022-07-07T19:07:33.133Z"
   },
   {
    "duration": 8,
    "start_time": "2022-07-07T19:08:22.916Z"
   },
   {
    "duration": 7,
    "start_time": "2022-07-07T19:08:32.835Z"
   },
   {
    "duration": 7,
    "start_time": "2022-07-07T19:08:49.410Z"
   },
   {
    "duration": 10,
    "start_time": "2022-07-07T19:11:36.859Z"
   },
   {
    "duration": 14,
    "start_time": "2022-07-07T19:22:05.453Z"
   },
   {
    "duration": 15,
    "start_time": "2022-07-07T19:23:33.675Z"
   },
   {
    "duration": 637,
    "start_time": "2022-07-07T23:53:36.713Z"
   },
   {
    "duration": 9,
    "start_time": "2022-07-07T23:53:37.353Z"
   },
   {
    "duration": 18,
    "start_time": "2022-07-07T23:53:37.364Z"
   },
   {
    "duration": 10,
    "start_time": "2022-07-07T23:53:37.385Z"
   },
   {
    "duration": 17,
    "start_time": "2022-07-07T23:53:37.400Z"
   },
   {
    "duration": 27,
    "start_time": "2022-07-07T23:53:37.419Z"
   },
   {
    "duration": 27,
    "start_time": "2022-07-07T23:53:37.448Z"
   },
   {
    "duration": 5,
    "start_time": "2022-07-07T23:53:37.502Z"
   },
   {
    "duration": 22,
    "start_time": "2022-07-07T23:53:37.509Z"
   },
   {
    "duration": 12,
    "start_time": "2022-07-07T23:53:37.534Z"
   },
   {
    "duration": 14,
    "start_time": "2022-07-07T23:53:37.548Z"
   },
   {
    "duration": 50,
    "start_time": "2022-07-07T23:53:37.563Z"
   },
   {
    "duration": 12,
    "start_time": "2022-07-07T23:53:37.614Z"
   },
   {
    "duration": 5,
    "start_time": "2022-07-07T23:53:37.627Z"
   },
   {
    "duration": 34,
    "start_time": "2022-07-07T23:53:37.633Z"
   },
   {
    "duration": 40,
    "start_time": "2022-07-07T23:53:37.669Z"
   },
   {
    "duration": 15,
    "start_time": "2022-07-07T23:53:37.710Z"
   },
   {
    "duration": 13,
    "start_time": "2022-07-07T23:53:37.726Z"
   },
   {
    "duration": 4,
    "start_time": "2022-07-07T23:53:37.740Z"
   },
   {
    "duration": 21,
    "start_time": "2022-07-07T23:53:37.745Z"
   },
   {
    "duration": 8,
    "start_time": "2022-07-07T23:53:37.768Z"
   },
   {
    "duration": 24,
    "start_time": "2022-07-07T23:53:37.777Z"
   },
   {
    "duration": 8,
    "start_time": "2022-07-07T23:53:37.803Z"
   },
   {
    "duration": 5,
    "start_time": "2022-07-07T23:53:37.813Z"
   },
   {
    "duration": 6,
    "start_time": "2022-07-07T23:53:37.820Z"
   },
   {
    "duration": 9,
    "start_time": "2022-07-07T23:53:37.828Z"
   },
   {
    "duration": 8,
    "start_time": "2022-07-07T23:53:37.838Z"
   },
   {
    "duration": 11,
    "start_time": "2022-07-07T23:53:37.850Z"
   },
   {
    "duration": 54,
    "start_time": "2022-07-07T23:53:37.862Z"
   },
   {
    "duration": 23,
    "start_time": "2022-07-07T23:53:37.917Z"
   },
   {
    "duration": 7,
    "start_time": "2022-07-07T23:53:37.941Z"
   },
   {
    "duration": 11,
    "start_time": "2022-07-07T23:53:37.950Z"
   },
   {
    "duration": 9,
    "start_time": "2022-07-07T23:53:37.963Z"
   },
   {
    "duration": 34,
    "start_time": "2022-07-07T23:53:37.973Z"
   },
   {
    "duration": 8,
    "start_time": "2022-07-07T23:53:38.008Z"
   },
   {
    "duration": 9,
    "start_time": "2022-07-07T23:53:38.018Z"
   },
   {
    "duration": 7,
    "start_time": "2022-07-07T23:53:38.029Z"
   },
   {
    "duration": 10,
    "start_time": "2022-07-07T23:53:38.038Z"
   },
   {
    "duration": 15,
    "start_time": "2022-07-07T23:53:38.050Z"
   },
   {
    "duration": 38,
    "start_time": "2022-07-07T23:53:38.067Z"
   },
   {
    "duration": 6,
    "start_time": "2022-07-07T23:53:38.106Z"
   },
   {
    "duration": 7,
    "start_time": "2022-07-07T23:53:38.113Z"
   },
   {
    "duration": 11,
    "start_time": "2022-07-07T23:53:38.121Z"
   },
   {
    "duration": 11,
    "start_time": "2022-07-07T23:53:38.134Z"
   },
   {
    "duration": 7,
    "start_time": "2022-07-07T23:53:38.147Z"
   },
   {
    "duration": 10,
    "start_time": "2022-07-07T23:53:38.155Z"
   },
   {
    "duration": 35,
    "start_time": "2022-07-07T23:53:38.167Z"
   },
   {
    "duration": 10,
    "start_time": "2022-07-07T23:53:38.204Z"
   },
   {
    "duration": 6,
    "start_time": "2022-07-07T23:53:38.216Z"
   },
   {
    "duration": 23,
    "start_time": "2022-07-07T23:53:38.224Z"
   },
   {
    "duration": 29,
    "start_time": "2022-07-07T23:53:38.248Z"
   },
   {
    "duration": 39,
    "start_time": "2022-07-07T23:53:38.279Z"
   },
   {
    "duration": 17,
    "start_time": "2022-07-07T23:53:38.320Z"
   },
   {
    "duration": 15,
    "start_time": "2022-07-07T23:53:38.339Z"
   },
   {
    "duration": 17,
    "start_time": "2022-07-07T23:53:38.356Z"
   },
   {
    "duration": 55,
    "start_time": "2022-07-07T23:53:38.374Z"
   },
   {
    "duration": 12,
    "start_time": "2022-07-07T23:53:38.430Z"
   },
   {
    "duration": 29,
    "start_time": "2022-07-07T23:53:38.444Z"
   },
   {
    "duration": 8,
    "start_time": "2022-07-07T23:53:38.475Z"
   },
   {
    "duration": 11,
    "start_time": "2022-07-07T23:53:38.485Z"
   },
   {
    "duration": 10,
    "start_time": "2022-07-07T23:53:38.498Z"
   },
   {
    "duration": 19,
    "start_time": "2022-07-07T23:53:38.510Z"
   },
   {
    "duration": 13,
    "start_time": "2022-07-07T23:53:38.530Z"
   },
   {
    "duration": 7,
    "start_time": "2022-07-07T23:53:38.544Z"
   },
   {
    "duration": 10,
    "start_time": "2022-07-07T23:53:38.552Z"
   },
   {
    "duration": 16,
    "start_time": "2022-07-07T23:53:38.563Z"
   },
   {
    "duration": 28,
    "start_time": "2022-07-07T23:53:38.580Z"
   },
   {
    "duration": 16,
    "start_time": "2022-07-07T23:53:38.610Z"
   },
   {
    "duration": 27,
    "start_time": "2022-07-07T23:53:38.628Z"
   },
   {
    "duration": 22,
    "start_time": "2022-07-07T23:53:38.657Z"
   },
   {
    "duration": 29,
    "start_time": "2022-07-07T23:53:38.700Z"
   },
   {
    "duration": 30,
    "start_time": "2022-07-07T23:53:38.731Z"
   },
   {
    "duration": 41,
    "start_time": "2022-07-07T23:53:38.764Z"
   },
   {
    "duration": 18,
    "start_time": "2022-07-07T23:53:38.807Z"
   },
   {
    "duration": 8,
    "start_time": "2022-07-07T23:53:38.827Z"
   },
   {
    "duration": 6,
    "start_time": "2022-07-07T23:53:38.837Z"
   },
   {
    "duration": 12,
    "start_time": "2022-07-07T23:53:38.844Z"
   },
   {
    "duration": 3462,
    "start_time": "2022-07-07T23:53:38.857Z"
   },
   {
    "duration": 3499,
    "start_time": "2022-07-07T23:53:42.321Z"
   },
   {
    "duration": 36,
    "start_time": "2022-07-07T23:53:45.822Z"
   },
   {
    "duration": 16,
    "start_time": "2022-07-07T23:53:45.860Z"
   },
   {
    "duration": 35,
    "start_time": "2022-07-07T23:53:45.882Z"
   },
   {
    "duration": 16,
    "start_time": "2022-07-07T23:53:45.918Z"
   },
   {
    "duration": 23,
    "start_time": "2022-07-07T23:53:45.935Z"
   },
   {
    "duration": 105,
    "start_time": "2022-07-07T23:53:45.959Z"
   },
   {
    "duration": 6,
    "start_time": "2022-07-07T23:53:46.065Z"
   },
   {
    "duration": 10,
    "start_time": "2022-07-07T23:53:46.072Z"
   },
   {
    "duration": 28,
    "start_time": "2022-07-07T23:53:46.084Z"
   },
   {
    "duration": 27,
    "start_time": "2022-07-07T23:53:46.114Z"
   },
   {
    "duration": 26,
    "start_time": "2022-07-07T23:53:46.143Z"
   },
   {
    "duration": 36,
    "start_time": "2022-07-07T23:53:46.170Z"
   },
   {
    "duration": 5,
    "start_time": "2022-07-07T23:53:46.208Z"
   },
   {
    "duration": 7,
    "start_time": "2022-07-07T23:53:46.214Z"
   },
   {
    "duration": 3675,
    "start_time": "2022-07-07T23:53:46.222Z"
   },
   {
    "duration": 44,
    "start_time": "2022-07-07T23:53:49.899Z"
   },
   {
    "duration": 17,
    "start_time": "2022-07-07T23:53:49.945Z"
   },
   {
    "duration": 48,
    "start_time": "2022-07-07T23:53:49.964Z"
   },
   {
    "duration": 21,
    "start_time": "2022-07-07T23:53:50.013Z"
   },
   {
    "duration": 132,
    "start_time": "2022-07-07T23:53:50.036Z"
   },
   {
    "duration": 6,
    "start_time": "2022-07-07T23:53:50.171Z"
   },
   {
    "duration": 26,
    "start_time": "2022-07-07T23:53:50.179Z"
   },
   {
    "duration": 10,
    "start_time": "2022-07-07T23:53:50.207Z"
   },
   {
    "duration": 16,
    "start_time": "2022-07-07T23:53:50.218Z"
   },
   {
    "duration": 6,
    "start_time": "2022-07-07T23:53:50.236Z"
   },
   {
    "duration": 7,
    "start_time": "2022-07-07T23:53:50.244Z"
   },
   {
    "duration": 15,
    "start_time": "2022-07-07T23:53:50.253Z"
   },
   {
    "duration": 3,
    "start_time": "2022-07-07T23:53:50.269Z"
   },
   {
    "duration": 34,
    "start_time": "2022-07-07T23:53:50.273Z"
   },
   {
    "duration": 11,
    "start_time": "2022-07-07T23:53:50.308Z"
   },
   {
    "duration": 3,
    "start_time": "2022-07-07T23:53:50.321Z"
   },
   {
    "duration": 11,
    "start_time": "2022-07-07T23:53:50.325Z"
   },
   {
    "duration": 9,
    "start_time": "2022-07-07T23:53:50.338Z"
   },
   {
    "duration": 7,
    "start_time": "2022-07-07T23:53:50.348Z"
   },
   {
    "duration": 22,
    "start_time": "2022-07-07T23:53:50.356Z"
   },
   {
    "duration": 3,
    "start_time": "2022-07-07T23:53:50.401Z"
   },
   {
    "duration": 9,
    "start_time": "2022-07-07T23:53:50.405Z"
   },
   {
    "duration": 21,
    "start_time": "2022-07-07T23:55:14.894Z"
   },
   {
    "duration": 25,
    "start_time": "2022-07-07T23:55:31.955Z"
   },
   {
    "duration": 29,
    "start_time": "2022-07-07T23:55:59.797Z"
   },
   {
    "duration": 62,
    "start_time": "2022-07-07T23:58:21.778Z"
   },
   {
    "duration": 39,
    "start_time": "2022-07-07T23:58:59.046Z"
   },
   {
    "duration": 7,
    "start_time": "2022-07-07T23:59:34.109Z"
   },
   {
    "duration": 15,
    "start_time": "2022-07-07T23:59:48.685Z"
   },
   {
    "duration": 14,
    "start_time": "2022-07-08T00:00:18.607Z"
   },
   {
    "duration": 23,
    "start_time": "2022-07-08T00:00:54.043Z"
   },
   {
    "duration": 22,
    "start_time": "2022-07-08T00:01:04.236Z"
   },
   {
    "duration": 22,
    "start_time": "2022-07-08T00:01:22.569Z"
   },
   {
    "duration": 7,
    "start_time": "2022-07-08T00:12:01.758Z"
   },
   {
    "duration": 83,
    "start_time": "2022-07-08T00:12:21.317Z"
   },
   {
    "duration": 8,
    "start_time": "2022-07-08T00:12:34.230Z"
   },
   {
    "duration": 9,
    "start_time": "2022-07-08T00:13:12.219Z"
   },
   {
    "duration": 9,
    "start_time": "2022-07-08T00:13:19.917Z"
   },
   {
    "duration": 9,
    "start_time": "2022-07-08T00:17:06.370Z"
   },
   {
    "duration": 9,
    "start_time": "2022-07-08T00:21:29.593Z"
   },
   {
    "duration": 22,
    "start_time": "2022-07-08T00:21:35.639Z"
   },
   {
    "duration": 14,
    "start_time": "2022-07-08T00:21:53.998Z"
   },
   {
    "duration": 22,
    "start_time": "2022-07-08T00:38:23.157Z"
   },
   {
    "duration": 18,
    "start_time": "2022-07-08T00:44:05.329Z"
   },
   {
    "duration": 17,
    "start_time": "2022-07-08T00:44:15.847Z"
   },
   {
    "duration": 58,
    "start_time": "2022-07-08T00:45:07.195Z"
   },
   {
    "duration": 19,
    "start_time": "2022-07-08T00:45:26.415Z"
   },
   {
    "duration": 45,
    "start_time": "2022-07-08T00:47:27.341Z"
   },
   {
    "duration": 21,
    "start_time": "2022-07-08T00:47:33.943Z"
   },
   {
    "duration": 14,
    "start_time": "2022-07-08T00:49:28.913Z"
   },
   {
    "duration": 53,
    "start_time": "2022-07-08T00:54:07.640Z"
   },
   {
    "duration": 50,
    "start_time": "2022-07-08T00:55:52.520Z"
   },
   {
    "duration": 13,
    "start_time": "2022-07-08T00:56:31.780Z"
   },
   {
    "duration": 637,
    "start_time": "2022-07-08T15:09:03.040Z"
   },
   {
    "duration": 11,
    "start_time": "2022-07-08T15:09:03.680Z"
   },
   {
    "duration": 25,
    "start_time": "2022-07-08T15:09:03.692Z"
   },
   {
    "duration": 10,
    "start_time": "2022-07-08T15:09:03.718Z"
   },
   {
    "duration": 31,
    "start_time": "2022-07-08T15:09:03.731Z"
   },
   {
    "duration": 20,
    "start_time": "2022-07-08T15:09:03.764Z"
   },
   {
    "duration": 28,
    "start_time": "2022-07-08T15:09:03.786Z"
   },
   {
    "duration": 5,
    "start_time": "2022-07-08T15:09:03.846Z"
   },
   {
    "duration": 20,
    "start_time": "2022-07-08T15:09:03.852Z"
   },
   {
    "duration": 17,
    "start_time": "2022-07-08T15:09:03.874Z"
   },
   {
    "duration": 34,
    "start_time": "2022-07-08T15:09:03.893Z"
   },
   {
    "duration": 34,
    "start_time": "2022-07-08T15:09:03.929Z"
   },
   {
    "duration": 20,
    "start_time": "2022-07-08T15:09:03.966Z"
   },
   {
    "duration": 5,
    "start_time": "2022-07-08T15:09:03.990Z"
   },
   {
    "duration": 52,
    "start_time": "2022-07-08T15:09:03.997Z"
   },
   {
    "duration": 16,
    "start_time": "2022-07-08T15:09:04.051Z"
   },
   {
    "duration": 16,
    "start_time": "2022-07-08T15:09:04.069Z"
   },
   {
    "duration": 13,
    "start_time": "2022-07-08T15:09:04.087Z"
   },
   {
    "duration": 14,
    "start_time": "2022-07-08T15:09:04.102Z"
   },
   {
    "duration": 17,
    "start_time": "2022-07-08T15:09:04.147Z"
   },
   {
    "duration": 11,
    "start_time": "2022-07-08T15:09:04.166Z"
   },
   {
    "duration": 7,
    "start_time": "2022-07-08T15:09:04.179Z"
   },
   {
    "duration": 10,
    "start_time": "2022-07-08T15:09:04.188Z"
   },
   {
    "duration": 8,
    "start_time": "2022-07-08T15:09:04.200Z"
   },
   {
    "duration": 16,
    "start_time": "2022-07-08T15:09:04.210Z"
   },
   {
    "duration": 19,
    "start_time": "2022-07-08T15:09:04.228Z"
   },
   {
    "duration": 19,
    "start_time": "2022-07-08T15:09:04.249Z"
   },
   {
    "duration": 20,
    "start_time": "2022-07-08T15:09:04.270Z"
   },
   {
    "duration": 17,
    "start_time": "2022-07-08T15:09:04.292Z"
   },
   {
    "duration": 53,
    "start_time": "2022-07-08T15:09:04.311Z"
   },
   {
    "duration": 9,
    "start_time": "2022-07-08T15:09:04.366Z"
   },
   {
    "duration": 13,
    "start_time": "2022-07-08T15:09:04.377Z"
   },
   {
    "duration": 6,
    "start_time": "2022-07-08T15:09:04.392Z"
   },
   {
    "duration": 13,
    "start_time": "2022-07-08T15:09:04.400Z"
   },
   {
    "duration": 4,
    "start_time": "2022-07-08T15:09:04.414Z"
   },
   {
    "duration": 31,
    "start_time": "2022-07-08T15:09:04.421Z"
   },
   {
    "duration": 10,
    "start_time": "2022-07-08T15:09:04.455Z"
   },
   {
    "duration": 11,
    "start_time": "2022-07-08T15:09:04.467Z"
   },
   {
    "duration": 19,
    "start_time": "2022-07-08T15:09:04.480Z"
   },
   {
    "duration": 13,
    "start_time": "2022-07-08T15:09:04.501Z"
   },
   {
    "duration": 3,
    "start_time": "2022-07-08T15:09:04.548Z"
   },
   {
    "duration": 7,
    "start_time": "2022-07-08T15:09:04.553Z"
   },
   {
    "duration": 23,
    "start_time": "2022-07-08T15:09:04.561Z"
   },
   {
    "duration": 17,
    "start_time": "2022-07-08T15:09:04.586Z"
   },
   {
    "duration": 16,
    "start_time": "2022-07-08T15:09:04.605Z"
   },
   {
    "duration": 13,
    "start_time": "2022-07-08T15:09:04.623Z"
   },
   {
    "duration": 18,
    "start_time": "2022-07-08T15:09:04.638Z"
   },
   {
    "duration": 13,
    "start_time": "2022-07-08T15:09:04.658Z"
   },
   {
    "duration": 15,
    "start_time": "2022-07-08T15:09:04.672Z"
   },
   {
    "duration": 24,
    "start_time": "2022-07-08T15:09:04.690Z"
   },
   {
    "duration": 51,
    "start_time": "2022-07-08T15:09:04.715Z"
   },
   {
    "duration": 26,
    "start_time": "2022-07-08T15:09:04.768Z"
   },
   {
    "duration": 21,
    "start_time": "2022-07-08T15:09:04.796Z"
   },
   {
    "duration": 43,
    "start_time": "2022-07-08T15:09:04.819Z"
   },
   {
    "duration": 19,
    "start_time": "2022-07-08T15:09:04.864Z"
   },
   {
    "duration": 34,
    "start_time": "2022-07-08T15:09:04.885Z"
   },
   {
    "duration": 38,
    "start_time": "2022-07-08T15:09:04.921Z"
   },
   {
    "duration": 5,
    "start_time": "2022-07-08T15:09:04.960Z"
   },
   {
    "duration": 10,
    "start_time": "2022-07-08T15:09:04.967Z"
   },
   {
    "duration": 16,
    "start_time": "2022-07-08T15:09:04.979Z"
   },
   {
    "duration": 10,
    "start_time": "2022-07-08T15:09:04.997Z"
   },
   {
    "duration": 11,
    "start_time": "2022-07-08T15:09:05.009Z"
   },
   {
    "duration": 3,
    "start_time": "2022-07-08T15:09:05.046Z"
   },
   {
    "duration": 14,
    "start_time": "2022-07-08T15:09:05.051Z"
   },
   {
    "duration": 14,
    "start_time": "2022-07-08T15:09:05.066Z"
   },
   {
    "duration": 21,
    "start_time": "2022-07-08T15:09:05.082Z"
   },
   {
    "duration": 23,
    "start_time": "2022-07-08T15:09:05.105Z"
   },
   {
    "duration": 27,
    "start_time": "2022-07-08T15:09:05.130Z"
   },
   {
    "duration": 27,
    "start_time": "2022-07-08T15:09:05.159Z"
   },
   {
    "duration": 22,
    "start_time": "2022-07-08T15:09:05.187Z"
   },
   {
    "duration": 47,
    "start_time": "2022-07-08T15:09:05.211Z"
   },
   {
    "duration": 29,
    "start_time": "2022-07-08T15:09:05.259Z"
   },
   {
    "duration": 17,
    "start_time": "2022-07-08T15:09:05.289Z"
   },
   {
    "duration": 40,
    "start_time": "2022-07-08T15:09:05.307Z"
   },
   {
    "duration": 19,
    "start_time": "2022-07-08T15:09:05.350Z"
   },
   {
    "duration": 7,
    "start_time": "2022-07-08T15:09:05.371Z"
   },
   {
    "duration": 14,
    "start_time": "2022-07-08T15:09:05.380Z"
   },
   {
    "duration": 3980,
    "start_time": "2022-07-08T15:09:05.396Z"
   },
   {
    "duration": 3847,
    "start_time": "2022-07-08T15:09:09.378Z"
   },
   {
    "duration": 42,
    "start_time": "2022-07-08T15:09:13.226Z"
   },
   {
    "duration": 14,
    "start_time": "2022-07-08T15:09:13.270Z"
   },
   {
    "duration": 29,
    "start_time": "2022-07-08T15:09:13.286Z"
   },
   {
    "duration": 36,
    "start_time": "2022-07-08T15:09:13.317Z"
   },
   {
    "duration": 32,
    "start_time": "2022-07-08T15:09:13.354Z"
   },
   {
    "duration": 140,
    "start_time": "2022-07-08T15:09:13.389Z"
   },
   {
    "duration": 16,
    "start_time": "2022-07-08T15:09:13.531Z"
   },
   {
    "duration": 26,
    "start_time": "2022-07-08T15:09:13.549Z"
   },
   {
    "duration": 17,
    "start_time": "2022-07-08T15:09:13.577Z"
   },
   {
    "duration": 42,
    "start_time": "2022-07-08T15:09:13.596Z"
   },
   {
    "duration": 78,
    "start_time": "2022-07-08T15:09:13.646Z"
   },
   {
    "duration": 27,
    "start_time": "2022-07-08T15:09:13.726Z"
   },
   {
    "duration": 8,
    "start_time": "2022-07-08T15:09:13.755Z"
   },
   {
    "duration": 17,
    "start_time": "2022-07-08T15:09:13.765Z"
   },
   {
    "duration": 3811,
    "start_time": "2022-07-08T15:09:13.784Z"
   },
   {
    "duration": 50,
    "start_time": "2022-07-08T15:09:17.596Z"
   },
   {
    "duration": 15,
    "start_time": "2022-07-08T15:09:17.648Z"
   },
   {
    "duration": 31,
    "start_time": "2022-07-08T15:09:17.664Z"
   },
   {
    "duration": 17,
    "start_time": "2022-07-08T15:09:17.697Z"
   },
   {
    "duration": 109,
    "start_time": "2022-07-08T15:09:17.715Z"
   },
   {
    "duration": 6,
    "start_time": "2022-07-08T15:09:17.826Z"
   },
   {
    "duration": 15,
    "start_time": "2022-07-08T15:09:17.845Z"
   },
   {
    "duration": 10,
    "start_time": "2022-07-08T15:09:17.861Z"
   },
   {
    "duration": 9,
    "start_time": "2022-07-08T15:09:17.873Z"
   },
   {
    "duration": 7,
    "start_time": "2022-07-08T15:09:17.883Z"
   },
   {
    "duration": 3,
    "start_time": "2022-07-08T15:09:17.892Z"
   },
   {
    "duration": 50,
    "start_time": "2022-07-08T15:09:17.897Z"
   },
   {
    "duration": 4,
    "start_time": "2022-07-08T15:09:17.948Z"
   },
   {
    "duration": 19,
    "start_time": "2022-07-08T15:09:17.953Z"
   },
   {
    "duration": 11,
    "start_time": "2022-07-08T15:09:17.974Z"
   },
   {
    "duration": 3,
    "start_time": "2022-07-08T15:09:17.986Z"
   },
   {
    "duration": 12,
    "start_time": "2022-07-08T15:09:17.991Z"
   },
   {
    "duration": 15,
    "start_time": "2022-07-08T15:09:18.005Z"
   },
   {
    "duration": 25,
    "start_time": "2022-07-08T15:09:18.022Z"
   },
   {
    "duration": 27,
    "start_time": "2022-07-08T15:09:18.048Z"
   },
   {
    "duration": 8,
    "start_time": "2022-07-08T15:09:18.077Z"
   },
   {
    "duration": 15,
    "start_time": "2022-07-08T15:09:18.086Z"
   },
   {
    "duration": 20,
    "start_time": "2022-07-08T15:09:18.102Z"
   },
   {
    "duration": 22,
    "start_time": "2022-07-08T15:14:05.901Z"
   },
   {
    "duration": 10,
    "start_time": "2022-07-08T15:20:40.598Z"
   },
   {
    "duration": 13,
    "start_time": "2022-07-08T15:21:00.316Z"
   },
   {
    "duration": 17,
    "start_time": "2022-07-08T15:24:58.234Z"
   },
   {
    "duration": 22,
    "start_time": "2022-07-08T15:31:28.948Z"
   },
   {
    "duration": 14,
    "start_time": "2022-07-08T15:32:26.161Z"
   },
   {
    "duration": 72,
    "start_time": "2022-07-08T15:41:21.673Z"
   },
   {
    "duration": 71,
    "start_time": "2022-07-08T15:42:16.176Z"
   },
   {
    "duration": 20,
    "start_time": "2022-07-08T15:44:06.636Z"
   },
   {
    "duration": 16,
    "start_time": "2022-07-08T15:46:21.918Z"
   },
   {
    "duration": 19,
    "start_time": "2022-07-08T15:52:09.040Z"
   },
   {
    "duration": 19,
    "start_time": "2022-07-08T15:56:29.976Z"
   },
   {
    "duration": 17,
    "start_time": "2022-07-08T15:57:05.191Z"
   },
   {
    "duration": 19,
    "start_time": "2022-07-08T15:58:31.033Z"
   },
   {
    "duration": 17,
    "start_time": "2022-07-08T15:58:46.807Z"
   },
   {
    "duration": 19,
    "start_time": "2022-07-08T15:59:04.733Z"
   },
   {
    "duration": 48,
    "start_time": "2022-07-08T15:59:37.559Z"
   },
   {
    "duration": 18,
    "start_time": "2022-07-08T16:00:12.939Z"
   },
   {
    "duration": 18,
    "start_time": "2022-07-08T16:02:47.249Z"
   },
   {
    "duration": 18,
    "start_time": "2022-07-08T16:02:51.814Z"
   },
   {
    "duration": 18,
    "start_time": "2022-07-08T16:03:29.393Z"
   },
   {
    "duration": 16,
    "start_time": "2022-07-08T16:04:20.141Z"
   },
   {
    "duration": 17,
    "start_time": "2022-07-08T16:06:39.122Z"
   },
   {
    "duration": 18,
    "start_time": "2022-07-08T16:06:54.088Z"
   },
   {
    "duration": 8,
    "start_time": "2022-07-08T16:41:00.915Z"
   },
   {
    "duration": 8,
    "start_time": "2022-07-08T16:53:27.445Z"
   },
   {
    "duration": 11,
    "start_time": "2022-07-08T17:02:16.394Z"
   },
   {
    "duration": 22,
    "start_time": "2022-07-08T17:03:12.115Z"
   },
   {
    "duration": 11,
    "start_time": "2022-07-08T17:07:43.395Z"
   },
   {
    "duration": 9,
    "start_time": "2022-07-08T17:08:01.239Z"
   },
   {
    "duration": 18,
    "start_time": "2022-07-08T17:16:59.670Z"
   },
   {
    "duration": 7,
    "start_time": "2022-07-08T17:17:54.802Z"
   },
   {
    "duration": 477,
    "start_time": "2022-07-09T00:18:54.449Z"
   },
   {
    "duration": 7,
    "start_time": "2022-07-09T00:18:54.928Z"
   },
   {
    "duration": 18,
    "start_time": "2022-07-09T00:18:54.937Z"
   },
   {
    "duration": 8,
    "start_time": "2022-07-09T00:18:54.957Z"
   },
   {
    "duration": 14,
    "start_time": "2022-07-09T00:18:54.967Z"
   },
   {
    "duration": 17,
    "start_time": "2022-07-09T00:18:55.000Z"
   },
   {
    "duration": 26,
    "start_time": "2022-07-09T00:18:55.019Z"
   },
   {
    "duration": 4,
    "start_time": "2022-07-09T00:18:55.047Z"
   },
   {
    "duration": 15,
    "start_time": "2022-07-09T00:18:55.052Z"
   },
   {
    "duration": 36,
    "start_time": "2022-07-09T00:18:55.069Z"
   },
   {
    "duration": 12,
    "start_time": "2022-07-09T00:18:55.106Z"
   },
   {
    "duration": 13,
    "start_time": "2022-07-09T00:18:55.119Z"
   },
   {
    "duration": 10,
    "start_time": "2022-07-09T00:18:55.133Z"
   },
   {
    "duration": 4,
    "start_time": "2022-07-09T00:18:55.145Z"
   },
   {
    "duration": 72,
    "start_time": "2022-07-09T00:18:55.150Z"
   },
   {
    "duration": 17,
    "start_time": "2022-07-09T00:18:55.224Z"
   },
   {
    "duration": 18,
    "start_time": "2022-07-09T00:18:55.243Z"
   },
   {
    "duration": 44,
    "start_time": "2022-07-09T00:18:55.263Z"
   },
   {
    "duration": 5,
    "start_time": "2022-07-09T00:18:55.309Z"
   },
   {
    "duration": 16,
    "start_time": "2022-07-09T00:18:55.316Z"
   },
   {
    "duration": 6,
    "start_time": "2022-07-09T00:18:55.334Z"
   },
   {
    "duration": 9,
    "start_time": "2022-07-09T00:18:55.342Z"
   },
   {
    "duration": 8,
    "start_time": "2022-07-09T00:18:55.352Z"
   },
   {
    "duration": 39,
    "start_time": "2022-07-09T00:18:55.362Z"
   },
   {
    "duration": 6,
    "start_time": "2022-07-09T00:18:55.403Z"
   },
   {
    "duration": 4,
    "start_time": "2022-07-09T00:18:55.410Z"
   },
   {
    "duration": 8,
    "start_time": "2022-07-09T00:18:55.416Z"
   },
   {
    "duration": 10,
    "start_time": "2022-07-09T00:18:55.426Z"
   },
   {
    "duration": 16,
    "start_time": "2022-07-09T00:18:55.437Z"
   },
   {
    "duration": 49,
    "start_time": "2022-07-09T00:18:55.455Z"
   },
   {
    "duration": 8,
    "start_time": "2022-07-09T00:18:55.506Z"
   },
   {
    "duration": 10,
    "start_time": "2022-07-09T00:18:55.515Z"
   },
   {
    "duration": 5,
    "start_time": "2022-07-09T00:18:55.527Z"
   },
   {
    "duration": 10,
    "start_time": "2022-07-09T00:18:55.533Z"
   },
   {
    "duration": 4,
    "start_time": "2022-07-09T00:18:55.544Z"
   },
   {
    "duration": 10,
    "start_time": "2022-07-09T00:18:55.549Z"
   },
   {
    "duration": 41,
    "start_time": "2022-07-09T00:18:55.560Z"
   },
   {
    "duration": 7,
    "start_time": "2022-07-09T00:18:55.603Z"
   },
   {
    "duration": 14,
    "start_time": "2022-07-09T00:18:55.612Z"
   },
   {
    "duration": 7,
    "start_time": "2022-07-09T00:18:55.627Z"
   },
   {
    "duration": 5,
    "start_time": "2022-07-09T00:18:55.640Z"
   },
   {
    "duration": 9,
    "start_time": "2022-07-09T00:18:55.647Z"
   },
   {
    "duration": 7,
    "start_time": "2022-07-09T00:18:55.658Z"
   },
   {
    "duration": 40,
    "start_time": "2022-07-09T00:18:55.666Z"
   },
   {
    "duration": 21,
    "start_time": "2022-07-09T00:18:55.708Z"
   },
   {
    "duration": 7,
    "start_time": "2022-07-09T00:18:55.730Z"
   },
   {
    "duration": 16,
    "start_time": "2022-07-09T00:18:55.739Z"
   },
   {
    "duration": 45,
    "start_time": "2022-07-09T00:18:55.756Z"
   },
   {
    "duration": 20,
    "start_time": "2022-07-09T00:18:55.802Z"
   },
   {
    "duration": 18,
    "start_time": "2022-07-09T00:18:55.823Z"
   },
   {
    "duration": 17,
    "start_time": "2022-07-09T00:18:55.842Z"
   },
   {
    "duration": 43,
    "start_time": "2022-07-09T00:18:55.860Z"
   },
   {
    "duration": 31,
    "start_time": "2022-07-09T00:18:55.904Z"
   },
   {
    "duration": 13,
    "start_time": "2022-07-09T00:18:55.937Z"
   },
   {
    "duration": 4,
    "start_time": "2022-07-09T00:18:55.952Z"
   },
   {
    "duration": 7,
    "start_time": "2022-07-09T00:18:55.958Z"
   },
   {
    "duration": 37,
    "start_time": "2022-07-09T00:18:55.967Z"
   },
   {
    "duration": 12,
    "start_time": "2022-07-09T00:18:56.006Z"
   },
   {
    "duration": 11,
    "start_time": "2022-07-09T00:18:56.020Z"
   },
   {
    "duration": 4,
    "start_time": "2022-07-09T00:18:56.033Z"
   },
   {
    "duration": 9,
    "start_time": "2022-07-09T00:18:56.038Z"
   },
   {
    "duration": 9,
    "start_time": "2022-07-09T00:18:56.048Z"
   },
   {
    "duration": 44,
    "start_time": "2022-07-09T00:18:56.058Z"
   },
   {
    "duration": 18,
    "start_time": "2022-07-09T00:18:56.104Z"
   },
   {
    "duration": 16,
    "start_time": "2022-07-09T00:18:56.124Z"
   },
   {
    "duration": 22,
    "start_time": "2022-07-09T00:18:56.142Z"
   },
   {
    "duration": 47,
    "start_time": "2022-07-09T00:18:56.166Z"
   },
   {
    "duration": 27,
    "start_time": "2022-07-09T00:18:56.215Z"
   },
   {
    "duration": 26,
    "start_time": "2022-07-09T00:18:56.243Z"
   },
   {
    "duration": 41,
    "start_time": "2022-07-09T00:18:56.271Z"
   },
   {
    "duration": 22,
    "start_time": "2022-07-09T00:18:56.314Z"
   },
   {
    "duration": 7,
    "start_time": "2022-07-09T00:18:56.337Z"
   },
   {
    "duration": 4,
    "start_time": "2022-07-09T00:18:56.346Z"
   },
   {
    "duration": 7,
    "start_time": "2022-07-09T00:18:56.352Z"
   },
   {
    "duration": 3435,
    "start_time": "2022-07-09T00:18:56.360Z"
   },
   {
    "duration": 3480,
    "start_time": "2022-07-09T00:18:59.801Z"
   },
   {
    "duration": 37,
    "start_time": "2022-07-09T00:19:03.282Z"
   },
   {
    "duration": 15,
    "start_time": "2022-07-09T00:19:03.320Z"
   },
   {
    "duration": 31,
    "start_time": "2022-07-09T00:19:03.336Z"
   },
   {
    "duration": 16,
    "start_time": "2022-07-09T00:19:03.369Z"
   },
   {
    "duration": 23,
    "start_time": "2022-07-09T00:19:03.400Z"
   },
   {
    "duration": 100,
    "start_time": "2022-07-09T00:19:03.425Z"
   },
   {
    "duration": 6,
    "start_time": "2022-07-09T00:19:03.527Z"
   },
   {
    "duration": 14,
    "start_time": "2022-07-09T00:19:03.534Z"
   },
   {
    "duration": 18,
    "start_time": "2022-07-09T00:19:03.549Z"
   },
   {
    "duration": 38,
    "start_time": "2022-07-09T00:19:03.568Z"
   },
   {
    "duration": 58,
    "start_time": "2022-07-09T00:19:03.607Z"
   },
   {
    "duration": 15,
    "start_time": "2022-07-09T00:19:03.667Z"
   },
   {
    "duration": 27,
    "start_time": "2022-07-09T00:19:03.684Z"
   },
   {
    "duration": 10,
    "start_time": "2022-07-09T00:19:03.712Z"
   },
   {
    "duration": 3490,
    "start_time": "2022-07-09T00:19:03.724Z"
   },
   {
    "duration": 34,
    "start_time": "2022-07-09T00:19:07.215Z"
   },
   {
    "duration": 16,
    "start_time": "2022-07-09T00:19:07.251Z"
   },
   {
    "duration": 39,
    "start_time": "2022-07-09T00:19:07.268Z"
   },
   {
    "duration": 29,
    "start_time": "2022-07-09T00:19:07.308Z"
   },
   {
    "duration": 79,
    "start_time": "2022-07-09T00:19:07.339Z"
   },
   {
    "duration": 6,
    "start_time": "2022-07-09T00:19:07.420Z"
   },
   {
    "duration": 17,
    "start_time": "2022-07-09T00:19:07.427Z"
   },
   {
    "duration": 8,
    "start_time": "2022-07-09T00:19:07.446Z"
   },
   {
    "duration": 10,
    "start_time": "2022-07-09T00:19:07.456Z"
   },
   {
    "duration": 6,
    "start_time": "2022-07-09T00:19:07.467Z"
   },
   {
    "duration": 5,
    "start_time": "2022-07-09T00:19:07.475Z"
   },
   {
    "duration": 28,
    "start_time": "2022-07-09T00:19:07.481Z"
   },
   {
    "duration": 4,
    "start_time": "2022-07-09T00:19:07.510Z"
   },
   {
    "duration": 14,
    "start_time": "2022-07-09T00:19:07.516Z"
   },
   {
    "duration": 7,
    "start_time": "2022-07-09T00:19:07.532Z"
   },
   {
    "duration": 3,
    "start_time": "2022-07-09T00:19:07.541Z"
   },
   {
    "duration": 27,
    "start_time": "2022-07-09T00:19:07.545Z"
   },
   {
    "duration": 28,
    "start_time": "2022-07-09T00:19:07.573Z"
   },
   {
    "duration": 40,
    "start_time": "2022-07-09T00:19:07.603Z"
   },
   {
    "duration": 6,
    "start_time": "2022-07-09T00:19:07.644Z"
   },
   {
    "duration": 28,
    "start_time": "2022-07-09T00:19:07.651Z"
   },
   {
    "duration": 20,
    "start_time": "2022-07-09T00:19:07.680Z"
   },
   {
    "duration": 31,
    "start_time": "2022-07-09T00:19:07.701Z"
   },
   {
    "duration": 22,
    "start_time": "2022-07-09T00:19:07.733Z"
   },
   {
    "duration": 28,
    "start_time": "2022-07-09T00:19:07.757Z"
   },
   {
    "duration": 21,
    "start_time": "2022-07-09T00:19:07.787Z"
   },
   {
    "duration": 3,
    "start_time": "2022-07-09T00:27:53.831Z"
   },
   {
    "duration": 17,
    "start_time": "2022-07-09T00:27:58.219Z"
   },
   {
    "duration": 11,
    "start_time": "2022-07-09T00:28:06.255Z"
   },
   {
    "duration": 55,
    "start_time": "2022-07-09T00:28:32.689Z"
   },
   {
    "duration": 4,
    "start_time": "2022-07-09T00:28:32.746Z"
   },
   {
    "duration": 23,
    "start_time": "2022-07-09T00:28:32.752Z"
   },
   {
    "duration": 29,
    "start_time": "2022-07-09T00:28:32.777Z"
   },
   {
    "duration": 18,
    "start_time": "2022-07-09T00:28:32.809Z"
   },
   {
    "duration": 35,
    "start_time": "2022-07-09T00:28:32.828Z"
   },
   {
    "duration": 43,
    "start_time": "2022-07-09T00:28:32.864Z"
   },
   {
    "duration": 4,
    "start_time": "2022-07-09T00:28:32.908Z"
   },
   {
    "duration": 15,
    "start_time": "2022-07-09T00:28:32.914Z"
   },
   {
    "duration": 13,
    "start_time": "2022-07-09T00:28:32.932Z"
   },
   {
    "duration": 13,
    "start_time": "2022-07-09T00:28:32.946Z"
   },
   {
    "duration": 49,
    "start_time": "2022-07-09T00:28:32.960Z"
   },
   {
    "duration": 12,
    "start_time": "2022-07-09T00:28:33.010Z"
   },
   {
    "duration": 4,
    "start_time": "2022-07-09T00:28:33.023Z"
   },
   {
    "duration": 33,
    "start_time": "2022-07-09T00:28:33.029Z"
   },
   {
    "duration": 37,
    "start_time": "2022-07-09T00:28:33.064Z"
   },
   {
    "duration": 15,
    "start_time": "2022-07-09T00:28:33.103Z"
   },
   {
    "duration": 12,
    "start_time": "2022-07-09T00:28:33.119Z"
   },
   {
    "duration": 4,
    "start_time": "2022-07-09T00:28:33.132Z"
   },
   {
    "duration": 10,
    "start_time": "2022-07-09T00:28:33.138Z"
   },
   {
    "duration": 5,
    "start_time": "2022-07-09T00:28:33.149Z"
   },
   {
    "duration": 10,
    "start_time": "2022-07-09T00:28:33.156Z"
   },
   {
    "duration": 34,
    "start_time": "2022-07-09T00:28:33.168Z"
   },
   {
    "duration": 9,
    "start_time": "2022-07-09T00:28:33.203Z"
   },
   {
    "duration": 7,
    "start_time": "2022-07-09T00:28:33.213Z"
   },
   {
    "duration": 4,
    "start_time": "2022-07-09T00:28:33.221Z"
   },
   {
    "duration": 8,
    "start_time": "2022-07-09T00:28:33.227Z"
   },
   {
    "duration": 9,
    "start_time": "2022-07-09T00:28:33.239Z"
   },
   {
    "duration": 16,
    "start_time": "2022-07-09T00:28:33.249Z"
   },
   {
    "duration": 48,
    "start_time": "2022-07-09T00:28:33.267Z"
   },
   {
    "duration": 6,
    "start_time": "2022-07-09T00:28:33.317Z"
   },
   {
    "duration": 8,
    "start_time": "2022-07-09T00:28:33.325Z"
   },
   {
    "duration": 5,
    "start_time": "2022-07-09T00:28:33.334Z"
   },
   {
    "duration": 9,
    "start_time": "2022-07-09T00:28:33.341Z"
   },
   {
    "duration": 4,
    "start_time": "2022-07-09T00:28:33.351Z"
   },
   {
    "duration": 48,
    "start_time": "2022-07-09T00:28:33.357Z"
   },
   {
    "duration": 6,
    "start_time": "2022-07-09T00:28:33.407Z"
   },
   {
    "duration": 7,
    "start_time": "2022-07-09T00:28:33.415Z"
   },
   {
    "duration": 10,
    "start_time": "2022-07-09T00:28:33.424Z"
   },
   {
    "duration": 6,
    "start_time": "2022-07-09T00:28:33.435Z"
   },
   {
    "duration": 8,
    "start_time": "2022-07-09T00:28:33.442Z"
   },
   {
    "duration": 9,
    "start_time": "2022-07-09T00:28:33.451Z"
   },
   {
    "duration": 44,
    "start_time": "2022-07-09T00:28:33.462Z"
   },
   {
    "duration": 7,
    "start_time": "2022-07-09T00:28:33.508Z"
   },
   {
    "duration": 11,
    "start_time": "2022-07-09T00:28:33.517Z"
   },
   {
    "duration": 7,
    "start_time": "2022-07-09T00:28:33.529Z"
   },
   {
    "duration": 17,
    "start_time": "2022-07-09T00:28:33.538Z"
   },
   {
    "duration": 62,
    "start_time": "2022-07-09T00:28:33.557Z"
   },
   {
    "duration": 20,
    "start_time": "2022-07-09T00:28:33.621Z"
   },
   {
    "duration": 17,
    "start_time": "2022-07-09T00:28:33.643Z"
   },
   {
    "duration": 16,
    "start_time": "2022-07-09T00:28:33.661Z"
   },
   {
    "duration": 17,
    "start_time": "2022-07-09T00:28:33.700Z"
   },
   {
    "duration": 30,
    "start_time": "2022-07-09T00:28:33.719Z"
   },
   {
    "duration": 13,
    "start_time": "2022-07-09T00:28:33.751Z"
   },
   {
    "duration": 4,
    "start_time": "2022-07-09T00:28:33.765Z"
   },
   {
    "duration": 35,
    "start_time": "2022-07-09T00:28:33.770Z"
   },
   {
    "duration": 8,
    "start_time": "2022-07-09T00:28:33.806Z"
   },
   {
    "duration": 8,
    "start_time": "2022-07-09T00:28:33.816Z"
   },
   {
    "duration": 11,
    "start_time": "2022-07-09T00:28:33.825Z"
   },
   {
    "duration": 6,
    "start_time": "2022-07-09T00:28:33.838Z"
   },
   {
    "duration": 34,
    "start_time": "2022-07-09T00:28:33.846Z"
   },
   {
    "duration": 16,
    "start_time": "2022-07-09T00:28:33.881Z"
   },
   {
    "duration": 20,
    "start_time": "2022-07-09T00:28:33.899Z"
   },
   {
    "duration": 25,
    "start_time": "2022-07-09T00:28:33.924Z"
   },
   {
    "duration": 23,
    "start_time": "2022-07-09T00:28:33.951Z"
   },
   {
    "duration": 33,
    "start_time": "2022-07-09T00:28:33.976Z"
   },
   {
    "duration": 21,
    "start_time": "2022-07-09T00:28:34.011Z"
   },
   {
    "duration": 26,
    "start_time": "2022-07-09T00:28:34.033Z"
   },
   {
    "duration": 53,
    "start_time": "2022-07-09T00:28:34.061Z"
   },
   {
    "duration": 15,
    "start_time": "2022-07-09T00:28:34.116Z"
   },
   {
    "duration": 19,
    "start_time": "2022-07-09T00:28:34.133Z"
   },
   {
    "duration": 6,
    "start_time": "2022-07-09T00:28:34.154Z"
   },
   {
    "duration": 7,
    "start_time": "2022-07-09T00:28:34.161Z"
   },
   {
    "duration": 7,
    "start_time": "2022-07-09T00:28:34.169Z"
   },
   {
    "duration": 3637,
    "start_time": "2022-07-09T00:28:34.177Z"
   },
   {
    "duration": 3542,
    "start_time": "2022-07-09T00:28:37.816Z"
   },
   {
    "duration": 40,
    "start_time": "2022-07-09T00:28:41.360Z"
   },
   {
    "duration": 15,
    "start_time": "2022-07-09T00:28:41.402Z"
   },
   {
    "duration": 29,
    "start_time": "2022-07-09T00:28:41.418Z"
   },
   {
    "duration": 15,
    "start_time": "2022-07-09T00:28:41.448Z"
   },
   {
    "duration": 39,
    "start_time": "2022-07-09T00:28:41.465Z"
   },
   {
    "duration": 83,
    "start_time": "2022-07-09T00:28:41.506Z"
   },
   {
    "duration": 6,
    "start_time": "2022-07-09T00:28:41.601Z"
   },
   {
    "duration": 13,
    "start_time": "2022-07-09T00:28:41.609Z"
   },
   {
    "duration": 14,
    "start_time": "2022-07-09T00:28:41.624Z"
   },
   {
    "duration": 25,
    "start_time": "2022-07-09T00:28:41.640Z"
   },
   {
    "duration": 45,
    "start_time": "2022-07-09T00:28:41.666Z"
   },
   {
    "duration": 15,
    "start_time": "2022-07-09T00:28:41.713Z"
   },
   {
    "duration": 20,
    "start_time": "2022-07-09T00:28:41.729Z"
   },
   {
    "duration": 8,
    "start_time": "2022-07-09T00:28:41.750Z"
   },
   {
    "duration": 3488,
    "start_time": "2022-07-09T00:28:41.760Z"
   },
   {
    "duration": 33,
    "start_time": "2022-07-09T00:28:45.249Z"
   },
   {
    "duration": 24,
    "start_time": "2022-07-09T00:28:45.284Z"
   },
   {
    "duration": 37,
    "start_time": "2022-07-09T00:28:45.310Z"
   },
   {
    "duration": 29,
    "start_time": "2022-07-09T00:28:45.350Z"
   },
   {
    "duration": 124,
    "start_time": "2022-07-09T00:28:45.381Z"
   },
   {
    "duration": 7,
    "start_time": "2022-07-09T00:28:45.507Z"
   },
   {
    "duration": 6,
    "start_time": "2022-07-09T00:28:45.515Z"
   },
   {
    "duration": 17,
    "start_time": "2022-07-09T00:28:45.522Z"
   },
   {
    "duration": 11,
    "start_time": "2022-07-09T00:28:45.540Z"
   },
   {
    "duration": 8,
    "start_time": "2022-07-09T00:28:45.553Z"
   },
   {
    "duration": 7,
    "start_time": "2022-07-09T00:28:45.563Z"
   },
   {
    "duration": 3,
    "start_time": "2022-07-09T00:28:45.601Z"
   },
   {
    "duration": 15,
    "start_time": "2022-07-09T00:28:45.606Z"
   },
   {
    "duration": 2,
    "start_time": "2022-07-09T00:28:45.623Z"
   },
   {
    "duration": 14,
    "start_time": "2022-07-09T00:28:45.627Z"
   },
   {
    "duration": 7,
    "start_time": "2022-07-09T00:28:45.643Z"
   },
   {
    "duration": 3,
    "start_time": "2022-07-09T00:28:45.652Z"
   },
   {
    "duration": 11,
    "start_time": "2022-07-09T00:28:45.656Z"
   },
   {
    "duration": 34,
    "start_time": "2022-07-09T00:28:45.668Z"
   },
   {
    "duration": 19,
    "start_time": "2022-07-09T00:28:45.703Z"
   },
   {
    "duration": 6,
    "start_time": "2022-07-09T00:28:45.724Z"
   },
   {
    "duration": 20,
    "start_time": "2022-07-09T00:28:45.732Z"
   },
   {
    "duration": 6,
    "start_time": "2022-07-09T00:28:45.754Z"
   },
   {
    "duration": 40,
    "start_time": "2022-07-09T00:28:45.761Z"
   },
   {
    "duration": 6,
    "start_time": "2022-07-09T00:28:45.803Z"
   },
   {
    "duration": 17,
    "start_time": "2022-07-09T00:28:45.810Z"
   },
   {
    "duration": 6,
    "start_time": "2022-07-09T00:28:45.829Z"
   },
   {
    "duration": 827,
    "start_time": "2022-07-09T00:36:11.964Z"
   },
   {
    "duration": 7,
    "start_time": "2022-07-09T00:37:01.105Z"
   },
   {
    "duration": 8,
    "start_time": "2022-07-09T00:37:21.469Z"
   },
   {
    "duration": 8,
    "start_time": "2022-07-09T00:37:36.499Z"
   },
   {
    "duration": 5,
    "start_time": "2022-07-09T00:39:31.688Z"
   },
   {
    "duration": 8,
    "start_time": "2022-07-09T00:39:42.836Z"
   },
   {
    "duration": 3,
    "start_time": "2022-07-09T00:41:35.467Z"
   },
   {
    "duration": 8,
    "start_time": "2022-07-09T00:43:49.431Z"
   },
   {
    "duration": 8,
    "start_time": "2022-07-09T00:44:27.032Z"
   },
   {
    "duration": 27,
    "start_time": "2022-07-09T00:45:15.509Z"
   },
   {
    "duration": 17,
    "start_time": "2022-07-09T00:45:22.007Z"
   },
   {
    "duration": 17,
    "start_time": "2022-07-09T00:45:44.182Z"
   },
   {
    "duration": 688,
    "start_time": "2022-07-11T15:18:33.060Z"
   },
   {
    "duration": 9,
    "start_time": "2022-07-11T15:18:33.750Z"
   },
   {
    "duration": 50,
    "start_time": "2022-07-11T15:18:33.761Z"
   },
   {
    "duration": 10,
    "start_time": "2022-07-11T15:18:33.812Z"
   },
   {
    "duration": 20,
    "start_time": "2022-07-11T15:18:33.824Z"
   },
   {
    "duration": 18,
    "start_time": "2022-07-11T15:18:33.846Z"
   },
   {
    "duration": 59,
    "start_time": "2022-07-11T15:18:33.866Z"
   },
   {
    "duration": 5,
    "start_time": "2022-07-11T15:18:33.928Z"
   },
   {
    "duration": 23,
    "start_time": "2022-07-11T15:18:33.935Z"
   },
   {
    "duration": 17,
    "start_time": "2022-07-11T15:18:33.960Z"
   },
   {
    "duration": 54,
    "start_time": "2022-07-11T15:18:33.980Z"
   },
   {
    "duration": 19,
    "start_time": "2022-07-11T15:18:34.036Z"
   },
   {
    "duration": 18,
    "start_time": "2022-07-11T15:18:34.057Z"
   },
   {
    "duration": 5,
    "start_time": "2022-07-11T15:18:34.079Z"
   },
   {
    "duration": 68,
    "start_time": "2022-07-11T15:18:34.086Z"
   },
   {
    "duration": 16,
    "start_time": "2022-07-11T15:18:34.156Z"
   },
   {
    "duration": 17,
    "start_time": "2022-07-11T15:18:34.174Z"
   },
   {
    "duration": 43,
    "start_time": "2022-07-11T15:18:34.193Z"
   },
   {
    "duration": 5,
    "start_time": "2022-07-11T15:18:34.238Z"
   },
   {
    "duration": 22,
    "start_time": "2022-07-11T15:18:34.245Z"
   },
   {
    "duration": 13,
    "start_time": "2022-07-11T15:18:34.270Z"
   },
   {
    "duration": 13,
    "start_time": "2022-07-11T15:18:34.285Z"
   },
   {
    "duration": 12,
    "start_time": "2022-07-11T15:18:34.300Z"
   },
   {
    "duration": 6,
    "start_time": "2022-07-11T15:18:34.322Z"
   },
   {
    "duration": 9,
    "start_time": "2022-07-11T15:18:34.329Z"
   },
   {
    "duration": 9,
    "start_time": "2022-07-11T15:18:34.340Z"
   },
   {
    "duration": 13,
    "start_time": "2022-07-11T15:18:34.350Z"
   },
   {
    "duration": 34,
    "start_time": "2022-07-11T15:18:34.364Z"
   },
   {
    "duration": 27,
    "start_time": "2022-07-11T15:18:34.400Z"
   },
   {
    "duration": 36,
    "start_time": "2022-07-11T15:18:34.429Z"
   },
   {
    "duration": 25,
    "start_time": "2022-07-11T15:18:34.467Z"
   },
   {
    "duration": 28,
    "start_time": "2022-07-11T15:18:34.494Z"
   },
   {
    "duration": 34,
    "start_time": "2022-07-11T15:18:34.524Z"
   },
   {
    "duration": 17,
    "start_time": "2022-07-11T15:18:34.560Z"
   },
   {
    "duration": 8,
    "start_time": "2022-07-11T15:18:34.579Z"
   },
   {
    "duration": 19,
    "start_time": "2022-07-11T15:18:34.591Z"
   },
   {
    "duration": 8,
    "start_time": "2022-07-11T15:18:34.613Z"
   },
   {
    "duration": 32,
    "start_time": "2022-07-11T15:18:34.623Z"
   },
   {
    "duration": 15,
    "start_time": "2022-07-11T15:18:34.657Z"
   },
   {
    "duration": 8,
    "start_time": "2022-07-11T15:18:34.673Z"
   },
   {
    "duration": 23,
    "start_time": "2022-07-11T15:18:34.686Z"
   },
   {
    "duration": 31,
    "start_time": "2022-07-11T15:18:34.711Z"
   },
   {
    "duration": 13,
    "start_time": "2022-07-11T15:18:34.743Z"
   },
   {
    "duration": 12,
    "start_time": "2022-07-11T15:18:34.757Z"
   },
   {
    "duration": 16,
    "start_time": "2022-07-11T15:18:34.771Z"
   },
   {
    "duration": 13,
    "start_time": "2022-07-11T15:18:34.788Z"
   },
   {
    "duration": 23,
    "start_time": "2022-07-11T15:18:34.802Z"
   },
   {
    "duration": 31,
    "start_time": "2022-07-11T15:18:34.827Z"
   },
   {
    "duration": 25,
    "start_time": "2022-07-11T15:18:34.859Z"
   },
   {
    "duration": 42,
    "start_time": "2022-07-11T15:18:34.886Z"
   },
   {
    "duration": 21,
    "start_time": "2022-07-11T15:18:34.930Z"
   },
   {
    "duration": 22,
    "start_time": "2022-07-11T15:18:34.953Z"
   },
   {
    "duration": 58,
    "start_time": "2022-07-11T15:18:34.976Z"
   },
   {
    "duration": 15,
    "start_time": "2022-07-11T15:18:35.036Z"
   },
   {
    "duration": 6,
    "start_time": "2022-07-11T15:18:35.053Z"
   },
   {
    "duration": 13,
    "start_time": "2022-07-11T15:18:35.062Z"
   },
   {
    "duration": 23,
    "start_time": "2022-07-11T15:18:35.077Z"
   },
   {
    "duration": 29,
    "start_time": "2022-07-11T15:18:35.102Z"
   },
   {
    "duration": 12,
    "start_time": "2022-07-11T15:18:35.133Z"
   },
   {
    "duration": 6,
    "start_time": "2022-07-11T15:18:35.147Z"
   },
   {
    "duration": 22,
    "start_time": "2022-07-11T15:18:35.156Z"
   },
   {
    "duration": 41,
    "start_time": "2022-07-11T15:18:35.179Z"
   },
   {
    "duration": 22,
    "start_time": "2022-07-11T15:18:35.221Z"
   },
   {
    "duration": 29,
    "start_time": "2022-07-11T15:18:35.245Z"
   },
   {
    "duration": 17,
    "start_time": "2022-07-11T15:18:35.275Z"
   },
   {
    "duration": 41,
    "start_time": "2022-07-11T15:18:35.294Z"
   },
   {
    "duration": 24,
    "start_time": "2022-07-11T15:18:35.337Z"
   },
   {
    "duration": 28,
    "start_time": "2022-07-11T15:18:35.362Z"
   },
   {
    "duration": 70,
    "start_time": "2022-07-11T15:18:35.392Z"
   },
   {
    "duration": 24,
    "start_time": "2022-07-11T15:18:35.465Z"
   },
   {
    "duration": 34,
    "start_time": "2022-07-11T15:18:35.491Z"
   },
   {
    "duration": 13,
    "start_time": "2022-07-11T15:18:35.527Z"
   },
   {
    "duration": 9,
    "start_time": "2022-07-11T15:18:35.542Z"
   },
   {
    "duration": 24,
    "start_time": "2022-07-11T15:18:35.553Z"
   },
   {
    "duration": 3876,
    "start_time": "2022-07-11T15:18:35.579Z"
   },
   {
    "duration": 3944,
    "start_time": "2022-07-11T15:18:39.457Z"
   },
   {
    "duration": 37,
    "start_time": "2022-07-11T15:18:43.403Z"
   },
   {
    "duration": 16,
    "start_time": "2022-07-11T15:18:43.441Z"
   },
   {
    "duration": 40,
    "start_time": "2022-07-11T15:18:43.458Z"
   },
   {
    "duration": 27,
    "start_time": "2022-07-11T15:18:43.499Z"
   },
   {
    "duration": 42,
    "start_time": "2022-07-11T15:18:43.527Z"
   },
   {
    "duration": 102,
    "start_time": "2022-07-11T15:18:43.571Z"
   },
   {
    "duration": 8,
    "start_time": "2022-07-11T15:18:43.675Z"
   },
   {
    "duration": 27,
    "start_time": "2022-07-11T15:18:43.685Z"
   },
   {
    "duration": 50,
    "start_time": "2022-07-11T15:18:43.714Z"
   },
   {
    "duration": 32,
    "start_time": "2022-07-11T15:18:43.766Z"
   },
   {
    "duration": 74,
    "start_time": "2022-07-11T15:18:43.800Z"
   },
   {
    "duration": 16,
    "start_time": "2022-07-11T15:18:43.875Z"
   },
   {
    "duration": 46,
    "start_time": "2022-07-11T15:18:43.893Z"
   },
   {
    "duration": 12,
    "start_time": "2022-07-11T15:18:43.941Z"
   },
   {
    "duration": 4236,
    "start_time": "2022-07-11T15:18:43.955Z"
   },
   {
    "duration": 40,
    "start_time": "2022-07-11T15:18:48.192Z"
   },
   {
    "duration": 34,
    "start_time": "2022-07-11T15:18:48.234Z"
   },
   {
    "duration": 46,
    "start_time": "2022-07-11T15:18:48.270Z"
   },
   {
    "duration": 20,
    "start_time": "2022-07-11T15:18:48.317Z"
   },
   {
    "duration": 91,
    "start_time": "2022-07-11T15:18:48.339Z"
   },
   {
    "duration": 7,
    "start_time": "2022-07-11T15:18:48.432Z"
   },
   {
    "duration": 35,
    "start_time": "2022-07-11T15:18:48.441Z"
   },
   {
    "duration": 29,
    "start_time": "2022-07-11T15:18:48.478Z"
   },
   {
    "duration": 12,
    "start_time": "2022-07-11T15:18:48.508Z"
   },
   {
    "duration": 16,
    "start_time": "2022-07-11T15:18:48.521Z"
   },
   {
    "duration": 15,
    "start_time": "2022-07-11T15:18:48.538Z"
   },
   {
    "duration": 15,
    "start_time": "2022-07-11T15:18:48.555Z"
   },
   {
    "duration": 32,
    "start_time": "2022-07-11T15:18:48.572Z"
   },
   {
    "duration": 23,
    "start_time": "2022-07-11T15:18:48.606Z"
   },
   {
    "duration": 24,
    "start_time": "2022-07-11T15:18:48.631Z"
   },
   {
    "duration": 37,
    "start_time": "2022-07-11T15:18:48.656Z"
   },
   {
    "duration": 7,
    "start_time": "2022-07-11T15:18:48.694Z"
   },
   {
    "duration": 17,
    "start_time": "2022-07-11T15:18:48.702Z"
   },
   {
    "duration": 22,
    "start_time": "2022-07-11T15:18:48.721Z"
   },
   {
    "duration": 14,
    "start_time": "2022-07-11T15:18:48.744Z"
   },
   {
    "duration": 17,
    "start_time": "2022-07-11T15:18:48.760Z"
   },
   {
    "duration": 11,
    "start_time": "2022-07-11T15:18:48.778Z"
   },
   {
    "duration": 28,
    "start_time": "2022-07-11T15:18:48.791Z"
   },
   {
    "duration": 21,
    "start_time": "2022-07-11T15:18:48.821Z"
   },
   {
    "duration": 20,
    "start_time": "2022-07-11T15:18:48.844Z"
   },
   {
    "duration": 7,
    "start_time": "2022-07-11T15:18:48.865Z"
   },
   {
    "duration": 33,
    "start_time": "2022-07-11T15:18:48.874Z"
   },
   {
    "duration": 58,
    "start_time": "2022-07-11T15:18:48.909Z"
   },
   {
    "duration": 30,
    "start_time": "2022-07-11T15:18:48.969Z"
   },
   {
    "duration": 21,
    "start_time": "2022-07-11T15:18:49.001Z"
   },
   {
    "duration": 18,
    "start_time": "2022-07-11T15:28:08.602Z"
   },
   {
    "duration": 7,
    "start_time": "2022-07-11T15:28:34.016Z"
   },
   {
    "duration": 22,
    "start_time": "2022-07-11T15:29:58.513Z"
   },
   {
    "duration": 11,
    "start_time": "2022-07-11T15:30:01.577Z"
   },
   {
    "duration": 18,
    "start_time": "2022-07-11T15:30:32.156Z"
   },
   {
    "duration": 6,
    "start_time": "2022-07-11T15:30:36.290Z"
   },
   {
    "duration": 551,
    "start_time": "2022-07-11T21:03:16.590Z"
   },
   {
    "duration": 8,
    "start_time": "2022-07-11T21:03:17.143Z"
   },
   {
    "duration": 22,
    "start_time": "2022-07-11T21:03:17.153Z"
   },
   {
    "duration": 10,
    "start_time": "2022-07-11T21:03:17.176Z"
   },
   {
    "duration": 16,
    "start_time": "2022-07-11T21:03:17.187Z"
   },
   {
    "duration": 17,
    "start_time": "2022-07-11T21:03:17.204Z"
   },
   {
    "duration": 59,
    "start_time": "2022-07-11T21:03:17.223Z"
   },
   {
    "duration": 4,
    "start_time": "2022-07-11T21:03:17.283Z"
   },
   {
    "duration": 20,
    "start_time": "2022-07-11T21:03:17.288Z"
   },
   {
    "duration": 12,
    "start_time": "2022-07-11T21:03:17.309Z"
   },
   {
    "duration": 43,
    "start_time": "2022-07-11T21:03:17.322Z"
   },
   {
    "duration": 16,
    "start_time": "2022-07-11T21:03:17.366Z"
   },
   {
    "duration": 10,
    "start_time": "2022-07-11T21:03:17.384Z"
   },
   {
    "duration": 22,
    "start_time": "2022-07-11T21:03:17.397Z"
   },
   {
    "duration": 77,
    "start_time": "2022-07-11T21:03:17.421Z"
   },
   {
    "duration": 13,
    "start_time": "2022-07-11T21:03:17.500Z"
   },
   {
    "duration": 17,
    "start_time": "2022-07-11T21:03:17.515Z"
   },
   {
    "duration": 30,
    "start_time": "2022-07-11T21:03:17.533Z"
   },
   {
    "duration": 20,
    "start_time": "2022-07-11T21:03:17.565Z"
   },
   {
    "duration": 18,
    "start_time": "2022-07-11T21:03:17.587Z"
   },
   {
    "duration": 21,
    "start_time": "2022-07-11T21:03:17.607Z"
   },
   {
    "duration": 32,
    "start_time": "2022-07-11T21:03:17.629Z"
   },
   {
    "duration": 17,
    "start_time": "2022-07-11T21:03:17.663Z"
   },
   {
    "duration": 15,
    "start_time": "2022-07-11T21:03:17.682Z"
   },
   {
    "duration": 21,
    "start_time": "2022-07-11T21:03:17.698Z"
   },
   {
    "duration": 16,
    "start_time": "2022-07-11T21:03:17.721Z"
   },
   {
    "duration": 18,
    "start_time": "2022-07-11T21:03:17.738Z"
   },
   {
    "duration": 20,
    "start_time": "2022-07-11T21:03:17.757Z"
   },
   {
    "duration": 33,
    "start_time": "2022-07-11T21:03:17.779Z"
   },
   {
    "duration": 31,
    "start_time": "2022-07-11T21:03:17.816Z"
   },
   {
    "duration": 23,
    "start_time": "2022-07-11T21:03:17.849Z"
   },
   {
    "duration": 17,
    "start_time": "2022-07-11T21:03:17.874Z"
   },
   {
    "duration": 16,
    "start_time": "2022-07-11T21:03:17.893Z"
   },
   {
    "duration": 17,
    "start_time": "2022-07-11T21:03:17.910Z"
   },
   {
    "duration": 14,
    "start_time": "2022-07-11T21:03:17.929Z"
   },
   {
    "duration": 22,
    "start_time": "2022-07-11T21:03:17.945Z"
   },
   {
    "duration": 13,
    "start_time": "2022-07-11T21:03:17.969Z"
   },
   {
    "duration": 18,
    "start_time": "2022-07-11T21:03:17.983Z"
   },
   {
    "duration": 24,
    "start_time": "2022-07-11T21:03:18.002Z"
   },
   {
    "duration": 16,
    "start_time": "2022-07-11T21:03:18.028Z"
   },
   {
    "duration": 23,
    "start_time": "2022-07-11T21:03:18.049Z"
   },
   {
    "duration": 25,
    "start_time": "2022-07-11T21:03:18.073Z"
   },
   {
    "duration": 23,
    "start_time": "2022-07-11T21:03:18.100Z"
   },
   {
    "duration": 30,
    "start_time": "2022-07-11T21:03:18.125Z"
   },
   {
    "duration": 17,
    "start_time": "2022-07-11T21:03:18.156Z"
   },
   {
    "duration": 17,
    "start_time": "2022-07-11T21:03:18.174Z"
   },
   {
    "duration": 30,
    "start_time": "2022-07-11T21:03:18.193Z"
   },
   {
    "duration": 34,
    "start_time": "2022-07-11T21:03:18.225Z"
   },
   {
    "duration": 22,
    "start_time": "2022-07-11T21:03:18.260Z"
   },
   {
    "duration": 19,
    "start_time": "2022-07-11T21:03:18.283Z"
   },
   {
    "duration": 17,
    "start_time": "2022-07-11T21:03:18.303Z"
   },
   {
    "duration": 49,
    "start_time": "2022-07-11T21:03:18.321Z"
   },
   {
    "duration": 30,
    "start_time": "2022-07-11T21:03:18.372Z"
   },
   {
    "duration": 12,
    "start_time": "2022-07-11T21:03:18.403Z"
   },
   {
    "duration": 14,
    "start_time": "2022-07-11T21:03:18.416Z"
   },
   {
    "duration": 30,
    "start_time": "2022-07-11T21:03:18.431Z"
   },
   {
    "duration": 12,
    "start_time": "2022-07-11T21:03:18.462Z"
   },
   {
    "duration": 23,
    "start_time": "2022-07-11T21:03:18.475Z"
   },
   {
    "duration": 20,
    "start_time": "2022-07-11T21:03:18.499Z"
   },
   {
    "duration": 24,
    "start_time": "2022-07-11T21:03:18.521Z"
   },
   {
    "duration": 30,
    "start_time": "2022-07-11T21:03:18.546Z"
   },
   {
    "duration": 22,
    "start_time": "2022-07-11T21:03:18.578Z"
   },
   {
    "duration": 22,
    "start_time": "2022-07-11T21:03:18.602Z"
   },
   {
    "duration": 35,
    "start_time": "2022-07-11T21:03:18.625Z"
   },
   {
    "duration": 19,
    "start_time": "2022-07-11T21:03:18.662Z"
   },
   {
    "duration": 47,
    "start_time": "2022-07-11T21:03:18.683Z"
   },
   {
    "duration": 21,
    "start_time": "2022-07-11T21:03:18.732Z"
   },
   {
    "duration": 32,
    "start_time": "2022-07-11T21:03:18.755Z"
   },
   {
    "duration": 27,
    "start_time": "2022-07-11T21:03:18.788Z"
   },
   {
    "duration": 14,
    "start_time": "2022-07-11T21:03:18.817Z"
   },
   {
    "duration": 36,
    "start_time": "2022-07-11T21:03:18.833Z"
   },
   {
    "duration": 21,
    "start_time": "2022-07-11T21:03:18.871Z"
   },
   {
    "duration": 18,
    "start_time": "2022-07-11T21:03:18.894Z"
   },
   {
    "duration": 20,
    "start_time": "2022-07-11T21:03:18.914Z"
   },
   {
    "duration": 3738,
    "start_time": "2022-07-11T21:03:18.936Z"
   },
   {
    "duration": 3785,
    "start_time": "2022-07-11T21:03:22.676Z"
   },
   {
    "duration": 35,
    "start_time": "2022-07-11T21:03:26.462Z"
   },
   {
    "duration": 15,
    "start_time": "2022-07-11T21:03:26.498Z"
   },
   {
    "duration": 46,
    "start_time": "2022-07-11T21:03:26.514Z"
   },
   {
    "duration": 13,
    "start_time": "2022-07-11T21:03:26.562Z"
   },
   {
    "duration": 23,
    "start_time": "2022-07-11T21:03:26.577Z"
   },
   {
    "duration": 100,
    "start_time": "2022-07-11T21:03:26.602Z"
   },
   {
    "duration": 7,
    "start_time": "2022-07-11T21:03:26.704Z"
   },
   {
    "duration": 13,
    "start_time": "2022-07-11T21:03:26.712Z"
   },
   {
    "duration": 15,
    "start_time": "2022-07-11T21:03:26.726Z"
   },
   {
    "duration": 36,
    "start_time": "2022-07-11T21:03:26.760Z"
   },
   {
    "duration": 73,
    "start_time": "2022-07-11T21:03:26.799Z"
   },
   {
    "duration": 15,
    "start_time": "2022-07-11T21:03:26.874Z"
   },
   {
    "duration": 7,
    "start_time": "2022-07-11T21:03:26.891Z"
   },
   {
    "duration": 9,
    "start_time": "2022-07-11T21:03:26.899Z"
   },
   {
    "duration": 3836,
    "start_time": "2022-07-11T21:03:26.909Z"
   },
   {
    "duration": 43,
    "start_time": "2022-07-11T21:03:30.746Z"
   },
   {
    "duration": 28,
    "start_time": "2022-07-11T21:03:30.791Z"
   },
   {
    "duration": 56,
    "start_time": "2022-07-11T21:03:30.821Z"
   },
   {
    "duration": 34,
    "start_time": "2022-07-11T21:03:30.879Z"
   },
   {
    "duration": 104,
    "start_time": "2022-07-11T21:03:30.914Z"
   },
   {
    "duration": 6,
    "start_time": "2022-07-11T21:03:31.020Z"
   },
   {
    "duration": 18,
    "start_time": "2022-07-11T21:03:31.028Z"
   },
   {
    "duration": 26,
    "start_time": "2022-07-11T21:03:31.047Z"
   },
   {
    "duration": 17,
    "start_time": "2022-07-11T21:03:31.075Z"
   },
   {
    "duration": 10,
    "start_time": "2022-07-11T21:03:31.094Z"
   },
   {
    "duration": 18,
    "start_time": "2022-07-11T21:03:31.106Z"
   },
   {
    "duration": 14,
    "start_time": "2022-07-11T21:03:31.126Z"
   },
   {
    "duration": 22,
    "start_time": "2022-07-11T21:03:31.142Z"
   },
   {
    "duration": 10,
    "start_time": "2022-07-11T21:03:31.166Z"
   },
   {
    "duration": 19,
    "start_time": "2022-07-11T21:03:31.177Z"
   },
   {
    "duration": 9,
    "start_time": "2022-07-11T21:03:31.198Z"
   },
   {
    "duration": 4,
    "start_time": "2022-07-11T21:03:31.208Z"
   },
   {
    "duration": 13,
    "start_time": "2022-07-11T21:03:31.213Z"
   },
   {
    "duration": 22,
    "start_time": "2022-07-11T21:03:31.227Z"
   },
   {
    "duration": 18,
    "start_time": "2022-07-11T21:03:31.252Z"
   },
   {
    "duration": 11,
    "start_time": "2022-07-11T21:03:31.272Z"
   },
   {
    "duration": 10,
    "start_time": "2022-07-11T21:03:31.285Z"
   },
   {
    "duration": 28,
    "start_time": "2022-07-11T21:03:31.296Z"
   },
   {
    "duration": 10,
    "start_time": "2022-07-11T21:03:31.326Z"
   },
   {
    "duration": 35,
    "start_time": "2022-07-11T21:03:31.338Z"
   },
   {
    "duration": 10,
    "start_time": "2022-07-11T21:03:31.374Z"
   },
   {
    "duration": 20,
    "start_time": "2022-07-11T21:03:31.385Z"
   },
   {
    "duration": 6,
    "start_time": "2022-07-11T21:03:31.407Z"
   },
   {
    "duration": 19,
    "start_time": "2022-07-11T21:03:31.415Z"
   },
   {
    "duration": 8,
    "start_time": "2022-07-11T21:03:31.460Z"
   },
   {
    "duration": 19,
    "start_time": "2022-07-11T21:03:31.474Z"
   },
   {
    "duration": 5,
    "start_time": "2022-07-11T21:03:31.495Z"
   },
   {
    "duration": 56,
    "start_time": "2022-07-11T22:38:36.393Z"
   },
   {
    "duration": 3,
    "start_time": "2022-07-11T22:38:36.451Z"
   },
   {
    "duration": 15,
    "start_time": "2022-07-11T22:38:36.456Z"
   },
   {
    "duration": 9,
    "start_time": "2022-07-11T22:38:36.473Z"
   },
   {
    "duration": 16,
    "start_time": "2022-07-11T22:38:36.625Z"
   },
   {
    "duration": 17,
    "start_time": "2022-07-11T22:38:36.642Z"
   },
   {
    "duration": 25,
    "start_time": "2022-07-11T22:38:36.661Z"
   },
   {
    "duration": 4,
    "start_time": "2022-07-11T22:38:36.687Z"
   },
   {
    "duration": 16,
    "start_time": "2022-07-11T22:38:36.693Z"
   },
   {
    "duration": 14,
    "start_time": "2022-07-11T22:38:36.853Z"
   },
   {
    "duration": 12,
    "start_time": "2022-07-11T22:38:36.868Z"
   },
   {
    "duration": 18,
    "start_time": "2022-07-11T22:38:36.882Z"
   },
   {
    "duration": 10,
    "start_time": "2022-07-11T22:38:36.901Z"
   },
   {
    "duration": 4,
    "start_time": "2022-07-11T22:38:36.913Z"
   },
   {
    "duration": 30,
    "start_time": "2022-07-11T22:38:37.102Z"
   },
   {
    "duration": 14,
    "start_time": "2022-07-11T22:38:37.133Z"
   },
   {
    "duration": 14,
    "start_time": "2022-07-11T22:38:37.148Z"
   },
   {
    "duration": 11,
    "start_time": "2022-07-11T22:38:37.164Z"
   },
   {
    "duration": 3,
    "start_time": "2022-07-11T22:38:37.177Z"
   },
   {
    "duration": 9,
    "start_time": "2022-07-11T22:38:37.182Z"
   },
   {
    "duration": 3,
    "start_time": "2022-07-11T22:38:37.193Z"
   },
   {
    "duration": 7,
    "start_time": "2022-07-11T22:38:37.198Z"
   },
   {
    "duration": 9,
    "start_time": "2022-07-11T22:38:37.206Z"
   },
   {
    "duration": 5,
    "start_time": "2022-07-11T22:38:37.216Z"
   },
   {
    "duration": 4,
    "start_time": "2022-07-11T22:38:37.334Z"
   },
   {
    "duration": 4,
    "start_time": "2022-07-11T22:38:37.340Z"
   },
   {
    "duration": 7,
    "start_time": "2022-07-11T22:38:37.346Z"
   },
   {
    "duration": 10,
    "start_time": "2022-07-11T22:38:37.355Z"
   },
   {
    "duration": 7,
    "start_time": "2022-07-11T22:39:38.213Z"
   },
   {
    "duration": 9,
    "start_time": "2022-07-11T22:40:15.493Z"
   },
   {
    "duration": 8,
    "start_time": "2022-07-11T22:40:21.304Z"
   },
   {
    "duration": 4,
    "start_time": "2022-07-11T22:40:58.045Z"
   },
   {
    "duration": 11,
    "start_time": "2022-07-11T22:41:51.866Z"
   },
   {
    "duration": 11,
    "start_time": "2022-07-11T22:42:14.913Z"
   },
   {
    "duration": 54,
    "start_time": "2022-07-12T00:45:53.780Z"
   },
   {
    "duration": 4,
    "start_time": "2022-07-12T00:45:53.836Z"
   },
   {
    "duration": 15,
    "start_time": "2022-07-12T00:45:54.536Z"
   },
   {
    "duration": 13,
    "start_time": "2022-07-12T00:45:54.553Z"
   },
   {
    "duration": 16,
    "start_time": "2022-07-12T00:45:54.568Z"
   },
   {
    "duration": 19,
    "start_time": "2022-07-12T00:45:54.585Z"
   },
   {
    "duration": 30,
    "start_time": "2022-07-12T00:45:55.518Z"
   },
   {
    "duration": 4,
    "start_time": "2022-07-12T00:45:55.550Z"
   },
   {
    "duration": 15,
    "start_time": "2022-07-12T00:45:55.555Z"
   },
   {
    "duration": 13,
    "start_time": "2022-07-12T00:45:55.571Z"
   },
   {
    "duration": 16,
    "start_time": "2022-07-12T00:45:55.586Z"
   },
   {
    "duration": 15,
    "start_time": "2022-07-12T00:45:55.603Z"
   },
   {
    "duration": 12,
    "start_time": "2022-07-12T00:45:56.168Z"
   },
   {
    "duration": 4,
    "start_time": "2022-07-12T00:45:56.181Z"
   },
   {
    "duration": 39,
    "start_time": "2022-07-12T00:45:56.187Z"
   },
   {
    "duration": 17,
    "start_time": "2022-07-12T00:45:56.230Z"
   },
   {
    "duration": 19,
    "start_time": "2022-07-12T00:45:56.261Z"
   },
   {
    "duration": 16,
    "start_time": "2022-07-12T00:45:56.282Z"
   },
   {
    "duration": 6,
    "start_time": "2022-07-12T00:45:56.300Z"
   },
   {
    "duration": 9,
    "start_time": "2022-07-12T00:45:56.408Z"
   },
   {
    "duration": 8,
    "start_time": "2022-07-12T00:45:56.418Z"
   },
   {
    "duration": 7,
    "start_time": "2022-07-12T00:45:56.428Z"
   },
   {
    "duration": 10,
    "start_time": "2022-07-12T00:45:56.564Z"
   },
   {
    "duration": 5,
    "start_time": "2022-07-12T00:45:56.576Z"
   },
   {
    "duration": 7,
    "start_time": "2022-07-12T00:45:56.582Z"
   },
   {
    "duration": 5,
    "start_time": "2022-07-12T00:45:56.591Z"
   },
   {
    "duration": 9,
    "start_time": "2022-07-12T00:45:56.597Z"
   },
   {
    "duration": 11,
    "start_time": "2022-07-12T00:45:56.607Z"
   },
   {
    "duration": 46,
    "start_time": "2022-07-12T00:45:56.619Z"
   },
   {
    "duration": 23,
    "start_time": "2022-07-12T00:45:56.667Z"
   },
   {
    "duration": 7,
    "start_time": "2022-07-12T00:45:56.691Z"
   },
   {
    "duration": 8,
    "start_time": "2022-07-12T00:45:56.699Z"
   },
   {
    "duration": 5,
    "start_time": "2022-07-12T00:45:56.958Z"
   },
   {
    "duration": 8,
    "start_time": "2022-07-12T00:45:56.965Z"
   },
   {
    "duration": 3,
    "start_time": "2022-07-12T00:45:56.975Z"
   },
   {
    "duration": 13,
    "start_time": "2022-07-12T00:45:56.979Z"
   },
   {
    "duration": 6,
    "start_time": "2022-07-12T00:45:56.994Z"
   },
   {
    "duration": 8,
    "start_time": "2022-07-12T00:45:57.002Z"
   },
   {
    "duration": 11,
    "start_time": "2022-07-12T00:45:57.012Z"
   },
   {
    "duration": 36,
    "start_time": "2022-07-12T00:45:57.025Z"
   },
   {
    "duration": 7,
    "start_time": "2022-07-12T00:45:57.062Z"
   },
   {
    "duration": 13,
    "start_time": "2022-07-12T00:45:57.071Z"
   },
   {
    "duration": 7,
    "start_time": "2022-07-12T00:45:57.086Z"
   },
   {
    "duration": 12,
    "start_time": "2022-07-12T00:45:57.094Z"
   },
   {
    "duration": 15,
    "start_time": "2022-07-12T00:45:57.107Z"
   },
   {
    "duration": 9,
    "start_time": "2022-07-12T00:45:57.124Z"
   },
   {
    "duration": 40,
    "start_time": "2022-07-12T00:45:57.134Z"
   },
   {
    "duration": 31,
    "start_time": "2022-07-12T00:45:57.188Z"
   },
   {
    "duration": 22,
    "start_time": "2022-07-12T00:45:57.221Z"
   },
   {
    "duration": 27,
    "start_time": "2022-07-12T00:45:57.244Z"
   },
   {
    "duration": 17,
    "start_time": "2022-07-12T00:45:57.273Z"
   },
   {
    "duration": 18,
    "start_time": "2022-07-12T00:45:57.291Z"
   },
   {
    "duration": 54,
    "start_time": "2022-07-12T00:45:57.310Z"
   },
   {
    "duration": 14,
    "start_time": "2022-07-12T00:45:57.365Z"
   },
   {
    "duration": 4,
    "start_time": "2022-07-12T00:45:57.380Z"
   },
   {
    "duration": 10,
    "start_time": "2022-07-12T00:45:57.386Z"
   },
   {
    "duration": 11,
    "start_time": "2022-07-12T00:45:57.397Z"
   },
   {
    "duration": 12,
    "start_time": "2022-07-12T00:45:57.410Z"
   },
   {
    "duration": 13,
    "start_time": "2022-07-12T00:45:57.850Z"
   },
   {
    "duration": 3,
    "start_time": "2022-07-12T00:45:57.865Z"
   },
   {
    "duration": 9,
    "start_time": "2022-07-12T00:45:57.869Z"
   },
   {
    "duration": 9,
    "start_time": "2022-07-12T00:45:57.880Z"
   },
   {
    "duration": 19,
    "start_time": "2022-07-12T00:45:57.891Z"
   },
   {
    "duration": 22,
    "start_time": "2022-07-12T00:45:57.911Z"
   },
   {
    "duration": 28,
    "start_time": "2022-07-12T00:45:57.934Z"
   },
   {
    "duration": 25,
    "start_time": "2022-07-12T00:45:57.963Z"
   },
   {
    "duration": 23,
    "start_time": "2022-07-12T00:45:57.989Z"
   },
   {
    "duration": 48,
    "start_time": "2022-07-12T00:45:58.014Z"
   },
   {
    "duration": 28,
    "start_time": "2022-07-12T00:45:58.064Z"
   },
   {
    "duration": 15,
    "start_time": "2022-07-12T00:45:58.094Z"
   },
   {
    "duration": 17,
    "start_time": "2022-07-12T00:45:58.111Z"
   },
   {
    "duration": 30,
    "start_time": "2022-07-12T00:45:58.131Z"
   },
   {
    "duration": 3,
    "start_time": "2022-07-12T00:45:58.163Z"
   },
   {
    "duration": 7,
    "start_time": "2022-07-12T00:45:58.168Z"
   },
   {
    "duration": 3629,
    "start_time": "2022-07-12T00:45:58.176Z"
   },
   {
    "duration": 3646,
    "start_time": "2022-07-12T00:46:01.806Z"
   },
   {
    "duration": 40,
    "start_time": "2022-07-12T00:46:05.453Z"
   },
   {
    "duration": 18,
    "start_time": "2022-07-12T00:46:05.495Z"
   },
   {
    "duration": 27,
    "start_time": "2022-07-12T00:46:05.514Z"
   },
   {
    "duration": 32,
    "start_time": "2022-07-12T00:46:05.542Z"
   },
   {
    "duration": 25,
    "start_time": "2022-07-12T00:46:05.576Z"
   },
   {
    "duration": 96,
    "start_time": "2022-07-12T00:46:05.602Z"
   },
   {
    "duration": 8,
    "start_time": "2022-07-12T00:46:05.699Z"
   },
   {
    "duration": 23,
    "start_time": "2022-07-12T00:46:05.708Z"
   },
   {
    "duration": 20,
    "start_time": "2022-07-12T00:46:05.733Z"
   },
   {
    "duration": 21,
    "start_time": "2022-07-12T00:46:26.048Z"
   },
   {
    "duration": 22,
    "start_time": "2022-07-12T00:48:47.188Z"
   },
   {
    "duration": 44,
    "start_time": "2022-07-12T02:08:50.043Z"
   },
   {
    "duration": 490,
    "start_time": "2022-07-12T02:08:57.045Z"
   },
   {
    "duration": 8,
    "start_time": "2022-07-12T02:08:57.537Z"
   },
   {
    "duration": 18,
    "start_time": "2022-07-12T02:08:57.546Z"
   },
   {
    "duration": 9,
    "start_time": "2022-07-12T02:08:57.565Z"
   },
   {
    "duration": 28,
    "start_time": "2022-07-12T02:08:57.576Z"
   },
   {
    "duration": 19,
    "start_time": "2022-07-12T02:08:57.605Z"
   },
   {
    "duration": 26,
    "start_time": "2022-07-12T02:08:57.625Z"
   },
   {
    "duration": 3,
    "start_time": "2022-07-12T02:08:57.653Z"
   },
   {
    "duration": 45,
    "start_time": "2022-07-12T02:08:57.657Z"
   },
   {
    "duration": 11,
    "start_time": "2022-07-12T02:08:57.704Z"
   },
   {
    "duration": 12,
    "start_time": "2022-07-12T02:08:57.717Z"
   },
   {
    "duration": 16,
    "start_time": "2022-07-12T02:08:57.731Z"
   },
   {
    "duration": 12,
    "start_time": "2022-07-12T02:08:57.748Z"
   },
   {
    "duration": 42,
    "start_time": "2022-07-12T02:08:57.761Z"
   },
   {
    "duration": 35,
    "start_time": "2022-07-12T02:08:57.804Z"
   },
   {
    "duration": 13,
    "start_time": "2022-07-12T02:08:57.840Z"
   },
   {
    "duration": 15,
    "start_time": "2022-07-12T02:08:57.854Z"
   },
   {
    "duration": 33,
    "start_time": "2022-07-12T02:08:57.870Z"
   },
   {
    "duration": 4,
    "start_time": "2022-07-12T02:08:57.904Z"
   },
   {
    "duration": 18,
    "start_time": "2022-07-12T02:08:57.910Z"
   },
   {
    "duration": 6,
    "start_time": "2022-07-12T02:08:57.930Z"
   },
   {
    "duration": 9,
    "start_time": "2022-07-12T02:08:57.938Z"
   },
   {
    "duration": 13,
    "start_time": "2022-07-12T02:08:57.948Z"
   },
   {
    "duration": 6,
    "start_time": "2022-07-12T02:08:57.963Z"
   },
   {
    "duration": 30,
    "start_time": "2022-07-12T02:08:57.971Z"
   },
   {
    "duration": 4,
    "start_time": "2022-07-12T02:08:58.002Z"
   },
   {
    "duration": 10,
    "start_time": "2022-07-12T02:08:58.007Z"
   },
   {
    "duration": 14,
    "start_time": "2022-07-12T02:08:58.021Z"
   },
   {
    "duration": 17,
    "start_time": "2022-07-12T02:08:58.036Z"
   },
   {
    "duration": 19,
    "start_time": "2022-07-12T02:08:58.055Z"
   },
   {
    "duration": 28,
    "start_time": "2022-07-12T02:08:58.075Z"
   },
   {
    "duration": 8,
    "start_time": "2022-07-12T02:08:58.104Z"
   },
   {
    "duration": 4,
    "start_time": "2022-07-12T02:08:58.114Z"
   },
   {
    "duration": 7,
    "start_time": "2022-07-12T02:08:58.120Z"
   },
   {
    "duration": 4,
    "start_time": "2022-07-12T02:08:58.128Z"
   },
   {
    "duration": 10,
    "start_time": "2022-07-12T02:08:58.133Z"
   },
   {
    "duration": 6,
    "start_time": "2022-07-12T02:08:58.144Z"
   },
   {
    "duration": 9,
    "start_time": "2022-07-12T02:08:58.151Z"
   },
   {
    "duration": 51,
    "start_time": "2022-07-12T02:08:58.161Z"
   },
   {
    "duration": 6,
    "start_time": "2022-07-12T02:08:58.214Z"
   },
   {
    "duration": 10,
    "start_time": "2022-07-12T02:08:58.221Z"
   },
   {
    "duration": 10,
    "start_time": "2022-07-12T02:08:58.232Z"
   },
   {
    "duration": 6,
    "start_time": "2022-07-12T02:08:58.243Z"
   },
   {
    "duration": 7,
    "start_time": "2022-07-12T02:08:58.251Z"
   },
   {
    "duration": 13,
    "start_time": "2022-07-12T02:08:58.259Z"
   },
   {
    "duration": 33,
    "start_time": "2022-07-12T02:08:58.273Z"
   },
   {
    "duration": 31,
    "start_time": "2022-07-12T02:08:58.308Z"
   },
   {
    "duration": 29,
    "start_time": "2022-07-12T02:08:58.341Z"
   },
   {
    "duration": 28,
    "start_time": "2022-07-12T02:08:58.372Z"
   },
   {
    "duration": 18,
    "start_time": "2022-07-12T02:08:58.402Z"
   },
   {
    "duration": 16,
    "start_time": "2022-07-12T02:08:58.421Z"
   },
   {
    "duration": 18,
    "start_time": "2022-07-12T02:08:58.438Z"
   },
   {
    "duration": 57,
    "start_time": "2022-07-12T02:08:58.458Z"
   },
   {
    "duration": 12,
    "start_time": "2022-07-12T02:08:58.517Z"
   },
   {
    "duration": 4,
    "start_time": "2022-07-12T02:08:58.531Z"
   },
   {
    "duration": 11,
    "start_time": "2022-07-12T02:08:58.536Z"
   },
   {
    "duration": 10,
    "start_time": "2022-07-12T02:08:58.548Z"
   },
   {
    "duration": 14,
    "start_time": "2022-07-12T02:08:58.560Z"
   },
   {
    "duration": 32,
    "start_time": "2022-07-12T02:08:58.575Z"
   },
   {
    "duration": 3,
    "start_time": "2022-07-12T02:08:58.609Z"
   },
   {
    "duration": 8,
    "start_time": "2022-07-12T02:08:58.613Z"
   },
   {
    "duration": 9,
    "start_time": "2022-07-12T02:08:58.623Z"
   },
   {
    "duration": 16,
    "start_time": "2022-07-12T02:08:58.634Z"
   },
   {
    "duration": 17,
    "start_time": "2022-07-12T02:08:58.652Z"
   },
   {
    "duration": 43,
    "start_time": "2022-07-12T02:08:58.671Z"
   },
   {
    "duration": 23,
    "start_time": "2022-07-12T02:08:58.716Z"
   },
   {
    "duration": 21,
    "start_time": "2022-07-12T02:08:58.741Z"
   },
   {
    "duration": 52,
    "start_time": "2022-07-12T02:08:58.764Z"
   },
   {
    "duration": 27,
    "start_time": "2022-07-12T02:08:58.818Z"
   },
   {
    "duration": 15,
    "start_time": "2022-07-12T02:08:58.847Z"
   },
   {
    "duration": 38,
    "start_time": "2022-07-12T02:08:58.863Z"
   },
   {
    "duration": 5,
    "start_time": "2022-07-12T02:08:58.903Z"
   },
   {
    "duration": 4,
    "start_time": "2022-07-12T02:08:58.910Z"
   },
   {
    "duration": 7,
    "start_time": "2022-07-12T02:08:58.916Z"
   },
   {
    "duration": 3442,
    "start_time": "2022-07-12T02:08:58.925Z"
   },
   {
    "duration": 3798,
    "start_time": "2022-07-12T02:09:02.368Z"
   },
   {
    "duration": 40,
    "start_time": "2022-07-12T02:09:06.167Z"
   },
   {
    "duration": 13,
    "start_time": "2022-07-12T02:09:06.209Z"
   },
   {
    "duration": 26,
    "start_time": "2022-07-12T02:09:06.223Z"
   },
   {
    "duration": 16,
    "start_time": "2022-07-12T02:09:06.251Z"
   },
   {
    "duration": 35,
    "start_time": "2022-07-12T02:09:06.268Z"
   },
   {
    "duration": 100,
    "start_time": "2022-07-12T02:09:06.308Z"
   },
   {
    "duration": 5,
    "start_time": "2022-07-12T02:09:06.410Z"
   },
   {
    "duration": 15,
    "start_time": "2022-07-12T02:09:06.417Z"
   },
   {
    "duration": 13,
    "start_time": "2022-07-12T02:09:06.433Z"
   },
   {
    "duration": 25,
    "start_time": "2022-07-12T02:09:06.448Z"
   },
   {
    "duration": 53,
    "start_time": "2022-07-12T02:09:06.475Z"
   },
   {
    "duration": 16,
    "start_time": "2022-07-12T02:09:06.530Z"
   },
   {
    "duration": 6,
    "start_time": "2022-07-12T02:09:06.548Z"
   },
   {
    "duration": 7,
    "start_time": "2022-07-12T02:09:06.555Z"
   },
   {
    "duration": 3646,
    "start_time": "2022-07-12T02:09:06.564Z"
   },
   {
    "duration": 36,
    "start_time": "2022-07-12T02:09:10.212Z"
   },
   {
    "duration": 14,
    "start_time": "2022-07-12T02:09:10.250Z"
   },
   {
    "duration": 46,
    "start_time": "2022-07-12T02:09:10.266Z"
   },
   {
    "duration": 15,
    "start_time": "2022-07-12T02:09:10.313Z"
   },
   {
    "duration": 119,
    "start_time": "2022-07-12T02:09:10.330Z"
   },
   {
    "duration": 6,
    "start_time": "2022-07-12T02:09:10.452Z"
   },
   {
    "duration": 21,
    "start_time": "2022-07-12T02:09:10.460Z"
   },
   {
    "duration": 17,
    "start_time": "2022-07-12T02:09:10.483Z"
   },
   {
    "duration": 10,
    "start_time": "2022-07-12T02:09:10.502Z"
   },
   {
    "duration": 11,
    "start_time": "2022-07-12T02:09:10.513Z"
   },
   {
    "duration": 7,
    "start_time": "2022-07-12T02:09:10.525Z"
   },
   {
    "duration": 3,
    "start_time": "2022-07-12T02:09:10.534Z"
   },
   {
    "duration": 15,
    "start_time": "2022-07-12T02:09:10.539Z"
   },
   {
    "duration": 9,
    "start_time": "2022-07-12T02:09:10.555Z"
   },
   {
    "duration": 15,
    "start_time": "2022-07-12T02:09:10.565Z"
   },
   {
    "duration": 8,
    "start_time": "2022-07-12T02:09:10.601Z"
   },
   {
    "duration": 7,
    "start_time": "2022-07-12T02:09:10.611Z"
   },
   {
    "duration": 10,
    "start_time": "2022-07-12T02:09:10.620Z"
   },
   {
    "duration": 6,
    "start_time": "2022-07-12T02:09:10.632Z"
   },
   {
    "duration": 11,
    "start_time": "2022-07-12T02:09:10.640Z"
   },
   {
    "duration": 16,
    "start_time": "2022-07-12T02:09:10.652Z"
   },
   {
    "duration": 15,
    "start_time": "2022-07-12T02:09:10.669Z"
   },
   {
    "duration": 30,
    "start_time": "2022-07-12T02:09:10.685Z"
   },
   {
    "duration": 13,
    "start_time": "2022-07-12T02:09:10.716Z"
   },
   {
    "duration": 18,
    "start_time": "2022-07-12T02:09:10.730Z"
   },
   {
    "duration": 7,
    "start_time": "2022-07-12T02:09:10.749Z"
   },
   {
    "duration": 17,
    "start_time": "2022-07-12T02:09:10.757Z"
   },
   {
    "duration": 6,
    "start_time": "2022-07-12T02:09:10.776Z"
   },
   {
    "duration": 15,
    "start_time": "2022-07-12T02:09:10.800Z"
   },
   {
    "duration": 10,
    "start_time": "2022-07-12T02:09:10.816Z"
   },
   {
    "duration": 24,
    "start_time": "2022-07-12T02:09:10.827Z"
   },
   {
    "duration": 5,
    "start_time": "2022-07-12T02:09:10.852Z"
   },
   {
    "duration": 11,
    "start_time": "2022-07-12T02:12:47.588Z"
   },
   {
    "duration": 16,
    "start_time": "2022-07-12T02:12:59.176Z"
   },
   {
    "duration": 11,
    "start_time": "2022-07-12T02:13:19.604Z"
   },
   {
    "duration": 14,
    "start_time": "2022-07-12T02:13:45.451Z"
   },
   {
    "duration": 11,
    "start_time": "2022-07-12T02:14:35.412Z"
   },
   {
    "duration": 704,
    "start_time": "2022-07-12T14:08:42.730Z"
   },
   {
    "duration": 8,
    "start_time": "2022-07-12T14:08:59.261Z"
   },
   {
    "duration": 18,
    "start_time": "2022-07-12T14:09:04.345Z"
   },
   {
    "duration": 15,
    "start_time": "2022-07-12T14:09:25.303Z"
   },
   {
    "duration": 26,
    "start_time": "2022-07-12T14:09:34.802Z"
   },
   {
    "duration": 26,
    "start_time": "2022-07-12T14:09:44.393Z"
   },
   {
    "duration": 18,
    "start_time": "2022-07-12T14:10:31.316Z"
   },
   {
    "duration": 30,
    "start_time": "2022-07-12T14:10:48.550Z"
   },
   {
    "duration": 5,
    "start_time": "2022-07-12T14:10:58.906Z"
   },
   {
    "duration": 17,
    "start_time": "2022-07-12T14:11:59.046Z"
   },
   {
    "duration": 13,
    "start_time": "2022-07-12T14:12:28.209Z"
   },
   {
    "duration": 14,
    "start_time": "2022-07-12T14:13:05.133Z"
   },
   {
    "duration": 16,
    "start_time": "2022-07-12T14:13:10.733Z"
   },
   {
    "duration": 14,
    "start_time": "2022-07-12T14:15:33.463Z"
   },
   {
    "duration": 5,
    "start_time": "2022-07-12T14:15:42.341Z"
   },
   {
    "duration": 33,
    "start_time": "2022-07-12T14:15:57.406Z"
   },
   {
    "duration": 18,
    "start_time": "2022-07-12T14:16:06.980Z"
   },
   {
    "duration": 17,
    "start_time": "2022-07-12T14:16:22.238Z"
   },
   {
    "duration": 14,
    "start_time": "2022-07-12T14:16:32.605Z"
   },
   {
    "duration": 6,
    "start_time": "2022-07-12T14:16:52.402Z"
   },
   {
    "duration": 16,
    "start_time": "2022-07-12T14:16:56.031Z"
   },
   {
    "duration": 7,
    "start_time": "2022-07-12T14:16:58.891Z"
   },
   {
    "duration": 6,
    "start_time": "2022-07-12T14:17:08.794Z"
   },
   {
    "duration": 11,
    "start_time": "2022-07-12T14:17:11.278Z"
   },
   {
    "duration": 8,
    "start_time": "2022-07-12T14:17:25.160Z"
   },
   {
    "duration": 5,
    "start_time": "2022-07-12T14:17:51.425Z"
   },
   {
    "duration": 5,
    "start_time": "2022-07-12T14:17:54.817Z"
   },
   {
    "duration": 10,
    "start_time": "2022-07-12T14:17:58.984Z"
   },
   {
    "duration": 13,
    "start_time": "2022-07-12T14:18:06.490Z"
   },
   {
    "duration": 21,
    "start_time": "2022-07-12T14:18:13.312Z"
   },
   {
    "duration": 17,
    "start_time": "2022-07-12T14:18:33.870Z"
   },
   {
    "duration": 10,
    "start_time": "2022-07-12T14:18:44.295Z"
   },
   {
    "duration": 8,
    "start_time": "2022-07-12T14:18:54.548Z"
   },
   {
    "duration": 11,
    "start_time": "2022-07-12T14:18:58.865Z"
   },
   {
    "duration": 11,
    "start_time": "2022-07-12T14:19:33.346Z"
   },
   {
    "duration": 6,
    "start_time": "2022-07-12T14:19:38.042Z"
   },
   {
    "duration": 9,
    "start_time": "2022-07-12T14:19:39.467Z"
   },
   {
    "duration": 7,
    "start_time": "2022-07-12T14:19:55.700Z"
   },
   {
    "duration": 8,
    "start_time": "2022-07-12T14:20:06.919Z"
   },
   {
    "duration": 14,
    "start_time": "2022-07-12T14:20:31.834Z"
   },
   {
    "duration": 15,
    "start_time": "2022-07-12T14:20:41.460Z"
   },
   {
    "duration": 11,
    "start_time": "2022-07-12T14:21:18.601Z"
   },
   {
    "duration": 9,
    "start_time": "2022-07-12T14:21:25.717Z"
   },
   {
    "duration": 10,
    "start_time": "2022-07-12T14:21:34.480Z"
   },
   {
    "duration": 9,
    "start_time": "2022-07-12T14:21:36.781Z"
   },
   {
    "duration": 8,
    "start_time": "2022-07-12T14:21:53.345Z"
   },
   {
    "duration": 14,
    "start_time": "2022-07-12T14:22:11.927Z"
   },
   {
    "duration": 10,
    "start_time": "2022-07-12T14:22:30.052Z"
   },
   {
    "duration": 9,
    "start_time": "2022-07-12T14:25:17.867Z"
   },
   {
    "duration": 14,
    "start_time": "2022-07-12T14:25:56.213Z"
   },
   {
    "duration": 16,
    "start_time": "2022-07-12T14:28:07.517Z"
   },
   {
    "duration": 17,
    "start_time": "2022-07-12T14:28:37.745Z"
   },
   {
    "duration": 22,
    "start_time": "2022-07-12T14:29:00.407Z"
   },
   {
    "duration": 24,
    "start_time": "2022-07-12T14:29:54.550Z"
   },
   {
    "duration": 37,
    "start_time": "2022-07-12T14:29:57.974Z"
   },
   {
    "duration": 31,
    "start_time": "2022-07-12T14:30:04.921Z"
   },
   {
    "duration": 26,
    "start_time": "2022-07-12T14:30:19.250Z"
   },
   {
    "duration": 21,
    "start_time": "2022-07-12T14:30:21.797Z"
   },
   {
    "duration": 22,
    "start_time": "2022-07-12T14:30:24.312Z"
   },
   {
    "duration": 41,
    "start_time": "2022-07-12T14:30:40.621Z"
   },
   {
    "duration": 16,
    "start_time": "2022-07-12T14:30:45.677Z"
   },
   {
    "duration": 7,
    "start_time": "2022-07-12T14:31:00.781Z"
   },
   {
    "duration": 9,
    "start_time": "2022-07-12T14:31:02.705Z"
   },
   {
    "duration": 10,
    "start_time": "2022-07-12T14:31:10.943Z"
   },
   {
    "duration": 10,
    "start_time": "2022-07-12T14:31:18.782Z"
   },
   {
    "duration": 15,
    "start_time": "2022-07-12T14:31:22.974Z"
   },
   {
    "duration": 4,
    "start_time": "2022-07-12T14:31:55.680Z"
   },
   {
    "duration": 4,
    "start_time": "2022-07-12T14:31:57.729Z"
   },
   {
    "duration": 9,
    "start_time": "2022-07-12T14:32:04.910Z"
   },
   {
    "duration": 25,
    "start_time": "2022-07-12T14:32:09.435Z"
   },
   {
    "duration": 20,
    "start_time": "2022-07-12T14:32:37.751Z"
   },
   {
    "duration": 18,
    "start_time": "2022-07-12T14:32:46.740Z"
   },
   {
    "duration": 26,
    "start_time": "2022-07-12T14:32:55.753Z"
   },
   {
    "duration": 35,
    "start_time": "2022-07-12T14:32:57.642Z"
   },
   {
    "duration": 42,
    "start_time": "2022-07-12T14:33:01.084Z"
   },
   {
    "duration": 33,
    "start_time": "2022-07-12T14:33:11.209Z"
   },
   {
    "duration": 16,
    "start_time": "2022-07-12T14:33:14.243Z"
   },
   {
    "duration": 15,
    "start_time": "2022-07-12T14:33:34.237Z"
   },
   {
    "duration": 6,
    "start_time": "2022-07-12T14:33:50.454Z"
   },
   {
    "duration": 63,
    "start_time": "2022-07-12T14:59:11.982Z"
   },
   {
    "duration": 3,
    "start_time": "2022-07-12T14:59:27.080Z"
   },
   {
    "duration": 6,
    "start_time": "2022-07-12T15:00:01.597Z"
   },
   {
    "duration": 6,
    "start_time": "2022-07-12T18:17:55.024Z"
   },
   {
    "duration": 7,
    "start_time": "2022-07-12T18:17:58.268Z"
   },
   {
    "duration": 8,
    "start_time": "2022-07-12T18:18:39.857Z"
   },
   {
    "duration": 4,
    "start_time": "2022-07-12T18:26:46.651Z"
   },
   {
    "duration": 10,
    "start_time": "2022-07-12T18:26:49.120Z"
   },
   {
    "duration": 7,
    "start_time": "2022-07-12T18:27:04.117Z"
   },
   {
    "duration": 5,
    "start_time": "2022-07-12T18:28:38.020Z"
   },
   {
    "duration": 5,
    "start_time": "2022-07-12T18:28:39.665Z"
   },
   {
    "duration": 4,
    "start_time": "2022-07-12T18:46:31.045Z"
   },
   {
    "duration": 70,
    "start_time": "2022-07-12T18:46:32.651Z"
   },
   {
    "duration": 5,
    "start_time": "2022-07-12T18:48:18.922Z"
   },
   {
    "duration": 7,
    "start_time": "2022-07-12T18:48:23.523Z"
   },
   {
    "duration": 28,
    "start_time": "2022-07-12T18:56:19.329Z"
   },
   {
    "duration": 4,
    "start_time": "2022-07-12T19:02:45.464Z"
   },
   {
    "duration": 5,
    "start_time": "2022-07-12T19:02:46.948Z"
   },
   {
    "duration": 5,
    "start_time": "2022-07-12T19:03:21.037Z"
   },
   {
    "duration": 5,
    "start_time": "2022-07-12T19:03:23.455Z"
   },
   {
    "duration": 16,
    "start_time": "2022-07-12T19:04:27.158Z"
   },
   {
    "duration": 3,
    "start_time": "2022-07-12T19:07:22.651Z"
   },
   {
    "duration": 5,
    "start_time": "2022-07-12T19:07:24.366Z"
   },
   {
    "duration": 3,
    "start_time": "2022-07-12T19:07:46.796Z"
   },
   {
    "duration": 6,
    "start_time": "2022-07-12T19:07:47.673Z"
   },
   {
    "duration": 5,
    "start_time": "2022-07-12T19:09:27.662Z"
   },
   {
    "duration": 4,
    "start_time": "2022-07-12T19:10:19.208Z"
   },
   {
    "duration": 6,
    "start_time": "2022-07-12T19:10:20.950Z"
   },
   {
    "duration": 6,
    "start_time": "2022-07-12T19:12:19.988Z"
   },
   {
    "duration": 6,
    "start_time": "2022-07-12T19:13:22.349Z"
   },
   {
    "duration": 5,
    "start_time": "2022-07-12T19:17:36.265Z"
   },
   {
    "duration": 5,
    "start_time": "2022-07-12T19:17:53.801Z"
   },
   {
    "duration": 4,
    "start_time": "2022-07-12T19:18:05.853Z"
   },
   {
    "duration": 6,
    "start_time": "2022-07-12T19:18:06.702Z"
   },
   {
    "duration": 8,
    "start_time": "2022-07-12T19:18:08.297Z"
   },
   {
    "duration": 3,
    "start_time": "2022-07-12T19:38:20.280Z"
   },
   {
    "duration": 1304,
    "start_time": "2022-07-12T19:38:21.995Z"
   },
   {
    "duration": 6,
    "start_time": "2022-07-12T19:43:28.676Z"
   },
   {
    "duration": 942,
    "start_time": "2022-07-12T19:44:03.084Z"
   },
   {
    "duration": 5,
    "start_time": "2022-07-12T19:44:38.413Z"
   },
   {
    "duration": 7,
    "start_time": "2022-07-12T19:45:40.658Z"
   },
   {
    "duration": 11,
    "start_time": "2022-07-12T19:48:36.536Z"
   },
   {
    "duration": 4,
    "start_time": "2022-07-12T19:49:04.317Z"
   },
   {
    "duration": 5,
    "start_time": "2022-07-12T19:49:16.309Z"
   },
   {
    "duration": 6,
    "start_time": "2022-07-12T19:49:21.631Z"
   },
   {
    "duration": 11,
    "start_time": "2022-07-12T19:49:27.791Z"
   },
   {
    "duration": 5,
    "start_time": "2022-07-12T19:49:49.229Z"
   },
   {
    "duration": 10,
    "start_time": "2022-07-12T19:50:52.496Z"
   },
   {
    "duration": 5,
    "start_time": "2022-07-12T19:52:11.082Z"
   },
   {
    "duration": 7,
    "start_time": "2022-07-12T19:53:12.102Z"
   },
   {
    "duration": 4,
    "start_time": "2022-07-12T20:00:22.317Z"
   },
   {
    "duration": 8,
    "start_time": "2022-07-12T20:00:24.980Z"
   },
   {
    "duration": 6,
    "start_time": "2022-07-12T20:00:26.381Z"
   },
   {
    "duration": 3,
    "start_time": "2022-07-12T20:02:55.885Z"
   },
   {
    "duration": 5,
    "start_time": "2022-07-12T20:02:56.678Z"
   },
   {
    "duration": 863,
    "start_time": "2022-07-12T20:02:58.157Z"
   },
   {
    "duration": 6,
    "start_time": "2022-07-12T20:03:47.404Z"
   },
   {
    "duration": 5,
    "start_time": "2022-07-12T20:04:48.497Z"
   },
   {
    "duration": 6,
    "start_time": "2022-07-12T20:04:50.205Z"
   },
   {
    "duration": 6,
    "start_time": "2022-07-12T20:04:51.415Z"
   },
   {
    "duration": 8,
    "start_time": "2022-07-12T20:10:48.563Z"
   },
   {
    "duration": 8,
    "start_time": "2022-07-12T20:11:06.842Z"
   },
   {
    "duration": 5,
    "start_time": "2022-07-12T20:11:38.565Z"
   },
   {
    "duration": 5,
    "start_time": "2022-07-12T20:12:54.062Z"
   },
   {
    "duration": 1015,
    "start_time": "2022-07-12T20:18:54.779Z"
   },
   {
    "duration": 4,
    "start_time": "2022-07-12T20:20:15.654Z"
   },
   {
    "duration": 7,
    "start_time": "2022-07-12T20:20:16.989Z"
   },
   {
    "duration": 1165,
    "start_time": "2022-07-12T20:20:33.573Z"
   },
   {
    "duration": 1082,
    "start_time": "2022-07-12T20:22:42.991Z"
   },
   {
    "duration": 4,
    "start_time": "2022-07-12T21:47:23.433Z"
   },
   {
    "duration": 6,
    "start_time": "2022-07-12T21:47:24.593Z"
   },
   {
    "duration": 714,
    "start_time": "2022-07-12T21:47:34.211Z"
   },
   {
    "duration": 655,
    "start_time": "2022-07-12T21:47:47.811Z"
   },
   {
    "duration": 19,
    "start_time": "2022-07-12T21:52:11.775Z"
   },
   {
    "duration": 17,
    "start_time": "2022-07-12T21:53:12.021Z"
   },
   {
    "duration": 17,
    "start_time": "2022-07-12T21:56:39.930Z"
   },
   {
    "duration": 10,
    "start_time": "2022-07-12T21:56:55.974Z"
   },
   {
    "duration": 14,
    "start_time": "2022-07-12T21:57:02.194Z"
   },
   {
    "duration": 33,
    "start_time": "2022-07-12T21:57:49.127Z"
   },
   {
    "duration": 93,
    "start_time": "2022-07-12T21:57:59.571Z"
   },
   {
    "duration": 8,
    "start_time": "2022-07-12T21:58:15.739Z"
   },
   {
    "duration": 9,
    "start_time": "2022-07-12T21:58:33.161Z"
   },
   {
    "duration": 19,
    "start_time": "2022-07-12T21:58:36.428Z"
   },
   {
    "duration": 28,
    "start_time": "2022-07-12T21:59:23.541Z"
   },
   {
    "duration": 34,
    "start_time": "2022-07-12T21:59:32.100Z"
   },
   {
    "duration": 3,
    "start_time": "2022-07-12T22:08:58.453Z"
   },
   {
    "duration": 16,
    "start_time": "2022-07-12T22:09:00.616Z"
   },
   {
    "duration": 5,
    "start_time": "2022-07-12T22:11:03.436Z"
   },
   {
    "duration": 4,
    "start_time": "2022-07-12T22:15:01.062Z"
   },
   {
    "duration": 4,
    "start_time": "2022-07-12T22:15:17.976Z"
   },
   {
    "duration": 9,
    "start_time": "2022-07-12T22:15:30.721Z"
   },
   {
    "duration": 5,
    "start_time": "2022-07-12T22:15:44.270Z"
   },
   {
    "duration": 5,
    "start_time": "2022-07-12T22:15:51.752Z"
   },
   {
    "duration": 679,
    "start_time": "2022-07-12T22:16:23.464Z"
   },
   {
    "duration": 17,
    "start_time": "2022-07-12T22:16:58.580Z"
   },
   {
    "duration": 18,
    "start_time": "2022-07-12T22:18:38.888Z"
   },
   {
    "duration": 15,
    "start_time": "2022-07-12T22:19:09.907Z"
   },
   {
    "duration": 9,
    "start_time": "2022-07-12T22:19:14.951Z"
   },
   {
    "duration": 16,
    "start_time": "2022-07-12T22:19:16.938Z"
   },
   {
    "duration": 87,
    "start_time": "2022-07-12T22:19:29.034Z"
   },
   {
    "duration": 9,
    "start_time": "2022-07-12T22:19:40.635Z"
   },
   {
    "duration": 5,
    "start_time": "2022-07-12T22:19:46.786Z"
   },
   {
    "duration": 16,
    "start_time": "2022-07-12T22:19:48.901Z"
   },
   {
    "duration": 12,
    "start_time": "2022-07-12T22:20:42.397Z"
   },
   {
    "duration": 10,
    "start_time": "2022-07-12T22:20:55.340Z"
   },
   {
    "duration": 8,
    "start_time": "2022-07-12T22:20:59.505Z"
   },
   {
    "duration": 4,
    "start_time": "2022-07-12T22:21:11.440Z"
   },
   {
    "duration": 16,
    "start_time": "2022-07-12T22:21:17.833Z"
   },
   {
    "duration": 5,
    "start_time": "2022-07-12T22:21:29.323Z"
   },
   {
    "duration": 12,
    "start_time": "2022-07-12T22:21:31.191Z"
   },
   {
    "duration": 10,
    "start_time": "2022-07-12T22:21:40.394Z"
   },
   {
    "duration": 11,
    "start_time": "2022-07-12T22:22:24.946Z"
   },
   {
    "duration": 4,
    "start_time": "2022-07-12T22:37:24.867Z"
   },
   {
    "duration": 11,
    "start_time": "2022-07-12T22:37:28.625Z"
   },
   {
    "duration": 3,
    "start_time": "2022-07-12T22:37:39.685Z"
   },
   {
    "duration": 11,
    "start_time": "2022-07-12T22:37:42.625Z"
   },
   {
    "duration": 10,
    "start_time": "2022-07-12T22:38:01.228Z"
   },
   {
    "duration": 3,
    "start_time": "2022-07-12T22:40:49.147Z"
   },
   {
    "duration": 12,
    "start_time": "2022-07-12T22:40:57.742Z"
   },
   {
    "duration": 10,
    "start_time": "2022-07-12T22:41:11.579Z"
   },
   {
    "duration": 9,
    "start_time": "2022-07-12T22:41:17.275Z"
   },
   {
    "duration": 9,
    "start_time": "2022-07-12T22:41:48.398Z"
   },
   {
    "duration": 7,
    "start_time": "2022-07-12T22:41:51.406Z"
   },
   {
    "duration": 23,
    "start_time": "2022-07-12T22:42:15.425Z"
   },
   {
    "duration": 8,
    "start_time": "2022-07-12T22:42:47.879Z"
   },
   {
    "duration": 19,
    "start_time": "2022-07-12T22:52:12.954Z"
   },
   {
    "duration": 9,
    "start_time": "2022-07-12T22:52:56.958Z"
   },
   {
    "duration": 20,
    "start_time": "2022-07-12T22:55:40.789Z"
   },
   {
    "duration": 16,
    "start_time": "2022-07-12T22:56:18.754Z"
   },
   {
    "duration": 8,
    "start_time": "2022-07-12T22:56:26.210Z"
   },
   {
    "duration": 20,
    "start_time": "2022-07-12T23:01:38.864Z"
   },
   {
    "duration": 8,
    "start_time": "2022-07-12T23:01:42.139Z"
   },
   {
    "duration": 17,
    "start_time": "2022-07-12T23:04:48.048Z"
   },
   {
    "duration": 7,
    "start_time": "2022-07-12T23:04:50.409Z"
   },
   {
    "duration": 71,
    "start_time": "2022-07-12T23:10:54.357Z"
   },
   {
    "duration": 5,
    "start_time": "2022-07-12T23:10:54.431Z"
   },
   {
    "duration": 34,
    "start_time": "2022-07-12T23:10:54.437Z"
   },
   {
    "duration": 17,
    "start_time": "2022-07-12T23:10:54.474Z"
   },
   {
    "duration": 31,
    "start_time": "2022-07-12T23:10:54.494Z"
   },
   {
    "duration": 17,
    "start_time": "2022-07-12T23:10:54.601Z"
   },
   {
    "duration": 68,
    "start_time": "2022-07-12T23:10:54.620Z"
   },
   {
    "duration": 4,
    "start_time": "2022-07-12T23:10:54.690Z"
   },
   {
    "duration": 29,
    "start_time": "2022-07-12T23:10:54.696Z"
   },
   {
    "duration": 13,
    "start_time": "2022-07-12T23:10:54.727Z"
   },
   {
    "duration": 16,
    "start_time": "2022-07-12T23:10:54.741Z"
   },
   {
    "duration": 15,
    "start_time": "2022-07-12T23:10:54.835Z"
   },
   {
    "duration": 12,
    "start_time": "2022-07-12T23:10:54.852Z"
   },
   {
    "duration": 4,
    "start_time": "2022-07-12T23:10:54.866Z"
   },
   {
    "duration": 34,
    "start_time": "2022-07-12T23:10:54.872Z"
   },
   {
    "duration": 23,
    "start_time": "2022-07-12T23:10:54.908Z"
   },
   {
    "duration": 15,
    "start_time": "2022-07-12T23:10:54.933Z"
   },
   {
    "duration": 11,
    "start_time": "2022-07-12T23:10:54.949Z"
   },
   {
    "duration": 4,
    "start_time": "2022-07-12T23:10:54.962Z"
   },
   {
    "duration": 13,
    "start_time": "2022-07-12T23:10:54.967Z"
   },
   {
    "duration": 5,
    "start_time": "2022-07-12T23:10:55.072Z"
   },
   {
    "duration": 8,
    "start_time": "2022-07-12T23:10:55.079Z"
   },
   {
    "duration": 9,
    "start_time": "2022-07-12T23:10:55.088Z"
   },
   {
    "duration": 6,
    "start_time": "2022-07-12T23:10:55.099Z"
   },
   {
    "duration": 4,
    "start_time": "2022-07-12T23:10:55.107Z"
   },
   {
    "duration": 10,
    "start_time": "2022-07-12T23:10:55.113Z"
   },
   {
    "duration": 13,
    "start_time": "2022-07-12T23:10:55.124Z"
   },
   {
    "duration": 11,
    "start_time": "2022-07-12T23:10:55.139Z"
   },
   {
    "duration": 18,
    "start_time": "2022-07-12T23:10:55.152Z"
   },
   {
    "duration": 17,
    "start_time": "2022-07-12T23:10:55.171Z"
   },
   {
    "duration": 6,
    "start_time": "2022-07-12T23:10:55.190Z"
   },
   {
    "duration": 33,
    "start_time": "2022-07-12T23:10:55.197Z"
   },
   {
    "duration": 10,
    "start_time": "2022-07-12T23:10:55.232Z"
   },
   {
    "duration": 9,
    "start_time": "2022-07-12T23:10:55.310Z"
   },
   {
    "duration": 16,
    "start_time": "2022-07-12T23:10:55.322Z"
   },
   {
    "duration": 10,
    "start_time": "2022-07-12T23:10:55.340Z"
   },
   {
    "duration": 8,
    "start_time": "2022-07-12T23:10:55.352Z"
   },
   {
    "duration": 8,
    "start_time": "2022-07-12T23:10:55.362Z"
   },
   {
    "duration": 22,
    "start_time": "2022-07-12T23:10:55.372Z"
   },
   {
    "duration": 7,
    "start_time": "2022-07-12T23:10:55.395Z"
   },
   {
    "duration": 24,
    "start_time": "2022-07-12T23:10:55.404Z"
   },
   {
    "duration": 10,
    "start_time": "2022-07-12T23:10:55.430Z"
   },
   {
    "duration": 10,
    "start_time": "2022-07-12T23:10:55.442Z"
   },
   {
    "duration": 13,
    "start_time": "2022-07-12T23:10:55.453Z"
   },
   {
    "duration": 15,
    "start_time": "2022-07-12T23:10:55.468Z"
   },
   {
    "duration": 8,
    "start_time": "2022-07-12T23:10:55.485Z"
   },
   {
    "duration": 41,
    "start_time": "2022-07-12T23:10:55.495Z"
   },
   {
    "duration": 31,
    "start_time": "2022-07-12T23:10:55.538Z"
   },
   {
    "duration": 23,
    "start_time": "2022-07-12T23:10:55.570Z"
   },
   {
    "duration": 45,
    "start_time": "2022-07-12T23:10:55.596Z"
   },
   {
    "duration": 18,
    "start_time": "2022-07-12T23:10:55.642Z"
   },
   {
    "duration": 20,
    "start_time": "2022-07-12T23:10:55.662Z"
   },
   {
    "duration": 60,
    "start_time": "2022-07-12T23:10:55.683Z"
   },
   {
    "duration": 14,
    "start_time": "2022-07-12T23:10:55.744Z"
   },
   {
    "duration": 4,
    "start_time": "2022-07-12T23:10:55.760Z"
   },
   {
    "duration": 12,
    "start_time": "2022-07-12T23:10:55.765Z"
   },
   {
    "duration": 8,
    "start_time": "2022-07-12T23:10:55.780Z"
   },
   {
    "duration": 38,
    "start_time": "2022-07-12T23:10:55.789Z"
   },
   {
    "duration": 11,
    "start_time": "2022-07-12T23:10:55.829Z"
   },
   {
    "duration": 3,
    "start_time": "2022-07-12T23:10:55.842Z"
   },
   {
    "duration": 8,
    "start_time": "2022-07-12T23:10:55.847Z"
   },
   {
    "duration": 11,
    "start_time": "2022-07-12T23:10:55.856Z"
   },
   {
    "duration": 16,
    "start_time": "2022-07-12T23:10:55.868Z"
   },
   {
    "duration": 52,
    "start_time": "2022-07-12T23:10:55.886Z"
   },
   {
    "duration": 17,
    "start_time": "2022-07-12T23:10:55.940Z"
   },
   {
    "duration": 43,
    "start_time": "2022-07-12T23:10:55.960Z"
   },
   {
    "duration": 28,
    "start_time": "2022-07-12T23:10:56.005Z"
   },
   {
    "duration": 28,
    "start_time": "2022-07-12T23:10:56.035Z"
   },
   {
    "duration": 59,
    "start_time": "2022-07-12T23:10:56.065Z"
   },
   {
    "duration": 16,
    "start_time": "2022-07-12T23:10:56.127Z"
   },
   {
    "duration": 21,
    "start_time": "2022-07-12T23:10:56.145Z"
   },
   {
    "duration": 9,
    "start_time": "2022-07-12T23:10:56.168Z"
   },
   {
    "duration": 10,
    "start_time": "2022-07-12T23:10:56.178Z"
   },
   {
    "duration": 9,
    "start_time": "2022-07-12T23:10:56.189Z"
   },
   {
    "duration": 714,
    "start_time": "2022-07-12T23:10:56.199Z"
   },
   {
    "duration": 21,
    "start_time": "2022-07-12T23:10:56.915Z"
   },
   {
    "duration": 643,
    "start_time": "2022-07-12T23:10:56.938Z"
   },
   {
    "duration": 17,
    "start_time": "2022-07-12T23:10:57.582Z"
   },
   {
    "duration": 26,
    "start_time": "2022-07-12T23:10:57.601Z"
   },
   {
    "duration": 10,
    "start_time": "2022-07-12T23:10:57.628Z"
   },
   {
    "duration": 24,
    "start_time": "2022-07-12T23:10:57.639Z"
   },
   {
    "duration": 23,
    "start_time": "2022-07-12T23:10:57.665Z"
   },
   {
    "duration": 97,
    "start_time": "2022-07-12T23:10:57.690Z"
   },
   {
    "duration": 6,
    "start_time": "2022-07-12T23:10:57.788Z"
   },
   {
    "duration": 10,
    "start_time": "2022-07-12T23:10:57.795Z"
   },
   {
    "duration": 22,
    "start_time": "2022-07-12T23:10:57.807Z"
   },
   {
    "duration": 24,
    "start_time": "2022-07-12T23:10:57.830Z"
   },
   {
    "duration": 24,
    "start_time": "2022-07-12T23:10:57.855Z"
   },
   {
    "duration": 14,
    "start_time": "2022-07-12T23:10:57.880Z"
   },
   {
    "duration": 28,
    "start_time": "2022-07-12T23:10:57.896Z"
   },
   {
    "duration": 9,
    "start_time": "2022-07-12T23:10:57.925Z"
   },
   {
    "duration": 662,
    "start_time": "2022-07-12T23:10:57.935Z"
   },
   {
    "duration": 23,
    "start_time": "2022-07-12T23:10:58.599Z"
   },
   {
    "duration": 32,
    "start_time": "2022-07-12T23:10:58.623Z"
   },
   {
    "duration": 12,
    "start_time": "2022-07-12T23:10:58.656Z"
   },
   {
    "duration": 16,
    "start_time": "2022-07-12T23:10:58.669Z"
   },
   {
    "duration": 90,
    "start_time": "2022-07-12T23:10:58.687Z"
   },
   {
    "duration": 6,
    "start_time": "2022-07-12T23:10:58.778Z"
   },
   {
    "duration": 13,
    "start_time": "2022-07-12T23:10:58.786Z"
   },
   {
    "duration": 17,
    "start_time": "2022-07-12T23:10:58.800Z"
   },
   {
    "duration": 12,
    "start_time": "2022-07-12T23:10:58.818Z"
   },
   {
    "duration": 8,
    "start_time": "2022-07-12T23:10:58.832Z"
   },
   {
    "duration": 12,
    "start_time": "2022-07-12T23:10:58.841Z"
   },
   {
    "duration": 3,
    "start_time": "2022-07-12T23:10:58.855Z"
   },
   {
    "duration": 18,
    "start_time": "2022-07-12T23:10:58.860Z"
   },
   {
    "duration": 3,
    "start_time": "2022-07-12T23:10:58.879Z"
   },
   {
    "duration": 12,
    "start_time": "2022-07-12T23:10:58.885Z"
   },
   {
    "duration": 30,
    "start_time": "2022-07-12T23:10:58.898Z"
   },
   {
    "duration": 3,
    "start_time": "2022-07-12T23:10:58.930Z"
   },
   {
    "duration": 10,
    "start_time": "2022-07-12T23:10:58.934Z"
   },
   {
    "duration": 22,
    "start_time": "2022-07-12T23:10:58.946Z"
   },
   {
    "duration": 12,
    "start_time": "2022-07-12T23:10:58.969Z"
   },
   {
    "duration": 8,
    "start_time": "2022-07-12T23:10:58.982Z"
   },
   {
    "duration": 17,
    "start_time": "2022-07-12T23:10:58.991Z"
   },
   {
    "duration": 29,
    "start_time": "2022-07-12T23:10:59.010Z"
   },
   {
    "duration": 7,
    "start_time": "2022-07-12T23:10:59.041Z"
   },
   {
    "duration": 17,
    "start_time": "2022-07-12T23:10:59.049Z"
   },
   {
    "duration": 7,
    "start_time": "2022-07-12T23:10:59.068Z"
   },
   {
    "duration": 17,
    "start_time": "2022-07-12T23:10:59.076Z"
   },
   {
    "duration": 33,
    "start_time": "2022-07-12T23:10:59.094Z"
   },
   {
    "duration": 19,
    "start_time": "2022-07-12T23:10:59.128Z"
   },
   {
    "duration": 7,
    "start_time": "2022-07-12T23:10:59.149Z"
   },
   {
    "duration": 18,
    "start_time": "2022-07-12T23:10:59.157Z"
   },
   {
    "duration": 5,
    "start_time": "2022-07-12T23:10:59.176Z"
   },
   {
    "duration": 533,
    "start_time": "2022-07-14T16:55:57.971Z"
   },
   {
    "duration": 17,
    "start_time": "2022-07-14T16:55:58.506Z"
   },
   {
    "duration": 24,
    "start_time": "2022-07-14T16:55:58.524Z"
   },
   {
    "duration": 10,
    "start_time": "2022-07-14T16:55:58.549Z"
   },
   {
    "duration": 15,
    "start_time": "2022-07-14T16:55:58.561Z"
   },
   {
    "duration": 44,
    "start_time": "2022-07-14T16:55:58.577Z"
   },
   {
    "duration": 29,
    "start_time": "2022-07-14T16:55:58.623Z"
   },
   {
    "duration": 3,
    "start_time": "2022-07-14T16:55:58.654Z"
   },
   {
    "duration": 17,
    "start_time": "2022-07-14T16:55:58.659Z"
   },
   {
    "duration": 11,
    "start_time": "2022-07-14T16:55:58.677Z"
   },
   {
    "duration": 15,
    "start_time": "2022-07-14T16:55:58.713Z"
   },
   {
    "duration": 16,
    "start_time": "2022-07-14T16:55:58.730Z"
   },
   {
    "duration": 13,
    "start_time": "2022-07-14T16:55:58.747Z"
   },
   {
    "duration": 6,
    "start_time": "2022-07-14T16:55:58.763Z"
   },
   {
    "duration": 77,
    "start_time": "2022-07-14T16:55:58.770Z"
   },
   {
    "duration": 15,
    "start_time": "2022-07-14T16:55:58.848Z"
   },
   {
    "duration": 14,
    "start_time": "2022-07-14T16:55:58.864Z"
   },
   {
    "duration": 41,
    "start_time": "2022-07-14T16:55:58.879Z"
   },
   {
    "duration": 5,
    "start_time": "2022-07-14T16:55:58.922Z"
   },
   {
    "duration": 15,
    "start_time": "2022-07-14T16:55:58.929Z"
   },
   {
    "duration": 10,
    "start_time": "2022-07-14T16:55:58.946Z"
   },
   {
    "duration": 12,
    "start_time": "2022-07-14T16:55:58.957Z"
   },
   {
    "duration": 9,
    "start_time": "2022-07-14T16:55:58.971Z"
   },
   {
    "duration": 8,
    "start_time": "2022-07-14T16:55:58.981Z"
   },
   {
    "duration": 9,
    "start_time": "2022-07-14T16:55:58.990Z"
   },
   {
    "duration": 27,
    "start_time": "2022-07-14T16:55:59.001Z"
   },
   {
    "duration": 15,
    "start_time": "2022-07-14T16:55:59.029Z"
   },
   {
    "duration": 17,
    "start_time": "2022-07-14T16:55:59.045Z"
   },
   {
    "duration": 16,
    "start_time": "2022-07-14T16:55:59.063Z"
   },
   {
    "duration": 19,
    "start_time": "2022-07-14T16:55:59.081Z"
   },
   {
    "duration": 21,
    "start_time": "2022-07-14T16:55:59.102Z"
   },
   {
    "duration": 11,
    "start_time": "2022-07-14T16:55:59.125Z"
   },
   {
    "duration": 12,
    "start_time": "2022-07-14T16:55:59.137Z"
   },
   {
    "duration": 12,
    "start_time": "2022-07-14T16:55:59.151Z"
   },
   {
    "duration": 8,
    "start_time": "2022-07-14T16:55:59.165Z"
   },
   {
    "duration": 22,
    "start_time": "2022-07-14T16:55:59.175Z"
   },
   {
    "duration": 14,
    "start_time": "2022-07-14T16:55:59.198Z"
   },
   {
    "duration": 8,
    "start_time": "2022-07-14T16:55:59.214Z"
   },
   {
    "duration": 23,
    "start_time": "2022-07-14T16:55:59.223Z"
   },
   {
    "duration": 6,
    "start_time": "2022-07-14T16:55:59.248Z"
   },
   {
    "duration": 12,
    "start_time": "2022-07-14T16:55:59.259Z"
   },
   {
    "duration": 11,
    "start_time": "2022-07-14T16:55:59.273Z"
   },
   {
    "duration": 9,
    "start_time": "2022-07-14T16:55:59.286Z"
   },
   {
    "duration": 25,
    "start_time": "2022-07-14T16:55:59.297Z"
   },
   {
    "duration": 15,
    "start_time": "2022-07-14T16:55:59.324Z"
   },
   {
    "duration": 9,
    "start_time": "2022-07-14T16:55:59.341Z"
   },
   {
    "duration": 22,
    "start_time": "2022-07-14T16:55:59.351Z"
   },
   {
    "duration": 56,
    "start_time": "2022-07-14T16:55:59.374Z"
   },
   {
    "duration": 25,
    "start_time": "2022-07-14T16:55:59.431Z"
   },
   {
    "duration": 19,
    "start_time": "2022-07-14T16:55:59.458Z"
   },
   {
    "duration": 44,
    "start_time": "2022-07-14T16:55:59.479Z"
   },
   {
    "duration": 19,
    "start_time": "2022-07-14T16:55:59.525Z"
   },
   {
    "duration": 35,
    "start_time": "2022-07-14T16:55:59.545Z"
   },
   {
    "duration": 37,
    "start_time": "2022-07-14T16:55:59.581Z"
   },
   {
    "duration": 4,
    "start_time": "2022-07-14T16:55:59.624Z"
   },
   {
    "duration": 14,
    "start_time": "2022-07-14T16:55:59.629Z"
   },
   {
    "duration": 13,
    "start_time": "2022-07-14T16:55:59.644Z"
   },
   {
    "duration": 16,
    "start_time": "2022-07-14T16:55:59.658Z"
   },
   {
    "duration": 11,
    "start_time": "2022-07-14T16:55:59.676Z"
   },
   {
    "duration": 4,
    "start_time": "2022-07-14T16:55:59.688Z"
   },
   {
    "duration": 9,
    "start_time": "2022-07-14T16:55:59.693Z"
   },
   {
    "duration": 9,
    "start_time": "2022-07-14T16:55:59.720Z"
   },
   {
    "duration": 24,
    "start_time": "2022-07-14T16:55:59.730Z"
   },
   {
    "duration": 21,
    "start_time": "2022-07-14T16:55:59.756Z"
   },
   {
    "duration": 17,
    "start_time": "2022-07-14T16:55:59.779Z"
   },
   {
    "duration": 47,
    "start_time": "2022-07-14T16:55:59.797Z"
   },
   {
    "duration": 20,
    "start_time": "2022-07-14T16:55:59.846Z"
   },
   {
    "duration": 28,
    "start_time": "2022-07-14T16:55:59.868Z"
   },
   {
    "duration": 50,
    "start_time": "2022-07-14T16:55:59.897Z"
   },
   {
    "duration": 16,
    "start_time": "2022-07-14T16:55:59.949Z"
   },
   {
    "duration": 22,
    "start_time": "2022-07-14T16:55:59.967Z"
   },
   {
    "duration": 30,
    "start_time": "2022-07-14T16:55:59.991Z"
   },
   {
    "duration": 13,
    "start_time": "2022-07-14T16:56:00.024Z"
   },
   {
    "duration": 14,
    "start_time": "2022-07-14T16:56:00.039Z"
   },
   {
    "duration": 778,
    "start_time": "2022-07-14T16:56:00.056Z"
   },
   {
    "duration": 20,
    "start_time": "2022-07-14T16:56:00.836Z"
   },
   {
    "duration": 802,
    "start_time": "2022-07-14T16:56:00.857Z"
   },
   {
    "duration": 21,
    "start_time": "2022-07-14T16:56:01.661Z"
   },
   {
    "duration": 40,
    "start_time": "2022-07-14T16:56:01.684Z"
   },
   {
    "duration": 10,
    "start_time": "2022-07-14T16:56:01.727Z"
   },
   {
    "duration": 20,
    "start_time": "2022-07-14T16:56:01.739Z"
   },
   {
    "duration": 31,
    "start_time": "2022-07-14T16:56:01.761Z"
   },
   {
    "duration": 146,
    "start_time": "2022-07-14T16:56:01.794Z"
   },
   {
    "duration": 7,
    "start_time": "2022-07-14T16:56:01.942Z"
   },
   {
    "duration": 15,
    "start_time": "2022-07-14T16:56:01.951Z"
   },
   {
    "duration": 25,
    "start_time": "2022-07-14T16:56:01.969Z"
   },
   {
    "duration": 44,
    "start_time": "2022-07-14T16:56:01.997Z"
   },
   {
    "duration": 26,
    "start_time": "2022-07-14T16:56:02.042Z"
   },
   {
    "duration": 15,
    "start_time": "2022-07-14T16:56:02.070Z"
   },
   {
    "duration": 29,
    "start_time": "2022-07-14T16:56:02.087Z"
   },
   {
    "duration": 24,
    "start_time": "2022-07-14T16:56:02.119Z"
   },
   {
    "duration": 713,
    "start_time": "2022-07-14T16:56:02.145Z"
   },
   {
    "duration": 19,
    "start_time": "2022-07-14T16:56:02.860Z"
   },
   {
    "duration": 20,
    "start_time": "2022-07-14T16:56:02.881Z"
   },
   {
    "duration": 11,
    "start_time": "2022-07-14T16:56:02.909Z"
   },
   {
    "duration": 16,
    "start_time": "2022-07-14T16:56:02.922Z"
   },
   {
    "duration": 104,
    "start_time": "2022-07-14T16:56:02.939Z"
   },
   {
    "duration": 6,
    "start_time": "2022-07-14T16:56:03.045Z"
   },
   {
    "duration": 28,
    "start_time": "2022-07-14T16:56:03.052Z"
   },
   {
    "duration": 29,
    "start_time": "2022-07-14T16:56:03.082Z"
   },
   {
    "duration": 17,
    "start_time": "2022-07-14T16:56:03.112Z"
   },
   {
    "duration": 14,
    "start_time": "2022-07-14T16:56:03.131Z"
   },
   {
    "duration": 7,
    "start_time": "2022-07-14T16:56:03.147Z"
   },
   {
    "duration": 5,
    "start_time": "2022-07-14T16:56:03.155Z"
   },
   {
    "duration": 16,
    "start_time": "2022-07-14T16:56:03.161Z"
   },
   {
    "duration": 7,
    "start_time": "2022-07-14T16:56:03.179Z"
   },
   {
    "duration": 41,
    "start_time": "2022-07-14T16:56:03.187Z"
   },
   {
    "duration": 13,
    "start_time": "2022-07-14T16:56:03.229Z"
   },
   {
    "duration": 4,
    "start_time": "2022-07-14T16:56:03.243Z"
   },
   {
    "duration": 15,
    "start_time": "2022-07-14T16:56:03.249Z"
   },
   {
    "duration": 13,
    "start_time": "2022-07-14T16:56:03.266Z"
   },
   {
    "duration": 13,
    "start_time": "2022-07-14T16:56:03.280Z"
   },
   {
    "duration": 24,
    "start_time": "2022-07-14T16:56:03.294Z"
   },
   {
    "duration": 20,
    "start_time": "2022-07-14T16:56:03.320Z"
   },
   {
    "duration": 24,
    "start_time": "2022-07-14T16:56:03.342Z"
   },
   {
    "duration": 7,
    "start_time": "2022-07-14T16:56:03.368Z"
   },
   {
    "duration": 24,
    "start_time": "2022-07-14T16:56:03.376Z"
   },
   {
    "duration": 19,
    "start_time": "2022-07-14T16:56:03.401Z"
   },
   {
    "duration": 23,
    "start_time": "2022-07-14T16:56:03.422Z"
   },
   {
    "duration": 6,
    "start_time": "2022-07-14T16:56:03.447Z"
   },
   {
    "duration": 22,
    "start_time": "2022-07-14T16:56:03.455Z"
   },
   {
    "duration": 8,
    "start_time": "2022-07-14T16:56:03.482Z"
   },
   {
    "duration": 37,
    "start_time": "2022-07-14T16:56:03.491Z"
   },
   {
    "duration": 8,
    "start_time": "2022-07-14T16:56:03.530Z"
   }
  ],
  "kernelspec": {
   "display_name": "Python 3 (ipykernel)",
   "language": "python",
   "name": "python3"
  },
  "language_info": {
   "codemirror_mode": {
    "name": "ipython",
    "version": 3
   },
   "file_extension": ".py",
   "mimetype": "text/x-python",
   "name": "python",
   "nbconvert_exporter": "python",
   "pygments_lexer": "ipython3",
   "version": "3.9.5"
  },
  "toc": {
   "base_numbering": 1,
   "nav_menu": {},
   "number_sections": true,
   "sideBar": true,
   "skip_h1_title": true,
   "title_cell": "Table of Contents",
   "title_sidebar": "Contents",
   "toc_cell": false,
   "toc_position": {},
   "toc_section_display": true,
   "toc_window_display": true
  }
 },
 "nbformat": 4,
 "nbformat_minor": 2
}
