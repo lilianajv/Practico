{
  "nbformat": 4,
  "nbformat_minor": 0,
  "metadata": {
    "colab": {
      "provenance": [],
      "authorship_tag": "ABX9TyMgqtWuJtDy+rhsdQ0g8kfH",
      "include_colab_link": true
    },
    "kernelspec": {
      "name": "python3",
      "display_name": "Python 3"
    },
    "language_info": {
      "name": "python"
    }
  },
  "cells": [
    {
      "cell_type": "markdown",
      "metadata": {
        "id": "view-in-github",
        "colab_type": "text"
      },
      "source": [
        "<a href=\"https://colab.research.google.com/github/lilianajv/Practico/blob/main/Untitled5.ipynb\" target=\"_parent\"><img src=\"https://colab.research.google.com/assets/colab-badge.svg\" alt=\"Open In Colab\"/></a>"
      ]
    },
    {
      "cell_type": "code",
      "execution_count": 8,
      "metadata": {
        "id": "Jkkz_AraV3wD"
      },
      "outputs": [],
      "source": [
        "from tensorflow.keras.layers import Dense, GlobalAveragePooling2D\n",
        "from tensorflow.keras.models import Sequential\n",
        "from tensorflow.keras.optimizers import Adam\n",
        "from tensorflow.keras.applications.resnet import ResNet50\n",
        "from tensorflow.keras.preprocessing.image import ImageDataGenerator\n",
        "import numpy as np"
      ]
    },
    {
      "cell_type": "code",
      "source": [
        "def load_train(path):\n",
        "  datagen = ImageDataGenerator(rescale=1.0/255)\n",
        "  train_datagen_flow = datagen.flow_from_directory(path, target_size = (150, 150), class_mode='sparse', batch_size=16, seed=12345)\n",
        "  return train_datagen_flow"
      ],
      "metadata": {
        "id": "gHWhkAKTaqH1"
      },
      "execution_count": 12,
      "outputs": []
    },
    {
      "cell_type": "code",
      "source": [
        "def create_model(input_shape=(150,150,3)):\n",
        "  backbone = ResNet50(input_shape=input_shape, weights=\"imagenet\", include_top = False)\n",
        "  model = Sequential()\n",
        "  model.add(backbone)\n",
        "  model.add(GlobalAveragePooling2D())\n",
        "  model.add(Dense(12, activation=\"softmax\"))\n",
        "  #también funciona definiendo a Adam como optimizer y sgd\n",
        "  #optimizer = Adam(lr=0.0001)\n",
        "  model.compile(loss='sparse_categorical_crossentropy', optimizer=\"sgd\", metrics=['acc'])\n",
        "  return model"
      ],
      "metadata": {
        "id": "OoTUMi8oa24P"
      },
      "execution_count": 13,
      "outputs": []
    },
    {
      "cell_type": "code",
      "source": [
        "def train_model(model, train_data, test_data, batch_size=None, epochs=3, steps_per_epoch=None, validation_steps=None):\n",
        "  if steps_per_epoch is None:\n",
        "    steps_per_epoch = len(train_data)\n",
        "  if validation_steps is None:\n",
        "    validation_steps = len(test_data) \n",
        "  model.fit(train_data, validation_data=test_data, batch_size=batch_size, epochs=epochs, steps_per_epoch=steps_per_epoch, validation_steps=validation_steps, verbose=2)\n",
        "  return model"
      ],
      "metadata": {
        "id": "rNnZft1Gbr7X"
      },
      "execution_count": 10,
      "outputs": []
    },
    {
      "cell_type": "code",
      "source": [],
      "metadata": {
        "id": "9K7CcIaLk7-z"
      },
      "execution_count": null,
      "outputs": []
    }
  ]
}