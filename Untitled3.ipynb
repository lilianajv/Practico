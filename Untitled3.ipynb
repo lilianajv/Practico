{
  "nbformat": 4,
  "nbformat_minor": 0,
  "metadata": {
    "colab": {
      "provenance": [],
      "authorship_tag": "ABX9TyNwt2Rv47MV9BnVgkLHsf8P",
      "include_colab_link": true
    },
    "kernelspec": {
      "name": "python3",
      "display_name": "Python 3"
    },
    "language_info": {
      "name": "python"
    },
    "accelerator": "GPU",
    "gpuClass": "standard"
  },
  "cells": [
    {
      "cell_type": "markdown",
      "metadata": {
        "id": "view-in-github",
        "colab_type": "text"
      },
      "source": [
        "<a href=\"https://colab.research.google.com/github/lilianajv/Practico/blob/main/Untitled3.ipynb\" target=\"_parent\"><img src=\"https://colab.research.google.com/assets/colab-badge.svg\" alt=\"Open In Colab\"/></a>"
      ]
    },
    {
      "cell_type": "code",
      "source": [
        "from tensorflow.keras.datasets import fashion_mnist\n",
        "from tensorflow.keras.layers import Dense, Conv2D, Flatten, AveragePooling2D\n",
        "from tensorflow.keras.models import Sequential\n",
        "from tensorflow.keras.optimizers import Adam\n",
        "import numpy as np"
      ],
      "metadata": {
        "id": "UNtGGLEoL3-0"
      },
      "execution_count": 1,
      "outputs": []
    },
    {
      "cell_type": "code",
      "source": [
        "def load_train(path):\n",
        "  features_train = np.load(path + \"train_features.npy\")\n",
        "  target_train = np.load(path + \"train_target.npy\")\n",
        "  features_train = features_train.reshape(-1, 28, 28, 1) / 255.0\n",
        "  #features_test = features_test.reshape(-1, 28, 28, 1) / 255.0\n",
        "\n",
        "  #features_train = (features_train.reshape(features_train.shape[0],28,28)/255)\n",
        "  return features_train, target_train"
      ],
      "metadata": {
        "id": "5omIVqwqMEiN"
      },
      "execution_count": 2,
      "outputs": []
    },
    {
      "cell_type": "code",
      "source": [
        "def create_model(input_shape):\n",
        "  model = Sequential()\n",
        "  model.add(Conv2D(4, kernel_size=(3,3), input_shape=input_shape, padding=\"same\", activation=\"relu\"))\n",
        "  model.add(AveragePooling2D(pool_size=(2,2)))\n",
        "  model.add(Conv2D(8, (3,3), activation=\"relu\", padding=\"valid\"))\n",
        "  model.add(AveragePooling2D(pool_size=(2,2)))\n",
        "  model.add(Flatten())\n",
        "  model.add(Dense(50, activation=\"relu\"))\n",
        "  model.add(Dense(45, activation=\"relu\"))\n",
        "  model.add(Dense(10, activation=\"softmax\"))\n",
        "  model.compile(loss=\"sparse_categorical_crossentropy\", optimizer=\"adam\", metrics=[\"acc\"])\n",
        "  return model"
      ],
      "metadata": {
        "id": "taLc5oVQOPfU"
      },
      "execution_count": 3,
      "outputs": []
    },
    {
      "cell_type": "code",
      "source": [
        "def train_model(model, train, test, epochs=10, batch_size=32, steps_per_epoch=None, validation_steps=None ):\n",
        "  features_train, target_train = train\n",
        "  features_test, target_test = test\n",
        "  model.fit(features_train, target_train, validation_data = (features_test, target_test), epochs=epochs, batch_size=batch_size, steps_per_epoch=steps_per_epoch, verbose=2, validation_steps=validation_steps, shuffle=True)\n",
        "  \n",
        "  return model\n"
      ],
      "metadata": {
        "id": "Sg-vMuiiYOpe"
      },
      "execution_count": 4,
      "outputs": []
    },
    {
      "cell_type": "code",
      "source": [],
      "metadata": {
        "id": "q9RMNf76YOjP"
      },
      "execution_count": null,
      "outputs": []
    }
  ]
}