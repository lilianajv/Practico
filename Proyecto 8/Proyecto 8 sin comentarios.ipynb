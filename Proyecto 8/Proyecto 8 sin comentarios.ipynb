{
 "cells": [
  {
   "cell_type": "markdown",
   "metadata": {},
   "source": [
    "# Es Beta Bank la mejor opción del mercado?"
   ]
  },
  {
   "cell_type": "markdown",
   "metadata": {},
   "source": [
    "# Contents \n",
    "\n",
    "* [Introducción](#introduccion)\n",
    "* [1. Inicialización](#inicializacion)\n",
    "    * [1.1 Revisión de datos ausentes y duplicados](#ausentes)\n",
    "    * [1.2 Revisión general de datos](#datos)\n",
    "    * [1.3 Etiquetado de datos](#etiquetado) \n",
    "    * [1.4 Escalado de datos](#escalado)   \n",
    "* [2. Definición de Features y Target](#features)\n",
    "* [3. Segmentación de datos](#segmentacion)\n",
    "    * [3.1 Balanceo de clases](#balanceo)\n",
    "* [4. Modelos](#modelos)\n",
    "    * [4.1 Modelo Decision Tree Classifier](#dtc)\n",
    "    * [4.2 Modelo Random Forest Classifier](#rfc)\n",
    "    * [4.3 Modelo Logistic Regression](#lr)\n",
    "* [5. Balanceo de clases](#clases) \n",
    "    * [5.1 Ajuste por clases](#ajuste)\n",
    "    * [5.2 Sobremuestreo](#upsampled)\n",
    "    * [5.3 Submuestreo](#downsampled)\n",
    "    * [5.4 Comparación de modelos](#comparativo)    \n",
    "* [6. Evaluación del Modelo](#evaluacion)\n",
    "* [7. AUC-ROC](#AUC)\n",
    "    * [7.1 Curva AUC-ROC](#curva)\n",
    "* [8. Conclusiones](#Conclusiones)"
   ]
  },
  {
   "cell_type": "markdown",
   "metadata": {},
   "source": [
    "<div id=\"introduccion\"/>\n",
    "\n",
    "# Introducción\n",
    "\n",
    "Beta Bank está investigando que tan probable es que sus actuales clientes continuen abandonando el banco, para ello solicitó la creación de un modelo que pueda predecir que tan probable es que esto suceda."
   ]
  },
  {
   "cell_type": "markdown",
   "metadata": {},
   "source": [
    "<div id=\"inicializacion\"/>\n",
    "\n",
    "## Inicialización"
   ]
  },
  {
   "cell_type": "code",
   "execution_count": 90,
   "metadata": {},
   "outputs": [],
   "source": [
    "#Librerias\n",
    "import pandas as pd\n",
    "import matplotlib.pyplot as plt\n",
    "import re\n",
    "from sklearn.model_selection import train_test_split\n",
    "from sklearn.ensemble import RandomForestClassifier\n",
    "from sklearn.ensemble import RandomForestRegressor\n",
    "from sklearn.linear_model import LogisticRegression\n",
    "from sklearn.tree import DecisionTreeClassifier\n",
    "from joblib import dump\n",
    "from sklearn.utils import shuffle\n",
    "from sklearn.preprocessing import StandardScaler\n",
    "from sklearn.metrics import f1_score, roc_auc_score, recall_score, accuracy_score, roc_curve\n",
    "from sklearn.metrics import confusion_matrix\n",
    "from sklearn.dummy import DummyClassifier\n",
    "import warnings\n",
    "warnings.filterwarnings('ignore')"
   ]
  },
  {
   "cell_type": "code",
   "execution_count": 2,
   "metadata": {},
   "outputs": [],
   "source": [
    "#carga de los datos\n",
    "data = pd.read_csv(\"/datasets/Churn.csv\")"
   ]
  },
  {
   "cell_type": "code",
   "execution_count": 3,
   "metadata": {},
   "outputs": [
    {
     "name": "stdout",
     "output_type": "stream",
     "text": [
      "<class 'pandas.core.frame.DataFrame'>\n",
      "RangeIndex: 10000 entries, 0 to 9999\n",
      "Data columns (total 14 columns):\n",
      " #   Column           Non-Null Count  Dtype  \n",
      "---  ------           --------------  -----  \n",
      " 0   RowNumber        10000 non-null  int64  \n",
      " 1   CustomerId       10000 non-null  int64  \n",
      " 2   Surname          10000 non-null  object \n",
      " 3   CreditScore      10000 non-null  int64  \n",
      " 4   Geography        10000 non-null  object \n",
      " 5   Gender           10000 non-null  object \n",
      " 6   Age              10000 non-null  int64  \n",
      " 7   Tenure           9091 non-null   float64\n",
      " 8   Balance          10000 non-null  float64\n",
      " 9   NumOfProducts    10000 non-null  int64  \n",
      " 10  HasCrCard        10000 non-null  int64  \n",
      " 11  IsActiveMember   10000 non-null  int64  \n",
      " 12  EstimatedSalary  10000 non-null  float64\n",
      " 13  Exited           10000 non-null  int64  \n",
      "dtypes: float64(3), int64(8), object(3)\n",
      "memory usage: 1.1+ MB\n"
     ]
    }
   ],
   "source": [
    "#información de los datos\n",
    "data.info()"
   ]
  },
  {
   "cell_type": "code",
   "execution_count": 4,
   "metadata": {},
   "outputs": [
    {
     "data": {
      "text/html": [
       "<div>\n",
       "<style scoped>\n",
       "    .dataframe tbody tr th:only-of-type {\n",
       "        vertical-align: middle;\n",
       "    }\n",
       "\n",
       "    .dataframe tbody tr th {\n",
       "        vertical-align: top;\n",
       "    }\n",
       "\n",
       "    .dataframe thead th {\n",
       "        text-align: right;\n",
       "    }\n",
       "</style>\n",
       "<table border=\"1\" class=\"dataframe\">\n",
       "  <thead>\n",
       "    <tr style=\"text-align: right;\">\n",
       "      <th></th>\n",
       "      <th>RowNumber</th>\n",
       "      <th>CustomerId</th>\n",
       "      <th>Surname</th>\n",
       "      <th>CreditScore</th>\n",
       "      <th>Geography</th>\n",
       "      <th>Gender</th>\n",
       "      <th>Age</th>\n",
       "      <th>Tenure</th>\n",
       "      <th>Balance</th>\n",
       "      <th>NumOfProducts</th>\n",
       "      <th>HasCrCard</th>\n",
       "      <th>IsActiveMember</th>\n",
       "      <th>EstimatedSalary</th>\n",
       "      <th>Exited</th>\n",
       "    </tr>\n",
       "  </thead>\n",
       "  <tbody>\n",
       "    <tr>\n",
       "      <th>0</th>\n",
       "      <td>1</td>\n",
       "      <td>15634602</td>\n",
       "      <td>Hargrave</td>\n",
       "      <td>619</td>\n",
       "      <td>France</td>\n",
       "      <td>Female</td>\n",
       "      <td>42</td>\n",
       "      <td>2.0</td>\n",
       "      <td>0.00</td>\n",
       "      <td>1</td>\n",
       "      <td>1</td>\n",
       "      <td>1</td>\n",
       "      <td>101348.88</td>\n",
       "      <td>1</td>\n",
       "    </tr>\n",
       "    <tr>\n",
       "      <th>1</th>\n",
       "      <td>2</td>\n",
       "      <td>15647311</td>\n",
       "      <td>Hill</td>\n",
       "      <td>608</td>\n",
       "      <td>Spain</td>\n",
       "      <td>Female</td>\n",
       "      <td>41</td>\n",
       "      <td>1.0</td>\n",
       "      <td>83807.86</td>\n",
       "      <td>1</td>\n",
       "      <td>0</td>\n",
       "      <td>1</td>\n",
       "      <td>112542.58</td>\n",
       "      <td>0</td>\n",
       "    </tr>\n",
       "    <tr>\n",
       "      <th>2</th>\n",
       "      <td>3</td>\n",
       "      <td>15619304</td>\n",
       "      <td>Onio</td>\n",
       "      <td>502</td>\n",
       "      <td>France</td>\n",
       "      <td>Female</td>\n",
       "      <td>42</td>\n",
       "      <td>8.0</td>\n",
       "      <td>159660.80</td>\n",
       "      <td>3</td>\n",
       "      <td>1</td>\n",
       "      <td>0</td>\n",
       "      <td>113931.57</td>\n",
       "      <td>1</td>\n",
       "    </tr>\n",
       "    <tr>\n",
       "      <th>3</th>\n",
       "      <td>4</td>\n",
       "      <td>15701354</td>\n",
       "      <td>Boni</td>\n",
       "      <td>699</td>\n",
       "      <td>France</td>\n",
       "      <td>Female</td>\n",
       "      <td>39</td>\n",
       "      <td>1.0</td>\n",
       "      <td>0.00</td>\n",
       "      <td>2</td>\n",
       "      <td>0</td>\n",
       "      <td>0</td>\n",
       "      <td>93826.63</td>\n",
       "      <td>0</td>\n",
       "    </tr>\n",
       "    <tr>\n",
       "      <th>4</th>\n",
       "      <td>5</td>\n",
       "      <td>15737888</td>\n",
       "      <td>Mitchell</td>\n",
       "      <td>850</td>\n",
       "      <td>Spain</td>\n",
       "      <td>Female</td>\n",
       "      <td>43</td>\n",
       "      <td>2.0</td>\n",
       "      <td>125510.82</td>\n",
       "      <td>1</td>\n",
       "      <td>1</td>\n",
       "      <td>1</td>\n",
       "      <td>79084.10</td>\n",
       "      <td>0</td>\n",
       "    </tr>\n",
       "  </tbody>\n",
       "</table>\n",
       "</div>"
      ],
      "text/plain": [
       "   RowNumber  CustomerId   Surname  CreditScore Geography  Gender  Age  \\\n",
       "0          1    15634602  Hargrave          619    France  Female   42   \n",
       "1          2    15647311      Hill          608     Spain  Female   41   \n",
       "2          3    15619304      Onio          502    France  Female   42   \n",
       "3          4    15701354      Boni          699    France  Female   39   \n",
       "4          5    15737888  Mitchell          850     Spain  Female   43   \n",
       "\n",
       "   Tenure    Balance  NumOfProducts  HasCrCard  IsActiveMember  \\\n",
       "0     2.0       0.00              1          1               1   \n",
       "1     1.0   83807.86              1          0               1   \n",
       "2     8.0  159660.80              3          1               0   \n",
       "3     1.0       0.00              2          0               0   \n",
       "4     2.0  125510.82              1          1               1   \n",
       "\n",
       "   EstimatedSalary  Exited  \n",
       "0        101348.88       1  \n",
       "1        112542.58       0  \n",
       "2        113931.57       1  \n",
       "3         93826.63       0  \n",
       "4         79084.10       0  "
      ]
     },
     "execution_count": 4,
     "metadata": {},
     "output_type": "execute_result"
    }
   ],
   "source": [
    "data.head()"
   ]
  },
  {
   "cell_type": "markdown",
   "metadata": {},
   "source": [
    "De acuerdo a la información suministrada, el DataFrame consta de 14 columnas y 10000 registros, se observa que los nombres de las columnas están en mayúsculas y sin separadores, por lo que se procederá a cambiar todas a minúsculas y con separadores."
   ]
  },
  {
   "cell_type": "code",
   "execution_count": 5,
   "metadata": {},
   "outputs": [],
   "source": [
    "#cambio a minúsculas y uso de '-'\n",
    "columns = []\n",
    "for name in data.columns.values:\n",
    "    name = re.sub(\"([A-Z])\", r' \\1', name).lower().replace(' ', '_')[1:]\n",
    "    columns.append(name)\n",
    "    \n",
    "data.columns = columns"
   ]
  },
  {
   "cell_type": "code",
   "execution_count": 6,
   "metadata": {},
   "outputs": [
    {
     "data": {
      "text/html": [
       "<div>\n",
       "<style scoped>\n",
       "    .dataframe tbody tr th:only-of-type {\n",
       "        vertical-align: middle;\n",
       "    }\n",
       "\n",
       "    .dataframe tbody tr th {\n",
       "        vertical-align: top;\n",
       "    }\n",
       "\n",
       "    .dataframe thead th {\n",
       "        text-align: right;\n",
       "    }\n",
       "</style>\n",
       "<table border=\"1\" class=\"dataframe\">\n",
       "  <thead>\n",
       "    <tr style=\"text-align: right;\">\n",
       "      <th></th>\n",
       "      <th>row_number</th>\n",
       "      <th>customer_id</th>\n",
       "      <th>surname</th>\n",
       "      <th>credit_score</th>\n",
       "      <th>geography</th>\n",
       "      <th>gender</th>\n",
       "      <th>age</th>\n",
       "      <th>tenure</th>\n",
       "      <th>balance</th>\n",
       "      <th>num_of_products</th>\n",
       "      <th>has_cr_card</th>\n",
       "      <th>is_active_member</th>\n",
       "      <th>estimated_salary</th>\n",
       "      <th>exited</th>\n",
       "    </tr>\n",
       "  </thead>\n",
       "  <tbody>\n",
       "    <tr>\n",
       "      <th>0</th>\n",
       "      <td>1</td>\n",
       "      <td>15634602</td>\n",
       "      <td>Hargrave</td>\n",
       "      <td>619</td>\n",
       "      <td>France</td>\n",
       "      <td>Female</td>\n",
       "      <td>42</td>\n",
       "      <td>2.0</td>\n",
       "      <td>0.00</td>\n",
       "      <td>1</td>\n",
       "      <td>1</td>\n",
       "      <td>1</td>\n",
       "      <td>101348.88</td>\n",
       "      <td>1</td>\n",
       "    </tr>\n",
       "    <tr>\n",
       "      <th>1</th>\n",
       "      <td>2</td>\n",
       "      <td>15647311</td>\n",
       "      <td>Hill</td>\n",
       "      <td>608</td>\n",
       "      <td>Spain</td>\n",
       "      <td>Female</td>\n",
       "      <td>41</td>\n",
       "      <td>1.0</td>\n",
       "      <td>83807.86</td>\n",
       "      <td>1</td>\n",
       "      <td>0</td>\n",
       "      <td>1</td>\n",
       "      <td>112542.58</td>\n",
       "      <td>0</td>\n",
       "    </tr>\n",
       "    <tr>\n",
       "      <th>2</th>\n",
       "      <td>3</td>\n",
       "      <td>15619304</td>\n",
       "      <td>Onio</td>\n",
       "      <td>502</td>\n",
       "      <td>France</td>\n",
       "      <td>Female</td>\n",
       "      <td>42</td>\n",
       "      <td>8.0</td>\n",
       "      <td>159660.80</td>\n",
       "      <td>3</td>\n",
       "      <td>1</td>\n",
       "      <td>0</td>\n",
       "      <td>113931.57</td>\n",
       "      <td>1</td>\n",
       "    </tr>\n",
       "    <tr>\n",
       "      <th>3</th>\n",
       "      <td>4</td>\n",
       "      <td>15701354</td>\n",
       "      <td>Boni</td>\n",
       "      <td>699</td>\n",
       "      <td>France</td>\n",
       "      <td>Female</td>\n",
       "      <td>39</td>\n",
       "      <td>1.0</td>\n",
       "      <td>0.00</td>\n",
       "      <td>2</td>\n",
       "      <td>0</td>\n",
       "      <td>0</td>\n",
       "      <td>93826.63</td>\n",
       "      <td>0</td>\n",
       "    </tr>\n",
       "    <tr>\n",
       "      <th>4</th>\n",
       "      <td>5</td>\n",
       "      <td>15737888</td>\n",
       "      <td>Mitchell</td>\n",
       "      <td>850</td>\n",
       "      <td>Spain</td>\n",
       "      <td>Female</td>\n",
       "      <td>43</td>\n",
       "      <td>2.0</td>\n",
       "      <td>125510.82</td>\n",
       "      <td>1</td>\n",
       "      <td>1</td>\n",
       "      <td>1</td>\n",
       "      <td>79084.10</td>\n",
       "      <td>0</td>\n",
       "    </tr>\n",
       "  </tbody>\n",
       "</table>\n",
       "</div>"
      ],
      "text/plain": [
       "   row_number  customer_id   surname  credit_score geography  gender  age  \\\n",
       "0           1     15634602  Hargrave           619    France  Female   42   \n",
       "1           2     15647311      Hill           608     Spain  Female   41   \n",
       "2           3     15619304      Onio           502    France  Female   42   \n",
       "3           4     15701354      Boni           699    France  Female   39   \n",
       "4           5     15737888  Mitchell           850     Spain  Female   43   \n",
       "\n",
       "   tenure    balance  num_of_products  has_cr_card  is_active_member  \\\n",
       "0     2.0       0.00                1            1                 1   \n",
       "1     1.0   83807.86                1            0                 1   \n",
       "2     8.0  159660.80                3            1                 0   \n",
       "3     1.0       0.00                2            0                 0   \n",
       "4     2.0  125510.82                1            1                 1   \n",
       "\n",
       "   estimated_salary  exited  \n",
       "0         101348.88       1  \n",
       "1         112542.58       0  \n",
       "2         113931.57       1  \n",
       "3          93826.63       0  \n",
       "4          79084.10       0  "
      ]
     },
     "execution_count": 6,
     "metadata": {},
     "output_type": "execute_result"
    }
   ],
   "source": [
    "data.head()"
   ]
  },
  {
   "cell_type": "markdown",
   "metadata": {},
   "source": [
    "<div id=\"ausentes\"/>\n",
    "\n",
    "### Revisión de datos ausentes y duplicados"
   ]
  },
  {
   "cell_type": "code",
   "execution_count": 7,
   "metadata": {},
   "outputs": [
    {
     "data": {
      "text/plain": [
       "row_number            0\n",
       "customer_id           0\n",
       "surname               0\n",
       "credit_score          0\n",
       "geography             0\n",
       "gender                0\n",
       "age                   0\n",
       "tenure              909\n",
       "balance               0\n",
       "num_of_products       0\n",
       "has_cr_card           0\n",
       "is_active_member      0\n",
       "estimated_salary      0\n",
       "exited                0\n",
       "dtype: int64"
      ]
     },
     "execution_count": 7,
     "metadata": {},
     "output_type": "execute_result"
    }
   ],
   "source": [
    "#ausentes\n",
    "data.isna().sum()"
   ]
  },
  {
   "cell_type": "markdown",
   "metadata": {},
   "source": [
    "La columna \"tenure\" tiene 909 datos nulos. No hay datos nulos en el resto de las columnas."
   ]
  },
  {
   "cell_type": "code",
   "execution_count": 8,
   "metadata": {},
   "outputs": [
    {
     "data": {
      "text/plain": [
       "<AxesSubplot:>"
      ]
     },
     "execution_count": 8,
     "metadata": {},
     "output_type": "execute_result"
    },
    {
     "data": {
      "image/png": "[encoded data removed]",
      "text/plain": [
       "<Figure size 432x288 with 1 Axes>"
      ]
     },
     "metadata": {
      "needs_background": "light"
     },
     "output_type": "display_data"
    }
   ],
   "source": [
    "data[\"tenure\"].hist()"
   ]
  },
  {
   "cell_type": "code",
   "execution_count": 9,
   "metadata": {},
   "outputs": [
    {
     "data": {
      "text/plain": [
       "count    9091.000000\n",
       "mean        4.997690\n",
       "std         2.894723\n",
       "min         0.000000\n",
       "25%         2.000000\n",
       "50%         5.000000\n",
       "75%         7.000000\n",
       "max        10.000000\n",
       "Name: tenure, dtype: float64"
      ]
     },
     "execution_count": 9,
     "metadata": {},
     "output_type": "execute_result"
    }
   ],
   "source": [
    "data[\"tenure\"].describe()"
   ]
  },
  {
   "cell_type": "markdown",
   "metadata": {},
   "source": [
    "Se observa una distribución bastante uniforme, a excepción de los valores extremos en 0 y 10. Es posible que los valores nulos en esta columna se deban a que los clientes no cuentan con este rubro, por lo que se procederá a imputar con la mediana, que es practicamente igual a la media."
   ]
  },
  {
   "cell_type": "code",
   "execution_count": 10,
   "metadata": {},
   "outputs": [
    {
     "data": {
      "text/plain": [
       "5.0"
      ]
     },
     "execution_count": 10,
     "metadata": {},
     "output_type": "execute_result"
    }
   ],
   "source": [
    "median_tenure = data[\"tenure\"].median()\n",
    "median_tenure"
   ]
  },
  {
   "cell_type": "code",
   "execution_count": 11,
   "metadata": {},
   "outputs": [],
   "source": [
    "#imputación de datos ausentes\n",
    "data[\"tenure\"]= data[\"tenure\"].fillna(median_tenure)\n",
    "data[\"tenure\"] = data[\"tenure\"].astype(int)"
   ]
  },
  {
   "cell_type": "code",
   "execution_count": 12,
   "metadata": {},
   "outputs": [
    {
     "data": {
      "text/plain": [
       "row_number          0\n",
       "customer_id         0\n",
       "surname             0\n",
       "credit_score        0\n",
       "geography           0\n",
       "gender              0\n",
       "age                 0\n",
       "tenure              0\n",
       "balance             0\n",
       "num_of_products     0\n",
       "has_cr_card         0\n",
       "is_active_member    0\n",
       "estimated_salary    0\n",
       "exited              0\n",
       "dtype: int64"
      ]
     },
     "execution_count": 12,
     "metadata": {},
     "output_type": "execute_result"
    }
   ],
   "source": [
    "data.isna().sum()"
   ]
  },
  {
   "cell_type": "code",
   "execution_count": 13,
   "metadata": {},
   "outputs": [
    {
     "data": {
      "text/plain": [
       "0"
      ]
     },
     "execution_count": 13,
     "metadata": {},
     "output_type": "execute_result"
    }
   ],
   "source": [
    "#revisión de duplicados\n",
    "data.duplicated().sum()"
   ]
  },
  {
   "cell_type": "markdown",
   "metadata": {},
   "source": [
    "<div id=\"datos\"/>\n",
    "\n",
    "### Revisión general de datos"
   ]
  },
  {
   "cell_type": "code",
   "execution_count": 14,
   "metadata": {},
   "outputs": [
    {
     "data": {
      "text/html": [
       "<div>\n",
       "<style scoped>\n",
       "    .dataframe tbody tr th:only-of-type {\n",
       "        vertical-align: middle;\n",
       "    }\n",
       "\n",
       "    .dataframe tbody tr th {\n",
       "        vertical-align: top;\n",
       "    }\n",
       "\n",
       "    .dataframe thead th {\n",
       "        text-align: right;\n",
       "    }\n",
       "</style>\n",
       "<table border=\"1\" class=\"dataframe\">\n",
       "  <thead>\n",
       "    <tr style=\"text-align: right;\">\n",
       "      <th></th>\n",
       "      <th>row_number</th>\n",
       "      <th>customer_id</th>\n",
       "      <th>credit_score</th>\n",
       "      <th>age</th>\n",
       "      <th>tenure</th>\n",
       "      <th>balance</th>\n",
       "      <th>num_of_products</th>\n",
       "      <th>has_cr_card</th>\n",
       "      <th>is_active_member</th>\n",
       "      <th>estimated_salary</th>\n",
       "      <th>exited</th>\n",
       "    </tr>\n",
       "  </thead>\n",
       "  <tbody>\n",
       "    <tr>\n",
       "      <th>count</th>\n",
       "      <td>10000.00000</td>\n",
       "      <td>1.000000e+04</td>\n",
       "      <td>10000.000000</td>\n",
       "      <td>10000.000000</td>\n",
       "      <td>10000.00000</td>\n",
       "      <td>10000.000000</td>\n",
       "      <td>10000.000000</td>\n",
       "      <td>10000.00000</td>\n",
       "      <td>10000.000000</td>\n",
       "      <td>10000.000000</td>\n",
       "      <td>10000.000000</td>\n",
       "    </tr>\n",
       "    <tr>\n",
       "      <th>mean</th>\n",
       "      <td>5000.50000</td>\n",
       "      <td>1.569094e+07</td>\n",
       "      <td>650.528800</td>\n",
       "      <td>38.921800</td>\n",
       "      <td>4.99790</td>\n",
       "      <td>76485.889288</td>\n",
       "      <td>1.530200</td>\n",
       "      <td>0.70550</td>\n",
       "      <td>0.515100</td>\n",
       "      <td>100090.239881</td>\n",
       "      <td>0.203700</td>\n",
       "    </tr>\n",
       "    <tr>\n",
       "      <th>std</th>\n",
       "      <td>2886.89568</td>\n",
       "      <td>7.193619e+04</td>\n",
       "      <td>96.653299</td>\n",
       "      <td>10.487806</td>\n",
       "      <td>2.76001</td>\n",
       "      <td>62397.405202</td>\n",
       "      <td>0.581654</td>\n",
       "      <td>0.45584</td>\n",
       "      <td>0.499797</td>\n",
       "      <td>57510.492818</td>\n",
       "      <td>0.402769</td>\n",
       "    </tr>\n",
       "    <tr>\n",
       "      <th>min</th>\n",
       "      <td>1.00000</td>\n",
       "      <td>1.556570e+07</td>\n",
       "      <td>350.000000</td>\n",
       "      <td>18.000000</td>\n",
       "      <td>0.00000</td>\n",
       "      <td>0.000000</td>\n",
       "      <td>1.000000</td>\n",
       "      <td>0.00000</td>\n",
       "      <td>0.000000</td>\n",
       "      <td>11.580000</td>\n",
       "      <td>0.000000</td>\n",
       "    </tr>\n",
       "    <tr>\n",
       "      <th>25%</th>\n",
       "      <td>2500.75000</td>\n",
       "      <td>1.562853e+07</td>\n",
       "      <td>584.000000</td>\n",
       "      <td>32.000000</td>\n",
       "      <td>3.00000</td>\n",
       "      <td>0.000000</td>\n",
       "      <td>1.000000</td>\n",
       "      <td>0.00000</td>\n",
       "      <td>0.000000</td>\n",
       "      <td>51002.110000</td>\n",
       "      <td>0.000000</td>\n",
       "    </tr>\n",
       "    <tr>\n",
       "      <th>50%</th>\n",
       "      <td>5000.50000</td>\n",
       "      <td>1.569074e+07</td>\n",
       "      <td>652.000000</td>\n",
       "      <td>37.000000</td>\n",
       "      <td>5.00000</td>\n",
       "      <td>97198.540000</td>\n",
       "      <td>1.000000</td>\n",
       "      <td>1.00000</td>\n",
       "      <td>1.000000</td>\n",
       "      <td>100193.915000</td>\n",
       "      <td>0.000000</td>\n",
       "    </tr>\n",
       "    <tr>\n",
       "      <th>75%</th>\n",
       "      <td>7500.25000</td>\n",
       "      <td>1.575323e+07</td>\n",
       "      <td>718.000000</td>\n",
       "      <td>44.000000</td>\n",
       "      <td>7.00000</td>\n",
       "      <td>127644.240000</td>\n",
       "      <td>2.000000</td>\n",
       "      <td>1.00000</td>\n",
       "      <td>1.000000</td>\n",
       "      <td>149388.247500</td>\n",
       "      <td>0.000000</td>\n",
       "    </tr>\n",
       "    <tr>\n",
       "      <th>max</th>\n",
       "      <td>10000.00000</td>\n",
       "      <td>1.581569e+07</td>\n",
       "      <td>850.000000</td>\n",
       "      <td>92.000000</td>\n",
       "      <td>10.00000</td>\n",
       "      <td>250898.090000</td>\n",
       "      <td>4.000000</td>\n",
       "      <td>1.00000</td>\n",
       "      <td>1.000000</td>\n",
       "      <td>199992.480000</td>\n",
       "      <td>1.000000</td>\n",
       "    </tr>\n",
       "  </tbody>\n",
       "</table>\n",
       "</div>"
      ],
      "text/plain": [
       "        row_number   customer_id  credit_score           age       tenure  \\\n",
       "count  10000.00000  1.000000e+04  10000.000000  10000.000000  10000.00000   \n",
       "mean    5000.50000  1.569094e+07    650.528800     38.921800      4.99790   \n",
       "std     2886.89568  7.193619e+04     96.653299     10.487806      2.76001   \n",
       "min        1.00000  1.556570e+07    350.000000     18.000000      0.00000   \n",
       "25%     2500.75000  1.562853e+07    584.000000     32.000000      3.00000   \n",
       "50%     5000.50000  1.569074e+07    652.000000     37.000000      5.00000   \n",
       "75%     7500.25000  1.575323e+07    718.000000     44.000000      7.00000   \n",
       "max    10000.00000  1.581569e+07    850.000000     92.000000     10.00000   \n",
       "\n",
       "             balance  num_of_products  has_cr_card  is_active_member  \\\n",
       "count   10000.000000     10000.000000  10000.00000      10000.000000   \n",
       "mean    76485.889288         1.530200      0.70550          0.515100   \n",
       "std     62397.405202         0.581654      0.45584          0.499797   \n",
       "min         0.000000         1.000000      0.00000          0.000000   \n",
       "25%         0.000000         1.000000      0.00000          0.000000   \n",
       "50%     97198.540000         1.000000      1.00000          1.000000   \n",
       "75%    127644.240000         2.000000      1.00000          1.000000   \n",
       "max    250898.090000         4.000000      1.00000          1.000000   \n",
       "\n",
       "       estimated_salary        exited  \n",
       "count      10000.000000  10000.000000  \n",
       "mean      100090.239881      0.203700  \n",
       "std        57510.492818      0.402769  \n",
       "min           11.580000      0.000000  \n",
       "25%        51002.110000      0.000000  \n",
       "50%       100193.915000      0.000000  \n",
       "75%       149388.247500      0.000000  \n",
       "max       199992.480000      1.000000  "
      ]
     },
     "execution_count": 14,
     "metadata": {},
     "output_type": "execute_result"
    }
   ],
   "source": [
    "data.describe()"
   ]
  },
  {
   "cell_type": "markdown",
   "metadata": {},
   "source": [
    "Se observa algunas características que tienen diferente escalas(\"balance\", \"credit_score\", \"estimated_salary\") que pueden afectar al modelo, por lo que a continuación las analizaremos en busca de alguna relación con la variable objetivo, la cual también será analizada. "
   ]
  },
  {
   "cell_type": "code",
   "execution_count": 15,
   "metadata": {},
   "outputs": [
    {
     "data": {
      "text/plain": [
       "<AxesSubplot:>"
      ]
     },
     "execution_count": 15,
     "metadata": {},
     "output_type": "execute_result"
    },
    {
     "data": {
      "image/png": "[encoded data removed]",
      "text/plain": [
       "<Figure size 720x360 with 1 Axes>"
      ]
     },
     "metadata": {
      "needs_background": "light"
     },
     "output_type": "display_data"
    }
   ],
   "source": [
    "#histograma de la variable objetivo\n",
    "data[\"exited\"].hist(bins=10, figsize=(10,5))"
   ]
  },
  {
   "cell_type": "code",
   "execution_count": 16,
   "metadata": {},
   "outputs": [
    {
     "data": {
      "text/plain": [
       "0    0.7963\n",
       "1    0.2037\n",
       "Name: exited, dtype: float64"
      ]
     },
     "execution_count": 16,
     "metadata": {},
     "output_type": "execute_result"
    }
   ],
   "source": [
    "data[\"exited\"].value_counts(normalize=True)"
   ]
  },
  {
   "cell_type": "markdown",
   "metadata": {},
   "source": [
    "De acuerdo a este gráfico la proporción de clientes que no se han ido(0) tripicla la cantidad de clientes que si se han cambiado de banco(1), por lo que se espera que el modelo, como punto de partida, tenga una exactitud mayor al 79%. Adicionalmente se observa que existen 3 columnas que no impactarán en el modelo por ser claves únicas: \"row_number\", customer_id\" y \"surname\" por lo que pueden ser excluidas de las características. "
   ]
  },
  {
   "cell_type": "code",
   "execution_count": 17,
   "metadata": {},
   "outputs": [],
   "source": [
    "#eliminación de las columnas con código único\n",
    "data.drop([\"row_number\", \"customer_id\", \"surname\"], axis=1, inplace=True)"
   ]
  },
  {
   "cell_type": "code",
   "execution_count": 18,
   "metadata": {},
   "outputs": [
    {
     "data": {
      "text/plain": [
       "<AxesSubplot:>"
      ]
     },
     "execution_count": 18,
     "metadata": {},
     "output_type": "execute_result"
    },
    {
     "data": {
      "image/png": "[encoded data removed]",
      "text/plain": [
       "<Figure size 720x360 with 1 Axes>"
      ]
     },
     "metadata": {
      "needs_background": "light"
     },
     "output_type": "display_data"
    }
   ],
   "source": [
    "#revisión de la columna credit_score\n",
    "data[\"credit_score\"].hist(figsize=(10,5))"
   ]
  },
  {
   "cell_type": "code",
   "execution_count": 19,
   "metadata": {},
   "outputs": [
    {
     "data": {
      "text/plain": [
       "<AxesSubplot:>"
      ]
     },
     "execution_count": 19,
     "metadata": {},
     "output_type": "execute_result"
    },
    {
     "data": {
      "image/png": "[encoded data removed]",
      "text/plain": [
       "<Figure size 720x360 with 1 Axes>"
      ]
     },
     "metadata": {
      "needs_background": "light"
     },
     "output_type": "display_data"
    }
   ],
   "source": [
    "#revisión de la columna estomated_salary\n",
    "data[\"estimated_salary\"].hist(figsize=(10,5))"
   ]
  },
  {
   "cell_type": "code",
   "execution_count": 20,
   "metadata": {},
   "outputs": [
    {
     "data": {
      "text/plain": [
       "<AxesSubplot:>"
      ]
     },
     "execution_count": 20,
     "metadata": {},
     "output_type": "execute_result"
    },
    {
     "data": {
      "image/png": "[encoded data removed]",
      "text/plain": [
       "<Figure size 720x360 with 1 Axes>"
      ]
     },
     "metadata": {
      "needs_background": "light"
     },
     "output_type": "display_data"
    }
   ],
   "source": [
    "#revisión de la columna balance\n",
    "data[\"balance\"].hist(figsize=(10,5))"
   ]
  },
  {
   "cell_type": "markdown",
   "metadata": {},
   "source": [
    "De esos 3 histogramas se observa:\n",
    "1. La característica \"credit_score\" se asemeja a una distribución normal con una media y mediana alrededor de los 650.\n",
    "2. La caracterítica \"salary\" tiene un comportamiento uniforme.\n",
    "3. La característica \"balance\", a excepción del pico en 0 muestra una distribución similar a una normal. Se podría pensar que los altos valores en \"0\" para el balance se debe a los clientes que se fueron del banco, es decir, a los que tienen el valor de 1 en el target."
   ]
  },
  {
   "cell_type": "code",
   "execution_count": 21,
   "metadata": {},
   "outputs": [
    {
     "data": {
      "text/html": [
       "<div>\n",
       "<style scoped>\n",
       "    .dataframe tbody tr th:only-of-type {\n",
       "        vertical-align: middle;\n",
       "    }\n",
       "\n",
       "    .dataframe tbody tr th {\n",
       "        vertical-align: top;\n",
       "    }\n",
       "\n",
       "    .dataframe thead th {\n",
       "        text-align: right;\n",
       "    }\n",
       "</style>\n",
       "<table border=\"1\" class=\"dataframe\">\n",
       "  <thead>\n",
       "    <tr style=\"text-align: right;\">\n",
       "      <th></th>\n",
       "      <th>credit_score</th>\n",
       "      <th>geography</th>\n",
       "      <th>gender</th>\n",
       "      <th>age</th>\n",
       "      <th>tenure</th>\n",
       "      <th>balance</th>\n",
       "      <th>num_of_products</th>\n",
       "      <th>has_cr_card</th>\n",
       "      <th>is_active_member</th>\n",
       "      <th>estimated_salary</th>\n",
       "      <th>exited</th>\n",
       "    </tr>\n",
       "  </thead>\n",
       "  <tbody>\n",
       "    <tr>\n",
       "      <th>0</th>\n",
       "      <td>619</td>\n",
       "      <td>France</td>\n",
       "      <td>Female</td>\n",
       "      <td>42</td>\n",
       "      <td>2</td>\n",
       "      <td>0.0</td>\n",
       "      <td>1</td>\n",
       "      <td>1</td>\n",
       "      <td>1</td>\n",
       "      <td>101348.88</td>\n",
       "      <td>1</td>\n",
       "    </tr>\n",
       "    <tr>\n",
       "      <th>22</th>\n",
       "      <td>510</td>\n",
       "      <td>Spain</td>\n",
       "      <td>Female</td>\n",
       "      <td>38</td>\n",
       "      <td>4</td>\n",
       "      <td>0.0</td>\n",
       "      <td>1</td>\n",
       "      <td>1</td>\n",
       "      <td>0</td>\n",
       "      <td>118913.53</td>\n",
       "      <td>1</td>\n",
       "    </tr>\n",
       "    <tr>\n",
       "      <th>30</th>\n",
       "      <td>591</td>\n",
       "      <td>Spain</td>\n",
       "      <td>Female</td>\n",
       "      <td>39</td>\n",
       "      <td>5</td>\n",
       "      <td>0.0</td>\n",
       "      <td>3</td>\n",
       "      <td>1</td>\n",
       "      <td>0</td>\n",
       "      <td>140469.38</td>\n",
       "      <td>1</td>\n",
       "    </tr>\n",
       "    <tr>\n",
       "      <th>58</th>\n",
       "      <td>511</td>\n",
       "      <td>Spain</td>\n",
       "      <td>Female</td>\n",
       "      <td>66</td>\n",
       "      <td>4</td>\n",
       "      <td>0.0</td>\n",
       "      <td>1</td>\n",
       "      <td>1</td>\n",
       "      <td>0</td>\n",
       "      <td>1643.11</td>\n",
       "      <td>1</td>\n",
       "    </tr>\n",
       "    <tr>\n",
       "      <th>81</th>\n",
       "      <td>777</td>\n",
       "      <td>France</td>\n",
       "      <td>Female</td>\n",
       "      <td>32</td>\n",
       "      <td>2</td>\n",
       "      <td>0.0</td>\n",
       "      <td>1</td>\n",
       "      <td>1</td>\n",
       "      <td>0</td>\n",
       "      <td>136458.19</td>\n",
       "      <td>1</td>\n",
       "    </tr>\n",
       "    <tr>\n",
       "      <th>...</th>\n",
       "      <td>...</td>\n",
       "      <td>...</td>\n",
       "      <td>...</td>\n",
       "      <td>...</td>\n",
       "      <td>...</td>\n",
       "      <td>...</td>\n",
       "      <td>...</td>\n",
       "      <td>...</td>\n",
       "      <td>...</td>\n",
       "      <td>...</td>\n",
       "      <td>...</td>\n",
       "    </tr>\n",
       "    <tr>\n",
       "      <th>9784</th>\n",
       "      <td>527</td>\n",
       "      <td>France</td>\n",
       "      <td>Male</td>\n",
       "      <td>39</td>\n",
       "      <td>4</td>\n",
       "      <td>0.0</td>\n",
       "      <td>2</td>\n",
       "      <td>1</td>\n",
       "      <td>0</td>\n",
       "      <td>167183.07</td>\n",
       "      <td>1</td>\n",
       "    </tr>\n",
       "    <tr>\n",
       "      <th>9884</th>\n",
       "      <td>751</td>\n",
       "      <td>France</td>\n",
       "      <td>Female</td>\n",
       "      <td>48</td>\n",
       "      <td>4</td>\n",
       "      <td>0.0</td>\n",
       "      <td>1</td>\n",
       "      <td>0</td>\n",
       "      <td>1</td>\n",
       "      <td>30165.06</td>\n",
       "      <td>1</td>\n",
       "    </tr>\n",
       "    <tr>\n",
       "      <th>9898</th>\n",
       "      <td>589</td>\n",
       "      <td>France</td>\n",
       "      <td>Male</td>\n",
       "      <td>38</td>\n",
       "      <td>4</td>\n",
       "      <td>0.0</td>\n",
       "      <td>1</td>\n",
       "      <td>1</td>\n",
       "      <td>0</td>\n",
       "      <td>95483.48</td>\n",
       "      <td>1</td>\n",
       "    </tr>\n",
       "    <tr>\n",
       "      <th>9962</th>\n",
       "      <td>702</td>\n",
       "      <td>Spain</td>\n",
       "      <td>Male</td>\n",
       "      <td>44</td>\n",
       "      <td>9</td>\n",
       "      <td>0.0</td>\n",
       "      <td>1</td>\n",
       "      <td>0</td>\n",
       "      <td>0</td>\n",
       "      <td>59207.41</td>\n",
       "      <td>1</td>\n",
       "    </tr>\n",
       "    <tr>\n",
       "      <th>9997</th>\n",
       "      <td>709</td>\n",
       "      <td>France</td>\n",
       "      <td>Female</td>\n",
       "      <td>36</td>\n",
       "      <td>7</td>\n",
       "      <td>0.0</td>\n",
       "      <td>1</td>\n",
       "      <td>0</td>\n",
       "      <td>1</td>\n",
       "      <td>42085.58</td>\n",
       "      <td>1</td>\n",
       "    </tr>\n",
       "  </tbody>\n",
       "</table>\n",
       "<p>500 rows × 11 columns</p>\n",
       "</div>"
      ],
      "text/plain": [
       "      credit_score geography  gender  age  tenure  balance  num_of_products  \\\n",
       "0              619    France  Female   42       2      0.0                1   \n",
       "22             510     Spain  Female   38       4      0.0                1   \n",
       "30             591     Spain  Female   39       5      0.0                3   \n",
       "58             511     Spain  Female   66       4      0.0                1   \n",
       "81             777    France  Female   32       2      0.0                1   \n",
       "...            ...       ...     ...  ...     ...      ...              ...   \n",
       "9784           527    France    Male   39       4      0.0                2   \n",
       "9884           751    France  Female   48       4      0.0                1   \n",
       "9898           589    France    Male   38       4      0.0                1   \n",
       "9962           702     Spain    Male   44       9      0.0                1   \n",
       "9997           709    France  Female   36       7      0.0                1   \n",
       "\n",
       "      has_cr_card  is_active_member  estimated_salary  exited  \n",
       "0               1                 1         101348.88       1  \n",
       "22              1                 0         118913.53       1  \n",
       "30              1                 0         140469.38       1  \n",
       "58              1                 0           1643.11       1  \n",
       "81              1                 0         136458.19       1  \n",
       "...           ...               ...               ...     ...  \n",
       "9784            1                 0         167183.07       1  \n",
       "9884            0                 1          30165.06       1  \n",
       "9898            1                 0          95483.48       1  \n",
       "9962            0                 0          59207.41       1  \n",
       "9997            0                 1          42085.58       1  \n",
       "\n",
       "[500 rows x 11 columns]"
      ]
     },
     "execution_count": 21,
     "metadata": {},
     "output_type": "execute_result"
    }
   ],
   "source": [
    "#relación entre la columna target (1: se han ido) y balance igual a 0\n",
    "data.loc[(data[\"exited\"]==1) & (data[\"balance\"]==0)]"
   ]
  },
  {
   "cell_type": "code",
   "execution_count": 22,
   "metadata": {},
   "outputs": [
    {
     "data": {
      "text/plain": [
       "0.00         3617\n",
       "105473.74       2\n",
       "130170.82       2\n",
       "72594.00        1\n",
       "139723.90       1\n",
       "             ... \n",
       "130306.49       1\n",
       "92895.56        1\n",
       "132005.77       1\n",
       "166287.85       1\n",
       "104001.38       1\n",
       "Name: balance, Length: 6382, dtype: int64"
      ]
     },
     "execution_count": 22,
     "metadata": {},
     "output_type": "execute_result"
    }
   ],
   "source": [
    "data[\"balance\"].value_counts()"
   ]
  },
  {
   "cell_type": "markdown",
   "metadata": {},
   "source": [
    "Se observa que solo 500 registros de los 3617 (14%) clientes con balances \"0\" se fueron del banco, por lo que no se puede establecer claramente una relación, sin embargo, es un punto de partida para nuestro modelo."
   ]
  },
  {
   "cell_type": "code",
   "execution_count": 23,
   "metadata": {},
   "outputs": [
    {
     "data": {
      "text/html": [
       "<div>\n",
       "<style scoped>\n",
       "    .dataframe tbody tr th:only-of-type {\n",
       "        vertical-align: middle;\n",
       "    }\n",
       "\n",
       "    .dataframe tbody tr th {\n",
       "        vertical-align: top;\n",
       "    }\n",
       "\n",
       "    .dataframe thead th {\n",
       "        text-align: right;\n",
       "    }\n",
       "</style>\n",
       "<table border=\"1\" class=\"dataframe\">\n",
       "  <thead>\n",
       "    <tr style=\"text-align: right;\">\n",
       "      <th></th>\n",
       "      <th>credit_score</th>\n",
       "      <th>geography</th>\n",
       "      <th>gender</th>\n",
       "      <th>age</th>\n",
       "      <th>tenure</th>\n",
       "      <th>balance</th>\n",
       "      <th>num_of_products</th>\n",
       "      <th>has_cr_card</th>\n",
       "      <th>is_active_member</th>\n",
       "      <th>estimated_salary</th>\n",
       "      <th>exited</th>\n",
       "    </tr>\n",
       "  </thead>\n",
       "  <tbody>\n",
       "    <tr>\n",
       "      <th>2</th>\n",
       "      <td>502</td>\n",
       "      <td>France</td>\n",
       "      <td>Female</td>\n",
       "      <td>42</td>\n",
       "      <td>8</td>\n",
       "      <td>159660.80</td>\n",
       "      <td>3</td>\n",
       "      <td>1</td>\n",
       "      <td>0</td>\n",
       "      <td>113931.57</td>\n",
       "      <td>1</td>\n",
       "    </tr>\n",
       "    <tr>\n",
       "      <th>5</th>\n",
       "      <td>645</td>\n",
       "      <td>Spain</td>\n",
       "      <td>Male</td>\n",
       "      <td>44</td>\n",
       "      <td>8</td>\n",
       "      <td>113755.78</td>\n",
       "      <td>2</td>\n",
       "      <td>1</td>\n",
       "      <td>0</td>\n",
       "      <td>149756.71</td>\n",
       "      <td>1</td>\n",
       "    </tr>\n",
       "    <tr>\n",
       "      <th>7</th>\n",
       "      <td>376</td>\n",
       "      <td>Germany</td>\n",
       "      <td>Female</td>\n",
       "      <td>29</td>\n",
       "      <td>4</td>\n",
       "      <td>115046.74</td>\n",
       "      <td>4</td>\n",
       "      <td>1</td>\n",
       "      <td>0</td>\n",
       "      <td>119346.88</td>\n",
       "      <td>1</td>\n",
       "    </tr>\n",
       "    <tr>\n",
       "      <th>16</th>\n",
       "      <td>653</td>\n",
       "      <td>Germany</td>\n",
       "      <td>Male</td>\n",
       "      <td>58</td>\n",
       "      <td>1</td>\n",
       "      <td>132602.88</td>\n",
       "      <td>1</td>\n",
       "      <td>1</td>\n",
       "      <td>0</td>\n",
       "      <td>5097.67</td>\n",
       "      <td>1</td>\n",
       "    </tr>\n",
       "    <tr>\n",
       "      <th>22</th>\n",
       "      <td>510</td>\n",
       "      <td>Spain</td>\n",
       "      <td>Female</td>\n",
       "      <td>38</td>\n",
       "      <td>4</td>\n",
       "      <td>0.00</td>\n",
       "      <td>1</td>\n",
       "      <td>1</td>\n",
       "      <td>0</td>\n",
       "      <td>118913.53</td>\n",
       "      <td>1</td>\n",
       "    </tr>\n",
       "    <tr>\n",
       "      <th>...</th>\n",
       "      <td>...</td>\n",
       "      <td>...</td>\n",
       "      <td>...</td>\n",
       "      <td>...</td>\n",
       "      <td>...</td>\n",
       "      <td>...</td>\n",
       "      <td>...</td>\n",
       "      <td>...</td>\n",
       "      <td>...</td>\n",
       "      <td>...</td>\n",
       "      <td>...</td>\n",
       "    </tr>\n",
       "    <tr>\n",
       "      <th>9962</th>\n",
       "      <td>702</td>\n",
       "      <td>Spain</td>\n",
       "      <td>Male</td>\n",
       "      <td>44</td>\n",
       "      <td>9</td>\n",
       "      <td>0.00</td>\n",
       "      <td>1</td>\n",
       "      <td>0</td>\n",
       "      <td>0</td>\n",
       "      <td>59207.41</td>\n",
       "      <td>1</td>\n",
       "    </tr>\n",
       "    <tr>\n",
       "      <th>9975</th>\n",
       "      <td>610</td>\n",
       "      <td>Germany</td>\n",
       "      <td>Male</td>\n",
       "      <td>50</td>\n",
       "      <td>1</td>\n",
       "      <td>113957.01</td>\n",
       "      <td>2</td>\n",
       "      <td>1</td>\n",
       "      <td>0</td>\n",
       "      <td>196526.55</td>\n",
       "      <td>1</td>\n",
       "    </tr>\n",
       "    <tr>\n",
       "      <th>9982</th>\n",
       "      <td>655</td>\n",
       "      <td>Germany</td>\n",
       "      <td>Female</td>\n",
       "      <td>46</td>\n",
       "      <td>7</td>\n",
       "      <td>137145.12</td>\n",
       "      <td>1</td>\n",
       "      <td>1</td>\n",
       "      <td>0</td>\n",
       "      <td>115146.40</td>\n",
       "      <td>1</td>\n",
       "    </tr>\n",
       "    <tr>\n",
       "      <th>9991</th>\n",
       "      <td>597</td>\n",
       "      <td>France</td>\n",
       "      <td>Female</td>\n",
       "      <td>53</td>\n",
       "      <td>4</td>\n",
       "      <td>88381.21</td>\n",
       "      <td>1</td>\n",
       "      <td>1</td>\n",
       "      <td>0</td>\n",
       "      <td>69384.71</td>\n",
       "      <td>1</td>\n",
       "    </tr>\n",
       "    <tr>\n",
       "      <th>9998</th>\n",
       "      <td>772</td>\n",
       "      <td>Germany</td>\n",
       "      <td>Male</td>\n",
       "      <td>42</td>\n",
       "      <td>3</td>\n",
       "      <td>75075.31</td>\n",
       "      <td>2</td>\n",
       "      <td>1</td>\n",
       "      <td>0</td>\n",
       "      <td>92888.52</td>\n",
       "      <td>1</td>\n",
       "    </tr>\n",
       "  </tbody>\n",
       "</table>\n",
       "<p>1302 rows × 11 columns</p>\n",
       "</div>"
      ],
      "text/plain": [
       "      credit_score geography  gender  age  tenure    balance  num_of_products  \\\n",
       "2              502    France  Female   42       8  159660.80                3   \n",
       "5              645     Spain    Male   44       8  113755.78                2   \n",
       "7              376   Germany  Female   29       4  115046.74                4   \n",
       "16             653   Germany    Male   58       1  132602.88                1   \n",
       "22             510     Spain  Female   38       4       0.00                1   \n",
       "...            ...       ...     ...  ...     ...        ...              ...   \n",
       "9962           702     Spain    Male   44       9       0.00                1   \n",
       "9975           610   Germany    Male   50       1  113957.01                2   \n",
       "9982           655   Germany  Female   46       7  137145.12                1   \n",
       "9991           597    France  Female   53       4   88381.21                1   \n",
       "9998           772   Germany    Male   42       3   75075.31                2   \n",
       "\n",
       "      has_cr_card  is_active_member  estimated_salary  exited  \n",
       "2               1                 0         113931.57       1  \n",
       "5               1                 0         149756.71       1  \n",
       "7               1                 0         119346.88       1  \n",
       "16              1                 0           5097.67       1  \n",
       "22              1                 0         118913.53       1  \n",
       "...           ...               ...               ...     ...  \n",
       "9962            0                 0          59207.41       1  \n",
       "9975            1                 0         196526.55       1  \n",
       "9982            1                 0         115146.40       1  \n",
       "9991            1                 0          69384.71       1  \n",
       "9998            1                 0          92888.52       1  \n",
       "\n",
       "[1302 rows x 11 columns]"
      ]
     },
     "execution_count": 23,
     "metadata": {},
     "output_type": "execute_result"
    }
   ],
   "source": [
    "#relación entre target y miembros activos\n",
    "data.loc[(data[\"exited\"]==1) & (data[\"is_active_member\"]==0)]"
   ]
  },
  {
   "cell_type": "code",
   "execution_count": 24,
   "metadata": {},
   "outputs": [
    {
     "data": {
      "text/plain": [
       "1    5151\n",
       "0    4849\n",
       "Name: is_active_member, dtype: int64"
      ]
     },
     "execution_count": 24,
     "metadata": {},
     "output_type": "execute_result"
    }
   ],
   "source": [
    "data[\"is_active_member\"].value_counts()"
   ]
  },
  {
   "cell_type": "code",
   "execution_count": 25,
   "metadata": {},
   "outputs": [
    {
     "data": {
      "text/html": [
       "<div>\n",
       "<style scoped>\n",
       "    .dataframe tbody tr th:only-of-type {\n",
       "        vertical-align: middle;\n",
       "    }\n",
       "\n",
       "    .dataframe tbody tr th {\n",
       "        vertical-align: top;\n",
       "    }\n",
       "\n",
       "    .dataframe thead th {\n",
       "        text-align: right;\n",
       "    }\n",
       "</style>\n",
       "<table border=\"1\" class=\"dataframe\">\n",
       "  <thead>\n",
       "    <tr style=\"text-align: right;\">\n",
       "      <th></th>\n",
       "      <th>credit_score</th>\n",
       "      <th>geography</th>\n",
       "      <th>gender</th>\n",
       "      <th>age</th>\n",
       "      <th>tenure</th>\n",
       "      <th>balance</th>\n",
       "      <th>num_of_products</th>\n",
       "      <th>has_cr_card</th>\n",
       "      <th>is_active_member</th>\n",
       "      <th>estimated_salary</th>\n",
       "      <th>exited</th>\n",
       "    </tr>\n",
       "  </thead>\n",
       "  <tbody>\n",
       "    <tr>\n",
       "      <th>41</th>\n",
       "      <td>465</td>\n",
       "      <td>France</td>\n",
       "      <td>Female</td>\n",
       "      <td>51</td>\n",
       "      <td>8</td>\n",
       "      <td>122522.32</td>\n",
       "      <td>1</td>\n",
       "      <td>0</td>\n",
       "      <td>0</td>\n",
       "      <td>181297.65</td>\n",
       "      <td>1</td>\n",
       "    </tr>\n",
       "    <tr>\n",
       "      <th>43</th>\n",
       "      <td>834</td>\n",
       "      <td>France</td>\n",
       "      <td>Female</td>\n",
       "      <td>49</td>\n",
       "      <td>2</td>\n",
       "      <td>131394.56</td>\n",
       "      <td>1</td>\n",
       "      <td>0</td>\n",
       "      <td>0</td>\n",
       "      <td>194365.76</td>\n",
       "      <td>1</td>\n",
       "    </tr>\n",
       "    <tr>\n",
       "      <th>53</th>\n",
       "      <td>655</td>\n",
       "      <td>Germany</td>\n",
       "      <td>Male</td>\n",
       "      <td>41</td>\n",
       "      <td>5</td>\n",
       "      <td>125561.97</td>\n",
       "      <td>1</td>\n",
       "      <td>0</td>\n",
       "      <td>0</td>\n",
       "      <td>164040.94</td>\n",
       "      <td>1</td>\n",
       "    </tr>\n",
       "    <tr>\n",
       "      <th>114</th>\n",
       "      <td>721</td>\n",
       "      <td>Germany</td>\n",
       "      <td>Male</td>\n",
       "      <td>28</td>\n",
       "      <td>9</td>\n",
       "      <td>154475.54</td>\n",
       "      <td>2</td>\n",
       "      <td>0</td>\n",
       "      <td>1</td>\n",
       "      <td>101300.94</td>\n",
       "      <td>1</td>\n",
       "    </tr>\n",
       "    <tr>\n",
       "      <th>126</th>\n",
       "      <td>549</td>\n",
       "      <td>France</td>\n",
       "      <td>Female</td>\n",
       "      <td>52</td>\n",
       "      <td>1</td>\n",
       "      <td>0.00</td>\n",
       "      <td>1</td>\n",
       "      <td>0</td>\n",
       "      <td>1</td>\n",
       "      <td>8636.05</td>\n",
       "      <td>1</td>\n",
       "    </tr>\n",
       "    <tr>\n",
       "      <th>...</th>\n",
       "      <td>...</td>\n",
       "      <td>...</td>\n",
       "      <td>...</td>\n",
       "      <td>...</td>\n",
       "      <td>...</td>\n",
       "      <td>...</td>\n",
       "      <td>...</td>\n",
       "      <td>...</td>\n",
       "      <td>...</td>\n",
       "      <td>...</td>\n",
       "      <td>...</td>\n",
       "    </tr>\n",
       "    <tr>\n",
       "      <th>9884</th>\n",
       "      <td>751</td>\n",
       "      <td>France</td>\n",
       "      <td>Female</td>\n",
       "      <td>48</td>\n",
       "      <td>4</td>\n",
       "      <td>0.00</td>\n",
       "      <td>1</td>\n",
       "      <td>0</td>\n",
       "      <td>1</td>\n",
       "      <td>30165.06</td>\n",
       "      <td>1</td>\n",
       "    </tr>\n",
       "    <tr>\n",
       "      <th>9917</th>\n",
       "      <td>635</td>\n",
       "      <td>Germany</td>\n",
       "      <td>Male</td>\n",
       "      <td>53</td>\n",
       "      <td>8</td>\n",
       "      <td>117005.55</td>\n",
       "      <td>1</td>\n",
       "      <td>0</td>\n",
       "      <td>1</td>\n",
       "      <td>123646.57</td>\n",
       "      <td>1</td>\n",
       "    </tr>\n",
       "    <tr>\n",
       "      <th>9920</th>\n",
       "      <td>678</td>\n",
       "      <td>France</td>\n",
       "      <td>Female</td>\n",
       "      <td>49</td>\n",
       "      <td>3</td>\n",
       "      <td>204510.94</td>\n",
       "      <td>1</td>\n",
       "      <td>0</td>\n",
       "      <td>1</td>\n",
       "      <td>738.88</td>\n",
       "      <td>1</td>\n",
       "    </tr>\n",
       "    <tr>\n",
       "      <th>9962</th>\n",
       "      <td>702</td>\n",
       "      <td>Spain</td>\n",
       "      <td>Male</td>\n",
       "      <td>44</td>\n",
       "      <td>9</td>\n",
       "      <td>0.00</td>\n",
       "      <td>1</td>\n",
       "      <td>0</td>\n",
       "      <td>0</td>\n",
       "      <td>59207.41</td>\n",
       "      <td>1</td>\n",
       "    </tr>\n",
       "    <tr>\n",
       "      <th>9997</th>\n",
       "      <td>709</td>\n",
       "      <td>France</td>\n",
       "      <td>Female</td>\n",
       "      <td>36</td>\n",
       "      <td>7</td>\n",
       "      <td>0.00</td>\n",
       "      <td>1</td>\n",
       "      <td>0</td>\n",
       "      <td>1</td>\n",
       "      <td>42085.58</td>\n",
       "      <td>1</td>\n",
       "    </tr>\n",
       "  </tbody>\n",
       "</table>\n",
       "<p>613 rows × 11 columns</p>\n",
       "</div>"
      ],
      "text/plain": [
       "      credit_score geography  gender  age  tenure    balance  num_of_products  \\\n",
       "41             465    France  Female   51       8  122522.32                1   \n",
       "43             834    France  Female   49       2  131394.56                1   \n",
       "53             655   Germany    Male   41       5  125561.97                1   \n",
       "114            721   Germany    Male   28       9  154475.54                2   \n",
       "126            549    France  Female   52       1       0.00                1   \n",
       "...            ...       ...     ...  ...     ...        ...              ...   \n",
       "9884           751    France  Female   48       4       0.00                1   \n",
       "9917           635   Germany    Male   53       8  117005.55                1   \n",
       "9920           678    France  Female   49       3  204510.94                1   \n",
       "9962           702     Spain    Male   44       9       0.00                1   \n",
       "9997           709    France  Female   36       7       0.00                1   \n",
       "\n",
       "      has_cr_card  is_active_member  estimated_salary  exited  \n",
       "41              0                 0         181297.65       1  \n",
       "43              0                 0         194365.76       1  \n",
       "53              0                 0         164040.94       1  \n",
       "114             0                 1         101300.94       1  \n",
       "126             0                 1           8636.05       1  \n",
       "...           ...               ...               ...     ...  \n",
       "9884            0                 1          30165.06       1  \n",
       "9917            0                 1         123646.57       1  \n",
       "9920            0                 1            738.88       1  \n",
       "9962            0                 0          59207.41       1  \n",
       "9997            0                 1          42085.58       1  \n",
       "\n",
       "[613 rows x 11 columns]"
      ]
     },
     "execution_count": 25,
     "metadata": {},
     "output_type": "execute_result"
    }
   ],
   "source": [
    "#relación entre target y tenencia de tarjeta de crédito\n",
    "data.loc[(data[\"exited\"]==1) & (data[\"has_cr_card\"]==0)]"
   ]
  },
  {
   "cell_type": "code",
   "execution_count": 26,
   "metadata": {},
   "outputs": [
    {
     "data": {
      "text/plain": [
       "1    7055\n",
       "0    2945\n",
       "Name: has_cr_card, dtype: int64"
      ]
     },
     "execution_count": 26,
     "metadata": {},
     "output_type": "execute_result"
    }
   ],
   "source": [
    "data[\"has_cr_card\"].value_counts()"
   ]
  },
  {
   "cell_type": "markdown",
   "metadata": {},
   "source": [
    "Observando la característica \"is_active_member\" donde 0 es no, se esperaría un alto porcentaje de clientes que no son miembros activos y que se han ido del banco, sin embargo, no es así, apenas el porcentaje es de 27%. Igual comportamiento se aprecia con la característica \"has_cr_card\" por lo que no hay una relación clara entre ellas y el target."
   ]
  },
  {
   "cell_type": "code",
   "execution_count": 27,
   "metadata": {},
   "outputs": [
    {
     "data": {
      "text/plain": [
       "Text(0.5, 1.0, 'Proporción de clientes por país')"
      ]
     },
     "execution_count": 27,
     "metadata": {},
     "output_type": "execute_result"
    },
    {
     "data": {
      "image/png": "[encoded data removed]",
      "text/plain": [
       "<Figure size 720x360 with 1 Axes>"
      ]
     },
     "metadata": {
      "needs_background": "light"
     },
     "output_type": "display_data"
    }
   ],
   "source": [
    "#relación entre target y ubicación gráfica\n",
    "data.groupby(\"exited\")[\"geography\"].hist(figsize=(10,5))\n",
    "plt.title(\"Proporción de clientes por país\")"
   ]
  },
  {
   "cell_type": "code",
   "execution_count": 28,
   "metadata": {},
   "outputs": [
    {
     "data": {
      "text/plain": [
       "Text(0.5, 1.0, 'Proporción por género con Exited')"
      ]
     },
     "execution_count": 28,
     "metadata": {},
     "output_type": "execute_result"
    },
    {
     "data": {
      "image/png": "[encoded data removed]",
      "text/plain": [
       "<Figure size 720x360 with 1 Axes>"
      ]
     },
     "metadata": {
      "needs_background": "light"
     },
     "output_type": "display_data"
    }
   ],
   "source": [
    "#relación entre género y target\n",
    "data.groupby(\"exited\")[\"gender\"].hist(figsize=(10,5))\n",
    "plt.title(\"Proporción por género con Exited\")"
   ]
  },
  {
   "cell_type": "markdown",
   "metadata": {},
   "source": [
    "De estas dos últimas gráficas se aprecia que:\n",
    "1. Francia es el país donde el banco tiene mayor representación con una amplia cartera de clientes. \n",
    "2. En Alemania está balanceado la cantidad de clientes que abandonaron el banco y la cantidad de clientes que mantienen relación comercial con el banco.\n",
    "2. Francia es el país que mayormente mantiene aún la cartera de clientes.\n",
    "3. En España se observa mayor lealtad de los clientes con el banco.\n",
    "4. La mayor cantidad de clientes que se han ido han sido mujeres.\n",
    "5. La mayor cantidad de clientes son hombres.\n",
    "\n"
   ]
  },
  {
   "cell_type": "markdown",
   "metadata": {},
   "source": [
    "<div id=\"etiquetado\"/>\n",
    "\n",
    "### Etiquetado de datos"
   ]
  },
  {
   "cell_type": "code",
   "execution_count": 29,
   "metadata": {},
   "outputs": [
    {
     "data": {
      "text/plain": [
       "France     0.5014\n",
       "Germany    0.2509\n",
       "Spain      0.2477\n",
       "Name: geography, dtype: float64"
      ]
     },
     "execution_count": 29,
     "metadata": {},
     "output_type": "execute_result"
    }
   ],
   "source": [
    "#Revisión de las variables categóricas para su etiquetado\n",
    "data[\"geography\"].value_counts(normalize=True)"
   ]
  },
  {
   "cell_type": "code",
   "execution_count": 30,
   "metadata": {},
   "outputs": [
    {
     "data": {
      "text/plain": [
       "Male      0.5457\n",
       "Female    0.4543\n",
       "Name: gender, dtype: float64"
      ]
     },
     "execution_count": 30,
     "metadata": {},
     "output_type": "execute_result"
    }
   ],
   "source": [
    "data[\"gender\"].value_counts(normalize=True)"
   ]
  },
  {
   "cell_type": "code",
   "execution_count": 31,
   "metadata": {},
   "outputs": [],
   "source": [
    "data_OHE = pd.get_dummies(data, drop_first=True)"
   ]
  },
  {
   "cell_type": "code",
   "execution_count": 32,
   "metadata": {},
   "outputs": [
    {
     "data": {
      "text/html": [
       "<div>\n",
       "<style scoped>\n",
       "    .dataframe tbody tr th:only-of-type {\n",
       "        vertical-align: middle;\n",
       "    }\n",
       "\n",
       "    .dataframe tbody tr th {\n",
       "        vertical-align: top;\n",
       "    }\n",
       "\n",
       "    .dataframe thead th {\n",
       "        text-align: right;\n",
       "    }\n",
       "</style>\n",
       "<table border=\"1\" class=\"dataframe\">\n",
       "  <thead>\n",
       "    <tr style=\"text-align: right;\">\n",
       "      <th></th>\n",
       "      <th>credit_score</th>\n",
       "      <th>age</th>\n",
       "      <th>tenure</th>\n",
       "      <th>balance</th>\n",
       "      <th>num_of_products</th>\n",
       "      <th>has_cr_card</th>\n",
       "      <th>is_active_member</th>\n",
       "      <th>estimated_salary</th>\n",
       "      <th>exited</th>\n",
       "      <th>geography_Germany</th>\n",
       "      <th>geography_Spain</th>\n",
       "      <th>gender_Male</th>\n",
       "    </tr>\n",
       "  </thead>\n",
       "  <tbody>\n",
       "    <tr>\n",
       "      <th>0</th>\n",
       "      <td>619</td>\n",
       "      <td>42</td>\n",
       "      <td>2</td>\n",
       "      <td>0.00</td>\n",
       "      <td>1</td>\n",
       "      <td>1</td>\n",
       "      <td>1</td>\n",
       "      <td>101348.88</td>\n",
       "      <td>1</td>\n",
       "      <td>0</td>\n",
       "      <td>0</td>\n",
       "      <td>0</td>\n",
       "    </tr>\n",
       "    <tr>\n",
       "      <th>1</th>\n",
       "      <td>608</td>\n",
       "      <td>41</td>\n",
       "      <td>1</td>\n",
       "      <td>83807.86</td>\n",
       "      <td>1</td>\n",
       "      <td>0</td>\n",
       "      <td>1</td>\n",
       "      <td>112542.58</td>\n",
       "      <td>0</td>\n",
       "      <td>0</td>\n",
       "      <td>1</td>\n",
       "      <td>0</td>\n",
       "    </tr>\n",
       "    <tr>\n",
       "      <th>2</th>\n",
       "      <td>502</td>\n",
       "      <td>42</td>\n",
       "      <td>8</td>\n",
       "      <td>159660.80</td>\n",
       "      <td>3</td>\n",
       "      <td>1</td>\n",
       "      <td>0</td>\n",
       "      <td>113931.57</td>\n",
       "      <td>1</td>\n",
       "      <td>0</td>\n",
       "      <td>0</td>\n",
       "      <td>0</td>\n",
       "    </tr>\n",
       "    <tr>\n",
       "      <th>3</th>\n",
       "      <td>699</td>\n",
       "      <td>39</td>\n",
       "      <td>1</td>\n",
       "      <td>0.00</td>\n",
       "      <td>2</td>\n",
       "      <td>0</td>\n",
       "      <td>0</td>\n",
       "      <td>93826.63</td>\n",
       "      <td>0</td>\n",
       "      <td>0</td>\n",
       "      <td>0</td>\n",
       "      <td>0</td>\n",
       "    </tr>\n",
       "    <tr>\n",
       "      <th>4</th>\n",
       "      <td>850</td>\n",
       "      <td>43</td>\n",
       "      <td>2</td>\n",
       "      <td>125510.82</td>\n",
       "      <td>1</td>\n",
       "      <td>1</td>\n",
       "      <td>1</td>\n",
       "      <td>79084.10</td>\n",
       "      <td>0</td>\n",
       "      <td>0</td>\n",
       "      <td>1</td>\n",
       "      <td>0</td>\n",
       "    </tr>\n",
       "  </tbody>\n",
       "</table>\n",
       "</div>"
      ],
      "text/plain": [
       "   credit_score  age  tenure    balance  num_of_products  has_cr_card  \\\n",
       "0           619   42       2       0.00                1            1   \n",
       "1           608   41       1   83807.86                1            0   \n",
       "2           502   42       8  159660.80                3            1   \n",
       "3           699   39       1       0.00                2            0   \n",
       "4           850   43       2  125510.82                1            1   \n",
       "\n",
       "   is_active_member  estimated_salary  exited  geography_Germany  \\\n",
       "0                 1         101348.88       1                  0   \n",
       "1                 1         112542.58       0                  0   \n",
       "2                 0         113931.57       1                  0   \n",
       "3                 0          93826.63       0                  0   \n",
       "4                 1          79084.10       0                  0   \n",
       "\n",
       "   geography_Spain  gender_Male  \n",
       "0                0            0  \n",
       "1                1            0  \n",
       "2                0            0  \n",
       "3                0            0  \n",
       "4                1            0  "
      ]
     },
     "execution_count": 32,
     "metadata": {},
     "output_type": "execute_result"
    }
   ],
   "source": [
    "data_OHE.head()"
   ]
  },
  {
   "cell_type": "markdown",
   "metadata": {},
   "source": [
    "<div id=\"escalado\"/>\n",
    "\n",
    "### Escalado de datos"
   ]
  },
  {
   "cell_type": "code",
   "execution_count": 33,
   "metadata": {},
   "outputs": [],
   "source": [
    "numeric = [\"credit_score\", \"age\", \"balance\", \"estimated_salary\"]\n",
    "scaler = StandardScaler()\n",
    "data_OHE[numeric] = pd.DataFrame(scaler.fit_transform(data_OHE[numeric]))"
   ]
  },
  {
   "cell_type": "markdown",
   "metadata": {},
   "source": [
    "<div id=\"features\"/>\n",
    "\n",
    "## Definición de Features y Target"
   ]
  },
  {
   "cell_type": "code",
   "execution_count": 34,
   "metadata": {},
   "outputs": [],
   "source": [
    "#definicion de features y target\n",
    "features = data_OHE.drop(\"exited\", axis=1)\n",
    "target = data_OHE[\"exited\"]"
   ]
  },
  {
   "cell_type": "markdown",
   "metadata": {},
   "source": [
    "<div id=\"segmentacion\"/>\n",
    "\n",
    "## Segmentación de datos"
   ]
  },
  {
   "cell_type": "code",
   "execution_count": 38,
   "metadata": {},
   "outputs": [],
   "source": [
    "#segmentación\n",
    "features_train, features_valid, target_train, target_valid = train_test_split(features, target, test_size=0.40, random_state=12345)"
   ]
  },
  {
   "cell_type": "code",
   "execution_count": 39,
   "metadata": {},
   "outputs": [],
   "source": [
    "#segmentación de datos para validación y prueba\n",
    "features_valid, features_test, target_valid, target_test = train_test_split(features_valid, target_valid, test_size=0.5, random_state=12345)"
   ]
  },
  {
   "cell_type": "code",
   "execution_count": 40,
   "metadata": {},
   "outputs": [
    {
     "name": "stdout",
     "output_type": "stream",
     "text": [
      "(6000, 11)\n",
      "(2000, 11)\n",
      "(2000, 11)\n",
      "(6000,)\n",
      "(2000,)\n",
      "(2000,)\n"
     ]
    }
   ],
   "source": [
    "print(features_train.shape)\n",
    "print(features_valid.shape)\n",
    "print(features_test.shape)\n",
    "print(target_train.shape)\n",
    "print(target_valid.shape)\n",
    "print(target_test.shape)"
   ]
  },
  {
   "cell_type": "markdown",
   "metadata": {},
   "source": [
    "<div id=\"balanceo\"/>\n",
    "\n",
    "### Balanceo de clases"
   ]
  },
  {
   "cell_type": "code",
   "execution_count": 41,
   "metadata": {},
   "outputs": [
    {
     "name": "stdout",
     "output_type": "stream",
     "text": [
      "0.3384564260197724\n"
     ]
    }
   ],
   "source": [
    "#Modelo constante\n",
    "mod_constante = pd.Series(1, index=target)\n",
    "print(f1_score(target, mod_constante))"
   ]
  },
  {
   "cell_type": "markdown",
   "metadata": {},
   "source": [
    "La exactitud para reproducir 1 en el modelo constante es muy baja, se aleja del 1 por lo que el modelo no está balanceado y esto afecta los resultados, sin embargo, como primera aproximación se tomará así."
   ]
  },
  {
   "cell_type": "markdown",
   "metadata": {},
   "source": [
    "<div id=\"modelos\"/>\n",
    "\n",
    "## Modelos\n",
    "\n",
    "En este sección de realizará la evaluación utilizando los siguientes modelos:\n",
    "\n",
    "1. Decision Tree Classifier\n",
    "2. Random Forest Classifier\n",
    "3. Logistic Regression"
   ]
  },
  {
   "cell_type": "markdown",
   "metadata": {},
   "source": [
    "<div id=\"dtc\"/>\n",
    "\n",
    "### Modelo Decision Tree Classifier¶\n",
    "\n",
    "Se selecciona como hiperparámetro:\n",
    "\n",
    "max_depth = 20, para evaluar 19 ramas de profundidad en el árbol"
   ]
  },
  {
   "cell_type": "code",
   "execution_count": 42,
   "metadata": {},
   "outputs": [
    {
     "name": "stdout",
     "output_type": "stream",
     "text": [
      "max_depth =  1 f1 en modelo de validacion: 0.0\n",
      "max_depth =  2 f1 en modelo de validacion: 0.5217391304347825\n",
      "max_depth =  3 f1 en modelo de validacion: 0.4234875444839857\n",
      "max_depth =  4 f1 en modelo de validacion: 0.5528700906344411\n",
      "max_depth =  5 f1 en modelo de validacion: 0.5406249999999999\n",
      "max_depth =  6 f1 en modelo de validacion: 0.5696969696969697\n",
      "max_depth =  7 f1 en modelo de validacion: 0.5320813771517998\n",
      "max_depth =  8 f1 en modelo de validacion: 0.5454545454545454\n",
      "max_depth =  9 f1 en modelo de validacion: 0.5633802816901409\n",
      "max_depth =  10 f1 en modelo de validacion: 0.5406162464985994\n",
      "max_depth =  11 f1 en modelo de validacion: 0.5079787234042553\n",
      "max_depth =  12 f1 en modelo de validacion: 0.5217391304347826\n",
      "max_depth =  13 f1 en modelo de validacion: 0.5064935064935066\n",
      "max_depth =  14 f1 en modelo de validacion: 0.489281210592686\n",
      "max_depth =  15 f1 en modelo de validacion: 0.5\n",
      "max_depth =  16 f1 en modelo de validacion: 0.5018541409147095\n",
      "max_depth =  17 f1 en modelo de validacion: 0.4792176039119804\n",
      "max_depth =  18 f1 en modelo de validacion: 0.4864864864864865\n",
      "max_depth =  19 f1 en modelo de validacion: 0.49578820697954273\n"
     ]
    }
   ],
   "source": [
    "best_model_dtc = None\n",
    "best_result_dtc = 0\n",
    "valid_aprox_dtc = []\n",
    "max_depth_range = [i for i in range(1, 20)]\n",
    "for depth in max_depth_range:\n",
    "    model_dtc = DecisionTreeClassifier(random_state=12345, max_depth=depth)\n",
    "    model_dtc.fit(features_train, target_train)\n",
    "    \n",
    "    #predicción con datos de validación\n",
    "    prediction_dtc_valid = model_dtc.predict(features_valid)\n",
    "    result_dtc_valid = f1_score(target_valid, prediction_dtc_valid)\n",
    "    valid_aprox_dtc.append(result_dtc_valid)\n",
    "    \n",
    "    if result_dtc_valid > best_result_dtc:\n",
    "        best_model_dtc = model_dtc\n",
    "        best_result_dtc = result_dtc_valid\n",
    "        i = depth\n",
    "    print(\"max_depth = \", depth , \"f1 en modelo de validacion:\", result_dtc_valid)"
   ]
  },
  {
   "cell_type": "code",
   "execution_count": 43,
   "metadata": {},
   "outputs": [
    {
     "name": "stdout",
     "output_type": "stream",
     "text": [
      "El mayor f1 logrado es de: 0.5696969696969697 en la profundidad de: 6\n"
     ]
    }
   ],
   "source": [
    "print(\"El mayor f1 logrado es de:\", best_result_dtc, \"en la profundidad de:\", i)"
   ]
  },
  {
   "cell_type": "code",
   "execution_count": 44,
   "metadata": {},
   "outputs": [
    {
     "data": {
      "image/png": "[encoded data removed]",
      "text/plain": [
       "<Figure size 720x360 with 1 Axes>"
      ]
     },
     "metadata": {
      "needs_background": "light"
     },
     "output_type": "display_data"
    }
   ],
   "source": [
    "plt.figure(figsize=(10,5))\n",
    "plt.plot(max_depth_range, valid_aprox_dtc, '-o', color = \"red\", label = \"Modelo de validación\", alpha = 0.5)\n",
    "plt.title(\"f1 vs profundidad del árbol, modelo Decision Tree Classfifier\")\n",
    "plt.xlabel(\"Max depth\")\n",
    "plt.ylabel(\"f1\")\n",
    "plt.legend()\n",
    "plt.show()"
   ]
  },
  {
   "cell_type": "markdown",
   "metadata": {},
   "source": [
    "Analizando los resultados se observa que a medida que la profundidad crece, después de alcanzar el máximo en 0.57(profundidad de 6), f1 en el modelo de validación disminuye."
   ]
  },
  {
   "cell_type": "markdown",
   "metadata": {},
   "source": [
    "<div id=\"rfc\"/>\n",
    "\n",
    "### Modelo Random Forest Classifier\n",
    "\n",
    "Se considera como hiperparámetro:\n",
    "est = 12"
   ]
  },
  {
   "cell_type": "code",
   "execution_count": 45,
   "metadata": {},
   "outputs": [
    {
     "data": {
      "text/plain": [
       "<matplotlib.legend.Legend at 0x7fca8f2c4dc0>"
      ]
     },
     "execution_count": 45,
     "metadata": {},
     "output_type": "execute_result"
    },
    {
     "data": {
      "image/png": "[encoded data removed]",
      "text/plain": [
       "<Figure size 720x360 with 1 Axes>"
      ]
     },
     "metadata": {
      "needs_background": "light"
     },
     "output_type": "display_data"
    }
   ],
   "source": [
    "estimator_range = [i for i in range(1, 51, 9)]\n",
    "valid_aprox_rfc = [] \n",
    "depth_list = []\n",
    "best_model_rfc = None\n",
    "best_result_rfc = 0\n",
    "i = 0\n",
    "\n",
    "for est in estimator_range:\n",
    "    for depth in range(1,10):\n",
    "        model_rfc = RandomForestClassifier(random_state=12345, n_estimators=est, max_depth=depth)\n",
    "        model_rfc.fit(features_train, target_train)\n",
    "            \n",
    "        # predicción en modelo de validación\n",
    "        prediction_rfc_valid = model_rfc.predict(features_valid)\n",
    "        result_rfc_valid = f1_score(target_valid, prediction_rfc_valid)\n",
    "        valid_aprox_rfc.append(result_rfc_valid)\n",
    "        depth_list.append(depth)\n",
    "        \n",
    "        if result_rfc_valid > best_result_rfc:\n",
    "            best_model_rfc = model_rfc\n",
    "            best_result_rfc = result_rfc_valid\n",
    "            j = est\n",
    "            k = depth\n",
    "        \n",
    "        \n",
    "plt.figure(figsize=(10,5))\n",
    "\n",
    "plt.plot(depth_list, valid_aprox_rfc, \"o\", label = \"Modelo de validación\", color=\"red\", alpha = 0.5)\n",
    "plt.title(\"f1 vs estimadores en el modelo Random Forest Classifier\")\n",
    "plt.xlabel(\"Profundidad\")\n",
    "plt.ylabel(\"f1\")\n",
    "plt.legend()   "
   ]
  },
  {
   "cell_type": "code",
   "execution_count": 46,
   "metadata": {},
   "outputs": [
    {
     "name": "stdout",
     "output_type": "stream",
     "text": [
      "El mayor valor de f1 logrado es de: 0.5809379727685325 en la estimación: 10 depth: 9\n"
     ]
    }
   ],
   "source": [
    "print(\"El mayor valor de f1 logrado es de:\", best_result_rfc, \"en la estimación:\", j, \"depth:\", k)"
   ]
  },
  {
   "cell_type": "markdown",
   "metadata": {},
   "source": [
    "De los resultados se desprende que a medida que aumenta el número de estimadores se incrementa la exactitud pero la corrida del modelo se hace más lenta. En la profundidad de 9 se observa el mayor valor de f1, independiente del estimador."
   ]
  },
  {
   "cell_type": "markdown",
   "metadata": {},
   "source": [
    "<div id=\"lr\"/>\n",
    "\n",
    "### Modelo Logistic Regression"
   ]
  },
  {
   "cell_type": "code",
   "execution_count": 47,
   "metadata": {},
   "outputs": [
    {
     "name": "stdout",
     "output_type": "stream",
     "text": [
      "f1 es de: 0.33108108108108103 con el método: liblinear\n",
      "f1 es de: 0.33108108108108103 con el método: newton-cg\n",
      "f1 es de: 0.33108108108108103 con el método: lbfgs\n",
      "f1 es de: 0.33108108108108103 con el método: sag\n",
      "f1 es de: 0.33108108108108103 con el método: saga\n"
     ]
    }
   ],
   "source": [
    "solv = ['liblinear','newton-cg', 'lbfgs','sag', 'saga']\n",
    "for element in solv:\n",
    "    model_lr_s = LogisticRegression(random_state=12345, solver=element, max_iter=100000)\n",
    "    model_lr_s.fit(features_train, target_train)\n",
    "    predictions_lr_s = model_lr_s.predict(features_valid)\n",
    "    result_lr_s = f1_score(target_valid, predictions_lr_s)\n",
    "    print(\"f1 es de:\", result_lr_s, \"con el método:\", element)"
   ]
  },
  {
   "cell_type": "markdown",
   "metadata": {},
   "source": [
    "De los 3 modelos estudiados se observa que el modelo Decision Tree Classifier es el que arroja mayor valor de f1(0.58) y el modelo Linear Regresion es el que menor valor de f1 arroja(0.33), sin embargo, están por debajo del valor solicitado. Se procederá a continuación a realizar el balanceo de las clases."
   ]
  },
  {
   "cell_type": "markdown",
   "metadata": {},
   "source": [
    "<div id=\"clases\"/>\n",
    "\n",
    "## Balanceo de clases\n",
    "\n",
    "Se procederá a realizar el balanceo a través de 3 métodos\n",
    "1. Ajuste por clases\n",
    "2. Sobremuestreo (upsampled)\n",
    "3. Submuestreo (downsampled)"
   ]
  },
  {
   "cell_type": "markdown",
   "metadata": {},
   "source": [
    "<div id=\"ajuste\"/>\n",
    "\n",
    "### Ajuste por clases\n"
   ]
  },
  {
   "cell_type": "code",
   "execution_count": 48,
   "metadata": {},
   "outputs": [
    {
     "name": "stdout",
     "output_type": "stream",
     "text": [
      "El mayor f1 logrado es de: 0.5963791267305644 en la profundidad de: 5\n"
     ]
    }
   ],
   "source": [
    "#Decision Tree Classifier\n",
    "best_model_dtc_balanced = None\n",
    "best_result_dtc_balanced = 0\n",
    "valid_aprox_dtc_balanced = []\n",
    "max_depth_range_balanced = [i for i in range(1, 20)]\n",
    "for depth in max_depth_range_balanced:\n",
    "    model_dtc_balanced = DecisionTreeClassifier(random_state=12345, class_weight=\"balanced\", max_depth=depth)\n",
    "    model_dtc_balanced.fit(features_train, target_train)\n",
    "    prediction_dtc_valid_balanced = model_dtc_balanced.predict(features_valid)\n",
    "    result_dtc_valid_balanced = f1_score(target_valid, prediction_dtc_valid_balanced)\n",
    "    valid_aprox_dtc_balanced.append(result_dtc_valid_balanced)\n",
    "    \n",
    "    if result_dtc_valid_balanced > best_result_dtc_balanced:\n",
    "        best_model_dtc_balanced = model_dtc_balanced\n",
    "        best_result_dtc_balanced = result_dtc_valid_balanced\n",
    "        i = depth\n",
    "print(\"El mayor f1 logrado es de:\", best_result_dtc_balanced, \"en la profundidad de:\", i)"
   ]
  },
  {
   "cell_type": "code",
   "execution_count": 49,
   "metadata": {},
   "outputs": [
    {
     "name": "stdout",
     "output_type": "stream",
     "text": [
      "El mayor valor de f1 logrado es de: 0.6247288503253796 en la estimación: 46 depth: 8\n"
     ]
    }
   ],
   "source": [
    "#Random Forest Classifier\n",
    "estimator_range_balanced = [i for i in range(1, 51, 9)]\n",
    "valid_aprox_rfc_balanced = [] \n",
    "depth_list_balanced = []\n",
    "best_model_rfc_balanced = None\n",
    "best_result_rfc_balanced = 0\n",
    "i = 0\n",
    "\n",
    "for est in estimator_range_balanced:\n",
    "    for depth in range(1,10):\n",
    "        model_rfc_balanced = RandomForestClassifier(random_state=12345, class_weight=\"balanced\", n_estimators=est, max_depth=depth)\n",
    "        model_rfc_balanced.fit(features_train, target_train)\n",
    "        prediction_rfc_valid_balanced = model_rfc_balanced.predict(features_valid)\n",
    "        result_rfc_valid_balanced = f1_score(target_valid, prediction_rfc_valid_balanced)\n",
    "        valid_aprox_rfc_balanced.append(result_rfc_valid_balanced)\n",
    "        depth_list_balanced.append(depth)\n",
    "        if result_rfc_valid_balanced > best_result_rfc_balanced:\n",
    "            best_model_rfc_balanced = model_rfc_balanced\n",
    "            best_result_rfc_balanced = result_rfc_valid_balanced\n",
    "            j = est\n",
    "            k = depth\n",
    "print(\"El mayor valor de f1 logrado es de:\", best_result_rfc_balanced, \"en la estimación:\", j, \"depth:\", k)       "
   ]
  },
  {
   "cell_type": "code",
   "execution_count": 50,
   "metadata": {},
   "outputs": [
    {
     "name": "stdout",
     "output_type": "stream",
     "text": [
      "f1 es de: 0.4888507718696398 con el método: liblinear\n",
      "f1 es de: 0.4888507718696398 con el método: newton-cg\n",
      "f1 es de: 0.4888507718696398 con el método: lbfgs\n",
      "f1 es de: 0.4888507718696398 con el método: sag\n",
      "f1 es de: 0.4888507718696398 con el método: saga\n"
     ]
    }
   ],
   "source": [
    "#Linear Regression\n",
    "solv = ['liblinear','newton-cg', 'lbfgs','sag', 'saga']\n",
    "for element in solv:\n",
    "    model_lr_s_balanced = LogisticRegression(random_state=12345, class_weight=\"balanced\", solver=element, max_iter=100000)\n",
    "    model_lr_s_balanced.fit(features_train, target_train)\n",
    "    predictions_lr_s_balanced = model_lr_s_balanced.predict(features_valid)\n",
    "    result_lr_s_balanced = f1_score(target_valid, predictions_lr_s_balanced)\n",
    "    print(\"f1 es de:\", result_lr_s_balanced, \"con el método:\", element)"
   ]
  },
  {
   "cell_type": "markdown",
   "metadata": {},
   "source": [
    "Con el ajuste por clases, el modelo Random Forest Classifier arrojó el mayor valor de f1(62%)."
   ]
  },
  {
   "cell_type": "markdown",
   "metadata": {},
   "source": [
    "<div id=\"upsampled\"/>\n",
    "\n",
    "### Sobremuestreo"
   ]
  },
  {
   "cell_type": "code",
   "execution_count": 56,
   "metadata": {},
   "outputs": [
    {
     "name": "stdout",
     "output_type": "stream",
     "text": [
      "(16764, 11)\n",
      "(16764,)\n"
     ]
    }
   ],
   "source": [
    "#Definición de función\n",
    "def upsample(features, target, repeat):\n",
    "    features_zeros = features_train[target_train==0]\n",
    "    features_ones = features_train[target_train==1]\n",
    "    target_zeros = target_train[target_train==0]\n",
    "    target_ones = target_train[target_train==1]\n",
    "    repeat=10\n",
    "    features_upsampled = pd.concat([features_zeros]+[features_ones]*repeat)\n",
    "    target_upsampled = pd.concat([target_zeros]+[target_ones]*repeat)\n",
    "    features_upsampled, target_upsampled = shuffle(features_upsampled, target_upsampled, random_state=12345)\n",
    "    return features_upsampled, target_upsampled\n",
    "features_upsampled, target_upsampled = upsample(features_train, target_train, 10)\n",
    "print(features_upsampled.shape)\n",
    "print(target_upsampled.shape)\n"
   ]
  },
  {
   "cell_type": "code",
   "execution_count": 57,
   "metadata": {},
   "outputs": [
    {
     "name": "stdout",
     "output_type": "stream",
     "text": [
      "El mayor f1 logrado es de: 0.5251572327044025 en la profundidad de: 7\n"
     ]
    }
   ],
   "source": [
    "#Decision Tree Classifier\n",
    "best_model_dtc_up = None\n",
    "best_result_dtc_up = 0\n",
    "valid_aprox_dtc_up = []\n",
    "max_depth_range_up = [i for i in range(1, 20)]\n",
    "for depth in max_depth_range_up:\n",
    "    model_dtc_up = DecisionTreeClassifier(random_state=12345, max_depth=depth)\n",
    "    model_dtc_up.fit(features_upsampled, target_upsampled)\n",
    "    prediction_dtc_valid_up = model_dtc_up.predict(features_valid)\n",
    "    result_dtc_valid_up = f1_score(target_valid, prediction_dtc_valid_up)\n",
    "    valid_aprox_dtc_up.append(result_dtc_valid_up)\n",
    "    \n",
    "    if result_dtc_valid_up > best_result_dtc_up:\n",
    "        best_model_dtc_up = model_dtc_up\n",
    "        best_result_dtc_up = result_dtc_valid_up\n",
    "        i = depth\n",
    "print(\"El mayor f1 logrado es de:\", best_result_dtc_up, \"en la profundidad de:\", i)"
   ]
  },
  {
   "cell_type": "code",
   "execution_count": 58,
   "metadata": {},
   "outputs": [
    {
     "name": "stdout",
     "output_type": "stream",
     "text": [
      "El mayor valor de f1 logrado es de: 0.5458786936236392 en la estimación: 28 depth: 9\n"
     ]
    }
   ],
   "source": [
    "#Random Forest Classifier\n",
    "estimator_range_up = [i for i in range(1, 51, 9)]\n",
    "valid_aprox_rfc_up = [] \n",
    "depth_list_up = []\n",
    "best_model_rfc_up = None\n",
    "best_result_rfc_up = 0\n",
    "i = 0\n",
    "\n",
    "for est in estimator_range_up:\n",
    "    for depth in range(1,10):\n",
    "        model_rfc_up = RandomForestClassifier(random_state=12345, n_estimators=est, max_depth=depth)\n",
    "        model_rfc_up.fit(features_upsampled, target_upsampled)\n",
    "        prediction_rfc_valid_up = model_rfc_up.predict(features_valid)\n",
    "        result_rfc_valid_up = f1_score(target_valid, prediction_rfc_valid_up)\n",
    "        valid_aprox_rfc_up.append(result_rfc_valid_up)\n",
    "        depth_list_up.append(depth)\n",
    "        if result_rfc_valid_up > best_result_rfc_up:\n",
    "            best_model_rfc_up = model_rfc_up\n",
    "            best_result_rfc_up = result_rfc_valid_up\n",
    "            j = est\n",
    "            k = depth\n",
    "print(\"El mayor valor de f1 logrado es de:\", best_result_rfc_up, \"en la estimación:\", j, \"depth:\", k)"
   ]
  },
  {
   "cell_type": "code",
   "execution_count": 59,
   "metadata": {},
   "outputs": [
    {
     "name": "stdout",
     "output_type": "stream",
     "text": [
      "f1 es de: 0.4194260485651214 con el método: liblinear\n",
      "f1 es de: 0.4194260485651214 con el método: newton-cg\n",
      "f1 es de: 0.4194260485651214 con el método: lbfgs\n",
      "f1 es de: 0.4194260485651214 con el método: sag\n",
      "f1 es de: 0.4194260485651214 con el método: saga\n"
     ]
    }
   ],
   "source": [
    "#Linear Regression\n",
    "solv = ['liblinear','newton-cg', 'lbfgs','sag', 'saga']\n",
    "for element in solv:\n",
    "    model_lr_s_up = LogisticRegression(random_state=12345, solver=element, max_iter=100000)\n",
    "    model_lr_s_up.fit(features_upsampled, target_upsampled)\n",
    "    predictions_lr_s_up = model_lr_s_up.predict(features_valid)\n",
    "    result_lr_s_up = f1_score(target_valid, predictions_lr_s_up)\n",
    "    print(\"f1 es de:\", result_lr_s_up, \"con el método:\", element)"
   ]
  },
  {
   "cell_type": "markdown",
   "metadata": {},
   "source": [
    "Comparando los resultados obtenidos con el Sobremuestreo en los 3 modelos analizados encontramos que Random Forest Classifier presenta el valor más alto de f1(0.55)."
   ]
  },
  {
   "cell_type": "markdown",
   "metadata": {},
   "source": [
    "<div id=\"downsampled\"/>\n",
    "\n",
    "### Submuestreo"
   ]
  },
  {
   "cell_type": "code",
   "execution_count": 61,
   "metadata": {},
   "outputs": [
    {
     "name": "stdout",
     "output_type": "stream",
     "text": [
      "(1676, 11)\n",
      "(1676,)\n"
     ]
    }
   ],
   "source": [
    "#Definición de función\n",
    "def downsample(features, target, fraction):\n",
    "    features_zeros = features_train[target_train==0]\n",
    "    features_ones = features_train[target_train==1]\n",
    "    target_zeros = target_train[target_train==0]\n",
    "    target_ones = target_train[target_train==1]\n",
    "    features_downsampled = pd.concat([features_zeros.sample(frac=fraction, random_state=12345)]+[features_ones])\n",
    "    target_downsampled = pd.concat([target_zeros.sample(frac=fraction, random_state=12345)]+[target_ones])\n",
    "    features_downsampled, target_downsampled = shuffle(features_downsampled, target_downsampled, random_state=12345)\n",
    "    return features_downsampled, target_downsampled\n",
    "features_downsampled, target_downsampled = downsample(features_train, target_train, 0.1)\n",
    "print(features_downsampled.shape)\n",
    "print(target_downsampled.shape)"
   ]
  },
  {
   "cell_type": "code",
   "execution_count": 62,
   "metadata": {},
   "outputs": [
    {
     "name": "stdout",
     "output_type": "stream",
     "text": [
      "El mayor f1 logrado es de: 0.49553877831159915 en la profundidad de: 5\n"
     ]
    }
   ],
   "source": [
    "#Decision Tree Classifier\n",
    "best_model_dtc_down = None\n",
    "best_result_dtc_down = 0\n",
    "valid_aprox_dtc_down = []\n",
    "max_depth_range = [i for i in range(1, 20)]\n",
    "for depth in max_depth_range:\n",
    "    model_dtc_down = DecisionTreeClassifier(random_state=12345, max_depth=depth)\n",
    "    model_dtc_down.fit(features_downsampled, target_downsampled)\n",
    "    prediction_dtc_valid_down = model_dtc_down.predict(features_valid)\n",
    "    result_dtc_valid_down = f1_score(target_valid, prediction_dtc_valid_down)\n",
    "    valid_aprox_dtc_down.append(result_dtc_valid_down)\n",
    "    \n",
    "    if result_dtc_valid_down > best_result_dtc_down:\n",
    "        best_model_dtc_down = model_dtc_down\n",
    "        best_result_dtc_down = result_dtc_valid_down\n",
    "        i = depth\n",
    "print(\"El mayor f1 logrado es de:\", best_result_dtc_down, \"en la profundidad de:\", i)"
   ]
  },
  {
   "cell_type": "code",
   "execution_count": 63,
   "metadata": {},
   "outputs": [
    {
     "name": "stdout",
     "output_type": "stream",
     "text": [
      "El mayor valor de f1 logrado es de: 0.467324290998767 en la estimación: 28 depth: 9\n"
     ]
    }
   ],
   "source": [
    "#Random Forest Classifier\n",
    "estimator_range_down = [i for i in range(1, 51, 9)]\n",
    "valid_aprox_rfc_down = [] \n",
    "depth_list_down = []\n",
    "best_model_rfc_down = None\n",
    "best_result_rfc_down = 0\n",
    "i = 0\n",
    "\n",
    "for est in estimator_range_down:\n",
    "    for depth in range(1,10):\n",
    "        model_rfc_down = RandomForestClassifier(random_state=12345, n_estimators=est, max_depth=depth)\n",
    "        model_rfc_down.fit(features_downsampled, target_downsampled)\n",
    "        prediction_rfc_valid_down = model_rfc_down.predict(features_valid)\n",
    "        result_rfc_valid_down = f1_score(target_valid, prediction_rfc_valid_down)\n",
    "        valid_aprox_rfc_down.append(result_rfc_valid_down)\n",
    "        depth_list_down.append(depth)\n",
    "        if result_rfc_valid_down > best_result_rfc_down:\n",
    "            best_model_rfc_down = model_rfc_down\n",
    "            best_result_rfc_down = result_rfc_valid_down\n",
    "            j = est\n",
    "            k = depth\n",
    "print(\"El mayor valor de f1 logrado es de:\", best_result_rfc_down, \"en la estimación:\", j, \"depth:\", k)"
   ]
  },
  {
   "cell_type": "code",
   "execution_count": 64,
   "metadata": {},
   "outputs": [
    {
     "name": "stdout",
     "output_type": "stream",
     "text": [
      "f1 es de: 0.4303510758776898 con el método: liblinear\n",
      "f1 es de: 0.42986425339366513 con el método: newton-cg\n",
      "f1 es de: 0.42986425339366513 con el método: lbfgs\n",
      "f1 es de: 0.42986425339366513 con el método: sag\n",
      "f1 es de: 0.42986425339366513 con el método: saga\n"
     ]
    }
   ],
   "source": [
    "#Linear Regression\n",
    "solv = ['liblinear','newton-cg', 'lbfgs','sag', 'saga']\n",
    "for element in solv:\n",
    "    model_lr_s_down = LogisticRegression(random_state=12345, solver=element, max_iter=100000)\n",
    "    model_lr_s_down.fit(features_downsampled, target_downsampled)\n",
    "    predictions_lr_s_down = model_lr_s_down.predict(features_valid)\n",
    "    result_lr_s_down = f1_score(target_valid, predictions_lr_s_down)\n",
    "    print(\"f1 es de:\", result_lr_s_down, \"con el método:\", element)"
   ]
  },
  {
   "cell_type": "markdown",
   "metadata": {},
   "source": [
    "Para el método de submuestreo el mayor valor de f1 alcanzado fue de 50% en el modelo Decision Tree Classifier, seguido por el modelo Random Forest Classifier con 47% y por último el de Linear Regression con 43%."
   ]
  },
  {
   "cell_type": "markdown",
   "metadata": {},
   "source": [
    "<div id=\"comparativo\"/>\n",
    "\n",
    "### Comparación de modelos\n",
    "\n",
    "Se procede a comparar los resultados obtenidos por los 3 modelos con los 3 métodos utilizados."
   ]
  },
  {
   "cell_type": "code",
   "execution_count": 83,
   "metadata": {},
   "outputs": [
    {
     "name": "stdout",
     "output_type": "stream",
     "text": [
      "   f1            Decision Tree Classifier     Random Forest Classifier\n",
      "sin ajuste de clase     56.97%,                    58.09%\n",
      "ajuste de clase         59.64%,                    62.47%\n",
      "sobreajuste             52.52%,                    54.59%\n",
      "subajuste               49.55%,                    46.73%\n"
     ]
    }
   ],
   "source": [
    "print(\"   f1            Decision Tree Classifier\",\"    Random Forest Classifier\")\n",
    "print(f\"sin ajuste de clase     {best_result_dtc:.2%},                    {best_result_rfc:.2%}\")\n",
    "print(f\"ajuste de clase         {best_result_dtc_balanced:.2%},                    {best_result_rfc_balanced:.2%}\")\n",
    "print(f\"sobreajuste             {best_result_dtc_up:.2%},                    {best_result_rfc_up:.2%}\")\n",
    "print(f\"subajuste               {best_result_dtc_down:.2%},                    {best_result_rfc_down:.2%}\")"
   ]
  },
  {
   "cell_type": "markdown",
   "metadata": {},
   "source": [
    "El mejor modelo que se ajustó fue el de ajuste de clases para Random Forest Classifier con 62% y sobre este modelo se realizará el ajuste de los datos de prueba."
   ]
  },
  {
   "cell_type": "markdown",
   "metadata": {},
   "source": [
    "<div id=\"evaluacion\"/>\n",
    "\n",
    "## Evaluación del modelo\n",
    "\n",
    "Se procederá a evaluar el modelo de entrenamiento (Random Forest Classifier) en el dataset de prueba y en el dataset general."
   ]
  },
  {
   "cell_type": "code",
   "execution_count": 84,
   "metadata": {},
   "outputs": [
    {
     "name": "stdout",
     "output_type": "stream",
     "text": [
      "f1 del modelo Random Forest Classifier en dataset de prueba: 60.36916395222583\n",
      "f1 del modelo Random Forest Classifier en dataset completa: 66.874582312319\n"
     ]
    }
   ],
   "source": [
    "def eval_modelo(f_train, t_train, f, t, f_test, t_test):\n",
    "    model_test = RandomForestClassifier(random_state=12345, class_weight = \"balanced\", n_estimators = 46, max_depth=8)\n",
    "    model_test.fit(f_train, t_train)\n",
    "    predictions_test = model_test.predict(f_test)\n",
    "    result_test = f1_score(t_test, predictions_test)\n",
    "    \n",
    "    model_data = RandomForestClassifier(random_state=12345,  class_weight = \"balanced\", n_estimators = 46, max_depth=8)\n",
    "    model_data.fit(f_train, t_train)\n",
    "    predictions_data = model_data.predict(f)\n",
    "    result_data = f1_score(t, predictions_data)\n",
    "    print(\"f1 del modelo Random Forest Classifier en dataset de prueba:\", result_test*100)\n",
    "    print(\"f1 del modelo Random Forest Classifier en dataset completa:\", result_data*100)\n",
    "eval_modelo(features_train, target_train, features, target, features_test, target_test)"
   ]
  },
  {
   "cell_type": "markdown",
   "metadata": {},
   "source": [
    "Los valores de f1 obtenidos tanto para el conjunto de datos de prueba como para el dataset completo supera el 0.59"
   ]
  },
  {
   "cell_type": "markdown",
   "metadata": {},
   "source": [
    "<div id=\"AUC\"/>\n",
    "\n",
    "## AUC-ROC\n",
    "\n",
    "Se procederá a realizar la curva AUC-ROC "
   ]
  },
  {
   "cell_type": "code",
   "execution_count": 89,
   "metadata": {},
   "outputs": [
    {
     "name": "stdout",
     "output_type": "stream",
     "text": [
      "85.48\n"
     ]
    }
   ],
   "source": [
    "model_test = RandomForestClassifier(random_state=12345, class_weight = \"balanced\", n_estimators = 46, max_depth=8)\n",
    "model_test.fit(features_train, target_train)\n",
    "probabilities = model_test.predict_proba(features_test)\n",
    "probabilities_one_test = probabilities[:,1]\n",
    "auc_roc = round(roc_auc_score(target_test, probabilities_one_test)*100,2)\n",
    "print(auc_roc)"
   ]
  },
  {
   "cell_type": "markdown",
   "metadata": {},
   "source": [
    "<div id=\"curva\"/>\n",
    "\n",
    "### Curva AUC-ROC"
   ]
  },
  {
   "cell_type": "code",
   "execution_count": 91,
   "metadata": {},
   "outputs": [],
   "source": [
    "fpr, tpr, thresholds = roc_curve(target_test, probabilities_one_test) "
   ]
  },
  {
   "cell_type": "code",
   "execution_count": 92,
   "metadata": {},
   "outputs": [
    {
     "data": {
      "image/png": "[encoded data removed]",
      "text/plain": [
       "<Figure size 432x288 with 1 Axes>"
      ]
     },
     "metadata": {
      "needs_background": "light"
     },
     "output_type": "display_data"
    }
   ],
   "source": [
    "plt.figure()\n",
    "plt.plot(fpr, tpr)\n",
    "# ROC curve for random model (looks like a straight line)\n",
    "plt.plot([0, 1], [0, 1], linestyle='--')\n",
    "plt.xlabel('False Positive Rate')\n",
    "plt.ylabel('True Positive Rate')\n",
    "plt.ylim([0.0, 1.0])\n",
    "plt.xlim([0.0, 1.0])\n",
    "plt.title('ROC curve')\n",
    "plt.show()"
   ]
  },
  {
   "cell_type": "markdown",
   "metadata": {},
   "source": [
    "<div id=\"conclusiones\"/>\n",
    "\n",
    "## Conclusiones\n",
    "\n",
    "1. El DataFrame original contiene 14 columnas y 10000 registros.\n",
    "2. La columna \"tenure\" tiene datos ausentes, que fueron imputados con la mediana.\n",
    "3. No hay datos duplicados.\n",
    "4. El dataset fue seccionado en 60% para el modelo de entrenamiento y del 40% restante se destinaron 50% para datos de validación y 50% datos de prueba.\n",
    "5. Se excluyeron del análisis las características \"customer_id\", \"row_number\" y \"surname\" por ser códigos únicos.\n",
    "6. Se etiquetaron las variables categóricas de \"genre\" y \"geography\".\n",
    "7. Se escalaron las características \"credit_score\", \"balance\" y \"estimated_salary\".\n",
    "8. Sin balancear las clases, el mejor modelo que hizo las predicciones fue el Random Forest Classifier y los más alejados fueron el modelo constante y el linear regression.\n",
    "9. Se hizo balance de clases empleando \"ajuste de clases\", \"sobremuestreo\", \"submuestreo\", determinando que el modelo que mejor se ajusto (mayor f1) fue Random Forest Classifier con los hiperparámetros: n_estimators=46, depth=8 y class_weight=\"balanced\".\n",
    "10. La evaluación del modelo Random Forest Classifier en los datos de prueba arrojó un f1 de 60% y en la data completa 67%.\n",
    "11. El AUC-ROC fue de 85%.\n",
    "\n",
    "\n"
   ]
  }
 ],
 "metadata": {
  "kernelspec": {
   "display_name": "Python 3 (ipykernel)",
   "language": "python",
   "name": "python3"
  },
  "language_info": {
   "codemirror_mode": {
    "name": "ipython",
    "version": 3
   },
   "file_extension": ".py",
   "mimetype": "text/x-python",
   "name": "python",
   "nbconvert_exporter": "python",
   "pygments_lexer": "ipython3",
   "version": "3.9.5"
  },
  "toc": {
   "base_numbering": 1,
   "nav_menu": {},
   "number_sections": true,
   "sideBar": true,
   "skip_h1_title": true,
   "title_cell": "Table of Contents",
   "title_sidebar": "Contents",
   "toc_cell": false,
   "toc_position": {},
   "toc_section_display": true,
   "toc_window_display": true
  }
 },
 "nbformat": 4,
 "nbformat_minor": 2
}
