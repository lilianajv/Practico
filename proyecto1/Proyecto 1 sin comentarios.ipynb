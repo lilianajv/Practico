{
 "cells": [
  {
   "cell_type": "markdown",
   "metadata": {},
   "source": [
    "# Revisión (primera iteración)\n",
    "\n"
   ]
  },
  {
   "cell_type": "markdown",
   "metadata": {
    "id": "E0vqbgi9ay0H"
   },
   "source": [
    "# Yandex.Music"
   ]
  },
  {
   "cell_type": "markdown",
   "metadata": {
    "id": "fhq_eyov_Zcs"
   },
   "source": [
    "# Contents <a id='back'></a>\n",
    "\n",
    "* [Introducción](#intro)\n",
    "* [Etapa 1. Descripción de los datos](#data_review)\n",
    "    * [Conclusions](#data_review_conclusions)\n",
    "* [Etapa 2. Data preprocessing](#data_preprocessing)\n",
    "    * [2.1 Estilo del encabezado](#header_style)\n",
    "    * [2.2 Valores ausentes](#missing_values)\n",
    "    * [2.3 Duplicados](#duplicates)\n",
    "    * [2.4 Conclusiones](#data_preprocessing_conclusions)\n",
    "* [Etapa 3. Prueba de hipótesis](#hypotheses)\n",
    "    * [3.1 Hipótesis 1: comparar el comportamiento del usuario en las dos ciudades](#activity)\n",
    "    * [3.2 Hipótesis 2: música al principio y al final de la semana](#week)\n",
    "    * [3.3 Hipótesis 3: preferencias de género en Springfield y Shelbyville](#genre)\n",
    "* [Conclusiones](#end)"
   ]
  },
  {
   "cell_type": "markdown",
   "metadata": {
    "id": "VUC88oWjTJw2"
   },
   "source": [
    "## Introducción <a id='intro'></a>\n",
    "Siempre que investiguemos, necesitamos formular hipótesis que después podamos probar. A veces aceptamos estas hipótesis; otras, las rechazamos. Para tomar las decisiones correctas, una empresa debe ser capaz de entender si está haciendo las suposiciones correctas.\n",
    "\n",
    "En este proyecto, compararás las preferencias musicales de las ciudades de Springfield y Shelbyville. Estudiarás datos reales de Yandex.Music para probar las hipótesis de abajo y comparar el comportamiento del usuario de esas dos ciudades.\n",
    "\n",
    "### Objetivo: \n",
    "Prueba tres hipótesis: \n",
    "1. La actividad de los usuarios difiere según el día de la semana y dependiendo de la ciudad. \n",
    "2. Los lunes por la mañana, los habitantes de Springfield y Shelbyville escuchan diferentes géneros. Lo mismo ocurre con los viernes por la noche. \n",
    "3. Los oyentes de Springfield y Shelbyville tienen preferencias distintas. En Springfield prefieren el pop mientras que en Shelbyville hay más aficionados al rap.\n",
    "\n",
    "### Etapas \n",
    "Los datos del comportamiento del usuario se almacenan en el archivo `/datasets/music_project_en.csv`. No hay ninguna información sobre la calidad de los datos así que necesitarás examinarlos antes de probar las hipótesis. \n",
    "\n",
    "Primero, evaluarás la calidad de los datos y verás si los problemas son significativos. Entonces, durante el preprocesamiento de datos, tomarás en cuenta los problemas más críticos.\n",
    " \n",
    "Tu proyecto consistirá en tres etapas:\n",
    " 1. Descripción de los datos\n",
    " 2. Preprocesamiento de datos\n",
    " 3. Prueba de hipótesis\n",
    " \n",
    "[Volver a Contenidos](#back)"
   ]
  },
  {
   "cell_type": "markdown",
   "metadata": {
    "id": "Ml1hmfXC_Zcs"
   },
   "source": [
    "## Etapa 1. Descripción de los datos <a id='data_review'></a>\n",
    "\n",
    "Abre los datos en Yandex.Music y examínalos."
   ]
  },
  {
   "cell_type": "markdown",
   "metadata": {
    "id": "57eAOGIz_Zcs"
   },
   "source": [
    "Necesitarás `pandas` así que impórtalo."
   ]
  },
  {
   "cell_type": "code",
   "execution_count": 1,
   "metadata": {
    "id": "AXN7PHPN_Zcs"
   },
   "outputs": [],
   "source": [
    "# importando pandas\n",
    "import pandas as pd\n"
   ]
  },
  {
   "cell_type": "markdown",
   "metadata": {
    "id": "SG23P8tt_Zcs"
   },
   "source": [
    "Lee el archivo `music_project_en.csv` de la carpeta `/datasets/` y guárdalo en la variable `df`:"
   ]
  },
  {
   "cell_type": "code",
   "execution_count": 2,
   "metadata": {
    "id": "fFVu7vqh_Zct"
   },
   "outputs": [
    {
     "data": {
      "text/html": [
       "<div>\n",
       "<style scoped>\n",
       "    .dataframe tbody tr th:only-of-type {\n",
       "        vertical-align: middle;\n",
       "    }\n",
       "\n",
       "    .dataframe tbody tr th {\n",
       "        vertical-align: top;\n",
       "    }\n",
       "\n",
       "    .dataframe thead th {\n",
       "        text-align: right;\n",
       "    }\n",
       "</style>\n",
       "<table border=\"1\" class=\"dataframe\">\n",
       "  <thead>\n",
       "    <tr style=\"text-align: right;\">\n",
       "      <th></th>\n",
       "      <th>userID</th>\n",
       "      <th>Track</th>\n",
       "      <th>artist</th>\n",
       "      <th>genre</th>\n",
       "      <th>City</th>\n",
       "      <th>time</th>\n",
       "      <th>Day</th>\n",
       "    </tr>\n",
       "  </thead>\n",
       "  <tbody>\n",
       "    <tr>\n",
       "      <th>count</th>\n",
       "      <td>65079</td>\n",
       "      <td>63736</td>\n",
       "      <td>57512</td>\n",
       "      <td>63881</td>\n",
       "      <td>65079</td>\n",
       "      <td>65079</td>\n",
       "      <td>65079</td>\n",
       "    </tr>\n",
       "    <tr>\n",
       "      <th>unique</th>\n",
       "      <td>41748</td>\n",
       "      <td>39666</td>\n",
       "      <td>37806</td>\n",
       "      <td>268</td>\n",
       "      <td>2</td>\n",
       "      <td>20392</td>\n",
       "      <td>3</td>\n",
       "    </tr>\n",
       "    <tr>\n",
       "      <th>top</th>\n",
       "      <td>A8AE9169</td>\n",
       "      <td>Brand</td>\n",
       "      <td>Kartvelli</td>\n",
       "      <td>pop</td>\n",
       "      <td>Springfield</td>\n",
       "      <td>08:14:07</td>\n",
       "      <td>Friday</td>\n",
       "    </tr>\n",
       "    <tr>\n",
       "      <th>freq</th>\n",
       "      <td>76</td>\n",
       "      <td>136</td>\n",
       "      <td>136</td>\n",
       "      <td>8850</td>\n",
       "      <td>45360</td>\n",
       "      <td>14</td>\n",
       "      <td>23149</td>\n",
       "    </tr>\n",
       "  </tbody>\n",
       "</table>\n",
       "</div>"
      ],
      "text/plain": [
       "          userID  Track     artist  genre       City        time     Day\n",
       "count      65079  63736      57512  63881        65079     65079   65079\n",
       "unique     41748  39666      37806    268            2     20392       3\n",
       "top     A8AE9169  Brand  Kartvelli    pop  Springfield  08:14:07  Friday\n",
       "freq          76    136        136   8850        45360        14   23149"
      ]
     },
     "execution_count": 2,
     "metadata": {},
     "output_type": "execute_result"
    }
   ],
   "source": [
    "# leyendo el archivo y almacenándolo en df\n",
    "df = pd.read_csv(\"/datasets/music_project_en.csv\")\n",
    "df.describe()"
   ]
  },
  {
   "cell_type": "markdown",
   "metadata": {
    "id": "rDoOMd3uTqnZ"
   },
   "source": [
    "Imprime las 10 primeras filas de la tabla:"
   ]
  },
  {
   "cell_type": "code",
   "execution_count": 3,
   "metadata": {
    "id": "oWTVX3gW_Zct"
   },
   "outputs": [
    {
     "data": {
      "text/html": [
       "<div>\n",
       "<style scoped>\n",
       "    .dataframe tbody tr th:only-of-type {\n",
       "        vertical-align: middle;\n",
       "    }\n",
       "\n",
       "    .dataframe tbody tr th {\n",
       "        vertical-align: top;\n",
       "    }\n",
       "\n",
       "    .dataframe thead th {\n",
       "        text-align: right;\n",
       "    }\n",
       "</style>\n",
       "<table border=\"1\" class=\"dataframe\">\n",
       "  <thead>\n",
       "    <tr style=\"text-align: right;\">\n",
       "      <th></th>\n",
       "      <th>userID</th>\n",
       "      <th>Track</th>\n",
       "      <th>artist</th>\n",
       "      <th>genre</th>\n",
       "      <th>City</th>\n",
       "      <th>time</th>\n",
       "      <th>Day</th>\n",
       "    </tr>\n",
       "  </thead>\n",
       "  <tbody>\n",
       "    <tr>\n",
       "      <th>0</th>\n",
       "      <td>FFB692EC</td>\n",
       "      <td>Kamigata To Boots</td>\n",
       "      <td>The Mass Missile</td>\n",
       "      <td>rock</td>\n",
       "      <td>Shelbyville</td>\n",
       "      <td>20:28:33</td>\n",
       "      <td>Wednesday</td>\n",
       "    </tr>\n",
       "    <tr>\n",
       "      <th>1</th>\n",
       "      <td>55204538</td>\n",
       "      <td>Delayed Because of Accident</td>\n",
       "      <td>Andreas Rönnberg</td>\n",
       "      <td>rock</td>\n",
       "      <td>Springfield</td>\n",
       "      <td>14:07:09</td>\n",
       "      <td>Friday</td>\n",
       "    </tr>\n",
       "    <tr>\n",
       "      <th>2</th>\n",
       "      <td>20EC38</td>\n",
       "      <td>Funiculì funiculà</td>\n",
       "      <td>Mario Lanza</td>\n",
       "      <td>pop</td>\n",
       "      <td>Shelbyville</td>\n",
       "      <td>20:58:07</td>\n",
       "      <td>Wednesday</td>\n",
       "    </tr>\n",
       "    <tr>\n",
       "      <th>3</th>\n",
       "      <td>A3DD03C9</td>\n",
       "      <td>Dragons in the Sunset</td>\n",
       "      <td>Fire + Ice</td>\n",
       "      <td>folk</td>\n",
       "      <td>Shelbyville</td>\n",
       "      <td>08:37:09</td>\n",
       "      <td>Monday</td>\n",
       "    </tr>\n",
       "    <tr>\n",
       "      <th>4</th>\n",
       "      <td>E2DC1FAE</td>\n",
       "      <td>Soul People</td>\n",
       "      <td>Space Echo</td>\n",
       "      <td>dance</td>\n",
       "      <td>Springfield</td>\n",
       "      <td>08:34:34</td>\n",
       "      <td>Monday</td>\n",
       "    </tr>\n",
       "    <tr>\n",
       "      <th>5</th>\n",
       "      <td>842029A1</td>\n",
       "      <td>Chains</td>\n",
       "      <td>Obladaet</td>\n",
       "      <td>rusrap</td>\n",
       "      <td>Shelbyville</td>\n",
       "      <td>13:09:41</td>\n",
       "      <td>Friday</td>\n",
       "    </tr>\n",
       "    <tr>\n",
       "      <th>6</th>\n",
       "      <td>4CB90AA5</td>\n",
       "      <td>True</td>\n",
       "      <td>Roman Messer</td>\n",
       "      <td>dance</td>\n",
       "      <td>Springfield</td>\n",
       "      <td>13:00:07</td>\n",
       "      <td>Wednesday</td>\n",
       "    </tr>\n",
       "    <tr>\n",
       "      <th>7</th>\n",
       "      <td>F03E1C1F</td>\n",
       "      <td>Feeling This Way</td>\n",
       "      <td>Polina Griffith</td>\n",
       "      <td>dance</td>\n",
       "      <td>Springfield</td>\n",
       "      <td>20:47:49</td>\n",
       "      <td>Wednesday</td>\n",
       "    </tr>\n",
       "    <tr>\n",
       "      <th>8</th>\n",
       "      <td>8FA1D3BE</td>\n",
       "      <td>L’estate</td>\n",
       "      <td>Julia Dalia</td>\n",
       "      <td>ruspop</td>\n",
       "      <td>Springfield</td>\n",
       "      <td>09:17:40</td>\n",
       "      <td>Friday</td>\n",
       "    </tr>\n",
       "    <tr>\n",
       "      <th>9</th>\n",
       "      <td>E772D5C0</td>\n",
       "      <td>Pessimist</td>\n",
       "      <td>NaN</td>\n",
       "      <td>dance</td>\n",
       "      <td>Shelbyville</td>\n",
       "      <td>21:20:49</td>\n",
       "      <td>Wednesday</td>\n",
       "    </tr>\n",
       "  </tbody>\n",
       "</table>\n",
       "</div>"
      ],
      "text/plain": [
       "     userID                        Track            artist   genre  \\\n",
       "0  FFB692EC            Kamigata To Boots  The Mass Missile    rock   \n",
       "1  55204538  Delayed Because of Accident  Andreas Rönnberg    rock   \n",
       "2    20EC38            Funiculì funiculà       Mario Lanza     pop   \n",
       "3  A3DD03C9        Dragons in the Sunset        Fire + Ice    folk   \n",
       "4  E2DC1FAE                  Soul People        Space Echo   dance   \n",
       "5  842029A1                       Chains          Obladaet  rusrap   \n",
       "6  4CB90AA5                         True      Roman Messer   dance   \n",
       "7  F03E1C1F             Feeling This Way   Polina Griffith   dance   \n",
       "8  8FA1D3BE                     L’estate       Julia Dalia  ruspop   \n",
       "9  E772D5C0                    Pessimist               NaN   dance   \n",
       "\n",
       "        City        time        Day  \n",
       "0  Shelbyville  20:28:33  Wednesday  \n",
       "1  Springfield  14:07:09     Friday  \n",
       "2  Shelbyville  20:58:07  Wednesday  \n",
       "3  Shelbyville  08:37:09     Monday  \n",
       "4  Springfield  08:34:34     Monday  \n",
       "5  Shelbyville  13:09:41     Friday  \n",
       "6  Springfield  13:00:07  Wednesday  \n",
       "7  Springfield  20:47:49  Wednesday  \n",
       "8  Springfield  09:17:40     Friday  \n",
       "9  Shelbyville  21:20:49  Wednesday  "
      ]
     },
     "execution_count": 3,
     "metadata": {},
     "output_type": "execute_result"
    }
   ],
   "source": [
    "# obteniendo las 10 primeras filas de la tabla df\n",
    "df.head(10)"
   ]
  },
  {
   "cell_type": "markdown",
   "metadata": {
    "id": "EO73Kwic_Zct"
   },
   "source": [
    "Obtener la información general sobre la tabla con un comando:"
   ]
  },
  {
   "cell_type": "code",
   "execution_count": 4,
   "metadata": {
    "id": "DSf2kIb-_Zct"
   },
   "outputs": [
    {
     "name": "stdout",
     "output_type": "stream",
     "text": [
      "<class 'pandas.core.frame.DataFrame'>\n",
      "RangeIndex: 65079 entries, 0 to 65078\n",
      "Data columns (total 7 columns):\n",
      " #   Column    Non-Null Count  Dtype \n",
      "---  ------    --------------  ----- \n",
      " 0     userID  65079 non-null  object\n",
      " 1   Track     63736 non-null  object\n",
      " 2   artist    57512 non-null  object\n",
      " 3   genre     63881 non-null  object\n",
      " 4     City    65079 non-null  object\n",
      " 5   time      65079 non-null  object\n",
      " 6   Day       65079 non-null  object\n",
      "dtypes: object(7)\n",
      "memory usage: 3.5+ MB\n"
     ]
    }
   ],
   "source": [
    "# obteniendo información general sobre los datos en df\n",
    "df.info()"
   ]
  },
  {
   "cell_type": "markdown",
   "metadata": {
    "id": "TaQ2Iwbr_Zct"
   },
   "source": [
    "La tabla contiene siete columnas. Todas almacenan el mismo tipo de datos: objeto.\n",
    "\n",
    "De acuerdo con la documentación:\n",
    "- `'userID'` — identificador del usuario\n",
    "- `'Track'` — título de la pista\n",
    "- `'artist'` — nombre del artista\n",
    "- `'genre'` — género\n",
    "- `'City'` — ciudad del usuario\n",
    "- `'time'` — el periodo de tiempo exacto en que se reprodujo la pista\n",
    "- `'Day'` — día de la semana\n",
    "\n",
    "Podemos ver tres problemas con el estilo en los nombres de las columnas:\n",
    "1. Algunos nombres están en mayúsculas, otros en minúsculas.\n",
    "2. Hay algunos espacios en algunos nombres.\n",
    "3. Hay nombres donde está mezclado mayúscula con minúsculas que pueden ser separados con guion y todo minúscula.\n",
    "\n",
    "El número de valores de las columnas es diferente. Esto significa que los datos contienen valores ausentes.\n"
   ]
  },
  {
   "cell_type": "markdown",
   "metadata": {
    "id": "MCB6-dXG_Zct"
   },
   "source": [
    "### Conclusiones <a id='data_review_conclusions'></a> \n",
    "\n",
    "Cada fila de la tabla almacena datos de la pista que fue reproducida. Algunas columnas describen la pista en sí: su título, el artista y el género. El resto transmite la información del usuario: la ciudad de la que viene, el tiempo que ha reproducido la pista. \n",
    "\n",
    "Está claro que los datos son suficientes para probar la hipótesis. Sin embargo, hay valores ausentes.\n",
    "\n",
    "Para continuar, necesitamos preprocesar los datos."
   ]
  },
  {
   "cell_type": "markdown",
   "metadata": {
    "id": "3eL__vcwViOi"
   },
   "source": [
    "[Volver a Contenidos](#back)"
   ]
  },
  {
   "cell_type": "markdown",
   "metadata": {
    "id": "SjYF6Ub9_Zct"
   },
   "source": [
    "## Etapa 2. Preprocesamiento de datos <a id='data_preprocessing'></a>\n",
    "Corrige el formato en los encabezados de las columnas y ocúpate de los valores ausentes. Después, comprueba si hay duplicados en los datos."
   ]
  },
  {
   "cell_type": "markdown",
   "metadata": {
    "id": "dIaKXr29_Zct"
   },
   "source": [
    "### Estilo del encabezado <a id='header_style'></a>\n",
    "Imprime el encabezado de la columna:"
   ]
  },
  {
   "cell_type": "code",
   "execution_count": 5,
   "metadata": {
    "id": "oKOTdF_Q_Zct"
   },
   "outputs": [
    {
     "data": {
      "text/plain": [
       "Index(['  userID', 'Track', 'artist', 'genre', '  City  ', 'time', 'Day'], dtype='object')"
      ]
     },
     "execution_count": 5,
     "metadata": {},
     "output_type": "execute_result"
    }
   ],
   "source": [
    "# la lista de los nombres de las columnas en la tabla df\n",
    "df.columns"
   ]
  },
  {
   "cell_type": "markdown",
   "metadata": {
    "id": "zj5534cv_Zct"
   },
   "source": [
    "Cambia los nombres de las columnas de acuerdo con las reglas del buen estilo:\n",
    "* Si el nombre tiene varias palabras, utiliza snake_case\n",
    "* Todos los caracteres deben ser minúsculas\n",
    "* Elimina los espacios"
   ]
  },
  {
   "cell_type": "code",
   "execution_count": 6,
   "metadata": {
    "id": "ISlFqs5y_Zct"
   },
   "outputs": [],
   "source": [
    "# renombra las columnas\n",
    "df = df.rename(\n",
    "    columns = {\n",
    "        \"  userID\" : \"user_id\",\n",
    "        \"Track\" : \"track\",\n",
    "        \"  City  \" : \"city\",\n",
    "        \"Day\" : \"day\"\n",
    "    }\n",
    ")"
   ]
  },
  {
   "cell_type": "markdown",
   "metadata": {
    "id": "1dqbh00J_Zct"
   },
   "source": [
    "Comprueba el resultado. Imprime los nombres de las columnas una vez más:"
   ]
  },
  {
   "cell_type": "code",
   "execution_count": 7,
   "metadata": {
    "id": "d4NOAmTW_Zct"
   },
   "outputs": [
    {
     "data": {
      "text/plain": [
       "Index(['user_id', 'track', 'artist', 'genre', 'city', 'time', 'day'], dtype='object')"
      ]
     },
     "execution_count": 7,
     "metadata": {},
     "output_type": "execute_result"
    }
   ],
   "source": [
    "# comprobando el resultado: la lista de los nombres de las columnas\n",
    "df.columns"
   ]
  },
  {
   "cell_type": "markdown",
   "metadata": {
    "id": "xYJk6ksJVpOl"
   },
   "source": [
    "[Volver a Contenidos](#back)"
   ]
  },
  {
   "cell_type": "markdown",
   "metadata": {
    "id": "5ISfbcfY_Zct"
   },
   "source": [
    "### Valores ausentes <a id='missing_values'></a>\n",
    "Primero encuentra el número de valores ausentes en la tabla. Para ello, utiliza dos métodos pandas:"
   ]
  },
  {
   "cell_type": "code",
   "execution_count": 8,
   "metadata": {
    "id": "RskX29qr_Zct"
   },
   "outputs": [
    {
     "name": "stdout",
     "output_type": "stream",
     "text": [
      "user_id       0\n",
      "track      1343\n",
      "artist     7567\n",
      "genre      1198\n",
      "city          0\n",
      "time          0\n",
      "day           0\n",
      "dtype: int64\n"
     ]
    }
   ],
   "source": [
    "# calculando valores ausentes\n",
    "print(df.isna().sum())"
   ]
  },
  {
   "cell_type": "markdown",
   "metadata": {
    "id": "qubhgnlO_Zct"
   },
   "source": [
    "No todos los valores ausentes afectan a la investigación. Por ejemplo, los valores ausentes en la pista y artista no son cruciales. Simplemente puedes reemplazarlos por marcadores claros.\n",
    "\n",
    "Pero los valores ausentes en `'genre'` pueden afectar la comparación entre las preferencias musicales de Springfield y Shelbyville. En la vida real, sería útil saber las razones por las cuales hay datos ausentes e intentar recuperarlos. Pero no tenemos esa oportunidad en este proyecto. Así que tendrás que:\n",
    "* Rellenar esos valores ausentes con marcadores\n",
    "* Evaluar cuánto podrían afectar los valores ausentes a tus cómputos."
   ]
  },
  {
   "cell_type": "markdown",
   "metadata": {
    "id": "fSv2laPA_Zct"
   },
   "source": [
    "Reemplazar los valores ausentes en `'track'`, `'artist'`, y `'genre'` con la string `'unknown'`. Para ello, crea la lista `columns_to_replace`, recórrela con un bucle `for` y reemplaza los valores ausentes en cada una de las columnas:"
   ]
  },
  {
   "cell_type": "code",
   "execution_count": 9,
   "metadata": {
    "id": "KplB5qWs_Zct"
   },
   "outputs": [],
   "source": [
    "# recorriendo los nombres de las columnas y reemplazando los valores ausentes con 'unknown'\n",
    "columns_to_replace = [\"track\" , \"artist\" , \"genre\"]\n",
    "for col in columns_to_replace:\n",
    "    df[col] = df[col].fillna('unknown')\n"
   ]
  },
  {
   "cell_type": "markdown",
   "metadata": {
    "id": "Ilsm-MZo_Zct"
   },
   "source": [
    "Asegúrate de que la tabla no contiene más valores ausentes. Cuenta de nuevo los valores ausentes."
   ]
  },
  {
   "cell_type": "code",
   "execution_count": 10,
   "metadata": {
    "id": "Tq4nYRX4_Zct"
   },
   "outputs": [
    {
     "name": "stdout",
     "output_type": "stream",
     "text": [
      "user_id    0\n",
      "track      0\n",
      "artist     0\n",
      "genre      0\n",
      "city       0\n",
      "time       0\n",
      "day        0\n",
      "dtype: int64\n"
     ]
    }
   ],
   "source": [
    "# contando valores ausentes\n",
    "print(df.isna().sum())\n"
   ]
  },
  {
   "cell_type": "markdown",
   "metadata": {
    "id": "74ZIBmq9VrsK"
   },
   "source": [
    "[Volver a Contenidos](#back)"
   ]
  },
  {
   "cell_type": "markdown",
   "metadata": {
    "id": "BWKRtBJ3_Zct"
   },
   "source": [
    "### Duplicados <a id='duplicates'></a>\n",
    "Encuentra el número de duplicados obvios en la tabla utilizando un comando:"
   ]
  },
  {
   "cell_type": "code",
   "execution_count": 11,
   "metadata": {
    "id": "36eES_S0_Zct"
   },
   "outputs": [
    {
     "name": "stdout",
     "output_type": "stream",
     "text": [
      "3826\n"
     ]
    }
   ],
   "source": [
    "# contando duplicado obvios\n",
    "print(df.duplicated().sum())"
   ]
  },
  {
   "cell_type": "markdown",
   "metadata": {
    "id": "Ot25h6XR_Zct"
   },
   "source": [
    "Llama al método `pandas` para deshacerte de los duplicados obvios:"
   ]
  },
  {
   "cell_type": "code",
   "execution_count": 12,
   "metadata": {
    "id": "exFHq6tt_Zct"
   },
   "outputs": [],
   "source": [
    "df = df.drop_duplicates().reset_index()"
   ]
  },
  {
   "cell_type": "markdown",
   "metadata": {
    "id": "Im2YwBEG_Zct"
   },
   "source": [
    "Cuenta los duplicados obvios una vez más para asegurarte de que todos han sido eliminados:"
   ]
  },
  {
   "cell_type": "code",
   "execution_count": 13,
   "metadata": {
    "id": "-8PuNWQ0_Zct"
   },
   "outputs": [
    {
     "name": "stdout",
     "output_type": "stream",
     "text": [
      "0\n"
     ]
    }
   ],
   "source": [
    "# comprobando duplicados\n",
    "print(df.duplicated().sum())"
   ]
  },
  {
   "cell_type": "markdown",
   "metadata": {
    "id": "QlFBsxAr_Zct"
   },
   "source": [
    "Ahora deshazte de los duplicados implícitos en la columna genre. Por ejemplo, el nombre de un género se puede escribir de varias formas. Dichos errores también pueden afectar a resultado."
   ]
  },
  {
   "cell_type": "markdown",
   "metadata": {
    "id": "eSjWwsOh_Zct"
   },
   "source": [
    "Imprime una lista de nombres únicos de géneros, ordenados en orden alfabético. Cómo se hace:\n",
    "* Recupera la deseada columna DataFrame \n",
    "* Aplícale un método de orden\n",
    "* Para la columna ordenada, llama al método que te devolverá todos los valores de columna únicos"
   ]
  },
  {
   "cell_type": "code",
   "execution_count": 14,
   "metadata": {
    "id": "JIUcqzZN_Zct"
   },
   "outputs": [
    {
     "name": "stdout",
     "output_type": "stream",
     "text": [
      "['acid', 'acoustic', 'action', 'adult', 'africa', 'afrikaans', 'alternative', 'ambient', 'americana', 'animated', 'anime', 'arabesk', 'arabic', 'arena', 'argentinetango', 'art', 'audiobook', 'avantgarde', 'axé', 'baile', 'balkan', 'beats', 'bigroom', 'black', 'bluegrass', 'blues', 'bollywood', 'bossa', 'brazilian', 'breakbeat', 'breaks', 'broadway', 'cantautori', 'cantopop', 'canzone', 'caribbean', 'caucasian', 'celtic', 'chamber', 'children', 'chill', 'chinese', 'choral', 'christian', 'christmas', 'classical', 'classicmetal', 'club', 'colombian', 'comedy', 'conjazz', 'contemporary', 'country', 'cuban', 'dance', 'dancehall', 'dancepop', 'dark', 'death', 'deep', 'deutschrock', 'deutschspr', 'dirty', 'disco', 'dnb', 'documentary', 'downbeat', 'downtempo', 'drum', 'dub', 'dubstep', 'eastern', 'easy', 'electronic', 'electropop', 'emo', 'entehno', 'epicmetal', 'estrada', 'ethnic', 'eurofolk', 'european', 'experimental', 'extrememetal', 'fado', 'film', 'fitness', 'flamenco', 'folk', 'folklore', 'folkmetal', 'folkrock', 'folktronica', 'forró', 'frankreich', 'französisch', 'french', 'funk', 'future', 'gangsta', 'garage', 'german', 'ghazal', 'gitarre', 'glitch', 'gospel', 'gothic', 'grime', 'grunge', 'gypsy', 'handsup', \"hard'n'heavy\", 'hardcore', 'hardstyle', 'hardtechno', 'hip', 'hip-hop', 'hiphop', 'historisch', 'holiday', 'hop', 'horror', 'house', 'idm', 'independent', 'indian', 'indie', 'indipop', 'industrial', 'inspirational', 'instrumental', 'international', 'irish', 'jam', 'japanese', 'jazz', 'jewish', 'jpop', 'jungle', 'k-pop', 'karadeniz', 'karaoke', 'kayokyoku', 'korean', 'laiko', 'latin', 'latino', 'leftfield', 'local', 'lounge', 'loungeelectronic', 'lovers', 'malaysian', 'mandopop', 'marschmusik', 'meditative', 'mediterranean', 'melodic', 'metal', 'metalcore', 'mexican', 'middle', 'minimal', 'miscellaneous', 'modern', 'mood', 'mpb', 'muslim', 'native', 'neoklassik', 'neue', 'new', 'newage', 'newwave', 'nu', 'nujazz', 'numetal', 'oceania', 'old', 'opera', 'orchestral', 'other', 'piano', 'pop', 'popelectronic', 'popeurodance', 'post', 'posthardcore', 'postrock', 'power', 'progmetal', 'progressive', 'psychedelic', 'punjabi', 'punk', 'quebecois', 'ragga', 'ram', 'rancheras', 'rap', 'rave', 'reggae', 'reggaeton', 'regional', 'relax', 'religious', 'retro', 'rhythm', 'rnb', 'rnr', 'rock', 'rockabilly', 'romance', 'roots', 'ruspop', 'rusrap', 'rusrock', 'salsa', 'samba', 'schlager', 'self', 'sertanejo', 'shoegazing', 'showtunes', 'singer', 'ska', 'slow', 'smooth', 'soul', 'soulful', 'sound', 'soundtrack', 'southern', 'specialty', 'speech', 'spiritual', 'sport', 'stonerrock', 'surf', 'swing', 'synthpop', 'sängerportrait', 'tango', 'tanzorchester', 'taraftar', 'tech', 'techno', 'thrash', 'top', 'traditional', 'tradjazz', 'trance', 'tribal', 'trip', 'triphop', 'tropical', 'türk', 'türkçe', 'unknown', 'urban', 'uzbek', 'variété', 'vi', 'videogame', 'vocal', 'western', 'world', 'worldbeat', 'ïîï']\n"
     ]
    }
   ],
   "source": [
    "# inspeccionando los nombres de géneros únicos\n",
    "genre_name = df[\"genre\"]\n",
    "print(sorted(df[\"genre\"].unique()))"
   ]
  },
  {
   "cell_type": "markdown",
   "metadata": {
    "id": "qej-Qmuo_Zct"
   },
   "source": [
    "Busca en la lista para encontrar duplicados implícitos del género `hiphop`. Estos pueden ser nombres escritos incorrectamente o nombres alternativos para el mismo género.\n",
    "\n",
    "Verás los siguientes duplicados implícitos:\n",
    "* `hip`\n",
    "* `hop`\n",
    "* `hip-hop`\n",
    "\n",
    "Para deshacerte de ellos, declara la función `replace_wrong_genres()` con dos parámetros: \n",
    "* `wrong_genres=` — la lista de duplicados\n",
    "* `correct_genre=` — la string con el valor correcto\n",
    "\n",
    "La función debería corregir los nombres en la columna `'genre'` de la tabla `df`, es decir, remplaza cada valor de la lista `wrong_genres` con el valor en `correct_genre`."
   ]
  },
  {
   "cell_type": "code",
   "execution_count": 15,
   "metadata": {
    "id": "ErNDkmns_Zct"
   },
   "outputs": [],
   "source": [
    "# función para reemplazar duplicados implícitos\n",
    "def replace_wrong_genres(wrong_genres,correct_genre):\n",
    "    for wrong in wrong_genres:\n",
    "        df[\"genre\"] = df[\"genre\"].replace(wrong, correct_genre)\n"
   ]
  },
  {
   "cell_type": "markdown",
   "metadata": {
    "id": "aDoBJxbA_Zct"
   },
   "source": [
    "Llama a `replace_wrong_genres()` y pásale argumentos para que retire los duplicados implícitos (`hip`, `hop` y `hip-hop`) y los reemplace por `hiphop`:"
   ]
  },
  {
   "cell_type": "code",
   "execution_count": 16,
   "metadata": {
    "id": "YN5i2hpmSo09"
   },
   "outputs": [],
   "source": [
    "# eliminando duplicados implícitos\n",
    "duplicates = [\"hip\", \"hop\", \"hip-hop\"]\n",
    "name = \"hiphop\"\n",
    "replace_wrong_genres(duplicates,name)\n"
   ]
  },
  {
   "cell_type": "markdown",
   "metadata": {
    "id": "zQKF16_RG15m"
   },
   "source": [
    "Asegúrate que los nombres duplicados han sido eliminados. Imprime la lista de valores únicos de la columna `'genre'`:"
   ]
  },
  {
   "cell_type": "code",
   "execution_count": 17,
   "metadata": {
    "id": "wvixALnFG15m"
   },
   "outputs": [
    {
     "name": "stdout",
     "output_type": "stream",
     "text": [
      "['acid', 'acoustic', 'action', 'adult', 'africa', 'afrikaans', 'alternative', 'ambient', 'americana', 'animated', 'anime', 'arabesk', 'arabic', 'arena', 'argentinetango', 'art', 'audiobook', 'avantgarde', 'axé', 'baile', 'balkan', 'beats', 'bigroom', 'black', 'bluegrass', 'blues', 'bollywood', 'bossa', 'brazilian', 'breakbeat', 'breaks', 'broadway', 'cantautori', 'cantopop', 'canzone', 'caribbean', 'caucasian', 'celtic', 'chamber', 'children', 'chill', 'chinese', 'choral', 'christian', 'christmas', 'classical', 'classicmetal', 'club', 'colombian', 'comedy', 'conjazz', 'contemporary', 'country', 'cuban', 'dance', 'dancehall', 'dancepop', 'dark', 'death', 'deep', 'deutschrock', 'deutschspr', 'dirty', 'disco', 'dnb', 'documentary', 'downbeat', 'downtempo', 'drum', 'dub', 'dubstep', 'eastern', 'easy', 'electronic', 'electropop', 'emo', 'entehno', 'epicmetal', 'estrada', 'ethnic', 'eurofolk', 'european', 'experimental', 'extrememetal', 'fado', 'film', 'fitness', 'flamenco', 'folk', 'folklore', 'folkmetal', 'folkrock', 'folktronica', 'forró', 'frankreich', 'französisch', 'french', 'funk', 'future', 'gangsta', 'garage', 'german', 'ghazal', 'gitarre', 'glitch', 'gospel', 'gothic', 'grime', 'grunge', 'gypsy', 'handsup', \"hard'n'heavy\", 'hardcore', 'hardstyle', 'hardtechno', 'hiphop', 'historisch', 'holiday', 'horror', 'house', 'idm', 'independent', 'indian', 'indie', 'indipop', 'industrial', 'inspirational', 'instrumental', 'international', 'irish', 'jam', 'japanese', 'jazz', 'jewish', 'jpop', 'jungle', 'k-pop', 'karadeniz', 'karaoke', 'kayokyoku', 'korean', 'laiko', 'latin', 'latino', 'leftfield', 'local', 'lounge', 'loungeelectronic', 'lovers', 'malaysian', 'mandopop', 'marschmusik', 'meditative', 'mediterranean', 'melodic', 'metal', 'metalcore', 'mexican', 'middle', 'minimal', 'miscellaneous', 'modern', 'mood', 'mpb', 'muslim', 'native', 'neoklassik', 'neue', 'new', 'newage', 'newwave', 'nu', 'nujazz', 'numetal', 'oceania', 'old', 'opera', 'orchestral', 'other', 'piano', 'pop', 'popelectronic', 'popeurodance', 'post', 'posthardcore', 'postrock', 'power', 'progmetal', 'progressive', 'psychedelic', 'punjabi', 'punk', 'quebecois', 'ragga', 'ram', 'rancheras', 'rap', 'rave', 'reggae', 'reggaeton', 'regional', 'relax', 'religious', 'retro', 'rhythm', 'rnb', 'rnr', 'rock', 'rockabilly', 'romance', 'roots', 'ruspop', 'rusrap', 'rusrock', 'salsa', 'samba', 'schlager', 'self', 'sertanejo', 'shoegazing', 'showtunes', 'singer', 'ska', 'slow', 'smooth', 'soul', 'soulful', 'sound', 'soundtrack', 'southern', 'specialty', 'speech', 'spiritual', 'sport', 'stonerrock', 'surf', 'swing', 'synthpop', 'sängerportrait', 'tango', 'tanzorchester', 'taraftar', 'tech', 'techno', 'thrash', 'top', 'traditional', 'tradjazz', 'trance', 'tribal', 'trip', 'triphop', 'tropical', 'türk', 'türkçe', 'unknown', 'urban', 'uzbek', 'variété', 'vi', 'videogame', 'vocal', 'western', 'world', 'worldbeat', 'ïîï']\n"
     ]
    }
   ],
   "source": [
    "# revisando en busca de duplicados implícitos\n",
    "print(sorted(df[\"genre\"].unique()))"
   ]
  },
  {
   "cell_type": "markdown",
   "metadata": {
    "id": "ALgNbvF3VtPA"
   },
   "source": [
    "[Volver a Contenidos](#back)"
   ]
  },
  {
   "cell_type": "markdown",
   "metadata": {
    "id": "jz6a9-7HQUDd"
   },
   "source": [
    "### Conclusiones <a id='data_preprocessing_conclusions'></a>\n",
    "Detectamos tres problemas con los datos:\n",
    "\n",
    "- Estilos de encabezados incorrectos\n",
    "- Valores ausentes\n",
    "- Duplicados obvios e implícitos\n",
    "\n",
    "Los encabezados han sido eliminados para conseguir que el procesamiento de la tabla sea más sencillo.\n",
    "\n",
    "Todos los valores ausentes han sido reemplazados por `'unknown'`. Pero todavía tenemos que ver si los valores ausentes en `'genre'` afectan a nuestros cálculos.\n",
    "\n",
    "La ausencia de duplicados hará que los resultados sean mas precisos y fáciles de entender.\n",
    "\n",
    "Ahora ya podemos continuar probando las hipótesis. "
   ]
  },
  {
   "cell_type": "markdown",
   "metadata": {
    "id": "eK1es74rVujj"
   },
   "source": [
    "[Volver a Contenidos](#back)"
   ]
  },
  {
   "cell_type": "markdown",
   "metadata": {
    "id": "WttZHXH0SqKk"
   },
   "source": [
    "## Etapa 3. Prueba de hipótesis <a id='hypotheses'></a>"
   ]
  },
  {
   "cell_type": "markdown",
   "metadata": {
    "id": "Im936VVi_Zcu"
   },
   "source": [
    "### Hipótesis 1: comparar el comportamiento del usuario en las dos ciudades <a id='activity'></a>"
   ]
  },
  {
   "cell_type": "markdown",
   "metadata": {
    "id": "nwt_MuaL_Zcu"
   },
   "source": [
    "De acuerdo con la primera hipótesis, los usuarios de Springfield y Shelbyville escuchan música de forma distinta. Comprueba esto utilizando los datos de tres días de la semana: lunes, miércoles y viernes.\n",
    "\n",
    "* Divide a los usuarios en grupos por ciudad.\n",
    "* Compara cuántas pistas reprodujo cada grupo el lunes, el miércoles y el viernes.\n"
   ]
  },
  {
   "cell_type": "markdown",
   "metadata": {
    "id": "8Dw_YMmT_Zcu"
   },
   "source": [
    "Por el bien del ejercicio, realiza cada cálculo de forma separada. \n",
    "\n",
    "Evalúa la actividad del usuario en cada ciudad. Agrupa los datos por ciudad y encuentra el número de canciones reproducidas en cada grupo.\n",
    "\n"
   ]
  },
  {
   "cell_type": "code",
   "execution_count": 18,
   "metadata": {
    "id": "0_Qs96oh_Zcu"
   },
   "outputs": [],
   "source": [
    "# contando las pistas reproducidas en cada ciudad\n",
    "city_grouping = df.groupby(\"city\")[\"track\"]\n",
    "city_count = city_grouping.count()\n"
   ]
  },
  {
   "cell_type": "markdown",
   "metadata": {
    "id": "dzli3w8o_Zcu"
   },
   "source": [
    "Springfield ha reproducido más pistas que Shelbyville. Pero eso no implica que los ciudadanos de Springfield escuchen música más a menudo. Esta ciudad es simplemente más grande y hay más usuarios.\n",
    "\n",
    "Ahora agrupa los datos por día de la semana y encuentra el número de pistas reproducidas el lunes, miércoles y viernes.\n"
   ]
  },
  {
   "cell_type": "code",
   "execution_count": 19,
   "metadata": {
    "id": "uZMKjiJz_Zcu"
   },
   "outputs": [],
   "source": [
    "# calculando las pistas reproducidas en cada uno de los tres días\n",
    "day_grouping = df.groupby(\"day\")[\"track\"]\n",
    "day_count = day_grouping.count()\n"
   ]
  },
  {
   "cell_type": "markdown",
   "metadata": {
    "id": "cC2tNrlL_Zcu"
   },
   "source": [
    "El miércoles fue el día más silencioso de todos. Pero si consideramos las dos ciudades por separado podríamos llegar a una conclusión diferente."
   ]
  },
  {
   "cell_type": "markdown",
   "metadata": {
    "id": "POzs8bGa_Zcu"
   },
   "source": [
    "Ya has visto cómo funciona el agrupar por ciudad o día. Ahora escribe la función que agrupará ambos.\n",
    "\n",
    "Crea la función `number_tracks()` para calcular el número de canciones reproducidas en un determinado día y ciudad. Requerirá dos parámetros:\n",
    "* día de la semana\n",
    "* nombre de la ciudad\n",
    "\n",
    "En la función, utiliza una variable para almacenar las filas de la tabla original, donde:\n",
    "  * el valor de la columna `'day'` es igual al parámetro de día\n",
    "  * el valor de la columna `'city'` es igual al parámetro de ciudad\n",
    "\n",
    "Aplica un filtrado consecutivo con indexación lógica.\n",
    "\n",
    "Después, calcula los valores de la columna `'user_id'` en la tabla resultante. Almacena el resultado en la nueva variable. Recupera esta variable de la función."
   ]
  },
  {
   "cell_type": "code",
   "execution_count": 20,
   "metadata": {
    "id": "Nz3GdQB1_Zcu"
   },
   "outputs": [],
   "source": [
    "# <creando la función number_tracks()>\n",
    "# declararemos la función con dos parámetros: day=, city=.\n",
    "def number_tracks(day=\"\", city=\"\"):\n",
    "    track_list = df[df[\"day\"] == day]\n",
    "    track_list = track_list[track_list[\"city\"] == city]\n",
    "    track_list_count = track_list[\"user_id\"].count()\n",
    "    return (track_list_count)\n"
   ]
  },
  {
   "cell_type": "markdown",
   "metadata": {
    "id": "ytf7xFrFJQ2r"
   },
   "source": [
    "Llama a `number_tracks()` seis veces, cambiando los valores de los parámetros, para que recuperes los datos de ambas ciudades para cada uno de los tres días."
   ]
  },
  {
   "cell_type": "code",
   "execution_count": 21,
   "metadata": {
    "id": "rJcRATNQ_Zcu"
   },
   "outputs": [
    {
     "data": {
      "text/plain": [
       "15740"
      ]
     },
     "execution_count": 21,
     "metadata": {},
     "output_type": "execute_result"
    }
   ],
   "source": [
    "# el número de canciones reproducidas en Springfield el lunes\n",
    "number_tracks(day=\"Monday\", city=\"Springfield\")"
   ]
  },
  {
   "cell_type": "code",
   "execution_count": 22,
   "metadata": {
    "id": "hq_ncZ5T_Zcu"
   },
   "outputs": [
    {
     "data": {
      "text/plain": [
       "5614"
      ]
     },
     "execution_count": 22,
     "metadata": {},
     "output_type": "execute_result"
    }
   ],
   "source": [
    "# el número de canciones reproducidas en Shelbyville el lunes\n",
    "number_tracks(day=\"Monday\", city=\"Shelbyville\")"
   ]
  },
  {
   "cell_type": "code",
   "execution_count": 23,
   "metadata": {
    "id": "_NTy2VPU_Zcu"
   },
   "outputs": [
    {
     "data": {
      "text/plain": [
       "11056"
      ]
     },
     "execution_count": 23,
     "metadata": {},
     "output_type": "execute_result"
    }
   ],
   "source": [
    "# el número de canciones reproducidas en Springfield el miércoles\n",
    "number_tracks(day=\"Wednesday\", city=\"Springfield\")"
   ]
  },
  {
   "cell_type": "code",
   "execution_count": 24,
   "metadata": {
    "id": "j2y3TAwo_Zcu"
   },
   "outputs": [
    {
     "data": {
      "text/plain": [
       "7003"
      ]
     },
     "execution_count": 24,
     "metadata": {},
     "output_type": "execute_result"
    }
   ],
   "source": [
    "# el número de canciones reproducidas en Shelbyville el miércoles\n",
    "number_tracks(day=\"Wednesday\", city=\"Shelbyville\")"
   ]
  },
  {
   "cell_type": "code",
   "execution_count": 25,
   "metadata": {
    "id": "vYDw5u_K_Zcu"
   },
   "outputs": [
    {
     "data": {
      "text/plain": [
       "15945"
      ]
     },
     "execution_count": 25,
     "metadata": {},
     "output_type": "execute_result"
    }
   ],
   "source": [
    "# el número de canciones reproducidas en Springfield el viernes\n",
    "number_tracks(day=\"Friday\", city=\"Springfield\")"
   ]
  },
  {
   "cell_type": "code",
   "execution_count": 26,
   "metadata": {
    "id": "8_yzFtW3_Zcu"
   },
   "outputs": [
    {
     "data": {
      "text/plain": [
       "5895"
      ]
     },
     "execution_count": 26,
     "metadata": {},
     "output_type": "execute_result"
    }
   ],
   "source": [
    "# el número de canciones reproducidas en Shelbyville el viernes\n",
    "number_tracks(day=\"Friday\", city=\"Shelbyville\")"
   ]
  },
  {
   "cell_type": "markdown",
   "metadata": {
    "id": "7QXffbO-_Zcu"
   },
   "source": [
    "Utiliza `pd.DataFrame` para crear una tabla, donde\n",
    "* Los nombres de las columnas son: `['city', 'monday', 'wednesday', 'friday']`\n",
    "* Los datos son los resultados que conseguiste de `number_tracks()`"
   ]
  },
  {
   "cell_type": "code",
   "execution_count": 27,
   "metadata": {},
   "outputs": [],
   "source": [
    "filtro_ss = ['city', 'monday', 'wednesday', 'friday']\n",
    "hipotesis_1 = pd.DataFrame(data= [\n",
    "    ['Springfield', number_tracks('Monday','Springfield'), number_tracks('Wednesday','Springfield'), number_tracks('Friday','Springfield') ],\n",
    "    ['Shelbyville', number_tracks('Monday','Shelbyville'), number_tracks('Wednesday','Shelbyville'), number_tracks('Friday','Shelbyville') ]\n",
    "        ], columns=filtro_ss)"
   ]
  },
  {
   "cell_type": "code",
   "execution_count": 28,
   "metadata": {
    "id": "APAcLpOr_Zcu"
   },
   "outputs": [
    {
     "name": "stdout",
     "output_type": "stream",
     "text": [
      "          city  monday  wednesday  friday\n",
      "0  Springfield   15740      11056   15945\n",
      "1  Shelbyville    5614       7003    5895\n"
     ]
    }
   ],
   "source": [
    "# tabla con los resultados\n",
    "print(hipotesis_1)"
   ]
  },
  {
   "cell_type": "markdown",
   "metadata": {
    "id": "-EgPIHYu_Zcu"
   },
   "source": [
    "**Conclusiones**\n",
    "\n",
    "Los datos revelan las diferencias en el comportamiento de los usuarios:\n",
    "\n",
    "- En Springfield, el número de canciones reproducidas alcanzan el punto máximo los lunes y viernes mientras que los miércoles hay un descenso de la actividad.\n",
    "- En Shelbyville, al contario, los usuarios escuchan más música los miércoles. La actividad de los usuarios los lunes y viernes es menor.\n",
    "\n",
    "Así que la primera hipótesis parece ser correcta."
   ]
  },
  {
   "cell_type": "markdown",
   "metadata": {
    "id": "p7nFQajCVw5B"
   },
   "source": [
    "[Volver a Contenidos](#back)"
   ]
  },
  {
   "cell_type": "markdown",
   "metadata": {
    "id": "atZAxtq4_Zcu"
   },
   "source": [
    "### Hipótesis 2: música al principio y al final de la semana <a id='week'></a>"
   ]
  },
  {
   "cell_type": "markdown",
   "metadata": {
    "id": "eXrQqXFH_Zcu"
   },
   "source": [
    "De acuerdo con la segunda hipótesis, los lunes por la mañana y los viernes por la noche los ciudadanos de Springfield escuchan géneros que difieren de aquellos que los usuarios de Shelbyville disfrutan."
   ]
  },
  {
   "cell_type": "markdown",
   "metadata": {
    "id": "S8UcW6Hw_Zcu"
   },
   "source": [
    "Obtén tablas (asegúrate de que el nombre de tu tabla combinada encaja con el DataFrame dado en los dos bloques de código de abajo):\n",
    "* Para Springfield — `spr_general`\n",
    "* Para Shelbyville — `shel_general`"
   ]
  },
  {
   "cell_type": "code",
   "execution_count": 29,
   "metadata": {
    "id": "qeaFfM_P_Zcu"
   },
   "outputs": [],
   "source": [
    "# obteniendo la tabla spr_general de las filas de df, \n",
    "\n",
    "spr_general = df[df[\"city\"] == \"Springfield\"]\n"
   ]
  },
  {
   "cell_type": "code",
   "execution_count": 30,
   "metadata": {
    "id": "ORaVRKto_Zcu"
   },
   "outputs": [],
   "source": [
    "# obteniendo shel_general de las filas df,\n",
    "\n",
    "shel_general = df[df[\"city\"] == \"Shelbyville\"]\n",
    "\n"
   ]
  },
  {
   "cell_type": "markdown",
   "metadata": {
    "id": "MEJV-CX2_Zcu"
   },
   "source": [
    "Escribe la función genre_weekday() con cuatro parámetros:\n",
    "* Una tabla para los datos (`df`)\n",
    "* El día de la semana (`day`)\n",
    "* La marca de fecha y hora en formato 'hh:mm' (`time1`)\n",
    "* La marca de fecha y hora en formato 'hh:mm' (`time2`)\n",
    "\n",
    "La función debería devolver información de los 15 géneros más populares de un día determinado en un período entre dos marcas de fecha y hora."
   ]
  },
  {
   "cell_type": "code",
   "execution_count": 31,
   "metadata": {
    "id": "laJT9BYl_Zcu"
   },
   "outputs": [],
   "source": [
    "\n",
    "def genre_weekday(df, day = \"\", time1 = \"\", time2 = \"\"):\n",
    "    \n",
    "    \n",
    "    # filtrado consecutivo\n",
    "    # genre_df solo almacenará aquellas filas df en las que el día sea igual a day=\n",
    "    genre_df = df[df[\"day\"]==day]\n",
    "\n",
    "    # genre_df solo almacenará aquellas filas df en las que el tiempo sea menos que time2=\n",
    "    genre_df = genre_df = genre_df[genre_df[\"time\"] < time2]\n",
    "\n",
    "    # genre_df solo almacenará aquellas filas df en las que el tiempo sea mayor que time1=\n",
    "    genre_df = genre_df[genre_df[\"time\"] > time1]\n",
    "\n",
    "    # agrupa el DataFrame filtrado por la columna con los nombres de los géneros, toma la columna de género, y encuentra el número de filas por cada género con el método count()\n",
    "    genre_df_grouped = genre_df.groupby(\"genre\")[\"user_id\"].count()\n",
    "\n",
    "    # ordenaremos el resultado en orden descendente (por lo que los géneros más populares aparecerán primero en el objeto Series)\n",
    "    genre_df_sorted = genre_df_grouped.sort_values(ascending=False)\n",
    "\n",
    "    # devolveremos el objeto Series que almacena los 15 géneros más populares en un día determinado en un periodo de tiempo determinado\n",
    "    return genre_df_sorted[:15]"
   ]
  },
  {
   "cell_type": "markdown",
   "metadata": {
    "id": "la2s2_PF_Zcu"
   },
   "source": [
    "Compara los resultados de la función `genre_weekday()`para Springfield y Shelbyville el lunes por la mañana (de 7 a 11) y el viernes por la tarde (de 17:00 a 23:00):"
   ]
  },
  {
   "cell_type": "code",
   "execution_count": 32,
   "metadata": {
    "id": "yz7itPUQ_Zcu"
   },
   "outputs": [
    {
     "data": {
      "text/plain": [
       "genre\n",
       "pop            781\n",
       "dance          549\n",
       "electronic     480\n",
       "rock           474\n",
       "hiphop         286\n",
       "ruspop         186\n",
       "world          181\n",
       "rusrap         175\n",
       "alternative    164\n",
       "unknown        161\n",
       "classical      157\n",
       "metal          120\n",
       "jazz           100\n",
       "folk            97\n",
       "soundtrack      95\n",
       "Name: user_id, dtype: int64"
      ]
     },
     "execution_count": 32,
     "metadata": {},
     "output_type": "execute_result"
    }
   ],
   "source": [
    "# llamando a la función para el lunes por la mañana en Springfield (utilizando spr_general en vez de la tabla df)\n",
    "genre_weekday(spr_general, \"Monday\", \"07:00\", \"11:00\")\n"
   ]
  },
  {
   "cell_type": "code",
   "execution_count": 33,
   "metadata": {
    "id": "kwUcHPdy_Zcu"
   },
   "outputs": [
    {
     "data": {
      "text/plain": [
       "genre\n",
       "pop            218\n",
       "dance          182\n",
       "rock           162\n",
       "electronic     147\n",
       "hiphop          80\n",
       "ruspop          64\n",
       "alternative     58\n",
       "rusrap          55\n",
       "jazz            44\n",
       "classical       40\n",
       "world           36\n",
       "rap             32\n",
       "soundtrack      31\n",
       "rnb             27\n",
       "metal           27\n",
       "Name: user_id, dtype: int64"
      ]
     },
     "execution_count": 33,
     "metadata": {},
     "output_type": "execute_result"
    }
   ],
   "source": [
    "# llamando a la función para el lunes por la mañana en Shelbyville (utilizando shel_general en vez de la tabla df)\n",
    "genre_weekday(shel_general, \"Monday\", \"07:00\", \"11:00\")"
   ]
  },
  {
   "cell_type": "code",
   "execution_count": 34,
   "metadata": {
    "id": "EzXVRE1o_Zcu"
   },
   "outputs": [
    {
     "data": {
      "text/plain": [
       "genre\n",
       "pop            713\n",
       "rock           517\n",
       "dance          495\n",
       "electronic     482\n",
       "hiphop         273\n",
       "world          208\n",
       "ruspop         170\n",
       "classical      163\n",
       "alternative    163\n",
       "rusrap         142\n",
       "jazz           111\n",
       "unknown        110\n",
       "soundtrack     105\n",
       "rnb             90\n",
       "metal           88\n",
       "Name: user_id, dtype: int64"
      ]
     },
     "execution_count": 34,
     "metadata": {},
     "output_type": "execute_result"
    }
   ],
   "source": [
    "# llamando a la función para el viernes por la tarde en Springfield\n",
    "genre_weekday(spr_general, \"Friday\", \"17:00\", \"23:00\")"
   ]
  },
  {
   "cell_type": "code",
   "execution_count": 35,
   "metadata": {
    "id": "JZaEKu5v_Zcu"
   },
   "outputs": [
    {
     "data": {
      "text/plain": [
       "genre\n",
       "pop            256\n",
       "rock           216\n",
       "electronic     216\n",
       "dance          210\n",
       "hiphop          97\n",
       "alternative     63\n",
       "jazz            61\n",
       "classical       60\n",
       "rusrap          59\n",
       "world           54\n",
       "unknown         47\n",
       "ruspop          47\n",
       "soundtrack      40\n",
       "metal           39\n",
       "rap             36\n",
       "Name: user_id, dtype: int64"
      ]
     },
     "execution_count": 35,
     "metadata": {},
     "output_type": "execute_result"
    }
   ],
   "source": [
    "# llamando a la función para el viernes por la tarde en Shelbyville\n",
    "genre_weekday(shel_general, \"Friday\", \"17:00\", \"23:00\")"
   ]
  },
  {
   "cell_type": "markdown",
   "metadata": {
    "id": "wrCe4MNX_Zcu"
   },
   "source": [
    "**Conclusión**\n",
    "\n",
    "Habiendo comparado los 15 géneros más populares del lunes por la mañana podemos concluir lo siguiente:\n",
    "\n",
    "1. Los usuarios de Springfield y Shelbyville escuchan música similar. Los cinco géneros más populares son los mismos, solo rock y electrónica han intercambiado posiciones.\n",
    "\n",
    "2. En Springfield el número de valores ausentes resultaron ser tan altos que el valor `'unknown'` llegó al décimo. Esto significa que los valores ausentes forman una parte considerable de los datos, lo que podría ser la base de la cuestión sobre la fiabilidad de nuestras conclusiones.\n",
    "\n",
    "Para el viernes por la tarde, la situación es similar. Los géneros individuales varían algo pero, en general, los 15 más populares son parecidos en las dos ciudades.\n",
    "\n",
    "De esta forma, la segunda hipótesis ha sido parcialmente demostrada:\n",
    "* Los usuarios escuchan música similar al principio y al final de la semana.\n",
    "* No hay una gran diferencia entre Springfield y Shelbyville. En ambas ciudades, el pop es el género más popular.\n",
    "\n",
    "Sin embargo, el número de valores ausentes hace este resultado un tanto cuestionable. En Springfield, hay tantos que afectan a nuestros 15 más populares. De no faltarnos esos valores, las cosas podrían parecer diferentes."
   ]
  },
  {
   "cell_type": "markdown",
   "metadata": {
    "id": "jLmXgdanVyhP"
   },
   "source": [
    "[Volver a Contenidos](#back)"
   ]
  },
  {
   "cell_type": "markdown",
   "metadata": {
    "id": "JolODAqr_Zcu"
   },
   "source": [
    "### Hipótesis 3: preferencias de género en Springfield y Shelbyville <a id='genre'></a>\n",
    "\n",
    "Hipótesis: Shelbyville ama la música rap. A los ciudadanos de Springfield les gusta más el pop."
   ]
  },
  {
   "cell_type": "markdown",
   "metadata": {
    "id": "DlegSvaT_Zcu"
   },
   "source": [
    "Agrupa la tabla `spr_general` por género y encuentra el número de canciones reproducidas de cada género con el método `count()`. Después, ordena el resultado en orden descendente y guárdalo en `spr_genres`."
   ]
  },
  {
   "cell_type": "code",
   "execution_count": 36,
   "metadata": {
    "id": "r19lIPke_Zcu"
   },
   "outputs": [],
   "source": [
    "# en una línea: agrupa la tabla spr_general por la columna 'genre', \n",
    "# cuenta los valores 'genre' con count() en la agrupación,\n",
    "spr_grouped = spr_general.groupby(\"genre\")[\"track\"].count()\n",
    " \n",
    "# ordena el Series resultante en orden descendiente, y almacénalo en spr_genres\n",
    "spr_genres = spr_grouped.sort_values(ascending = False) "
   ]
  },
  {
   "cell_type": "markdown",
   "metadata": {
    "id": "6kMuomxTiIr8"
   },
   "source": [
    "Imprime las 10 primeras filas de `spr_genres`:"
   ]
  },
  {
   "cell_type": "code",
   "execution_count": 37,
   "metadata": {
    "id": "WhCSooF8_Zcv"
   },
   "outputs": [
    {
     "name": "stdout",
     "output_type": "stream",
     "text": [
      "genre\n",
      "pop            5892\n",
      "dance          4435\n",
      "rock           3965\n",
      "electronic     3786\n",
      "hiphop         2096\n",
      "classical      1616\n",
      "world          1432\n",
      "alternative    1379\n",
      "ruspop         1372\n",
      "rusrap         1161\n",
      "Name: track, dtype: int64\n"
     ]
    }
   ],
   "source": [
    "# imprimiendo las 10 primeras filas de spr_genres\n",
    "print(spr_genres[:10])"
   ]
  },
  {
   "cell_type": "markdown",
   "metadata": {
    "id": "cnPG2vnN_Zcv"
   },
   "source": [
    "Ahora haz lo mismo con los datos de Shelbyville.\n",
    "\n",
    "Agrupa la tabla `shel_general` por género y encuentra el número de canciones reproducidas de cada género. Después, ordena el resultado en orden descendente y guárdalo en la tabla `shel_genres`:\n"
   ]
  },
  {
   "cell_type": "code",
   "execution_count": 38,
   "metadata": {
    "id": "gluLIpE7_Zcv"
   },
   "outputs": [],
   "source": [
    "# en una línea: agrupa la tabla shel_general por la columna 'genre', \n",
    "# cuenta los valores 'genre' en el agrupamiento con count(), \n",
    "shel_grouped = shel_general.groupby(\"genre\")[\"track\"].count()\n",
    "# ordena el Series resultante en orden descendente y guárdalo en shel_genres\n",
    "shel_genres = shel_grouped.sort_values(ascending = False)"
   ]
  },
  {
   "cell_type": "markdown",
   "metadata": {
    "id": "5Doha_ODgyQ8"
   },
   "source": [
    "Imprime las 10 primeras filas de `shel_genres`:"
   ]
  },
  {
   "cell_type": "code",
   "execution_count": 39,
   "metadata": {
    "id": "uaGJHjVU_Zcv"
   },
   "outputs": [
    {
     "name": "stdout",
     "output_type": "stream",
     "text": [
      "genre\n",
      "pop            2431\n",
      "dance          1932\n",
      "rock           1879\n",
      "electronic     1736\n",
      "hiphop          960\n",
      "alternative     649\n",
      "classical       646\n",
      "rusrap          564\n",
      "ruspop          538\n",
      "world           515\n",
      "Name: track, dtype: int64\n"
     ]
    }
   ],
   "source": [
    "# imprimiendo las 10 primeras filas de shel_genres\n",
    "print(shel_genres[:10])"
   ]
  },
  {
   "cell_type": "markdown",
   "metadata": {
    "id": "RY51YJYu_Zcv"
   },
   "source": [
    "**Conclusión**"
   ]
  },
  {
   "cell_type": "markdown",
   "metadata": {
    "id": "nVhnJEm__Zcv"
   },
   "source": [
    "La hipótesis ha sido parcialmente demostrada:\n",
    "* La música pop es el género más popular en Springfield, tal como se esperaba.\n",
    "* Sin embargo, la música pop ha resultado ser igual de popular en Springfield que en Shelbyville y el rap no estaba entre los 5 más populares en ninguna de las ciudades.\n"
   ]
  },
  {
   "cell_type": "markdown",
   "metadata": {
    "id": "Byr0RfpPVz14"
   },
   "source": [
    "[Volver a Contenidos](#back)"
   ]
  },
  {
   "cell_type": "markdown",
   "metadata": {
    "id": "ykKQ0N65_Zcv"
   },
   "source": [
    "# Conclusiones <a id='end'></a>"
   ]
  },
  {
   "cell_type": "markdown",
   "metadata": {
    "id": "tjUwbHb3_Zcv"
   },
   "source": [
    "Hemos probado las siguientes tres hipótesis:\n",
    "\n",
    "1. La actividad de los usuarios difiere dependiendo del día de la semana y de las distintas ciudades. \n",
    "2. Los lunes por la mañana los residentes de Springfield y Shelbyville escuchan géneros distintos. Lo mismo ocurre con los viernes por la noche.\n",
    "3. Los oyentes de Springfield y Shelbyville tienen distintas preferencias. En ambas ciudades, Springfield y Shelbyville, se prefiere el pop.\n",
    "\n",
    "Tras analizar los datos, concluimos:\n",
    "\n",
    "1. La actividad del usuario en Springfield y Shelbyville depende del día de la semana aunque las ciudades varían de diferentes formas. \n",
    "\n",
    "La primera hipótesis ha sido aceptada completamente.\n",
    "\n",
    "2. Las preferencias musicales no varían significativamente en el transcurso de la semana en Springfield y Shelbyville. Podemos observar pequeñas diferencias en el orden los lunes, pero:\n",
    "* En Springfield y Shelbyville la gente lo que más escucha es la música pop.\n",
    "\n",
    "Así que no podemos aceptar esta hipótesis. También debemos tener en cuenta que el resultado podría haber sido diferente si no fuera por los valores ausentes.\n",
    "\n",
    "3. Resulta que las preferencias musicales de los usuarios de Springfield y Shelbyville son bastante parecidas.\n",
    "\n",
    "La tercera hipótesis es rechazada. Si hay alguna diferencia en las preferencias no se puede observar en los datos.\n",
    "\n",
    "### Nota \n",
    "En los proyectos reales, la investigación supone el estudio de hipótesis estadísticas que es más preciso y cuantitativo. También ten en cuenta que no siempre podemos sacar conclusiones sobre una ciudad entera basándonos en datos de una sola fuente.\n",
    "\n",
    "Analizarás el estudio de hipótesis en el sprint de análisis estadístico de datos."
   ]
  }
 ],
 "metadata": {
  "ExecuteTimeLog": [
   {
    "duration": 93,
    "start_time": "2022-06-13T19:09:47.651Z"
   },
   {
    "duration": 8,
    "start_time": "2022-06-13T19:12:58.115Z"
   },
   {
    "duration": 9,
    "start_time": "2022-06-13T19:13:23.876Z"
   },
   {
    "duration": 483,
    "start_time": "2022-06-13T19:14:33.835Z"
   },
   {
    "duration": 31,
    "start_time": "2022-06-13T19:14:52.304Z"
   },
   {
    "duration": 1059,
    "start_time": "2022-06-13T19:16:26.154Z"
   },
   {
    "duration": 13,
    "start_time": "2022-06-13T19:17:05.077Z"
   },
   {
    "duration": 30,
    "start_time": "2022-06-13T19:18:04.194Z"
   },
   {
    "duration": 65,
    "start_time": "2022-06-14T13:41:03.077Z"
   },
   {
    "duration": 6,
    "start_time": "2022-06-14T13:43:46.883Z"
   },
   {
    "duration": 6,
    "start_time": "2022-06-14T13:44:23.192Z"
   },
   {
    "duration": 388,
    "start_time": "2022-06-14T13:45:24.413Z"
   },
   {
    "duration": 481,
    "start_time": "2022-06-14T13:45:32.550Z"
   },
   {
    "duration": 18,
    "start_time": "2022-06-14T13:45:41.452Z"
   },
   {
    "duration": 34,
    "start_time": "2022-06-14T13:45:47.482Z"
   },
   {
    "duration": 33,
    "start_time": "2022-06-14T13:45:55.746Z"
   },
   {
    "duration": 4,
    "start_time": "2022-06-14T13:46:06.455Z"
   },
   {
    "duration": 12,
    "start_time": "2022-06-14T13:53:24.469Z"
   },
   {
    "duration": 15,
    "start_time": "2022-06-14T13:53:36.076Z"
   },
   {
    "duration": 15,
    "start_time": "2022-06-14T13:54:02.401Z"
   },
   {
    "duration": 14,
    "start_time": "2022-06-14T13:54:11.373Z"
   },
   {
    "duration": 14,
    "start_time": "2022-06-14T13:54:23.558Z"
   },
   {
    "duration": 6,
    "start_time": "2022-06-14T13:57:55.572Z"
   },
   {
    "duration": 33,
    "start_time": "2022-06-14T14:01:48.155Z"
   },
   {
    "duration": 31,
    "start_time": "2022-06-14T14:45:22.578Z"
   },
   {
    "duration": 11,
    "start_time": "2022-06-14T14:48:02.809Z"
   },
   {
    "duration": 3,
    "start_time": "2022-06-14T14:57:56.835Z"
   },
   {
    "duration": 3,
    "start_time": "2022-06-14T14:58:06.880Z"
   },
   {
    "duration": 12,
    "start_time": "2022-06-14T14:58:18.449Z"
   },
   {
    "duration": 3,
    "start_time": "2022-06-14T14:58:37.752Z"
   },
   {
    "duration": 32,
    "start_time": "2022-06-14T14:59:53.407Z"
   },
   {
    "duration": 23,
    "start_time": "2022-06-14T15:00:08.626Z"
   },
   {
    "duration": 2,
    "start_time": "2022-06-15T14:04:17.632Z"
   },
   {
    "duration": 259,
    "start_time": "2022-06-15T14:04:20.276Z"
   },
   {
    "duration": 11,
    "start_time": "2022-06-15T14:04:37.397Z"
   },
   {
    "duration": 5,
    "start_time": "2022-06-15T14:06:12.170Z"
   },
   {
    "duration": 4,
    "start_time": "2022-06-15T14:06:27.122Z"
   },
   {
    "duration": 10,
    "start_time": "2022-06-15T14:06:44.331Z"
   },
   {
    "duration": 4,
    "start_time": "2022-06-15T14:06:50.030Z"
   },
   {
    "duration": 27,
    "start_time": "2022-06-15T14:07:04.460Z"
   },
   {
    "duration": 58,
    "start_time": "2022-06-15T14:13:40.945Z"
   },
   {
    "duration": 205,
    "start_time": "2022-06-15T14:13:50.346Z"
   },
   {
    "duration": 3,
    "start_time": "2022-06-15T14:14:58.626Z"
   },
   {
    "duration": 141,
    "start_time": "2022-06-15T14:18:40.939Z"
   },
   {
    "duration": 9,
    "start_time": "2022-06-15T14:21:19.479Z"
   },
   {
    "duration": 25,
    "start_time": "2022-06-15T14:21:27.628Z"
   },
   {
    "duration": 275,
    "start_time": "2022-06-15T14:22:52.502Z"
   },
   {
    "duration": 25,
    "start_time": "2022-06-15T14:23:31.030Z"
   },
   {
    "duration": 8,
    "start_time": "2022-06-15T14:23:57.647Z"
   },
   {
    "duration": 18,
    "start_time": "2022-06-15T14:24:39.300Z"
   },
   {
    "duration": 23,
    "start_time": "2022-06-15T14:24:43.184Z"
   },
   {
    "duration": 56,
    "start_time": "2022-06-15T14:25:50.518Z"
   },
   {
    "duration": 66,
    "start_time": "2022-06-15T14:31:48.841Z"
   },
   {
    "duration": 55,
    "start_time": "2022-06-15T14:32:07.335Z"
   },
   {
    "duration": 18,
    "start_time": "2022-06-15T15:13:27.061Z"
   },
   {
    "duration": 29,
    "start_time": "2022-06-15T15:15:10.460Z"
   },
   {
    "duration": 17,
    "start_time": "2022-06-15T15:15:34.922Z"
   },
   {
    "duration": 6,
    "start_time": "2022-06-15T15:16:26.000Z"
   },
   {
    "duration": 14,
    "start_time": "2022-06-15T15:30:05.174Z"
   },
   {
    "duration": 2,
    "start_time": "2022-06-15T15:34:58.629Z"
   },
   {
    "duration": 10,
    "start_time": "2022-06-15T15:35:46.769Z"
   },
   {
    "duration": 6,
    "start_time": "2022-06-15T15:35:55.663Z"
   },
   {
    "duration": 2,
    "start_time": "2022-06-15T17:05:43.727Z"
   },
   {
    "duration": 3,
    "start_time": "2022-06-15T17:06:01.860Z"
   },
   {
    "duration": 4,
    "start_time": "2022-06-15T17:06:26.681Z"
   },
   {
    "duration": 52,
    "start_time": "2022-06-15T17:08:25.132Z"
   },
   {
    "duration": 46,
    "start_time": "2022-06-15T17:09:12.673Z"
   },
   {
    "duration": 12,
    "start_time": "2022-06-15T17:10:48.811Z"
   },
   {
    "duration": 12,
    "start_time": "2022-06-15T17:13:03.348Z"
   },
   {
    "duration": 11,
    "start_time": "2022-06-15T17:13:22.934Z"
   },
   {
    "duration": 12,
    "start_time": "2022-06-15T17:13:30.937Z"
   },
   {
    "duration": 10,
    "start_time": "2022-06-15T17:13:36.830Z"
   },
   {
    "duration": 13,
    "start_time": "2022-06-15T17:19:49.254Z"
   },
   {
    "duration": 10,
    "start_time": "2022-06-15T17:20:56.158Z"
   },
   {
    "duration": 55,
    "start_time": "2022-06-16T01:30:44.089Z"
   },
   {
    "duration": 371,
    "start_time": "2022-06-16T01:31:17.169Z"
   },
   {
    "duration": 318,
    "start_time": "2022-06-16T01:31:21.167Z"
   },
   {
    "duration": 29,
    "start_time": "2022-06-16T01:31:32.297Z"
   },
   {
    "duration": 4,
    "start_time": "2022-06-16T01:31:42.232Z"
   },
   {
    "duration": 357,
    "start_time": "2022-06-16T01:33:57.569Z"
   },
   {
    "duration": 13,
    "start_time": "2022-06-16T01:37:37.036Z"
   },
   {
    "duration": 284,
    "start_time": "2022-06-16T01:38:58.844Z"
   },
   {
    "duration": 310,
    "start_time": "2022-06-16T01:40:00.966Z"
   },
   {
    "duration": 19,
    "start_time": "2022-06-16T01:40:24.976Z"
   },
   {
    "duration": 311,
    "start_time": "2022-06-16T01:40:45.166Z"
   },
   {
    "duration": 4,
    "start_time": "2022-06-16T01:41:13.614Z"
   },
   {
    "duration": 10,
    "start_time": "2022-06-16T01:41:24.268Z"
   },
   {
    "duration": 5,
    "start_time": "2022-06-16T01:41:30.547Z"
   },
   {
    "duration": 21,
    "start_time": "2022-06-16T01:41:36.655Z"
   },
   {
    "duration": 16,
    "start_time": "2022-06-16T01:41:42.188Z"
   },
   {
    "duration": 21,
    "start_time": "2022-06-16T01:41:46.023Z"
   },
   {
    "duration": 18,
    "start_time": "2022-06-16T01:42:01.913Z"
   },
   {
    "duration": 20,
    "start_time": "2022-06-16T01:42:06.083Z"
   },
   {
    "duration": 16,
    "start_time": "2022-06-16T01:42:20.778Z"
   },
   {
    "duration": 15,
    "start_time": "2022-06-16T02:07:38.378Z"
   },
   {
    "duration": 29,
    "start_time": "2022-06-16T02:07:42.505Z"
   },
   {
    "duration": 12,
    "start_time": "2022-06-16T02:08:03.159Z"
   },
   {
    "duration": 27,
    "start_time": "2022-06-16T02:14:14.270Z"
   },
   {
    "duration": 6,
    "start_time": "2022-06-16T02:14:30.144Z"
   },
   {
    "duration": 11,
    "start_time": "2022-06-16T02:15:58.260Z"
   },
   {
    "duration": 377,
    "start_time": "2022-06-16T02:16:34.701Z"
   },
   {
    "duration": 6,
    "start_time": "2022-06-16T02:17:25.737Z"
   },
   {
    "duration": 5,
    "start_time": "2022-06-16T02:21:36.498Z"
   },
   {
    "duration": 8,
    "start_time": "2022-06-16T02:21:43.568Z"
   },
   {
    "duration": 422,
    "start_time": "2022-06-16T02:21:54.563Z"
   },
   {
    "duration": 4,
    "start_time": "2022-06-16T02:27:28.343Z"
   },
   {
    "duration": 4,
    "start_time": "2022-06-16T02:29:24.859Z"
   },
   {
    "duration": 420,
    "start_time": "2022-06-16T02:30:18.942Z"
   },
   {
    "duration": 361,
    "start_time": "2022-06-16T02:31:35.414Z"
   },
   {
    "duration": 341,
    "start_time": "2022-06-16T02:32:03.017Z"
   },
   {
    "duration": 3,
    "start_time": "2022-06-16T02:32:32.891Z"
   },
   {
    "duration": 371,
    "start_time": "2022-06-16T02:32:37.419Z"
   },
   {
    "duration": 293,
    "start_time": "2022-06-16T02:32:57.272Z"
   },
   {
    "duration": 8,
    "start_time": "2022-06-16T02:36:00.324Z"
   },
   {
    "duration": 8,
    "start_time": "2022-06-16T02:36:48.649Z"
   },
   {
    "duration": 4,
    "start_time": "2022-06-16T02:37:06.391Z"
   },
   {
    "duration": 3,
    "start_time": "2022-06-16T02:37:36.588Z"
   },
   {
    "duration": 3,
    "start_time": "2022-06-16T02:38:26.029Z"
   },
   {
    "duration": 319,
    "start_time": "2022-06-16T02:38:44.241Z"
   },
   {
    "duration": 4,
    "start_time": "2022-06-16T02:39:25.321Z"
   },
   {
    "duration": 3,
    "start_time": "2022-06-16T02:42:55.826Z"
   },
   {
    "duration": 28,
    "start_time": "2022-06-16T02:43:01.274Z"
   },
   {
    "duration": 3,
    "start_time": "2022-06-16T02:45:57.078Z"
   },
   {
    "duration": 289,
    "start_time": "2022-06-16T02:45:59.358Z"
   },
   {
    "duration": 4,
    "start_time": "2022-06-16T02:46:59.911Z"
   },
   {
    "duration": 292,
    "start_time": "2022-06-16T02:47:08.299Z"
   },
   {
    "duration": 47,
    "start_time": "2022-06-16T13:24:21.352Z"
   },
   {
    "duration": 471,
    "start_time": "2022-06-16T13:24:30.502Z"
   },
   {
    "duration": 376,
    "start_time": "2022-06-16T13:24:33.373Z"
   },
   {
    "duration": 10,
    "start_time": "2022-06-16T13:24:41.145Z"
   },
   {
    "duration": 39,
    "start_time": "2022-06-16T13:24:47.332Z"
   },
   {
    "duration": 4,
    "start_time": "2022-06-16T13:24:53.774Z"
   },
   {
    "duration": 10,
    "start_time": "2022-06-16T13:24:58.731Z"
   },
   {
    "duration": 3,
    "start_time": "2022-06-16T13:25:05.335Z"
   },
   {
    "duration": 24,
    "start_time": "2022-06-16T13:25:10.607Z"
   },
   {
    "duration": 17,
    "start_time": "2022-06-16T13:25:16.983Z"
   },
   {
    "duration": 23,
    "start_time": "2022-06-16T13:25:22.199Z"
   },
   {
    "duration": 59,
    "start_time": "2022-06-16T13:25:26.972Z"
   },
   {
    "duration": 76,
    "start_time": "2022-06-16T13:25:29.782Z"
   },
   {
    "duration": 55,
    "start_time": "2022-06-16T13:25:32.463Z"
   },
   {
    "duration": 6,
    "start_time": "2022-06-16T13:25:38.614Z"
   },
   {
    "duration": 3,
    "start_time": "2022-06-16T13:25:45.678Z"
   },
   {
    "duration": 10,
    "start_time": "2022-06-16T13:25:49.159Z"
   },
   {
    "duration": 6,
    "start_time": "2022-06-16T13:25:55.699Z"
   },
   {
    "duration": 11,
    "start_time": "2022-06-16T13:26:07.217Z"
   },
   {
    "duration": 11,
    "start_time": "2022-06-16T13:26:13.599Z"
   },
   {
    "duration": 6,
    "start_time": "2022-06-16T13:26:19.293Z"
   },
   {
    "duration": 345,
    "start_time": "2022-06-16T13:26:25.186Z"
   },
   {
    "duration": 4,
    "start_time": "2022-06-16T13:49:08.391Z"
   },
   {
    "duration": 19,
    "start_time": "2022-06-16T13:49:14.094Z"
   },
   {
    "duration": 8,
    "start_time": "2022-06-16T13:50:37.250Z"
   },
   {
    "duration": 18,
    "start_time": "2022-06-16T15:54:32.771Z"
   },
   {
    "duration": 16,
    "start_time": "2022-06-16T15:55:17.276Z"
   },
   {
    "duration": 16,
    "start_time": "2022-06-16T15:55:42.863Z"
   },
   {
    "duration": 14,
    "start_time": "2022-06-16T15:56:11.591Z"
   },
   {
    "duration": 15,
    "start_time": "2022-06-16T15:56:41.976Z"
   },
   {
    "duration": 8,
    "start_time": "2022-06-16T16:05:19.316Z"
   },
   {
    "duration": 6,
    "start_time": "2022-06-16T16:06:22.148Z"
   },
   {
    "duration": 13,
    "start_time": "2022-06-16T16:09:20.032Z"
   },
   {
    "duration": 59,
    "start_time": "2022-06-16T16:13:27.505Z"
   },
   {
    "duration": 4,
    "start_time": "2022-06-16T16:13:44.134Z"
   },
   {
    "duration": 8,
    "start_time": "2022-06-16T16:49:04.604Z"
   },
   {
    "duration": 7,
    "start_time": "2022-06-16T17:34:46.271Z"
   },
   {
    "duration": 19,
    "start_time": "2022-06-16T17:35:15.004Z"
   },
   {
    "duration": 15,
    "start_time": "2022-06-16T17:36:22.245Z"
   },
   {
    "duration": 9,
    "start_time": "2022-06-16T17:36:49.861Z"
   },
   {
    "duration": 13,
    "start_time": "2022-06-16T17:36:59.569Z"
   },
   {
    "duration": 5,
    "start_time": "2022-06-16T18:19:12.764Z"
   },
   {
    "duration": 19,
    "start_time": "2022-06-16T18:21:37.448Z"
   },
   {
    "duration": 5,
    "start_time": "2022-06-16T18:22:20.620Z"
   },
   {
    "duration": 16,
    "start_time": "2022-06-16T18:22:23.297Z"
   },
   {
    "duration": 16,
    "start_time": "2022-06-16T18:27:14.694Z"
   },
   {
    "duration": 4,
    "start_time": "2022-06-16T18:28:47.000Z"
   },
   {
    "duration": 9,
    "start_time": "2022-06-16T18:28:53.997Z"
   },
   {
    "duration": 5,
    "start_time": "2022-06-16T18:29:12.414Z"
   },
   {
    "duration": 17,
    "start_time": "2022-06-16T18:29:15.504Z"
   },
   {
    "duration": 13,
    "start_time": "2022-06-16T18:29:22.319Z"
   },
   {
    "duration": 17,
    "start_time": "2022-06-16T18:30:06.717Z"
   },
   {
    "duration": 13,
    "start_time": "2022-06-16T18:30:28.205Z"
   },
   {
    "duration": 5,
    "start_time": "2022-06-16T18:49:30.691Z"
   },
   {
    "duration": 17,
    "start_time": "2022-06-16T18:49:32.805Z"
   },
   {
    "duration": 384,
    "start_time": "2022-06-16T21:05:47.460Z"
   },
   {
    "duration": 358,
    "start_time": "2022-06-16T21:05:49.829Z"
   },
   {
    "duration": 16,
    "start_time": "2022-06-16T21:05:56.554Z"
   },
   {
    "duration": 31,
    "start_time": "2022-06-16T21:06:01.315Z"
   },
   {
    "duration": 7,
    "start_time": "2022-06-16T21:06:11.129Z"
   },
   {
    "duration": 12,
    "start_time": "2022-06-16T21:06:13.584Z"
   },
   {
    "duration": 40,
    "start_time": "2022-06-16T21:06:23.770Z"
   },
   {
    "duration": 18,
    "start_time": "2022-06-16T21:06:30.011Z"
   },
   {
    "duration": 22,
    "start_time": "2022-06-16T21:06:32.534Z"
   },
   {
    "duration": 55,
    "start_time": "2022-06-16T21:06:38.300Z"
   },
   {
    "duration": 74,
    "start_time": "2022-06-16T21:06:40.829Z"
   },
   {
    "duration": 60,
    "start_time": "2022-06-16T21:06:43.347Z"
   },
   {
    "duration": 12,
    "start_time": "2022-06-16T21:06:50.564Z"
   },
   {
    "duration": 4,
    "start_time": "2022-06-16T21:07:02.580Z"
   },
   {
    "duration": 16,
    "start_time": "2022-06-16T21:07:05.195Z"
   },
   {
    "duration": 9,
    "start_time": "2022-06-16T21:07:10.534Z"
   },
   {
    "duration": 19,
    "start_time": "2022-06-16T21:07:22.480Z"
   },
   {
    "duration": 20,
    "start_time": "2022-06-16T21:07:29.350Z"
   },
   {
    "duration": 4,
    "start_time": "2022-06-16T21:07:58.081Z"
   },
   {
    "duration": 19,
    "start_time": "2022-06-16T21:08:01.516Z"
   },
   {
    "duration": 15,
    "start_time": "2022-06-16T21:08:05.594Z"
   },
   {
    "duration": 16,
    "start_time": "2022-06-16T21:08:11.683Z"
   },
   {
    "duration": 18,
    "start_time": "2022-06-16T21:08:14.008Z"
   },
   {
    "duration": 64,
    "start_time": "2022-06-16T21:08:25.627Z"
   },
   {
    "duration": 5,
    "start_time": "2022-06-16T21:08:28.327Z"
   },
   {
    "duration": 11,
    "start_time": "2022-06-16T21:08:35.183Z"
   },
   {
    "duration": 11,
    "start_time": "2022-06-16T21:08:37.432Z"
   },
   {
    "duration": 8,
    "start_time": "2022-06-16T21:08:45.356Z"
   },
   {
    "duration": 25,
    "start_time": "2022-06-16T21:08:49.134Z"
   },
   {
    "duration": 19,
    "start_time": "2022-06-16T21:08:54.145Z"
   },
   {
    "duration": 28,
    "start_time": "2022-06-16T21:09:00.345Z"
   },
   {
    "duration": 67,
    "start_time": "2022-06-16T21:11:11.125Z"
   },
   {
    "duration": 9,
    "start_time": "2022-06-16T21:11:32.848Z"
   },
   {
    "duration": 4,
    "start_time": "2022-06-16T21:11:52.633Z"
   },
   {
    "duration": 10,
    "start_time": "2022-06-16T21:12:13.314Z"
   },
   {
    "duration": 7,
    "start_time": "2022-06-16T21:13:19.185Z"
   },
   {
    "duration": 4,
    "start_time": "2022-06-16T21:13:47.229Z"
   },
   {
    "duration": 10,
    "start_time": "2022-06-16T21:21:12.713Z"
   },
   {
    "duration": 10,
    "start_time": "2022-06-16T21:21:52.205Z"
   },
   {
    "duration": 10,
    "start_time": "2022-06-16T21:22:44.685Z"
   },
   {
    "duration": 17,
    "start_time": "2022-06-16T21:23:06.658Z"
   },
   {
    "duration": 5,
    "start_time": "2022-06-16T21:23:22.250Z"
   },
   {
    "duration": 11,
    "start_time": "2022-06-16T21:23:53.300Z"
   },
   {
    "duration": 23,
    "start_time": "2022-06-16T21:24:07.209Z"
   },
   {
    "duration": 16,
    "start_time": "2022-06-16T21:24:12.343Z"
   },
   {
    "duration": 31,
    "start_time": "2022-06-16T21:24:13.604Z"
   },
   {
    "duration": 14,
    "start_time": "2022-06-16T21:24:14.652Z"
   },
   {
    "duration": 387,
    "start_time": "2022-06-16T22:12:10.916Z"
   },
   {
    "duration": 379,
    "start_time": "2022-06-16T22:12:11.305Z"
   },
   {
    "duration": 11,
    "start_time": "2022-06-16T22:12:11.685Z"
   },
   {
    "duration": 36,
    "start_time": "2022-06-16T22:12:11.698Z"
   },
   {
    "duration": 5,
    "start_time": "2022-06-16T22:12:11.736Z"
   },
   {
    "duration": 14,
    "start_time": "2022-06-16T22:12:11.742Z"
   },
   {
    "duration": 7,
    "start_time": "2022-06-16T22:12:11.758Z"
   },
   {
    "duration": 52,
    "start_time": "2022-06-16T22:12:11.766Z"
   },
   {
    "duration": 20,
    "start_time": "2022-06-16T22:12:11.819Z"
   },
   {
    "duration": 27,
    "start_time": "2022-06-16T22:12:11.841Z"
   },
   {
    "duration": 85,
    "start_time": "2022-06-16T22:12:11.870Z"
   },
   {
    "duration": 96,
    "start_time": "2022-06-16T22:12:11.957Z"
   },
   {
    "duration": 72,
    "start_time": "2022-06-16T22:12:12.055Z"
   },
   {
    "duration": 7,
    "start_time": "2022-06-16T22:12:12.130Z"
   },
   {
    "duration": 5,
    "start_time": "2022-06-16T22:12:12.139Z"
   },
   {
    "duration": 13,
    "start_time": "2022-06-16T22:12:12.145Z"
   },
   {
    "duration": 6,
    "start_time": "2022-06-16T22:12:12.160Z"
   },
   {
    "duration": 12,
    "start_time": "2022-06-16T22:12:12.193Z"
   },
   {
    "duration": 11,
    "start_time": "2022-06-16T22:12:12.207Z"
   },
   {
    "duration": 4,
    "start_time": "2022-06-16T22:12:12.220Z"
   },
   {
    "duration": 25,
    "start_time": "2022-06-16T22:12:12.225Z"
   },
   {
    "duration": 43,
    "start_time": "2022-06-16T22:12:12.252Z"
   },
   {
    "duration": 16,
    "start_time": "2022-06-16T22:12:12.297Z"
   },
   {
    "duration": 16,
    "start_time": "2022-06-16T22:12:12.315Z"
   },
   {
    "duration": 24,
    "start_time": "2022-06-16T22:12:12.332Z"
   },
   {
    "duration": 45,
    "start_time": "2022-06-16T22:12:12.358Z"
   },
   {
    "duration": 81,
    "start_time": "2022-06-16T22:12:12.404Z"
   },
   {
    "duration": 5,
    "start_time": "2022-06-16T22:12:12.494Z"
   },
   {
    "duration": 19,
    "start_time": "2022-06-16T22:12:12.500Z"
   },
   {
    "duration": 11,
    "start_time": "2022-06-16T22:12:12.521Z"
   },
   {
    "duration": 5,
    "start_time": "2022-06-16T22:12:12.534Z"
   },
   {
    "duration": 24,
    "start_time": "2022-06-16T22:12:12.540Z"
   },
   {
    "duration": 38,
    "start_time": "2022-06-16T22:12:12.566Z"
   },
   {
    "duration": 20,
    "start_time": "2022-06-16T22:12:12.606Z"
   },
   {
    "duration": 13,
    "start_time": "2022-06-16T22:12:12.628Z"
   },
   {
    "duration": 10,
    "start_time": "2022-06-16T22:12:12.642Z"
   },
   {
    "duration": 6,
    "start_time": "2022-06-16T22:12:12.654Z"
   },
   {
    "duration": 7,
    "start_time": "2022-06-16T22:12:12.695Z"
   },
   {
    "duration": 4,
    "start_time": "2022-06-16T22:12:12.704Z"
   },
   {
    "duration": 394,
    "start_time": "2022-06-16T22:12:25.116Z"
   },
   {
    "duration": 301,
    "start_time": "2022-06-16T22:12:25.512Z"
   },
   {
    "duration": 10,
    "start_time": "2022-06-16T22:12:25.814Z"
   },
   {
    "duration": 31,
    "start_time": "2022-06-16T22:12:25.825Z"
   },
   {
    "duration": 4,
    "start_time": "2022-06-16T22:12:25.858Z"
   },
   {
    "duration": 32,
    "start_time": "2022-06-16T22:12:25.863Z"
   },
   {
    "duration": 4,
    "start_time": "2022-06-16T22:12:25.897Z"
   },
   {
    "duration": 27,
    "start_time": "2022-06-16T22:12:25.902Z"
   },
   {
    "duration": 20,
    "start_time": "2022-06-16T22:12:25.931Z"
   },
   {
    "duration": 45,
    "start_time": "2022-06-16T22:12:25.953Z"
   },
   {
    "duration": 64,
    "start_time": "2022-06-16T22:12:26.000Z"
   },
   {
    "duration": 90,
    "start_time": "2022-06-16T22:12:26.065Z"
   },
   {
    "duration": 64,
    "start_time": "2022-06-16T22:12:26.157Z"
   },
   {
    "duration": 7,
    "start_time": "2022-06-16T22:12:26.224Z"
   },
   {
    "duration": 9,
    "start_time": "2022-06-16T22:12:26.232Z"
   },
   {
    "duration": 14,
    "start_time": "2022-06-16T22:12:26.242Z"
   },
   {
    "duration": 6,
    "start_time": "2022-06-16T22:12:26.258Z"
   },
   {
    "duration": 33,
    "start_time": "2022-06-16T22:12:26.265Z"
   },
   {
    "duration": 10,
    "start_time": "2022-06-16T22:12:26.300Z"
   },
   {
    "duration": 3,
    "start_time": "2022-06-16T22:12:26.312Z"
   },
   {
    "duration": 23,
    "start_time": "2022-06-16T22:12:26.316Z"
   },
   {
    "duration": 15,
    "start_time": "2022-06-16T22:12:26.341Z"
   },
   {
    "duration": 16,
    "start_time": "2022-06-16T22:12:26.357Z"
   },
   {
    "duration": 15,
    "start_time": "2022-06-16T22:12:26.395Z"
   },
   {
    "duration": 20,
    "start_time": "2022-06-16T22:12:26.411Z"
   },
   {
    "duration": 16,
    "start_time": "2022-06-16T22:12:26.433Z"
   },
   {
    "duration": 96,
    "start_time": "2022-06-16T22:12:26.451Z"
   },
   {
    "duration": 5,
    "start_time": "2022-06-16T22:12:26.548Z"
   },
   {
    "duration": 15,
    "start_time": "2022-06-16T22:12:26.555Z"
   },
   {
    "duration": 23,
    "start_time": "2022-06-16T22:12:26.571Z"
   },
   {
    "duration": 5,
    "start_time": "2022-06-16T22:12:26.596Z"
   },
   {
    "duration": 39,
    "start_time": "2022-06-16T22:12:26.602Z"
   },
   {
    "duration": 21,
    "start_time": "2022-06-16T22:12:26.643Z"
   },
   {
    "duration": 52,
    "start_time": "2022-06-16T22:12:26.666Z"
   },
   {
    "duration": 13,
    "start_time": "2022-06-16T22:12:26.720Z"
   },
   {
    "duration": 9,
    "start_time": "2022-06-16T22:12:26.735Z"
   },
   {
    "duration": 22,
    "start_time": "2022-06-16T22:12:26.746Z"
   },
   {
    "duration": 21,
    "start_time": "2022-06-16T22:12:26.770Z"
   },
   {
    "duration": 14,
    "start_time": "2022-06-16T22:12:26.792Z"
   }
  ],
  "colab": {
   "collapsed_sections": [
    "E0vqbgi9ay0H",
    "VUC88oWjTJw2",
    "atZAxtq4_Zcu"
   ],
   "name": "EmptyFinalProject.ipynb\"",
   "provenance": []
  },
  "kernelspec": {
   "display_name": "Python 3 (ipykernel)",
   "language": "python",
   "name": "python3"
  },
  "language_info": {
   "codemirror_mode": {
    "name": "ipython",
    "version": 3
   },
   "file_extension": ".py",
   "mimetype": "text/x-python",
   "name": "python",
   "nbconvert_exporter": "python",
   "pygments_lexer": "ipython3",
   "version": "3.9.5"
  },
  "toc": {
   "base_numbering": 1,
   "nav_menu": {},
   "number_sections": true,
   "sideBar": true,
   "skip_h1_title": true,
   "title_cell": "Table of Contents",
   "title_sidebar": "Contents",
   "toc_cell": false,
   "toc_position": {},
   "toc_section_display": true,
   "toc_window_display": false
  }
 },
 "nbformat": 4,
 "nbformat_minor": 4
}
