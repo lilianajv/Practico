{
 "cells": [
  {
   "cell_type": "code",
   "execution_count": 2,
   "id": "1e7e3115",
   "metadata": {},
   "outputs": [
    {
     "name": "stdout",
     "output_type": "stream",
     "text": [
      "Collecting scikit-learn\n",
      "  Using cached scikit_learn-1.0.2-cp37-cp37m-win_amd64.whl (7.1 MB)\n",
      "Collecting joblib>=0.11\n",
      "  Using cached joblib-1.2.0-py3-none-any.whl (297 kB)\n",
      "Collecting scipy>=1.1.0\n",
      "  Using cached scipy-1.7.3-cp37-cp37m-win_amd64.whl (34.1 MB)\n",
      "Requirement already satisfied: numpy>=1.14.6 in c:\\users\\jose ernesto\\opencv\\lib\\site-packages (from scikit-learn) (1.21.6)\n",
      "Collecting threadpoolctl>=2.0.0\n",
      "  Using cached threadpoolctl-3.1.0-py3-none-any.whl (14 kB)\n",
      "Installing collected packages: threadpoolctl, scipy, joblib, scikit-learn\n",
      "Successfully installed joblib-1.2.0 scikit-learn-1.0.2 scipy-1.7.3 threadpoolctl-3.1.0\n",
      "\n",
      "[notice] A new release of pip available: 22.1.2 -> 22.3.1\n",
      "[notice] To update, run: python.exe -m pip install --upgrade pip\n"
     ]
    }
   ],
   "source": [
    "!pip install scikit-learn"
   ]
  },
  {
   "cell_type": "code",
   "execution_count": 10,
   "id": "9893facb",
   "metadata": {},
   "outputs": [],
   "source": [
    "import sklearn as sl"
   ]
  },
  {
   "cell_type": "code",
   "execution_count": 16,
   "id": "07e945f7",
   "metadata": {},
   "outputs": [
    {
     "name": "stdout",
     "output_type": "stream",
     "text": [
      "Collecting nltk\n",
      "  Downloading nltk-3.8.1-py3-none-any.whl (1.5 MB)\n",
      "     ---------------------------------------- 1.5/1.5 MB 1.7 MB/s eta 0:00:00\n",
      "Requirement already satisfied: joblib in c:\\users\\jose ernesto\\opencv\\lib\\site-packages (from nltk) (1.2.0)\n",
      "Collecting tqdm\n",
      "  Downloading tqdm-4.64.1-py2.py3-none-any.whl (78 kB)\n",
      "     ---------------------------------------- 78.5/78.5 kB 1.1 MB/s eta 0:00:00\n",
      "Collecting regex>=2021.8.3\n",
      "  Downloading regex-2022.10.31-cp37-cp37m-win_amd64.whl (268 kB)\n",
      "     -------------------------------------- 268.0/268.0 kB 3.3 MB/s eta 0:00:00\n",
      "Collecting click\n",
      "  Downloading click-8.1.3-py3-none-any.whl (96 kB)\n",
      "     ---------------------------------------- 96.6/96.6 kB 1.1 MB/s eta 0:00:00\n",
      "Requirement already satisfied: colorama in c:\\users\\jose ernesto\\opencv\\lib\\site-packages (from click->nltk) (0.4.5)\n",
      "Requirement already satisfied: importlib-metadata in c:\\users\\jose ernesto\\opencv\\lib\\site-packages (from click->nltk) (4.12.0)\n",
      "Requirement already satisfied: zipp>=0.5 in c:\\users\\jose ernesto\\opencv\\lib\\site-packages (from importlib-metadata->click->nltk) (3.8.0)\n",
      "Requirement already satisfied: typing-extensions>=3.6.4 in c:\\users\\jose ernesto\\opencv\\lib\\site-packages (from importlib-metadata->click->nltk) (4.3.0)\n",
      "Installing collected packages: tqdm, regex, click, nltk\n",
      "Successfully installed click-8.1.3 nltk-3.8.1 regex-2022.10.31 tqdm-4.64.1\n",
      "\n",
      "[notice] A new release of pip available: 22.1.2 -> 22.3.1\n",
      "[notice] To update, run: python.exe -m pip install --upgrade pip\n"
     ]
    }
   ],
   "source": [
    "!pip install nltk"
   ]
  },
  {
   "cell_type": "code",
   "execution_count": 17,
   "id": "794f41a6",
   "metadata": {},
   "outputs": [
    {
     "name": "stderr",
     "output_type": "stream",
     "text": [
      "[nltk_data] Downloading package stopwords to C:\\Users\\Jose\n",
      "[nltk_data]     Ernesto\\AppData\\Roaming\\nltk_data...\n",
      "[nltk_data]   Unzipping corpora\\stopwords.zip.\n"
     ]
    },
    {
     "data": {
      "text/plain": [
       "True"
      ]
     },
     "execution_count": 17,
     "metadata": {},
     "output_type": "execute_result"
    }
   ],
   "source": [
    "import pandas as pd\n",
    "import matplotlib as plt\n",
    "import numpy as np\n",
    "from sklearn.metrics import accuracy_score\n",
    "from sklearn.linear_model import LogisticRegression\n",
    "from sklearn.feature_extraction.text import CountVectorizer, TfidfVectorizer\n",
    "from nltk.corpus import stopwords\n",
    "import nltk\n",
    "nltk.download('stopwords')"
   ]
  },
  {
   "cell_type": "code",
   "execution_count": 18,
   "id": "08592738",
   "metadata": {},
   "outputs": [],
   "source": [
    "data_train = pd.read_csv(\"imdb_reviews_small_lemm_train.tsv\", sep=\"\\t\")\n",
    "data_test = pd.read_csv(\"imdb_reviews_small_lemm_test.tsv\", sep=\"\\t\")"
   ]
  },
  {
   "cell_type": "code",
   "execution_count": 19,
   "id": "66f0e941",
   "metadata": {},
   "outputs": [
    {
     "data": {
      "text/html": [
       "<div>\n",
       "<style scoped>\n",
       "    .dataframe tbody tr th:only-of-type {\n",
       "        vertical-align: middle;\n",
       "    }\n",
       "\n",
       "    .dataframe tbody tr th {\n",
       "        vertical-align: top;\n",
       "    }\n",
       "\n",
       "    .dataframe thead th {\n",
       "        text-align: right;\n",
       "    }\n",
       "</style>\n",
       "<table border=\"1\" class=\"dataframe\">\n",
       "  <thead>\n",
       "    <tr style=\"text-align: right;\">\n",
       "      <th></th>\n",
       "      <th>tconst</th>\n",
       "      <th>original_title</th>\n",
       "      <th>review</th>\n",
       "      <th>review_lemm</th>\n",
       "      <th>pos</th>\n",
       "    </tr>\n",
       "  </thead>\n",
       "  <tbody>\n",
       "    <tr>\n",
       "      <th>0</th>\n",
       "      <td>tt0087803</td>\n",
       "      <td>Nineteen Eighty-Four</td>\n",
       "      <td>I saw this movie last year in Media class and ...</td>\n",
       "      <td>i see this movie last year in medium class and...</td>\n",
       "      <td>0</td>\n",
       "    </tr>\n",
       "    <tr>\n",
       "      <th>1</th>\n",
       "      <td>tt0087803</td>\n",
       "      <td>Nineteen Eighty-Four</td>\n",
       "      <td>I must admit, there are few books with corresp...</td>\n",
       "      <td>i must admit there be few book with correspond...</td>\n",
       "      <td>0</td>\n",
       "    </tr>\n",
       "    <tr>\n",
       "      <th>2</th>\n",
       "      <td>tt0087803</td>\n",
       "      <td>Nineteen Eighty-Four</td>\n",
       "      <td>I think that the shots and lighting were very ...</td>\n",
       "      <td>i think that the shot and light be very poor w...</td>\n",
       "      <td>0</td>\n",
       "    </tr>\n",
       "    <tr>\n",
       "      <th>3</th>\n",
       "      <td>tt0087803</td>\n",
       "      <td>Nineteen Eighty-Four</td>\n",
       "      <td>A few weeks ago, I read the classic George Orw...</td>\n",
       "      <td>a few week ago i read the classic george orwel...</td>\n",
       "      <td>0</td>\n",
       "    </tr>\n",
       "    <tr>\n",
       "      <th>4</th>\n",
       "      <td>tt0087803</td>\n",
       "      <td>Nineteen Eighty-Four</td>\n",
       "      <td>I saw this movie literally directly after fini...</td>\n",
       "      <td>i see this movie literally directly after fini...</td>\n",
       "      <td>0</td>\n",
       "    </tr>\n",
       "  </tbody>\n",
       "</table>\n",
       "</div>"
      ],
      "text/plain": [
       "      tconst        original_title  \\\n",
       "0  tt0087803  Nineteen Eighty-Four   \n",
       "1  tt0087803  Nineteen Eighty-Four   \n",
       "2  tt0087803  Nineteen Eighty-Four   \n",
       "3  tt0087803  Nineteen Eighty-Four   \n",
       "4  tt0087803  Nineteen Eighty-Four   \n",
       "\n",
       "                                              review  \\\n",
       "0  I saw this movie last year in Media class and ...   \n",
       "1  I must admit, there are few books with corresp...   \n",
       "2  I think that the shots and lighting were very ...   \n",
       "3  A few weeks ago, I read the classic George Orw...   \n",
       "4  I saw this movie literally directly after fini...   \n",
       "\n",
       "                                         review_lemm  pos  \n",
       "0  i see this movie last year in medium class and...    0  \n",
       "1  i must admit there be few book with correspond...    0  \n",
       "2  i think that the shot and light be very poor w...    0  \n",
       "3  a few week ago i read the classic george orwel...    0  \n",
       "4  i see this movie literally directly after fini...    0  "
      ]
     },
     "execution_count": 19,
     "metadata": {},
     "output_type": "execute_result"
    }
   ],
   "source": [
    "data_train.head()"
   ]
  },
  {
   "cell_type": "code",
   "execution_count": 20,
   "id": "c85ec49f",
   "metadata": {},
   "outputs": [
    {
     "data": {
      "text/html": [
       "<div>\n",
       "<style scoped>\n",
       "    .dataframe tbody tr th:only-of-type {\n",
       "        vertical-align: middle;\n",
       "    }\n",
       "\n",
       "    .dataframe tbody tr th {\n",
       "        vertical-align: top;\n",
       "    }\n",
       "\n",
       "    .dataframe thead th {\n",
       "        text-align: right;\n",
       "    }\n",
       "</style>\n",
       "<table border=\"1\" class=\"dataframe\">\n",
       "  <thead>\n",
       "    <tr style=\"text-align: right;\">\n",
       "      <th></th>\n",
       "      <th>tconst</th>\n",
       "      <th>original_title</th>\n",
       "      <th>review</th>\n",
       "      <th>review_lemm</th>\n",
       "    </tr>\n",
       "  </thead>\n",
       "  <tbody>\n",
       "    <tr>\n",
       "      <th>0</th>\n",
       "      <td>tt0108999</td>\n",
       "      <td>...And the Earth Did Not Swallow Him</td>\n",
       "      <td>I rented this movie from a local library witho...</td>\n",
       "      <td>i rent this movie from a local library without...</td>\n",
       "    </tr>\n",
       "    <tr>\n",
       "      <th>1</th>\n",
       "      <td>tt0108999</td>\n",
       "      <td>...And the Earth Did Not Swallow Him</td>\n",
       "      <td>The movie \". . . And The Earth Did not Swallow...</td>\n",
       "      <td>the movie and the earth do not swallow -PRON- ...</td>\n",
       "    </tr>\n",
       "    <tr>\n",
       "      <th>2</th>\n",
       "      <td>tt0108999</td>\n",
       "      <td>...And the Earth Did Not Swallow Him</td>\n",
       "      <td>I was very moved by the young life experiences...</td>\n",
       "      <td>i be very move by the young life experience of...</td>\n",
       "    </tr>\n",
       "    <tr>\n",
       "      <th>3</th>\n",
       "      <td>tt0108999</td>\n",
       "      <td>...And the Earth Did Not Swallow Him</td>\n",
       "      <td>Recently finally available in DVD (11/11/08), ...</td>\n",
       "      <td>recently finally available in dvd severo p rez...</td>\n",
       "    </tr>\n",
       "    <tr>\n",
       "      <th>4</th>\n",
       "      <td>tt0063308</td>\n",
       "      <td>Un minuto per pregare, un istante per morire</td>\n",
       "      <td>I saw this movie over 20 years ago and had rat...</td>\n",
       "      <td>i see this movie over year ago and have rather...</td>\n",
       "    </tr>\n",
       "  </tbody>\n",
       "</table>\n",
       "</div>"
      ],
      "text/plain": [
       "      tconst                                original_title  \\\n",
       "0  tt0108999          ...And the Earth Did Not Swallow Him   \n",
       "1  tt0108999          ...And the Earth Did Not Swallow Him   \n",
       "2  tt0108999          ...And the Earth Did Not Swallow Him   \n",
       "3  tt0108999          ...And the Earth Did Not Swallow Him   \n",
       "4  tt0063308  Un minuto per pregare, un istante per morire   \n",
       "\n",
       "                                              review  \\\n",
       "0  I rented this movie from a local library witho...   \n",
       "1  The movie \". . . And The Earth Did not Swallow...   \n",
       "2  I was very moved by the young life experiences...   \n",
       "3  Recently finally available in DVD (11/11/08), ...   \n",
       "4  I saw this movie over 20 years ago and had rat...   \n",
       "\n",
       "                                         review_lemm  \n",
       "0  i rent this movie from a local library without...  \n",
       "1  the movie and the earth do not swallow -PRON- ...  \n",
       "2  i be very move by the young life experience of...  \n",
       "3  recently finally available in dvd severo p rez...  \n",
       "4  i see this movie over year ago and have rather...  "
      ]
     },
     "execution_count": 20,
     "metadata": {},
     "output_type": "execute_result"
    }
   ],
   "source": [
    "data_test.head()"
   ]
  },
  {
   "cell_type": "code",
   "execution_count": 30,
   "id": "ad126cd1",
   "metadata": {},
   "outputs": [
    {
     "name": "stdout",
     "output_type": "stream",
     "text": [
      "(2027,)\n",
      "(2220,)\n",
      "(2027,)\n"
     ]
    }
   ],
   "source": [
    "features_train = data_train[\"review_lemm\"]\n",
    "features_test = data_test[\"review_lemm\"]\n",
    "target_train = data_train[\"pos\"]\n",
    "print(features_train.shape)\n",
    "print(features_test.shape)\n",
    "print(target_train.shape)"
   ]
  },
  {
   "cell_type": "code",
   "execution_count": 42,
   "id": "b47ce8b9",
   "metadata": {},
   "outputs": [],
   "source": [
    "stop_words = set(stopwords.words(\"english\"))\n",
    "count_tf_idf = TfidfVectorizer(stop_words=stop_words)\n",
    "\n",
    "train_tf_idf = count_tf_idf.fit_transform(features_train)\n",
    "test_tf_idf = count_tf_idf.transform(features_test)\n"
   ]
  },
  {
   "cell_type": "code",
   "execution_count": 43,
   "id": "85609598",
   "metadata": {},
   "outputs": [
    {
     "name": "stdout",
     "output_type": "stream",
     "text": [
      "(2027, 18036)\n",
      "(2220, 18036)\n"
     ]
    }
   ],
   "source": [
    "print(train_tf_idf.shape)\n",
    "print(test_tf_idf.shape)"
   ]
  },
  {
   "cell_type": "code",
   "execution_count": 49,
   "id": "fc62fca7",
   "metadata": {},
   "outputs": [
    {
     "data": {
      "text/plain": [
       "0.9521460286137149"
      ]
     },
     "execution_count": 49,
     "metadata": {},
     "output_type": "execute_result"
    }
   ],
   "source": [
    "model = LogisticRegression(solver='liblinear',random_state=12345)\n",
    "model.fit(train_tf_idf, target_train)\n",
    "predict_train = model.predict(train_tf_idf)\n",
    "result_train = accuracy_score(target_train, predict_train)\n",
    "result_train"
   ]
  },
  {
   "cell_type": "code",
   "execution_count": 51,
   "id": "6707563e",
   "metadata": {},
   "outputs": [
    {
     "data": {
      "text/html": [
       "<div>\n",
       "<style scoped>\n",
       "    .dataframe tbody tr th:only-of-type {\n",
       "        vertical-align: middle;\n",
       "    }\n",
       "\n",
       "    .dataframe tbody tr th {\n",
       "        vertical-align: top;\n",
       "    }\n",
       "\n",
       "    .dataframe thead th {\n",
       "        text-align: right;\n",
       "    }\n",
       "</style>\n",
       "<table border=\"1\" class=\"dataframe\">\n",
       "  <thead>\n",
       "    <tr style=\"text-align: right;\">\n",
       "      <th></th>\n",
       "      <th>tconst</th>\n",
       "      <th>original_title</th>\n",
       "      <th>review</th>\n",
       "      <th>review_lemm</th>\n",
       "      <th>pos</th>\n",
       "    </tr>\n",
       "  </thead>\n",
       "  <tbody>\n",
       "    <tr>\n",
       "      <th>0</th>\n",
       "      <td>tt0108999</td>\n",
       "      <td>...And the Earth Did Not Swallow Him</td>\n",
       "      <td>I rented this movie from a local library witho...</td>\n",
       "      <td>i rent this movie from a local library without...</td>\n",
       "      <td>0</td>\n",
       "    </tr>\n",
       "    <tr>\n",
       "      <th>1</th>\n",
       "      <td>tt0108999</td>\n",
       "      <td>...And the Earth Did Not Swallow Him</td>\n",
       "      <td>The movie \". . . And The Earth Did not Swallow...</td>\n",
       "      <td>the movie and the earth do not swallow -PRON- ...</td>\n",
       "      <td>1</td>\n",
       "    </tr>\n",
       "    <tr>\n",
       "      <th>2</th>\n",
       "      <td>tt0108999</td>\n",
       "      <td>...And the Earth Did Not Swallow Him</td>\n",
       "      <td>I was very moved by the young life experiences...</td>\n",
       "      <td>i be very move by the young life experience of...</td>\n",
       "      <td>1</td>\n",
       "    </tr>\n",
       "    <tr>\n",
       "      <th>3</th>\n",
       "      <td>tt0108999</td>\n",
       "      <td>...And the Earth Did Not Swallow Him</td>\n",
       "      <td>Recently finally available in DVD (11/11/08), ...</td>\n",
       "      <td>recently finally available in dvd severo p rez...</td>\n",
       "      <td>1</td>\n",
       "    </tr>\n",
       "    <tr>\n",
       "      <th>4</th>\n",
       "      <td>tt0063308</td>\n",
       "      <td>Un minuto per pregare, un istante per morire</td>\n",
       "      <td>I saw this movie over 20 years ago and had rat...</td>\n",
       "      <td>i see this movie over year ago and have rather...</td>\n",
       "      <td>0</td>\n",
       "    </tr>\n",
       "  </tbody>\n",
       "</table>\n",
       "</div>"
      ],
      "text/plain": [
       "      tconst                                original_title  \\\n",
       "0  tt0108999          ...And the Earth Did Not Swallow Him   \n",
       "1  tt0108999          ...And the Earth Did Not Swallow Him   \n",
       "2  tt0108999          ...And the Earth Did Not Swallow Him   \n",
       "3  tt0108999          ...And the Earth Did Not Swallow Him   \n",
       "4  tt0063308  Un minuto per pregare, un istante per morire   \n",
       "\n",
       "                                              review  \\\n",
       "0  I rented this movie from a local library witho...   \n",
       "1  The movie \". . . And The Earth Did not Swallow...   \n",
       "2  I was very moved by the young life experiences...   \n",
       "3  Recently finally available in DVD (11/11/08), ...   \n",
       "4  I saw this movie over 20 years ago and had rat...   \n",
       "\n",
       "                                         review_lemm  pos  \n",
       "0  i rent this movie from a local library without...    0  \n",
       "1  the movie and the earth do not swallow -PRON- ...    1  \n",
       "2  i be very move by the young life experience of...    1  \n",
       "3  recently finally available in dvd severo p rez...    1  \n",
       "4  i see this movie over year ago and have rather...    0  "
      ]
     },
     "execution_count": 51,
     "metadata": {},
     "output_type": "execute_result"
    }
   ],
   "source": [
    "predict_test = model.predict(test_tf_idf)\n",
    "data_test[\"pos\"] = predict_test\n",
    "data_test.head()"
   ]
  },
  {
   "cell_type": "code",
   "execution_count": 53,
   "id": "cfbceb85",
   "metadata": {},
   "outputs": [],
   "source": [
    "data_test.to_csv(\"predictions\", columns=[\"pos\"], index=False)"
   ]
  },
  {
   "cell_type": "code",
   "execution_count": null,
   "id": "10ef7335",
   "metadata": {},
   "outputs": [],
   "source": []
  },
  {
   "cell_type": "code",
   "execution_count": null,
   "id": "11f45377",
   "metadata": {},
   "outputs": [],
   "source": []
  },
  {
   "cell_type": "code",
   "execution_count": null,
   "id": "2a8a85db",
   "metadata": {},
   "outputs": [],
   "source": []
  }
 ],
 "metadata": {
  "kernelspec": {
   "display_name": "Python 3 (ipykernel)",
   "language": "python",
   "name": "python3"
  },
  "language_info": {
   "codemirror_mode": {
    "name": "ipython",
    "version": 3
   },
   "file_extension": ".py",
   "mimetype": "text/x-python",
   "name": "python",
   "nbconvert_exporter": "python",
   "pygments_lexer": "ipython3",
   "version": "3.7.4"
  }
 },
 "nbformat": 4,
 "nbformat_minor": 5
}
